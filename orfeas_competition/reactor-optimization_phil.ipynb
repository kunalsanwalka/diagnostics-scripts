{
 "cells": [
  {
   "cell_type": "markdown",
   "id": "cd5f0a76",
   "metadata": {},
   "source": [
    "Overleaf doc: https://www.overleaf.com/read/ysgbfhgmndrs"
   ]
  },
  {
   "cell_type": "markdown",
   "id": "21de2130",
   "metadata": {},
   "source": [
    "This notebook requires:\n",
    "- jaxlib (`pip install jaxlib`)\n",
    "- jax\n",
    "- sympy\n",
    "- scipy\n",
    "- sympy2jax (`pip install sympy2jax`) -- but sympy's built-in lambdify should be sufficient for our uses\n",
    "\n",
    "Not needed but in case we want to parse LaTeX:\n",
    "\n",
    "- antlr4 python runtime (`conda install -c conda-forge antlr-python-runtime`) — for sympy's LaTeX parsing"
   ]
  },
  {
   "cell_type": "markdown",
   "id": "beb7cb13",
   "metadata": {},
   "source": [
    "# Setup"
   ]
  },
  {
   "cell_type": "code",
   "execution_count": 1,
   "id": "debdc90f",
   "metadata": {
    "scrolled": false
   },
   "outputs": [
    {
     "data": {
      "text/html": [
       "<style>.container { width:95% !important; }</style>"
      ],
      "text/plain": [
       "<IPython.core.display.HTML object>"
      ]
     },
     "metadata": {},
     "output_type": "display_data"
    }
   ],
   "source": [
    "from IPython.display import display, HTML\n",
    "display(HTML(\"<style>.container { width:95% !important; }</style>\"))"
   ]
  },
  {
   "cell_type": "code",
   "execution_count": 2,
   "id": "a00285a1",
   "metadata": {},
   "outputs": [],
   "source": [
    "import jax\n",
    "import jax.numpy as jnp\n",
    "import sympy\n",
    "# from sympy.parsing.latex import parse_latex\n",
    "# from sympy2jax import sympy2jax\n",
    "import matplotlib.pyplot as plt\n",
    "import scipy\n",
    "import scipy.constants as const\n",
    "import numpy as np\n",
    "import math\n",
    "import scipy.special as sp\n",
    "from jaxopt import Bisection\n",
    "from jaxopt import ScipyRootFinding\n",
    "from tqdm.notebook import tqdm \n",
    "import inspect  # useful for looking into lambdified functions\n",
    "import sys\n",
    "from functools import partial"
   ]
  },
  {
   "cell_type": "code",
   "execution_count": 3,
   "id": "2bfb6669",
   "metadata": {},
   "outputs": [],
   "source": [
    "from jax.config import config\n",
    "config.update(\"jax_enable_x64\", True)  # We need 64 bit floats so that solving for Te (Egedal et al) remains stable for a wide range"
   ]
  },
  {
   "cell_type": "code",
   "execution_count": 4,
   "id": "871ac469",
   "metadata": {},
   "outputs": [],
   "source": [
    "e = np.e\n",
    "ln = np.log\n",
    "ln_j = jnp.log\n",
    "gamma_0 = sp.exp1\n",
    "gamma_0_j = jax.scipy.special.exp1"
   ]
  },
  {
   "cell_type": "code",
   "execution_count": 5,
   "id": "e4d9fbc9",
   "metadata": {},
   "outputs": [],
   "source": [
    "%matplotlib notebook"
   ]
  },
  {
   "cell_type": "markdown",
   "id": "352140fe",
   "metadata": {},
   "source": [
    "---"
   ]
  },
  {
   "cell_type": "markdown",
   "id": "04ca69d0",
   "metadata": {},
   "source": [
    "# Units used"
   ]
  },
  {
   "cell_type": "markdown",
   "id": "39c65ffd",
   "metadata": {},
   "source": [
    "* Temperature: keV\n",
    "* Density: m^-3\n",
    "* Field: T"
   ]
  },
  {
   "cell_type": "markdown",
   "id": "da34d876",
   "metadata": {},
   "source": [
    "# Cary's spreadsheet sanity check"
   ]
  },
  {
   "cell_type": "markdown",
   "id": "1d4be6fb",
   "metadata": {},
   "source": [
    "Spreadsheet benchmark inputs:\n",
    "* $B_p = 6$ T\n",
    "* $B_{p,m} = 30$ T\n",
    "    *    —>    $R_p = 5$ \n",
    "* $\\beta_{limit} = 0.8$\n",
    "* $E_b = 1000$ keV\n",
    "* $r_b = 0.25$ m\n",
    "* $L_p = 4$ m"
   ]
  },
  {
   "cell_type": "markdown",
   "id": "6f5e7ee8",
   "metadata": {},
   "source": [
    "Yields (ignoring finite $\\beta$ effects on the electron temperature):\n",
    "* $T_e = 77.1$ keV\n",
    "* $n_{plug} = 9.68 \\times 10^{19}$ m$^{-3}$"
   ]
  },
  {
   "cell_type": "markdown",
   "id": "7b9baa1f",
   "metadata": {},
   "source": [
    "# Fundamental parameters"
   ]
  },
  {
   "cell_type": "markdown",
   "id": "5458a16c",
   "metadata": {},
   "source": [
    "I'm filling out the parameters as I go along"
   ]
  },
  {
   "cell_type": "markdown",
   "id": "779b86c2",
   "metadata": {},
   "source": [
    "## Sympy variables"
   ]
  },
  {
   "cell_type": "code",
   "execution_count": 6,
   "id": "0a710d67",
   "metadata": {},
   "outputs": [],
   "source": [
    "# Machine / engineering parameters\n",
    "[Eb, # keV\n",
    " beta,\n",
    " B_pm, # Tesla -- plug \n",
    " B_p, # Tesla\n",
    " r_b,\n",
    " L_p,\n",
    " Ti,  # Placeholder (will be calculated later), keV\n",
    " Te,  # Placeholder (will be calculated later), keV\n",
    " DT_reac,  # Placeholder (evaluated after Ti and Te)\n",
    " DD_reac,  # Placeholder -- should really be split into nHe3 and pT at some point\n",
    " p_aux,\n",
    " T_frac,  # fraction of fuel that is tritium (assuming deuterium)\n",
    " Tep_fudge,  # fudge factor for electron temperature when running in a tandem configuration\n",
    " \n",
    " # Tandem parameters\n",
    " B_cc,\n",
    " n_ccr,  # central cell-to-plug density ratio\n",
    " Ti_ccr,  # central cell ion temeprature to plug electron temperature ratio, assumes Maxwellian & thermal eq\n",
    " Te_ccr,  # same, but for Te\n",
    " L_cc,\n",
    " \n",
    " # Engineering parameters\n",
    " Ef_DEC,  # direct energy converter efficiency\n",
    " Ef_TE,  # thermal-to-electric efficiency\n",
    " Ef_ECH, \n",
    " Ef_NBI,\n",
    " Ef_RF,\n",
    " d_blanket,\n",
    " d_vv,\n",
    " a_wall_r,  # vessel wall radius to plasma radius ratio\n",
    " \n",
    " cost_HTS_kAm,\n",
    " coil_spacing_cc\n",
    " \n",
    "] = sympy.symbols('Eb '\n",
    "                  'beta '\n",
    "                  'B_pm '\n",
    "                  'B_p '\n",
    "                  'r_b '\n",
    "                  'L_p '\n",
    "                  'Ti '\n",
    "                  'Te '\n",
    "                  'DT_reac '\n",
    "                  'DD_reac '\n",
    "                  'p_aux '\n",
    "                  'T_frac '\n",
    "                  'Tep_fudge '\n",
    "                  'B_cc '\n",
    "                  'n_ccr '\n",
    "                  'Ti_ccr '\n",
    "                  'Te_ccr '\n",
    "                  'L_cc '\n",
    "                  'Ef_DEC '\n",
    "                  'Ef_TE '\n",
    "                  'Ef_ECH '\n",
    "                  'Ef_NBI '\n",
    "                  'Ef_RF '\n",
    "                  'd_blanket ' \n",
    "                  'd_vv ' \n",
    "                  'a_wall_r '\n",
    "                  'cost_HTS_kAm '\n",
    "                  'coil_spacing_cc')\n",
    "\n",
    "f_Ti = sympy.Function('f_Ti ')\n",
    "f_Te = sympy.Function('f_Te ')\n",
    "f_DT_reac = sympy.Function('f_DT_reac ')\n",
    "f_DD_reac = sympy.Function('f_DD_reac ')\n",
    "\n",
    "# Physics parameters?\n",
    "[mu,\n",
    " Z_eff,\n",
    " I_cooling\n",
    "] = sympy.symbols('mu '\n",
    "                  'Z_eff '\n",
    "                  'I_cooling ')"
   ]
  },
  {
   "cell_type": "markdown",
   "id": "ce149289",
   "metadata": {},
   "source": [
    "## plug_in_values"
   ]
  },
  {
   "cell_type": "code",
   "execution_count": 7,
   "id": "4127b11c",
   "metadata": {},
   "outputs": [],
   "source": [
    "# Use the numpy printer for jax for piecewise functions, stitched together from ComPWA and numpy docs/source:\n",
    "# jax: https://compwa-org.readthedocs.io/report/001.html\n",
    "# numpy: https://github.com/sympy/sympy/blob/master/sympy/printing/pycode.py#L206\n",
    "\n",
    "from sympy.printing.numpy import NumPyPrinter\n",
    "\n",
    "class JaxPrinter(NumPyPrinter):\n",
    "    _module = \"jax\"\n",
    "\n",
    "    def _print_Piecewise(self, expr):\n",
    "        result = []\n",
    "        i = 0\n",
    "        for arg in expr.args:\n",
    "            e = arg.expr\n",
    "            c = arg.cond\n",
    "            if i == 0:\n",
    "                result.append('(')\n",
    "            result.append('(')\n",
    "            result.append(self._print(e))\n",
    "            result.append(')')\n",
    "            result.append(' if ')\n",
    "            result.append(self._print(c))\n",
    "            result.append(' else ')\n",
    "            i += 1\n",
    "        result = result[:-1]\n",
    "        if result[-1] == 'True':\n",
    "            result = result[:-2]\n",
    "            result.append(')')\n",
    "        else:\n",
    "            result.append(' else None)')\n",
    "        return ''.join(result)"
   ]
  },
  {
   "cell_type": "code",
   "execution_count": 8,
   "id": "31e5cdfe",
   "metadata": {},
   "outputs": [],
   "source": [
    "def sub_and_lambdify(equation, values_in, symbol_list_names=None):\n",
    "    eq_in = equation.copy()  # Copy so as not to modify the original function\n",
    "    eq_in = eq_in.subs(Ti, f_Ti(B_pm, B_p, p_aux, Eb))  # Substitute Ti variable with a sympy function\n",
    "    eq_in = eq_in.subs(Te, f_Te(B_pm, B_p, p_aux, Eb) * Tep_fudge)\n",
    "    eq_in = eq_in.subs(DD_reac, f_DD_reac(B_pm, B_p, p_aux, Eb))\n",
    "    eq_in = eq_in.subs(DT_reac, f_DT_reac(B_pm, B_p, p_aux, Eb))\n",
    "    jax_equation = (sympy.lambdify(list(eq_in.free_symbols), eq_in, [jnp, {'f_Ti': values_in['Ti'],  # Subsitute sympy function for jax code\n",
    "                                                                                'f_Te': values_in['Te'],\n",
    "                                                                                'f_DD_reac': values_in['DD_reac'],\n",
    "                                                                                'f_DT_reac': values_in['DT_reac']},\n",
    "                                                                     \"jax\"]))\n",
    "    # If we want to quickly solve for other quantities given Ti and Te, we just remove the dictionary above that calls the functions\n",
    "    #   for calculating Ti and Te (and the reactivities) and put the numbers into the values dictionary. Functions are substituted above\n",
    "    #   so we can calculate gradients all the way through the Ti and Te calculations for JAX\n",
    "    \n",
    "    arg_tuple = tuple(values_in[_.name] for _ in list(eq_in.free_symbols))  # Need to find position of arguments because it's not consistent run-to-run\n",
    "    arg_order = [_.name for _ in list(eq_in.free_symbols)]\n",
    "    \n",
    "    # Return the indicies so we can easily pass in values to the jax function when we're evaluting from a larger set of values. \n",
    "    #   Useful for calculating other quantities (e.g., temperatures) when optimizing for another one.\n",
    "    if symbol_list_names is not None:\n",
    "        arg_idx = jnp.array([symbol_list_names.index(arg_order[_]) for _ in range(len(arg_order))])\n",
    "    else: arg_idx = None\n",
    "    \n",
    "    return eq_in, jax_equation, arg_tuple, arg_idx\n",
    "\n",
    "def evaluate_lambdified_func(sympy_eq_in, jax_eq_in, arg_tuple):\n",
    "    return jax_eq_in(*arg_tuple)\n",
    "\n",
    "def plug_in_values(equation, values_in):\n",
    "    sympy_equation, jax_equation, arg_tuple, arg_idx = sub_and_lambdify(equation, values_in)\n",
    "    result = evaluate_lambdified_func(sympy_equation, jax_equation, arg_tuple)\n",
    "    return result"
   ]
  },
  {
   "cell_type": "markdown",
   "id": "aca775e2",
   "metadata": {},
   "source": [
    "## Values / JAX variables to optimize for"
   ]
  },
  {
   "cell_type": "code",
   "execution_count": 9,
   "id": "564b4cf0",
   "metadata": {},
   "outputs": [],
   "source": [
    "values = {\n",
    "    'Eb': 1000.,\n",
    "    'beta': 0.8,\n",
    "    'B_pm': 30.,\n",
    "    'B_p': 6.,\n",
    "    'r_b': 0.25,\n",
    "    'L_p': 4.,\n",
    "    'p_aux': 0.0,  # this is in addition to synchotron losses (which are calculated separately)\n",
    "    'T_frac': 0.5,\n",
    "    'Tep_fudge': 0.5,  # this should remain constant\n",
    "    \n",
    "    'B_cc': 1.5,\n",
    "    'n_ccr': 0.25,\n",
    "    'Ti_ccr': 1.0,\n",
    "    'Te_ccr': 1.0,\n",
    "    'L_cc': 20.0,\n",
    "\n",
    "    # efficiencies should remain constant\n",
    "    'Ef_DEC': 0.7,\n",
    "    'Ef_TE': 0.5,\n",
    "    'Ef_ECH': 0.6,\n",
    "    'Ef_NBI': 0.6,\n",
    "    'Ef_RF': 0.9,\n",
    "    \n",
    "    # engineering parameters remaining constant (for now)\n",
    "    'd_blanket': 0.6,\n",
    "    'd_vv': 0.2,\n",
    "    'a_wall_r': 1.1,\n",
    "    'cost_HTS_kAm': 1e-4,  # in megadollars (M$)\n",
    "    'coil_spacing_cc': 1.0,  # in meters\n",
    "    \n",
    "    # physical quantities that are remaining constant for simplicity \n",
    "    'mu': 2.5,\n",
    "    'Z_eff': 1.13,\n",
    "    'I_cooling': 0\n",
    "}"
   ]
  },
  {
   "cell_type": "markdown",
   "id": "5faa22a5",
   "metadata": {},
   "source": [
    "## Flags"
   ]
  },
  {
   "cell_type": "code",
   "execution_count": 10,
   "id": "f6d316c0",
   "metadata": {},
   "outputs": [],
   "source": [
    "flags = {\n",
    "    'simple_temps': False,  # assumes Ti_plug = 2/3 E_inj and Te_plug = 0.09 log(Rm/(sqrt(1-beta))^0.4)\n",
    "    'DD_cat': True,  # assumes DD fusion products are burned instantly. Is there any reason to turn this off?\n",
    "    'field_reg_alphas': False,  # Regularize midplane field strengths via an alpha particle gyroradii heuristic\n",
    "    'field_reg_Bohm': False,  # Regularize midplane field via Bohm diffusion heuristic\n",
    "    'cc_aux_ECH': True,  # Use ECH to replace tandem mirror axial losses\n",
    "}"
   ]
  },
  {
   "cell_type": "markdown",
   "id": "973e1b19",
   "metadata": {},
   "source": [
    "# Constants"
   ]
  },
  {
   "cell_type": "code",
   "execution_count": 11,
   "id": "6c107196",
   "metadata": {},
   "outputs": [],
   "source": [
    "E_alpha = 3500  # keV"
   ]
  },
  {
   "cell_type": "markdown",
   "id": "0d6de9de",
   "metadata": {},
   "source": [
    "# General formulae"
   ]
  },
  {
   "cell_type": "code",
   "execution_count": null,
   "id": "a1866aca",
   "metadata": {},
   "outputs": [],
   "source": []
  },
  {
   "cell_type": "markdown",
   "id": "a6fd1748",
   "metadata": {},
   "source": [
    "## Cross section / reactivity paramterization"
   ]
  },
  {
   "cell_type": "markdown",
   "id": "b6174800",
   "metadata": {},
   "source": [
    "Accepts: ion temperature in keV. Yields: reactivity in cm$^3$/s"
   ]
  },
  {
   "cell_type": "markdown",
   "id": "06e3ea84",
   "metadata": {},
   "source": [
    "These constants are valid for 0.2-100 keV (Maxwellian) ion temperatures. Verified correct to 4 decimal places for 0.2, 1, and 10 keV."
   ]
  },
  {
   "cell_type": "code",
   "execution_count": 12,
   "id": "8f99de64",
   "metadata": {},
   "outputs": [],
   "source": [
    "DT_BG = 34.3827 # keV^0.5\n",
    "DT_mrc2 = 1124656 # keV\n",
    "DT_C1 = 1.17302e-9\n",
    "DT_C2 = 1.51361e-2\n",
    "DT_C3 = 7.51886e-2\n",
    "DT_C4 = 4.60643e-3\n",
    "DT_C5 = 1.35e-2\n",
    "DT_C6 = -1.06750e-4\n",
    "DT_C7 = 1.366e-5"
   ]
  },
  {
   "cell_type": "code",
   "execution_count": 13,
   "id": "dc531b7b",
   "metadata": {},
   "outputs": [],
   "source": [
    "DD_pT_BG = 31.3970 # keV^0.5\n",
    "DD_pT_mrc2 = 937814 # keV\n",
    "DD_pT_C1 = 5.65718e-12\n",
    "DD_pT_C2 = 3.41267e-3\n",
    "DD_pT_C3 = 1.99167e-3\n",
    "DD_pT_C4 = 0\n",
    "DD_pT_C5 = 1.05060e-5\n",
    "DD_pT_C6 = 0\n",
    "DD_pT_C7 = 0"
   ]
  },
  {
   "cell_type": "code",
   "execution_count": 14,
   "id": "5045a628",
   "metadata": {},
   "outputs": [],
   "source": [
    "DD_nHe_BG = 31.3970 # keV^0.5\n",
    "DD_nHe_mrc2 = 937814 # keV\n",
    "DD_nHe_C1 = 5.43360e-12\n",
    "DD_nHe_C2 = 5.85778e-3\n",
    "DD_nHe_C3 = 7.68222e-3\n",
    "DD_nHe_C4 = 0\n",
    "DD_nHe_C5 = -2.96400e-6\n",
    "DD_nHe_C6 = 0\n",
    "DD_nHe_C7 = 0"
   ]
  },
  {
   "cell_type": "code",
   "execution_count": 15,
   "id": "46135845",
   "metadata": {},
   "outputs": [],
   "source": [
    "DT_theta = Ti / (1 -  Ti * (DT_C2 + Ti * (DT_C4 + Ti * DT_C6)) / (1 + Ti * (DT_C3 + Ti * (DT_C5 + Ti * DT_C7))))\n",
    "DT_xi = (DT_BG ** 2 / (4 * DT_theta)) ** (1/3)\n",
    "DT_reactivity = DT_C1 * DT_theta * (DT_xi / (DT_mrc2 * Ti ** 3)) ** 0.5 * sympy.E ** (-3 * DT_xi) / 1e6"
   ]
  },
  {
   "cell_type": "code",
   "execution_count": 16,
   "id": "e0b74982",
   "metadata": {
    "scrolled": true
   },
   "outputs": [],
   "source": [
    "DD_pT_theta = Ti / (1 -  Ti * (DD_pT_C2 + Ti * (DD_pT_C4 + Ti * DD_pT_C6)) / (1 + Ti * (DD_pT_C3 + Ti * (DD_pT_C5 + Ti * DD_pT_C7))))\n",
    "DD_pT_xi = (DD_pT_BG ** 2 / (4 * DD_pT_theta)) ** (1/3)\n",
    "DD_pT_reactivity = DD_pT_C1 * DD_pT_theta * (DD_pT_xi / (DD_pT_mrc2 * Ti ** 3)) ** 0.5 * sympy.E ** (-3 * DD_pT_xi) / 1e6"
   ]
  },
  {
   "cell_type": "code",
   "execution_count": 17,
   "id": "90b0843c",
   "metadata": {},
   "outputs": [],
   "source": [
    "DD_nHe_theta = Ti / (1 -  Ti * (DD_nHe_C2 + Ti * (DD_nHe_C4 + Ti * DD_nHe_C6)) / (1 + Ti * (DD_nHe_C3 + Ti * (DD_nHe_C5 + Ti * DD_nHe_C7))))\n",
    "DD_nHe_xi = (DD_nHe_BG ** 2 / (4 * DD_nHe_theta)) ** (1/3)\n",
    "DD_nHe_reactivity = DD_nHe_C1 * DD_nHe_theta * (DD_nHe_xi / (DD_nHe_mrc2 * Ti ** 3)) ** 0.5 * sympy.E ** (-3 * DD_nHe_xi) / 1e6"
   ]
  },
  {
   "cell_type": "code",
   "execution_count": 18,
   "id": "5ae75165",
   "metadata": {},
   "outputs": [],
   "source": [
    "test_DD_nHe_theta = Ti / (1 -  Ti * (DD_nHe_C2 + Ti * (DD_nHe_C4 + Ti * DD_nHe_C6)) / (1 + Ti * (DD_nHe_C3 + Ti * (0.0 + Ti * DD_nHe_C7))))\n",
    "test_DD_nHe_xi = (DD_nHe_BG ** 2 / (4 * test_DD_nHe_theta)) ** (1/3)\n",
    "test_DD_nHe_reactivity = DD_nHe_C1 * test_DD_nHe_theta * (test_DD_nHe_xi / (DD_nHe_mrc2 * Ti ** 3)) ** 0.5 * sympy.E ** (-3 * test_DD_nHe_xi) / 1e6"
   ]
  },
  {
   "cell_type": "code",
   "execution_count": 19,
   "id": "f692efed",
   "metadata": {},
   "outputs": [],
   "source": [
    "jax_DT_reactivity = sympy.lambdify(list(DT_reactivity.free_symbols), DT_reactivity, jax.numpy)\n",
    "jax_DD_pT_reactivity = sympy.lambdify(list(DD_pT_reactivity.free_symbols), DD_pT_reactivity, jax.numpy)\n",
    "jax_DD_nHe_reactivity = sympy.lambdify(list(DD_nHe_reactivity.free_symbols), DD_nHe_reactivity, jax.numpy)\n",
    "test_jax_DD_nHe_reactivity = sympy.lambdify(list(test_DD_nHe_reactivity.free_symbols), test_DD_nHe_reactivity, jax.numpy)"
   ]
  },
  {
   "cell_type": "markdown",
   "id": "5f9e796f",
   "metadata": {},
   "source": [
    "## Cross section via interpolation from NRL"
   ]
  },
  {
   "cell_type": "markdown",
   "id": "c1325264",
   "metadata": {},
   "source": [
    "polyfit (isn't good) -- not used"
   ]
  },
  {
   "cell_type": "code",
   "execution_count": 20,
   "id": "173ef165",
   "metadata": {},
   "outputs": [],
   "source": [
    "def calc_lin_reactivity(coefficients, x):\n",
    "    num_c = coefficients.shape[-1]\n",
    "    num_x = x.shape[0]\n",
    "    x_mat = 1 - jnp.triu(jnp.ones((num_c, num_c)))[jnp.newaxis, :, :].repeat(num_x, axis=0)\n",
    "    x_mat = x_mat * x.reshape(num_x, 1, 1)\n",
    "    x_mat = jnp.tri(num_c).transpose() + x_mat\n",
    "#     print(x_mat)\n",
    "    x = jnp.product(x_mat, axis=-2)\n",
    "    return jnp.sum(x*coefficients, axis=1)"
   ]
  },
  {
   "cell_type": "markdown",
   "id": "002038ed",
   "metadata": {},
   "source": [
    "Linearly interpolate between reactivity datapoints from the NRL formulary (in log-log space) (cm^3! need to divide by 1e6 to get m^3/s)"
   ]
  },
  {
   "cell_type": "code",
   "execution_count": 21,
   "id": "a129d9e7",
   "metadata": {},
   "outputs": [],
   "source": [
    "linear_reactivity_temps = jnp.array([1.0, 2.0, 5.0, 10.0, 20.0, 50.0, 100.0, 200.0, 500.0, 1000.0])\n",
    "linear_reactivity_DT = jnp.array([5.5e-21, 2.6e-19,  1.3e-17,  1.1e-16,  4.2e-16,  8.7e-16,  8.5e-16,  6.3e-16,  3.7e-16,  2.7e-16]) / 1e6\n",
    "linear_reactivity_DD = jnp.array([1.5e-22, 5.4e-21, 1.8e-19, 1.2e-18, 5.2e-18, 2.1e-17, 4.5e-17, 8.8e-17, 1.8e-16, 2.2e-16]) / 1e6\n",
    "linear_reactivity_DHe3 = jnp.array([1e-26, 1.4e-23, 6.7e-21, 2.3e-19, 3.8e-18, 5.4e-17, 1.6e-16, 2.4e-16, 2.3e-16, 1.8e-16]) / 1e6"
   ]
  },
  {
   "cell_type": "code",
   "execution_count": 22,
   "id": "5eca35c2",
   "metadata": {},
   "outputs": [],
   "source": [
    "lin_c = jnp.polyfit(linear_reactivity_temps, linear_reactivity_DD, deg=3)"
   ]
  },
  {
   "cell_type": "code",
   "execution_count": 23,
   "id": "a3941e94",
   "metadata": {},
   "outputs": [],
   "source": [
    "def calc_DT_reactivity_linear(Ti):\n",
    "    return jnp.e ** jnp.interp(jnp.log(Ti), jnp.log(linear_reactivity_temps), jnp.log(linear_reactivity_DT))\n",
    "\n",
    "def calc_DD_reactivity_linear(Ti):\n",
    "    return jnp.e ** jnp.interp(jnp.log(Ti), jnp.log(linear_reactivity_temps), jnp.log(linear_reactivity_DD))\n",
    "\n",
    "def calc_DHe3_reactivity_linear(Ti):\n",
    "    return jnp.e ** jnp.interp(jnp.log(Ti), jnp.log(linear_reactivity_temps), jnp.log(linear_reactivity_DHe3))"
   ]
  },
  {
   "cell_type": "markdown",
   "id": "49570ff9",
   "metadata": {},
   "source": [
    "## Cross section comparison"
   ]
  },
  {
   "cell_type": "code",
   "execution_count": 24,
   "id": "b4e1c0d8",
   "metadata": {},
   "outputs": [
    {
     "data": {
      "application/javascript": [
       "/* Put everything inside the global mpl namespace */\n",
       "/* global mpl */\n",
       "window.mpl = {};\n",
       "\n",
       "mpl.get_websocket_type = function () {\n",
       "    if (typeof WebSocket !== 'undefined') {\n",
       "        return WebSocket;\n",
       "    } else if (typeof MozWebSocket !== 'undefined') {\n",
       "        return MozWebSocket;\n",
       "    } else {\n",
       "        alert(\n",
       "            'Your browser does not have WebSocket support. ' +\n",
       "                'Please try Chrome, Safari or Firefox ≥ 6. ' +\n",
       "                'Firefox 4 and 5 are also supported but you ' +\n",
       "                'have to enable WebSockets in about:config.'\n",
       "        );\n",
       "    }\n",
       "};\n",
       "\n",
       "mpl.figure = function (figure_id, websocket, ondownload, parent_element) {\n",
       "    this.id = figure_id;\n",
       "\n",
       "    this.ws = websocket;\n",
       "\n",
       "    this.supports_binary = this.ws.binaryType !== undefined;\n",
       "\n",
       "    if (!this.supports_binary) {\n",
       "        var warnings = document.getElementById('mpl-warnings');\n",
       "        if (warnings) {\n",
       "            warnings.style.display = 'block';\n",
       "            warnings.textContent =\n",
       "                'This browser does not support binary websocket messages. ' +\n",
       "                'Performance may be slow.';\n",
       "        }\n",
       "    }\n",
       "\n",
       "    this.imageObj = new Image();\n",
       "\n",
       "    this.context = undefined;\n",
       "    this.message = undefined;\n",
       "    this.canvas = undefined;\n",
       "    this.rubberband_canvas = undefined;\n",
       "    this.rubberband_context = undefined;\n",
       "    this.format_dropdown = undefined;\n",
       "\n",
       "    this.image_mode = 'full';\n",
       "\n",
       "    this.root = document.createElement('div');\n",
       "    this.root.setAttribute('style', 'display: inline-block');\n",
       "    this._root_extra_style(this.root);\n",
       "\n",
       "    parent_element.appendChild(this.root);\n",
       "\n",
       "    this._init_header(this);\n",
       "    this._init_canvas(this);\n",
       "    this._init_toolbar(this);\n",
       "\n",
       "    var fig = this;\n",
       "\n",
       "    this.waiting = false;\n",
       "\n",
       "    this.ws.onopen = function () {\n",
       "        fig.send_message('supports_binary', { value: fig.supports_binary });\n",
       "        fig.send_message('send_image_mode', {});\n",
       "        if (fig.ratio !== 1) {\n",
       "            fig.send_message('set_device_pixel_ratio', {\n",
       "                device_pixel_ratio: fig.ratio,\n",
       "            });\n",
       "        }\n",
       "        fig.send_message('refresh', {});\n",
       "    };\n",
       "\n",
       "    this.imageObj.onload = function () {\n",
       "        if (fig.image_mode === 'full') {\n",
       "            // Full images could contain transparency (where diff images\n",
       "            // almost always do), so we need to clear the canvas so that\n",
       "            // there is no ghosting.\n",
       "            fig.context.clearRect(0, 0, fig.canvas.width, fig.canvas.height);\n",
       "        }\n",
       "        fig.context.drawImage(fig.imageObj, 0, 0);\n",
       "    };\n",
       "\n",
       "    this.imageObj.onunload = function () {\n",
       "        fig.ws.close();\n",
       "    };\n",
       "\n",
       "    this.ws.onmessage = this._make_on_message_function(this);\n",
       "\n",
       "    this.ondownload = ondownload;\n",
       "};\n",
       "\n",
       "mpl.figure.prototype._init_header = function () {\n",
       "    var titlebar = document.createElement('div');\n",
       "    titlebar.classList =\n",
       "        'ui-dialog-titlebar ui-widget-header ui-corner-all ui-helper-clearfix';\n",
       "    var titletext = document.createElement('div');\n",
       "    titletext.classList = 'ui-dialog-title';\n",
       "    titletext.setAttribute(\n",
       "        'style',\n",
       "        'width: 100%; text-align: center; padding: 3px;'\n",
       "    );\n",
       "    titlebar.appendChild(titletext);\n",
       "    this.root.appendChild(titlebar);\n",
       "    this.header = titletext;\n",
       "};\n",
       "\n",
       "mpl.figure.prototype._canvas_extra_style = function (_canvas_div) {};\n",
       "\n",
       "mpl.figure.prototype._root_extra_style = function (_canvas_div) {};\n",
       "\n",
       "mpl.figure.prototype._init_canvas = function () {\n",
       "    var fig = this;\n",
       "\n",
       "    var canvas_div = (this.canvas_div = document.createElement('div'));\n",
       "    canvas_div.setAttribute('tabindex', '0');\n",
       "    canvas_div.setAttribute(\n",
       "        'style',\n",
       "        'border: 1px solid #ddd;' +\n",
       "            'box-sizing: content-box;' +\n",
       "            'clear: both;' +\n",
       "            'min-height: 1px;' +\n",
       "            'min-width: 1px;' +\n",
       "            'outline: 0;' +\n",
       "            'overflow: hidden;' +\n",
       "            'position: relative;' +\n",
       "            'resize: both;' +\n",
       "            'z-index: 2;'\n",
       "    );\n",
       "\n",
       "    function on_keyboard_event_closure(name) {\n",
       "        return function (event) {\n",
       "            return fig.key_event(event, name);\n",
       "        };\n",
       "    }\n",
       "\n",
       "    canvas_div.addEventListener(\n",
       "        'keydown',\n",
       "        on_keyboard_event_closure('key_press')\n",
       "    );\n",
       "    canvas_div.addEventListener(\n",
       "        'keyup',\n",
       "        on_keyboard_event_closure('key_release')\n",
       "    );\n",
       "\n",
       "    this._canvas_extra_style(canvas_div);\n",
       "    this.root.appendChild(canvas_div);\n",
       "\n",
       "    var canvas = (this.canvas = document.createElement('canvas'));\n",
       "    canvas.classList.add('mpl-canvas');\n",
       "    canvas.setAttribute(\n",
       "        'style',\n",
       "        'box-sizing: content-box;' +\n",
       "            'pointer-events: none;' +\n",
       "            'position: relative;' +\n",
       "            'z-index: 0;'\n",
       "    );\n",
       "\n",
       "    this.context = canvas.getContext('2d');\n",
       "\n",
       "    var backingStore =\n",
       "        this.context.backingStorePixelRatio ||\n",
       "        this.context.webkitBackingStorePixelRatio ||\n",
       "        this.context.mozBackingStorePixelRatio ||\n",
       "        this.context.msBackingStorePixelRatio ||\n",
       "        this.context.oBackingStorePixelRatio ||\n",
       "        this.context.backingStorePixelRatio ||\n",
       "        1;\n",
       "\n",
       "    this.ratio = (window.devicePixelRatio || 1) / backingStore;\n",
       "\n",
       "    var rubberband_canvas = (this.rubberband_canvas = document.createElement(\n",
       "        'canvas'\n",
       "    ));\n",
       "    rubberband_canvas.setAttribute(\n",
       "        'style',\n",
       "        'box-sizing: content-box;' +\n",
       "            'left: 0;' +\n",
       "            'pointer-events: none;' +\n",
       "            'position: absolute;' +\n",
       "            'top: 0;' +\n",
       "            'z-index: 1;'\n",
       "    );\n",
       "\n",
       "    // Apply a ponyfill if ResizeObserver is not implemented by browser.\n",
       "    if (this.ResizeObserver === undefined) {\n",
       "        if (window.ResizeObserver !== undefined) {\n",
       "            this.ResizeObserver = window.ResizeObserver;\n",
       "        } else {\n",
       "            var obs = _JSXTOOLS_RESIZE_OBSERVER({});\n",
       "            this.ResizeObserver = obs.ResizeObserver;\n",
       "        }\n",
       "    }\n",
       "\n",
       "    this.resizeObserverInstance = new this.ResizeObserver(function (entries) {\n",
       "        var nentries = entries.length;\n",
       "        for (var i = 0; i < nentries; i++) {\n",
       "            var entry = entries[i];\n",
       "            var width, height;\n",
       "            if (entry.contentBoxSize) {\n",
       "                if (entry.contentBoxSize instanceof Array) {\n",
       "                    // Chrome 84 implements new version of spec.\n",
       "                    width = entry.contentBoxSize[0].inlineSize;\n",
       "                    height = entry.contentBoxSize[0].blockSize;\n",
       "                } else {\n",
       "                    // Firefox implements old version of spec.\n",
       "                    width = entry.contentBoxSize.inlineSize;\n",
       "                    height = entry.contentBoxSize.blockSize;\n",
       "                }\n",
       "            } else {\n",
       "                // Chrome <84 implements even older version of spec.\n",
       "                width = entry.contentRect.width;\n",
       "                height = entry.contentRect.height;\n",
       "            }\n",
       "\n",
       "            // Keep the size of the canvas and rubber band canvas in sync with\n",
       "            // the canvas container.\n",
       "            if (entry.devicePixelContentBoxSize) {\n",
       "                // Chrome 84 implements new version of spec.\n",
       "                canvas.setAttribute(\n",
       "                    'width',\n",
       "                    entry.devicePixelContentBoxSize[0].inlineSize\n",
       "                );\n",
       "                canvas.setAttribute(\n",
       "                    'height',\n",
       "                    entry.devicePixelContentBoxSize[0].blockSize\n",
       "                );\n",
       "            } else {\n",
       "                canvas.setAttribute('width', width * fig.ratio);\n",
       "                canvas.setAttribute('height', height * fig.ratio);\n",
       "            }\n",
       "            /* This rescales the canvas back to display pixels, so that it\n",
       "             * appears correct on HiDPI screens. */\n",
       "            canvas.style.width = width + 'px';\n",
       "            canvas.style.height = height + 'px';\n",
       "\n",
       "            rubberband_canvas.setAttribute('width', width);\n",
       "            rubberband_canvas.setAttribute('height', height);\n",
       "\n",
       "            // And update the size in Python. We ignore the initial 0/0 size\n",
       "            // that occurs as the element is placed into the DOM, which should\n",
       "            // otherwise not happen due to the minimum size styling.\n",
       "            if (fig.ws.readyState == 1 && width != 0 && height != 0) {\n",
       "                fig.request_resize(width, height);\n",
       "            }\n",
       "        }\n",
       "    });\n",
       "    this.resizeObserverInstance.observe(canvas_div);\n",
       "\n",
       "    function on_mouse_event_closure(name) {\n",
       "        /* User Agent sniffing is bad, but WebKit is busted:\n",
       "         * https://bugs.webkit.org/show_bug.cgi?id=144526\n",
       "         * https://bugs.webkit.org/show_bug.cgi?id=181818\n",
       "         * The worst that happens here is that they get an extra browser\n",
       "         * selection when dragging, if this check fails to catch them.\n",
       "         */\n",
       "        var UA = navigator.userAgent;\n",
       "        var isWebKit = /AppleWebKit/.test(UA) && !/Chrome/.test(UA);\n",
       "        if(isWebKit) {\n",
       "            return function (event) {\n",
       "                /* This prevents the web browser from automatically changing to\n",
       "                 * the text insertion cursor when the button is pressed. We\n",
       "                 * want to control all of the cursor setting manually through\n",
       "                 * the 'cursor' event from matplotlib */\n",
       "                event.preventDefault()\n",
       "                return fig.mouse_event(event, name);\n",
       "            };\n",
       "        } else {\n",
       "            return function (event) {\n",
       "                return fig.mouse_event(event, name);\n",
       "            };\n",
       "        }\n",
       "    }\n",
       "\n",
       "    canvas_div.addEventListener(\n",
       "        'mousedown',\n",
       "        on_mouse_event_closure('button_press')\n",
       "    );\n",
       "    canvas_div.addEventListener(\n",
       "        'mouseup',\n",
       "        on_mouse_event_closure('button_release')\n",
       "    );\n",
       "    canvas_div.addEventListener(\n",
       "        'dblclick',\n",
       "        on_mouse_event_closure('dblclick')\n",
       "    );\n",
       "    // Throttle sequential mouse events to 1 every 20ms.\n",
       "    canvas_div.addEventListener(\n",
       "        'mousemove',\n",
       "        on_mouse_event_closure('motion_notify')\n",
       "    );\n",
       "\n",
       "    canvas_div.addEventListener(\n",
       "        'mouseenter',\n",
       "        on_mouse_event_closure('figure_enter')\n",
       "    );\n",
       "    canvas_div.addEventListener(\n",
       "        'mouseleave',\n",
       "        on_mouse_event_closure('figure_leave')\n",
       "    );\n",
       "\n",
       "    canvas_div.addEventListener('wheel', function (event) {\n",
       "        if (event.deltaY < 0) {\n",
       "            event.step = 1;\n",
       "        } else {\n",
       "            event.step = -1;\n",
       "        }\n",
       "        on_mouse_event_closure('scroll')(event);\n",
       "    });\n",
       "\n",
       "    canvas_div.appendChild(canvas);\n",
       "    canvas_div.appendChild(rubberband_canvas);\n",
       "\n",
       "    this.rubberband_context = rubberband_canvas.getContext('2d');\n",
       "    this.rubberband_context.strokeStyle = '#000000';\n",
       "\n",
       "    this._resize_canvas = function (width, height, forward) {\n",
       "        if (forward) {\n",
       "            canvas_div.style.width = width + 'px';\n",
       "            canvas_div.style.height = height + 'px';\n",
       "        }\n",
       "    };\n",
       "\n",
       "    // Disable right mouse context menu.\n",
       "    canvas_div.addEventListener('contextmenu', function (_e) {\n",
       "        event.preventDefault();\n",
       "        return false;\n",
       "    });\n",
       "\n",
       "    function set_focus() {\n",
       "        canvas.focus();\n",
       "        canvas_div.focus();\n",
       "    }\n",
       "\n",
       "    window.setTimeout(set_focus, 100);\n",
       "};\n",
       "\n",
       "mpl.figure.prototype._init_toolbar = function () {\n",
       "    var fig = this;\n",
       "\n",
       "    var toolbar = document.createElement('div');\n",
       "    toolbar.classList = 'mpl-toolbar';\n",
       "    this.root.appendChild(toolbar);\n",
       "\n",
       "    function on_click_closure(name) {\n",
       "        return function (_event) {\n",
       "            return fig.toolbar_button_onclick(name);\n",
       "        };\n",
       "    }\n",
       "\n",
       "    function on_mouseover_closure(tooltip) {\n",
       "        return function (event) {\n",
       "            if (!event.currentTarget.disabled) {\n",
       "                return fig.toolbar_button_onmouseover(tooltip);\n",
       "            }\n",
       "        };\n",
       "    }\n",
       "\n",
       "    fig.buttons = {};\n",
       "    var buttonGroup = document.createElement('div');\n",
       "    buttonGroup.classList = 'mpl-button-group';\n",
       "    for (var toolbar_ind in mpl.toolbar_items) {\n",
       "        var name = mpl.toolbar_items[toolbar_ind][0];\n",
       "        var tooltip = mpl.toolbar_items[toolbar_ind][1];\n",
       "        var image = mpl.toolbar_items[toolbar_ind][2];\n",
       "        var method_name = mpl.toolbar_items[toolbar_ind][3];\n",
       "\n",
       "        if (!name) {\n",
       "            /* Instead of a spacer, we start a new button group. */\n",
       "            if (buttonGroup.hasChildNodes()) {\n",
       "                toolbar.appendChild(buttonGroup);\n",
       "            }\n",
       "            buttonGroup = document.createElement('div');\n",
       "            buttonGroup.classList = 'mpl-button-group';\n",
       "            continue;\n",
       "        }\n",
       "\n",
       "        var button = (fig.buttons[name] = document.createElement('button'));\n",
       "        button.classList = 'mpl-widget';\n",
       "        button.setAttribute('role', 'button');\n",
       "        button.setAttribute('aria-disabled', 'false');\n",
       "        button.addEventListener('click', on_click_closure(method_name));\n",
       "        button.addEventListener('mouseover', on_mouseover_closure(tooltip));\n",
       "\n",
       "        var icon_img = document.createElement('img');\n",
       "        icon_img.src = '_images/' + image + '.png';\n",
       "        icon_img.srcset = '_images/' + image + '_large.png 2x';\n",
       "        icon_img.alt = tooltip;\n",
       "        button.appendChild(icon_img);\n",
       "\n",
       "        buttonGroup.appendChild(button);\n",
       "    }\n",
       "\n",
       "    if (buttonGroup.hasChildNodes()) {\n",
       "        toolbar.appendChild(buttonGroup);\n",
       "    }\n",
       "\n",
       "    var fmt_picker = document.createElement('select');\n",
       "    fmt_picker.classList = 'mpl-widget';\n",
       "    toolbar.appendChild(fmt_picker);\n",
       "    this.format_dropdown = fmt_picker;\n",
       "\n",
       "    for (var ind in mpl.extensions) {\n",
       "        var fmt = mpl.extensions[ind];\n",
       "        var option = document.createElement('option');\n",
       "        option.selected = fmt === mpl.default_extension;\n",
       "        option.innerHTML = fmt;\n",
       "        fmt_picker.appendChild(option);\n",
       "    }\n",
       "\n",
       "    var status_bar = document.createElement('span');\n",
       "    status_bar.classList = 'mpl-message';\n",
       "    toolbar.appendChild(status_bar);\n",
       "    this.message = status_bar;\n",
       "};\n",
       "\n",
       "mpl.figure.prototype.request_resize = function (x_pixels, y_pixels) {\n",
       "    // Request matplotlib to resize the figure. Matplotlib will then trigger a resize in the client,\n",
       "    // which will in turn request a refresh of the image.\n",
       "    this.send_message('resize', { width: x_pixels, height: y_pixels });\n",
       "};\n",
       "\n",
       "mpl.figure.prototype.send_message = function (type, properties) {\n",
       "    properties['type'] = type;\n",
       "    properties['figure_id'] = this.id;\n",
       "    this.ws.send(JSON.stringify(properties));\n",
       "};\n",
       "\n",
       "mpl.figure.prototype.send_draw_message = function () {\n",
       "    if (!this.waiting) {\n",
       "        this.waiting = true;\n",
       "        this.ws.send(JSON.stringify({ type: 'draw', figure_id: this.id }));\n",
       "    }\n",
       "};\n",
       "\n",
       "mpl.figure.prototype.handle_save = function (fig, _msg) {\n",
       "    var format_dropdown = fig.format_dropdown;\n",
       "    var format = format_dropdown.options[format_dropdown.selectedIndex].value;\n",
       "    fig.ondownload(fig, format);\n",
       "};\n",
       "\n",
       "mpl.figure.prototype.handle_resize = function (fig, msg) {\n",
       "    var size = msg['size'];\n",
       "    if (size[0] !== fig.canvas.width || size[1] !== fig.canvas.height) {\n",
       "        fig._resize_canvas(size[0], size[1], msg['forward']);\n",
       "        fig.send_message('refresh', {});\n",
       "    }\n",
       "};\n",
       "\n",
       "mpl.figure.prototype.handle_rubberband = function (fig, msg) {\n",
       "    var x0 = msg['x0'] / fig.ratio;\n",
       "    var y0 = (fig.canvas.height - msg['y0']) / fig.ratio;\n",
       "    var x1 = msg['x1'] / fig.ratio;\n",
       "    var y1 = (fig.canvas.height - msg['y1']) / fig.ratio;\n",
       "    x0 = Math.floor(x0) + 0.5;\n",
       "    y0 = Math.floor(y0) + 0.5;\n",
       "    x1 = Math.floor(x1) + 0.5;\n",
       "    y1 = Math.floor(y1) + 0.5;\n",
       "    var min_x = Math.min(x0, x1);\n",
       "    var min_y = Math.min(y0, y1);\n",
       "    var width = Math.abs(x1 - x0);\n",
       "    var height = Math.abs(y1 - y0);\n",
       "\n",
       "    fig.rubberband_context.clearRect(\n",
       "        0,\n",
       "        0,\n",
       "        fig.canvas.width / fig.ratio,\n",
       "        fig.canvas.height / fig.ratio\n",
       "    );\n",
       "\n",
       "    fig.rubberband_context.strokeRect(min_x, min_y, width, height);\n",
       "};\n",
       "\n",
       "mpl.figure.prototype.handle_figure_label = function (fig, msg) {\n",
       "    // Updates the figure title.\n",
       "    fig.header.textContent = msg['label'];\n",
       "};\n",
       "\n",
       "mpl.figure.prototype.handle_cursor = function (fig, msg) {\n",
       "    fig.canvas_div.style.cursor = msg['cursor'];\n",
       "};\n",
       "\n",
       "mpl.figure.prototype.handle_message = function (fig, msg) {\n",
       "    fig.message.textContent = msg['message'];\n",
       "};\n",
       "\n",
       "mpl.figure.prototype.handle_draw = function (fig, _msg) {\n",
       "    // Request the server to send over a new figure.\n",
       "    fig.send_draw_message();\n",
       "};\n",
       "\n",
       "mpl.figure.prototype.handle_image_mode = function (fig, msg) {\n",
       "    fig.image_mode = msg['mode'];\n",
       "};\n",
       "\n",
       "mpl.figure.prototype.handle_history_buttons = function (fig, msg) {\n",
       "    for (var key in msg) {\n",
       "        if (!(key in fig.buttons)) {\n",
       "            continue;\n",
       "        }\n",
       "        fig.buttons[key].disabled = !msg[key];\n",
       "        fig.buttons[key].setAttribute('aria-disabled', !msg[key]);\n",
       "    }\n",
       "};\n",
       "\n",
       "mpl.figure.prototype.handle_navigate_mode = function (fig, msg) {\n",
       "    if (msg['mode'] === 'PAN') {\n",
       "        fig.buttons['Pan'].classList.add('active');\n",
       "        fig.buttons['Zoom'].classList.remove('active');\n",
       "    } else if (msg['mode'] === 'ZOOM') {\n",
       "        fig.buttons['Pan'].classList.remove('active');\n",
       "        fig.buttons['Zoom'].classList.add('active');\n",
       "    } else {\n",
       "        fig.buttons['Pan'].classList.remove('active');\n",
       "        fig.buttons['Zoom'].classList.remove('active');\n",
       "    }\n",
       "};\n",
       "\n",
       "mpl.figure.prototype.updated_canvas_event = function () {\n",
       "    // Called whenever the canvas gets updated.\n",
       "    this.send_message('ack', {});\n",
       "};\n",
       "\n",
       "// A function to construct a web socket function for onmessage handling.\n",
       "// Called in the figure constructor.\n",
       "mpl.figure.prototype._make_on_message_function = function (fig) {\n",
       "    return function socket_on_message(evt) {\n",
       "        if (evt.data instanceof Blob) {\n",
       "            var img = evt.data;\n",
       "            if (img.type !== 'image/png') {\n",
       "                /* FIXME: We get \"Resource interpreted as Image but\n",
       "                 * transferred with MIME type text/plain:\" errors on\n",
       "                 * Chrome.  But how to set the MIME type?  It doesn't seem\n",
       "                 * to be part of the websocket stream */\n",
       "                img.type = 'image/png';\n",
       "            }\n",
       "\n",
       "            /* Free the memory for the previous frames */\n",
       "            if (fig.imageObj.src) {\n",
       "                (window.URL || window.webkitURL).revokeObjectURL(\n",
       "                    fig.imageObj.src\n",
       "                );\n",
       "            }\n",
       "\n",
       "            fig.imageObj.src = (window.URL || window.webkitURL).createObjectURL(\n",
       "                img\n",
       "            );\n",
       "            fig.updated_canvas_event();\n",
       "            fig.waiting = false;\n",
       "            return;\n",
       "        } else if (\n",
       "            typeof evt.data === 'string' &&\n",
       "            evt.data.slice(0, 21) === 'data:image/png;base64'\n",
       "        ) {\n",
       "            fig.imageObj.src = evt.data;\n",
       "            fig.updated_canvas_event();\n",
       "            fig.waiting = false;\n",
       "            return;\n",
       "        }\n",
       "\n",
       "        var msg = JSON.parse(evt.data);\n",
       "        var msg_type = msg['type'];\n",
       "\n",
       "        // Call the  \"handle_{type}\" callback, which takes\n",
       "        // the figure and JSON message as its only arguments.\n",
       "        try {\n",
       "            var callback = fig['handle_' + msg_type];\n",
       "        } catch (e) {\n",
       "            console.log(\n",
       "                \"No handler for the '\" + msg_type + \"' message type: \",\n",
       "                msg\n",
       "            );\n",
       "            return;\n",
       "        }\n",
       "\n",
       "        if (callback) {\n",
       "            try {\n",
       "                // console.log(\"Handling '\" + msg_type + \"' message: \", msg);\n",
       "                callback(fig, msg);\n",
       "            } catch (e) {\n",
       "                console.log(\n",
       "                    \"Exception inside the 'handler_\" + msg_type + \"' callback:\",\n",
       "                    e,\n",
       "                    e.stack,\n",
       "                    msg\n",
       "                );\n",
       "            }\n",
       "        }\n",
       "    };\n",
       "};\n",
       "\n",
       "function getModifiers(event) {\n",
       "    var mods = [];\n",
       "    if (event.ctrlKey) {\n",
       "        mods.push('ctrl');\n",
       "    }\n",
       "    if (event.altKey) {\n",
       "        mods.push('alt');\n",
       "    }\n",
       "    if (event.shiftKey) {\n",
       "        mods.push('shift');\n",
       "    }\n",
       "    if (event.metaKey) {\n",
       "        mods.push('meta');\n",
       "    }\n",
       "    return mods;\n",
       "}\n",
       "\n",
       "/*\n",
       " * return a copy of an object with only non-object keys\n",
       " * we need this to avoid circular references\n",
       " * https://stackoverflow.com/a/24161582/3208463\n",
       " */\n",
       "function simpleKeys(original) {\n",
       "    return Object.keys(original).reduce(function (obj, key) {\n",
       "        if (typeof original[key] !== 'object') {\n",
       "            obj[key] = original[key];\n",
       "        }\n",
       "        return obj;\n",
       "    }, {});\n",
       "}\n",
       "\n",
       "mpl.figure.prototype.mouse_event = function (event, name) {\n",
       "    if (name === 'button_press') {\n",
       "        this.canvas.focus();\n",
       "        this.canvas_div.focus();\n",
       "    }\n",
       "\n",
       "    // from https://stackoverflow.com/q/1114465\n",
       "    var boundingRect = this.canvas.getBoundingClientRect();\n",
       "    var x = (event.clientX - boundingRect.left) * this.ratio;\n",
       "    var y = (event.clientY - boundingRect.top) * this.ratio;\n",
       "\n",
       "    this.send_message(name, {\n",
       "        x: x,\n",
       "        y: y,\n",
       "        button: event.button,\n",
       "        step: event.step,\n",
       "        modifiers: getModifiers(event),\n",
       "        guiEvent: simpleKeys(event),\n",
       "    });\n",
       "\n",
       "    return false;\n",
       "};\n",
       "\n",
       "mpl.figure.prototype._key_event_extra = function (_event, _name) {\n",
       "    // Handle any extra behaviour associated with a key event\n",
       "};\n",
       "\n",
       "mpl.figure.prototype.key_event = function (event, name) {\n",
       "    // Prevent repeat events\n",
       "    if (name === 'key_press') {\n",
       "        if (event.key === this._key) {\n",
       "            return;\n",
       "        } else {\n",
       "            this._key = event.key;\n",
       "        }\n",
       "    }\n",
       "    if (name === 'key_release') {\n",
       "        this._key = null;\n",
       "    }\n",
       "\n",
       "    var value = '';\n",
       "    if (event.ctrlKey && event.key !== 'Control') {\n",
       "        value += 'ctrl+';\n",
       "    }\n",
       "    else if (event.altKey && event.key !== 'Alt') {\n",
       "        value += 'alt+';\n",
       "    }\n",
       "    else if (event.shiftKey && event.key !== 'Shift') {\n",
       "        value += 'shift+';\n",
       "    }\n",
       "\n",
       "    value += 'k' + event.key;\n",
       "\n",
       "    this._key_event_extra(event, name);\n",
       "\n",
       "    this.send_message(name, { key: value, guiEvent: simpleKeys(event) });\n",
       "    return false;\n",
       "};\n",
       "\n",
       "mpl.figure.prototype.toolbar_button_onclick = function (name) {\n",
       "    if (name === 'download') {\n",
       "        this.handle_save(this, null);\n",
       "    } else {\n",
       "        this.send_message('toolbar_button', { name: name });\n",
       "    }\n",
       "};\n",
       "\n",
       "mpl.figure.prototype.toolbar_button_onmouseover = function (tooltip) {\n",
       "    this.message.textContent = tooltip;\n",
       "};\n",
       "\n",
       "///////////////// REMAINING CONTENT GENERATED BY embed_js.py /////////////////\n",
       "// prettier-ignore\n",
       "var _JSXTOOLS_RESIZE_OBSERVER=function(A){var t,i=new WeakMap,n=new WeakMap,a=new WeakMap,r=new WeakMap,o=new Set;function s(e){if(!(this instanceof s))throw new TypeError(\"Constructor requires 'new' operator\");i.set(this,e)}function h(){throw new TypeError(\"Function is not a constructor\")}function c(e,t,i,n){e=0 in arguments?Number(arguments[0]):0,t=1 in arguments?Number(arguments[1]):0,i=2 in arguments?Number(arguments[2]):0,n=3 in arguments?Number(arguments[3]):0,this.right=(this.x=this.left=e)+(this.width=i),this.bottom=(this.y=this.top=t)+(this.height=n),Object.freeze(this)}function d(){t=requestAnimationFrame(d);var s=new WeakMap,p=new Set;o.forEach((function(t){r.get(t).forEach((function(i){var r=t instanceof window.SVGElement,o=a.get(t),d=r?0:parseFloat(o.paddingTop),f=r?0:parseFloat(o.paddingRight),l=r?0:parseFloat(o.paddingBottom),u=r?0:parseFloat(o.paddingLeft),g=r?0:parseFloat(o.borderTopWidth),m=r?0:parseFloat(o.borderRightWidth),w=r?0:parseFloat(o.borderBottomWidth),b=u+f,F=d+l,v=(r?0:parseFloat(o.borderLeftWidth))+m,W=g+w,y=r?0:t.offsetHeight-W-t.clientHeight,E=r?0:t.offsetWidth-v-t.clientWidth,R=b+v,z=F+W,M=r?t.width:parseFloat(o.width)-R-E,O=r?t.height:parseFloat(o.height)-z-y;if(n.has(t)){var k=n.get(t);if(k[0]===M&&k[1]===O)return}n.set(t,[M,O]);var S=Object.create(h.prototype);S.target=t,S.contentRect=new c(u,d,M,O),s.has(i)||(s.set(i,[]),p.add(i)),s.get(i).push(S)}))})),p.forEach((function(e){i.get(e).call(e,s.get(e),e)}))}return s.prototype.observe=function(i){if(i instanceof window.Element){r.has(i)||(r.set(i,new Set),o.add(i),a.set(i,window.getComputedStyle(i)));var n=r.get(i);n.has(this)||n.add(this),cancelAnimationFrame(t),t=requestAnimationFrame(d)}},s.prototype.unobserve=function(i){if(i instanceof window.Element&&r.has(i)){var n=r.get(i);n.has(this)&&(n.delete(this),n.size||(r.delete(i),o.delete(i))),n.size||r.delete(i),o.size||cancelAnimationFrame(t)}},A.DOMRectReadOnly=c,A.ResizeObserver=s,A.ResizeObserverEntry=h,A}; // eslint-disable-line\n",
       "mpl.toolbar_items = [[\"Home\", \"Reset original view\", \"fa fa-home\", \"home\"], [\"Back\", \"Back to previous view\", \"fa fa-arrow-left\", \"back\"], [\"Forward\", \"Forward to next view\", \"fa fa-arrow-right\", \"forward\"], [\"\", \"\", \"\", \"\"], [\"Pan\", \"Left button pans, Right button zooms\\nx/y fixes axis, CTRL fixes aspect\", \"fa fa-arrows\", \"pan\"], [\"Zoom\", \"Zoom to rectangle\\nx/y fixes axis\", \"fa fa-square-o\", \"zoom\"], [\"\", \"\", \"\", \"\"], [\"Download\", \"Download plot\", \"fa fa-floppy-o\", \"download\"]];\n",
       "\n",
       "mpl.extensions = [\"eps\", \"jpeg\", \"pgf\", \"pdf\", \"png\", \"ps\", \"raw\", \"svg\", \"tif\", \"webp\"];\n",
       "\n",
       "mpl.default_extension = \"png\";/* global mpl */\n",
       "\n",
       "var comm_websocket_adapter = function (comm) {\n",
       "    // Create a \"websocket\"-like object which calls the given IPython comm\n",
       "    // object with the appropriate methods. Currently this is a non binary\n",
       "    // socket, so there is still some room for performance tuning.\n",
       "    var ws = {};\n",
       "\n",
       "    ws.binaryType = comm.kernel.ws.binaryType;\n",
       "    ws.readyState = comm.kernel.ws.readyState;\n",
       "    function updateReadyState(_event) {\n",
       "        if (comm.kernel.ws) {\n",
       "            ws.readyState = comm.kernel.ws.readyState;\n",
       "        } else {\n",
       "            ws.readyState = 3; // Closed state.\n",
       "        }\n",
       "    }\n",
       "    comm.kernel.ws.addEventListener('open', updateReadyState);\n",
       "    comm.kernel.ws.addEventListener('close', updateReadyState);\n",
       "    comm.kernel.ws.addEventListener('error', updateReadyState);\n",
       "\n",
       "    ws.close = function () {\n",
       "        comm.close();\n",
       "    };\n",
       "    ws.send = function (m) {\n",
       "        //console.log('sending', m);\n",
       "        comm.send(m);\n",
       "    };\n",
       "    // Register the callback with on_msg.\n",
       "    comm.on_msg(function (msg) {\n",
       "        //console.log('receiving', msg['content']['data'], msg);\n",
       "        var data = msg['content']['data'];\n",
       "        if (data['blob'] !== undefined) {\n",
       "            data = {\n",
       "                data: new Blob(msg['buffers'], { type: data['blob'] }),\n",
       "            };\n",
       "        }\n",
       "        // Pass the mpl event to the overridden (by mpl) onmessage function.\n",
       "        ws.onmessage(data);\n",
       "    });\n",
       "    return ws;\n",
       "};\n",
       "\n",
       "mpl.mpl_figure_comm = function (comm, msg) {\n",
       "    // This is the function which gets called when the mpl process\n",
       "    // starts-up an IPython Comm through the \"matplotlib\" channel.\n",
       "\n",
       "    var id = msg.content.data.id;\n",
       "    // Get hold of the div created by the display call when the Comm\n",
       "    // socket was opened in Python.\n",
       "    var element = document.getElementById(id);\n",
       "    var ws_proxy = comm_websocket_adapter(comm);\n",
       "\n",
       "    function ondownload(figure, _format) {\n",
       "        window.open(figure.canvas.toDataURL());\n",
       "    }\n",
       "\n",
       "    var fig = new mpl.figure(id, ws_proxy, ondownload, element);\n",
       "\n",
       "    // Call onopen now - mpl needs it, as it is assuming we've passed it a real\n",
       "    // web socket which is closed, not our websocket->open comm proxy.\n",
       "    ws_proxy.onopen();\n",
       "\n",
       "    fig.parent_element = element;\n",
       "    fig.cell_info = mpl.find_output_cell(\"<div id='\" + id + \"'></div>\");\n",
       "    if (!fig.cell_info) {\n",
       "        console.error('Failed to find cell for figure', id, fig);\n",
       "        return;\n",
       "    }\n",
       "    fig.cell_info[0].output_area.element.on(\n",
       "        'cleared',\n",
       "        { fig: fig },\n",
       "        fig._remove_fig_handler\n",
       "    );\n",
       "};\n",
       "\n",
       "mpl.figure.prototype.handle_close = function (fig, msg) {\n",
       "    var width = fig.canvas.width / fig.ratio;\n",
       "    fig.cell_info[0].output_area.element.off(\n",
       "        'cleared',\n",
       "        fig._remove_fig_handler\n",
       "    );\n",
       "    fig.resizeObserverInstance.unobserve(fig.canvas_div);\n",
       "\n",
       "    // Update the output cell to use the data from the current canvas.\n",
       "    fig.push_to_output();\n",
       "    var dataURL = fig.canvas.toDataURL();\n",
       "    // Re-enable the keyboard manager in IPython - without this line, in FF,\n",
       "    // the notebook keyboard shortcuts fail.\n",
       "    IPython.keyboard_manager.enable();\n",
       "    fig.parent_element.innerHTML =\n",
       "        '<img src=\"' + dataURL + '\" width=\"' + width + '\">';\n",
       "    fig.close_ws(fig, msg);\n",
       "};\n",
       "\n",
       "mpl.figure.prototype.close_ws = function (fig, msg) {\n",
       "    fig.send_message('closing', msg);\n",
       "    // fig.ws.close()\n",
       "};\n",
       "\n",
       "mpl.figure.prototype.push_to_output = function (_remove_interactive) {\n",
       "    // Turn the data on the canvas into data in the output cell.\n",
       "    var width = this.canvas.width / this.ratio;\n",
       "    var dataURL = this.canvas.toDataURL();\n",
       "    this.cell_info[1]['text/html'] =\n",
       "        '<img src=\"' + dataURL + '\" width=\"' + width + '\">';\n",
       "};\n",
       "\n",
       "mpl.figure.prototype.updated_canvas_event = function () {\n",
       "    // Tell IPython that the notebook contents must change.\n",
       "    IPython.notebook.set_dirty(true);\n",
       "    this.send_message('ack', {});\n",
       "    var fig = this;\n",
       "    // Wait a second, then push the new image to the DOM so\n",
       "    // that it is saved nicely (might be nice to debounce this).\n",
       "    setTimeout(function () {\n",
       "        fig.push_to_output();\n",
       "    }, 1000);\n",
       "};\n",
       "\n",
       "mpl.figure.prototype._init_toolbar = function () {\n",
       "    var fig = this;\n",
       "\n",
       "    var toolbar = document.createElement('div');\n",
       "    toolbar.classList = 'btn-toolbar';\n",
       "    this.root.appendChild(toolbar);\n",
       "\n",
       "    function on_click_closure(name) {\n",
       "        return function (_event) {\n",
       "            return fig.toolbar_button_onclick(name);\n",
       "        };\n",
       "    }\n",
       "\n",
       "    function on_mouseover_closure(tooltip) {\n",
       "        return function (event) {\n",
       "            if (!event.currentTarget.disabled) {\n",
       "                return fig.toolbar_button_onmouseover(tooltip);\n",
       "            }\n",
       "        };\n",
       "    }\n",
       "\n",
       "    fig.buttons = {};\n",
       "    var buttonGroup = document.createElement('div');\n",
       "    buttonGroup.classList = 'btn-group';\n",
       "    var button;\n",
       "    for (var toolbar_ind in mpl.toolbar_items) {\n",
       "        var name = mpl.toolbar_items[toolbar_ind][0];\n",
       "        var tooltip = mpl.toolbar_items[toolbar_ind][1];\n",
       "        var image = mpl.toolbar_items[toolbar_ind][2];\n",
       "        var method_name = mpl.toolbar_items[toolbar_ind][3];\n",
       "\n",
       "        if (!name) {\n",
       "            /* Instead of a spacer, we start a new button group. */\n",
       "            if (buttonGroup.hasChildNodes()) {\n",
       "                toolbar.appendChild(buttonGroup);\n",
       "            }\n",
       "            buttonGroup = document.createElement('div');\n",
       "            buttonGroup.classList = 'btn-group';\n",
       "            continue;\n",
       "        }\n",
       "\n",
       "        button = fig.buttons[name] = document.createElement('button');\n",
       "        button.classList = 'btn btn-default';\n",
       "        button.href = '#';\n",
       "        button.title = name;\n",
       "        button.innerHTML = '<i class=\"fa ' + image + ' fa-lg\"></i>';\n",
       "        button.addEventListener('click', on_click_closure(method_name));\n",
       "        button.addEventListener('mouseover', on_mouseover_closure(tooltip));\n",
       "        buttonGroup.appendChild(button);\n",
       "    }\n",
       "\n",
       "    if (buttonGroup.hasChildNodes()) {\n",
       "        toolbar.appendChild(buttonGroup);\n",
       "    }\n",
       "\n",
       "    // Add the status bar.\n",
       "    var status_bar = document.createElement('span');\n",
       "    status_bar.classList = 'mpl-message pull-right';\n",
       "    toolbar.appendChild(status_bar);\n",
       "    this.message = status_bar;\n",
       "\n",
       "    // Add the close button to the window.\n",
       "    var buttongrp = document.createElement('div');\n",
       "    buttongrp.classList = 'btn-group inline pull-right';\n",
       "    button = document.createElement('button');\n",
       "    button.classList = 'btn btn-mini btn-primary';\n",
       "    button.href = '#';\n",
       "    button.title = 'Stop Interaction';\n",
       "    button.innerHTML = '<i class=\"fa fa-power-off icon-remove icon-large\"></i>';\n",
       "    button.addEventListener('click', function (_evt) {\n",
       "        fig.handle_close(fig, {});\n",
       "    });\n",
       "    button.addEventListener(\n",
       "        'mouseover',\n",
       "        on_mouseover_closure('Stop Interaction')\n",
       "    );\n",
       "    buttongrp.appendChild(button);\n",
       "    var titlebar = this.root.querySelector('.ui-dialog-titlebar');\n",
       "    titlebar.insertBefore(buttongrp, titlebar.firstChild);\n",
       "};\n",
       "\n",
       "mpl.figure.prototype._remove_fig_handler = function (event) {\n",
       "    var fig = event.data.fig;\n",
       "    if (event.target !== this) {\n",
       "        // Ignore bubbled events from children.\n",
       "        return;\n",
       "    }\n",
       "    fig.close_ws(fig, {});\n",
       "};\n",
       "\n",
       "mpl.figure.prototype._root_extra_style = function (el) {\n",
       "    el.style.boxSizing = 'content-box'; // override notebook setting of border-box.\n",
       "};\n",
       "\n",
       "mpl.figure.prototype._canvas_extra_style = function (el) {\n",
       "    // this is important to make the div 'focusable\n",
       "    el.setAttribute('tabindex', 0);\n",
       "    // reach out to IPython and tell the keyboard manager to turn it's self\n",
       "    // off when our div gets focus\n",
       "\n",
       "    // location in version 3\n",
       "    if (IPython.notebook.keyboard_manager) {\n",
       "        IPython.notebook.keyboard_manager.register_events(el);\n",
       "    } else {\n",
       "        // location in version 2\n",
       "        IPython.keyboard_manager.register_events(el);\n",
       "    }\n",
       "};\n",
       "\n",
       "mpl.figure.prototype._key_event_extra = function (event, _name) {\n",
       "    // Check for shift+enter\n",
       "    if (event.shiftKey && event.which === 13) {\n",
       "        this.canvas_div.blur();\n",
       "        // select the cell after this one\n",
       "        var index = IPython.notebook.find_cell_index(this.cell_info[0]);\n",
       "        IPython.notebook.select(index + 1);\n",
       "    }\n",
       "};\n",
       "\n",
       "mpl.figure.prototype.handle_save = function (fig, _msg) {\n",
       "    fig.ondownload(fig, null);\n",
       "};\n",
       "\n",
       "mpl.find_output_cell = function (html_output) {\n",
       "    // Return the cell and output element which can be found *uniquely* in the notebook.\n",
       "    // Note - this is a bit hacky, but it is done because the \"notebook_saving.Notebook\"\n",
       "    // IPython event is triggered only after the cells have been serialised, which for\n",
       "    // our purposes (turning an active figure into a static one), is too late.\n",
       "    var cells = IPython.notebook.get_cells();\n",
       "    var ncells = cells.length;\n",
       "    for (var i = 0; i < ncells; i++) {\n",
       "        var cell = cells[i];\n",
       "        if (cell.cell_type === 'code') {\n",
       "            for (var j = 0; j < cell.output_area.outputs.length; j++) {\n",
       "                var data = cell.output_area.outputs[j];\n",
       "                if (data.data) {\n",
       "                    // IPython >= 3 moved mimebundle to data attribute of output\n",
       "                    data = data.data;\n",
       "                }\n",
       "                if (data['text/html'] === html_output) {\n",
       "                    return [cell, data, j];\n",
       "                }\n",
       "            }\n",
       "        }\n",
       "    }\n",
       "};\n",
       "\n",
       "// Register the function which deals with the matplotlib target/channel.\n",
       "// The kernel may be null if the page has been refreshed.\n",
       "if (IPython.notebook.kernel !== null) {\n",
       "    IPython.notebook.kernel.comm_manager.register_target(\n",
       "        'matplotlib',\n",
       "        mpl.mpl_figure_comm\n",
       "    );\n",
       "}\n"
      ],
      "text/plain": [
       "<IPython.core.display.Javascript object>"
      ]
     },
     "metadata": {},
     "output_type": "display_data"
    },
    {
     "data": {
      "text/html": [
       "<img src=\"data:image/png;base64,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\" width=\"640\">"
      ],
      "text/plain": [
       "<IPython.core.display.HTML object>"
      ]
     },
     "metadata": {},
     "output_type": "display_data"
    },
    {
     "data": {
      "text/plain": [
       "<matplotlib.legend.Legend at 0x29c9864d0>"
      ]
     },
     "execution_count": 24,
     "metadata": {},
     "output_type": "execute_result"
    }
   ],
   "source": [
    "temp_plot = 10 ** jnp.linspace(0, 3, 100)\n",
    "plt.figure()\n",
    "plt.plot(temp_plot, jax_DT_reactivity(temp_plot), label='DT (Bosch 1992)')\n",
    "# plt.plot(temp_plot, jax_DD_nHe_reactivity(temp_plot) + jax_DD_pT_reactivity(temp_plot), label='pT+nHe3 (Bosch 1992)')\n",
    "# plt.plot(temp_plot, jax_DD_nHe_reactivity(temp_plot), label='nHe3 (Bosch 1992)')\n",
    "# plt.plot(temp_plot, jax_DD_pT_reactivity(temp_plot), label='pT (Bosch 1992)')\n",
    "# plt.plot(temp_plot, test_jax_DD_nHe_reactivity(temp_plot) + jax_DD_pT_reactivity(temp_plot), label='Test _ DD (pT+nHe3)')\n",
    "plt.plot(temp_plot, calc_DT_reactivity_linear(temp_plot), label='DT, linear interpolation')\n",
    "# plt.plot(temp_plot, calc_DD_reactivity_linear(temp_plot), label='log-space linear interpolation')\n",
    "# plt.plot(temp_plot, calc_lin_reactivity(lin_c, temp_plot), label='DD, poly')\n",
    "plt.scatter(linear_reactivity_temps, linear_reactivity_DT)\n",
    "# plt.scatter(linear_reactivity_temps, linear_reactivity_DD, label=\"NRL datapoints\")\n",
    "# plt.plot(temp_plot, calc_DHe3_reactivity_linear(temp_plot), label='DHe3, linear')\n",
    "plt.yscale('log')\n",
    "plt.xscale('log')\n",
    "plt.title('DT fusion reactivity')\n",
    "plt.ylabel('Reactivity ($m^3/s$)')\n",
    "plt.xlabel(\"Temperature (keV)\")\n",
    "plt.legend()\n",
    "# plt.savefig('DT_reactivity.pdf')"
   ]
  },
  {
   "cell_type": "code",
   "execution_count": 25,
   "id": "c1bbea1c",
   "metadata": {
    "scrolled": false
   },
   "outputs": [
    {
     "data": {
      "application/javascript": [
       "/* Put everything inside the global mpl namespace */\n",
       "/* global mpl */\n",
       "window.mpl = {};\n",
       "\n",
       "mpl.get_websocket_type = function () {\n",
       "    if (typeof WebSocket !== 'undefined') {\n",
       "        return WebSocket;\n",
       "    } else if (typeof MozWebSocket !== 'undefined') {\n",
       "        return MozWebSocket;\n",
       "    } else {\n",
       "        alert(\n",
       "            'Your browser does not have WebSocket support. ' +\n",
       "                'Please try Chrome, Safari or Firefox ≥ 6. ' +\n",
       "                'Firefox 4 and 5 are also supported but you ' +\n",
       "                'have to enable WebSockets in about:config.'\n",
       "        );\n",
       "    }\n",
       "};\n",
       "\n",
       "mpl.figure = function (figure_id, websocket, ondownload, parent_element) {\n",
       "    this.id = figure_id;\n",
       "\n",
       "    this.ws = websocket;\n",
       "\n",
       "    this.supports_binary = this.ws.binaryType !== undefined;\n",
       "\n",
       "    if (!this.supports_binary) {\n",
       "        var warnings = document.getElementById('mpl-warnings');\n",
       "        if (warnings) {\n",
       "            warnings.style.display = 'block';\n",
       "            warnings.textContent =\n",
       "                'This browser does not support binary websocket messages. ' +\n",
       "                'Performance may be slow.';\n",
       "        }\n",
       "    }\n",
       "\n",
       "    this.imageObj = new Image();\n",
       "\n",
       "    this.context = undefined;\n",
       "    this.message = undefined;\n",
       "    this.canvas = undefined;\n",
       "    this.rubberband_canvas = undefined;\n",
       "    this.rubberband_context = undefined;\n",
       "    this.format_dropdown = undefined;\n",
       "\n",
       "    this.image_mode = 'full';\n",
       "\n",
       "    this.root = document.createElement('div');\n",
       "    this.root.setAttribute('style', 'display: inline-block');\n",
       "    this._root_extra_style(this.root);\n",
       "\n",
       "    parent_element.appendChild(this.root);\n",
       "\n",
       "    this._init_header(this);\n",
       "    this._init_canvas(this);\n",
       "    this._init_toolbar(this);\n",
       "\n",
       "    var fig = this;\n",
       "\n",
       "    this.waiting = false;\n",
       "\n",
       "    this.ws.onopen = function () {\n",
       "        fig.send_message('supports_binary', { value: fig.supports_binary });\n",
       "        fig.send_message('send_image_mode', {});\n",
       "        if (fig.ratio !== 1) {\n",
       "            fig.send_message('set_device_pixel_ratio', {\n",
       "                device_pixel_ratio: fig.ratio,\n",
       "            });\n",
       "        }\n",
       "        fig.send_message('refresh', {});\n",
       "    };\n",
       "\n",
       "    this.imageObj.onload = function () {\n",
       "        if (fig.image_mode === 'full') {\n",
       "            // Full images could contain transparency (where diff images\n",
       "            // almost always do), so we need to clear the canvas so that\n",
       "            // there is no ghosting.\n",
       "            fig.context.clearRect(0, 0, fig.canvas.width, fig.canvas.height);\n",
       "        }\n",
       "        fig.context.drawImage(fig.imageObj, 0, 0);\n",
       "    };\n",
       "\n",
       "    this.imageObj.onunload = function () {\n",
       "        fig.ws.close();\n",
       "    };\n",
       "\n",
       "    this.ws.onmessage = this._make_on_message_function(this);\n",
       "\n",
       "    this.ondownload = ondownload;\n",
       "};\n",
       "\n",
       "mpl.figure.prototype._init_header = function () {\n",
       "    var titlebar = document.createElement('div');\n",
       "    titlebar.classList =\n",
       "        'ui-dialog-titlebar ui-widget-header ui-corner-all ui-helper-clearfix';\n",
       "    var titletext = document.createElement('div');\n",
       "    titletext.classList = 'ui-dialog-title';\n",
       "    titletext.setAttribute(\n",
       "        'style',\n",
       "        'width: 100%; text-align: center; padding: 3px;'\n",
       "    );\n",
       "    titlebar.appendChild(titletext);\n",
       "    this.root.appendChild(titlebar);\n",
       "    this.header = titletext;\n",
       "};\n",
       "\n",
       "mpl.figure.prototype._canvas_extra_style = function (_canvas_div) {};\n",
       "\n",
       "mpl.figure.prototype._root_extra_style = function (_canvas_div) {};\n",
       "\n",
       "mpl.figure.prototype._init_canvas = function () {\n",
       "    var fig = this;\n",
       "\n",
       "    var canvas_div = (this.canvas_div = document.createElement('div'));\n",
       "    canvas_div.setAttribute('tabindex', '0');\n",
       "    canvas_div.setAttribute(\n",
       "        'style',\n",
       "        'border: 1px solid #ddd;' +\n",
       "            'box-sizing: content-box;' +\n",
       "            'clear: both;' +\n",
       "            'min-height: 1px;' +\n",
       "            'min-width: 1px;' +\n",
       "            'outline: 0;' +\n",
       "            'overflow: hidden;' +\n",
       "            'position: relative;' +\n",
       "            'resize: both;' +\n",
       "            'z-index: 2;'\n",
       "    );\n",
       "\n",
       "    function on_keyboard_event_closure(name) {\n",
       "        return function (event) {\n",
       "            return fig.key_event(event, name);\n",
       "        };\n",
       "    }\n",
       "\n",
       "    canvas_div.addEventListener(\n",
       "        'keydown',\n",
       "        on_keyboard_event_closure('key_press')\n",
       "    );\n",
       "    canvas_div.addEventListener(\n",
       "        'keyup',\n",
       "        on_keyboard_event_closure('key_release')\n",
       "    );\n",
       "\n",
       "    this._canvas_extra_style(canvas_div);\n",
       "    this.root.appendChild(canvas_div);\n",
       "\n",
       "    var canvas = (this.canvas = document.createElement('canvas'));\n",
       "    canvas.classList.add('mpl-canvas');\n",
       "    canvas.setAttribute(\n",
       "        'style',\n",
       "        'box-sizing: content-box;' +\n",
       "            'pointer-events: none;' +\n",
       "            'position: relative;' +\n",
       "            'z-index: 0;'\n",
       "    );\n",
       "\n",
       "    this.context = canvas.getContext('2d');\n",
       "\n",
       "    var backingStore =\n",
       "        this.context.backingStorePixelRatio ||\n",
       "        this.context.webkitBackingStorePixelRatio ||\n",
       "        this.context.mozBackingStorePixelRatio ||\n",
       "        this.context.msBackingStorePixelRatio ||\n",
       "        this.context.oBackingStorePixelRatio ||\n",
       "        this.context.backingStorePixelRatio ||\n",
       "        1;\n",
       "\n",
       "    this.ratio = (window.devicePixelRatio || 1) / backingStore;\n",
       "\n",
       "    var rubberband_canvas = (this.rubberband_canvas = document.createElement(\n",
       "        'canvas'\n",
       "    ));\n",
       "    rubberband_canvas.setAttribute(\n",
       "        'style',\n",
       "        'box-sizing: content-box;' +\n",
       "            'left: 0;' +\n",
       "            'pointer-events: none;' +\n",
       "            'position: absolute;' +\n",
       "            'top: 0;' +\n",
       "            'z-index: 1;'\n",
       "    );\n",
       "\n",
       "    // Apply a ponyfill if ResizeObserver is not implemented by browser.\n",
       "    if (this.ResizeObserver === undefined) {\n",
       "        if (window.ResizeObserver !== undefined) {\n",
       "            this.ResizeObserver = window.ResizeObserver;\n",
       "        } else {\n",
       "            var obs = _JSXTOOLS_RESIZE_OBSERVER({});\n",
       "            this.ResizeObserver = obs.ResizeObserver;\n",
       "        }\n",
       "    }\n",
       "\n",
       "    this.resizeObserverInstance = new this.ResizeObserver(function (entries) {\n",
       "        var nentries = entries.length;\n",
       "        for (var i = 0; i < nentries; i++) {\n",
       "            var entry = entries[i];\n",
       "            var width, height;\n",
       "            if (entry.contentBoxSize) {\n",
       "                if (entry.contentBoxSize instanceof Array) {\n",
       "                    // Chrome 84 implements new version of spec.\n",
       "                    width = entry.contentBoxSize[0].inlineSize;\n",
       "                    height = entry.contentBoxSize[0].blockSize;\n",
       "                } else {\n",
       "                    // Firefox implements old version of spec.\n",
       "                    width = entry.contentBoxSize.inlineSize;\n",
       "                    height = entry.contentBoxSize.blockSize;\n",
       "                }\n",
       "            } else {\n",
       "                // Chrome <84 implements even older version of spec.\n",
       "                width = entry.contentRect.width;\n",
       "                height = entry.contentRect.height;\n",
       "            }\n",
       "\n",
       "            // Keep the size of the canvas and rubber band canvas in sync with\n",
       "            // the canvas container.\n",
       "            if (entry.devicePixelContentBoxSize) {\n",
       "                // Chrome 84 implements new version of spec.\n",
       "                canvas.setAttribute(\n",
       "                    'width',\n",
       "                    entry.devicePixelContentBoxSize[0].inlineSize\n",
       "                );\n",
       "                canvas.setAttribute(\n",
       "                    'height',\n",
       "                    entry.devicePixelContentBoxSize[0].blockSize\n",
       "                );\n",
       "            } else {\n",
       "                canvas.setAttribute('width', width * fig.ratio);\n",
       "                canvas.setAttribute('height', height * fig.ratio);\n",
       "            }\n",
       "            /* This rescales the canvas back to display pixels, so that it\n",
       "             * appears correct on HiDPI screens. */\n",
       "            canvas.style.width = width + 'px';\n",
       "            canvas.style.height = height + 'px';\n",
       "\n",
       "            rubberband_canvas.setAttribute('width', width);\n",
       "            rubberband_canvas.setAttribute('height', height);\n",
       "\n",
       "            // And update the size in Python. We ignore the initial 0/0 size\n",
       "            // that occurs as the element is placed into the DOM, which should\n",
       "            // otherwise not happen due to the minimum size styling.\n",
       "            if (fig.ws.readyState == 1 && width != 0 && height != 0) {\n",
       "                fig.request_resize(width, height);\n",
       "            }\n",
       "        }\n",
       "    });\n",
       "    this.resizeObserverInstance.observe(canvas_div);\n",
       "\n",
       "    function on_mouse_event_closure(name) {\n",
       "        /* User Agent sniffing is bad, but WebKit is busted:\n",
       "         * https://bugs.webkit.org/show_bug.cgi?id=144526\n",
       "         * https://bugs.webkit.org/show_bug.cgi?id=181818\n",
       "         * The worst that happens here is that they get an extra browser\n",
       "         * selection when dragging, if this check fails to catch them.\n",
       "         */\n",
       "        var UA = navigator.userAgent;\n",
       "        var isWebKit = /AppleWebKit/.test(UA) && !/Chrome/.test(UA);\n",
       "        if(isWebKit) {\n",
       "            return function (event) {\n",
       "                /* This prevents the web browser from automatically changing to\n",
       "                 * the text insertion cursor when the button is pressed. We\n",
       "                 * want to control all of the cursor setting manually through\n",
       "                 * the 'cursor' event from matplotlib */\n",
       "                event.preventDefault()\n",
       "                return fig.mouse_event(event, name);\n",
       "            };\n",
       "        } else {\n",
       "            return function (event) {\n",
       "                return fig.mouse_event(event, name);\n",
       "            };\n",
       "        }\n",
       "    }\n",
       "\n",
       "    canvas_div.addEventListener(\n",
       "        'mousedown',\n",
       "        on_mouse_event_closure('button_press')\n",
       "    );\n",
       "    canvas_div.addEventListener(\n",
       "        'mouseup',\n",
       "        on_mouse_event_closure('button_release')\n",
       "    );\n",
       "    canvas_div.addEventListener(\n",
       "        'dblclick',\n",
       "        on_mouse_event_closure('dblclick')\n",
       "    );\n",
       "    // Throttle sequential mouse events to 1 every 20ms.\n",
       "    canvas_div.addEventListener(\n",
       "        'mousemove',\n",
       "        on_mouse_event_closure('motion_notify')\n",
       "    );\n",
       "\n",
       "    canvas_div.addEventListener(\n",
       "        'mouseenter',\n",
       "        on_mouse_event_closure('figure_enter')\n",
       "    );\n",
       "    canvas_div.addEventListener(\n",
       "        'mouseleave',\n",
       "        on_mouse_event_closure('figure_leave')\n",
       "    );\n",
       "\n",
       "    canvas_div.addEventListener('wheel', function (event) {\n",
       "        if (event.deltaY < 0) {\n",
       "            event.step = 1;\n",
       "        } else {\n",
       "            event.step = -1;\n",
       "        }\n",
       "        on_mouse_event_closure('scroll')(event);\n",
       "    });\n",
       "\n",
       "    canvas_div.appendChild(canvas);\n",
       "    canvas_div.appendChild(rubberband_canvas);\n",
       "\n",
       "    this.rubberband_context = rubberband_canvas.getContext('2d');\n",
       "    this.rubberband_context.strokeStyle = '#000000';\n",
       "\n",
       "    this._resize_canvas = function (width, height, forward) {\n",
       "        if (forward) {\n",
       "            canvas_div.style.width = width + 'px';\n",
       "            canvas_div.style.height = height + 'px';\n",
       "        }\n",
       "    };\n",
       "\n",
       "    // Disable right mouse context menu.\n",
       "    canvas_div.addEventListener('contextmenu', function (_e) {\n",
       "        event.preventDefault();\n",
       "        return false;\n",
       "    });\n",
       "\n",
       "    function set_focus() {\n",
       "        canvas.focus();\n",
       "        canvas_div.focus();\n",
       "    }\n",
       "\n",
       "    window.setTimeout(set_focus, 100);\n",
       "};\n",
       "\n",
       "mpl.figure.prototype._init_toolbar = function () {\n",
       "    var fig = this;\n",
       "\n",
       "    var toolbar = document.createElement('div');\n",
       "    toolbar.classList = 'mpl-toolbar';\n",
       "    this.root.appendChild(toolbar);\n",
       "\n",
       "    function on_click_closure(name) {\n",
       "        return function (_event) {\n",
       "            return fig.toolbar_button_onclick(name);\n",
       "        };\n",
       "    }\n",
       "\n",
       "    function on_mouseover_closure(tooltip) {\n",
       "        return function (event) {\n",
       "            if (!event.currentTarget.disabled) {\n",
       "                return fig.toolbar_button_onmouseover(tooltip);\n",
       "            }\n",
       "        };\n",
       "    }\n",
       "\n",
       "    fig.buttons = {};\n",
       "    var buttonGroup = document.createElement('div');\n",
       "    buttonGroup.classList = 'mpl-button-group';\n",
       "    for (var toolbar_ind in mpl.toolbar_items) {\n",
       "        var name = mpl.toolbar_items[toolbar_ind][0];\n",
       "        var tooltip = mpl.toolbar_items[toolbar_ind][1];\n",
       "        var image = mpl.toolbar_items[toolbar_ind][2];\n",
       "        var method_name = mpl.toolbar_items[toolbar_ind][3];\n",
       "\n",
       "        if (!name) {\n",
       "            /* Instead of a spacer, we start a new button group. */\n",
       "            if (buttonGroup.hasChildNodes()) {\n",
       "                toolbar.appendChild(buttonGroup);\n",
       "            }\n",
       "            buttonGroup = document.createElement('div');\n",
       "            buttonGroup.classList = 'mpl-button-group';\n",
       "            continue;\n",
       "        }\n",
       "\n",
       "        var button = (fig.buttons[name] = document.createElement('button'));\n",
       "        button.classList = 'mpl-widget';\n",
       "        button.setAttribute('role', 'button');\n",
       "        button.setAttribute('aria-disabled', 'false');\n",
       "        button.addEventListener('click', on_click_closure(method_name));\n",
       "        button.addEventListener('mouseover', on_mouseover_closure(tooltip));\n",
       "\n",
       "        var icon_img = document.createElement('img');\n",
       "        icon_img.src = '_images/' + image + '.png';\n",
       "        icon_img.srcset = '_images/' + image + '_large.png 2x';\n",
       "        icon_img.alt = tooltip;\n",
       "        button.appendChild(icon_img);\n",
       "\n",
       "        buttonGroup.appendChild(button);\n",
       "    }\n",
       "\n",
       "    if (buttonGroup.hasChildNodes()) {\n",
       "        toolbar.appendChild(buttonGroup);\n",
       "    }\n",
       "\n",
       "    var fmt_picker = document.createElement('select');\n",
       "    fmt_picker.classList = 'mpl-widget';\n",
       "    toolbar.appendChild(fmt_picker);\n",
       "    this.format_dropdown = fmt_picker;\n",
       "\n",
       "    for (var ind in mpl.extensions) {\n",
       "        var fmt = mpl.extensions[ind];\n",
       "        var option = document.createElement('option');\n",
       "        option.selected = fmt === mpl.default_extension;\n",
       "        option.innerHTML = fmt;\n",
       "        fmt_picker.appendChild(option);\n",
       "    }\n",
       "\n",
       "    var status_bar = document.createElement('span');\n",
       "    status_bar.classList = 'mpl-message';\n",
       "    toolbar.appendChild(status_bar);\n",
       "    this.message = status_bar;\n",
       "};\n",
       "\n",
       "mpl.figure.prototype.request_resize = function (x_pixels, y_pixels) {\n",
       "    // Request matplotlib to resize the figure. Matplotlib will then trigger a resize in the client,\n",
       "    // which will in turn request a refresh of the image.\n",
       "    this.send_message('resize', { width: x_pixels, height: y_pixels });\n",
       "};\n",
       "\n",
       "mpl.figure.prototype.send_message = function (type, properties) {\n",
       "    properties['type'] = type;\n",
       "    properties['figure_id'] = this.id;\n",
       "    this.ws.send(JSON.stringify(properties));\n",
       "};\n",
       "\n",
       "mpl.figure.prototype.send_draw_message = function () {\n",
       "    if (!this.waiting) {\n",
       "        this.waiting = true;\n",
       "        this.ws.send(JSON.stringify({ type: 'draw', figure_id: this.id }));\n",
       "    }\n",
       "};\n",
       "\n",
       "mpl.figure.prototype.handle_save = function (fig, _msg) {\n",
       "    var format_dropdown = fig.format_dropdown;\n",
       "    var format = format_dropdown.options[format_dropdown.selectedIndex].value;\n",
       "    fig.ondownload(fig, format);\n",
       "};\n",
       "\n",
       "mpl.figure.prototype.handle_resize = function (fig, msg) {\n",
       "    var size = msg['size'];\n",
       "    if (size[0] !== fig.canvas.width || size[1] !== fig.canvas.height) {\n",
       "        fig._resize_canvas(size[0], size[1], msg['forward']);\n",
       "        fig.send_message('refresh', {});\n",
       "    }\n",
       "};\n",
       "\n",
       "mpl.figure.prototype.handle_rubberband = function (fig, msg) {\n",
       "    var x0 = msg['x0'] / fig.ratio;\n",
       "    var y0 = (fig.canvas.height - msg['y0']) / fig.ratio;\n",
       "    var x1 = msg['x1'] / fig.ratio;\n",
       "    var y1 = (fig.canvas.height - msg['y1']) / fig.ratio;\n",
       "    x0 = Math.floor(x0) + 0.5;\n",
       "    y0 = Math.floor(y0) + 0.5;\n",
       "    x1 = Math.floor(x1) + 0.5;\n",
       "    y1 = Math.floor(y1) + 0.5;\n",
       "    var min_x = Math.min(x0, x1);\n",
       "    var min_y = Math.min(y0, y1);\n",
       "    var width = Math.abs(x1 - x0);\n",
       "    var height = Math.abs(y1 - y0);\n",
       "\n",
       "    fig.rubberband_context.clearRect(\n",
       "        0,\n",
       "        0,\n",
       "        fig.canvas.width / fig.ratio,\n",
       "        fig.canvas.height / fig.ratio\n",
       "    );\n",
       "\n",
       "    fig.rubberband_context.strokeRect(min_x, min_y, width, height);\n",
       "};\n",
       "\n",
       "mpl.figure.prototype.handle_figure_label = function (fig, msg) {\n",
       "    // Updates the figure title.\n",
       "    fig.header.textContent = msg['label'];\n",
       "};\n",
       "\n",
       "mpl.figure.prototype.handle_cursor = function (fig, msg) {\n",
       "    fig.canvas_div.style.cursor = msg['cursor'];\n",
       "};\n",
       "\n",
       "mpl.figure.prototype.handle_message = function (fig, msg) {\n",
       "    fig.message.textContent = msg['message'];\n",
       "};\n",
       "\n",
       "mpl.figure.prototype.handle_draw = function (fig, _msg) {\n",
       "    // Request the server to send over a new figure.\n",
       "    fig.send_draw_message();\n",
       "};\n",
       "\n",
       "mpl.figure.prototype.handle_image_mode = function (fig, msg) {\n",
       "    fig.image_mode = msg['mode'];\n",
       "};\n",
       "\n",
       "mpl.figure.prototype.handle_history_buttons = function (fig, msg) {\n",
       "    for (var key in msg) {\n",
       "        if (!(key in fig.buttons)) {\n",
       "            continue;\n",
       "        }\n",
       "        fig.buttons[key].disabled = !msg[key];\n",
       "        fig.buttons[key].setAttribute('aria-disabled', !msg[key]);\n",
       "    }\n",
       "};\n",
       "\n",
       "mpl.figure.prototype.handle_navigate_mode = function (fig, msg) {\n",
       "    if (msg['mode'] === 'PAN') {\n",
       "        fig.buttons['Pan'].classList.add('active');\n",
       "        fig.buttons['Zoom'].classList.remove('active');\n",
       "    } else if (msg['mode'] === 'ZOOM') {\n",
       "        fig.buttons['Pan'].classList.remove('active');\n",
       "        fig.buttons['Zoom'].classList.add('active');\n",
       "    } else {\n",
       "        fig.buttons['Pan'].classList.remove('active');\n",
       "        fig.buttons['Zoom'].classList.remove('active');\n",
       "    }\n",
       "};\n",
       "\n",
       "mpl.figure.prototype.updated_canvas_event = function () {\n",
       "    // Called whenever the canvas gets updated.\n",
       "    this.send_message('ack', {});\n",
       "};\n",
       "\n",
       "// A function to construct a web socket function for onmessage handling.\n",
       "// Called in the figure constructor.\n",
       "mpl.figure.prototype._make_on_message_function = function (fig) {\n",
       "    return function socket_on_message(evt) {\n",
       "        if (evt.data instanceof Blob) {\n",
       "            var img = evt.data;\n",
       "            if (img.type !== 'image/png') {\n",
       "                /* FIXME: We get \"Resource interpreted as Image but\n",
       "                 * transferred with MIME type text/plain:\" errors on\n",
       "                 * Chrome.  But how to set the MIME type?  It doesn't seem\n",
       "                 * to be part of the websocket stream */\n",
       "                img.type = 'image/png';\n",
       "            }\n",
       "\n",
       "            /* Free the memory for the previous frames */\n",
       "            if (fig.imageObj.src) {\n",
       "                (window.URL || window.webkitURL).revokeObjectURL(\n",
       "                    fig.imageObj.src\n",
       "                );\n",
       "            }\n",
       "\n",
       "            fig.imageObj.src = (window.URL || window.webkitURL).createObjectURL(\n",
       "                img\n",
       "            );\n",
       "            fig.updated_canvas_event();\n",
       "            fig.waiting = false;\n",
       "            return;\n",
       "        } else if (\n",
       "            typeof evt.data === 'string' &&\n",
       "            evt.data.slice(0, 21) === 'data:image/png;base64'\n",
       "        ) {\n",
       "            fig.imageObj.src = evt.data;\n",
       "            fig.updated_canvas_event();\n",
       "            fig.waiting = false;\n",
       "            return;\n",
       "        }\n",
       "\n",
       "        var msg = JSON.parse(evt.data);\n",
       "        var msg_type = msg['type'];\n",
       "\n",
       "        // Call the  \"handle_{type}\" callback, which takes\n",
       "        // the figure and JSON message as its only arguments.\n",
       "        try {\n",
       "            var callback = fig['handle_' + msg_type];\n",
       "        } catch (e) {\n",
       "            console.log(\n",
       "                \"No handler for the '\" + msg_type + \"' message type: \",\n",
       "                msg\n",
       "            );\n",
       "            return;\n",
       "        }\n",
       "\n",
       "        if (callback) {\n",
       "            try {\n",
       "                // console.log(\"Handling '\" + msg_type + \"' message: \", msg);\n",
       "                callback(fig, msg);\n",
       "            } catch (e) {\n",
       "                console.log(\n",
       "                    \"Exception inside the 'handler_\" + msg_type + \"' callback:\",\n",
       "                    e,\n",
       "                    e.stack,\n",
       "                    msg\n",
       "                );\n",
       "            }\n",
       "        }\n",
       "    };\n",
       "};\n",
       "\n",
       "function getModifiers(event) {\n",
       "    var mods = [];\n",
       "    if (event.ctrlKey) {\n",
       "        mods.push('ctrl');\n",
       "    }\n",
       "    if (event.altKey) {\n",
       "        mods.push('alt');\n",
       "    }\n",
       "    if (event.shiftKey) {\n",
       "        mods.push('shift');\n",
       "    }\n",
       "    if (event.metaKey) {\n",
       "        mods.push('meta');\n",
       "    }\n",
       "    return mods;\n",
       "}\n",
       "\n",
       "/*\n",
       " * return a copy of an object with only non-object keys\n",
       " * we need this to avoid circular references\n",
       " * https://stackoverflow.com/a/24161582/3208463\n",
       " */\n",
       "function simpleKeys(original) {\n",
       "    return Object.keys(original).reduce(function (obj, key) {\n",
       "        if (typeof original[key] !== 'object') {\n",
       "            obj[key] = original[key];\n",
       "        }\n",
       "        return obj;\n",
       "    }, {});\n",
       "}\n",
       "\n",
       "mpl.figure.prototype.mouse_event = function (event, name) {\n",
       "    if (name === 'button_press') {\n",
       "        this.canvas.focus();\n",
       "        this.canvas_div.focus();\n",
       "    }\n",
       "\n",
       "    // from https://stackoverflow.com/q/1114465\n",
       "    var boundingRect = this.canvas.getBoundingClientRect();\n",
       "    var x = (event.clientX - boundingRect.left) * this.ratio;\n",
       "    var y = (event.clientY - boundingRect.top) * this.ratio;\n",
       "\n",
       "    this.send_message(name, {\n",
       "        x: x,\n",
       "        y: y,\n",
       "        button: event.button,\n",
       "        step: event.step,\n",
       "        modifiers: getModifiers(event),\n",
       "        guiEvent: simpleKeys(event),\n",
       "    });\n",
       "\n",
       "    return false;\n",
       "};\n",
       "\n",
       "mpl.figure.prototype._key_event_extra = function (_event, _name) {\n",
       "    // Handle any extra behaviour associated with a key event\n",
       "};\n",
       "\n",
       "mpl.figure.prototype.key_event = function (event, name) {\n",
       "    // Prevent repeat events\n",
       "    if (name === 'key_press') {\n",
       "        if (event.key === this._key) {\n",
       "            return;\n",
       "        } else {\n",
       "            this._key = event.key;\n",
       "        }\n",
       "    }\n",
       "    if (name === 'key_release') {\n",
       "        this._key = null;\n",
       "    }\n",
       "\n",
       "    var value = '';\n",
       "    if (event.ctrlKey && event.key !== 'Control') {\n",
       "        value += 'ctrl+';\n",
       "    }\n",
       "    else if (event.altKey && event.key !== 'Alt') {\n",
       "        value += 'alt+';\n",
       "    }\n",
       "    else if (event.shiftKey && event.key !== 'Shift') {\n",
       "        value += 'shift+';\n",
       "    }\n",
       "\n",
       "    value += 'k' + event.key;\n",
       "\n",
       "    this._key_event_extra(event, name);\n",
       "\n",
       "    this.send_message(name, { key: value, guiEvent: simpleKeys(event) });\n",
       "    return false;\n",
       "};\n",
       "\n",
       "mpl.figure.prototype.toolbar_button_onclick = function (name) {\n",
       "    if (name === 'download') {\n",
       "        this.handle_save(this, null);\n",
       "    } else {\n",
       "        this.send_message('toolbar_button', { name: name });\n",
       "    }\n",
       "};\n",
       "\n",
       "mpl.figure.prototype.toolbar_button_onmouseover = function (tooltip) {\n",
       "    this.message.textContent = tooltip;\n",
       "};\n",
       "\n",
       "///////////////// REMAINING CONTENT GENERATED BY embed_js.py /////////////////\n",
       "// prettier-ignore\n",
       "var _JSXTOOLS_RESIZE_OBSERVER=function(A){var t,i=new WeakMap,n=new WeakMap,a=new WeakMap,r=new WeakMap,o=new Set;function s(e){if(!(this instanceof s))throw new TypeError(\"Constructor requires 'new' operator\");i.set(this,e)}function h(){throw new TypeError(\"Function is not a constructor\")}function c(e,t,i,n){e=0 in arguments?Number(arguments[0]):0,t=1 in arguments?Number(arguments[1]):0,i=2 in arguments?Number(arguments[2]):0,n=3 in arguments?Number(arguments[3]):0,this.right=(this.x=this.left=e)+(this.width=i),this.bottom=(this.y=this.top=t)+(this.height=n),Object.freeze(this)}function d(){t=requestAnimationFrame(d);var s=new WeakMap,p=new Set;o.forEach((function(t){r.get(t).forEach((function(i){var r=t instanceof window.SVGElement,o=a.get(t),d=r?0:parseFloat(o.paddingTop),f=r?0:parseFloat(o.paddingRight),l=r?0:parseFloat(o.paddingBottom),u=r?0:parseFloat(o.paddingLeft),g=r?0:parseFloat(o.borderTopWidth),m=r?0:parseFloat(o.borderRightWidth),w=r?0:parseFloat(o.borderBottomWidth),b=u+f,F=d+l,v=(r?0:parseFloat(o.borderLeftWidth))+m,W=g+w,y=r?0:t.offsetHeight-W-t.clientHeight,E=r?0:t.offsetWidth-v-t.clientWidth,R=b+v,z=F+W,M=r?t.width:parseFloat(o.width)-R-E,O=r?t.height:parseFloat(o.height)-z-y;if(n.has(t)){var k=n.get(t);if(k[0]===M&&k[1]===O)return}n.set(t,[M,O]);var S=Object.create(h.prototype);S.target=t,S.contentRect=new c(u,d,M,O),s.has(i)||(s.set(i,[]),p.add(i)),s.get(i).push(S)}))})),p.forEach((function(e){i.get(e).call(e,s.get(e),e)}))}return s.prototype.observe=function(i){if(i instanceof window.Element){r.has(i)||(r.set(i,new Set),o.add(i),a.set(i,window.getComputedStyle(i)));var n=r.get(i);n.has(this)||n.add(this),cancelAnimationFrame(t),t=requestAnimationFrame(d)}},s.prototype.unobserve=function(i){if(i instanceof window.Element&&r.has(i)){var n=r.get(i);n.has(this)&&(n.delete(this),n.size||(r.delete(i),o.delete(i))),n.size||r.delete(i),o.size||cancelAnimationFrame(t)}},A.DOMRectReadOnly=c,A.ResizeObserver=s,A.ResizeObserverEntry=h,A}; // eslint-disable-line\n",
       "mpl.toolbar_items = [[\"Home\", \"Reset original view\", \"fa fa-home\", \"home\"], [\"Back\", \"Back to previous view\", \"fa fa-arrow-left\", \"back\"], [\"Forward\", \"Forward to next view\", \"fa fa-arrow-right\", \"forward\"], [\"\", \"\", \"\", \"\"], [\"Pan\", \"Left button pans, Right button zooms\\nx/y fixes axis, CTRL fixes aspect\", \"fa fa-arrows\", \"pan\"], [\"Zoom\", \"Zoom to rectangle\\nx/y fixes axis\", \"fa fa-square-o\", \"zoom\"], [\"\", \"\", \"\", \"\"], [\"Download\", \"Download plot\", \"fa fa-floppy-o\", \"download\"]];\n",
       "\n",
       "mpl.extensions = [\"eps\", \"jpeg\", \"pgf\", \"pdf\", \"png\", \"ps\", \"raw\", \"svg\", \"tif\", \"webp\"];\n",
       "\n",
       "mpl.default_extension = \"png\";/* global mpl */\n",
       "\n",
       "var comm_websocket_adapter = function (comm) {\n",
       "    // Create a \"websocket\"-like object which calls the given IPython comm\n",
       "    // object with the appropriate methods. Currently this is a non binary\n",
       "    // socket, so there is still some room for performance tuning.\n",
       "    var ws = {};\n",
       "\n",
       "    ws.binaryType = comm.kernel.ws.binaryType;\n",
       "    ws.readyState = comm.kernel.ws.readyState;\n",
       "    function updateReadyState(_event) {\n",
       "        if (comm.kernel.ws) {\n",
       "            ws.readyState = comm.kernel.ws.readyState;\n",
       "        } else {\n",
       "            ws.readyState = 3; // Closed state.\n",
       "        }\n",
       "    }\n",
       "    comm.kernel.ws.addEventListener('open', updateReadyState);\n",
       "    comm.kernel.ws.addEventListener('close', updateReadyState);\n",
       "    comm.kernel.ws.addEventListener('error', updateReadyState);\n",
       "\n",
       "    ws.close = function () {\n",
       "        comm.close();\n",
       "    };\n",
       "    ws.send = function (m) {\n",
       "        //console.log('sending', m);\n",
       "        comm.send(m);\n",
       "    };\n",
       "    // Register the callback with on_msg.\n",
       "    comm.on_msg(function (msg) {\n",
       "        //console.log('receiving', msg['content']['data'], msg);\n",
       "        var data = msg['content']['data'];\n",
       "        if (data['blob'] !== undefined) {\n",
       "            data = {\n",
       "                data: new Blob(msg['buffers'], { type: data['blob'] }),\n",
       "            };\n",
       "        }\n",
       "        // Pass the mpl event to the overridden (by mpl) onmessage function.\n",
       "        ws.onmessage(data);\n",
       "    });\n",
       "    return ws;\n",
       "};\n",
       "\n",
       "mpl.mpl_figure_comm = function (comm, msg) {\n",
       "    // This is the function which gets called when the mpl process\n",
       "    // starts-up an IPython Comm through the \"matplotlib\" channel.\n",
       "\n",
       "    var id = msg.content.data.id;\n",
       "    // Get hold of the div created by the display call when the Comm\n",
       "    // socket was opened in Python.\n",
       "    var element = document.getElementById(id);\n",
       "    var ws_proxy = comm_websocket_adapter(comm);\n",
       "\n",
       "    function ondownload(figure, _format) {\n",
       "        window.open(figure.canvas.toDataURL());\n",
       "    }\n",
       "\n",
       "    var fig = new mpl.figure(id, ws_proxy, ondownload, element);\n",
       "\n",
       "    // Call onopen now - mpl needs it, as it is assuming we've passed it a real\n",
       "    // web socket which is closed, not our websocket->open comm proxy.\n",
       "    ws_proxy.onopen();\n",
       "\n",
       "    fig.parent_element = element;\n",
       "    fig.cell_info = mpl.find_output_cell(\"<div id='\" + id + \"'></div>\");\n",
       "    if (!fig.cell_info) {\n",
       "        console.error('Failed to find cell for figure', id, fig);\n",
       "        return;\n",
       "    }\n",
       "    fig.cell_info[0].output_area.element.on(\n",
       "        'cleared',\n",
       "        { fig: fig },\n",
       "        fig._remove_fig_handler\n",
       "    );\n",
       "};\n",
       "\n",
       "mpl.figure.prototype.handle_close = function (fig, msg) {\n",
       "    var width = fig.canvas.width / fig.ratio;\n",
       "    fig.cell_info[0].output_area.element.off(\n",
       "        'cleared',\n",
       "        fig._remove_fig_handler\n",
       "    );\n",
       "    fig.resizeObserverInstance.unobserve(fig.canvas_div);\n",
       "\n",
       "    // Update the output cell to use the data from the current canvas.\n",
       "    fig.push_to_output();\n",
       "    var dataURL = fig.canvas.toDataURL();\n",
       "    // Re-enable the keyboard manager in IPython - without this line, in FF,\n",
       "    // the notebook keyboard shortcuts fail.\n",
       "    IPython.keyboard_manager.enable();\n",
       "    fig.parent_element.innerHTML =\n",
       "        '<img src=\"' + dataURL + '\" width=\"' + width + '\">';\n",
       "    fig.close_ws(fig, msg);\n",
       "};\n",
       "\n",
       "mpl.figure.prototype.close_ws = function (fig, msg) {\n",
       "    fig.send_message('closing', msg);\n",
       "    // fig.ws.close()\n",
       "};\n",
       "\n",
       "mpl.figure.prototype.push_to_output = function (_remove_interactive) {\n",
       "    // Turn the data on the canvas into data in the output cell.\n",
       "    var width = this.canvas.width / this.ratio;\n",
       "    var dataURL = this.canvas.toDataURL();\n",
       "    this.cell_info[1]['text/html'] =\n",
       "        '<img src=\"' + dataURL + '\" width=\"' + width + '\">';\n",
       "};\n",
       "\n",
       "mpl.figure.prototype.updated_canvas_event = function () {\n",
       "    // Tell IPython that the notebook contents must change.\n",
       "    IPython.notebook.set_dirty(true);\n",
       "    this.send_message('ack', {});\n",
       "    var fig = this;\n",
       "    // Wait a second, then push the new image to the DOM so\n",
       "    // that it is saved nicely (might be nice to debounce this).\n",
       "    setTimeout(function () {\n",
       "        fig.push_to_output();\n",
       "    }, 1000);\n",
       "};\n",
       "\n",
       "mpl.figure.prototype._init_toolbar = function () {\n",
       "    var fig = this;\n",
       "\n",
       "    var toolbar = document.createElement('div');\n",
       "    toolbar.classList = 'btn-toolbar';\n",
       "    this.root.appendChild(toolbar);\n",
       "\n",
       "    function on_click_closure(name) {\n",
       "        return function (_event) {\n",
       "            return fig.toolbar_button_onclick(name);\n",
       "        };\n",
       "    }\n",
       "\n",
       "    function on_mouseover_closure(tooltip) {\n",
       "        return function (event) {\n",
       "            if (!event.currentTarget.disabled) {\n",
       "                return fig.toolbar_button_onmouseover(tooltip);\n",
       "            }\n",
       "        };\n",
       "    }\n",
       "\n",
       "    fig.buttons = {};\n",
       "    var buttonGroup = document.createElement('div');\n",
       "    buttonGroup.classList = 'btn-group';\n",
       "    var button;\n",
       "    for (var toolbar_ind in mpl.toolbar_items) {\n",
       "        var name = mpl.toolbar_items[toolbar_ind][0];\n",
       "        var tooltip = mpl.toolbar_items[toolbar_ind][1];\n",
       "        var image = mpl.toolbar_items[toolbar_ind][2];\n",
       "        var method_name = mpl.toolbar_items[toolbar_ind][3];\n",
       "\n",
       "        if (!name) {\n",
       "            /* Instead of a spacer, we start a new button group. */\n",
       "            if (buttonGroup.hasChildNodes()) {\n",
       "                toolbar.appendChild(buttonGroup);\n",
       "            }\n",
       "            buttonGroup = document.createElement('div');\n",
       "            buttonGroup.classList = 'btn-group';\n",
       "            continue;\n",
       "        }\n",
       "\n",
       "        button = fig.buttons[name] = document.createElement('button');\n",
       "        button.classList = 'btn btn-default';\n",
       "        button.href = '#';\n",
       "        button.title = name;\n",
       "        button.innerHTML = '<i class=\"fa ' + image + ' fa-lg\"></i>';\n",
       "        button.addEventListener('click', on_click_closure(method_name));\n",
       "        button.addEventListener('mouseover', on_mouseover_closure(tooltip));\n",
       "        buttonGroup.appendChild(button);\n",
       "    }\n",
       "\n",
       "    if (buttonGroup.hasChildNodes()) {\n",
       "        toolbar.appendChild(buttonGroup);\n",
       "    }\n",
       "\n",
       "    // Add the status bar.\n",
       "    var status_bar = document.createElement('span');\n",
       "    status_bar.classList = 'mpl-message pull-right';\n",
       "    toolbar.appendChild(status_bar);\n",
       "    this.message = status_bar;\n",
       "\n",
       "    // Add the close button to the window.\n",
       "    var buttongrp = document.createElement('div');\n",
       "    buttongrp.classList = 'btn-group inline pull-right';\n",
       "    button = document.createElement('button');\n",
       "    button.classList = 'btn btn-mini btn-primary';\n",
       "    button.href = '#';\n",
       "    button.title = 'Stop Interaction';\n",
       "    button.innerHTML = '<i class=\"fa fa-power-off icon-remove icon-large\"></i>';\n",
       "    button.addEventListener('click', function (_evt) {\n",
       "        fig.handle_close(fig, {});\n",
       "    });\n",
       "    button.addEventListener(\n",
       "        'mouseover',\n",
       "        on_mouseover_closure('Stop Interaction')\n",
       "    );\n",
       "    buttongrp.appendChild(button);\n",
       "    var titlebar = this.root.querySelector('.ui-dialog-titlebar');\n",
       "    titlebar.insertBefore(buttongrp, titlebar.firstChild);\n",
       "};\n",
       "\n",
       "mpl.figure.prototype._remove_fig_handler = function (event) {\n",
       "    var fig = event.data.fig;\n",
       "    if (event.target !== this) {\n",
       "        // Ignore bubbled events from children.\n",
       "        return;\n",
       "    }\n",
       "    fig.close_ws(fig, {});\n",
       "};\n",
       "\n",
       "mpl.figure.prototype._root_extra_style = function (el) {\n",
       "    el.style.boxSizing = 'content-box'; // override notebook setting of border-box.\n",
       "};\n",
       "\n",
       "mpl.figure.prototype._canvas_extra_style = function (el) {\n",
       "    // this is important to make the div 'focusable\n",
       "    el.setAttribute('tabindex', 0);\n",
       "    // reach out to IPython and tell the keyboard manager to turn it's self\n",
       "    // off when our div gets focus\n",
       "\n",
       "    // location in version 3\n",
       "    if (IPython.notebook.keyboard_manager) {\n",
       "        IPython.notebook.keyboard_manager.register_events(el);\n",
       "    } else {\n",
       "        // location in version 2\n",
       "        IPython.keyboard_manager.register_events(el);\n",
       "    }\n",
       "};\n",
       "\n",
       "mpl.figure.prototype._key_event_extra = function (event, _name) {\n",
       "    // Check for shift+enter\n",
       "    if (event.shiftKey && event.which === 13) {\n",
       "        this.canvas_div.blur();\n",
       "        // select the cell after this one\n",
       "        var index = IPython.notebook.find_cell_index(this.cell_info[0]);\n",
       "        IPython.notebook.select(index + 1);\n",
       "    }\n",
       "};\n",
       "\n",
       "mpl.figure.prototype.handle_save = function (fig, _msg) {\n",
       "    fig.ondownload(fig, null);\n",
       "};\n",
       "\n",
       "mpl.find_output_cell = function (html_output) {\n",
       "    // Return the cell and output element which can be found *uniquely* in the notebook.\n",
       "    // Note - this is a bit hacky, but it is done because the \"notebook_saving.Notebook\"\n",
       "    // IPython event is triggered only after the cells have been serialised, which for\n",
       "    // our purposes (turning an active figure into a static one), is too late.\n",
       "    var cells = IPython.notebook.get_cells();\n",
       "    var ncells = cells.length;\n",
       "    for (var i = 0; i < ncells; i++) {\n",
       "        var cell = cells[i];\n",
       "        if (cell.cell_type === 'code') {\n",
       "            for (var j = 0; j < cell.output_area.outputs.length; j++) {\n",
       "                var data = cell.output_area.outputs[j];\n",
       "                if (data.data) {\n",
       "                    // IPython >= 3 moved mimebundle to data attribute of output\n",
       "                    data = data.data;\n",
       "                }\n",
       "                if (data['text/html'] === html_output) {\n",
       "                    return [cell, data, j];\n",
       "                }\n",
       "            }\n",
       "        }\n",
       "    }\n",
       "};\n",
       "\n",
       "// Register the function which deals with the matplotlib target/channel.\n",
       "// The kernel may be null if the page has been refreshed.\n",
       "if (IPython.notebook.kernel !== null) {\n",
       "    IPython.notebook.kernel.comm_manager.register_target(\n",
       "        'matplotlib',\n",
       "        mpl.mpl_figure_comm\n",
       "    );\n",
       "}\n"
      ],
      "text/plain": [
       "<IPython.core.display.Javascript object>"
      ]
     },
     "metadata": {},
     "output_type": "display_data"
    },
    {
     "data": {
      "text/html": [
       "<img src=\"data:image/png;base64,iVBORw0KGgoAAAANSUhEUgAAAoAAAAHgCAYAAAA10dzkAAAAAXNSR0IArs4c6QAAAERlWElmTU0AKgAAAAgAAYdpAAQAAAABAAAAGgAAAAAAA6ABAAMAAAABAAEAAKACAAQAAAABAAACgKADAAQAAAABAAAB4AAAAAAfNMscAABAAElEQVR4AeydB3yURfrHf+m9EhKS0DshQOhSBZQqiAXECiii3uF56nme5Sx4f8V2d54ncHbsh55Kka5Il95rEgg1CSEJhBTS9z/PLLvZhCQkm03YZH/j52Xfd96ZeWe+78r+eGaeZ5wMKoGJBEiABEiABEiABEjAYQg4O8xIOVASIAESIAESIAESIAFNgAKQXwQSIAESIAESIAEScDACFIAO9sI5XBIgARIgARIgARKgAOR3gARIgARIgARIgAQcjAAFoIO9cA6XBEiABEiABEiABCgA+R0gARIgARIgARIgAQcjQAHoYC+cwyUBEiABEiABEiABCkB+B0iABEiABEiABEjAwQhQADrYC+dwSYAESIAESIAESIACkN8BEiABEiABEiABEnAwAhSADvbCOVwSIAESIAESIAESoADkd4AESIAESIAESIAEHIwABaCDvXAOlwRIgARIgARIgAQoAPkdIAESIAESIAESIAEHI0AB6GAvnMMlARIgARIgARIgAQpAfgdIgARIgARIgARIwMEIUAA62AvncEmABEiABEiABEiAApDfARIgARIgARIgARJwMAIUgA72wjlcEiABEiABEiABEqAA5HeABEiABEiABEiABByMAAWgg71wDpcESIAESIAESIAEKAD5HSABEiABEiABEiABByNAAehgL5zDJQESIAESIAESIAEKQH4HSIAESIAESIAESMDBCFAAOtgL53BJgARIgARIgARIgAKQ3wESIAESIAESIAEScDACFIAO9sI5XBIgARIgARIgARKgAOR3gARIgARIgARIgAQcjAAFoIO9cA6XBEiABEiABEiABCgA+R0gARIgARIgARIgAQcjQAHoYC+cwyUBEiABEiABEiABCkB+B0iABEiABEiABEjAwQhQADrYC+dwSYAESIAESIAESIACkN8BEiABEiABEiABEnAwAhSADvbCOVwSIAESIAESIAESoADkd4AESIAESIAESIAEHIwABaCDvXAO1zEIzJs3D05OTubD09MTTZo0wdChQzFr1iykpKRcAeLll182l5e63t7eaNq0KUaOHIl///vfyMzMvKJORRnz589H586d4eXlpdvcvXt3RUWtyl+zZo1uVz4dPS1duhTy7spLLVu2xNSpU8u7VWleeXwre06ljfEmCZCAXRKgALTL18JOkYBtCHz66af47bffsGrVKsyePRsxMTF444030KlTJ/z888/lPmT58uW6jny+/fbbaN68OZ5++mkt6Pbs2VNuHcvMc+fO4b777kObNm1gaqt9+/aWRWp83qNHD91H+XT0JMJs5syZ5WL48ccf8cILL5R7r7LM8vhW9pzK2uI9EiAB+yTgap/dYq9IgARsQSA6Ohq9evUyN3X77bfjiSeewMCBA3HbbbchLi4OYWFh5vty0rNnT4SEhJjz7rzzTjz66KO4/vrrcfPNNyM2NhYeHh7m+2VP5H5BQQHuvfdeXafsfVtc+/v747rrrrNFUzZpIycnR1tMbdKYDRvp3r27Va3ZG1+rBsFKJEAClRKgBbBSPLxJAg2PgFj0/v73v+sp3ffff79KA+zWrRuef/55nDx5EjK9W1GS6UYRl5ImTZqkp2mHDBmir+XTdK4zLv8hdWSq0jLNnTsX8kxfX1/4+fmhY8eOeO6558xFypuilJuLFi1Cv379tBiTesOHD9eWQnNFdWKa6j5w4ADuuusuBAQEaBH8wAMPICMjw7JouecyBhHW69atQ//+/fWzpK6kixcv4qmnnkKrVq3g7u6OyMhIPP7448jOzi7VllhjBw8ejNDQUPj4+KBLly548803tXAuVVBdiBX1hhtu0P2UaXmx3so0viRhJ21JspzyP378uM6znAIWy6z0qTyL4OHDh3X9d999V9cry7ey50jf5P0YDAZd1/SHXLdt2xY33XSTKYufJEACdkTA2Y76wq6QAAnUEYExY8bAxcVFi5iqPlKsf5JE+FSURFyYBMlrr72mxdecOXMqKl5u/n//+1/8/ve/19ZDmcJcsGCBtlqWFVFlK3/99dcYP348xHr1zTff4OOPP8b58+e16NywYUPZ4hBrqExNf//993jmmWcg9cU6WpWUlJSkLZx33303ZGpU+itWQLGSfvbZZ3jsscewbNky/OUvf4GsxxR2lgLp6NGjkLpffPEFfvrpJ0ybNg1vvfUWHn744VKPlzHIuyouLsZ//vMfLF68WLd9+vRpXU54T5gwQZ/LVL/pCA8PL9WOXDRu3Bhjx47V/ZP2LJMsFRBxeM8991hmm88re84f//hHHDlyBL/88ou5vJzI+GWcM2bMKJXPCxIgATshoP5SYiIBEmhgBNQPuphjDNu2batwZGrq16CsSeb7L730kq6jLEXmPMuTS5cu6fujR4+2zL7i/Ndff9Xlvvvuu1L3lDgyyFE2TZkyxdCiRQtztppuNgQGBpqvyzsxPUM+JRUVFRkiIiIMypKmz3Wm+kM5rhiUlc2gLHWmLINpnMriZs6TEyXiDMpZxqDEUan8shcyBmGrBE+pW8oqZ3B2dr6C+f/+9z9dXgnFUuVNF9J3NWVu+Pzzzw1KlBvS09P1Lem7ErMGZVGttE9KYOn2Te1ZfgpX4WtKykKqy65cudKUZSgsLNTslCA255XlKzcqeo70v3Xr1gYlvs315US+J2odaKV9L1WBFyRAAnVKgBZAOxHi7AYJ1DUB9TdNtR5Z3fLVatyicJ8+fXDhwgU9Pbtw4UKkpqZa3C3/VCxQiYmJ2vlEiTBzIZlCFkvf5s2btYXOfEOdmCyapryuXbsiNze3XA9pUxnTZ1BQEIYNG2a61J9iyZOpYXG0UaLKfIgXtUzPyrSqKe3atUs/v1GjRtoS6+bmhsmTJ0OJKb3GUspt2rRJTymLdVHq2yIpUaa9wcXiZ0orVqzQ7EzT2Kb8qn4Kb1kjKuOXJQKSxPInU9e27HtV+8NyJEACVSNQ8jdl1cqzFAmQQAMgINOpaWlpUFazKo/mxIkTumx16lS5cYuC4kH8ySefQJ4n4k3WyfXt21d7MlsUK3UqY5FU3tSn9FemPGU62DKJ+LJMJscWZem0zC73vLznnD17Fnv37oWIOctD1iKKeDYJWRFJgwYNwpkzZ/Cvf/0L69evh7LUmqfOTc+XNXuSJBSPrZKrq6sWyTK1LiJbkkxRy3hEqFqbRDxKyB+ZppYkywDk2lpRaW0/WI8ESKDqBOgFXHVWLEkCDYbAkiVLtLVJHBqqmsTBQlJ16li2LbEIy3OyMAkjy7L3338/5BChKmsO1bStXr8mHsZqWtOyqD43iTlZm1c2iWVQrFRitbNVKs8iJ57TInpEvJaXTJ7VsqZRxvXDDz+UGkvZWImyZk+Sab1feW1akydcZb2hrLUURx15r+KoImtCrU3iSKOmmvHRRx9pJxixMMoaRzWVb22TrEcCJFDLBGgBrGXAbJ4E7I2AWKDEU1V+tMs6HVTUV4n/J04d4lV6xx13VFSs0nypKwIuLy/PXE4sdzLVWVESD1mZthQP5Pz8fIjnbnmpQ4cO2uNWHDksp6pFaImTh8kzuLy6tsoTBwuZ+hQxKqF3yh4yfkkm8WiyOEqe9PnDDz+UU3MSD2N5R2JVsxyTucDlE1M7Jsth2ftlr8WLWCyqItKEl7wPEYVXS1d7jji+iJgXpxSxLsq0MBMJkID9EqAF0H7fDXtGAjUmsH//fvNaNNn9Q6Yb5YdfrD0yDWiyMlk+aMeOHVp4SCw/sZ6Jd6d4q8pUrHihireoNUmmdiXsjMQHnD59up6CltAn4rVrmeSeWNIGDBigpyaTk5N12BMRQ71797Ysaj4XC5+0JV6sIsRE2IqwEUuXiJHXX3/dXLa2TsSKJmJTwruIN7GsKZSpZxHcyukCf/rTn7TwktA0wlBC0EiAbVl3KGFvyk5Ry/pFCdfz4IMP4sYbb9TMJGZjfHw8RJC/9957eigSQkaSBPgWsSzvVp5d2XuSqVlhJO9XhKYI6Kulqz1HPKpHjRqlvX8lFJCE8WEiARKwYwLqX5ZMJEACDYyAEnna21P91aM/lRjQ3rDiwaoseQYlBq8Ysck71lRHWXwMam2YYcSIEQa1Vs2gYtxdUae8DJMHaVkvYCmrQqRoz2Pxto2KijKomILaS9XSC1jKqC3rDOKlLP0W715ldTSo9XXmx5meIZ+WSU2vGpR1S3vzKuuhQcWoM2zcuNGyiME0zrLeziZmCQkJpcqXvRCGapu7stn6Oisry/DXv/7VoASV7rsSrdozWQlCgxKy5jpKSBuUQNL9VLECDX/+858NKmyKfldlxyTew/JMGY+KA6i5KbFnbksJXYMSiQYl5g3KuqjbMI2hrBewqZKaijcoka3LKsujKdv8WR7fyp5jqqjWE+o21fSyKYufJEACdkrASfplx/qUXSMBEiABEqgnBEwe1xKIWhxhmEiABOyXAKeA7ffdsGckQAIkYPcEZKp9586d2Lp1q15W8I9//IPiz+7fGjtIAmo9Mi2A/BqQAAmQAAlYS0CsfbL1nazlFM9fWZtYE49ia/vBeiRAAtUjQAFYPV4sTQIkQAIkQAIkQAL1ngDDwNT7V8gBkAAJkAAJkAAJkED1CFAAVo8XS5MACZAACZAACZBAvSdAAVjvXyEHQAIkQAIkQAIkQALVI0ABWD1eLE0CJEACJEACJEAC9Z4Aw8DU4BVKlH+JpC+bvZu2d6pBc6xKAiRAAiRAAiRQBwQkBHJmZiZUoHm9V3gdPNLuHkEBWINXIuKvWbNmNWiBVUmABEiABEiABK4VgVOnTqFp06bX6vHX9LkUgDXAL5Y/SfIFKrufaQ2aZVUSIAESIAESIIFaJKC2ttQGHNPveC0+ym6bpgCswasxTfuK+KMArAFIViUBEiABEiCBa0DA9Dt+DR59zR9JJxArXsHs2bOhNrJH7969rajNKiRAAiRAAiRAAiRwbQlwJ5Aa8BcTckBAADIyMmgBrAFHViUBEiABEiCBuiTA32+AFsC6/MbxWSRAAiRAAiRAAiRgBwQoAO3gJbALJEACJEACJEACJFCXBCgA65I2n0UCJEACJEACJEACdkCAAtAOXgK7QAIkQAIkQAIkQAJ1SYAC0Ara9AK2AhqrkAAJkAAJkAAJ2A0BegHX4FXQi6gG8FiVBEiABEiABK4RAf5+0wv4Gn31+FgSIAESIAESIAESuHYEOAV87djzySRAAiRAAiRAAiRwTQhQAF4T7HwoCZAACZAACZAACVw7AhSA1449n0wCJEACJEACJEAC14QABeA1wc6HkgAJkAAJkAAJmAgUFhbho3dewqff/YCc3DxTNj9rkYBrLbbNpkmABEiABEiABEjgqgSOHj2CBy+8g4ILLnC5+fRVy7NAzQnQAmgFQ8YBtAIaq5AACZAACZBABQSSD23Ud067tYKzh3cFpZhtSwIUgFbQnDFjBg4ePIht27ZZUZtVSIAESIAESIAELAkUn9quLy826maZzfNaJEABWItw2TQJkAAJkAAJkMDVCQSf36cLubfodfXCLGETAhSANsHIRkiABEiABEiABKwhcD4zB+2K4nXViKhB1jTBOlYQoAC0AhqrkAAJkAAJkAAJ2IZA3IHt8HbKQza8ENAsyjaNspWrEqAAvCoiFiABEiABEiABEqgtAhfiftNNn/HupDaodamtx7DdMgQoAMsA4SUJkAAJkAAJkEDdEXBL3qUflh/Wve4eyieBApBfAhIgARIgARIggWtCoLjYgIisg/rZ/m37XpM+OOpDHUIAnjp1CkOGDEFUVBS6du2K7777rtT7vvXWWxEUFIQJEyaUyucFCZAACZAACZBA7RE4lngWbXFSPyCi88DaexBbvoKAQwhAV1dXvPPOOzp2388//4wnnngC2dnZZhiPPfYYPv/8c/M1T0iABEiABEiABGqfwMn9v8HFyYA05xC4BkbW/gP5BDMBhxCA4eHhiImJ0YMODQ1FcHAw0tPTzRCGDh0KPz8/8zVPSIAESIAESIAEap9A7omt+iGpAdG1/zA+oRQBuxCA69atw7hx4xAREQEnJycsWLCgVCflYs6cOWjVqhU8PT3Rs2dPrF+//ooyVcnYvn07iouL0axZs6oUZxkSIAESIAESIIFaIuCXuke37NS0Zy09gc1WRMAuBKBMx3br1g3vvfdeuf2cP38+Hn/8cTz//PPYtWsXBg0ahNGjR+PkyZPm8iIKo6OjrzgSExPNZdLS0jB58mR88MEH5jyekAAJkAAJkAAJ1D2BrLxCtM4/oh/cuOOAuu+Agz/R1R7GL2JOjorSP/7xD0ybNg0PPvigLiLr+VasWIG5c+di1qxZOm/Hjh0VVdf5eXl5EGePZ599Fv3796+0bEU3pQ05TOnixYumU36SAAmQAAmQAAlUg8DB2Dj0cUpFMZwQ1LZPNWqyqC0I2IUFsLKB5OfnQ8TdiBEjShWT602bNpXKq+jCYDBg6tSpGDZsGO67776Kil01X8RmQECA+eA08lWRsQAJkAAJkAAJlEsg5fBGnZ/s3gLw4Dr8ciHVYqbdC8DU1FQUFRUhLCysFAa5Tk5OLpVX0cXGjRsh08iytlCcQeTYt8+48bTUGTlyJCZOnIilS5eiadOm2LZtW7lNifUwIyPDfEh4GSYSIAESIAESIAErCJw2ztxlhRidNK1ogVVqQMAupoCr0n9xDrFMYtUrm2d53/J84MCB2vHDMs/yXKaTq5I8PDwgx+zZs/UhwpSJBEiABEiABEigegTkNzwkY7+u5Nmyd/Uqs7RNCNi9BTAkJAQuLi5XWPtSUlKusArahEgVGpkxY4aOKViRpbAKTbAICZAACZAACTgsgZNpWYgyxOvxN4liAOhr8UWwewHo7u6uw76sWrWqFB+5ttaZo1RDvCABEiABEiABEqhTAnEH98DfKQd58IB7eOc6fTYfZiRgF1PAWVlZiI83/ktAupWQkIDdu3frgM3NmzfHk08+qZ03evXqhX79+ukwLhIC5pFHHrkm75FTwNcEOx9KAiRAAiTQQAhkxP+mR3LWpwOau7g1kFHVr2HYhQCU4MyyG4cpieCTNGXKFMybNw+TJk2CxPB75ZVXkJSUpGP9icNGixbKc+gaJJkClkPCwIhXMBMJkAAJkAAJkEDVCFzMLUDBSeMOIMWRDABdNWq2L+WkFmIabN9sw27R0gIYGxurvYL9/f0b9qA5OhIgARIgARKwAYE5K/fizo2jEeyUhaJJX8Gl01gbtFq9JkwGHIns4ai/33a/BrB6r7RuStMJpG448ykkQAIkQAINi0DGpQJc3PSxFn/ZPs3g0n5UwxpgPRoNBWA9elnsKgmQAAmQAAnUZwKfr4/HvYaf9BC8rn8CcLGLlWj1GanVfacAtAKdTAFHRUWhd2/GLrICH6uQAAmQAAk4IAGx/iVu+hJN1fZvuR4hcO5+jwNSsJ8hUwBa8S44BWwFNFYhARIgARJwaAKfbjiKqcULNAP3ATMAN0+H5nGtB08BeK3fAJ9PAiRAAiRAAg2cgFj/4jd+jw7Op1Hg6gvnPtMa+Ijtf3gUgPb/jthDEiABEiABEqjXBD5Zfwz3F/+ox+Da50HAkyHUrvULpQC04g1wDaAV0FiFBEiABEjAIQmkZeVh96Zl6OkchyJndzj1+51DcrC3QVMAWvFGuAbQCmisQgIkQAIk4HAECoqKMePrnZhSZLT+accPvyYOx8EeB0wBaI9vhX0iARIgARIggQZA4JXFB1GYsAnDXHbD4OQMp/5/aACjahhDYACehvEeOQoSIAESIAESsCsCX285iUWbD2CpxxzdL6eYu4FGbeyqj47cGVoArXj7XANoBTRWIQESIAEScBgCWxPS8eLCfXjD7UNEqrh/CG4NjHrdYcZfHwbKvYBr8Ja4l2AN4LEqCZAACZBAgyRw+nwOxr+3EaNzl+D/3D6FwdkNTg/+DETE2M14+fsN0AJoN19HdoQESIAESIAE6jeBhNRs3PfxVoTmxOFFty/1YJxG/M2uxF/9Jmy73nMNoO1YsiUSIAESIAEScFgCW46l4eEvdyAvJxPLvN6Du6EAaD8K6PuIwzKx54FTANrz22HfSIAESIAESKAeEPh+x2k888NeFBUVYZ7/PLTMPwP4hQPjlQOIk1M9GIHjdZEC0PHeOUdMAiRAAiRAAjYhUFxswDs/x+Ld1fFqTVkxvmk8D30z1ynR5wLc/hHg08gmz2EjtidAAWgFU/EClkP+pcNEAiRAAiRAAo5IIO5sprL67cOOE+fhgiIsjvwCUWnK2cNZSYsJnwAtBzoilnozZnoB1+BV0YuoBvBYlQRIgARIoF4SyCsswpxfj2LOmngUFBng7w781PRzNE9cbhR/E+cBncbVaGxFyrIooWRSMnMR6ueJPq2C4eJsu6lk/n4DtADW6CvKyiRAAiRAAiTgOAR+O5qGFxbuR3xKlh70iA5B+Jf7HHjFifhzA+74HOg4pkZAlu9Pwky1g0hSRq65nfAAT7w0LgqjotW6QiabEKAAtAlGNkICJEACJEACDZeAePi+83McflOfkkJ8PfD6jcG4Yf/TcIrbBrgoM+AdXwAdlNdvDZKIv999uROGMm0kKzEo+XPv7UERWIaNtZcUgNaSYz0SIAESIAESaMAEDAYDtqhp2H9ZCD83FydM6t0Mz7ZPhs9PE4AcJQg9A4xr/treWCMaMu0rlr+y4k8alTyZAJb7w6Oa2HQ6WNp3xEQB6IhvnWMmARIgARJwGALVXU+XlVeIhbvPQPbyPZB4UXMS4XdHr2b4/ZDWiNw7G/j2NZWvZFl4N+O0b1DLavM0FBai6Px5FKal6ePwwRPot30XAvOzEJirjrxMdWThp9YDsLJFHy0CZVpY1gb2a0Pv4moDL1OBArAMEF6SAAmQAAmQQEMhUNX1dGLt23/mIv677SQW7DqD7HxjlAt3V2dM7NkUvx/aFpHFycDiu4Fja4x4ekwBRr8JuHmacRXn5qLosqArTE1DUboSd+qzUH0Wyae6Z8orunBBacgSe5+PamW6uaWSk/Bs47SzKUccQ5hqToACsOYM2QIJkAAJkAAJ2B2Bq62nm3NPd7Ro5Isl+xKxZG8SjqflmMfQOsQHd/dtjtu6RyKgIAuFP7+OnHUfozC7AIX5AShqPgqFO4NRtOrPStSlm0VfcZbROcTc0NVOVJBol+BguKojy9sfG9KKccHDF+c9/JChP31x0i+sVCviFcxUcwIMA2MFQ8s4gLGxscjIyIC/v78VLbEKCZAACZAACdiegEz7DnxjdSlPWtNTnAzF8M/PQUh+JvwuZSJITbPKdGtIQTY6eRairVu+ztfWurRUGAoKTVWr9Onk5gaXRo3gqg6XEPUZrA71acrT+Y1C1H0V2iUoSMWMVkGjVTL1WRw+SuyCJY+UNYBNlDfwhr8Mq/EaQIaBUWsqldm3PM4lxHlWIQF+gSpEwxskQAIkQALXkICEa7n7g01ocTEZ0WkJiEo/jvDsVDTKvYig3Ey4KhFYneTsZjAKuIiWRmGnxJurEnEulz+1wBNLXkgInH191e5v1sXsM1ktpW+W4sTUmq28gPn7zTiA1fn+sywJkAAJkAAJ2C0BQ34+cvbvR9L6zchavRHzjx2CX8GlCvub4e4Dj8YhCG4WXiLq/LzgmrYVLklr4eqeD1fPYrj0ngDnm2bVybZuEudPRF7ZOIBi+WMcwApfpVU3uAbQKmysRAIkQAIkQALXlkBxdjYytu/EqbWbkLN9B3yOHYZrYYHuVNPLXbuk4vMdCm6J/Y1a4bh/ONK8/JHu4Y8Lnr4oVFu2fTP9OrQQj1plHcSW/wCb31Y11To+ibfceghww0tAZA91UXdJRKCEeqnNnUDqbjT2+yQKQPt9N+wZCZAACZAACZgJ5J5LRcKvm5C6aQuc9u1BYGICXNRUrtp/AyoSn05i1TsY0hrprTthnVck9ns1QbGzcY3d5SL6Q6ZUZXeNPoEqzMsSZd3b9SVQeNlaGNHdKPzaDLWsUqfnsu0bQ73ULnIKwNrly9ZJgARIgARIoNoE8gqKELc3FonrNiNv1w74xx1A6HkVhkWlEIvWkr2DEB/WFjkduyDwut6I6tMFdzcNhKebC6Iv76ohYq/0ejoDYpziMSd0C1zeW65uXl4PKMJv4BNqH9+blYeA1GJqyAQoABvy2+XYSIAESIAE7J5AZm4BDp3JQML2fcjavh2eh/aj2ZkjaHwpA83K9P5kQDjOtugAdO2OsIHXITqmHYYoS155Thdl19N5IRfjXTbhAfdf0N6QAJy63HibG5TwexxoOYjCrwzvhnxJAdiQ3y7HRgIkQAIkYDcEJOjG2Yt5aneNDBw6mYa0XfvgcmAPIk8dQWflqdu1jMNGoZMzksNaKuteNHx69UKrIf0wvHUknNX0aFXTqM5NMDwoGSnrPkHI0R/gVqjW94k50FXF0ut8G9Dv9yq2SpeqNsdyDYiAQwjAU6dO4b777kNKSgpcXV3xwgsvYOLEifo1VnavAb1nDoUESIAESKAOCRSrOHwJadl6K7UDyroXezwFhfv3ocWZWCX2jmHA+ZPwLDI6bJi6VeDmjoxWHeEa0wNNBvZF8wG90cVH9sewImWlAHu/BXZ/DZeUA9qnQ7cS3BroNQ2IUTt6eAdb0TCrNBQCDhEHMCkpCWfPnkVMTIwWgT169MCRI0fgo/7Hquze1V4y4whdjRDvkwAJkEDDJ1BYVIyj57LVVmoZ2KcO+Tx1PBGtk45qsSdx+NpmnNEOG5Y0Cnz8YejSFY2u64NG/fvCs1MnSBBlq5OK8YfDS4D93wNHVytLn3E7N7h4qHV9Y4Hu90KZEaFMiFY/oqFU5O+3g8QBDA8PhxySQkNDEayCVaanp2sBWNm9hvJF5zhIgARIgARsQ8Bk2dt7+gL2nlaCTx0HEi/CL+OcnsYVsTddWfiaZyoLXJlkCG0C39494de7N7x79YR769ZwqqkYy88G4lYaRV+s+izKK3lq095GS59M9XoFluTzjAQUAbuYAl63bh3eeust7NixQ1vkfvzxR9xyyy2lXtCcOXN0GbHYde7cGe+88w4GDVILVquZtqsFtsXFxWjWrOzSWqCye9V8DIuTAAmQAAk0AAKpWXnYffICdp8yHnuU8Mu8VKAE3lm1w8YxDFOC7w/qCL104YrRurdpo4ReLy32vHv2hFtExBVlrMrIzQBiVwAHFwLxv5SEb5HGQtoD0RPUoURfSDurmmclxyBgFwIwWwWz7NatG+6//37cfvvtV5CfP38+Hn/8cYgIHDBgAN5//32MHj0aBw8eRPPmzXX5nup/rrw8i3/5XG5l5cqViLj8P11aWhomT56Mjz766IpnVHbvisLMIAESIAESqLcEZM/Z8oIMy1Tu4eRM7Dx5HjtPqEMJv5PpOXApLkIbNYUbnXoMjyuxF622VfMXy5tlUvvZekZFQYSed+9e8FJLjVzVPrc2SxeTlOhbpqZ4lwIJa5WlL7+k6aCWQJQymnRRwi8smp68JWR4VgkBu1sDKK7sZS2Affv2hazbmzt3rnkondRaCbESzpqlAlhWIYk4HD58OKZPn64dQiyrVHavbDlLkSlrCMSSmJGRAX9/f8uiPCcBEiABErBDArLXbNltxnw9XNA0yFuLvZz8IngU5qPj+RPmKd0o5bDhUVjawODk6QkvZbjQgk9N58q5s7UOG+VxUh7DOHugRPQl7ixdKkSFgolS8fokZp948TJuX2k+V7niGkA7mQKu7D3lq70NZWr4mWeeKVVsxIgR2LRpU6m8ii7E9X7q1KkYNmzYFeKvsntl2xOxOXPmzLLZvCYBEiABEqgHBP634xSe+m7vlT3NzETA8b24S03pdj1/HG3On9ZWP8uCzgEB8FaGCFm7J6JPrH1O7u6WRWp+LmFgEtYr0aeCM8sU78XTpduM7AV0HAN0uEktaO9Y+h6vSKCaBOxiCriyPqempqKoqAhhYWGlisl1crIxKnqpG+VcbNyoNsVW08hdu3bFggULdIkvvvgCXbp0QWX3yjb17LPP4sknnzRnmyyA5gyekAAJkAAJ2A2BjJwCbElIw6ajadh8LE1P70rnxJoXcy4evVIO62ndlmo9X9nk2qRJiXVPCT6Ptm1r7rBR9iFyna4CMsetMjpyHFfirzC3pJSrl/LaHawE32jj4dek5B7PSKCGBOxeAJrGVzbKuVjuyuaZypb9HDhwoHb8KJsv15XdK1vew8MDcsyePVsfIkyZSIAESIAE7IPAJTV9u/V4OjbFp2Lj0VTtnSszqZKaZKfh5uRD6H32ELqmHoV7caHxxuU/T/qG4kCjVhg8YTi6jh4Ct8iIKv/GlGroahdi5Tux0ei8IcIvLa50Df+mQPuR6hilxJ9ydHRTIpCJBGqBgN0LwJCQELioxbVlrX0S1LmsVbAW+JTb5IwZMyCHaQ1BuYWYSQIkQAIkUKsExJlDYu6tjzunjlTsUk4b+cqRQ5I4boizxoiLceilhF9gyplSfTnrFYStTTphd+N2WvhlePjq+216x6BX08hSZWt0IQo0VYm8o8pbN/5n4PiG0lY+Z/Uz3Lwf0G440FYdoZ24nq9GwFm5qgTsXgC6qzUW4uG7atUq3HrrreZxyfX48ePN13V5QgtgXdLms0iABEighEBSxiWsiz2HdUrwbVSWvgtqmteU/POyMTbzKG64EIcWCWqbtWy17dnlZFCGhH2BLbTo2xbWCSf91LKichwnQv08TVWs/5QwLceUp64WfUr4ZZwq3Za/Ephtb1DHjUDrIYBnQOn7vCKBOiBgFwIwKysL8fHx5uEmJCRg9+7dOmCzhHmRdXeylVsvFU+pX79++OCDD3Dy5Ek88sgj5jp1eUILYF3S5rNIgAQcmUB+YTG2n0jHWiX61h45Z17Hp5ko61rn3HO4NS8B3U4fgO+xw1Drfcy4XFQYFt/Bg+A7ZAg8+/XHtLnbkZyRq7fCNRe6fOKkPpsEeKJPq+Cyt65+rayNSNxlnNaVHThObyvZhUNquyhnkRb9gTZK9Imlr3HHcsXn1R/EEiRgOwJ2IQAlAPPQoUPNozI5WkyZMgXz5s3DpEmTIHH6XnnlFR0oOjo6GkuXLkWLFi3MdXhCAiRAAiTQMAikZOZizeFzWH04BRuUlS8rr2S9nkdxAW4pTsKwC7FoemQXnM+dLTVoj44d4Xv99Ur0XQ8v5fjnpCx/pvTSuCj87sudELF3eWmgviXXkuS+i7PpyphX4Z8qLqC28IngO7YGuHS+dNFGbY0WPhF9LQcA7lbu6Vu6VV6RgM0I2F0cQJuNrBYbspwCjo2NZRzAWmTNpkmABBo+AXHqk+3Ufj50Fr8cStH76VqOur1TNiYWnkCMWPkO7gHySjxlnZRjns9112nBJ5Y+t8vbflrWtzwvLw5guLL8ifgbFR1uWbT0uThvHN9o3GNXpnbPKWujZfJQ07itr1dWvmHGI4gGCks89nZuWsPvyHF8KQBr8K3kF6gG8FiVBEjAoQnkFhThNxWexST6ki+WiDpnQzFuck3DSLWer3X8bjgdK1kiJNBcI8K1lc9PCT5vtVGAswrKXJ1U0U4gpdoQ5w0ReeK4IdutnVBxZy332XVyBiJ7XhZ8yson5y52MalWahi8KJ8Af7/rQSDo8l8dc0mABEiABOobgQy1h+6aIylYeeCs/sxWYVtMqZEhH3c7n0G/c0cQvG87DBkWe+s6O8MrJuby1O4QeLRvV6MQLTLN269NI9OjSz5lGlecN0T0ydTuRTXNa5nEeUMsfOLA0UpZ+7ytWC9o2R7PSeAaEuA/V6yAbzkFbEV1ViEBEiABhyGQoix7Kw+exYoDydriV6hCt+ikLGwxyMCE/OOIPrUfHof2KQubURBKCWc/P/gOEgeO6+GjPm26r66JvjiMJF123hDRp503VJ4puSrLYgu1fk8En6zla6y2XyvHc9hUnJ8kUJ8IcAq4Bm+LJuQawGNVEiCBBkGgvOnUxAuXsHx/MpYr0bfz5HnIbKokt6JCjCpOxOjMY2gZtwtOSaUtbO5t2pgdOLy7d4eTm5uxoi3/VAGhtfOGBGGWtXw56toyyR67Ep5FRJ947jIQsyWdBnPO329OATeYLzMHQgIkQAJ1TaA8hwo3FycUFF1WfKpDQbkXcXvBSVyfdgQhR5QDx6UcczdF4Hn36aPDtIilz71ZM/M9m52YrHwi+OJWAmd2qqZL+gd3P6PzhhZ9SvgF1kIfbDYYNkQCtiPAKWDbsWRLJEACJOAwBET8PaJCqpRNhYVFaHfhDMZkxWNgWix8j8eVKuLauLHZY1e8d519aiE8yiW1flCse1r0KeGXk1qqDwiLNlr5JCZfs77KeaMWLI0WT8wvykd2QTZy1T6/+cX5arcSdajPgqICJUXVf8pEavqULU5dnFzg5uymQtK46HNPF094uKqtSF084KX2B5Z7Vd0K1aIbPCWBUgQoAEvhqNoF1wBWjRNLkQAJNDwCp9JzsHhPIv6xKtY8OM/CPPRIidX77PZR264F52Wa78mJZ5cuRtF3vQrIHNUJTsqpw6ZJe+weAWKXG618JzeXDsQsVr42Qy9vt6asfP4RVj++SAV9PnfpHFIvpeJczjl9Ltfnc88jIy8DF/Iu6M+L+ReRVZClhV9hcaHVzyuvorPyQPZx84Gvm6/509/DHwHuAQhQ4WhM58GewTAdQZ5BCPQI1KKyvDaZ53gEuAawBu+cawhqAI9VSYAE6g2Bs8qRY8neJCzem6j325WOeyjR1+fsIQw+swe9zh6Gp7JmmVKOslbtbNwePe64Cd0mjIFY/WyeCvNVaJYNwBEl+kT4XThR+hGylq/9CCX6RhqtfK5qN44qJhFyJy6e0MepzFM4k3UGiVmJSMpOQnJ2MooMRVVsqXQxsdy5q11B3J3d4aasjvIpYk6sefKfKYlglGfIpxx5KvxMblEuilV4nJoksSyKIAzxCkFj78Zo7KUO9RnmHYZQ71D9KeciIhu6hZG/31wDWJP/l1iXBEiABBosgQs5+VimHDkW7j6DLQnp2pFDRN/glMMYde4AOp3cV0r0JXk3wubwKGxV++weaNQaBSom3r/6xaCnLcWfOHDIOr4jS9UU769AvoWlUbZbazlIib5RRuEX1LLSdyPTrmLFi1P7Bh+7cAzxF+Jx9MJRJFxM0Ba8yiq7OrmikVcjLaBETIV4h2hhJRY2OURAyWGy0Hm7ecPb1RuuztZPukl/RQyKEMwpyEF2YTay89WhPrPys5CpWIhwzcgvsUKm56ZDDrFOimVSRKVYK+U4lH6owiHKNLMIwSY+TRDuE248fMMR4ROBcPXZxLuJFrAVNsAb9YKA9d/GejE8dpIESIAESKCqBCQ4swRmXrArUe29m6KdOdyVZa+/mtYdf+EQok7shUt+nrk5EX1rm3bD+ohuOBagplXLhEgJ9ategGZzw5YnaUeBw0uU6FsGnJKpXQsrmG+YsvApK1+H0dBx+Tx8LWuaz8VydvzicRxOO4zD6cbjyPkjWhyZC5U5CfUKRXP/5mjh3wJN/ZpqERTpG6k/RfTJ+ry6TGKRE6uhHH4ypV3NJOJRxKCevlZrIk1CMCUnBZaHlLlUeEnzEmblJbFaisVQBKEwifA1fsp5pF+kFo81EbvlPZN5tidAAWgFU64BtAIaq5AACdglAQnjsuVYGn7YdUaHbpF9d0X09VbTujelH0S3U/vgYrH1mlvTpvAdORJ/PBuCrS4hMJQRfTJImcxsorZX69PKikDJ4rWbqGLzHf7JKPxS1do+yxTWxSj4OihLX3h3FTDwyvWEZ7PPYm/qXuxL3YcDqQdwMO2gXo9n2Yyci5Bp7tccbQLbGI+ANmgd2FrnidWuISURZCLa5EA5MbBNY5XpZuEnU90y5W2a9jZNgcu1lJH7cuxMudIRSKaaxXrY1LepFs8iDEVEm67FStrQp5hNPO35k2sAa/B2uIagBvBYlQRI4JoSOJKcqUTfaSxU1j7Zhs1Nib6eKUcw8tx+9DqzH64Wok+2XvMfNRr+o0fDM7qz/vEWL+DfXfYCtgiqYl7JNvfeHpXvrWs5elnPd3y9UfSJpS8zqeSuTJu2HKhE303qUKIvsHnJPXUmThlizduVsgt7UvZg97ndWrSUKqQuxJO2Q3AHdAzuaD7aBraFpwR7ZqoyAZmKTstN02siRRTK+kjTGknTeUFxyXrQ8hoWBxYtCi8LREtxKPmyTrK2E3+/1T/U1Mu0/H+3tpk3qPb5BWpQr5ODIYEGTyA1Kw+Ldidq4bf/zEUdmLmHEn3DkvfhuuQDcM+7ZGbgGi6ib5Q6RsKza9dyLTblxQEMV5a/l8ZFXV385at4gPFq9w2x9Ikjh1q/Zk7uaipXQrR0HGsM1+IVaL4loVMOpB3A9rPbsePsDi38JMSKZRLLXvug9ugS0gXRIdHo3KiztvBxWtKSUu2cy3S7eEefzjptFIeZZ/T56czT+lOmmytL4gwjVkqTKJQp5b5N+qJHWI/KqlX7Hn+/KQCr/aWxrMAvkCUNnpMACdgjgfzCYqw+fBb/23Eavx45B6fCAnRXIVuGJO7FgLMH4GEp+po0gf/IEUZLn4i+cqZXy46xvJ1AZK/dcpMKCo3YFcChhcqZQ4k/tdbMnHwaKwvfGKDTOLWeb7ByUfTQt8TCJ+v2tiRvwdakrXrKUdaoWSY/Nz90C+2GmMYxiAmN0cKvoU3hWo63Pp/L9LFYCrUgVKLQfK4Eo+TlFJYECjeN86GuD+EP3f9gurTJJ3+/6QVsky8SGyEBEiABeyOw/0yGFn3ixZuZdUmJvjg8lrgHg5Slzyu/REC5hoXBT0SfmuL1iulWJdFnOVYRe/3aVLKoTIIyy7TuwQXKc3e1mrNV072mJNO5nW42Wvqa9VGL8oyOFRJ65bfE37A5abM+xMPVMgV5BKFXk17oGdZTH+0C29W5U4Zlf3hedQISzLp1QGt9lK0lE5Ln887jTBmrYfdQtdaTyeYE6ARic6RskARIgASuDQEJ3bJAOXN8u/00jpw5j5hzcZiq4vQNSN4PH0vRp0Kz+Mn07uhRSvTFVFv0XXV0l84bHTgOKNF3bA1guSasUTsgSok+EX7h3bTnsIQ12XZmA9afWY9NiZsgAtAyiYVPBF/f8L7o3aQ3ZO2eTPMyNSwC4hhiClzdpbFy9mGqVQIUgFbgpRewFdBYhQRIoFYIFCsv3k1H0/DfbSfxy75EdDobi+FK9L2UtB/+ss7ucnJpHAL/4TK9q0Rfz562F325ag3f4aXAgR+MMfosRV/jTkDnW4yiL1Sdqx/64xnHsfbg59ighJ+s5bN0HJA4e10bd0X/iP7oF9FPr+Gr67ArJm78JIGGSoBOIDV4s1xDUAN4rEoCJFAjAskZufhu+yl8t/U4guP26x05+iftQ4Cl6GvUSK/pE2uft4g+FxvHrsvLMu7Csf97o0OH5fRuaGej6IsaDzTuoPe9lZAha0+vxbrT6/QuG5YAxPtzYORADIgYgD7hffQWZ5b3eU4CtiTA32+uAbTl94ltkQAJkECNCFzNoULurzmSgm9+S0Daxs0YqCx9byaK6CvxgnUJDobfiOHag9e7d2/bi76CXKPYE9EnW7Cp6Vtzku3Xom9Twu9WLfpkP9wNpzdgzcGPtaUvs6BkLZ945PYK64XBTQdr4dfSv2W5nsbmtnlCAiRgUwKcArYpTjZGAiRAAtYRqCykSrdmgZi/5Tj2/LQGnWO3YZry4A20EH3OQUFqeleJPjW9q0Wfq43/aleeuDpO377vlDPH4tIhW4JaAV0mKNGnhF9YlA4i/OupX/HLrrexPXk7Cg2FZiCyvksE3/VNr9dTuxIPjokESODaEOAUcA2404RcA3isSgIkYCZgCqpcNiirk4qpFp2WYJzeVZa+4LwSCxr8AxCoQ7Yo0denD5xsLfokRGzSHmDvt4BY+7KSzf2Fn9r2TSx90bcDEd1xIvMkfj7xM1afXK134CgpCO3tOaTZEAxtNlSHZ+FaPks6PL9WBPj7zSnga/Xd43NJgARIQBOQad2Ziw/CLP6U8Gp/4RSuP71bC78Qca64nIp8/JToG47AMWPg01eJPjc30y3bfZ4/AYilT4Sf5TZsnoHGNX1dJgLN++PoxQSsPLESq3b8H+LOx5V6frfG3XBD8xswrPkwvZduqZu8IAESsAsCNp4nsIsxsRMkQAIkUG8IbE1IR5Jy6PAszMOo41swLmEjIrLTzP3PUluVbYqIRv9pd6LXbSNqR/RJgOaDC4E9/wVObDA/GypmGzqq4Mxd7oChzQ2IzzqJFcdXYOXuN5GQkWAuJ167Ep7lxhY3aktfY28V1JmJBEjArglQANr162HnSIAEGjKBS/lFWL7xEO47tBzjjm2EX4ExQHOuixt+C4/G2sgY7AxVHrQurmjZQcXrs6XFr0itzTv2qxJ93xhj9hUq5w6d1C4erQYBXSfpXTmO5qZi+fHlWLnkDhzLOGZ+HW7ObjpMi0n0BXgEmO/xhARIwP4JUABa8Y4YB9AKaKxCAiRgJnAqPQffL9kKfPs1bjm2GZ5qf1tJZ3xC8H27IVjdtDvyLm+FZqoU6udpOq3ZZ8phJfq+Vsf80uv6xIM35i5t7TvlVKxF37KV95ea3hXRNyByAEa0GKEtfb6yZy8TCZBAvSRAJ5AavDYuIq0BPFYlAQcjINtc/aYCNi/+cS2arfher+9zUU4ekuKDm2F+myFqqrcLisvscKHscWgS4IkNfxmmtjuTKyuSbMcmjhy7v1Iqc0dJA17BSvCpNX1K+KUERCjRtwLLEpZhf9p+cxkJ1yKx+Ua2HAlx5vBz9zPf4wkJ1FcC/P2mE0h9/e6y3yRAAvWEQG5BERbsPI31/1uJvluWYHLKEXPPc2PUtmaP/Q4n/Fpg41e7zPmmE5Pce2lcVPXFX7ESl8fXA7u+BA4tAkxTvE4qGHT7kUr03Y2M5v3wS+I6LN03G1uTtypHFKMriosqI9uujWo5SjtycHrX9Eb4SQINhwCngBvOu+RISIAE7IjA2Yu5+GLjMcT+sARj9q3Co8qzV1Kx2gbNZdhwtJzxMDyjonTeKPXn3HudtDewOISYklj+RPyNig43ZV39M+OMsvSpKd5dXwAXTpSUl+3Yut+DfBWkef2FI/jp2E9Yu/2lUluwdQ/tjtGtRusp3kZejUrq8owESKDBEeAUcA1eKU3INYDHqiTQQAkcSMzAp7/GIuenxbg1bg2aZp3TIy1yc4ffLbcg/KEH4d6sWbmjv9pOIOVWkkxZQxi3Etj5ufHz8tQyPPx1rD5DzL3Y5eaExQk/aS/ezPySeIJtA9viptY3aeEn27ExkYAjEODvN6eAHeF7zjGSAAnUMoFi2aItNgWfrTqIxmuW4Jaj69FIQquoVOTji5B77kbIlMlwVXvzVpZkjV+/NpWXKVVfYvaJ6JNpXstAzS0GAD0m41TTHlh86mcs3voCTmedNlcN9QrVok+EX4dg5fzBRAIk4HAEOAXscK+cAyYBErAVgbxCtb5v1xn8d8VudNuyAn9I2ASfy2vtDCGNETbtAQROnAgXXxtueSbhW2KXATvmKe+RX9RQjOv24B2i1/VlqW3ZVmYdxcL4hdi5+1XzUL1dvXWcvpvb3Kz34OWOHGY0PCEBhyRAAeiQr52DJgESqAmBjJwCfLnlBJYt34qhe1bh5ZPb4V5s3PPWuWUrhD00HQFjb4KTu3tNHlO6rqztE2vfzs+AzKSSe62HoFhZ+7YGhmFhwhL8/MuDyC0yriN0Vh7F14Vfh3FtxmFYs2HwdvMuqcczEiABhybgEALw1KlTuO+++5CSkgJXtV/mCy+8gInqX+WSMjMzMWzYMBQUFKCoqAiPPfYYpk+f7tBfCg6eBEigfAJJGZfw8foEbF2+AWMP/oI31P68zpctcO5duyH0kYfgO2QInJydy2+gurniySvBmrd/AhxRVj9DkbEFsfYph47EjqOxMG03Fhz+AInZiebWWwW0wi1tb8FNrW5CmE+YOZ8nJEACJGAi4BBOIElJSTh79ixiYmK0COzRoweOHDkCHx8fLfry8vLg7e2NnJwcREdHY9u2bWh0lbU6ApCLSE1fI36SQMMmEJ+ShffXxOP4yl9x2+HViEmNNw/Y+/rr0VhZ/Lx79jTn1fhE4vaJJ++2j4D0oyXNqbV9ecrat9rHGz8cW4wtSVvMoVv83Py0I4cIv+iQaDgpb2MmEiCB8gnw99tBnEDCw8Mhh6TQ0FAEBwcjPT1dC0AXFxct/uRebm6uFoQSsJWJBEiABPadzsCcX44g5+eVmBC7Bg/INKxKBvX3RsDYsWik1vh5tm9vO1DJKgDz1g+Afd8BBTnGdsWTt9udiO1wI35I24XFB/+Ni/lGBxMpIPH6bmt7m47X56n2DWYiARIggaoQsIsp4HXr1uGtt97Cjh07INa6H3/8EbeocAmWac6cObqM3O/cuTPeeecdDBo0yLJIlc63b9+OYjWt0swiDMOFCxdwvfpXfFxcnH5GSIiaXmEiARJwSALyD8CtCen4z8qD8F69DBPj1yE8J02zMHh6odGkiQieMgVuERG24SNOHYd/Mgq/ExtL2gyNQk7PyVjuF4Dv1dq+vRueMt9r4tNET/GKtY+hW8xYeEICJFANAnYhALOzs9GtWzfcf//9uP3226/o/vz58/H4449DROCAAQPw/vvvY/To0Th48CCaN2+uy/dU0y8ylVs2rVy5EhGX/6JOS0vD5MmT8dFHalrFIgUGBmLPnj16mvi2227DhAkTEBbGdTMWiHhKAg2egAi/tbHn8PHS3Wi6dikeOrYBgfnZxnEHBKowLvch+O674aL+vrBJykk3evJu+1itJzltbFJ26eg0DoejRuO7zFgsOfoZsguMfXB1csXQ5kNxW7vb0C+8n9oZRJVlIgESIAErCdjdGkBZt1LWAti3b1/Iur25c+eah9mpUydtJZw1a5Y5r7ITEYfDhw/XDh7iEFJR+t3vfqedQkxOIpblpA1LkSlrCMSSmJGRAX9/NU3DRAIkUO8IiPD75VAKPl+4BR02LMHo45vhVZSvx+EUHoHQB1UoF/UPQ2cvL9uMLeUQsFn9Xbb3W7U92yVjm8qp41L3e7E8rAW+Pbmq1F68zf2a4/b2t0PCt4R4cXbCNi+BrTg6Aa4BrAdrAPPz8/XU8DPPPFPq+zpixAhs2rSpVF5FF/IX/NSpU7WwKyv+xDnES/3FLgJOvhAyHS0isLwkYnPmzJnl3WIeCZBAPSMgwZtXHjyLb/+3FjEbf8KfT++E6+UdNFzatkPYIw/Df9RIOKnIATVO4s179Bfgt9lGr15Tg0264mi3CfgOmViUsBSZiZn6jquzK25sfiMmtJ+A3k16Q8K5MJEACZCALQnY4G82W3bnyrZSU1O1Y0bZKVm5Tk5OvrJCOTkbN26ETCN37doVCxYs0CW++OILdOnSBadPn8a0adMgIlGORx99VJcrpxk8++yzePLJJ823TBZAcwZPSIAE7J6ASfgt/HIZ+mxWwi/5oLnPbr16o8nDD8Fn4ADbeNEWKAvf3vlK+M0BUo8Yn6PEXEGHMVjdpi/mqxAu22JLlqQ09W2KiR0m6vV9wZ7B5n7xhARIgARsTcDuBaBpwGVDGohYK5tnKlv2c+DAgdrxo2y+XMvawd27d5d364o8Dw8PyDF79mx9SNxAJhIggfpBQP7OWLEvCas+/QH9tizBY+nHdccNatmJ57AbEP7wdHipfyTaJGWnKqeOD41hXHLUuSR3P6R0uwP/Cw7B/9T2bOcOqvsqiXXv+qbXY1KHSegX0Y/WPk2Ff5AACdQ2AbsXgOKRK6Faylr7JKhzWatgbcMytT9jxgzIYVpDYMrnJwmQgP0REOG3en8i1s79Cv22LcWDmWd1J4tcXOF7880IKIeOCAAAQABJREFUf+hBeLRqZZuOpx0FNv0b2PONWt9n3I3DENAcu7uNx1dqmveX07+iMFV5/arUyLORXts3sf1EiFcvEwmQAAnUJYEqC0DZKUNEmARLbty4sY6lVxcddVdbKYmVbtWqVbj11lvNj5Tr8ePHm6/r8oQWwLqkzWeRgHUERPht2HcSm//9KfpsX4G7JLiySgWe3gicdAfCp90PNxUX1Cbp1DZg4zsqnMsS1ZwxjmheRAyWth+Eby4ewaFTC82P6R7aHXd2uBPDWwyHm4ubOZ8nJEACJFCXBCoVgFlZWfjqq6/wzTffYOvWraU8YJs2bQpxxHjooYfQu3fvGvVZnhMfH29uIyEhQU/LSsBmCfMi6+7EeaNXr17o168fPvjgA5w8eRKPPPKIuU5dntACWJe0+SwSqD6B7buPYts/30fPnT9jrKzDUynXT4VymToFEZPvgYufX/UbLVtDCUzErTIKP4v4fSntbsD8iLb47uxmnD9hFH4eLh4Y02oM7u50NzoGdyzbEq9JgARIoM4JVBgG5p///CdeffVVtGzZEjeraZI+ffogMjJSe8zKLhr79+/H+vXrdciW6667Dv/+97/Rrl07qwawZs0aDB069Iq6U1Sw1Xnz5ul8iQH45ptv6kDRsl2b9G/w4MFX1KnLDNMUMMPA1CV1PosEKiZwYMch7P77bETtWQfPogJdMDNE7QSkpnkjJ90OZ7WGt8ZJAjcf+AHYoCx+KQeMzTm7YX/UGHwZ4IsVSb+h0GCc5g33Cddr+25vdzsCPQNr/Gg2QAIkYBsC/P0GKhSAEgfvxRdf1J6yleGWuHgff/wxZKr2wQcfrKxog7lnOQUcGxvLOIAN5s1yIPWVwNHfdmH/3/+NNge2wOVyKJfUpm3QfMYjaH7zaDipdcQ1TgVqTd8etT+vCL8LJ3RzRe6+WNN5JD5zzsau9BJv4h6hPXBv1L0Y2mwoJKQLEwmQgH0RoACsRADa16uyz97wC2Sf74W9ajgEilSsPtmWLSUzF6F+nujTKljtgOGkByhr/BJ/XY/D78xBROwe86BPtumKtn/8PVoPH1zlSAHmyuWd5GWpHTs+Vc4d7wFZxtBTOT6N8GPHIfgy7wxOZyfqWiL0RrccjXui7kHnRp3La4l5JEACdkKAv99VDAQtU7FDhgzRW7XJuztx4oTehq1///4ICAiwk9fJbpAACTQkAsv3J2Hm4oNIyjB608rYwgM88dKYDuh+ai+OvfsfBJ6Mg+zIWwQnHOnUF52emIGRg3vZBkNuBrDlA7VrhwrefOm8bvNcQCS+atsb32bGITNdOX6oFOARgDva34E7O96JUG8bOZXolvkHCZAACdQegSrNTaxYscLscHH+/Hm9LZt4A4uTxurVq9GhQ4fa66Edtmw5BWyH3WOXSKDeExDx97svd172pzUOx02t6eu2ZzNc/vcy0lWcPVlRl6esbjs7D0LnJ36H2/t3sc24ZY9e2apty/vqAUoEqnQspBXmNY/CTxmHUZC+U+e18G+B+zrdh3FtxsHbzVvn8Q8SIAESqC8EKlwDaDkA2SpN1rrJvrfvv/8+3nvvPb092/PPP4+jR4/ihx/UgmgHTDQhO+BL55BrnYBM+w58Y7XZ8uel1t6NTdiEW46uR3Cecau0TDcvbOg8BNF/mI7h/TvaZqo3O03t2KGmebcqq1++mvZVaVdYO3zSpAXWXIw1jzumcQymRk/V6/u4RZsZC09IoF4R4O93FaeARfhJaBb5FLEnU8Li9DF9+nQMGjSoXr10dpYESMC+CciaP9O0b9+kA/j93h8RejmG3zmvAPzQ5nosb9kXHz48CIPaNa75YLTwU8GbZecOJfwkit/68I74OKQxdmYpZw8l/pzUf8OaD8PUzlMRExpT82eyBRIgARK4xgSqNAU8depUvUfuTTfdpKd8ZQpUkmyFJjH8mEiABEjAVgTE4SMo9yIe2bsAgxP36maTvIPxdcfhWNO0Owove9WmZ+fX7JEy1bvpXeM6v4JsSOCWFZEd8LFa1xx3STl7KPHnpsK73NzmZi38Wga0rNnzWJsESIAE7IhAlQTgs88+C/G4W7lyJV5//XW0bdtWD2Hbtm06ULMdjadOusI1gHWCmQ9xQAKG4mKErV2GD36eDV+1lVqR2if3h7aD8VWHEchzdS9FRLyCrUpiTdw8R033qiM/EyIjFynh94mfN07lqWngS5fg4+ajHTsklAsdO6yizEokQAJ2TqBKawArGsNbb72F3NxcvPDCCxUVadD5XEPQoF8vB1fHBHKPJWD/n56BzyGj1S82sCnejZmIo4GRpXoiQWCaKG/gDX8ZZg4JU6pARReyfnDLf5TVT033Kg/fS05O+D6iHT71cUdKwUVdK9AjEPdF3aeDN4t3LxMJkEDDJMDf76usAXzuuedwyy236F1AyvsK/PnPfy4vm3kkQAIkUGUChsJC7HtHed1++iF8lKdvrtof9/uYsfg68joUO5cO4GyMAAi8NC6q6uJPAjhv/1gt7Ps7kJOGHCX8vo1oo4VfemG22hxYxRj0CtWOHbJjBz16q/zqWJAESKAeE6h0CjgpKQljx46Fi4qiP27cOIwfPx433ngjPGyxnVI9hsaukwAJ2IbAme17cPTPz6JxUoJucE9Ye+Q+9jReGH8dBh5OuSIOoFj+RPyNig6/egdkK7hdXwJr3wQyE5GlhN9/w1viMx8PXChS+wMXFiDSNxIPRD+AW9reAneX0lPMV38AS5AACZBA/SVw1SlgWfu3YcMGLF68GIsWLcKZM2cwfPhwvT+wiMOQkJD6O3ore265BpBbwVkJkdUcmkBu9iWs/essRC7/Xm/dJmFddo2dgluefQhh/l5mNpXtBGIuVPZErSPEwR+B1f8HpB9DthJ+X4dG4jO1xi+jyBhUurlfczzY5UGMbTNWO3qUbYLXJEACDZsAp4Ct2Aru0KFDWgwuXLgQ27dvR9++fbUYvOuuuxAZWXqtTsP++qjoEBcv6p1QMjIy4O/v39CHy/GRgE0I/LbgZ+TN+hvCMlJ0e/va9kSHV2eiW7c2NW//6Grg55eBpD1a+H3TKAzzAvyQUZyn227p3xIPdX0Io1uN5h69NafNFkig3hLg77cVAtDybZ87d05bBcUyKPEAn3rqKcvbDf6cX6AG/4o5QBsSOHPmHDY8PRNdd/yiWz3v5Y+LDz+BEQ9NgvPl/X2tflziLmDVS0DCWu3cMT+oET4OCsIFC+H3cLeH9V69LmXWFVr9TFYkARKotwT4+12BAJTt3mTqV7Z6E5G3bt06vd1bdHR0vX3ZtdFxfoFqgyrbbGgECoqKsWDOfDT55F2EXA7ofKzPDej/9kwEhTaq2XDPHzdO9e77Todz+S4gEB+pAM6pl4WfbNf2cFcl/Gjxqxln1iaBBkaAv9/leAF/9NFHmDVrForVOpqnn34aX331Fbp27YqXXnoJjz32GB566KEG9jXgcEiABGqLwNad8Yh9YSZ6Ht2uH5Ee0BjBL72Mm8YMq9kjJYizePWqbdsKi/KxyNcHc0PDkWxQUf2U+BPnjke6PYKxrcdyqrdmpFmbBEiggRK4wgmkW7du2LJlC3JycnSQZ9kCrnHjxnq92+DBg7F79+4GiqL6w+K/IKrPjDUcg0BaVh6+nfUhui/+FAH5OShWjhjpYyag/9+egYu3t/UQCpXA2/ah8ux9A8Uqlt9KH2/MVsLvOJTHr0oStFksfre2vRVuKpwMEwmQAAmUR4C/3+VYACXki6enpz5kxw8Rf5LEycFJ/SXOBFh6AZMHCZBACQFZOrJgxQ5ceuM1DEk6pG+cb9ICbd+ehc69upcUrO6ZaheHFisHj5dgUJ69m7w88a/mLXHIRXn8KvEX5BGkvXondZwEDxeP6rbO8iRAAiTgcASuiAPo6uqqd/cQEbh27VozkMxMFUWfSROYMWMG5DD9C4JYSIAEgLjki1g0810MXfcdvNS0rOzZa5gyDf2enAEntxpY48TBY/lzwMlNOODujn+oaANb3SVAdLHesm1K1BS9e4evuy9fAwmQAAmQQBUJXCEAV69ebQ70HKA2RTelS2p/zI8/VtH0mUiABEjAgkB+YTE+/+8aBM99C2PSjus7GW2i0OWdN+DTrq1FyWqeZp4FfnkF2P0VTrq64N2wUKzwNu7/6+bshjs73onpXaYjyDOomg2zOAmQAAmQwBUC0Ne3/H9Fh4aGQg4mEiABEjAR2BGfgl9n/h0jdiyBW3ER8tw94f+HP6LvtMlwcnY2Favep2zdtnmOdvI4X5iD/wQH4tsAfxTCACf1nzh2PNr9UUT4RlSvXZYmARIgARIwE7hCAJrvWJxcuHBBW/+Sk5PRqlUrxMTEqKCt3eDj42NRiqckQAKOQiA7rxAff7QEbT/7F266mKSHnd29L7q+/SrcrQ0IL+v8jiwFVjyHvAvH8ZW/Hz4Maqa2cFP5SvwNiByAJ3o8gQ7BHRwFM8dJAiRAArVGoEoC8LbbbsO+ffvQu3dvLFu2DLL9mYSJad26tRaD3377ba11kA2TAAnYF4H1+05hx8tv4MYDq+GihFmutx/CnnsOHW8fb72jWGocsOwvMBz9BcuUZ++/mjVDoos4nRnQMbgj/tTrT7gu/Dr7AsHekAAJkEA9JlAlAShhYcQhpFevXnqoeXl5OHDgAPbs2aOPejx+dp0ESKCKBDIuFeDTd79F1/lzMTInTdfKvf5GdJk1E64qaLxVKU85l619U035zsUeNye8GdEEez3cdVMS0uWx7o9hXJtxcHaycjrZqk6xEgmQAAk0fAJVEoCyA4izxXoeDw8P9OjRQx8NHxFHSAIksHp7POJefg0j43/TMHICGqHF/72CkOFWBnSW6d7936vp3ueRfOkc/tkoEEtVMGdJXq5emBY9DZM7T9bnOpN/kAAJkAAJ2JRAlQTgG2+8gRdeeAHff/+9jg9o0x7Uw8YYB7AevjR22SoCYvX77I156LHgIwzOvajbyB97G2JefhYuFTiMXfVB544AS5/CpePr8aly7vi0WSRy1WyvOHiMbzteW/0aexvjj161LRYgARIgARKwisAVO4GU18qJEydw33334dSpU7jrrrvQt29fdO/eXe8UUl55R8kzxQHMyMjQgbIdZdwcp2MQWL/lMBLUNm69Txp3/8lsHIF2b85CUL8+1gHIz9bTvYbf3sNKTzf8vVEwklR4F0k9w3ri6d5PI6pRlHVtsxYJkAAJVIMAf7/VP7pV5H5xsas0ydq/tLQ0DB06FCdPntTbwZ0/fx6BgYHaG1hiBzpi4hfIEd96wx9zZm4B5v9tDrou+gx+BZdQpNbfFU+6F9HPPglntfzDqnRkmbL6/RlHcpLxRqMgbFM7eUgK9wnXDh4jWoyw3oHEqg6xEgmQgCMT4O93OVvBlfeFOHjwIDZv3oyuXbuab4sQ3LVrF/cGNhPhCQnUfwJbN+7FqRdewoDEw3ow6ZGt0fmfbyKwa2frBpdxWnv3XoxdgjnqH4zfRIarfYGht2uTdX5To6dynZ91ZFmLBEiABGpEoEprACX8S1ZWVqkHNW/eXE8Bjx8/vlQ+L0iABOofgdy8fCx68R20++lLRBUVIN/FDUVTpqP/k7+Dk9oestqpqBDY+j4Mq1/FYmU0/HvTCKSrfcYlDW8xHE/1eoqBnKsNlRVIgARIwHYEqvQ3++OPP46XX34Z8+fPR1AQt12yHX62RAJ1R6Co2ICtCelIycxFqJ8n+rQKhouzEw5t2oUTzzyHLinHdWeSWkWh+7tvIahda+s6l7QHWPQYjqQewGshQdip9hWX1NK/JZ7r+xz6RfSzrl3WIgESIAESsBmBKq0BNIWACVaxvm6++WZcd9112glEpoQlJIyjJq4hcNQ3X//GvXx/EmYuPoikDLXN2uXU1McZj5zZgK5rF8LNUIQcN0/kPfgo+v3hfuu2cRMnjzWzkKNi+s0O9NU7eRQ5OcHLxRMPd3sEk6Mmw01ZFplIgARI4FoT4O93FdcAJiQk6LV+Evh59+7dkLAwx48fh4ua0unYsSP27t17rd8ln08CJFABARF/v/typ9pToyR1TD+OJ375Fs0zU3RmfPse6PPOLIS1bl5SqDpnR1fDsPiPWJ1/DrMiQ3H28rSxTPeKd28TnybVaY1lSYAESIAEaplAlaaAW7RoATks1/tlZmZqMVgfxJ+Er5EwNikpKXBVP0wS03DixIml0Obk5KBTp046/+233y51jxckUF8JyLSvWP5M4s+zMA9TDi7Dzcc2wlnlnvfwxbxeEzD7/afgdjkkS7XGeuk8sPKvSNz3DV5TYV3WBhnj90X6RuL5vs9jUNNB1WqOhUmABEiABOqGQJUEYHld8fPzw6BBg/RR3n17yhPR98477+h9i0UEyi4mY8aMgY+PcecB6eurr76q4xvaU7/ZFxKoKQFZ82ea9m194Qxe2DoPTXKUaFNpVbNe+LDLOGS6+2D7iQvo16ZR9R536CcULnkSXznnYLby7r2kdgtydXbFA9EPYHqX6fB0Na79q16jLE0CJEACJFAXBCoUgBLmRTx9q5rOnDmDyMjIqhav03Lh4eGQQ1JoaChkLWN6erpZAMbFxeHw4cMYN24c9u/fX6d948NIoDYJiMOHpH6J+/H0jq/gqTx8z3oF4d3uE7AztIP50aZy5ozKTrJT9U4eB+N+wsshjXDIw+gYJsGcX+z3IloHWOk8UtkzeY8ESIAESMCmBCrcYV1Cv0yfPh1bt26t8IGyA8aHH34I2Sv4hx9+qLDc1W6sW7dOi6+IiAgdDHbBggVXVJkzZw5atWqlt6Lr2bMn1q9ff0WZqmRs374dxcXFaNasmbn4U089hVmzZpmveUICDYVAYx93TIxdjb9u/UyLv52N2+HRoU+UEn8yVvEKrlI68CMuze6Dt5N+xV0RTZT4c4efmx9m9p+JT0Z+QvFXJYgsRAIkQALXnkCFFsBDhw7htddew6hRo+Dm5gbZDUQEmqcK6SC7gEhw6AMHDuj8t956C6NHj7Z6NNnZ2XpHkfvvvx+33377Fe1I+BkJRSMicMCAAXj//ff186QPJiuliMK8vLwr6q5cuVL3W27IbiaTJ0/GRx99ZC63cOFCtG/fXh+bNm0y5/OEBOo7gfMXspD47LN44OBGPZRFrfrjgy7jUeRsjMcnmSomM5oEGEPC6EIV/SFWvyV/wtZjy/BSSDBOq78TJI1uORpP93kaIV4hFdVkPgmQAAmQgB0SuGoYmNzcXCxdulRb3MTz99KlSwgJCdFhYEaOHKmtf7Ycl5MKG/Hjjz/illtuMTcrew/Lur25c+ea88RhQ8pU1XIn4nD48OHaqikOIab0rPqB/PLLL7VHswS7LigowJ/+9Ce8+OKLpiLmT2nDUmSKG7lYErkXsBkRT+yEwI49R3Hm0cfQ7twxvZXbf5Tw+6n1gFK9E/Enae69PTAq2rhEwphT5s+DC5G55An8w7MY//P30zfDvMP0dO/gpoPLFOYlCZAACdg/AYaBqeJewHX5KssKwPz8fHh7e+O7777Drbfeau7KH//4R+2FvHbtWnNeRSey3fHdd9+NDh064OWXX66oGObNm6fXAFbkBSx1Z86ceUV9CsArkDDjGhEoVl6/X3/zC5r+/UWEKWePHHcvePztdZxu0+WKOIDhyvL30rioisWfePgufRrr4hdhprL6pShnKkmTOkzC4z0eh6+77zUaJR9LAiRAAjUjQAFYxTiANcNcs9qpqakoKipCWFhYqYbkOjk5uVReRRcbN27Uu5hI4GrT+sIvvvgCXbp0qahKufliLXzyySfN90wWQHMGT0jgGhI4n52POa/Nw6iFc+Ctwr1cCA5Dx08+QFDH9ohW/Roe1aTcnUDK7XL8z8hY9Ae86Z6LRU1CdZEWfs3xslrr16tJr3KrMJMESIAESKD+EKhwDaC9DUEsg5ZJrHpl8yzvW54PHDhQO35Y5pV3PnXq1PKyzXmy64kcs2fP1ocIUyYSsAcCO0+kY/Fzb2HCjoU6vl9mp27o/clcuFps3Sjbvl011Ivs5rHyBaw78NVlq5+vWifopHfxeLT7owztYg8vm30gARIgARsQsHsBKOsNZceRstY+iedX1ipoAx5VamLGjBmQw2RCrlIlFiKBWiAg/xD6fG0cLs76P9xxYpt+gmHcrej92kw4XXbUqPJjz+zAxe8fxBvOF8xWv5bK6ve3ga8iJjSmys2wIAmQAAmQgP0TqDAMjL103d3dHeLhu2rVqlJdkuv+/fuXyqurC7EARkVFQULlMJHAtSKQnVeIP3+0Fl7PP44blfgrVlbywL88g05vvlo98VdUCKx9E799ORa3+agpXz+j1W9K1BR8d/P3FH/X6gXzuSRAAiRQiwSqZAGUqdEHHngAgwfXjsefeN/Gx8ebh2nae1gCNkuYF1l3J567EoqmX79++OCDDyCBqh955BFznbo8oQWwLmnzWeURiDubiZnvLsK0ZbP1zh6FXt5o+a9/wq+6/4+mJ+DSD9Pxz5x4fNPEGMqlmdrG7dVBs9A9tHt5j2YeCZAACZBAAyBQJQEo+/6OGDFChzyRWH1Tpkyx6a4fEpx56NChZpwmRwt5jnjmTpo0Scfwe+WVV5CUlKRDz0hoGtmfmIkEHI3A0n1J+Prdb/DEb59rZ4/i8Ai0/+gDeLRpUz0Ue/6LvSufxvOB3jgeYAzvMqn9HXiy15/g7eZdvbZYmgRIgARIoF4RuGocQNNoJIiyxMsTQSbbpd14442YNm0axo8frwNFm8o5wqelE0hsbCzjADrCS7eDMRapEC9vLT+M5E/m4cH9i+ECA9x69ETL2f8u5exx1a7mXkThT0/iw9Mr8H5ggIoT6IRQz0Zqrd9r6B95bZZVXLXPLEACJEACNiRgWsPvyGHcqiwALbnv2rULn3zyid5Rw9fXF/feey9+//vfo127dpbFGvw5v0AN/hXbzQDTVYiXx7/chpgfPsToE1t0v/zVrjkRL70IJ7VOtsrp1Dac+vEBPOORh72eHrra6Jaj8Px1f0WAR0CVm2FBEiABEqjPBPj7DRUxoppJpmBlezU5xDt3zJgxeks4cYr45z//Wc3WWJwESOBqBA4kZuDOt5bjps9f0+LP4OSM0Gf+goj/+1vVxZ/a/9qw7u/48dtbcbtfsRZ/vi5eeH3Q63jz+rco/q72EnifBEiABBoYgSqtAZTt0RYtWoRPP/1UCz8JqPzEE0/gnnvugZ+fce3Qf/+fvesAj6Lqoic9BAg1QOi9S1cBC6BIFwRRRFAsIEWqIO2nd5COdAQEpAqigCCKBQTpvfdO6BBKElL2f+eFWWbTWJKQbJJ7v2+zM2/evHnvzGb3zK2LF6Nt27a6PZlhFGk5ZhNwpIPSIAjEIwKr9l3GhNnr0evfWcj+4CbglRq5xo5G2qpV7b/K/Wu4u6IlBt4/hN8zZ9Dnlfcpg2Gvj0T2NNntH0d6CgKCgCAgCCQbBOwyATMXX5jSIDRt2lTX0i1TJnJOsNu3b+t6vYzgTSkiKuSUcqcTfp309xu9/hi2LfkVvXfMR+qQQLhkz47c06bCs3Bh+yd0+m/s/qU1eqZ1xhVVys1VKf2/LNsBn5b8FC7OLvaPIz0FAUFAEEhGCMjvt52l4Gjafe+99+Dp6Rnt7c+gKg6kJPIXLRByQBCIIwL+gcHotHA30q5diUEHftbBHqnKlUPOb1Wwh0qNZJeEhSLkr2GYeWAmpqX31jkCc3llxciq4/CCz7OVQLTretJJEBAEBAFBIEkhYJcJuEqVKroEWsSVsQrBhQsXdK6+iMdkXxAQBJ4dgTM3HuCLOVtRc8MC1D27VQ+QrmFDZBs4AM72Bnvcu4qry1ugR+Ap7MoQHthRP28d9K7cD6ndUj/7pOQMQUAQEAQEgWSHgF0EMF++fDr/XpYs4UXhDRRu3boFHktpNXHFB9D4BMh7fCKw5eQNdJu9CR02zkaZGydhUelZsnbriowqCbu9da9xZiM2/tIK/0vrgjupPJHa2R19XhmIevnrxedUZSxBQBAQBASBJI6AXT6Azs7OuHr1Knx8fGyWe+7cOV0S7cEDVUA+BYr4EKTAm/6clvzDtnOYseAv9N3yHXI8uKGCPbyQc7QK9njjSYL0GC+tfHSDN32DifumYu7jpM7FvPNj9JuTkNs7d4ynykFBQBAQBFIaAvL7/RQfQKMiB7UPffv2Vb9JT6oDUOu3bds2RBUQktI+SLJeQSC2CISEhmHImiPYt3I9Rm+fhzQM9vD1DQ/2KFLEvmEf3sKVFZ+h24PD2P+Y/H2oKnp0fakH3F2eIUegfVeTXoKAICAICALJAIEYTcBM+Eyhr9+BAwfgbvJB4nbp0qXRrVu3ZACDLEEQSHgE7qlgjw6L9iC1CvYYzGAPSxhSlS0bHuyRKZN9E7q8F5tWfIReXqG4qxI7p3XxwODXRuLNPG/ad770EgQEAUFAEEiRCMRIAP/66y8NCuv/TpgwAd7e3ikSpIiLFh/AiIjI/rMicPlOAFrO3ooqvy9A/TNb9OnpGtRHNlXv2tkjvELH08YM2fU9pmwegJnp0qiuLiihTL5j3pqCHGlyPO1UOS4ICAKCgCCQwhGwywcwhWMU7fLFhyBaaORADAgcuHgXHWb8g1Z/zUK56yd0sEcWlVg9U6uW9gV7hAThxupO6OG3AdtVoAflg4IN8bUq5yYm3xiAl0OCgCAgCDxGQH6/Y/ABpP/f4MGDkTp1ahi+gNF9csaOHRvdIWkXBAQBEwLrD/lhxMzf0fvfmch1/zpUck3kGv0N0lavbuoVw6b/ZexZ2gRdnW7guiJ/qZxcMfCVIahdoG4MJ8khQUAQEAQEAUHAFoFoTcD0/2MJOIrhC2h7avie3ekpojpZ2gSBFITA3M1nsHLOzxixbR7SBgfAJVs25J46BZ7FitmFguXsFixc/RlGp3FFiCJ+BVJlxdiaM5A/XX67zpdOgoAgIAgIAoKAgYCYgA0kYvEuKuRYgJYCTwlTZd2G/XoEl+YvRLv9P8FVBXt4qnrauSZ/C9cIqZWihEcFYQVsm4qBu8ZgTZrwSPxa2V/FwKpj4OX2JDI/ynOlURAQBAQBQSASAvL7DVUY1A5hEMiGDRt0NLAd3aWLICAIPEYgMDgUHX/YCZcp49Fx33JN/rzr1UWe+fPsI38hj3BhZSs03z9Bkz9W7+1etjNGVZ8i5E8+ZYKAICAICAKxRiBaE7B5xJs3b6Ju3brIpFJTfPDBB/joo49SdP4/iQI2fzpkOzoE7jx8hPYzN6Lm8m9R4dox3c2ncydkat3avmCP+9ewZel7+BrX4e/hjkwuqTC6+mRUyPZidJeUdkFAEBAEBAFBwC4E7DYB37lzB0uXLsXChQuxadMmFFFJaps3b44PP/wQefPmtetiya2TqJCT2x2Nv/UwzctX49fg0zWqEse9a7Co1C45R42Cd80adl3EcmkPvv+5OcZ5OSFMJWIvlSYPxtb6DllTZ7XrfOkkCAgCgoAgED0C8vsN2E0AzTBevHgRixYtwuzZs3HixAmEhISYD6eYbfkApZhb/UwLPX71HoYO/QHt/poJ7+CHQOYsyDt9ClKVKGHXOAH7F2PAv33xa+rwFC8Nc76JPlVHSYoXu9CTToKAICAIPB0B+f2OIQ1MdPAxMnjnzp26DNzZs2eRNatoJKLDStpTHgI7zt7Cgr6T0G3nUu3v51y8BPJPmwK3LFmeDoYK9vD7oy86nlmGI4r80T+je9ku+OCFT+0zGT/9CtJDEBAEBAFBQBDQCNgVBMKerArSqlUrTfhatGiBtGnTYtWqVbhw4YJAKQgIAgqB9fsvYUOH3mizY3F4pG+Nmii0cIF95E+lhdm35H18cH4Fjih/vwxO7phRYxaalvpMyJ98ugQBQUAQEATiHQG7gkBy5swJBoLUrFkT06dPx9tvv63y14abp+J9RjKgIJAEEAhVqV22n7mFa/cCkSWtJy5euo6HfXujwdUjevbp232JbB2+tI+83buKVUsbYoCzPx65uqCQZ2ZMqrtASrolgc+BTFEQEAQEgaSKgF0EsF+/fnjvvfeQIUOGpLpOmbcgEG8IrDt4BQNXHcaVu4F6zMwP72Dg1u9Q0v8KQlzdkHPkCGSoW8eu64Ve2YeJPzfD7FROqr8TqmUqhRE1Z0qKF7vQk06CgCAgCAgCsUXALgL4xRdfxHZ8OU8QSFYIkPy1XbAblserKnDnoiJ/s5Ep0B+3PNIicMAIvFD3DbvW/PDoavT8uyv+SuWu+7cq2BjtK/eFs5Pdnhl2XUc6CQKCgCAgCAgCERGIlgBKLeCIUD3ZlzyAT7BISVs0+1LzZ5C/l68cQs+dC+AZGowz3tkwsOJncD5qQVXVz8WZGr3o5ep/E9HhwGQcUeTPXQ04sGIf1CvaJPoT5IggIAgIAoKAIBCPCERLAKUWcPQof/nll+DLCCOPvqccSU4I0OfPMPvWPrsV7fcuV6V0LNiZpQiGv9gcD91SAcoszH6VCmSKeulhYTiytiPa+23ANRXskdHJDRNqTEcZX0nuHDVg0ioICAKCgCDwPBCIlgAy6teQ77//HgwEcXa2NU1ZVNoKiQI2UJL35I4AAz4oL/kdxpePyd+avBUxtVRDhDqzSFu4GP2Mfeu7ivT968cP0CPwJAJcXVHALR2+rbcIOb1zWbvIhiAgCAgCgoAgkBAI2DK6aK6YL18+3LhxI9LRW7dugcdEBIGUgIC3pxsK3LmEnjsWwEVp/tbmeRnfln7XhvwRB0YFR5KHt/DD/OroFHQKAepBqlLa/JjfeK2Qv0hASYMgIAgIAoJAQiAQrQbQfHFq+qKS+/fvSzqYqICRtmSHgH9gML5ftQMDVLRvqtBH2O1TCJNLN1KBu098/biVLZ0nXsqX0Wb9YbdOY/SPjTDfI1S1O6Gx76voXX0i3JzdbPrJjiAgCAgCgoAgkFAIxEgAGQhCcVI/ckwF4+XlZZ1XaGiorgZSpkwZa5tsCALJEYHbDx6h5bSN+OTHccison3Ppc2qfP4+ttH8GTSw/9vFbQJAAi9sR69fP8EfnuEm4s6FP8RnFXvalx8wOYIpaxIEBAFBQBBwCARiJIAMBKFQA3jgwAG4u4enq2Abt0uXLo1u3bpxV0QQSJYI3LwfhOYz/sP7q6ai4N1LsKhcmK5DxiLt9tu4/zgPIBdOzR/JX62SvlYcbh/5GR029cA+ZTp2U0r0IS/2RJ0SzazHZUMQEAQEAUFAEEgsBGIkgEYgyKeffooJEybA29s7seYZp+syUOWjjz7CtWvX4Kqc7/v27asTWxuDsq1kyZJ6t0KFCpg1a5ZxSN5TMALX7wWh2aytqPbHQlRUgR9w90C+aVNRXD34VKtmWwmEZl9z6peLO2agzb5xOOfhhrQqVnjiG5NQIffrKRhNWbogIAgIAoKAIyHgpLR7UTv4OdIs4ziXK1eu4OrVq6C5miSwXLlyOHbsGFKnTq1Hzpw5c5RBLk+7rJEG5u7du0mWHD9tjSn1+FX/QHw4cyuKb/sN7fav1DDkGD8e3rVqPhWSI38PQrtTi3FDlXXzVTV9p9VdiPyZijz1POkgCAgCgoAgkDAIyO83lGrCDhk+fDhmz54dqSfbRo4cGand0Rp8fX01+eO8smTJgowZM4IRzCKCQFQIXL4TgCbT/0PGAzvQ5sDPuouP8od9KvlTz1L/rW6LT88s0eSvsGtaLGi0RshfVCBLmyAgCAgCgkCiImAXAZw+fTqKFi0aaaIlSpTAtGnTIrU/a8PGjRvx9ttvI3v27No5fuXKcI2LeZwpU6bolDOenp4oX748Nm3aZD5s9/bOnTsRppLx5sr1JPcanwQ45quvvop//vnH7rGkY/JDgOTvgxlb4XT6JHrv/AHOitSla/wuMrVqGfNiQ0Pw64/vo92NTXig0ry85JkNcxuvQ5Y02WI+T44KAoKAICAICAKJgECMPoDGfPz8/EAtWkTx8fEBzatxlQcPHuiAEvoavvvuu5GGW7JkCTp37gySwFdeeQUkpLVr18bhw4eRO3du3Z8ELigoKNK569ev18SSB27evImPP/44ko/f2bNndZ+DBw+ibt26OuAlqfo7RgJAGuxG4MrdADRVZt/7l65g0vbZ8AwJglfFivDt3z/mqN3gQPywpAFGhF7WaWFqpiuCYW8vhLvLk6ApuychHQUBQUAQEAQEgQRAwC4CSG3Z5s2bIyV9Zhu1dnEVkjm+opOxY8fi888/R8uW4VqY8coX67fffsPUqVNB8zRl165d0Z2u20kOGzZsiF69eqFy5co2fY01MBCkePHiOH78OBgMIpJyECD5o+bP7+ptTNg5Fxkf3IF7/vzIOWE8nNyiz9dnCbyHyUvqYDruaLA+zFoZPWpOhbOTXcr1lAOwrFQQEAQEAUHAoRCwiwCSeFEDFxwcjDfeeEMvYMOGDejevTu6du36XBf06NEjTe569uxpc50aNWpgy5YtNm3R7TDO5ZNPPtFzZzSwWW7fvq3zG3p4eODixYtaq5hf/fBHJSSRZi0jTcciSR8BP5XOpakifxdu3MfQ/YuR5+YFuCg/0VzTp8ElXbpoFxj64DqGL6mLJS4Buk/7PPXwRZVhMWsLox1NDggCgoAgIAgIAgmHgF0EkESPQRPt2rUDCRkJVapUqdCjRw9EJGbxPXWWoGPS6axZs9oMzX2apu0RaippRi5VqhQM/8L58+fjhRdewJEjR9C6dWtd55gJr5nuhkEiUQm1jQMHDozqkLQlUQQY7fuByvN39uZDfHVyHcqcPwAnleMy5+Rv4W7yE424vOA759H7x/pY5xYKFUqP/xVtgSYVv47YTfYFAUFAEBAEBAGHRMAuAkhixGhf5s8jYSL5K1SoEKg1SyjhHMxCEhqxzXzcvM3gDgZ+RCU0BzPJtT1C87FRHYX9qQE0B5PYM4b0cRwEmOePPn8kf839duCtQ3/qyWUfOQJeZctGO9GAG8fRZeW72Kwsw67qczi8bBfUKv15tP3lgCAgCAgCgoAg4GgI2EUAjUmfP39eB1JQC3j69GmjGfXr17dux/cGc/S5uLhE0vYxn19ErWB8XzvieCS8fE2ePFm/qJkUSZoI3FLl3ZrP2obT1x+g5v3TaLZ9mV6Ij3J18I7BH/W+3wG0X90Uu9yckEpl0BxXaRBeKdIoaYIgsxYEBAFBQBBIsQjYRQBJ9hhAQU0ZtW5G7mhDA/c8iRBLzjHC9/fff9dzMO4U9xs0aGDsJuj7l19+Cb6MRJIJenG5WJwRuPswWJO/Y1fvoXzoDXTePBdKRYx0jRohU+svoh3/zsXtaLvuUxx0c0YaRf6mVBmLsvneira/HBAEBAFBQBAQBBwVAbtCFTt16qQjgFlNw8vLC0yXwtx9jJT9+++/47y2+/fvY+/evfrFwc6cOaO3qXGk0OzK8mxMPE0TdJcuXcBjbdq00ccT+g81gIwWfvHFFxP60nK9OCJwLzAYH8/ehsNX/FHAOQBDts0BAh7C6+WX4Tsg+nQvN878jU/XfaLJX3qLE757c5qQvzjeCzldEBAEBAFBIPEQsKsUHM2wf/75pw6iSKeiIrdv344iRYroNkYB79mzJ04rIImsVq1apDFatGiBuXPn6nbmABw1apTOO8h0LePGjcPrr78e6ZyEbDA0gFIKLiFRj/21Hj4KwcffbcfOc7eRzT0Mc/bOBo4f1ele8i5aGG3E75UT69By41c4r0q7+VicMbPWHBTIVi72E5EzBQFBQBAQBBIVAfn9Vj7s9twBmnjTpEmju5IMXr58WRPAPHny6Jq69owRU5+qVatazcrR9WMEMl8igkBsEAgKCUXr+bs0+Uvn7ozZl1Zp8ueSIUOM6V4uHluFlv/2wCVF/nJYXDCz3iLkylwsNlOQcwQBQUAQEAQEAYdBwC4CSI3b/v37wfx4LytTGTVx9M2bMWOGbnOY1STQRCQIJIGAjqfLhISGocPCPdh04ga83F0wP2w7nDb/8zjdy+Ro072cO7wCn//XB1cV+ctjccWsBsuRLUPUOSLjaaoyjCAgCAgCgoAgkCAI2GUCZtUNlmtrpJzkGRBSr149HD16FJkyZdL59Yzk0AkyYwe6iKiQHehmRDOVsDALui3bhxV7LsHd1RkLs15G6smjde/sY0YjnSr9F5WcPrQULbcNwHUVgZ4PbvjunZXwSZc7qq7SJggIAoKAIJDEEJDfbztNwDVr1rTeWmoBWYOXiaEzKPOZEQls7SAbgoCDIMBo9f6/HNLkz8VZBW4UC0HqYeP07Hw6dYyW/B3f/wNa7RyGW4r8FYQ7Zjb8GZm9czrIqmQagoAgIAgIAoJA3BGwKwo4qsuwWkZKJX8SBRzVJ8Lx2kavP4b5W8+pzynwbSVvZBmrqrgof9Z0Kn1QpmgiyI8d+AEtNflzRlF4YHajNUL+HO/WyowEAUFAEBAE4oiA3QRw06ZNaN68OSpVqoRLly7py7Kc2r///hvHKSS905kDkFrQHTt2JL3Jp5AZz9p0GpP/OqVXO7JqDhQc1w9hyo3BS6Xu8R08KMqHl2MHFqLVjmG47eKMEvDErMZrkSFtthSCmCxTEBAEBAFBICUhYBcBXL58OWgGZgk4pnwJCgrSGN27dw/Dhg1LSXjJWpMAAst3XcSQNUf0THu+kQcvzhqGkMtX4J43L3JOmqiDPyIu49iBRYr8DbWSvxnvrUW61D4Ru8m+ICAICAKCgCCQLBCwiwAOGTIE06ZNw8yZM+HmpgqgPhbW0d29e7exm2LexQTsuLf6j8NX0X35fj3BlpXzoO6qGQhUFWxc0qcPT/ei3iPKsYOLFfkboslfSaX5m9H4V3h7ZY7YTfYFAUFAEBAEBIFkg4BdBPDYsWNRJl329vbGnTt3kg0Y9i5ETMD2IpWw/bafuYUvF+5GqIr8bVQuB1oeXYv7qmSgk3poyTn5W7irvJUR5fihZWi1ffBj8ueB6SR/ovmLCJPsCwKCgCAgCCQzBOwigL6+vjh58mSkpdP/j1HBIoJAYiNw1M8fn3+/A0EhYXizaBb0Dj2K26p0IMVXuSl4qXrSEeXU0V/QSqV6oc9fSRXwMV35/An5i4iS7AsCgoAgIAgkRwTsIoCtW7cG6wFv27ZNO8+zEsgPP/yAbt26SXWO5PipSGJrunQnAC1mb8e9wBBUyJMB3+QNwHXltkDJ3KE90r1dL9KKzp78DS239FKpXpxRzOKO6e+uEfIXCSVpEAQEAUFAEEiuCNhVCaR79+5gvVvW6w0MDNTmYA8PD00A27dvn1yxkXUlAQTuPHykyd9V/yAUypIG015Jj+uftXic7qU+MkdRPvDCmb/wuarte0ORv8KqwseMRr/AO03WJLBamaIgIAgIAoKAIBA/CNhVCcS41MOHD3X6k7CwMBQvXlzXB2ZKmBw5chhdUsS7uRTc8ePHNTmmP6RIwiIQGByK5rO26fq+2bw98WOTIghs1QLBSkPtVaECcs3+Ds6qZKFZLp/fgk/++AJXXJxQIMwFsxuuRMb0ec1dZFsQEAQEAUEgmSMglUCAZyKA5s+Dn58fhg4dilmzZiEgIMB8KMVsywco8W41Az3aLtiF9SrqN62nK5Z9Ug4e3dsjUNWsZrBHnsWL4Koq1Zjl2pU9aLH2I1xU5C9vmDPmNPgRmTMWMneRbUFAEBAEBIEUgID8fgMx+gAywrdZs2bw8fFB9uzZMXHiRFD7169fPx38sXXrVsx+7GifAj4vskQHQYAl3gauOqTJH+v7zmpeDmnGDtHkzyVdOp3uJSL5u33jOFqt/ViTv5xhTphVb5GQPwe5nzINQUAQEAQEgYRHIEYfwN69e2Pjxo1o0aIF1q1bhy5duuh3+gGuXbsWVapUSfgZyxVTPAIzVZWPef+Fl3gb36QM8v08DzfXr4dKUomc307SCZ/NIN27ex6tf3kPp12ALGHArFpzkdWnuLmLbAsCgoAgIAgIAikKgRgJ4Jo1azBnzhxUr15dR/sWLFgQhQsXxvjx41MUSLJYx0Fg9f7LGPbrUT2hPnWLo9LRf+E3c5bezz50iC71Zp7twwfX8OWKd3DEJQwZldl45htTkMO3nLmLbAsCgoAgIAgIAikOgRhNwEz3wmAPCvP9eXp6omXLlikOJFmwYyCw4+wtfLV0n57MJ5Xz4gMXP/gNHKT3Ge2brn59m4kGBd5Fpx/rYo9zMNIq8jf91VHIn+d1mz6yIwgIAoKAICAIpEQEYiSA9Pczl35zcXFB6tSpUyJONmuWUnA2cCTIzqnr99Fq3k48UomeaxTPiu5F3XGxYycgJATe9erpfH/miYQEB6LHsjrYikCkUuRv6st9UbRQHXMX2RYEBAFBQBAQBFIsAjFGATs7O6N27dpgzj/KqlWr8MYbb0QigStWrEiRAEoUUcLc9pv3g9Bwyhacv/UQpXOlxw+NCsGv+YcIVimIUpUrh9xzZsP58WeUM7KoB5f+S2rip0d+cFMBI1NLdcLL5VolzGTlKoKAICAICAIOj4D8fgMx+gAy+MMszZs3N+/KtiDw3BFgrr/W83dp8pcrYyrMalISN75srcmfW+7cusavmfxxQuN+ek+TP2dF/r4p/JGQv+d+l+QCgoAgIAgIAkkNgRgJIANARASBxEKA6V56LN+vEz0z19/sj8sjaMgABOzbB+do0r3MXt0Sc+4f11MekLM23qzcI7GmL9cVBAQBQUAQEAQcFoEYfQAddtYysRSBwMQNJ/Hz3stwcXbC1GblkW7hbNxT6Yh0updJE+GRL58NDss39MC4m9t0W9eMFdCw+jc2x2VHEBAEBAFBQBAQBMIREAIonwSHRODnvZcw7o9wTd6Qd0qi5P6NuDljhp6r7+BBSP3SSzbz/nPbOAy6sEa3fZa6ID6pN9vmuOwIAoKAICAICAKCwBMEhAA+wUK2HASBXedu4esf9+vZtHotH+qHXcaV/v31fqa2bZD+nXdsZrrn0GJ0P/Idwpyc0NDNB50b/qiKHDrZ9JEdQUAQEAQEAUFAEHiCQIw+gE+6yZYgkDAIXLz9UAd9MN3LWyrdS5fC7rjQ7HG6lzp14NOxo81ETp39G+23D0GQMhNXgRf6NV4NJ5WuSEQQEAQEAUFAEBAEokdANIDRYxPtEckDGC00cTrwIChE5frbhRv3H6GYrzfGVM+Fy23bIszfH6nKloXv8GFKsfdEs+d37TDa/NUB/or8lQpzwTeK/Lm6e8VpDnKyICAICAKCgCCQEhCIMQ9gSgAgLmuUPEJxQc/23DCVrLndD7ux7pAfMqdxx8pWLyKkU1sE7N0Lt1y5kHfJYrhmzGg96e69y/jkxzo46RyKvKHA/PrLkT5zYetx2RAEBAFBQBAQBKJDQH6/n5IHMDrgpF0QiG8ExquAD5I/dxdnTG9WFk4jB2ny5+ztjVzTp9mQv0ePHqKzqu9L8ucTGobp1WcK+YvvGyLjCQKCgCAgCCRrBMQEnKxvb9JY3Kp9lzHxz5N6ssMavYBcPy+A/69r1eOJK3JOVOleVB1qQ8LCQtFneX3sRADSqIofUysNRvbclY3D8i4ICAKCgCAgCAgCdiAgBNAOkKTL80PgwMW76LZsn75A69fzo/q5Hbg5bbre9x2k0r1UfNnm4pNWt8DaR1fhqpJEjy3WEkWKNbI5LjuCgCAgCAgCgoAg8HQEJAr46RhJj+eEwA1V47f1/J0IUhG/1Yr4oH1Gf1xs9TjdS+vWSN+ooc2Vl/7VC7Nuh5PFAdneQKWKXWyOy44gYA8CoaGhCA4Otqer9BEEBIEkioCbmxtcJCNEjHdPCGCM8MjB54VAsPLdY9DH5buByO+TGqMrpcflFh9D/TLDu05t+HSyTfeycc9MDD23Suf3a+dVEA1qTnheU5NxkykCLC3o5+eHO3fuJNMVyrIEAUHAjED69OmRLVs2m+wR5uMpfTtFEMALFy7go48+wrVr15RbmSv69u2L9957z3rvz5w5g88++wxXr17VTwxbt25F6tSprcdlI/4RGLz6MLafuYW0Hq6Y/nYB3P7yc4TdvYtUpUvDd5hK9+L8xDvhyOnf0W3vBISpdC8NnTOgTaNlkug5/m9Jsh/RIH9ZsmSBl5eX/Cgk+zsuC0ypCPBh7+HDh/o3nxj4+vqmVChiXHeKIIAkfePHj0eZMmX0B6JcuXKoo5IKGyTvk08+wZAhQ/Daa6/h1q1b8PDwiBE0ORg3BJbsOI95/53TxTrGNyoGt/49EKBIulvOnMg5ZTKcPT2tF7h68zja//MVAhT5qxTmhr5NVqlEzyniY2vFQDbijgDNvtT8kfxlypQp7gPKCIKAIODQCKRKlUrPj4of/t+LOTjy7UoRv6Rk/8YTAD8IGVU+ORI9EsBDhw6BvgIkfxQeE3l+COw6dxt9Vx7SF/jqzUIoOm8i/PfsgXPatMg1bSpcTT/ODwPvosPqprimlIEFQiwY03AZ3DzTPb/JycjJFgHD54+aPxFBQBBIGQgY/+/8/xcCGPmeP7GzRT6WYC0bN27E22+/jezZs2uzzMqVKyNde8qUKciXLx88lXaofPny2LRpU6Q+9jTs3LkTYSp9SC6VXJhy4sQJpEmTBvXr1wc1g8OU+VHk+SBw7V4g2i7YhUfK/69WiWxocmgd/NeseZzuZQI8Cha0Xjg0NAQ9VjTAETxCRtV/8huTkDZjAetx2RAEYoOAuZJMbM6XcwQBQSDpICD/7zHfK4fQAD548AClle/Xp59+infffTfSjJcsWYLOnTuDJPCVV17B9OnTUbt2bRw+fBi5c+fW/UkKg4KCIp27fv16TSx54ObNm/j4448xa9Ysaz8+GZBM7lUVJ6gdrFWrFl588UW89dZb1j6yEXcEGPTR/oc9uHYvCIWypMHAVOdwc+pUPbDvgP5IXamSzUXGrP4YfwffhLvy5ZhYqiNy5Ktmc1x2BAFBQBAQBAQBQSD2CDgEASSZ4ys6GTt2LD7//HO0bNlSd6E/32+//YapikAMHz5ct+3atSu603U7yWHDhg3Rq1cvVK78JHFwTuV3RsJnaATpG0gyGBUB5BhmkslSMiL2ITD816PYfvYW0qigjyklgVtdB+gTM7VqhfSNG9sMsvSffph/54BuG5q9BkpXaG1zXHYEAUFAECACjx49QvHixfH9999r5YAjoPL333+jWrVquH37NhiFmhSlW7duGtuJKhG/SPJFwCFMwDHBy39wkrsaNWrYdOP+li1bbNqi22FEEAM93njjDR0NbO5H8sfoX/6z0jRMc3SxYsXMXazbJJvp0qWzvgzSaO0gG1Ei8PPeS5i9+Yw+NuGVDAjr20One0mrtK0+XTrbnLP10GIMO7NCt7VPlR+13hpjc1x2BAFB4AkCZ8+e1W4zNHVF9xowYMCTE+Jxi9+p77zzTqQRSYA4l2dJt8M5Fi1aVPtlZ8iQAdWrV8e2bdsijR2xYcaMGciTJ48N+TPjwABAWom++uorm4f3iOM4wv7QoUO1coJ+a9ERxw0bNug+aZXPNP3ae/TogZCQEJvpL126VAc8chxi880339gcX7FihVZw+Pj4wFuV2qykrC9UqJile/fumDNnDpghQyT5IuDwBPDGjRtgBF/WrFlt7gL3mdbBHtm8eTNoRqZvISOB+TpwIFzDxC8I+v29/vrrKFWqFAoVKoR69epFOSy1h3dVqhLjxfQyIjEjcNTPHz2Xh2Pd+UUf5BndV6d78SxdCtlHDLdJ93LOby+6bh+KUPXjURep8YWke4kZXDma4hHgQ+iVK1esr65du6JEiRLWfR6jNieikKTlzZs3YnOi7RcuXBjffvut/l7+999/9dz4kH/9+vUY5zRp0iSrZcjckeSFayeBoevQ/PnzdaYHcx9H26ayg+nJ2rZtG+XU9u/fr7NX0E1pjwqcW7x4MX755Rf07NnT2n/t2rVo1va+tggAAEAASURBVKwZ2rRpg4MHD+q104JGbA2hkoMWrl9//VUrV6itpA8+xzSE7lDEf9q0aUaTvCdHBJR2zKFEYWz56aefrHO6dOmShW1K22dt44ZK22IpUqSITVtC7ygiqOfGd5HICNwNeGSpMupPS54eqy0tpm2ynGn6oeVwkaKWE2+8aQm+ft3mhLsPbljqzSljKTm3pOXDWSUtgf6XbY7LjiAQFwQCAgIsymfYwvekJlWqVLF8+eWX+qUsEBaVqcDyv//9z6IsFpGW0r9/f4vyp47UHrHhr7/+sijtUMRm674xzrx583Q/pSmyNGnSxKLcXqx9WrRoYWnQoIF139jg2PzOVlYVo8miHsItKtOCRQXxWZTbjaVDhw6W+/fvW49H3DC+W//444+Ih6z7yjJkcXZ2tkT8/o34G8ITVJ5Xi3LvsZ7LDUUMLfnz57eoLBAWRUAtXKtZiIEi2BZ3d3eL0rbpORvHAwMDLV9//bVeC48XLFjQonzL9WFj/Zy78k23qHQkFqVlsxw9etQ4PcZ3RV4tvM8RRSkgLBUqVLBp5m8lMTXuS9OmTS2NGze26TNu3Dg9z6g+L0ZHZUa3DBw40NjV73PnztXrt2lMYjsx/d8bn7GIn58ktsQ4TdfhNYCZM2fW4dsRtX3M7RNRK6j+8RNEJk+erP1OaD4WiRoB9alEt6X7cPbmQ+RI54n+R35CwO7dcFYR17mmT4Oruq+GhIQGo/tPjXDWKQRZVbDIhJoz4ZFWEnca+Mj780GAn9GHj0IS5cVrP4vQx43WCppF6ZelftRtgtmeZSx7+546dUpbTVavXg2+/vnnH4wYMcLe0639aG2pWbMmGjVqBGqxaI2hlq99+/bWPuYNasJo2qW7DYMDoxNqsqg5pBkzJjl+/DgUKcPLL79s7aaIEzp16gRqTKkpa61KTzIIkf0oP/74o8aYAYfMFEHr0QsvvGA9n8GE1MDxXhw5ckRryphNwiyKpGPMmDFg5gneOxYbiIvQ/5xZMMzCXHeKjGpNHtuj63Px4kWcO3fOfKp1m65P9+7di5QC7aWXXgKtXNGdZx1ANpIsAg4RBBITeurpSqd9+f3333UQh9GX++rp09hN0Hf1NA6+GATCLymRyAjM2nQG6w9fhbuLM6aH7UHgul+jTPfCM8es+RSbQ27BU30RTSzTFZlzVow8oLQIAvGMQEBwKIr3s/V9iudLRDvc4UE14eVu/9cvTb0kffRvU5YPbSrlfisVRPW8hMRAaYFAfzMKqynRB42+aoaQGEYkPnTZMQt90D788EOdyYHtdLMhcVKaTR3IZ5AajvXBBx/oCg70b+N3PBUA0Qn9H5k6LCpRmjCtOKB/HEkR3XrowmPI6NGjtV94u3btdBN9BFkBiu00iZ4/f16XEKMvIvPE0o+QhIhCQkk/O86PxylKk6jfzX+IE9dIoZm2bt26mqwZ6zX3tWebJJoBkIsWLcL777+vXaBYwIBCczeFfbp06aLXxnWcPHlSn8Nj7BOV2Z8klZk4OKZZcuTIoXeJs9IWmw/JdjJBwCE0gMoUoCNvGX1Lod8Gt/lPSOE/J1O3zJ49Wz9t8QPOY/RzSAwRDWDMqO9Q0b4j1h3VncZnugKX+d/p7Wz9+yG1KQKbjT9tGY4Ft/fp40Ozv4Xi5eL2lKwHkj+CQDJDoGLFipr8Gcui4z41UxHJlnE8qncSNePFrAv8DjX2+R4xEwPJgkH+OB5JGS0vZiHJ4He1+WVOs8W+DOIjkTRfi0SFBNMcZGCMxeA++rmRkES8nvnayrwXSSNmHCc55pz27duntZckbSSwhlBrx5RiZuE+2yn0xeP4JHYk2dQYGsEWHJdJhQ1yZx7DvE2fckOIHSWm9Rh9o3unTx7JNH/3WK2K2k+SSoqR5JhzpWaVhJfKE35uSKrNffTO4z8kkwMGDNBaWfr9mcWopMGSaiLJEwH7H0Gf4/qpIuc/vyEkfBTlY6K/OJTvic7hN2jQIP0UU7JkSe3AmlhPJaIBNO5U5Pcb94PQfuFuhIZZ0CaDP/LPGQ8auzK1/BwZTPWXeea+U+sw+PgPuq5vO49cyul4XOQBpUUQeE4IpHJzATVxiSG8dkILiYshNCUzgpTBIIYYP/jGPjVfZqH2kaTNLKympPzfzE2gudEsPIcm1o4dO5qb9baRx5U7xlgcj8SFmsLvvvvORnNnHoDaQSOYz9zO7WzZslnnRY0pTZzUClJjZsyX6zELzfJGGzWux44d01o+5csHagpJvmgGj4iTeQzzthk/Y9yI+Jn727PN30YqQKjNY7Q0tXPUbLJIAoXXGTlypA5spNsUI32ptaXkVYTeLDTFM73asmXLrJpM83FWy6JwDJHkiYBDEMCqVaviaT4x/Ac01PXJ81Yk/VWR9HVavAdX/YNQyeMBGq6YgDCVaDutenL1eUzqjVVeu3MWXTZ2R7Cq8ftmqDtaN/pRE0HjuLwLAs8bAf5YPosZ9nnPJ6bxaZ40C/dJkAzNj/lYdNsG8eFxkjT6pZnbojsvru2ssMSSm896Lf4mmPOuRpxH2bJltQnZTNwi9jH2DZyo1aMw1Rf9EOnLZwg1j+YUYCR6rBDFFx/6maaGhJO+gCRyJIOGCdgYIyHe+bk1TN/U4JGsEmOzcL2GCZd9qDE2a/jYRp9EvhtaRPP53KZvJEkso8pFkicCDkEAkxq0NAHz9Szml6S2xmedL8nf18v2YfPJm8gcGoB+m2eFp3tRZpDsI0fYpHt5FBKELqs+wHVnCwqGhGFog8Vwdpcarc+KufRPOQjQGZ/aH2rSdqtgKqY/oe9WUhBqGqnRI4miiZKaPppa6UPHddD/jP5yJFo0lbJiE1O3kKTSFBud0GrEc0kuaRUyC3MQUgNGokZTOa1HNJkaBE9F8GoTM4nTm2++iVWrVoH58ajto8xVJmt+vzNwhPn0mEaGhJBWp0yqXjmtUyRQ9GVkoAoDJWjejehHZ57T07ZpkqfWje+8tqGxJXGm+ZxCLSTN4yr6Wc+XQTn0RzQILtOmMYCFShUGhzAdDjV8JKuGkPSR+E6YMEHfFyPAkusz+7SzQpaK3LZb42mML+9JCAH19CQSSwQkjDwcuLUHLlvKDvxNp3sp2G2lZUnl2jrdy/5XXrcEX7tmg676Qrb0Xd5Ip3up/F1xy/kjK22Oy44g8DwQiCkdxPO4XnyOyTQwyvphUb5fFqZjUaY/iwoqSJA0MOZ1KL86iyJA1qZnSQOzfft2i8o9Z1FExqIIoEX5x1kU6dNj8d6oKk0WpdWyplxRZNDCc54myr9NY2Hup35+6XWiX0pbplO4MIWNimo2d4sxDQzTqyjyp/HmfBWBtZhT0nDOyhSrxzbSwCgfdT2+kQbGnAZH5djT81E+jzZzMO8QT2Pe5neOZ4givTpFDFO/cH4ql59xSL+rvIl6rpyzIq4WRW4tSlts04efJ/P4xjavbxamxlFk0dyU5LZj+r+X32+LxYl3VH0ARGKBgBEFrD5IT01FEIvhk8Qp6w5eQZsFu8Pnqj5K3XYtwpsXd+OBqye6vf4lerari1oln6R0WbRpAIadXg5n1XdqnkaoXG1QklinTDJpI0BtCAMO6CsV2yjMxEKA2hwmr2cEqIgtAjTJ0gzLaFdzwIptL9l7VgTWrFkDakmZtoeuAklVYvq/l99vwDmp3tjEnLdEAYejT7PvgF8OWW9F02N/aPIX6uSMYS99hHPevhi46rAOCGGn3SfWYNQp5eunpItXQVSuOlBvyx9BQBAQBGKDAP3xRo0apYMhYnO+nBM1AjSt03yclMlf1CuTVjMCSZfam1eRwNsSBRwO+PYzt+CnAj4oRW6dQ/Oj6/X25FINsTtLEb195W4g2K+gz0N03dwLIcqBuXaoB1o0XCxBHxoh+SMICAJxQYD+eCLxi0BcfBnjdyYy2vNEQAjg80Q3mY+9+WR4nU7XsBB02rtMqZMt+DNnOazNV8lm5Zfv+GPqf81xw0kFfQSHYUDDJXBys81ob3OC7AgCgoAVAXOqFmujbAgCgoAgEEcExAQcCwDFBAww39+Cbec1eu8d/wv5/P1w1z01pr8QuTrLjlM9sSfUH2lVRN6EygPhlalALFCXUwQBQUAQEAQEAUEgvhAQAhgLJGkCVoXlsWPHjlicnfRPUYG86Krq/N55GIy896+h6fHw1AlTS70Df4/U1gU6qa3SWddjTcBh3TY8Ry3kLt7Yelw2BAFBQBAQBAQBQSBxEBACmDi4J+mrzt58Bv8cvw5PVcxg5JlVcAsLxfasxfBPjjLWdZH8ZfA4jksZwrPQt3HJiipvjbYelw1BQBAQBAQBQUAQSDwEhAAmHvZJ8soHL93FyMd1fiemOg3vU0cQ5pkKS1770CaowzddCHzyfo8gFfTxaogz2jZebnM8SS5eJi0ICAKCgCAgCCQTBCQIJJncyIRYxoOgEHRYtAfBoRa8l9MVeWbPBSuD+nbvhlUfvKujfa/dC4RPGg8s2dUcfwaGIntIKEbUnA1nz3QJMUW5hiAgCAgCgoAgIAjYgYBoAO0AKWKXlBoE0l/l/Dtz4wF8vT3Qdu9yhD18iFTlyyPDBx/ARdX0rVQgExqUyYETl8Yp8ncJbirZ89gSXyBdzhcjQij7goAgIAgIAoKAIJCICAgBjAX4KTEI5Oe9l/DjrotQPA/fZr+FoH83qVQubvAdNNCmzu/u0+sw7szPGtUeaYqhRMXOsUBYThEEBIGkhsCxY8eQLVs23Lt3z2GmPmDAAF1FxWEmFIuJvPjii7rubyxOlVMEgRgREAIYIzxykAhcuPUQfX46qMHoUtEXaWdN0tuZVGF6jwJPUrrcuHcF3Tb2QKjy+6sT6o7368/T/eSPICAIPF8E8ubNG2WpuNgQIFWHF7lz59Yl83x9ffHRRx/h8uXLT13A//73P/Dh2CjJxvyFqhav9ZUqVSqUKFECM2bMeOpYidmB5cM++eQTsMoIK2G88847UU6HlqBixYqB6ypSpAjmzbP9vgsODsagQYNQQH1Hsvxg6dKlsW7dOpuxhg8fDhI8YpYlSxZ9LRJps/Tt2xeq9jNUHXVzs2wLAnFGQAhgnCFM3gOEhIahy5K9uKf8/yrkyYBG21cg9MYNuOfPj0xftLIuPlRFAvdc/SGuO4Uhf3Ao+tebDyf3VNbjsiEICAJJA4Fq1aph6dKlIBFZvnw5Tp06hcaNY07fdPHiRfzyyy/49NNPIy2S41y5ckWnzmqtHhrbtm2LDRvCswNE6uwADaGhoZrUdezYUdcZjmpKU6dORa9evUCCfejQIQwcOFCT31WrVlm79+nTB9OnT8ekSZP02tu0aYOGDRtiz5491j7//POPPm/r1q34/fffERISgho1aoCl2AypW7cuWG/+t99+M5rkXRCIFwSEAMYLjMl3kKl/n8LOc7eRxsMVowuHwl/9IFB8Bw+Cs7u7deEz/uyKbY9uIJV6Sh1X/mt4ZSluPSYbgoAgEHsEqlatCpKR7t27I2PGjNrMSuIRW2GNV2quqJUqWrQopkyZYjNUly5dULFiReTJkweVK1fW2icSFGq0ohMSRmq4cubMGakLNVs0DefLl0+vg9rK3bt3W/sFBQXpdvbjnF599VWbHKu3b99Gs2bN4OPjo4lZoUKFdJ1aYwCSzw+UHzKxSZ06NSpUqIBt27YZh/X7/PnzweumS5dO943JTM0xSPBatWql520z0OMdjkcy26RJE+RXD8O8/ueff46RI0dau7NP7969UadOHd2HxLdmzZoYM2aMtQ81gtQ2UjNK/Hhvzp8/j127dln7uLi46DEWLVpkbZMNQSA+EJAo4FigSNU/X3xSTM6y98IdjN9wQi9xcO1CCB3YXm+nV196Xir4w5DtJ1Zh6kWVDFqZe/pmKI/8ZSNrAYy+8i4IOAwCKkgJwQ8TZzpuXs+UFun777/HV199pYnNf//9p0nDK6+8grfeeuuZ5j9z5kz0798f3377LcqWLau1USQ6JD1R1dS9desWfvjhB00E3ZTPb3SyceNGTbyiO852i8KbWqwLFy7g5ZdftnYlsaWmkWsk6Rw1apQmSidPntSkjiZQJt5fu3YtMmfODLYHBATo8+/fv48qVaogR44cWgNJoklyaTaXUoO5cuVKrF69GiSTrHM7YsQIDB061DqHZ90gaSVZNQtNwdu3b9dEmVhF1+fff/81n2azTU0fhWTWLC+99JLGxdwm24JAXBEQAhgLBOnnwpe/v79+oozFEA5/ClO+dF68B6Gq6ke9Ur54Zftq3DxzBi4+mZGl61fW+d+474cem/vAoshfw1BPvF1vlvWYbAgCDo0Ayd+w7Ikzxd7Kp06VTrRXSpUqpYkb+1MDRgJHM6qZAPbo0QM0O5rl0aNHKF78iTZ+8ODBWgPVqFEj3Y1aOZIrmirNBJBj8RoPVaQ/tYEkTzHJ2bNnUd70UGjua2gFSYhIzOgX9/rrr+suNHVS2zZ37lzUrl1bt5Gk0hz63Xff4euvv9YaMZJVavYo1OQZsnDhQly/fl1rDA3SVLBgQeOwfuc1Ob7hm0ifRmIXFwJITd6sWbO0z165cuW0xm727Nma/N1QLjL0nWSfsWPH6rXSD5DX/Pnnn6NVHJAgk+RTA1qyZEmbNZDgUjPItTg7i+HOBhzZiTUC8kmKNXTJ+8TBqw/j7M2HyJ7OEwNeSIWbM8OJXbb/9YGLt7defJglDL1XN8MN5fdXUPn99Xp7PuD6xCycvBGS1QkCCYcACaBZSDCuXbtmbtJkae/evTC/6HdmCIkStW80VaZJk8b6GjJkiPbzM/rxncSLvmrr168HTZAff/yx1uCZ+5i3qZGLqBEzjm/atMk6J5KmYcOGadLH49TO0bRMbaYh1J5R43XkyBHdRNPp4sWLdTQvtYVbtmwxuupxSQ4N8mc9YNogYTTIH5ujws7U3a5NaiVJWEmOOd8GDRporSxPJl6UCRMmaLJOM7u7cpdp37699pE0jutOpj88vn//fkRl6qV2keSPJFpEEIgvBEQDGF9IJqNxfjvkh8U7LtCiizGNS+F+v07KVBaMNMo5PG3NGtaVzvq7J/4Luqb9/kaX7YJUPkWtx2RDEHB4BGiGpSYuMYTXfgaJaH5ldC0JgVloHo2o/TITI6M/NWxmEyzHiEhKOBZfhQsX1v6CuXLlAv0AK1WqZL6kdZt9aV6NSqhlTJ8+vT5EXzf651H7RmJHrReF6zEL2402Eq1z585hzZo1+OOPP/Dmm29qC8zo0aO1T6D5vKi27cEuqvNiaiMho8aPmtOrV69qUsnoZhJNYkGhzyJNz4wqvnnzJrJnz679KYlHROnQoYM2YdOUbmhMzX1oivfy8rJrvebzZFsQiAkB0QDGhE4KPHbjfhB6rzigV/7F6/lRdNcGBChNgLP68snWr6/1S3nX6d8w+dyvul9v71IoUL5VCkRLlpykESDpoBk2MV4RCE9C4Jg1a1btK3f69GlNFEkWjVdUpMSYk0HSYtI+UQtHU7I9QrJp+PDx+tSOmf3iqBHcuXOnJp7GeCRTn6hgiQULFuh0N0YqGWpGqfEkQUoMIbkkYeOaqKWsV69eJBMtNaM04TLCl76O1BYaQmyp+VuxYgX+/PNPHShjHDO/Hzx4EDQ1iwgC8YmAaADjE80kPha/jHouP4CbDx6haLa06Fg6PS7WD49Y81GRgW7K7ES5G3ALPVS+vzD1I1Y/xA3v1J+TxFcu0xcEUgYCjB5mRLG3cuOgZo2kjmSL2jv6nzGIgS/6oWXIkAEki/369dO57KLT/hE5+ru1bNlS+7dF1CbSVE0tGK/FsRkda6SVYfAJNYE0OVNbyfyDDAKh7yFN1RRen/6F1B5yDPojMoqZ0rRpU21SZq4+5tSjeZema2rbYpqvPjmGPySz9J8ksWTEMEkmpUyZMvr9+PHjei3UpBI7+vqRpDGQxRBqOi9duqTP4TuxpxaWZmxD6EtOP0b6BlJ76Ofnpw8xWplaRkNoRmd6GBFBID4REAIYn2gm8bGWqUoffxy5CncXZ4xrUga3h/dFmIqy81RP2Rk+bKpXR5LYf/VHuOoUijzK7+9/9RYCbrbRcEkcBpm+IJBsESBJoynxm2++0USEBIwJjzt37qzXTNJBbRQjhRmgQUJVq1Ytrd3y8PCIFhemOqE2jCZakkGzMEkyhUmVaUpm+hSSIUMYkUtixOAMki0GezBamASUQg0hc+4x0ITze+211/R8jGP0U+zatatOlUItG4NemKUhLsL10OxsCDWcFEMbygwQTOfCHIdcN3Mn0jcxb968uh//kPQyKIckmj6XHJPk1zCHsw8DYChM9WMWpoOhxpNC8sixqf0UEQTiEwEn9YEOd8KIz1FTyFhGFDBD9/lEnZSF1T5qT9iE+yr6t2ftomgWchYXv1RpX9SXdr7lP8Lz8Zf40q2jMPjYfLiqj80PhT9D8cpPIoKT8vpl7skbAf4Yn1FR7DR1RheskLwReP6rYz5BarIkYXH8Yk3tKH9jDLN3/I6evEeL6f8+Of1+x/YuigYwtsglo/PCVKqXrsv2afL3Yt4M+KxsFpx7O9z8kkll9jfI3wm/PRh1dL7y2Aa+8siD4pW6JCMUZCmCgCAQFwS++OILbQ6lFs8cdRuXMeVc6BJx3bp1EygEgXhHQAhgLCBNbomgv/v3DLafUVFm7i4Y814Z3JowFiEqss1N+eNk/rKdRihA5Uzrvr41ghT5e00VBGj+/g+KCKodEUFAEBAEFAI08bIesEj8IkANoIgg8DwQkCjgWKBKx106Ce/YsSMWZzvWKSeu3sM364/pSfWtVxw+F47jtnJKpvgO6A/nx9nuR69rg5OWAGQOCcXgauPhlCo8rYPuKH8EAUFAEBAEBAFBIEkhIBrAJHW74neyIaFh2vT7KCQM1Yr4oEnprDjbWPn9Kf++dCqqLrWqA0r589BCLL21B8phFMNy1kamAm/G70RkNEFAEBAEBAFBQBBIUAREA5igcDvWxaZvPI39F1UAi6crhjcqhVtz5iLoxAm4qOi7LD3CUxVcv3cZ/XeM0BNvgXSo9NYox1qEzEYQEAQEAUFAEBAEnhkBIYDPDFnyOOGonz/G/3FcL2ZA/RLIeNsPN1QUHyVrr55wVSSQpd76/NoCd5wsKKpSvnSorwJAnF10H/kjCAgCgoAgIAgIAkkXATEBJ917F+uZByvTbzcV9RscakH1YlnwTpnsuPDZ57CoxKepVU1O77ff1mMv3DIcWwL94KFydI0s3RHuGfPH+ppyoiAgCAgCgoAgIAg4DgKiAXSce5FgM5n69ykcvOSPdKncMKzhC/Bf+TMeqjqfTirgI5sK/GANzuNX92LcicV6Tt1SFUD+F9sk2PzkQoKAICAICAKCgCDwfBFIEQTwwoULOtM6M8SzduSyZcusqDKTO8v7GC9mmmcB7+Qqhy7fxcQNJ/TyBjVQpt/gB7g2cqTe9+nQHu4qU39QaBB6qJQvj1SWl9cfAU0azEuucMi6BAFBQBAQBASBFIlAiiCAzE81fvx4nbqFpYq6qLq2LHNEYZki1nnkiwXJWRrprbfeSpYfBpp+v162HyEq8XPNEllRv3R2XB0xEqEqy7yHqq2ZsUULve4Jv3fEybCHyKjKHQ2sOlpSviTLT4MsShCALmWWLVs2XYLNUfBgmTij5q6jzOlZ5/Hiiy/qknrPep70FwQSEoEUQQBZz9L4QsmSJYsuOs4i3xHll19+wZtvvqlJYMRjyWF/hor6PXzFH+m93DD4nZJ48O9m+K9apQI7nOE7aBCcFFHefnod5l/dopc7OEsVZC5kW9czOeAgaxAEkgsCrI9Ll42YXiRU0QkTNzOvqVG54++//7YZixaREiVKOHwZMpb8Yu1c1jXmA/87Ko1VVMIk/sXUwy7XxYf/efNsrRvBwcEYpL4LCxQooEsGli5dGuvWrbMZavjw4SDBI2b8PeG1aEkyS9++fdGzZ09d49jcLtuCgCMh4BAEcOPGjXhbBR5kz55df/lEZYJlncl8j+t4li9fHps2bYoVjjt37tT/lCxKHlGWLl2KJk2aRGxOFvtM+Dzhj3DTbz+V8DmzSxj8Hv8wZFRF2FO9UBL3gvzRZ1Mvvd7GIe54vdaEZLF2WYQgkFwR4PfYlStXrK+uXbtqwmZui66M2MWLF8GH3k9VuceIQkLDMZjwvnXr1mjbti02bNgQsZvD7IcqawVJXceOHVG9evUo5zV16lT06tULJMSHDh3CwIEDNfldxYfgx9KnTx9Mnz4dkyZN0mtv06YNGjZsiD179hhd8M8//+jztiq/6d9//x0hISGoUaOG1arEjnXr1tX1e6UushU22XBABByCANIcyyetb7/9NkqIlixZgs6dO+syQ/xHfO2111C7dm2cP3/e2p+ksGTJkpFely9ftva5efMmPv744yifZlkYevPmzahTp461f3LZCFUm3+7L9+ORMgEz4XPDsjlw/dvJCL50Ca7ZfeHTsYNe6oh1X+AKQpAzOARf156laju5JxcIZB2CQJJFoGrVqmjfvr1+pU+fHpkyZQKJikUlZndxcQFNuMYrTZo0WgNm7POdbVEJH3j5vZszZ85Ih6nZ4rl86Capyps3L3bv3m3tFxQUpNvZz1MFj7366qs2lZFu376NZs2awcfHRxOzQoUKYc6cOdbzST4/+OADbY2h202FChWwbds263FuzJ8/X183Xbp0ui9rDEcnHIMEr1WrVnreUfXjeCSzfMjPnz+/HvPzzz/HyMc+0DyHfXr37q1/B9iHxLdmzZoYM2aMdUhqBKltpGaU+HFd/C3atWuXtQ/vC39LFi1aZG2TDUHA0RBwdYQJkczxFZ2MHTsW/Edt2bKl7kJ/Pj5Z8R+e6niK+Z9PN0T4wy8sPsnxCbDy4woX5i4///yz/kfnl1l0wjH4MoSkMSnInM1nsOf8HaTxcMVQFfUbqJ7qb82dq6fu21+Ve1NfnhtUtY9f7hyCM6t95HsXXtnLJoWlyRwFgVgjQAIVEBIQ6/PjcmIq11Ta2mHvGN9//73+DiRJohXjiy++QJ48eTThsXeMiP1oeSHxikmIEb9rGUj38ssvW7t2794dy5cvB+fFeYwaNUp/f548eVKTOppAqT1cu3YtMmfODLYHBIRjff/+fVSpUgU5cuTQGkgSTZLLMJVuypBTp07pYLzVq1eDZPL999/HiBEjMHToUKPLM7/zuzvi9zu1htu3bwdNv25ubvr7Pao+9A+PTu4qH2pKxowZbbq89NJLGhebRtkRBBwIAYcggDHh8UjlpiO5oz+FWahy37Il3FfN3B7VNr/E+MT2xhtv4CNl7oxK+DTML9WYhGSTZoOkJOduPsDox7V+e9cpBt80bjjbrz/Uty2869RGGvVFfOPBNQzcoSKBVdTvp6raR9lqg5LSEmWugkCsECD5e3nhE1ITq0FiedK2D7fBy83L7rNp6h03bpwmjfRdO3DggN6nxiu2Qv9BWk6iEkMrSNJEYka/uNdff113pcWGD99z1UOk8eA+c+ZMbQ797rvv8PXXX2uNWNmyZa0EkxpEQxaqWuPXr1/XGkODNBUsWNA4rN95TY5v+Cbye5sm6LgQQGryZs2apX32ypUrp39XZs+ercnfjRs3QF9x9qHCgWulHyCvSeUATcxRCX9bvvrqK60BpQXKLCS41AxyLc7Kz1pEEHA0BBz+U8l/TP7zZc2a1QY77vv5+dm0RbdD0y7NyPQtNNK98AvUED7B8SmQ//wxCbWH7Gu8+FTsyBKmTL89lx9AYHAYKuXPhKYv5cKt+QsQqPxfnL29VcWPXtqMNHDtp7jtFIbCyvTbrt73OijEkdclcxMEUhoCFStWtNEYVqpUCSdU2cboiIk9+FAjF1HbZZxHH2sjOwJJ07BhwzTp43Fq56gxe0UljTeE2jNqvI4cOaKbaDpdvHix/r6lttD8sM5xSQ4N8meMYX4nYTTIH9tJzq5du2bu8szb1EqSsBJLzrdBgwZaMcCBaLKlTJgwATRXFy1aFO7u7trsTh9J47juZPpD0/z+/fujNPVSu0jyZ7YamU6VTUEg0RFweA2ggRCj3MzCJ6+Ibebj5m36p/AfMTqhj8nVq1ejO2xt9/DwAF+MJOMrLl++1kGf48aSnRfw3+mb8HRzxoh3X1A+f5dxfeJEfcUsX3eDq/LPWblrCv5+cB5uCs/hxVvBPbPtk/hznJ4MLQgkKgI0w1ITlxjCaye20DRL82pUQt8/+htS6OtG0zO1byR2/O6lRPz+NX8nk2idO3cOa9asAVNvMbsCo41Hjx6tfQL1ADH8IUEzC68V03e4uW902yRk1PgxyIPf9ySVM2bM0ESTWFDos0hFAaOK6TPOwERan4hHROnQoYM2YdOUbmhMzX2YacLLy8uu9ZrPk21BIKEQcHgNIP8x+fQVUdvHp8GIWsGEAo1fZPRv2bFjR0Jd8pmvc80/EMN+DX8a71ajCHJn9IKfMl9b1FO/l0phkL5xY/j5X8TIA9P02O1csqJwpS7PfB05QRBIqgiQVNAMmxiviOTpaRgy4tQs3KemKjrNlLlvdNvUwvF7zB7hdQwfPpprqR0z+8VRI0jfRKZYMYRk6hPlerNgwQKdh5Vki8Jk/NQCRpWKyzj3eb6TXJKwcU3UUtarVy+SiZaaUZpwGeFLX0dqCw0h0aXmb8WKFfjzzz+jJIfse/DgQdDULCIIOCoCDk8A+UVDPxWG25uF+1EFc5j7pOTtAasO4V5gCErlTIdPKueF/6+/4oEy6zipL79sj/0YB6z7HPedLCj1KASf1J/HR/qUDJmsXRBwWATobkJfM6ZnYWQp05R06tQpTvOly8t///0XpSWDD9h86KYWj5WTGB1rkCBG3FITSF8/RsSSRNIX8eHDhzpQhZPq16+f9p1j8AdTrjCYwyCHTZs21ZG6zJ9H95zTp09rksW5xEU4D4NY0k3HMGEbYx4/flyTUZrO6fLDKGSSNJq3DaGmk8SOc6IZvFatWlrzSDO2IVQAkNTSl5FmauLEl0GQjX48n77qIoKAoyLgECZgRoXxi8KQM2fO6H9e+ojkzp1bf/HRCZgRa/R94ZMknWuZoykxxNFNwL8fvopfD/jBxdkJIxqVgtM9f1wdFh4tnaltG3jkz4flOydic8BluCs/wcGlO8A1XY7EgFKuKQgIAnYgwPRVJBj0s6PmiubHpwWtPW1YpimhNowm2oj+zww0oTCpMgNQmD6F+fMMYUQuTbL8XmZ6Fn43M1o4Q4YMugsf3OkzffbsWW0CZeouatsoPLZ+/XowZyHnQC0by3TyezUuwrFIWA2hhpNimKzpssN0LiTRXHe1atW0b2LevHl1P/6h6ZcpdkgAmT6HY5L8GuZw9mEADIXpeczCdDDUeFIuqRRb9HskURQRBBwVASf1zxHu0JGIM/z777/1P2PEKbRQpcnmqkgwChNBM9UAk5My2ooRcUZUmu6QCH+YBob+g3za9FZBFY4g9wKD8dbYjcq8G4g2VQqgZ+2iuKyy/d9dvgLuBQsgv3q6vRJwBY1+qocHSuHXzSUbWjRbL9o/R7h5MofnhgB/2PlgSV+u6AIfntvF4zgwiQaD15j+Kr6F36uMcpWExfGLLLWj/F0wzN7xO7qMZi8CMf3fO+Lvt73riq9+DqEB5Bfc03hou3btwJcjiCNrAEetO6bJX55MXuhcvRAebN2myR9x8x00GOrRF/1+aqnJX5lHoWje5Hshf47woZI5CAKJgAC1iAwEoRbPHHWbCFNJVpdkguzoKrAkq4XKYpI0As5JevaJNHlHDQLZde4WFmwLN4EMVwmf3cNC4KcSPVPSN/0AXuXKYtmOcdgW6AdPZb4ZXKYTXLyzJxKKcllBQBBIbARo4mU9YCF/8XsnqAFMrCDF+F2JjJacEXAIDWByBjih1vYoJAy9VhxQmlTgvfI5UblgZlxTOa0eKZ8YpnvJohzIL989hzGH5yiNH9DRLQfyVog58XVCzV2uIwgIAtEjQBcZEUFAEBAE4hsB0QDGN6KJNN7MTadx/Op9ZErtjv/VLYZAFfF2c6aq56ska98+cFYOzQN/U5F6ivyVVVG/zRrME9NvIt0ruawgIAgIAoKAIJDYCAgBjMUdoA8go9ZeVPn0HEHO33yIiRtO6KmQ/KXzdIVf335Q4XVIoxKwpn3rLfy8Zxq2qOAPRv0OLNUBzmmzOcLUZQ6CgCAgCAgCgoAgkAgICAGMBeiO5API4Jm+Px9EkDIBVy6QCQ3L5sBtlW4hYN8+OKt8XdmU9u/6Az+M2h+euuBL1yzI91LbWKxaThEEBAFBQBAQBASB5IKA+AAm8Tu55sAV/HP8OtxdnDH4nZIIUSWOro8Zq1fl81UXuKqayUOW18c9lfC5hDL9ftyYPoDKDiwiCAgCgoAgIAgIAikWAdEAxuLWO4oJ2F/l/Bu4KryUU9uqBVDAJw38hgxB2IMHSFW6NDKoTPe/HZyHvx6chavSFA4q9ilcM+SJxYrlFEFAEBAEBAFBQBBITggIAYzF3XQUE/Do347h+r0g5MusSjMpAuivyuPd/2MD0/cj26BBuPPoLobtCtcGfoH0KFy5WyxWK6cIAoKAICAICAKCQHJDQAhgEr2j+y7cwfyt4Tn/hirTr1vgQ1wdPESvJtNnn8GzSGGM+q0tbjuFoZAy/bas9x1UxfMkulqZtiCQchFgovzOnTunXABiWDnL07FKiiEsxcYaw44qyeVeOik3opUrV8YZ5vgaJ84TSaEDiA9gErzxoSqSt8/Kgzrn3ztlsuucf1cGDkSIKuDulic3Mrdri80nV2P13cNQtf4wsEBjuGUOr+2ZBJcrUxYEBAFBwC4EJqjcp0+rKmXXQM+p0wpVipN1iO0V1lLOp8oX7tmzx4bo2nu+o/QjUSdh3Lt3r82UWNrVqB9tc0B2EgQBIYAJAnP8XmTh9vM4cOku0nq4ordK+/Jw927cWRReaN134CAEuqgqH1v664s2C/XEC1XCt+N3FjKaICAICAKOhQBrszuCPHr0CO7u7pGmkjFjxkhtCdUQHBz8TOQzIeaVLZukI0sInKO7htgEo0MmhvbEDAK5cT8I36w7qmfXtUZh+Hg440o/lfNPSbpGjZC64suY/Fc3XLI8QnaVB7BDjcmAi/B8DZD8EQSSAQKs3fvxxx9rzYmXlxdq166NEyfC84Aay5s5cyZy5coFHm/YsCHGjh2L9OnTG4ejfGfFkZdeegmpVfoo9n3llVdwTlUSohim1unTp1vHfe+993Dnzh3rWDt27MBbKudo5syZQSJWpUoV7FYPp2Zhf9YfZpk0T09PlCxZEqtXr7Z22bJlC15//XWkSpVKX6djx454oILa7JWIJmCaXDlG9+7dQfJFwsG1mOXu3bt6Tqzf6+3tjTfeeAP7VBotQ06dOoUGDRroOadRCfWZ//WPP/4wDuv3vHnzYogKwOP1ufZWrVrZHDd2IpqAed6wYcPwmXLbYTm+3LlzY8aMGUZ3rf3jTtmyZVXyBifwfEPmzJmDYsWKaRyLFi2KKVOmGIdAzSH7L126VJ9DrBcsWIC5c+fqe0ttXOHChfW5vGcXLlywnsuNqVOnokCBAprEFilSBPPnz7c5HnGnR48eejx+3vLnz4++ffuChJPCaw5UFipiyjnxxTYKt82m5AMHDmj8ef8zZcqk78v9+/d1X/4x7u/o0aPh6+ur+9An37iWtaNs2IWAEEC7YLLtlJhBICPWHoV/YAiK+3qjecU8uPndd3h08hRc1Jdblq+74dDlbVhweaOecB+f1+CV62XbycueICAIaARoKgx7+DBRXnExU/JHcOfOnfjll1/w33//aZNnnTp1rD+CmzdvRps2bdCpUydtcuMP/NChQ2O86yHqYZG+cyRt+/fv1+OSqPEH2pCTJ09qQrFq1SqsW7dOj83vQkPu3buHFi1aYNOmTdi6dSsKFSoEzovtlDBVf5xklSSPZOTw4cMYMWIEXFxc9HH++NesWRON1IMs57BkyRL8+++/aN++vT4e2z/ff/+9JrXbtm3DqFGjMEgFyP2uAuYovA9169aFn58ffv31V+zatQvlypXDmyqB/q1bt3QfEhCug6SPpljO8e2338b58+f1cePPN998owktxyABslfGjBmDChUq6LHbtWuHtm3b4ujR8If87du362F4bZpLaUKmkOCzhjPv65EjRzSJ5DW5VrOQmJEAsw/nTXmoPvM8j335WfH398cHKmOEIT/99JP+7HTt2hUHDx5E69at8emnn+Kvv/4yukR6J3klqeM9pRme8xs3bpzu16RJE3CsEiVK6DVwHWyLKJxXrVq19IMNHyaWLVumMY94/zkPknK+cw28Ll8isUBA/QOIxBIB9eRoUZBb+J4QsuPMTUueHqv1a+fZW5bAU6ctR0q+YDlcpKjlzi+rLI9CH1nenV/JUnJuSUv3GSUtlqAHCTEtuYYg4PAIBAQEWNSPk4XvhoQ+eKD/d/j/k9AvXtteUaTMosic7n78+HH9naN+uK2n37hxw6I0Jhal7dFt6sfVokiN9Tg3mjVrZlGaKZs2887Nmzf1uEoLaG62bvfv39+iiJpFaYqsbWvXrrU4Oztb1A+6tc28oUilRREDiyKMuvm3337T/Y8dO2buZt3+6KOPLIp0Wve5ocikPsd838wdOK/SpUtbmxQBtShtnXWf2L366qvWfW4oDZ5FESPdtmHDBovS+lkCAwNt+ijtl0VpO23azDuqEpRl0qRJ1qY8efJYFIG27ke3Yb6X7MPzmjdvbu2uSLJFaSItSgOn286cOaPviyKe1j7cUNpdy8KFC23aBg8ebKlUqZJuM84bP368TR+lNdTjKYJubVfkULcpgqzbKleubFEaTOtxbihtr0WRYGsbf/cUUbTuR9xQRNtSvnx5a3PE+2QcMI+jNJ8W5Q9oUYTbOGxZs2aNvv+KoOs23l9ixs+WIZwbP/NRSVT/90a/hP79Nq7rSO+iAYwFaU6MU0JCw3TgB6/dpEIulMudHn79+8Oi1OypX30V3vXqYt6WYTgWeg/pQkPR/dUhgLtXYkxVrikICALPCQFqclxdXfHyy080+zSV0UzHYxRFsLQp1zwFmnYNoeaKpkzjRRMkzaPULBraLWpxqKkxC82TOXPmtDYpsqG1erwe5ZoKQqPmkaZFmkH5ovbM0JQxAIDn83hUQs0ZNTnGvPjO+VBzqAhNVKfY1VaqVCmbfjQdcq4UXpNzJIbm6/J61DJRaIKmCZnlP2kaZz9q6Ix16U7qD7V4sRHz/KhxpZnamF9U412/fl2bbD///HObOdMEbczZOC+qOfHzY26n+ZjrMj4/fKf53yzcN46b243tH3/8EYpo67kTH2ojI+Jj9I3uneMrMq+1tUYfXpf33/iMsZ2aRENrzH3z/eS+iP0IiHOY/Vglas95/53DUb97SO/lhh61i+KuMgU8VGpyJ+XbkW1Af1y8exZTT/6onCqAr1MXRaZiDRJ1vnJxQcDREXBSfkZFdu9KlGny2rERpT2I8jS2G+Za87bR2Xxe9uzZbaIxjcAE+pTRXEjzLs2vffr00abSihUrGsPYvBvXM95JIElOlNYJSksDDw8PkCQyIIJCv66YhD/0NDdyDhGF5DO2EjHqlvPltSh8J4Gg/2NEMXwmv/76ayjtJeh3VrBgQb2Oxo0bW9dlnEffydhITPOLajxj7jSzmh8E2NdMjLgf3ZyMe8Y+hpjbzNs8HtVnyjiP5n6akOnnR8JO4r9YlSOlaftZJKZrmOfzrHg9yxxSWl8hgLG44wwC4StUadoSQq7dC8S434/rS3WvWRTeAf44Neobve+jvizdcuTA0GV1EKTI38tBoaj/7hMn4oSYn1xDEEiKCPBHxUk5rScloRaK/nr0Z1OmOj11Zb6FMg3rgAA2UKNj+I4Za6PPoCHUAJHIRCUMNuCrV69emrwpMyMMAkiNzuXLl0ECSaH/oTIBWzV69P1jIAL95SgMLFDmab3NP9R0Xbx4Uc81Ki0gfe8OHToU7dysA8XjBq9J/z9ikjdv3ihH5rpIbhlMQ6HGkEEWCSFGJLH5t4YBNDnUd/7p06ehTPvPPA1+fvh5MLTC1K4xOIefGwoDS+h7yUAjQ+i3yfaohH6EJPz0STTECB4y9rkO8xqMdvM7P9v06aPG1SCuHNv8GTP3l+24IyAm4FhgmNBBICPXHsO9oBCUypkOTV7MhavDhiNMRa55FC+GjB9/hN8O/YDNARfhprQAfUq3hVOazLFYlZwiCAgCjo4AAysYkcooU/5IM7JS+ZBpQsB2SocOHXRAAyN/GR3MyF3lr2fVEEa1Rpo8SfpI6vjjvX79ehtSyXMYScogD16TpIiauvfff1+b/XicpJLRojTlkaCSnJi1fgwwYYTvu+++qzWLvCbnRY0jhQELvD6/X2ku5twZ6ML1PC+pXr26JroMgKGWj8SOZIfaT4M0c10MvuCcuPYPP/zQqkF8XvMyxmVkMjEkRldVnXdGLFMGDBiA4cOH64ALkn8G0FCDy3v+NKEGjZjyHjFKmwEeJPkGIaTGk6b4adOm6XvAMbn+bt26RTk08eHDAbV+NEFPnDgRDCQxC8k17zcx5ENBUFCQ+bDe5ufF+Iwx+IRBHpyn8g3VEdiRTpCGOCMgBDDOED7fAXadu43luy/qiwysXwIBmzbCX0WrsaqH76DBuBf6ACN3jdbHW1nSI+9L7Z/vhGR0QUAQSFQE+EOvHOxRr149TV5oOmMEq2Eao98Uf7z5w02fKpKHLl266B/X6CbO9B30ayM5o3aOEcCMvqRJ1hD+0DNClxq+GjVq6IhXc+qR2bNngylqqEHkjzYJIgmMWZYvX67TqDRt2lT71NG3ztAMUUP4zz//aNLx2muv6XHoS0YT7fMSaoGJHYkpU7Fw7TRnkghS00ZhNCuTFVPjyuhfmjmpOUwIoWaShIoknppXg+S3bNkSs2bN0kTthRde0NHbJG1MGv004b0m2SaRpYmeBJPkzRCSYfqAMqqZ/na8Nj9zVatWNbrYvHNO/Hzx88KqLCTQEaOg+blihG+1atXg4+ODRYsW2YzBHc6LJJzR10y1QzM7o7G//fbbSH2lIX4QUIUionEqiZ/xk/UoDJ+nvwOfypg/Kr6FFT/embxZJ31uXD4nRtUpiNNv10ewMsNkVE9tWXt0x5C1LbHk2jbkDQ7B8no/wj1bifiehownCCR5BFSUp9ZA8AeSWoaUJtQYkuBRcxcbocYpqkoOsRlLzkk8BEgSWVbQnL8x8Wbz/K8c0//98/79fv6ri/sVXOM+hIzwvBBYuvOCteJHj1pFcX3SeE3+3NSToE+H9th/eSuWXt3KbJrom726kL/ndSNkXEEgiSHAgAXm/6MvFc2s9K0ya+uS2HJkuoKAIPAcEBAC+BxAjY8h7z4Mxje/hadX6FS9ENKcPYGz8+bpoRn1G+bpjkF/dYVFkb/6j5zw0luj4uOyMoYgIAgkAwQYBMKkx0zCzMoMNCPSbCgiCAgCgoCBgJiADSRi8f48Vcj9fz6I71Xql0JZ0mDNl5VwsekHCDp8BN4qa32OMaPVseEYfXyhzvn3S6XhyChpX2JxB+WUlIJATKaglIKBrFMQSGkIxPR//zx/v5MKzhIE4oB36sgVf8zfek7PbIAK/LinyiaR/Dkrf8OsvXvh6v0rmHIs3Im2S6r8Qv4c8B7KlAQBQUAQEAT+3965wNlUrn/8mTEuYVzGdTAuIUzut4PChIjciVKYE53q5I/SSS6HnA7p9Bfnf9BHurgUIdHhKB9FKOUah4SIQ8Yk5J7LmP1fv7fWOmvv2bP32pc1+/Z7Pp89e633vr7rnbWf9bzv874kEM4EqAD6cXewBiDWLIKnkh0yc/1h0fw/pHPd8tKs0DVt7t8/VDXlNI+5BG3F+v/95H/kapxD6t/Ikl5d5tjRBJZJAiRAAiRAAiQQxQQ4B9CPm4t1qvDRTch+FOExy5Te9SRffJw0SikuB54bJ/k1D8bC2lZOxXv3kq+OrpOPLxyUeKz5V+NBzSpY0WNZjCQBEiABEiABEiABVwJUAF2JhPj8432nZNKq/XLqwjW5tHq1tNi1TW7GJ8h3jzwlydk3ZfLn41UL+2cVkDptxoa4tayeBEiABEiABEggEglQAQyjuwbl78l3dgl2+0y8cUUe3/uhat2iWh1kyfqfZOC18XIs+6qUyrolw9Kmaxs/5g+j1rMpJEACJEACJEACkUKAcwDD5E5h0WdY/vSt3ofuWyXFNSXwaLHy8n7NNMmXcFb+dfYj1dpRRbX9gGt0CJOWsxkkQAIkQAIkQAKRRoAKYJjcsW1Hz6lhXzSnwU/fScfjOyRb4uT/GvaVLG0IuFryPLmh3a0m129K1y6vhUmr2QwSIIFYJICdQbDtV6RIpLU3UriynZFNgApgmNy/05euGS1pd2KnOl5draUcSKoqJYrslsyiP0k+zfGjX8neEpf46x6VRgYekAAJRC2B9PR0bbOfOJk6darTNWJrNoTr8tlnn6lzhOFTSlsxoF27dvLFF1/oSdR3qJQhtAltDoU8++yz8umnn/pUddWqVWXGjBk+5WFiEogkAlQAw+RulU387/6kMxr1k2mN+sv81C5a67KkePnlqpWdLsRJyYYjw6TFbAYJxCYBTNf48shZ+XD3SfWNc7sF+xe//PLL8vPPP3ut6uDBg3Lq1CmBQlimTBm5X1s8/vTp017zRXOCokWLKoU4mq+R10YCvhKICQXwxIkTkpaWptbuq1+/vixbtsyJ0/Tp0+XOO+9U8cOHDxeHZmnLa2leLUmSixfSBn1F294tXj6p0kyu5i8kKaVWybkCN5Xjx5kr6dK8epm8bhrrIwES+I0AHLXufnm9PDT3Kxnx3m71jXOE2ykdOnSQ8uXLy0svveS1mrJly6q09erVk/Hjx8uFCxdk69atXvN5SgDrY7ly5SQxMVGGDBki2GHBLNu3b1d7D5cuXVqKawvWt23bVnbt2mUkgTUN0qtXL2Wd1M+PHDkiPXr0UGVDScPaqp988olKq/9B2hdffFEGDBggSFNB2wv9H7+tjaqnOX78uCoH8cWKFZN+/frJjz/+qEeLq9UTVtWePXsK9kxOTk5WyiGW9rp586bKg9+L//znP/L0008bVlVEIKxbt25SsmRJtc8yfjfWrFlj1MMDEogkAjGhACYkJChT/v79+9XDBf/UV65cUffpp59+kpkzZ8rOnTtl79696vurr77K83uIdf8mdktV9UIJhMQnnJdrpX99cLc5W0Ye6D5ArQ/4ayz/kgAJ5CUB3UsfSzSZJVM7h/e+nUpgvnz5ZMqUKUrx+eGHH8zV53p89epVefvtt1V8/vz+rxiwdOlSmThxokyePFl27NihFKbZs2c71Ys9hwcPHiybN28WPD9r1qwpXbp0UXsRIyEURAjaA+ukfn758mWVDkrf119/LZ06dVIKFhQ6s7zyyiuCl3colWPGjFGK2bp161QSvLBDmTt37pxs3LhREA7Fsn///uYichxv2LBBpcP3/PnzZd68eeqDhB988IFUqlRJ/vKXv6j2os0QKInXr1+XTZs2qd8LWGWhdFJIIBIJxMQyMHjDwweCt+OkpCT1sChSpIgKy8rKMt5o8QaINKGQ++omy2uPNDbWAaxeboFkaip63Ws3pa227Et7LZ5CAiSQ9wRcvfTNLcB4AV7a4MV/b2p5217SYD2D4wWUsTfffNPcBKdjKC4QKIBQjpo0aSLt27d3SuPLCebBPfroozJ06FCV7a9//at6kTZbATHX0Cxz5sxRVjIoZF27dlVD0YgvUaKEsk7qaRs0aCD46IKyV6xYIf/85z9l2LBherDcdddd8vzzz6vzO+64Q81rxMjNvffeq9ry73//W44ePSopKSkqzcKFC9WoDhTN3HZsghU5B6hFAAAYRElEQVQPL/9QrmvXrq2GyjFP8LHHHlO/EQiHxROWV12gmPbp00dgXYXcfvvtehS/SSDiCGjqRegFb1Mwq8O0n9tEYbxxVqtWTTAXBg80vGn6I3iDzc7ONh4UmCODCcKVK1dW9WOopXr16v4UHZQ8UAI/H91OJvcWySyWIXHaA3xs9T7SvnnjoJTPQkiABHwnYPbSd5cbSiAsg0hnp8DiBGsVRjNyEzwbYSlbvHixVKlSRVm1ArEAfvvtt9KyZUun6lzPMcfwiSeeEChnGALGB9Y9V0ueUyHaCUZintO2uMTWmlAOYU07cOBAjnyu9eEc7YLgG4qfrvwhTC9PT4MwV8HwLZQ8XWAk8DZXElOEoKRCIYUiDsWTQgKRSiAsFEA8BPAWiLcxd7JkyRIZOXKkjBs3Tg0TtG7dWjp37uz0kIBSWLdu3RyfjIwMo8izZ8/KoEGD5PXXXzfCMKl6tbbjxrFjx+TkyZOyZcsWZd43EoTkIFtWfjdF1dz7ZrzUS5sQklawUhIggV8JmL30PTGxms5TGZ7i2rRpo4ZJx47NfRcgvChDEcMQ6KRJk9S8Owxb2inp6elq+gyshXiG7t69W82ru3Hjhsdq//SnP8ny5cvV8DIUV+SDdc1bPhQKYwEEVk79WAX89ie3cD2Nq1KMMmAc8CSwgn7//fcycOBANQTctGnTHPMRPeVnHAmEE4GwUAChzOGtqndvzezlRl599VU18Rj/fHXq1FHz+fC299pr/10PD3P49u3bl+MDqyIED0AMoWD+SKtWrYxaMPekRo0ayuR/2223qWGA3OYAogzs/2v+GAUF8eD9XbPkQNZFSbyVLcPvmiSSUDCIpbMoEiABXwmYvfQ95bWazlMZ3uLgkLFq1SqlaHlLC0UFSo3rnD1v+czxeOa6PhNdz6G8wTqGeX+wrBUsWFDOnDljLkagcN26dcspDPmgPOLZDMUPw614GXcV1/pwjmFbCKx9sDTC2U8XWEjh/IK2+ysFChTI0V6Uhd8eWDsxT3DUqFEyd+5cf6tgPhIIKYGwUAA9EcCbIJS7jh07OiXDOd40rQjeBPGQwTwVPBDNgn9mlIP5LHg4YemEWrVqmZMYx/DA04c38G0ecjASBeHg0qF/SYLW5mH5K0hSaq8glMgiSIAEAiFg9tJ3Vw5sUfDiRzq7BYrSww8/bMnyFB8fr0ZPoDRiTqAuv/zyi7K2weKmfw4fPqxHO32PGDFC3nrrLfU5dOiQGvr85ptvnNLgJRrz7jDkCo9jtA8v1GaBNy/m2GVmZhrL2SAfFCm0Yc+ePcrT150VDmsZ/u1vfxPUP2vWLLWSA9oFwbQdOIigTgx9b9u2TY30wBMZFjp/Be3F9CSMDOnKLEai1q5dq+Yboq7169cHpGT62zbmI4FgEAh7BRD/eFDMsASBWXCOB4kVwcMDw8hYhBSTqPGBxy+kRYsW6q21UaNG6iGC+X/du3d3Wyysh3ir1D/mN063GfwMHNpzsXyY1Fr6dXb2tPOzOGYjARIIkIA7L329SCh/EHjxI11eCJZFwYutFYEDB5zbzFNsoEjhmWf+6E4ermViKHnChAkyevRoNf8aS6E8+eSTTsmgIGI6DcrDSzasga7OdNOmTVMeunhxRjoIHDngjIFRGcwDhxdw48Y55zvD0gZDAPLh2lEW0kL0eeMoB0PkUAjhnIFnfiACD2BYI/GbgLniEPwWwRMYlsX77rtPGQsCsa4G0j7mJYFACWg+BhafIoHWZDE//pnhBQa3fgjm8FWsWFFZ6cwTgbEkAd44MWE4rwVvoPjgYYAHKRRCrD1FIQESCE8CsPDDS1R3JPO3lVjqBd6+5qVgYPmD8gcHLkrwCcASB8sbPhQS8IWAp/97TOXCSF4s/36H/TIwWFgUnlqu1j54a7laBX3pGIGkxRsgPnoHCqQs5iUBEogcAlDysNQLvH3h8IE5fxj2zSvLX+SQYktJgATCnUDYDwFjIi48fPVFP3WgODc7c+jh/CYBEiABOwlA2WtZvZT0aFhRfVP5s5M2yyYBErCLQFhYALFelHkCMoZqMCkYCzZjfb5nnnlGzSvBhF4MA2MZF3h9wRMrFGIeAg5F/ayTBEiABGKFgDuv4Fi5dl4nCdhJICzmAMLz9p577slxndhaaJ62PQ8EE23hBYYtebDeHyYPY8JvKEUfAo7lOQSh5M+6ScAqAU9zgayWwXQkQAKRRcDT/z1/v7UV5sLhdmLjbW++KH/84x8Fn3AQWgDD4S6wDSTgOwFvzxnfS2QOEiCBcCXA/3fPdybs5wB6bn5oYuEAgoVG9Q3NQ9MK1koCJGCVgL7rg3ktPKt5mY4ESCAyCej/7/r/f2RehX2tDgsLoH2Xx5JJgARIQNRKAthrVt/rtXDhwm63DyMrEiCByCcAyx+UP/y/4//evOdz5F9d8K6ACqAfLDkE7Ac0ZiGBEBPANmMQXQkMcXNYPQmQgM0EoPzp//c2VxWRxYeFE0hEktMazUmkkXrn2O5YJoAF3LEzBoUESCB6CWDY15Plj7/fYeIEEr1dkFdGAiQQbgTwo+DphyHc2sv2kAAJkIAdBOgEYgdVlkkCJEACJEACJEACYUyACqAfNwdzAFNTU6VZs2Z+5GYWEiABEiABEiABEggtAc4BDIA/5xAEAI9ZSYAESIAESCBEBPj7zTmAAXU9fZFJdCQKCZAACZAACZBAZBDQf7f13/HIaHVwW8llYALgeenSJZU7JSUlgFKYlQRIgARIgARIIBQE8DtevHjxUFQd8jo5BBzALcjOzpaMjAxJTEzMdVFZzBP0tGNIbvF4O4FieeLECSlWrFgArczbrLldT7BbEcx6AinL17xW03tL5288+5X3nuiNrfcSfk0RSDm+5rWa3ko6T2lyi2O/8t4rcmPnPWfOFP6W5Ws+q+mtpPOWxl28nf0Klj8ofxUqVJD4+Nh0h6AFMOf/luUQdJpKlSp5TI/lJjwpcN7ikddTfo+VhyDS2/UEq0nBrCeQsnzNazW9t3SBxrNf5d4TvbHNPadzTCDl+JrXanor6Tyl8RSHq2e/cu4D5jNv7MxpvR37W5av+aymt5LOWxpP8Xb1q1i1/On9K98Lmugn/LaHQPPmzT0W7C7++vXrMnXqVBkzZowULFjQY/5wi3R3PXa0MZj1BFKWr3mtpveWzp949itrPdEbW2uliARSjq95raa3ks5TGndx7FfWeoQ7dtZy5kzlb1m+5rOa3ko6b2lc4yO5X+W8Y+EXwiHg8LsnqkUwfePt5MKFCxFlAQxTnGzWbwTYr9gV7CDAfmUHVZbJfmVvH6AF0F6+AZUOk3haWpokJHCkPiCQzOxEgP3KCQdPgkSA/SpIIFmMEwH2KyccQT2hBTCoOFkYCZAACZAACZAACYQ/gdh0fQn/+8IWkgAJkAAJkAAJkIBtBKgA2oaWBZMACZAACZAACZBAeBKgAhie94WtIgESIAESIAESIAHbCFABtA0tCyYBEiABEiABEiCB8CRABTA87wtbRQIkQAIkQAIkQAK2EaACaBta+wpevXq11KpVS2rWrClvvPGGfRWx5Jgi0KtXLylZsqT07ds3pq6bF2svAWxnieWsUlNTpX79+rJs2TJ7K2TpMUEA27hh+7iGDRtKvXr1ZO7cuTFx3cG8SC4DE0yaeVBWVlaWepBu2LBBLRDduHFj2bp1qyQlJeVB7awimgmgT12+fFnmz58v77//fjRfKq8tDwmcOnVKfvzxR/VDffr0acEz6+DBg1KkSJE8bAWrijYCt27dEuwUUrhwYbl69arUrVtXtm/fLqVKlYq2S7XtemgBtA2tPQVv27ZN7rzzTqlYsaIkJiZKly5dZO3atfZUxlJjisA999yj+lRMXTQv1nYCycnJSvlDRWXLllUvq+fOnbO9XlYQ3QSwQDSUP8i1a9cECqHD4Yjuiw7y1VEBDDJQb8Vt2rRJunXrJhUqVJC4uDhZuXJljiyzZ8+WatWqSaFChaRJkyayefNmI01GRoZS/vSASpUqycmTJ/VTfscogUD7VYxi42VbIBDMvrVjxw7Jzs6WlJQUCzUzSTQTCEa/On/+vDRo0EDwO/jcc89J6dKloxlZ0K+NCmDQkXou8MqVK6rDzpw5023CJUuWyMiRI2XcuHHy9ddfS+vWraVz585y/Phxld7dGw4USUpsEwi0X8U2PV69JwLB6ltnz56VQYMGyeuvv+6pOsbFCIFg9KsSJUrInj175OjRo7Jo0SI11SBG8AXnMjWFghIiAtoddKxYscKp9ubNmzueeOIJp7DatWs7nn/+eRX2xRdfOHr27GnEDx8+3PHuu+8a5zwgAX/6lU5Nmwfo6NOnj37KbxJwIuBv39KG6Bzay6xjwYIFTuXxhARAwN9+ZaaH382lS5eag3jshQAtgFrPCxe5ceOG7Ny5Uzp27OjUJJxv2bJFhWkKouzbt08N+8ILas2aNdKpUyen9DwhATMBK/3KnJ7HJGCVgJW+pf0GSXp6urRr104GDhxotWimi2ECVvoVHIsuXryoKOEbQ8pYHYNinUCC9aRMaTeBM2fOqIms5cqVc6oK55mZmSosISFBpk2bJpiwj7k0mPdArycnXDxxIWClXyELXiR27dolGJrBnBrNOq2WWXApjqckYBCw0re0UQvB1BYsAaPPeV64cKFausMoiAckYCJgpV/98MMPMmTIEOX4gZeMYcOGqT5mKoaHXghQAfQCKBTRrnP60LnNYd27dxd8KCTgCwFzH0I+135Fb3JfaDKtmYCnvnX33Xerl1Vzeh6TgBUCnvoVHCR3795tpRimyYUAh4BzAROKYHgwwbVdt/bpbcDaWa5WQT2O3yTgjQD7lTdCjPeXAPuWv+SYzxMB9itPdIIXRwUweCwDLqlAgQJq2Zd169Y5lYXzVq1aOYXxhASsEmC/skqK6XwlwL7lKzGmt0KA/coKpcDTcAg4cIY+lYCdFg4fPmzkgfs6zNjYyaNy5cryzDPPqInSTZs2lZYtW6olE7AEjObhZOThAQm4EmC/ciXC82ARYN8KFkmWYybAfmWmEaJjbR4QJQ8JYJkN7Vbn+AwePNhoxaxZsxxVqlRxaG9BDm3bJMfGjRuNOB6QgDsC7FfuqDAsGATYt4JBkWW4EmC/ciWS9+fcCzhEijerJQESIAESIAESIIFQEeAcwFCRZ70kQAIkQAIkQAIkECICVABDBJ7VkgAJkAAJkAAJkECoCFABDBV51ksCJEACJEACJEACISJABTBE4FktCZAACZAACZAACYSKABXAUJFnvSRAAiRAAiRAAiQQIgJUAEMEntWSAAmQAAmQAAmQQKgIUAEMFXnWSwIkQAIkQAIkQAIhIkAFMETgWS0JkAAJkAAJkAAJhIoAFcBQkWe9JEACJJALgTfffFM6duxoxKanp0vPnj2NczsOrl+/rraj3Llzpx3Fs0wSIIEwI0AFMMxuCJtDAuFCIC4uTjx9oJREm6SlpcnIkSNDellQxCZMmCB//vOfg9KOadOmSfHixeXq1as5yrt27ZqUKFFCXn31VSlYsKA8++yzMnr06BzpGEACJBB9BKgARt895RWRQFAInDp1SvTPjBkzpFixYsY5wv/+978HpZ68KOTmzZt5UY1RRyD1LV++XIoWLSqtW7c2ygvkYNCgQfLLL78IynUVhEExHDhwoIp6+OGHZfPmzfLtt9+6JuU5CZBAlBGgAhhlN5SXQwLBIlC+fHnRP7AgwRqon+N706ZN0qRJEylUqJDcfvvtMmnSJMnKyjKqR/o5c+ZI165dpXDhwlKnTh358ssv5fDhwwJLW5EiRaRly5Zy5MgRI88LL7wgDRs2VPlSUlJUvgceeEDOnz9vpMHB22+/rcpD3bVr15bZs2cb8ceOHVNtXbp0qaoHad555x05e/asPPTQQ1KpUiVVbr169WTx4sVGPlg0N27cqBRb3fKJsubNm6esZEZC7WDlypWqDj1Mb/dbb72lWMCapm3tLhcuXJA//OEPUrZsWaVAt2vXTvbs2aNnc/v93nvvSffu3d3G6YEYpkWZkydPVkGe6ilTpox069ZN0DZXQRjqQhpIqVKlpFWrVk5cXPPwnARIIDoIUAGMjvvIqyCBPCWwdu1aeeSRR2T48OGyf/9+pbBBUdIVEr0xL774osACtXv3bqWoDRgwQB5//HEZM2aM7NixQyUbNmyYnlx9Q0GE8rZq1Sr5+OOPVd6nnnrKSDN37lwZN26cqguWqilTpqjh0vnz5xtpcIChTLQPaTp16iQY7oTCunr1atm3b59SzGD52rp1q8oHiyYU0scee8ywdEIJtSp6u2FVw/VC7r//fsnMzJQ1a9YIlLbGjRtL+/bt5dy5c7kWCwtc06ZNc43/7LPPVBlQuMEBiqa3eoYMGaKU26NHjxrlQrndsGGDIM4szZs3V1ZAcxiPSYAEopCA9vCgkAAJkIBHAprFzaFZAY002vCkQ1O8jHMcLFy40JGcnGyEaY9Lx/jx441zzfrnQJjm4GCEaRY4h2ahM84nTpzoyJcvn+PEiRNG2EcffeSIj493aMPOKkxTyhyLFi0y4nGgKZoOTXlTYZqSo+rRhq2d0rg76dKli2PUqFFGVNu2bR0jRowwznHgeu0IW7FihaoDxxC0O3/+/I7Tp0//GqD9/fTTTx3asLlDUzyNMBxUr17doVlGncL0k59//lmVq1lX9SD1PXjwYEePHj0cmuXRkZiY6HT9VurRLLOOihUrOrS5hUa5OEYY4syiKcKOqlWrmoN4TAIkEIUEEqJQp+UlkQAJ2EwA1qzt27c7Wfxu3bqlrGyYU4YhX0j9+vWNlpQrV04dY+hVF4TBMnfx4kU1RIrwypUrq2FaPQ2sctnZ2XLw4EHRlEPRlENltYKlThcMPWOY2iyuVjS0b+rUqbJkyRI5efKkwNkCHwxFB0OqVKliDKWiPDC6fPmyGlY1l4/5eOZhb9c4nGPY2lVgqYT1ctmyZdKrVy8j2ko94KYpkWo4W1NW1fA1LKYY9kacWW677Ta3DiPmNDwmARKIfAJUACP/HvIKSCDPCUAhwxBk7969c9RtVl40q5gRj3l1EHdhKC830fPhW0+HYeDf/e53TllcFRlXxQ7esNOnTxc4tEAJRTw8fm/cuOFUjuuJZn1Uw6zmcHdOHq71oa2aRVQwZOsq8Lx1J5iDh+vULIE5ojXLoVImMW8PQ74FChRQaazW8+ijj8pLL70k69evV/mOHz8uv//973PUg+FpfU5gjkgGkAAJRA0BKoBRcyt5ISSQdwQwlw0WuRo1agS9UigmGRkZUqFCBVU2HEeghN1xxx0Ci6E2bCnff/+9wGPVF8HcOm0YVc1dRD4oTt99951yJtHLgVIFS6FZoAxdunRJrly5YlgL9Tl+5nSux2CE+X8JCQlStWpV12i356g/NTVVzas0rwOIxKVLl5YPPvhAObb0799fzZOEMm21HiiQ2hC3cqDRRrNUOQhzFcyPbNSokWswz0mABKKMAJ1AouyG8nJIIC8IYJ26BQsWCLxfv/nmG+VogaFVbc5fwNXDgojhSnjLQmmDI0e/fv2UBzIKR52wZMFp49ChQ7J3716l1GAtO08CZXXdunWyZcsW1V44o0BBMwsUNQy1wkHizJkzSkmEpRFD2mPHjlUezNr8QzWUas7n7rhDhw7KqQQLOMNpBmWibjDSHWDc5YPDyueff+4uSnn+woJ34MAB5dGMoW9f6oHDB5RIbQ5jDucPvUIwd1U+9Th+kwAJRA8BKoDRcy95JSSQZwSgpGA+GhSqZs2aSYsWLdRiwpgHF6hAUcPQsuagoRSRunXrOi3zMnToUHnjjTeUEoahXFi15mkeyNWqVfNYNRZWhrUMbU/TlqHBUjauu2tgIWQMJcMKB8sfrJFJSUlqGRl48upLx0AJ9SYYykWeNm3aCIZfYcF88MEHlSKoz4d0VwbmNiIflnZxJ2g3lEAovrCCwpJptZ4+ffqoBZ+xTI274XtYW1Fv37593VXNMBIggSgiEAfHlii6Hl4KCZBABBOAYoU19qwMsUbwZXptOiyeGIbFcjl5KVhzEfXC2kkhARKIbgK0AEb3/eXVkQAJRCCBV155Re0GkpdNh0d0gwYN5Omnn87LalkXCZBAiAjQAhgi8KyWBEggJwFaAHMyYQgJkAAJ2EGACqAdVFkmCZAACZAACZAACYQxAQ4Bh/HNYdNIgARIgARIgARIwA4CVADtoMoySYAESIAESIAESCCMCVABDOObw6aRAAmQAAmQAAmQgB0EqADaQZVlkgAJkAAJkAAJkEAYE/h/KLvDGOGBAD4AAAAASUVORK5CYII=\" width=\"640\">"
      ],
      "text/plain": [
       "<IPython.core.display.HTML object>"
      ]
     },
     "metadata": {},
     "output_type": "display_data"
    },
    {
     "data": {
      "text/plain": [
       "<matplotlib.legend.Legend at 0x29c9a1cd0>"
      ]
     },
     "execution_count": 25,
     "metadata": {},
     "output_type": "execute_result"
    }
   ],
   "source": [
    "temp_plot = 10 ** jnp.linspace(0, 3, 100)\n",
    "plt.figure()\n",
    "# plt.plot(temp_plot, jax_DT_reactivity(temp_plot), label='DT')\n",
    "plt.plot(temp_plot, jax_DD_nHe_reactivity(temp_plot) + jax_DD_pT_reactivity(temp_plot), label='pT+nHe3 (Bosch 1992)')\n",
    "plt.plot(temp_plot, jax_DD_nHe_reactivity(temp_plot), label='nHe3 (Bosch 1992)')\n",
    "plt.plot(temp_plot, jax_DD_pT_reactivity(temp_plot), label='pT (Bosch 1992)')\n",
    "# plt.plot(temp_plot, test_jax_DD_nHe_reactivity(temp_plot) + jax_DD_pT_reactivity(temp_plot), label='Test _ DD (pT+nHe3)')\n",
    "# plt.plot(temp_plot, calc_DT_reactivity_linear(temp_plot), label='DT, linear')\n",
    "plt.plot(temp_plot, calc_DD_reactivity_linear(temp_plot), label='log-space linear interpolation')\n",
    "# plt.plot(temp_plot, calc_lin_reactivity(lin_c, temp_plot), label='DD, poly')\n",
    "# plt.scatter(linear_reactivity_temps, linear_reactivity_DT)\n",
    "plt.scatter(linear_reactivity_temps, linear_reactivity_DD, label=\"NRL datapoints\")\n",
    "# plt.plot(temp_plot, calc_DHe3_reactivity_linear(temp_plot), label='DHe3, linear')\n",
    "plt.yscale('log')\n",
    "plt.xscale('log')\n",
    "plt.title('DD fusion reactivity')\n",
    "plt.ylabel('Reactivity ($m^3/s$)')\n",
    "plt.xlabel(\"Temperature (keV)\")\n",
    "plt.legend()\n",
    "# plt.savefig('DD_reactivity.pdf')"
   ]
  },
  {
   "cell_type": "code",
   "execution_count": 26,
   "id": "169a8043",
   "metadata": {},
   "outputs": [
    {
     "data": {
      "application/javascript": [
       "/* Put everything inside the global mpl namespace */\n",
       "/* global mpl */\n",
       "window.mpl = {};\n",
       "\n",
       "mpl.get_websocket_type = function () {\n",
       "    if (typeof WebSocket !== 'undefined') {\n",
       "        return WebSocket;\n",
       "    } else if (typeof MozWebSocket !== 'undefined') {\n",
       "        return MozWebSocket;\n",
       "    } else {\n",
       "        alert(\n",
       "            'Your browser does not have WebSocket support. ' +\n",
       "                'Please try Chrome, Safari or Firefox ≥ 6. ' +\n",
       "                'Firefox 4 and 5 are also supported but you ' +\n",
       "                'have to enable WebSockets in about:config.'\n",
       "        );\n",
       "    }\n",
       "};\n",
       "\n",
       "mpl.figure = function (figure_id, websocket, ondownload, parent_element) {\n",
       "    this.id = figure_id;\n",
       "\n",
       "    this.ws = websocket;\n",
       "\n",
       "    this.supports_binary = this.ws.binaryType !== undefined;\n",
       "\n",
       "    if (!this.supports_binary) {\n",
       "        var warnings = document.getElementById('mpl-warnings');\n",
       "        if (warnings) {\n",
       "            warnings.style.display = 'block';\n",
       "            warnings.textContent =\n",
       "                'This browser does not support binary websocket messages. ' +\n",
       "                'Performance may be slow.';\n",
       "        }\n",
       "    }\n",
       "\n",
       "    this.imageObj = new Image();\n",
       "\n",
       "    this.context = undefined;\n",
       "    this.message = undefined;\n",
       "    this.canvas = undefined;\n",
       "    this.rubberband_canvas = undefined;\n",
       "    this.rubberband_context = undefined;\n",
       "    this.format_dropdown = undefined;\n",
       "\n",
       "    this.image_mode = 'full';\n",
       "\n",
       "    this.root = document.createElement('div');\n",
       "    this.root.setAttribute('style', 'display: inline-block');\n",
       "    this._root_extra_style(this.root);\n",
       "\n",
       "    parent_element.appendChild(this.root);\n",
       "\n",
       "    this._init_header(this);\n",
       "    this._init_canvas(this);\n",
       "    this._init_toolbar(this);\n",
       "\n",
       "    var fig = this;\n",
       "\n",
       "    this.waiting = false;\n",
       "\n",
       "    this.ws.onopen = function () {\n",
       "        fig.send_message('supports_binary', { value: fig.supports_binary });\n",
       "        fig.send_message('send_image_mode', {});\n",
       "        if (fig.ratio !== 1) {\n",
       "            fig.send_message('set_device_pixel_ratio', {\n",
       "                device_pixel_ratio: fig.ratio,\n",
       "            });\n",
       "        }\n",
       "        fig.send_message('refresh', {});\n",
       "    };\n",
       "\n",
       "    this.imageObj.onload = function () {\n",
       "        if (fig.image_mode === 'full') {\n",
       "            // Full images could contain transparency (where diff images\n",
       "            // almost always do), so we need to clear the canvas so that\n",
       "            // there is no ghosting.\n",
       "            fig.context.clearRect(0, 0, fig.canvas.width, fig.canvas.height);\n",
       "        }\n",
       "        fig.context.drawImage(fig.imageObj, 0, 0);\n",
       "    };\n",
       "\n",
       "    this.imageObj.onunload = function () {\n",
       "        fig.ws.close();\n",
       "    };\n",
       "\n",
       "    this.ws.onmessage = this._make_on_message_function(this);\n",
       "\n",
       "    this.ondownload = ondownload;\n",
       "};\n",
       "\n",
       "mpl.figure.prototype._init_header = function () {\n",
       "    var titlebar = document.createElement('div');\n",
       "    titlebar.classList =\n",
       "        'ui-dialog-titlebar ui-widget-header ui-corner-all ui-helper-clearfix';\n",
       "    var titletext = document.createElement('div');\n",
       "    titletext.classList = 'ui-dialog-title';\n",
       "    titletext.setAttribute(\n",
       "        'style',\n",
       "        'width: 100%; text-align: center; padding: 3px;'\n",
       "    );\n",
       "    titlebar.appendChild(titletext);\n",
       "    this.root.appendChild(titlebar);\n",
       "    this.header = titletext;\n",
       "};\n",
       "\n",
       "mpl.figure.prototype._canvas_extra_style = function (_canvas_div) {};\n",
       "\n",
       "mpl.figure.prototype._root_extra_style = function (_canvas_div) {};\n",
       "\n",
       "mpl.figure.prototype._init_canvas = function () {\n",
       "    var fig = this;\n",
       "\n",
       "    var canvas_div = (this.canvas_div = document.createElement('div'));\n",
       "    canvas_div.setAttribute('tabindex', '0');\n",
       "    canvas_div.setAttribute(\n",
       "        'style',\n",
       "        'border: 1px solid #ddd;' +\n",
       "            'box-sizing: content-box;' +\n",
       "            'clear: both;' +\n",
       "            'min-height: 1px;' +\n",
       "            'min-width: 1px;' +\n",
       "            'outline: 0;' +\n",
       "            'overflow: hidden;' +\n",
       "            'position: relative;' +\n",
       "            'resize: both;' +\n",
       "            'z-index: 2;'\n",
       "    );\n",
       "\n",
       "    function on_keyboard_event_closure(name) {\n",
       "        return function (event) {\n",
       "            return fig.key_event(event, name);\n",
       "        };\n",
       "    }\n",
       "\n",
       "    canvas_div.addEventListener(\n",
       "        'keydown',\n",
       "        on_keyboard_event_closure('key_press')\n",
       "    );\n",
       "    canvas_div.addEventListener(\n",
       "        'keyup',\n",
       "        on_keyboard_event_closure('key_release')\n",
       "    );\n",
       "\n",
       "    this._canvas_extra_style(canvas_div);\n",
       "    this.root.appendChild(canvas_div);\n",
       "\n",
       "    var canvas = (this.canvas = document.createElement('canvas'));\n",
       "    canvas.classList.add('mpl-canvas');\n",
       "    canvas.setAttribute(\n",
       "        'style',\n",
       "        'box-sizing: content-box;' +\n",
       "            'pointer-events: none;' +\n",
       "            'position: relative;' +\n",
       "            'z-index: 0;'\n",
       "    );\n",
       "\n",
       "    this.context = canvas.getContext('2d');\n",
       "\n",
       "    var backingStore =\n",
       "        this.context.backingStorePixelRatio ||\n",
       "        this.context.webkitBackingStorePixelRatio ||\n",
       "        this.context.mozBackingStorePixelRatio ||\n",
       "        this.context.msBackingStorePixelRatio ||\n",
       "        this.context.oBackingStorePixelRatio ||\n",
       "        this.context.backingStorePixelRatio ||\n",
       "        1;\n",
       "\n",
       "    this.ratio = (window.devicePixelRatio || 1) / backingStore;\n",
       "\n",
       "    var rubberband_canvas = (this.rubberband_canvas = document.createElement(\n",
       "        'canvas'\n",
       "    ));\n",
       "    rubberband_canvas.setAttribute(\n",
       "        'style',\n",
       "        'box-sizing: content-box;' +\n",
       "            'left: 0;' +\n",
       "            'pointer-events: none;' +\n",
       "            'position: absolute;' +\n",
       "            'top: 0;' +\n",
       "            'z-index: 1;'\n",
       "    );\n",
       "\n",
       "    // Apply a ponyfill if ResizeObserver is not implemented by browser.\n",
       "    if (this.ResizeObserver === undefined) {\n",
       "        if (window.ResizeObserver !== undefined) {\n",
       "            this.ResizeObserver = window.ResizeObserver;\n",
       "        } else {\n",
       "            var obs = _JSXTOOLS_RESIZE_OBSERVER({});\n",
       "            this.ResizeObserver = obs.ResizeObserver;\n",
       "        }\n",
       "    }\n",
       "\n",
       "    this.resizeObserverInstance = new this.ResizeObserver(function (entries) {\n",
       "        var nentries = entries.length;\n",
       "        for (var i = 0; i < nentries; i++) {\n",
       "            var entry = entries[i];\n",
       "            var width, height;\n",
       "            if (entry.contentBoxSize) {\n",
       "                if (entry.contentBoxSize instanceof Array) {\n",
       "                    // Chrome 84 implements new version of spec.\n",
       "                    width = entry.contentBoxSize[0].inlineSize;\n",
       "                    height = entry.contentBoxSize[0].blockSize;\n",
       "                } else {\n",
       "                    // Firefox implements old version of spec.\n",
       "                    width = entry.contentBoxSize.inlineSize;\n",
       "                    height = entry.contentBoxSize.blockSize;\n",
       "                }\n",
       "            } else {\n",
       "                // Chrome <84 implements even older version of spec.\n",
       "                width = entry.contentRect.width;\n",
       "                height = entry.contentRect.height;\n",
       "            }\n",
       "\n",
       "            // Keep the size of the canvas and rubber band canvas in sync with\n",
       "            // the canvas container.\n",
       "            if (entry.devicePixelContentBoxSize) {\n",
       "                // Chrome 84 implements new version of spec.\n",
       "                canvas.setAttribute(\n",
       "                    'width',\n",
       "                    entry.devicePixelContentBoxSize[0].inlineSize\n",
       "                );\n",
       "                canvas.setAttribute(\n",
       "                    'height',\n",
       "                    entry.devicePixelContentBoxSize[0].blockSize\n",
       "                );\n",
       "            } else {\n",
       "                canvas.setAttribute('width', width * fig.ratio);\n",
       "                canvas.setAttribute('height', height * fig.ratio);\n",
       "            }\n",
       "            /* This rescales the canvas back to display pixels, so that it\n",
       "             * appears correct on HiDPI screens. */\n",
       "            canvas.style.width = width + 'px';\n",
       "            canvas.style.height = height + 'px';\n",
       "\n",
       "            rubberband_canvas.setAttribute('width', width);\n",
       "            rubberband_canvas.setAttribute('height', height);\n",
       "\n",
       "            // And update the size in Python. We ignore the initial 0/0 size\n",
       "            // that occurs as the element is placed into the DOM, which should\n",
       "            // otherwise not happen due to the minimum size styling.\n",
       "            if (fig.ws.readyState == 1 && width != 0 && height != 0) {\n",
       "                fig.request_resize(width, height);\n",
       "            }\n",
       "        }\n",
       "    });\n",
       "    this.resizeObserverInstance.observe(canvas_div);\n",
       "\n",
       "    function on_mouse_event_closure(name) {\n",
       "        /* User Agent sniffing is bad, but WebKit is busted:\n",
       "         * https://bugs.webkit.org/show_bug.cgi?id=144526\n",
       "         * https://bugs.webkit.org/show_bug.cgi?id=181818\n",
       "         * The worst that happens here is that they get an extra browser\n",
       "         * selection when dragging, if this check fails to catch them.\n",
       "         */\n",
       "        var UA = navigator.userAgent;\n",
       "        var isWebKit = /AppleWebKit/.test(UA) && !/Chrome/.test(UA);\n",
       "        if(isWebKit) {\n",
       "            return function (event) {\n",
       "                /* This prevents the web browser from automatically changing to\n",
       "                 * the text insertion cursor when the button is pressed. We\n",
       "                 * want to control all of the cursor setting manually through\n",
       "                 * the 'cursor' event from matplotlib */\n",
       "                event.preventDefault()\n",
       "                return fig.mouse_event(event, name);\n",
       "            };\n",
       "        } else {\n",
       "            return function (event) {\n",
       "                return fig.mouse_event(event, name);\n",
       "            };\n",
       "        }\n",
       "    }\n",
       "\n",
       "    canvas_div.addEventListener(\n",
       "        'mousedown',\n",
       "        on_mouse_event_closure('button_press')\n",
       "    );\n",
       "    canvas_div.addEventListener(\n",
       "        'mouseup',\n",
       "        on_mouse_event_closure('button_release')\n",
       "    );\n",
       "    canvas_div.addEventListener(\n",
       "        'dblclick',\n",
       "        on_mouse_event_closure('dblclick')\n",
       "    );\n",
       "    // Throttle sequential mouse events to 1 every 20ms.\n",
       "    canvas_div.addEventListener(\n",
       "        'mousemove',\n",
       "        on_mouse_event_closure('motion_notify')\n",
       "    );\n",
       "\n",
       "    canvas_div.addEventListener(\n",
       "        'mouseenter',\n",
       "        on_mouse_event_closure('figure_enter')\n",
       "    );\n",
       "    canvas_div.addEventListener(\n",
       "        'mouseleave',\n",
       "        on_mouse_event_closure('figure_leave')\n",
       "    );\n",
       "\n",
       "    canvas_div.addEventListener('wheel', function (event) {\n",
       "        if (event.deltaY < 0) {\n",
       "            event.step = 1;\n",
       "        } else {\n",
       "            event.step = -1;\n",
       "        }\n",
       "        on_mouse_event_closure('scroll')(event);\n",
       "    });\n",
       "\n",
       "    canvas_div.appendChild(canvas);\n",
       "    canvas_div.appendChild(rubberband_canvas);\n",
       "\n",
       "    this.rubberband_context = rubberband_canvas.getContext('2d');\n",
       "    this.rubberband_context.strokeStyle = '#000000';\n",
       "\n",
       "    this._resize_canvas = function (width, height, forward) {\n",
       "        if (forward) {\n",
       "            canvas_div.style.width = width + 'px';\n",
       "            canvas_div.style.height = height + 'px';\n",
       "        }\n",
       "    };\n",
       "\n",
       "    // Disable right mouse context menu.\n",
       "    canvas_div.addEventListener('contextmenu', function (_e) {\n",
       "        event.preventDefault();\n",
       "        return false;\n",
       "    });\n",
       "\n",
       "    function set_focus() {\n",
       "        canvas.focus();\n",
       "        canvas_div.focus();\n",
       "    }\n",
       "\n",
       "    window.setTimeout(set_focus, 100);\n",
       "};\n",
       "\n",
       "mpl.figure.prototype._init_toolbar = function () {\n",
       "    var fig = this;\n",
       "\n",
       "    var toolbar = document.createElement('div');\n",
       "    toolbar.classList = 'mpl-toolbar';\n",
       "    this.root.appendChild(toolbar);\n",
       "\n",
       "    function on_click_closure(name) {\n",
       "        return function (_event) {\n",
       "            return fig.toolbar_button_onclick(name);\n",
       "        };\n",
       "    }\n",
       "\n",
       "    function on_mouseover_closure(tooltip) {\n",
       "        return function (event) {\n",
       "            if (!event.currentTarget.disabled) {\n",
       "                return fig.toolbar_button_onmouseover(tooltip);\n",
       "            }\n",
       "        };\n",
       "    }\n",
       "\n",
       "    fig.buttons = {};\n",
       "    var buttonGroup = document.createElement('div');\n",
       "    buttonGroup.classList = 'mpl-button-group';\n",
       "    for (var toolbar_ind in mpl.toolbar_items) {\n",
       "        var name = mpl.toolbar_items[toolbar_ind][0];\n",
       "        var tooltip = mpl.toolbar_items[toolbar_ind][1];\n",
       "        var image = mpl.toolbar_items[toolbar_ind][2];\n",
       "        var method_name = mpl.toolbar_items[toolbar_ind][3];\n",
       "\n",
       "        if (!name) {\n",
       "            /* Instead of a spacer, we start a new button group. */\n",
       "            if (buttonGroup.hasChildNodes()) {\n",
       "                toolbar.appendChild(buttonGroup);\n",
       "            }\n",
       "            buttonGroup = document.createElement('div');\n",
       "            buttonGroup.classList = 'mpl-button-group';\n",
       "            continue;\n",
       "        }\n",
       "\n",
       "        var button = (fig.buttons[name] = document.createElement('button'));\n",
       "        button.classList = 'mpl-widget';\n",
       "        button.setAttribute('role', 'button');\n",
       "        button.setAttribute('aria-disabled', 'false');\n",
       "        button.addEventListener('click', on_click_closure(method_name));\n",
       "        button.addEventListener('mouseover', on_mouseover_closure(tooltip));\n",
       "\n",
       "        var icon_img = document.createElement('img');\n",
       "        icon_img.src = '_images/' + image + '.png';\n",
       "        icon_img.srcset = '_images/' + image + '_large.png 2x';\n",
       "        icon_img.alt = tooltip;\n",
       "        button.appendChild(icon_img);\n",
       "\n",
       "        buttonGroup.appendChild(button);\n",
       "    }\n",
       "\n",
       "    if (buttonGroup.hasChildNodes()) {\n",
       "        toolbar.appendChild(buttonGroup);\n",
       "    }\n",
       "\n",
       "    var fmt_picker = document.createElement('select');\n",
       "    fmt_picker.classList = 'mpl-widget';\n",
       "    toolbar.appendChild(fmt_picker);\n",
       "    this.format_dropdown = fmt_picker;\n",
       "\n",
       "    for (var ind in mpl.extensions) {\n",
       "        var fmt = mpl.extensions[ind];\n",
       "        var option = document.createElement('option');\n",
       "        option.selected = fmt === mpl.default_extension;\n",
       "        option.innerHTML = fmt;\n",
       "        fmt_picker.appendChild(option);\n",
       "    }\n",
       "\n",
       "    var status_bar = document.createElement('span');\n",
       "    status_bar.classList = 'mpl-message';\n",
       "    toolbar.appendChild(status_bar);\n",
       "    this.message = status_bar;\n",
       "};\n",
       "\n",
       "mpl.figure.prototype.request_resize = function (x_pixels, y_pixels) {\n",
       "    // Request matplotlib to resize the figure. Matplotlib will then trigger a resize in the client,\n",
       "    // which will in turn request a refresh of the image.\n",
       "    this.send_message('resize', { width: x_pixels, height: y_pixels });\n",
       "};\n",
       "\n",
       "mpl.figure.prototype.send_message = function (type, properties) {\n",
       "    properties['type'] = type;\n",
       "    properties['figure_id'] = this.id;\n",
       "    this.ws.send(JSON.stringify(properties));\n",
       "};\n",
       "\n",
       "mpl.figure.prototype.send_draw_message = function () {\n",
       "    if (!this.waiting) {\n",
       "        this.waiting = true;\n",
       "        this.ws.send(JSON.stringify({ type: 'draw', figure_id: this.id }));\n",
       "    }\n",
       "};\n",
       "\n",
       "mpl.figure.prototype.handle_save = function (fig, _msg) {\n",
       "    var format_dropdown = fig.format_dropdown;\n",
       "    var format = format_dropdown.options[format_dropdown.selectedIndex].value;\n",
       "    fig.ondownload(fig, format);\n",
       "};\n",
       "\n",
       "mpl.figure.prototype.handle_resize = function (fig, msg) {\n",
       "    var size = msg['size'];\n",
       "    if (size[0] !== fig.canvas.width || size[1] !== fig.canvas.height) {\n",
       "        fig._resize_canvas(size[0], size[1], msg['forward']);\n",
       "        fig.send_message('refresh', {});\n",
       "    }\n",
       "};\n",
       "\n",
       "mpl.figure.prototype.handle_rubberband = function (fig, msg) {\n",
       "    var x0 = msg['x0'] / fig.ratio;\n",
       "    var y0 = (fig.canvas.height - msg['y0']) / fig.ratio;\n",
       "    var x1 = msg['x1'] / fig.ratio;\n",
       "    var y1 = (fig.canvas.height - msg['y1']) / fig.ratio;\n",
       "    x0 = Math.floor(x0) + 0.5;\n",
       "    y0 = Math.floor(y0) + 0.5;\n",
       "    x1 = Math.floor(x1) + 0.5;\n",
       "    y1 = Math.floor(y1) + 0.5;\n",
       "    var min_x = Math.min(x0, x1);\n",
       "    var min_y = Math.min(y0, y1);\n",
       "    var width = Math.abs(x1 - x0);\n",
       "    var height = Math.abs(y1 - y0);\n",
       "\n",
       "    fig.rubberband_context.clearRect(\n",
       "        0,\n",
       "        0,\n",
       "        fig.canvas.width / fig.ratio,\n",
       "        fig.canvas.height / fig.ratio\n",
       "    );\n",
       "\n",
       "    fig.rubberband_context.strokeRect(min_x, min_y, width, height);\n",
       "};\n",
       "\n",
       "mpl.figure.prototype.handle_figure_label = function (fig, msg) {\n",
       "    // Updates the figure title.\n",
       "    fig.header.textContent = msg['label'];\n",
       "};\n",
       "\n",
       "mpl.figure.prototype.handle_cursor = function (fig, msg) {\n",
       "    fig.canvas_div.style.cursor = msg['cursor'];\n",
       "};\n",
       "\n",
       "mpl.figure.prototype.handle_message = function (fig, msg) {\n",
       "    fig.message.textContent = msg['message'];\n",
       "};\n",
       "\n",
       "mpl.figure.prototype.handle_draw = function (fig, _msg) {\n",
       "    // Request the server to send over a new figure.\n",
       "    fig.send_draw_message();\n",
       "};\n",
       "\n",
       "mpl.figure.prototype.handle_image_mode = function (fig, msg) {\n",
       "    fig.image_mode = msg['mode'];\n",
       "};\n",
       "\n",
       "mpl.figure.prototype.handle_history_buttons = function (fig, msg) {\n",
       "    for (var key in msg) {\n",
       "        if (!(key in fig.buttons)) {\n",
       "            continue;\n",
       "        }\n",
       "        fig.buttons[key].disabled = !msg[key];\n",
       "        fig.buttons[key].setAttribute('aria-disabled', !msg[key]);\n",
       "    }\n",
       "};\n",
       "\n",
       "mpl.figure.prototype.handle_navigate_mode = function (fig, msg) {\n",
       "    if (msg['mode'] === 'PAN') {\n",
       "        fig.buttons['Pan'].classList.add('active');\n",
       "        fig.buttons['Zoom'].classList.remove('active');\n",
       "    } else if (msg['mode'] === 'ZOOM') {\n",
       "        fig.buttons['Pan'].classList.remove('active');\n",
       "        fig.buttons['Zoom'].classList.add('active');\n",
       "    } else {\n",
       "        fig.buttons['Pan'].classList.remove('active');\n",
       "        fig.buttons['Zoom'].classList.remove('active');\n",
       "    }\n",
       "};\n",
       "\n",
       "mpl.figure.prototype.updated_canvas_event = function () {\n",
       "    // Called whenever the canvas gets updated.\n",
       "    this.send_message('ack', {});\n",
       "};\n",
       "\n",
       "// A function to construct a web socket function for onmessage handling.\n",
       "// Called in the figure constructor.\n",
       "mpl.figure.prototype._make_on_message_function = function (fig) {\n",
       "    return function socket_on_message(evt) {\n",
       "        if (evt.data instanceof Blob) {\n",
       "            var img = evt.data;\n",
       "            if (img.type !== 'image/png') {\n",
       "                /* FIXME: We get \"Resource interpreted as Image but\n",
       "                 * transferred with MIME type text/plain:\" errors on\n",
       "                 * Chrome.  But how to set the MIME type?  It doesn't seem\n",
       "                 * to be part of the websocket stream */\n",
       "                img.type = 'image/png';\n",
       "            }\n",
       "\n",
       "            /* Free the memory for the previous frames */\n",
       "            if (fig.imageObj.src) {\n",
       "                (window.URL || window.webkitURL).revokeObjectURL(\n",
       "                    fig.imageObj.src\n",
       "                );\n",
       "            }\n",
       "\n",
       "            fig.imageObj.src = (window.URL || window.webkitURL).createObjectURL(\n",
       "                img\n",
       "            );\n",
       "            fig.updated_canvas_event();\n",
       "            fig.waiting = false;\n",
       "            return;\n",
       "        } else if (\n",
       "            typeof evt.data === 'string' &&\n",
       "            evt.data.slice(0, 21) === 'data:image/png;base64'\n",
       "        ) {\n",
       "            fig.imageObj.src = evt.data;\n",
       "            fig.updated_canvas_event();\n",
       "            fig.waiting = false;\n",
       "            return;\n",
       "        }\n",
       "\n",
       "        var msg = JSON.parse(evt.data);\n",
       "        var msg_type = msg['type'];\n",
       "\n",
       "        // Call the  \"handle_{type}\" callback, which takes\n",
       "        // the figure and JSON message as its only arguments.\n",
       "        try {\n",
       "            var callback = fig['handle_' + msg_type];\n",
       "        } catch (e) {\n",
       "            console.log(\n",
       "                \"No handler for the '\" + msg_type + \"' message type: \",\n",
       "                msg\n",
       "            );\n",
       "            return;\n",
       "        }\n",
       "\n",
       "        if (callback) {\n",
       "            try {\n",
       "                // console.log(\"Handling '\" + msg_type + \"' message: \", msg);\n",
       "                callback(fig, msg);\n",
       "            } catch (e) {\n",
       "                console.log(\n",
       "                    \"Exception inside the 'handler_\" + msg_type + \"' callback:\",\n",
       "                    e,\n",
       "                    e.stack,\n",
       "                    msg\n",
       "                );\n",
       "            }\n",
       "        }\n",
       "    };\n",
       "};\n",
       "\n",
       "function getModifiers(event) {\n",
       "    var mods = [];\n",
       "    if (event.ctrlKey) {\n",
       "        mods.push('ctrl');\n",
       "    }\n",
       "    if (event.altKey) {\n",
       "        mods.push('alt');\n",
       "    }\n",
       "    if (event.shiftKey) {\n",
       "        mods.push('shift');\n",
       "    }\n",
       "    if (event.metaKey) {\n",
       "        mods.push('meta');\n",
       "    }\n",
       "    return mods;\n",
       "}\n",
       "\n",
       "/*\n",
       " * return a copy of an object with only non-object keys\n",
       " * we need this to avoid circular references\n",
       " * https://stackoverflow.com/a/24161582/3208463\n",
       " */\n",
       "function simpleKeys(original) {\n",
       "    return Object.keys(original).reduce(function (obj, key) {\n",
       "        if (typeof original[key] !== 'object') {\n",
       "            obj[key] = original[key];\n",
       "        }\n",
       "        return obj;\n",
       "    }, {});\n",
       "}\n",
       "\n",
       "mpl.figure.prototype.mouse_event = function (event, name) {\n",
       "    if (name === 'button_press') {\n",
       "        this.canvas.focus();\n",
       "        this.canvas_div.focus();\n",
       "    }\n",
       "\n",
       "    // from https://stackoverflow.com/q/1114465\n",
       "    var boundingRect = this.canvas.getBoundingClientRect();\n",
       "    var x = (event.clientX - boundingRect.left) * this.ratio;\n",
       "    var y = (event.clientY - boundingRect.top) * this.ratio;\n",
       "\n",
       "    this.send_message(name, {\n",
       "        x: x,\n",
       "        y: y,\n",
       "        button: event.button,\n",
       "        step: event.step,\n",
       "        modifiers: getModifiers(event),\n",
       "        guiEvent: simpleKeys(event),\n",
       "    });\n",
       "\n",
       "    return false;\n",
       "};\n",
       "\n",
       "mpl.figure.prototype._key_event_extra = function (_event, _name) {\n",
       "    // Handle any extra behaviour associated with a key event\n",
       "};\n",
       "\n",
       "mpl.figure.prototype.key_event = function (event, name) {\n",
       "    // Prevent repeat events\n",
       "    if (name === 'key_press') {\n",
       "        if (event.key === this._key) {\n",
       "            return;\n",
       "        } else {\n",
       "            this._key = event.key;\n",
       "        }\n",
       "    }\n",
       "    if (name === 'key_release') {\n",
       "        this._key = null;\n",
       "    }\n",
       "\n",
       "    var value = '';\n",
       "    if (event.ctrlKey && event.key !== 'Control') {\n",
       "        value += 'ctrl+';\n",
       "    }\n",
       "    else if (event.altKey && event.key !== 'Alt') {\n",
       "        value += 'alt+';\n",
       "    }\n",
       "    else if (event.shiftKey && event.key !== 'Shift') {\n",
       "        value += 'shift+';\n",
       "    }\n",
       "\n",
       "    value += 'k' + event.key;\n",
       "\n",
       "    this._key_event_extra(event, name);\n",
       "\n",
       "    this.send_message(name, { key: value, guiEvent: simpleKeys(event) });\n",
       "    return false;\n",
       "};\n",
       "\n",
       "mpl.figure.prototype.toolbar_button_onclick = function (name) {\n",
       "    if (name === 'download') {\n",
       "        this.handle_save(this, null);\n",
       "    } else {\n",
       "        this.send_message('toolbar_button', { name: name });\n",
       "    }\n",
       "};\n",
       "\n",
       "mpl.figure.prototype.toolbar_button_onmouseover = function (tooltip) {\n",
       "    this.message.textContent = tooltip;\n",
       "};\n",
       "\n",
       "///////////////// REMAINING CONTENT GENERATED BY embed_js.py /////////////////\n",
       "// prettier-ignore\n",
       "var _JSXTOOLS_RESIZE_OBSERVER=function(A){var t,i=new WeakMap,n=new WeakMap,a=new WeakMap,r=new WeakMap,o=new Set;function s(e){if(!(this instanceof s))throw new TypeError(\"Constructor requires 'new' operator\");i.set(this,e)}function h(){throw new TypeError(\"Function is not a constructor\")}function c(e,t,i,n){e=0 in arguments?Number(arguments[0]):0,t=1 in arguments?Number(arguments[1]):0,i=2 in arguments?Number(arguments[2]):0,n=3 in arguments?Number(arguments[3]):0,this.right=(this.x=this.left=e)+(this.width=i),this.bottom=(this.y=this.top=t)+(this.height=n),Object.freeze(this)}function d(){t=requestAnimationFrame(d);var s=new WeakMap,p=new Set;o.forEach((function(t){r.get(t).forEach((function(i){var r=t instanceof window.SVGElement,o=a.get(t),d=r?0:parseFloat(o.paddingTop),f=r?0:parseFloat(o.paddingRight),l=r?0:parseFloat(o.paddingBottom),u=r?0:parseFloat(o.paddingLeft),g=r?0:parseFloat(o.borderTopWidth),m=r?0:parseFloat(o.borderRightWidth),w=r?0:parseFloat(o.borderBottomWidth),b=u+f,F=d+l,v=(r?0:parseFloat(o.borderLeftWidth))+m,W=g+w,y=r?0:t.offsetHeight-W-t.clientHeight,E=r?0:t.offsetWidth-v-t.clientWidth,R=b+v,z=F+W,M=r?t.width:parseFloat(o.width)-R-E,O=r?t.height:parseFloat(o.height)-z-y;if(n.has(t)){var k=n.get(t);if(k[0]===M&&k[1]===O)return}n.set(t,[M,O]);var S=Object.create(h.prototype);S.target=t,S.contentRect=new c(u,d,M,O),s.has(i)||(s.set(i,[]),p.add(i)),s.get(i).push(S)}))})),p.forEach((function(e){i.get(e).call(e,s.get(e),e)}))}return s.prototype.observe=function(i){if(i instanceof window.Element){r.has(i)||(r.set(i,new Set),o.add(i),a.set(i,window.getComputedStyle(i)));var n=r.get(i);n.has(this)||n.add(this),cancelAnimationFrame(t),t=requestAnimationFrame(d)}},s.prototype.unobserve=function(i){if(i instanceof window.Element&&r.has(i)){var n=r.get(i);n.has(this)&&(n.delete(this),n.size||(r.delete(i),o.delete(i))),n.size||r.delete(i),o.size||cancelAnimationFrame(t)}},A.DOMRectReadOnly=c,A.ResizeObserver=s,A.ResizeObserverEntry=h,A}; // eslint-disable-line\n",
       "mpl.toolbar_items = [[\"Home\", \"Reset original view\", \"fa fa-home\", \"home\"], [\"Back\", \"Back to previous view\", \"fa fa-arrow-left\", \"back\"], [\"Forward\", \"Forward to next view\", \"fa fa-arrow-right\", \"forward\"], [\"\", \"\", \"\", \"\"], [\"Pan\", \"Left button pans, Right button zooms\\nx/y fixes axis, CTRL fixes aspect\", \"fa fa-arrows\", \"pan\"], [\"Zoom\", \"Zoom to rectangle\\nx/y fixes axis\", \"fa fa-square-o\", \"zoom\"], [\"\", \"\", \"\", \"\"], [\"Download\", \"Download plot\", \"fa fa-floppy-o\", \"download\"]];\n",
       "\n",
       "mpl.extensions = [\"eps\", \"jpeg\", \"pgf\", \"pdf\", \"png\", \"ps\", \"raw\", \"svg\", \"tif\", \"webp\"];\n",
       "\n",
       "mpl.default_extension = \"png\";/* global mpl */\n",
       "\n",
       "var comm_websocket_adapter = function (comm) {\n",
       "    // Create a \"websocket\"-like object which calls the given IPython comm\n",
       "    // object with the appropriate methods. Currently this is a non binary\n",
       "    // socket, so there is still some room for performance tuning.\n",
       "    var ws = {};\n",
       "\n",
       "    ws.binaryType = comm.kernel.ws.binaryType;\n",
       "    ws.readyState = comm.kernel.ws.readyState;\n",
       "    function updateReadyState(_event) {\n",
       "        if (comm.kernel.ws) {\n",
       "            ws.readyState = comm.kernel.ws.readyState;\n",
       "        } else {\n",
       "            ws.readyState = 3; // Closed state.\n",
       "        }\n",
       "    }\n",
       "    comm.kernel.ws.addEventListener('open', updateReadyState);\n",
       "    comm.kernel.ws.addEventListener('close', updateReadyState);\n",
       "    comm.kernel.ws.addEventListener('error', updateReadyState);\n",
       "\n",
       "    ws.close = function () {\n",
       "        comm.close();\n",
       "    };\n",
       "    ws.send = function (m) {\n",
       "        //console.log('sending', m);\n",
       "        comm.send(m);\n",
       "    };\n",
       "    // Register the callback with on_msg.\n",
       "    comm.on_msg(function (msg) {\n",
       "        //console.log('receiving', msg['content']['data'], msg);\n",
       "        var data = msg['content']['data'];\n",
       "        if (data['blob'] !== undefined) {\n",
       "            data = {\n",
       "                data: new Blob(msg['buffers'], { type: data['blob'] }),\n",
       "            };\n",
       "        }\n",
       "        // Pass the mpl event to the overridden (by mpl) onmessage function.\n",
       "        ws.onmessage(data);\n",
       "    });\n",
       "    return ws;\n",
       "};\n",
       "\n",
       "mpl.mpl_figure_comm = function (comm, msg) {\n",
       "    // This is the function which gets called when the mpl process\n",
       "    // starts-up an IPython Comm through the \"matplotlib\" channel.\n",
       "\n",
       "    var id = msg.content.data.id;\n",
       "    // Get hold of the div created by the display call when the Comm\n",
       "    // socket was opened in Python.\n",
       "    var element = document.getElementById(id);\n",
       "    var ws_proxy = comm_websocket_adapter(comm);\n",
       "\n",
       "    function ondownload(figure, _format) {\n",
       "        window.open(figure.canvas.toDataURL());\n",
       "    }\n",
       "\n",
       "    var fig = new mpl.figure(id, ws_proxy, ondownload, element);\n",
       "\n",
       "    // Call onopen now - mpl needs it, as it is assuming we've passed it a real\n",
       "    // web socket which is closed, not our websocket->open comm proxy.\n",
       "    ws_proxy.onopen();\n",
       "\n",
       "    fig.parent_element = element;\n",
       "    fig.cell_info = mpl.find_output_cell(\"<div id='\" + id + \"'></div>\");\n",
       "    if (!fig.cell_info) {\n",
       "        console.error('Failed to find cell for figure', id, fig);\n",
       "        return;\n",
       "    }\n",
       "    fig.cell_info[0].output_area.element.on(\n",
       "        'cleared',\n",
       "        { fig: fig },\n",
       "        fig._remove_fig_handler\n",
       "    );\n",
       "};\n",
       "\n",
       "mpl.figure.prototype.handle_close = function (fig, msg) {\n",
       "    var width = fig.canvas.width / fig.ratio;\n",
       "    fig.cell_info[0].output_area.element.off(\n",
       "        'cleared',\n",
       "        fig._remove_fig_handler\n",
       "    );\n",
       "    fig.resizeObserverInstance.unobserve(fig.canvas_div);\n",
       "\n",
       "    // Update the output cell to use the data from the current canvas.\n",
       "    fig.push_to_output();\n",
       "    var dataURL = fig.canvas.toDataURL();\n",
       "    // Re-enable the keyboard manager in IPython - without this line, in FF,\n",
       "    // the notebook keyboard shortcuts fail.\n",
       "    IPython.keyboard_manager.enable();\n",
       "    fig.parent_element.innerHTML =\n",
       "        '<img src=\"' + dataURL + '\" width=\"' + width + '\">';\n",
       "    fig.close_ws(fig, msg);\n",
       "};\n",
       "\n",
       "mpl.figure.prototype.close_ws = function (fig, msg) {\n",
       "    fig.send_message('closing', msg);\n",
       "    // fig.ws.close()\n",
       "};\n",
       "\n",
       "mpl.figure.prototype.push_to_output = function (_remove_interactive) {\n",
       "    // Turn the data on the canvas into data in the output cell.\n",
       "    var width = this.canvas.width / this.ratio;\n",
       "    var dataURL = this.canvas.toDataURL();\n",
       "    this.cell_info[1]['text/html'] =\n",
       "        '<img src=\"' + dataURL + '\" width=\"' + width + '\">';\n",
       "};\n",
       "\n",
       "mpl.figure.prototype.updated_canvas_event = function () {\n",
       "    // Tell IPython that the notebook contents must change.\n",
       "    IPython.notebook.set_dirty(true);\n",
       "    this.send_message('ack', {});\n",
       "    var fig = this;\n",
       "    // Wait a second, then push the new image to the DOM so\n",
       "    // that it is saved nicely (might be nice to debounce this).\n",
       "    setTimeout(function () {\n",
       "        fig.push_to_output();\n",
       "    }, 1000);\n",
       "};\n",
       "\n",
       "mpl.figure.prototype._init_toolbar = function () {\n",
       "    var fig = this;\n",
       "\n",
       "    var toolbar = document.createElement('div');\n",
       "    toolbar.classList = 'btn-toolbar';\n",
       "    this.root.appendChild(toolbar);\n",
       "\n",
       "    function on_click_closure(name) {\n",
       "        return function (_event) {\n",
       "            return fig.toolbar_button_onclick(name);\n",
       "        };\n",
       "    }\n",
       "\n",
       "    function on_mouseover_closure(tooltip) {\n",
       "        return function (event) {\n",
       "            if (!event.currentTarget.disabled) {\n",
       "                return fig.toolbar_button_onmouseover(tooltip);\n",
       "            }\n",
       "        };\n",
       "    }\n",
       "\n",
       "    fig.buttons = {};\n",
       "    var buttonGroup = document.createElement('div');\n",
       "    buttonGroup.classList = 'btn-group';\n",
       "    var button;\n",
       "    for (var toolbar_ind in mpl.toolbar_items) {\n",
       "        var name = mpl.toolbar_items[toolbar_ind][0];\n",
       "        var tooltip = mpl.toolbar_items[toolbar_ind][1];\n",
       "        var image = mpl.toolbar_items[toolbar_ind][2];\n",
       "        var method_name = mpl.toolbar_items[toolbar_ind][3];\n",
       "\n",
       "        if (!name) {\n",
       "            /* Instead of a spacer, we start a new button group. */\n",
       "            if (buttonGroup.hasChildNodes()) {\n",
       "                toolbar.appendChild(buttonGroup);\n",
       "            }\n",
       "            buttonGroup = document.createElement('div');\n",
       "            buttonGroup.classList = 'btn-group';\n",
       "            continue;\n",
       "        }\n",
       "\n",
       "        button = fig.buttons[name] = document.createElement('button');\n",
       "        button.classList = 'btn btn-default';\n",
       "        button.href = '#';\n",
       "        button.title = name;\n",
       "        button.innerHTML = '<i class=\"fa ' + image + ' fa-lg\"></i>';\n",
       "        button.addEventListener('click', on_click_closure(method_name));\n",
       "        button.addEventListener('mouseover', on_mouseover_closure(tooltip));\n",
       "        buttonGroup.appendChild(button);\n",
       "    }\n",
       "\n",
       "    if (buttonGroup.hasChildNodes()) {\n",
       "        toolbar.appendChild(buttonGroup);\n",
       "    }\n",
       "\n",
       "    // Add the status bar.\n",
       "    var status_bar = document.createElement('span');\n",
       "    status_bar.classList = 'mpl-message pull-right';\n",
       "    toolbar.appendChild(status_bar);\n",
       "    this.message = status_bar;\n",
       "\n",
       "    // Add the close button to the window.\n",
       "    var buttongrp = document.createElement('div');\n",
       "    buttongrp.classList = 'btn-group inline pull-right';\n",
       "    button = document.createElement('button');\n",
       "    button.classList = 'btn btn-mini btn-primary';\n",
       "    button.href = '#';\n",
       "    button.title = 'Stop Interaction';\n",
       "    button.innerHTML = '<i class=\"fa fa-power-off icon-remove icon-large\"></i>';\n",
       "    button.addEventListener('click', function (_evt) {\n",
       "        fig.handle_close(fig, {});\n",
       "    });\n",
       "    button.addEventListener(\n",
       "        'mouseover',\n",
       "        on_mouseover_closure('Stop Interaction')\n",
       "    );\n",
       "    buttongrp.appendChild(button);\n",
       "    var titlebar = this.root.querySelector('.ui-dialog-titlebar');\n",
       "    titlebar.insertBefore(buttongrp, titlebar.firstChild);\n",
       "};\n",
       "\n",
       "mpl.figure.prototype._remove_fig_handler = function (event) {\n",
       "    var fig = event.data.fig;\n",
       "    if (event.target !== this) {\n",
       "        // Ignore bubbled events from children.\n",
       "        return;\n",
       "    }\n",
       "    fig.close_ws(fig, {});\n",
       "};\n",
       "\n",
       "mpl.figure.prototype._root_extra_style = function (el) {\n",
       "    el.style.boxSizing = 'content-box'; // override notebook setting of border-box.\n",
       "};\n",
       "\n",
       "mpl.figure.prototype._canvas_extra_style = function (el) {\n",
       "    // this is important to make the div 'focusable\n",
       "    el.setAttribute('tabindex', 0);\n",
       "    // reach out to IPython and tell the keyboard manager to turn it's self\n",
       "    // off when our div gets focus\n",
       "\n",
       "    // location in version 3\n",
       "    if (IPython.notebook.keyboard_manager) {\n",
       "        IPython.notebook.keyboard_manager.register_events(el);\n",
       "    } else {\n",
       "        // location in version 2\n",
       "        IPython.keyboard_manager.register_events(el);\n",
       "    }\n",
       "};\n",
       "\n",
       "mpl.figure.prototype._key_event_extra = function (event, _name) {\n",
       "    // Check for shift+enter\n",
       "    if (event.shiftKey && event.which === 13) {\n",
       "        this.canvas_div.blur();\n",
       "        // select the cell after this one\n",
       "        var index = IPython.notebook.find_cell_index(this.cell_info[0]);\n",
       "        IPython.notebook.select(index + 1);\n",
       "    }\n",
       "};\n",
       "\n",
       "mpl.figure.prototype.handle_save = function (fig, _msg) {\n",
       "    fig.ondownload(fig, null);\n",
       "};\n",
       "\n",
       "mpl.find_output_cell = function (html_output) {\n",
       "    // Return the cell and output element which can be found *uniquely* in the notebook.\n",
       "    // Note - this is a bit hacky, but it is done because the \"notebook_saving.Notebook\"\n",
       "    // IPython event is triggered only after the cells have been serialised, which for\n",
       "    // our purposes (turning an active figure into a static one), is too late.\n",
       "    var cells = IPython.notebook.get_cells();\n",
       "    var ncells = cells.length;\n",
       "    for (var i = 0; i < ncells; i++) {\n",
       "        var cell = cells[i];\n",
       "        if (cell.cell_type === 'code') {\n",
       "            for (var j = 0; j < cell.output_area.outputs.length; j++) {\n",
       "                var data = cell.output_area.outputs[j];\n",
       "                if (data.data) {\n",
       "                    // IPython >= 3 moved mimebundle to data attribute of output\n",
       "                    data = data.data;\n",
       "                }\n",
       "                if (data['text/html'] === html_output) {\n",
       "                    return [cell, data, j];\n",
       "                }\n",
       "            }\n",
       "        }\n",
       "    }\n",
       "};\n",
       "\n",
       "// Register the function which deals with the matplotlib target/channel.\n",
       "// The kernel may be null if the page has been refreshed.\n",
       "if (IPython.notebook.kernel !== null) {\n",
       "    IPython.notebook.kernel.comm_manager.register_target(\n",
       "        'matplotlib',\n",
       "        mpl.mpl_figure_comm\n",
       "    );\n",
       "}\n"
      ],
      "text/plain": [
       "<IPython.core.display.Javascript object>"
      ]
     },
     "metadata": {},
     "output_type": "display_data"
    },
    {
     "data": {
      "text/html": [
       "<img src=\"data:image/png;base64,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\" width=\"640\">"
      ],
      "text/plain": [
       "<IPython.core.display.HTML object>"
      ]
     },
     "metadata": {},
     "output_type": "display_data"
    },
    {
     "data": {
      "text/plain": [
       "<matplotlib.legend.Legend at 0x29c95ead0>"
      ]
     },
     "execution_count": 26,
     "metadata": {},
     "output_type": "execute_result"
    }
   ],
   "source": [
    "temp_plot = 10 ** jnp.linspace(0, 3, 100)\n",
    "plt.figure()\n",
    "\n",
    "plt.plot(temp_plot, calc_DT_reactivity_linear(temp_plot), label='DT')\n",
    "plt.plot(temp_plot, calc_DD_reactivity_linear(temp_plot), label='DD')\n",
    "plt.plot(temp_plot, calc_DHe3_reactivity_linear(temp_plot), label='D-He3')\n",
    "\n",
    "# plt.scatter(linear_reactivity_temps, linear_reactivity_DD, label=\"NRL datapoints\")\n",
    "\n",
    "plt.yscale('log')\n",
    "plt.xscale('log')\n",
    "plt.title('DT, DD, and D-He3 fusion reactivity (log-space interpolation of NRL data)')\n",
    "plt.ylabel('Reactivity ($m^3/s$)')\n",
    "plt.xlabel(\"Temperature (keV)\")\n",
    "plt.legend()\n",
    "# plt.savefig('compare_reactivity.pdf')"
   ]
  },
  {
   "cell_type": "markdown",
   "id": "2974ad8b",
   "metadata": {},
   "source": [
    "# Plug / simple mirror calculations"
   ]
  },
  {
   "cell_type": "markdown",
   "id": "003e5247",
   "metadata": {},
   "source": [
    "## Solving for Ti and Te"
   ]
  },
  {
   "cell_type": "markdown",
   "id": "18bc74d1",
   "metadata": {},
   "source": [
    "Ion temperature: $\\frac{3}{2} \\frac{T_i}{E_{beam}} = \\frac{\\exp{(-\\alpha)} - \\alpha \\Gamma(0, \\alpha)}{\\Gamma(0, \\alpha)}$\n",
    "\n",
    "Electron temperature: $\\frac{T_e}{E_{beam}} =  \\left( \\frac{T_i}{E_{beam}} \\frac{2}{3} \\frac{\\alpha^2 \\ln{R_m}^2}{(22.4)^2} \\right)^{1/3}$\n",
    "\n",
    "Energy balance: $E_{beam} + p_{aux} = T_i + 6T_e$"
   ]
  },
  {
   "cell_type": "markdown",
   "id": "43cb3bf5",
   "metadata": {},
   "source": [
    "Implementing a root finding algorithm in JAX for speed (adapted from https://stackoverflow.com/questions/13088115/finding-the-roots-of-a-large-number-of-functions-with-one-variable)"
   ]
  },
  {
   "cell_type": "code",
   "execution_count": 27,
   "id": "2e4b245f",
   "metadata": {},
   "outputs": [],
   "source": [
    "@jax.jit\n",
    "def alpha_root_func(a, R):\n",
    "    return ((e ** (-a) / gamma_0_j(a) - a))*2/3 + 6 * (((e ** (-a) / gamma_0_j(a) - a)) * a ** 2 * ln_j(R) ** 2/(22.4) ** 2 * 3/2) ** (1/3)\n",
    "\n",
    "@jax.jit\n",
    "def alpha_eq(a, R_in, power_aux_in):\n",
    "    return alpha_root_func(a, R_in) - (1 + power_aux_in)\n",
    "\n",
    "@jax.jit\n",
    "def find_alpha(R_in, power_aux_in):\n",
    "    bisec = Bisection(optimality_fun=alpha_eq, lower=0.001, upper=100.0, tol=1e-4, maxiter=100, check_bracket=False, unroll=True, jit=True)  # Check_bracket needs to be False to be JIT'd\n",
    "    alpha = bisec.run(R_in=R_in, power_aux_in=power_aux_in).params\n",
    "    return alpha\n",
    "\n",
    "@jax.jit\n",
    "def Ti_given_alpha(a):\n",
    "    return ((e ** (-a) / gamma_0_j(a) - a))*2/3\n",
    "\n",
    "@jax.jit\n",
    "def Te_given_alpha(a, R):\n",
    "    return (((e ** (-a) / gamma_0_j(a) - a)) * a ** 2 * ln_j(R) ** 2/(22.4) ** 2 * 2/3) ** (1/3)\n",
    "\n",
    "@jax.jit\n",
    "def find_Ti_and_Te(B_pm, B_p, p_aux, Eb):\n",
    "    R_in = B_pm / B_p\n",
    "    E_beam = Eb\n",
    "#     if R_in.shape == jnp.array(1.0).shape:\n",
    "#         R_in = jnp.array([R_in,])\n",
    "#     if p_aux.shape == jnp.array(1.0).shape:\n",
    "#         p_aux = jnp.array([p_aux,])\n",
    "    alpha = find_alpha(R_in, p_aux)\n",
    "    Ti = Ti_given_alpha(alpha)\n",
    "    Te = Te_given_alpha(alpha, R_in)\n",
    "    return Ti * E_beam, Te * E_beam"
   ]
  },
  {
   "cell_type": "code",
   "execution_count": 28,
   "id": "4a2127eb",
   "metadata": {},
   "outputs": [],
   "source": [
    "@jax.jit\n",
    "def find_Ti(B_pm, B_p, p_aux, Eb):\n",
    "    return find_Ti_and_Te(B_pm, B_p, p_aux, Eb)[0]\n",
    "\n",
    "@jax.jit\n",
    "def find_Te(B_pm, B_p, p_aux, Eb):\n",
    "    return find_Ti_and_Te(B_pm, B_p, p_aux, Eb)[1]\n",
    "\n",
    "@jax.jit\n",
    "def find_DT_reac(B_pm, B_p, p_aux, Eb):\n",
    "    return calc_DT_reactivity_linear(find_Ti_and_Te(B_pm, B_p, p_aux, Eb)[0])\n",
    "\n",
    "@jax.jit\n",
    "def find_DD_reac(B_pm, B_p, p_aux, Eb):\n",
    "    return calc_DD_reactivity_linear(find_Ti_and_Te(B_pm, B_p, p_aux, Eb)[0])"
   ]
  },
  {
   "cell_type": "markdown",
   "id": "7176480f",
   "metadata": {},
   "source": [
    "### values of Ti and Te"
   ]
  },
  {
   "cell_type": "markdown",
   "id": "40b81366",
   "metadata": {},
   "source": [
    "If we're using simple calculations, electron temperature is then: \n",
    "$T_e = 0.089 E_b \\log_{10} \\left( R_p \\right)^{0.4} = 0.089 E_b \\log_{10} \\left(\\frac{R_p}{1-\\beta} \\right)^{0.4}$"
   ]
  },
  {
   "cell_type": "code",
   "execution_count": 29,
   "id": "f838e3f1",
   "metadata": {},
   "outputs": [],
   "source": [
    "if flags['simple_temps']:\n",
    "    values = {**values, **{'DT_reac': calc_DT_reactivity_linear,\n",
    "                           'DD_reac': calc_DD_reactivity_linear}}\n",
    "    Te = 0.089 * Eb * ((sympy.log(R_p / (1))/sympy.log(10)) ** 0.4) * Tep_fudge\n",
    "    Ti = 0.66 * Eb\n",
    "else:\n",
    "    values = {**values, **{'Ti': find_Ti,\n",
    "                           'Te': find_Te,\n",
    "                           'DT_reac': find_DT_reac,\n",
    "                           'DD_reac': find_DD_reac}}"
   ]
  },
  {
   "cell_type": "markdown",
   "id": "fcbfc9e5",
   "metadata": {},
   "source": [
    "Mirror ratio $R_{\\text{plug}} = \\frac{B_m}{B_p}$"
   ]
  },
  {
   "cell_type": "code",
   "execution_count": 30,
   "id": "46009608",
   "metadata": {
    "scrolled": false
   },
   "outputs": [
    {
     "data": {
      "text/latex": [
       "$\\displaystyle \\frac{B_{pm}}{B_{p}}$"
      ],
      "text/plain": [
       "B_pm/B_p"
      ]
     },
     "execution_count": 30,
     "metadata": {},
     "output_type": "execute_result"
    }
   ],
   "source": [
    "R_p = B_pm / B_p; R_p"
   ]
  },
  {
   "cell_type": "markdown",
   "id": "57283501",
   "metadata": {},
   "source": [
    "Radius at midplane $a_{\\text{plug}} = r_b \\sqrt{\\frac{B_m}{B_p}} = r_b \\sqrt{R_{plug}}$"
   ]
  },
  {
   "cell_type": "code",
   "execution_count": 31,
   "id": "3e449660",
   "metadata": {
    "scrolled": false
   },
   "outputs": [
    {
     "data": {
      "text/latex": [
       "$\\displaystyle r_{b} \\sqrt{\\frac{B_{pm}}{B_{p}}}$"
      ],
      "text/plain": [
       "r_b*sqrt(B_pm/B_p)"
      ]
     },
     "execution_count": 31,
     "metadata": {},
     "output_type": "execute_result"
    }
   ],
   "source": [
    "a_plug = r_b * sympy.sqrt(R_p); a_plug"
   ]
  },
  {
   "cell_type": "markdown",
   "id": "51efbc2c",
   "metadata": {},
   "source": [
    "Volume $V_p = L_p \\pi a_p^2$"
   ]
  },
  {
   "cell_type": "code",
   "execution_count": 32,
   "id": "eef60532",
   "metadata": {
    "scrolled": true
   },
   "outputs": [
    {
     "data": {
      "text/latex": [
       "$\\displaystyle \\frac{\\pi B_{pm} L_{p} r_{b}^{2}}{B_{p}}$"
      ],
      "text/plain": [
       "pi*B_pm*L_p*r_b**2/B_p"
      ]
     },
     "execution_count": 32,
     "metadata": {},
     "output_type": "execute_result"
    }
   ],
   "source": [
    "V_p = L_p * sympy.pi * a_plug ** 2; V_p"
   ]
  },
  {
   "cell_type": "code",
   "execution_count": 33,
   "id": "73dd6da8",
   "metadata": {},
   "outputs": [
    {
     "data": {
      "text/latex": [
       "$\\displaystyle 6.28318530717959 L_{p} r_{b} \\sqrt{\\frac{B_{pm}}{B_{p}}}$"
      ],
      "text/plain": [
       "6.28318530717959*L_p*r_b*sqrt(B_pm/B_p)"
      ]
     },
     "execution_count": 33,
     "metadata": {},
     "output_type": "execute_result"
    }
   ],
   "source": [
    "A_p = L_p * const.pi * a_plug * 2.0; A_p"
   ]
  },
  {
   "cell_type": "markdown",
   "id": "f579c290",
   "metadata": {},
   "source": [
    "## n_plug"
   ]
  },
  {
   "cell_type": "markdown",
   "id": "25666877",
   "metadata": {},
   "source": [
    "Density at a given beta: $n_{\\text{plug}} = B_p^2 \\frac{\\beta_{\\text{limit}}}{2\\mu_0 |e|\\left(T_{\\text{ion}} + T_e \\right)}$"
   ]
  },
  {
   "cell_type": "code",
   "execution_count": 34,
   "id": "c7797966",
   "metadata": {
    "scrolled": true
   },
   "outputs": [
    {
     "data": {
      "text/plain": [
       "0.04026709076694141"
      ]
     },
     "execution_count": 34,
     "metadata": {},
     "output_type": "execute_result"
    }
   ],
   "source": [
    "const.mu_0 * const.elementary_charge * 2 * 1000 / 1e-20"
   ]
  },
  {
   "cell_type": "code",
   "execution_count": 35,
   "id": "f69a3b18",
   "metadata": {},
   "outputs": [
    {
     "data": {
      "text/latex": [
       "$\\displaystyle \\frac{B_{p}^{2} \\beta}{4.02670907669414 \\cdot 10^{-22} Te + 4.02670907669414 \\cdot 10^{-22} Ti}$"
      ],
      "text/plain": [
       "B_p**2*beta/(4.02670907669414e-22*Te + 4.02670907669414e-22*Ti)"
      ]
     },
     "execution_count": 35,
     "metadata": {},
     "output_type": "execute_result"
    }
   ],
   "source": [
    "n_plug = (B_p) ** 2 * beta / (2 * const.mu_0 * const.elementary_charge * 1000 * (Ti + Te)); n_plug"
   ]
  },
  {
   "cell_type": "code",
   "execution_count": 36,
   "id": "972923bd",
   "metadata": {
    "scrolled": false
   },
   "outputs": [
    {
     "data": {
      "text/plain": [
       "Array(1.67979617e+20, dtype=float64)"
      ]
     },
     "execution_count": 36,
     "metadata": {},
     "output_type": "execute_result"
    }
   ],
   "source": [
    "plug_in_values(n_plug, {**values, **{'Tep_fudge': 0.5}})"
   ]
  },
  {
   "cell_type": "markdown",
   "id": "8c0f4304",
   "metadata": {},
   "source": [
    "Total particle number: $N_{\\text{tot}} = V_p n_{\\text{plug}}$"
   ]
  },
  {
   "cell_type": "code",
   "execution_count": 37,
   "id": "b9da7c84",
   "metadata": {
    "scrolled": false
   },
   "outputs": [
    {
     "data": {
      "text/latex": [
       "$\\displaystyle \\frac{\\pi B_{p} B_{pm} L_{p} \\beta r_{b}^{2}}{4.02670907669414 \\cdot 10^{-22} Te + 4.02670907669414 \\cdot 10^{-22} Ti}$"
      ],
      "text/plain": [
       "pi*B_p*B_pm*L_p*beta*r_b**2/(4.02670907669414e-22*Te + 4.02670907669414e-22*Ti)"
      ]
     },
     "execution_count": 37,
     "metadata": {},
     "output_type": "execute_result"
    }
   ],
   "source": [
    "N_tot_plug = V_p * n_plug; N_tot_plug"
   ]
  },
  {
   "cell_type": "markdown",
   "id": "c2372b65",
   "metadata": {},
   "source": [
    "## Confinement times"
   ]
  },
  {
   "cell_type": "markdown",
   "id": "cf79aa2d",
   "metadata": {},
   "source": [
    "### tau fowler/baldwin"
   ]
  },
  {
   "cell_type": "markdown",
   "id": "a89bc69b",
   "metadata": {},
   "source": [
    "**General formula:** Particle conefinement time $\\tau_{\\text{Fowler/Baldwin}} = 2.8 \\cdot 10^{12} \\frac{E_b^{3/2}}{n_e} \\log_{10} R_m$"
   ]
  },
  {
   "cell_type": "code",
   "execution_count": 38,
   "id": "f5b51ba9",
   "metadata": {
    "scrolled": false
   },
   "outputs": [
    {
     "data": {
      "text/latex": [
       "$\\displaystyle \\frac{2.4 \\cdot 10^{16} Eb^{1.5} \\cdot \\left(4.02670907669414 \\cdot 10^{-22} Te + 4.02670907669414 \\cdot 10^{-22} Ti\\right) \\log{\\left(\\frac{B_{pm}}{B_{p} \\sqrt{1 - \\beta}} \\right)}}{B_{p}^{2} \\beta \\log{\\left(10 \\right)}}$"
      ],
      "text/plain": [
       "2.4e+16*Eb**1.5*(4.02670907669414e-22*Te + 4.02670907669414e-22*Ti)*log(B_pm/(B_p*sqrt(1 - beta)))/(B_p**2*beta*log(10))"
      ]
     },
     "execution_count": 38,
     "metadata": {},
     "output_type": "execute_result"
    }
   ],
   "source": [
    "tau_Fowler_Baldwin = 2.4 * 10 ** 16 * Eb ** (3/2) / n_plug * sympy.log(R_p / sympy.sqrt(1 - beta)) / sympy.log(10); tau_Fowler_Baldwin"
   ]
  },
  {
   "cell_type": "code",
   "execution_count": 39,
   "id": "fb4a61bd",
   "metadata": {},
   "outputs": [
    {
     "data": {
      "text/plain": [
       "Array(4.73701166, dtype=float64)"
      ]
     },
     "execution_count": 39,
     "metadata": {},
     "output_type": "execute_result"
    }
   ],
   "source": [
    "plug_in_values(tau_Fowler_Baldwin, values)"
   ]
  },
  {
   "cell_type": "markdown",
   "id": "6a59e3e5",
   "metadata": {},
   "source": [
    "### Classical cross-field diffusion confinement time (plug)"
   ]
  },
  {
   "cell_type": "markdown",
   "id": "80a0fdae",
   "metadata": {},
   "source": [
    "$\\tau_E = \\frac{n V}{A \\cdot \\Gamma} = \\frac{n V}{-D_\\perp \\nabla n \\cdot A} = \\frac{n L \\pi a^2}{-D_\\perp \\nabla n L 2 \\pi a} = \\frac{n a}{-2 D_\\perp \\nabla n}$, $D_\\perp = \\eta_\\perp n \\sum T / B^2$"
   ]
  },
  {
   "cell_type": "markdown",
   "id": "dceebc10",
   "metadata": {},
   "source": [
    "This depends on lambda_ei which needs to have it's own definition for the tandem central cell. This is all from Chen 5.8"
   ]
  },
  {
   "cell_type": "markdown",
   "id": "1cd12601",
   "metadata": {},
   "source": [
    "$\\eta_{||} = 5.2 \\cdot 10^{-5} \\frac{Z ln \\Lambda}{T^{3/2}}$, $\\eta_{\\perp} = 2 \\cdot \\eta_{||}$"
   ]
  },
  {
   "cell_type": "markdown",
   "id": "16b68e9d",
   "metadata": {},
   "source": [
    "$\\tau_E = \\frac{a^2 B^2 T_e^{\\frac{3}{2}}}{3.12 \\cdot 10^{-4} \\cdot n Z \\sqrt{\\mu} \\ln{\\Lambda} \\sum{T}}$"
   ]
  },
  {
   "cell_type": "markdown",
   "id": "58ab61ec",
   "metadata": {},
   "source": [
    "**General formula:** Coulomb logarithms: $\\lambda_{ei} = 24 - 0.5\\ln{n_e} + \\ln{T_e}$ ($T_e$ in eV)"
   ]
  },
  {
   "cell_type": "code",
   "execution_count": 40,
   "id": "c2501c9c",
   "metadata": {},
   "outputs": [],
   "source": [
    "lambda_ei_plug = 24 - 0.5 * sympy.log(n_plug) + sympy.log(Te * 1e3)"
   ]
  },
  {
   "cell_type": "code",
   "execution_count": 41,
   "id": "7f20d571",
   "metadata": {},
   "outputs": [],
   "source": [
    "eta_par_plug = 5.2e-5 * Z_eff * lambda_ei_plug * sympy.sqrt(mu) / (1e3 * Te) ** (3/2)"
   ]
  },
  {
   "cell_type": "code",
   "execution_count": 42,
   "id": "4ee69197",
   "metadata": {},
   "outputs": [],
   "source": [
    "D_classical_plug = 2 * eta_par_plug * n_plug * ((1e3 * Te * const.elementary_charge) + (1e3 * Ti * const.elementary_charge)) / B_p ** 2"
   ]
  },
  {
   "cell_type": "code",
   "execution_count": 43,
   "id": "bc375042",
   "metadata": {},
   "outputs": [],
   "source": [
    "tau_classical_plug = a_plug ** 2 * n_plug / (2 * D_classical_plug * 3 * n_plug)"
   ]
  },
  {
   "cell_type": "code",
   "execution_count": 44,
   "id": "6fa98b29",
   "metadata": {},
   "outputs": [
    {
     "data": {
      "text/latex": [
       "$\\displaystyle \\frac{8.21704977311639 \\cdot 10^{-36} B_{pm} Te^{1.5} r_{b}^{2} \\left(Te + Ti\\right)^{2}}{B_{p} Z_{eff} \\beta \\sqrt{\\mu} \\left(4.02670907669414 \\cdot 10^{-22} Te + 4.02670907669414 \\cdot 10^{-22} Ti\\right) \\left(1.602176634 \\cdot 10^{-16} Te + 1.602176634 \\cdot 10^{-16} Ti\\right) \\left(\\log{\\left(1000.0 Te \\right)} - 0.5 \\log{\\left(\\frac{B_{p}^{2} \\beta}{4.02670907669414 \\cdot 10^{-22} Te + 4.02670907669414 \\cdot 10^{-22} Ti} \\right)} + 24\\right)}$"
      ],
      "text/plain": [
       "8.21704977311639e-36*B_pm*Te**1.5*r_b**2*(Te + Ti)**2/(B_p*Z_eff*beta*sqrt(mu)*(4.02670907669414e-22*Te + 4.02670907669414e-22*Ti)*(1.602176634e-16*Te + 1.602176634e-16*Ti)*(log(1000.0*Te) - 0.5*log(B_p**2*beta/(4.02670907669414e-22*Te + 4.02670907669414e-22*Ti)) + 24))"
      ]
     },
     "execution_count": 44,
     "metadata": {},
     "output_type": "execute_result"
    }
   ],
   "source": [
    "tau_classical_plug"
   ]
  },
  {
   "cell_type": "code",
   "execution_count": 45,
   "id": "1123f34d",
   "metadata": {
    "scrolled": false
   },
   "outputs": [
    {
     "data": {
      "text/plain": [
       "Array(273.7358969, dtype=float64)"
      ]
     },
     "execution_count": 45,
     "metadata": {},
     "output_type": "execute_result"
    }
   ],
   "source": [
    "plug_in_values(tau_classical_plug, {**values, 'B_cc': 0.02, 'B_pm': 15})"
   ]
  },
  {
   "cell_type": "code",
   "execution_count": 46,
   "id": "b7a20bba",
   "metadata": {},
   "outputs": [],
   "source": [
    "tau_tot_plug = 1 / (1 / tau_Fowler_Baldwin + 1 / tau_classical_plug)"
   ]
  },
  {
   "cell_type": "markdown",
   "id": "89f9838a",
   "metadata": {},
   "source": [
    "## dN/dt"
   ]
  },
  {
   "cell_type": "markdown",
   "id": "5628fa0d",
   "metadata": {},
   "source": [
    "Particles lost per second: $\\frac{dN}{dt} = \\frac{N_{\\text{tot}}}{\\tau_{\\text{Fowler/Baldwin}}}$"
   ]
  },
  {
   "cell_type": "code",
   "execution_count": 47,
   "id": "d7060fae",
   "metadata": {},
   "outputs": [],
   "source": [
    "dN_dt_plug = N_tot_plug / tau_tot_plug"
   ]
  },
  {
   "cell_type": "markdown",
   "id": "5f758ecd",
   "metadata": {},
   "source": [
    "**General formula:** Ion gyroradius at center of the plug: $\\rho_i = \\frac{m v_\\perp}{q B} = 3.22\\cdot 10^{-3} \\frac{\\sqrt{\\mu E_{\\text{ion}}}}{B_p}$"
   ]
  },
  {
   "cell_type": "code",
   "execution_count": 48,
   "id": "384e345e",
   "metadata": {},
   "outputs": [
    {
     "data": {
      "text/latex": [
       "$\\displaystyle \\frac{0.00322 \\sqrt{Ti \\mu}}{B_{p}}$"
      ],
      "text/plain": [
       "0.00322*sqrt(Ti*mu)/B_p"
      ]
     },
     "execution_count": 48,
     "metadata": {},
     "output_type": "execute_result"
    }
   ],
   "source": [
    "rho_i = 3.22 * 10 ** -3 * sympy.sqrt(mu * Ti) / B_p; rho_i"
   ]
  },
  {
   "cell_type": "markdown",
   "id": "fb09ae95",
   "metadata": {},
   "source": [
    "Number of gryoradii in the plasma radius: $N_{\\text{gyro}} = \\frac{a_p}{\\rho_i}$"
   ]
  },
  {
   "cell_type": "code",
   "execution_count": 49,
   "id": "3107df2a",
   "metadata": {},
   "outputs": [
    {
     "data": {
      "text/latex": [
       "$\\displaystyle \\frac{310.55900621118 B_{p} r_{b} \\sqrt{\\frac{B_{pm}}{B_{p}}}}{\\sqrt{Ti \\mu}}$"
      ],
      "text/plain": [
       "310.55900621118*B_p*r_b*sqrt(B_pm/B_p)/sqrt(Ti*mu)"
      ]
     },
     "execution_count": 49,
     "metadata": {},
     "output_type": "execute_result"
    }
   ],
   "source": [
    "N_gyro = a_plug / rho_i; N_gyro"
   ]
  },
  {
   "cell_type": "markdown",
   "id": "9f8028e9",
   "metadata": {},
   "source": [
    "NBI current (A): $I_{\\text{NBI}}=|e|\\frac{dN}{dt}$"
   ]
  },
  {
   "cell_type": "code",
   "execution_count": 50,
   "id": "31a01987",
   "metadata": {},
   "outputs": [
    {
     "data": {
      "text/plain": [
       "Array(22.48706501, dtype=float64)"
      ]
     },
     "execution_count": 50,
     "metadata": {},
     "output_type": "execute_result"
    }
   ],
   "source": [
    "I_NBI_plug = const.elementary_charge * dN_dt_plug; plug_in_values(I_NBI_plug, values)"
   ]
  },
  {
   "cell_type": "markdown",
   "id": "c3b797cc",
   "metadata": {},
   "source": [
    "**General formula:** Slowing down times: $\\tau_{i,\\text{slow}} = 0.1 \\frac{\\mu T_e^{3/2}}{n_{20} Z^2 \\lambda_{ei}}$"
   ]
  },
  {
   "cell_type": "code",
   "execution_count": 51,
   "id": "fd791b67",
   "metadata": {},
   "outputs": [],
   "source": [
    "tau_i_slow_plug = 0.1 * mu * Te ** (3/2) / (n_plug / 10 ** 20 * Z_eff ** 2 * lambda_ei_plug)"
   ]
  },
  {
   "cell_type": "code",
   "execution_count": 52,
   "id": "e155df35",
   "metadata": {},
   "outputs": [],
   "source": [
    "tau_alpha_plug = 0.1 * 4 * Te ** (3/2) / (n_plug / 10 ** 20 * 2 ** 2 * lambda_ei_plug)"
   ]
  },
  {
   "cell_type": "markdown",
   "id": "20669179",
   "metadata": {},
   "source": [
    "Electron heating by fast ions (MW): $10^{-3}\\frac{I_{\\text{NBI}}E_b}{\\tau_{\\text{slow}}}$"
   ]
  },
  {
   "cell_type": "code",
   "execution_count": 53,
   "id": "33a1c6f4",
   "metadata": {},
   "outputs": [
    {
     "data": {
      "text/plain": [
       "Array(2.5150202, dtype=float64)"
      ]
     },
     "execution_count": 53,
     "metadata": {},
     "output_type": "execute_result"
    }
   ],
   "source": [
    "plug_in_values(tau_i_slow_plug, values)"
   ]
  },
  {
   "cell_type": "code",
   "execution_count": 54,
   "id": "9f410d15",
   "metadata": {
    "scrolled": false
   },
   "outputs": [
    {
     "data": {
      "text/plain": [
       "Array(1.28457171, dtype=float64)"
      ]
     },
     "execution_count": 54,
     "metadata": {},
     "output_type": "execute_result"
    }
   ],
   "source": [
    "plug_in_values(tau_alpha_plug, values)"
   ]
  },
  {
   "cell_type": "code",
   "execution_count": 55,
   "id": "35b123b3",
   "metadata": {},
   "outputs": [],
   "source": [
    "# plug_in_values(tau_alpha_cc, values)"
   ]
  },
  {
   "cell_type": "code",
   "execution_count": 56,
   "id": "3667109c",
   "metadata": {},
   "outputs": [],
   "source": [
    "# plug_in_values(tau_ii_cc)"
   ]
  },
  {
   "cell_type": "code",
   "execution_count": 57,
   "id": "6961a981",
   "metadata": {
    "scrolled": true
   },
   "outputs": [],
   "source": [
    "# plug_in_values(tau_E_cc, values)"
   ]
  },
  {
   "cell_type": "code",
   "execution_count": 58,
   "id": "16e61993",
   "metadata": {},
   "outputs": [
    {
     "data": {
      "text/plain": [
       "Array(4.73701166, dtype=float64)"
      ]
     },
     "execution_count": 58,
     "metadata": {},
     "output_type": "execute_result"
    }
   ],
   "source": [
    "plug_in_values(tau_Fowler_Baldwin, values)"
   ]
  },
  {
   "cell_type": "code",
   "execution_count": 59,
   "id": "2fc92fba",
   "metadata": {},
   "outputs": [],
   "source": [
    "P_e_heating_fastI = 10 ** -3 * I_NBI_plug * Eb / tau_i_slow_plug"
   ]
  },
  {
   "cell_type": "markdown",
   "id": "86999535",
   "metadata": {},
   "source": [
    "**General formula:** Lorentz factor: $\\gamma = \\sqrt{1 - \\frac{T_e}{m_e c^2}} = \\sqrt{1 - \\frac{T_e}{511 \\text{keV}}}$"
   ]
  },
  {
   "cell_type": "code",
   "execution_count": 60,
   "id": "6e809602",
   "metadata": {},
   "outputs": [],
   "source": [
    "gamma = sympy.sqrt(1 - Te / 511)"
   ]
  },
  {
   "cell_type": "markdown",
   "id": "9dae6022",
   "metadata": {},
   "source": [
    "## power losses"
   ]
  },
  {
   "cell_type": "markdown",
   "id": "d6a42023",
   "metadata": {},
   "source": [
    "Synchrotron radiation power loss (MW): $ P_{\\text{synch}} = 6\\cdot10^{-3} V_p n_{20} T_e \\gamma^2 B_p^2$"
   ]
  },
  {
   "cell_type": "code",
   "execution_count": 61,
   "id": "cf734f72",
   "metadata": {
    "scrolled": true
   },
   "outputs": [
    {
     "data": {
      "text/plain": [
       "Array(2.56626753, dtype=float64)"
      ]
     },
     "execution_count": 61,
     "metadata": {},
     "output_type": "execute_result"
    }
   ],
   "source": [
    "P_synch_plug = 6 * 10 ** -3 * V_p * n_plug / 10 ** 20 * Te * gamma ** 2 * B_p ** 2; plug_in_values(P_synch_plug, values)/20"
   ]
  },
  {
   "cell_type": "markdown",
   "id": "4ffabad8",
   "metadata": {},
   "source": [
    "Bremsstrahlung radiation power loss (MW): $P_{\\text{brem}} = 5.35\\cdot10^{-3} n_{20}^2 Z_{\\text{eff}}\\sqrt{T_e} V_p$"
   ]
  },
  {
   "cell_type": "code",
   "execution_count": 62,
   "id": "9ecbe7e6",
   "metadata": {},
   "outputs": [
    {
     "data": {
      "text/plain": [
       "Array(0.41833529, dtype=float64)"
      ]
     },
     "execution_count": 62,
     "metadata": {},
     "output_type": "execute_result"
    }
   ],
   "source": [
    "P_brem_plug = 5.35 * 10 ** -3 * (n_plug / 10 ** 20) ** 2 * Z_eff * sympy.sqrt(Te) * V_p; plug_in_values(P_brem_plug, values)"
   ]
  },
  {
   "cell_type": "markdown",
   "id": "eb569c22",
   "metadata": {},
   "source": [
    "Power loss from escaping electrons (MW): $P_{\\text{e,endloss}} = 10^{-3}(I_{\\text{NBI}}+I_{\\text{cooling}})\\cdot 7 T_e$"
   ]
  },
  {
   "cell_type": "code",
   "execution_count": 63,
   "id": "0c55b4a7",
   "metadata": {},
   "outputs": [
    {
     "data": {
      "text/plain": [
       "Array(6.1385989, dtype=float64)"
      ]
     },
     "execution_count": 63,
     "metadata": {},
     "output_type": "execute_result"
    }
   ],
   "source": [
    "P_e_endloss_plug = 10 ** -3 * (I_NBI_plug + I_cooling) * 7 * Te; plug_in_values(P_e_endloss_plug, values)"
   ]
  },
  {
   "cell_type": "markdown",
   "id": "7ba03f66",
   "metadata": {},
   "source": [
    "Power loss from escaping fast ions (MW): $P_{\\text{i,endloss}} = 10^{-3} I_{\\text{NBI}} \\left(E_b-T_e\\right)$. Technically not I_NBI because that includes classical radial losses"
   ]
  },
  {
   "cell_type": "code",
   "execution_count": 64,
   "id": "593ce778",
   "metadata": {
    "scrolled": true
   },
   "outputs": [
    {
     "data": {
      "text/plain": [
       "Array(21.44109009, dtype=float64)"
      ]
     },
     "execution_count": 64,
     "metadata": {},
     "output_type": "execute_result"
    }
   ],
   "source": [
    "P_i_endloss_plug = 10 ** -3 * (N_tot_plug / tau_Fowler_Baldwin * const.elementary_charge) * (Eb - Te); plug_in_values(P_i_endloss_plug, values)"
   ]
  },
  {
   "cell_type": "code",
   "execution_count": 65,
   "id": "ad0b5f3b",
   "metadata": {
    "scrolled": false
   },
   "outputs": [],
   "source": [
    "# P_i_endloss_plug = 10 ** -3 * I_NBI_plug * (Eb - Te); plug_in_values(P_i_endloss_plug, values)"
   ]
  },
  {
   "cell_type": "markdown",
   "id": "a2cfaa4a",
   "metadata": {},
   "source": [
    "Injected NBI Power (MW): $P_{\\text{NBI}} = 10^{-3}I_{\\text{NBI}} E_b$"
   ]
  },
  {
   "cell_type": "code",
   "execution_count": 66,
   "id": "dffd3e6d",
   "metadata": {
    "scrolled": false
   },
   "outputs": [
    {
     "data": {
      "text/latex": [
       "$\\displaystyle \\frac{1.602176634 \\cdot 10^{-22} \\pi B_{p} B_{pm} Eb L_{p} \\beta r_{b}^{2} \\cdot \\left(\\frac{4.16666666666667 \\cdot 10^{-17} B_{p}^{2} \\beta \\log{\\left(10 \\right)}}{Eb^{1.5} \\cdot \\left(4.02670907669414 \\cdot 10^{-22} Te + 4.02670907669414 \\cdot 10^{-22} Ti\\right) \\log{\\left(\\frac{B_{pm}}{B_{p} \\sqrt{1 - \\beta}} \\right)}} + \\frac{1.21698179713075 \\cdot 10^{35} B_{p} Z_{eff} \\beta \\sqrt{\\mu} \\left(4.02670907669414 \\cdot 10^{-22} Te + 4.02670907669414 \\cdot 10^{-22} Ti\\right) \\left(1.602176634 \\cdot 10^{-16} Te + 1.602176634 \\cdot 10^{-16} Ti\\right) \\left(\\log{\\left(1000.0 Te \\right)} - 0.5 \\log{\\left(\\frac{B_{p}^{2} \\beta}{4.02670907669414 \\cdot 10^{-22} Te + 4.02670907669414 \\cdot 10^{-22} Ti} \\right)} + 24\\right)}{B_{pm} Te^{1.5} r_{b}^{2} \\left(Te + Ti\\right)^{2}}\\right)}{4.02670907669414 \\cdot 10^{-22} Te + 4.02670907669414 \\cdot 10^{-22} Ti}$"
      ],
      "text/plain": [
       "1.602176634e-22*pi*B_p*B_pm*Eb*L_p*beta*r_b**2*(4.16666666666667e-17*B_p**2*beta*log(10)/(Eb**1.5*(4.02670907669414e-22*Te + 4.02670907669414e-22*Ti)*log(B_pm/(B_p*sqrt(1 - beta)))) + 1.21698179713075e+35*B_p*Z_eff*beta*sqrt(mu)*(4.02670907669414e-22*Te + 4.02670907669414e-22*Ti)*(1.602176634e-16*Te + 1.602176634e-16*Ti)*(log(1000.0*Te) - 0.5*log(B_p**2*beta/(4.02670907669414e-22*Te + 4.02670907669414e-22*Ti)) + 24)/(B_pm*Te**1.5*r_b**2*(Te + Ti)**2))/(4.02670907669414e-22*Te + 4.02670907669414e-22*Ti)"
      ]
     },
     "execution_count": 66,
     "metadata": {},
     "output_type": "execute_result"
    }
   ],
   "source": [
    "P_NBI_plug = 10 ** -3 * I_NBI_plug * Eb; P_NBI_plug"
   ]
  },
  {
   "cell_type": "code",
   "execution_count": 67,
   "id": "5709fa8d",
   "metadata": {},
   "outputs": [
    {
     "data": {
      "text/plain": [
       "Array(22.48706501, dtype=float64)"
      ]
     },
     "execution_count": 67,
     "metadata": {},
     "output_type": "execute_result"
    }
   ],
   "source": [
    "plug_in_values(P_NBI_plug, values)"
   ]
  },
  {
   "cell_type": "markdown",
   "id": "f17fd03f",
   "metadata": {},
   "source": [
    "Injected ECH Power (MW): $P_{\\text{ECH}} = \\frac{P_{\\text{synch}}}{20} +P_{\\text{e,endloss}} - \\left(\\text{Electron heating from fast ions}\\right)$\n",
    "* ignore P_e_endloss and P_e_heating_fastI because that's already included in the reduced model power balance (I think); include if using simple temperature model"
   ]
  },
  {
   "cell_type": "code",
   "execution_count": 68,
   "id": "74cf53d9",
   "metadata": {},
   "outputs": [],
   "source": [
    "if flags['simple_temps']:\n",
    "    P_ECH_plug = P_synch_plug / 20 + P_brem_plug + P_e_endloss_plug - P_e_heating_fastI\n",
    "else:\n",
    "    P_ECH_plug = P_synch_plug / 20 + P_brem_plug"
   ]
  },
  {
   "cell_type": "code",
   "execution_count": 69,
   "id": "a6717583",
   "metadata": {
    "scrolled": true
   },
   "outputs": [
    {
     "data": {
      "text/plain": [
       "Array(2.98460282, dtype=float64)"
      ]
     },
     "execution_count": 69,
     "metadata": {},
     "output_type": "execute_result"
    }
   ],
   "source": [
    "plug_in_values(P_ECH_plug, values)"
   ]
  },
  {
   "cell_type": "code",
   "execution_count": 70,
   "id": "96581464",
   "metadata": {},
   "outputs": [],
   "source": [
    "P_heating_plug = P_ECH_plug + P_NBI_plug  # + P_RF"
   ]
  },
  {
   "cell_type": "markdown",
   "id": "2d70bd27",
   "metadata": {},
   "source": [
    "## alpha radii field regularization"
   ]
  },
  {
   "cell_type": "code",
   "execution_count": 71,
   "id": "4829be68",
   "metadata": {},
   "outputs": [],
   "source": [
    "alpha_mass = 6.644e-27"
   ]
  },
  {
   "cell_type": "code",
   "execution_count": 72,
   "id": "f175b5ce",
   "metadata": {},
   "outputs": [],
   "source": [
    "fast_alpha_gyroradius = sympy.sqrt(2 * alpha_mass * 3.5e6 * const.elementary_charge) / (2 * const.elementary_charge)  # units of m * T"
   ]
  },
  {
   "cell_type": "code",
   "execution_count": 73,
   "id": "1c8ca691",
   "metadata": {
    "scrolled": true
   },
   "outputs": [
    {
     "data": {
      "text/latex": [
       "$\\displaystyle 0.269388244006221$"
      ],
      "text/plain": [
       "0.269388244006221"
      ]
     },
     "execution_count": 73,
     "metadata": {},
     "output_type": "execute_result"
    }
   ],
   "source": [
    "fast_alpha_gyroradius"
   ]
  },
  {
   "cell_type": "markdown",
   "id": "6e55d5c8",
   "metadata": {},
   "source": [
    "The 4 is rather arbitrary"
   ]
  },
  {
   "cell_type": "code",
   "execution_count": 74,
   "id": "6fc96020",
   "metadata": {
    "scrolled": false
   },
   "outputs": [
    {
     "name": "stdout",
     "output_type": "stream",
     "text": [
      "0.17959216267081335\n"
     ]
    }
   ],
   "source": [
    "a_min_vv_plug = 4 * fast_alpha_gyroradius / B_p; print(plug_in_values(a_min_vv_plug, values))"
   ]
  },
  {
   "cell_type": "markdown",
   "id": "0e78f8b5",
   "metadata": {},
   "source": [
    "A negative value indicates that the reactor vessel is sufficiently large for zero penalty"
   ]
  },
  {
   "cell_type": "code",
   "execution_count": 75,
   "id": "0c6d6078",
   "metadata": {},
   "outputs": [
    {
     "name": "stdout",
     "output_type": "stream",
     "text": [
      "-0.4353265311416289\n"
     ]
    }
   ],
   "source": [
    "a_min_plug_diff = a_min_vv_plug - (a_plug * a_wall_r); print(plug_in_values(a_min_plug_diff, values))"
   ]
  },
  {
   "cell_type": "code",
   "execution_count": 76,
   "id": "5baded08",
   "metadata": {},
   "outputs": [],
   "source": [
    "B_reg_plug = sympy.Piecewise((1.0, a_min_plug_diff < 0), (sympy.exp(-5.0 * a_min_plug_diff / (fast_alpha_gyroradius / B_p)), a_min_plug_diff >= 0))\n",
    "# B_reg_plug = (1 - sympy.tanh(a_min_plug_diff / (fast_alpha_gyroradius / B_p))) / 2"
   ]
  },
  {
   "cell_type": "code",
   "execution_count": 77,
   "id": "30b8ddac",
   "metadata": {
    "scrolled": true
   },
   "outputs": [
    {
     "data": {
      "text/latex": [
       "$\\displaystyle \\begin{cases} 1.0 & \\text{for}\\: a_{wall r} r_{b} \\sqrt{\\frac{B_{pm}}{B_{p}}} - \\frac{1.07755297602488}{B_{p}} > 0 \\\\e^{3.71211447511016 B_{p} \\left(5.0 a_{wall r} r_{b} \\sqrt{\\frac{B_{pm}}{B_{p}}} - \\frac{5.38776488012442}{B_{p}}\\right)} & \\text{otherwise} \\end{cases}$"
      ],
      "text/plain": [
       "Piecewise((1.0, a_wall_r*r_b*sqrt(B_pm/B_p) - 1.07755297602488/B_p > 0), (exp(3.71211447511016*B_p*(5.0*a_wall_r*r_b*sqrt(B_pm/B_p) - 5.38776488012442/B_p)), True))"
      ]
     },
     "execution_count": 77,
     "metadata": {},
     "output_type": "execute_result"
    }
   ],
   "source": [
    "B_reg_plug"
   ]
  },
  {
   "cell_type": "code",
   "execution_count": 78,
   "id": "604294b6",
   "metadata": {
    "scrolled": false
   },
   "outputs": [
    {
     "data": {
      "text/plain": [
       "Array([0.00920943, 1.        ], dtype=float64)"
      ]
     },
     "execution_count": 78,
     "metadata": {},
     "output_type": "execute_result"
    }
   ],
   "source": [
    "plug_in_values(1.0 * B_reg_plug, {**values, 'B_p': jnp.array([0.3, 0.7])})"
   ]
  },
  {
   "cell_type": "code",
   "execution_count": 79,
   "id": "ed31ed85",
   "metadata": {},
   "outputs": [],
   "source": [
    "if flags['field_reg_alphas']:\n",
    "    charged_power_reg_coeff_plug  = B_reg_plug\n",
    "else:\n",
    "    charged_power_reg_coeff_plug = 1.0"
   ]
  },
  {
   "cell_type": "markdown",
   "id": "f4911447",
   "metadata": {},
   "source": [
    "## fusion power"
   ]
  },
  {
   "cell_type": "markdown",
   "id": "5a932a59",
   "metadata": {},
   "source": [
    "Detuerium and tritium densities"
   ]
  },
  {
   "cell_type": "code",
   "execution_count": 80,
   "id": "62cf6417",
   "metadata": {},
   "outputs": [],
   "source": [
    "n_plug_D = (1 - T_frac) * n_plug\n",
    "n_plug_T = T_frac * n_plug"
   ]
  },
  {
   "cell_type": "markdown",
   "id": "1511d67b",
   "metadata": {},
   "source": [
    "DT fusion reaction rate (#/s). Here we assume a 50-50 DT fuel mixture: $R_{\\text{x,plug,DT}}=V_p \\frac{n_{\\text{plug}}^2}{4} \\langle\\sigma v\\rangle_{DT}$"
   ]
  },
  {
   "cell_type": "markdown",
   "id": "0aaa3789",
   "metadata": {},
   "source": [
    "Reminder: DT_reac and DD_reac are functions"
   ]
  },
  {
   "cell_type": "code",
   "execution_count": 81,
   "id": "b76dfcd0",
   "metadata": {},
   "outputs": [],
   "source": [
    "# Rx_plug_DT = V_p * n_plug ** 2 / 4 * DT_reactivity  # If using Bosch 1992 parameterization\n",
    "Rx_plug_DT = V_p * (n_plug_D * n_plug_T) * DT_reac"
   ]
  },
  {
   "cell_type": "markdown",
   "id": "032af3cd",
   "metadata": {},
   "source": [
    "DD fusion reaction rate (#/s). Here we assume a 50-50 DT fuel mixture: $R_{\\text{x,plug,DD}}=V_p \\left(\\frac{n_{\\text{plug}}}{2} \\right)^2 \\langle\\sigma v\\rangle_{DD} \\frac{1}{2}$"
   ]
  },
  {
   "cell_type": "code",
   "execution_count": 82,
   "id": "a99baee8",
   "metadata": {},
   "outputs": [],
   "source": [
    "# Rx_plug_DD = V_p * n_plug ** 2 * (DD_pT_reactivity + DD_nHe_reactivity) / 2  # If using Bosch 1992 parameterization\n",
    "Rx_plug_DD = V_p * n_plug_D ** 2 * (DD_reac) / 2"
   ]
  },
  {
   "cell_type": "markdown",
   "id": "4836a419",
   "metadata": {},
   "source": [
    "Fusion power (MW): $P_{\\text{plug}}=17.6|e|R_{\\text{x,plug}}$ -- we're just focusing on DT for now. Including DD it'd be: $P_{\\text{plug}}=17.6|e|R_{\\text{x,plug,DT}} + \\frac{4.03+3.27}{2}|e|R_{\\text{x,plug,DD}}$"
   ]
  },
  {
   "cell_type": "code",
   "execution_count": 83,
   "id": "516a98e3",
   "metadata": {},
   "outputs": [],
   "source": [
    "P_fus_plug_DT_charged = 3.5 * const.elementary_charge * Rx_plug_DT  # 1e-6 converts W to MW, 1e6 converts from MeV to eV; cancels out\n",
    "P_fus_plug_DT_charged *= charged_power_reg_coeff_plug\n",
    "P_fus_plug_DT_neutron = 14.1 * const.elementary_charge * Rx_plug_DT * charged_power_reg_coeff_plug\n",
    "P_fus_plug_DT = P_fus_plug_DT_charged + P_fus_plug_DT_neutron"
   ]
  },
  {
   "cell_type": "code",
   "execution_count": 84,
   "id": "3846d8e1",
   "metadata": {},
   "outputs": [],
   "source": [
    "P_fus_plug_DD_charged = (4.02 + 0.82)/2 * const.elementary_charge * Rx_plug_DD * 1e-6  # 1e-6 converts W to MW; the 1/2 assumes 50-50 branching ratio (decent approx)\n",
    "P_fus_plug_DD_charged *= charged_power_reg_coeff_plug\n",
    "P_fus_plug_DD_neutron = (2.45)/2 * const.elementary_charge * Rx_plug_DD * charged_power_reg_coeff_plug\n",
    "P_fus_plug_DD = P_fus_plug_DD_charged + P_fus_plug_DD_neutron"
   ]
  },
  {
   "cell_type": "code",
   "execution_count": 85,
   "id": "b42a456e",
   "metadata": {},
   "outputs": [],
   "source": [
    "# P_fus_plug_DD_cat_charged = (3.5 + 18.3)/2 * const.elementary_charge * Rx_plug_DD  # multiplying by Rx_plug_DD because this depends on the DD reaction rate\n",
    "P_fus_plug_DD_cat_charged = (3.5)/2 * const.elementary_charge * Rx_plug_DD\n",
    "P_fus_plug_DD_cat_charged *= charged_power_reg_coeff_plug\n",
    "P_fus_plug_DD_cat_neutron = (14.1)/2 * const.elementary_charge * Rx_plug_DD * charged_power_reg_coeff_plug\n",
    "P_fus_plug_DD_cat = P_fus_plug_DD_cat_charged + P_fus_plug_DD_cat_neutron"
   ]
  },
  {
   "cell_type": "code",
   "execution_count": 86,
   "id": "df8d89f8",
   "metadata": {},
   "outputs": [],
   "source": [
    "neutron_flux_plug_DT = Rx_plug_DT / (A_p)  # neutrons per m^2, assumes isotropy (not true for spin-polarized fuels)\n",
    "neutron_irradiance_plug_DT = P_fus_plug_DT_neutron / (A_p)  # neutron power, MW / m^2"
   ]
  },
  {
   "cell_type": "code",
   "execution_count": 87,
   "id": "0f472737",
   "metadata": {},
   "outputs": [],
   "source": [
    "neutron_flux_plug_DD = (Rx_plug_DD / 2) / (A_p)  # neutrons per m^2\n",
    "neutron_irradiance_plug_DD = P_fus_plug_DD_neutron / (A_p)  # neutron power, MW / m^2"
   ]
  },
  {
   "cell_type": "code",
   "execution_count": 88,
   "id": "299f9a98",
   "metadata": {},
   "outputs": [],
   "source": [
    "neutron_flux_plug_DD_cat = (Rx_plug_DD / 2) / (A_p)  # neutrons per m^2\n",
    "neutron_irradiance_plug_DD_cat = P_fus_plug_DD_cat_neutron / (A_p)  # neutron power, MW / m^2"
   ]
  },
  {
   "cell_type": "code",
   "execution_count": 89,
   "id": "e741d501",
   "metadata": {},
   "outputs": [],
   "source": [
    "P_fus_plug_charged = P_fus_plug_DT_charged + P_fus_plug_DD_charged\n",
    "P_fus_plug_neutron = P_fus_plug_DT_neutron + P_fus_plug_DD_neutron\n",
    "P_fus_plug = P_fus_plug_DT + P_fus_plug_DD\n",
    "\n",
    "neutron_flux_plug = neutron_flux_plug_DT + neutron_flux_plug_DD\n",
    "neutron_irradiance_plug = neutron_irradiance_plug_DT + neutron_irradiance_plug_DD\n",
    "\n",
    "if flags['DD_cat']:\n",
    "    P_fus_plug_charged = P_fus_plug_charged + P_fus_plug_DD_cat_charged\n",
    "    P_fus_plug_neutron = P_fus_plug_neutron + P_fus_plug_DD_cat_neutron\n",
    "    P_fus_plug = P_fus_plug + P_fus_plug_DD_cat\n",
    "    \n",
    "    neutron_flux_plug = neutron_flux_plug + neutron_flux_plug_DD_cat\n",
    "    neutron_irradiance_plug = neutron_irradiance_plug + neutron_irradiance_plug_DD_cat"
   ]
  },
  {
   "cell_type": "code",
   "execution_count": 90,
   "id": "bcb8fb04",
   "metadata": {},
   "outputs": [
    {
     "data": {
      "text/latex": [
       "$\\displaystyle \\frac{8.6460658725692 \\cdot 10^{23} \\pi B_{p}^{3} B_{pm} DD_{reac} L_{p} \\beta^{2} r_{b}^{2} \\left(1 - T_{frac}\\right)^{2}}{\\left(Te + Ti\\right)^{2}} + \\frac{3.45842156652471 \\cdot 10^{24} \\pi B_{p}^{3} B_{pm} DT_{reac} L_{p} T_{frac} \\beta^{2} r_{b}^{2} \\cdot \\left(1 - T_{frac}\\right)}{\\left(Te + Ti\\right)^{2}}$"
      ],
      "text/plain": [
       "8.6460658725692e+23*pi*B_p**3*B_pm*DD_reac*L_p*beta**2*r_b**2*(1 - T_frac)**2/(Te + Ti)**2 + 3.45842156652471e+24*pi*B_p**3*B_pm*DT_reac*L_p*T_frac*beta**2*r_b**2*(1 - T_frac)/(Te + Ti)**2"
      ]
     },
     "execution_count": 90,
     "metadata": {},
     "output_type": "execute_result"
    }
   ],
   "source": [
    "P_fus_plug_charged"
   ]
  },
  {
   "cell_type": "code",
   "execution_count": 91,
   "id": "62c1e696",
   "metadata": {},
   "outputs": [
    {
     "data": {
      "text/plain": [
       "Array(36.82774066, dtype=float64)"
      ]
     },
     "execution_count": 91,
     "metadata": {},
     "output_type": "execute_result"
    }
   ],
   "source": [
    "plug_in_values(P_fus_plug, values)"
   ]
  },
  {
   "cell_type": "code",
   "execution_count": 92,
   "id": "c95d72e8",
   "metadata": {
    "scrolled": true
   },
   "outputs": [
    {
     "data": {
      "text/plain": [
       "Array(9.92080381e+17, dtype=float64)"
      ]
     },
     "execution_count": 92,
     "metadata": {},
     "output_type": "execute_result"
    }
   ],
   "source": [
    "plug_in_values(neutron_flux_plug, values)"
   ]
  },
  {
   "cell_type": "code",
   "execution_count": 93,
   "id": "77c2a70b",
   "metadata": {},
   "outputs": [
    {
     "data": {
      "text/plain": [
       "Array(2.1056549, dtype=float64)"
      ]
     },
     "execution_count": 93,
     "metadata": {},
     "output_type": "execute_result"
    }
   ],
   "source": [
    "plug_in_values(neutron_irradiance_plug, values)"
   ]
  },
  {
   "cell_type": "markdown",
   "id": "2f714ed4",
   "metadata": {},
   "source": [
    "Lawson Triple Product (keV$\\cdot$s/m$^3$): $\\tau_{\\text{Fowler/Baldwin}} n T_i$"
   ]
  },
  {
   "cell_type": "code",
   "execution_count": 94,
   "id": "7c327560",
   "metadata": {
    "scrolled": true
   },
   "outputs": [],
   "source": [
    "triple_product_plug = tau_Fowler_Baldwin * n_plug * Ti"
   ]
  },
  {
   "cell_type": "markdown",
   "id": "567fb7bb",
   "metadata": {},
   "source": [
    "Neutron Flux, DT only (MW/m$^2$): $\\frac{14}{17.6}\\frac{P_{\\text{plug}}}{4\\pi a_{\\text{wall}}^2}$ for DT. DD adds a component with $\\frac{2.45}{4.02 + 3.27}$"
   ]
  },
  {
   "cell_type": "markdown",
   "id": "60b3b6e9",
   "metadata": {},
   "source": [
    "Burnup fraction, DT: $\\frac{R_{\\text{x,plug,DT}}}{dN/dt}$"
   ]
  },
  {
   "cell_type": "code",
   "execution_count": 95,
   "id": "e94e05c3",
   "metadata": {},
   "outputs": [],
   "source": [
    "frac_burnup_plug = (Rx_plug_DT + Rx_plug_DD) / dN_dt_plug"
   ]
  },
  {
   "cell_type": "code",
   "execution_count": 96,
   "id": "4391d0ee",
   "metadata": {
    "scrolled": true
   },
   "outputs": [
    {
     "data": {
      "text/plain": [
       "Array(0.09930917, dtype=float64)"
      ]
     },
     "execution_count": 96,
     "metadata": {},
     "output_type": "execute_result"
    }
   ],
   "source": [
    "plug_in_values(frac_burnup_plug, values)"
   ]
  },
  {
   "cell_type": "markdown",
   "id": "b607a413",
   "metadata": {},
   "source": [
    "## Q_plug"
   ]
  },
  {
   "cell_type": "markdown",
   "id": "8910054a",
   "metadata": {},
   "source": [
    "$Q_{\\text{plug}}$: $Q_{\\text{plug}} = \\frac{P_{\\text{plug}}}{P_{\\text{injected}}}$ (power in MW)"
   ]
  },
  {
   "cell_type": "code",
   "execution_count": 97,
   "id": "7a45b3b7",
   "metadata": {},
   "outputs": [],
   "source": [
    "Q_plug = P_fus_plug / (P_NBI_plug + P_ECH_plug)"
   ]
  },
  {
   "cell_type": "code",
   "execution_count": 98,
   "id": "72a5e70e",
   "metadata": {},
   "outputs": [
    {
     "data": {
      "text/plain": [
       "{'Eb': 1000.0,\n",
       " 'beta': 0.8,\n",
       " 'B_pm': 30.0,\n",
       " 'B_p': 6.0,\n",
       " 'r_b': 0.25,\n",
       " 'L_p': 4.0,\n",
       " 'p_aux': 0.0,\n",
       " 'T_frac': 0.5,\n",
       " 'Tep_fudge': 0.5,\n",
       " 'B_cc': 1.5,\n",
       " 'n_ccr': 0.25,\n",
       " 'Ti_ccr': 1.0,\n",
       " 'Te_ccr': 1.0,\n",
       " 'L_cc': 20.0,\n",
       " 'Ef_DEC': 0.7,\n",
       " 'Ef_TE': 0.5,\n",
       " 'Ef_ECH': 0.6,\n",
       " 'Ef_NBI': 0.6,\n",
       " 'Ef_RF': 0.9,\n",
       " 'd_blanket': 0.6,\n",
       " 'd_vv': 0.2,\n",
       " 'a_wall_r': 1.1,\n",
       " 'cost_HTS_kAm': 0.0001,\n",
       " 'coil_spacing_cc': 1.0,\n",
       " 'mu': 2.5,\n",
       " 'Z_eff': 1.13,\n",
       " 'I_cooling': 0,\n",
       " 'Ti': <PjitFunction of <function find_Ti at 0x29cd99940>>,\n",
       " 'Te': <PjitFunction of <function find_Te at 0x29cd99d00>>,\n",
       " 'DT_reac': <PjitFunction of <function find_DT_reac at 0x29cd9a0c0>>,\n",
       " 'DD_reac': <PjitFunction of <function find_DD_reac at 0x29cd9a480>>}"
      ]
     },
     "execution_count": 98,
     "metadata": {},
     "output_type": "execute_result"
    }
   ],
   "source": [
    "values"
   ]
  },
  {
   "cell_type": "code",
   "execution_count": 99,
   "id": "a3dcc9cd",
   "metadata": {
    "scrolled": false
   },
   "outputs": [
    {
     "data": {
      "text/plain": [
       "Array(1.44583154, dtype=float64)"
      ]
     },
     "execution_count": 99,
     "metadata": {},
     "output_type": "execute_result"
    }
   ],
   "source": [
    "plug_in_values(Q_plug, values)"
   ]
  },
  {
   "cell_type": "markdown",
   "id": "243c31c9",
   "metadata": {},
   "source": [
    "* Ti/Ebeam = 2/3 --> Q_plug = 0.68327016 (spreadsheet says 0.686)\n",
    "* Ti/Ebeam = 0.6 --> Q_plug = 0.7356443"
   ]
  },
  {
   "cell_type": "markdown",
   "id": "4f4a35a1",
   "metadata": {},
   "source": [
    "## Triple product, energy confinement time, etc..."
   ]
  },
  {
   "cell_type": "code",
   "execution_count": 100,
   "id": "cf9bae9b",
   "metadata": {},
   "outputs": [
    {
     "data": {
      "text/plain": [
       "Array(3.07771298e+23, dtype=float64)"
      ]
     },
     "execution_count": 100,
     "metadata": {},
     "output_type": "execute_result"
    }
   ],
   "source": [
    "plug_in_values(triple_product_plug, values)"
   ]
  },
  {
   "cell_type": "code",
   "execution_count": 101,
   "id": "f9fa6dab",
   "metadata": {
    "scrolled": true
   },
   "outputs": [
    {
     "data": {
      "text/plain": [
       "Array(7.95721403e+20, dtype=float64, weak_type=True)"
      ]
     },
     "execution_count": 101,
     "metadata": {},
     "output_type": "execute_result"
    }
   ],
   "source": [
    "plug_in_values(n_plug * tau_Fowler_Baldwin, values)"
   ]
  },
  {
   "cell_type": "markdown",
   "id": "255d1427",
   "metadata": {},
   "source": [
    "Energy confinement time $\\tau_E = W_p / P_{\\text{heating}}$ (power balance) (volume is overestimated — a linear falloff would cut it by a third):"
   ]
  },
  {
   "cell_type": "code",
   "execution_count": 102,
   "id": "806848d9",
   "metadata": {},
   "outputs": [
    {
     "data": {
      "text/plain": [
       "Array(3.00172566, dtype=float64)"
      ]
     },
     "execution_count": 102,
     "metadata": {},
     "output_type": "execute_result"
    }
   ],
   "source": [
    "plug_in_values((V_p * n_plug * 1000 * const.elementary_charge * (Ti + Te) * 3/2) / (1e6 * P_NBI_plug), values)"
   ]
  },
  {
   "cell_type": "markdown",
   "id": "f1623b99",
   "metadata": {},
   "source": [
    "### alpha particles"
   ]
  },
  {
   "cell_type": "markdown",
   "id": "5fbc9dfc",
   "metadata": {},
   "source": [
    "$\\alpha$ particle density ($10^{20}m^{-3}$): $n_{\\alpha} = \\frac{I_{\\text{NBI}} Q_{\\text{plug}} \\tau_{\\alpha} E_b}{16 V_p E_{\\alpha}}$"
   ]
  },
  {
   "cell_type": "code",
   "execution_count": 103,
   "id": "3c9b7b19",
   "metadata": {
    "scrolled": false
   },
   "outputs": [
    {
     "data": {
      "text/plain": [
       "Array(4.22573828e+18, dtype=float64)"
      ]
     },
     "execution_count": 103,
     "metadata": {},
     "output_type": "execute_result"
    }
   ],
   "source": [
    "n_alpha_plug = tau_alpha_plug * (Rx_plug_DT + 0.5 * Rx_plug_DD) / V_p; plug_in_values(n_alpha_plug, values)"
   ]
  },
  {
   "cell_type": "markdown",
   "id": "9dc9c43b",
   "metadata": {},
   "source": [
    "$Z_{\\text{eff}}$: $Z_{\\text{eff}} = 1 +2n_{\\alpha}$"
   ]
  },
  {
   "cell_type": "code",
   "execution_count": 104,
   "id": "ed6714cb",
   "metadata": {},
   "outputs": [
    {
     "data": {
      "text/plain": [
       "Array(1.04790242, dtype=float64)"
      ]
     },
     "execution_count": 104,
     "metadata": {},
     "output_type": "execute_result"
    }
   ],
   "source": [
    "Z_eff_plug = (n_plug + 4 * n_alpha_plug) / (n_plug + 2 * n_alpha_plug); plug_in_values(Z_eff_plug, values)"
   ]
  },
  {
   "cell_type": "markdown",
   "id": "4b7ee9fa",
   "metadata": {},
   "source": [
    "# Tandem mirror calculations"
   ]
  },
  {
   "cell_type": "code",
   "execution_count": 105,
   "id": "580fce17",
   "metadata": {},
   "outputs": [],
   "source": [
    "a_cc = r_b * sympy.sqrt(B_pm / B_cc)"
   ]
  },
  {
   "cell_type": "code",
   "execution_count": 106,
   "id": "e43e7847",
   "metadata": {},
   "outputs": [],
   "source": [
    "R_cc = B_pm / B_cc"
   ]
  },
  {
   "cell_type": "code",
   "execution_count": 107,
   "id": "3f3c3b75",
   "metadata": {},
   "outputs": [],
   "source": [
    "V_cc = const.pi * a_cc ** 2 * L_cc"
   ]
  },
  {
   "cell_type": "code",
   "execution_count": 108,
   "id": "f694135e",
   "metadata": {},
   "outputs": [],
   "source": [
    "A_cc = const.pi * a_cc * 2.0 * L_cc"
   ]
  },
  {
   "cell_type": "code",
   "execution_count": 109,
   "id": "4771b550",
   "metadata": {},
   "outputs": [],
   "source": [
    "# P_needed_for_end_plug = 2 * P_"
   ]
  },
  {
   "cell_type": "code",
   "execution_count": 110,
   "id": "484e4d34",
   "metadata": {},
   "outputs": [],
   "source": [
    "n_cc = n_ccr * n_plug\n",
    "T_ic = Ti_ccr * Te\n",
    "T_ec = Te_ccr * Te"
   ]
  },
  {
   "cell_type": "code",
   "execution_count": 111,
   "id": "3cc3fb12",
   "metadata": {},
   "outputs": [],
   "source": [
    "N_tot_cc = V_cc * n_cc"
   ]
  },
  {
   "cell_type": "code",
   "execution_count": 112,
   "id": "d37c0c1a",
   "metadata": {
    "scrolled": true
   },
   "outputs": [
    {
     "data": {
      "text/plain": [
       "Array(0.58618107, dtype=float64)"
      ]
     },
     "execution_count": 112,
     "metadata": {},
     "output_type": "execute_result"
    }
   ],
   "source": [
    "beta_cc = 4.0267e-25 * n_cc * (T_ic + T_ec) * 1000 / B_cc ** 2; plug_in_values(beta_cc, values)"
   ]
  },
  {
   "cell_type": "code",
   "execution_count": 113,
   "id": "6682e53d",
   "metadata": {},
   "outputs": [],
   "source": [
    "beta_cc_limited = sympy.Piecewise((0.9, beta_cc > 0.9), (beta_cc, beta_cc <= 0.9))"
   ]
  },
  {
   "cell_type": "code",
   "execution_count": 114,
   "id": "ce930c0d",
   "metadata": {},
   "outputs": [
    {
     "data": {
      "text/plain": [
       "Array(22.99028948, dtype=float64)"
      ]
     },
     "execution_count": 114,
     "metadata": {},
     "output_type": "execute_result"
    }
   ],
   "source": [
    "Pastukhov = sympy.log(2 * B_pm / B_cc * 1 / sympy.sqrt(1 - beta_cc_limited) + 1) * sympy.log(n_plug / n_cc) * (n_plug / n_cc) ** (Te / T_ic);\n",
    "plug_in_values(Pastukhov, values)"
   ]
  },
  {
   "cell_type": "code",
   "execution_count": 115,
   "id": "003b69cb",
   "metadata": {},
   "outputs": [
    {
     "data": {
      "text/plain": [
       "Array(0.32972685, dtype=float64)"
      ]
     },
     "execution_count": 115,
     "metadata": {},
     "output_type": "execute_result"
    }
   ],
   "source": [
    "plug_in_values(beta_cc_limited, {**values, 'B_cc': 2})"
   ]
  },
  {
   "cell_type": "code",
   "execution_count": 116,
   "id": "e743bc98",
   "metadata": {},
   "outputs": [],
   "source": [
    "# Pastukhov_test = Te/T_ic * sympy.log(n_plug / n_cc) * (n_plug / n_cc) ** (Te / T_ic);\n",
    "# plug_in_values(Pastukhov_test, values)"
   ]
  },
  {
   "cell_type": "code",
   "execution_count": 117,
   "id": "b754d4fc",
   "metadata": {},
   "outputs": [],
   "source": [
    "# Pastukhov_test"
   ]
  },
  {
   "cell_type": "code",
   "execution_count": 118,
   "id": "ec855b0b",
   "metadata": {
    "scrolled": true
   },
   "outputs": [
    {
     "data": {
      "text/plain": [
       "Array(0.07029547, dtype=float64)"
      ]
     },
     "execution_count": 118,
     "metadata": {},
     "output_type": "execute_result"
    }
   ],
   "source": [
    "tau_ii_cc = 1.25e16 * T_ic ** (3/2) * sympy.sqrt(mu) / n_cc / (Z_eff ** 4); plug_in_values(tau_ii_cc, values)"
   ]
  },
  {
   "cell_type": "code",
   "execution_count": 119,
   "id": "3fe1e376",
   "metadata": {},
   "outputs": [],
   "source": [
    "chi_ETG = 0.1 * T_ec ** (3/2) / B_cc"
   ]
  },
  {
   "cell_type": "code",
   "execution_count": 120,
   "id": "8752efaa",
   "metadata": {},
   "outputs": [],
   "source": [
    "tau_ETG = a_cc ** 2 / chi_ETG"
   ]
  },
  {
   "cell_type": "code",
   "execution_count": 121,
   "id": "9bf4cdd6",
   "metadata": {},
   "outputs": [],
   "source": [
    "lambda_ei_cc = 24 - 0.5 * sympy.log(n_cc) + sympy.log(T_ec * 1e3)"
   ]
  },
  {
   "cell_type": "code",
   "execution_count": 122,
   "id": "3ade884f",
   "metadata": {},
   "outputs": [
    {
     "data": {
      "text/plain": [
       "Array(11.9792167, dtype=float64)"
      ]
     },
     "execution_count": 122,
     "metadata": {},
     "output_type": "execute_result"
    }
   ],
   "source": [
    "plug_in_values(lambda_ei_cc, values)"
   ]
  },
  {
   "cell_type": "markdown",
   "id": "1a2f2086",
   "metadata": {},
   "source": [
    "## Confinement times (tandem)"
   ]
  },
  {
   "cell_type": "markdown",
   "id": "1dc87d2b",
   "metadata": {},
   "source": [
    "### Classical cross-field diffusion confinement time (tandem)"
   ]
  },
  {
   "cell_type": "markdown",
   "id": "7b76f02a",
   "metadata": {},
   "source": [
    "$\\tau_E = \\frac{n V}{A \\cdot \\Gamma} = \\frac{n V}{-D_\\perp \\nabla n \\cdot A} = \\frac{n L \\pi a^2}{-D_\\perp \\nabla n L 2 \\pi a} = \\frac{n a}{-2 D_\\perp \\nabla n}$, $D_\\perp = \\eta_\\perp n \\sum T / B^2$"
   ]
  },
  {
   "cell_type": "markdown",
   "id": "33277bf5",
   "metadata": {},
   "source": [
    "This depends on lambda_ei which needs to have it's own definition for the tandem central cell. This is all from Chen 5.8"
   ]
  },
  {
   "cell_type": "markdown",
   "id": "16eea4d2",
   "metadata": {},
   "source": [
    "$\\eta_{||} = 5.2 \\cdot 10^{-5} \\frac{Z ln \\Lambda}{T^{3/2}}$, $\\eta_{\\perp} = 2 \\cdot \\eta_{||}$"
   ]
  },
  {
   "cell_type": "markdown",
   "id": "ae3a3e36",
   "metadata": {},
   "source": [
    "$\\tau_E = \\frac{a^2 B^2 T_e^{\\frac{3}{2}}}{3.12 \\cdot 10^{-4} \\cdot n Z \\sqrt{\\mu} \\ln{\\Lambda} \\sum{T}}$"
   ]
  },
  {
   "cell_type": "code",
   "execution_count": 123,
   "id": "4b5493ac",
   "metadata": {},
   "outputs": [],
   "source": [
    "eta_par_cc = 5.2e-5 * Z_eff * lambda_ei_cc * sympy.sqrt(mu) / (1e3 * T_ec) ** (3/2)"
   ]
  },
  {
   "cell_type": "code",
   "execution_count": 124,
   "id": "769fb1d8",
   "metadata": {},
   "outputs": [
    {
     "data": {
      "text/plain": [
       "Array(1.44518202e-10, dtype=float64)"
      ]
     },
     "execution_count": 124,
     "metadata": {},
     "output_type": "execute_result"
    }
   ],
   "source": [
    "plug_in_values(eta_par_cc, values)"
   ]
  },
  {
   "cell_type": "code",
   "execution_count": 125,
   "id": "63113f92",
   "metadata": {},
   "outputs": [],
   "source": [
    "D_classical_cc = 2 * eta_par_cc * n_cc * ((1e3 * T_ec * const.elementary_charge) + (1e3 * T_ic * const.elementary_charge)) / B_cc ** 2"
   ]
  },
  {
   "cell_type": "code",
   "execution_count": 126,
   "id": "b48878de",
   "metadata": {},
   "outputs": [],
   "source": [
    "tau_classical_cc = a_cc ** 2 * n_cc / (2 * D_classical_cc * 3 * n_cc)"
   ]
  },
  {
   "cell_type": "code",
   "execution_count": 127,
   "id": "b82a251c",
   "metadata": {},
   "outputs": [
    {
     "data": {
      "text/latex": [
       "$\\displaystyle \\frac{8.21704977311639 \\cdot 10^{-36} B_{cc} B_{pm} r_{b}^{2} \\left(Te Te_{ccr}\\right)^{1.5} \\left(Te + Ti\\right)^{2}}{B_{p}^{2} Z_{eff} \\beta \\sqrt{\\mu} n_{ccr} \\left(4.02670907669414 \\cdot 10^{-22} Te + 4.02670907669414 \\cdot 10^{-22} Ti\\right) \\left(1.602176634 \\cdot 10^{-16} Te Te_{ccr} + 1.602176634 \\cdot 10^{-16} Te Ti_{ccr}\\right) \\left(\\log{\\left(1000.0 Te Te_{ccr} \\right)} - 0.5 \\log{\\left(\\frac{B_{p}^{2} \\beta n_{ccr}}{4.02670907669414 \\cdot 10^{-22} Te + 4.02670907669414 \\cdot 10^{-22} Ti} \\right)} + 24\\right)}$"
      ],
      "text/plain": [
       "8.21704977311639e-36*B_cc*B_pm*r_b**2*(Te*Te_ccr)**1.5*(Te + Ti)**2/(B_p**2*Z_eff*beta*sqrt(mu)*n_ccr*(4.02670907669414e-22*Te + 4.02670907669414e-22*Ti)*(1.602176634e-16*Te*Te_ccr + 1.602176634e-16*Te*Ti_ccr)*(log(1000.0*Te*Te_ccr) - 0.5*log(B_p**2*beta*n_ccr/(4.02670907669414e-22*Te + 4.02670907669414e-22*Ti)) + 24))"
      ]
     },
     "execution_count": 127,
     "metadata": {},
     "output_type": "execute_result"
    }
   ],
   "source": [
    "tau_classical_cc"
   ]
  },
  {
   "cell_type": "code",
   "execution_count": 128,
   "id": "046d484d",
   "metadata": {
    "scrolled": false
   },
   "outputs": [
    {
     "data": {
      "text/plain": [
       "Array(216.55499412, dtype=float64)"
      ]
     },
     "execution_count": 128,
     "metadata": {},
     "output_type": "execute_result"
    }
   ],
   "source": [
    "plug_in_values(tau_classical_cc, {**values, 'B_cc': 0.2, 'B_pm': 15})"
   ]
  },
  {
   "cell_type": "markdown",
   "id": "5b33249b",
   "metadata": {},
   "source": [
    "### Gyro-Bohm confinement time (tandem)"
   ]
  },
  {
   "cell_type": "markdown",
   "id": "e8271e8a",
   "metadata": {},
   "source": [
    "Assuming density gradient is linear from 3x n_cc to 0"
   ]
  },
  {
   "cell_type": "code",
   "execution_count": 129,
   "id": "49b79df4",
   "metadata": {},
   "outputs": [
    {
     "data": {
      "text/plain": [
       "Array(1624.90209901, dtype=float64)"
      ]
     },
     "execution_count": 129,
     "metadata": {},
     "output_type": "execute_result"
    }
   ],
   "source": [
    "D_B_cc = 1/16 * T_ec * 1e3 / B_cc; plug_in_values(D_B_cc, values)"
   ]
  },
  {
   "cell_type": "code",
   "execution_count": 130,
   "id": "36a88b5d",
   "metadata": {},
   "outputs": [
    {
     "data": {
      "text/plain": [
       "Array(0.03293833, dtype=float64)"
      ]
     },
     "execution_count": 130,
     "metadata": {},
     "output_type": "execute_result"
    }
   ],
   "source": [
    "rho_cc = sympy.sqrt(2 * 3.343e-27 * const.elementary_charge * (3/2) * T_ic * 1e3) / (const.elementary_charge * B_cc); plug_in_values(rho_cc, values)"
   ]
  },
  {
   "cell_type": "code",
   "execution_count": 132,
   "id": "71c838d1",
   "metadata": {},
   "outputs": [
    {
     "data": {
      "text/plain": [
       "Array(0.02946094, dtype=float64)"
      ]
     },
     "execution_count": 132,
     "metadata": {},
     "output_type": "execute_result"
    }
   ],
   "source": [
    "rho_star_cc = rho_cc / a_cc; plug_in_values(rho_star_cc, values)"
   ]
  },
  {
   "cell_type": "code",
   "execution_count": 133,
   "id": "729530ff",
   "metadata": {},
   "outputs": [
    {
     "data": {
      "text/plain": [
       "Array(0.00037453, dtype=float64)"
      ]
     },
     "execution_count": 133,
     "metadata": {},
     "output_type": "execute_result"
    }
   ],
   "source": [
    "tau_Bohm_cc = n_cc / (2 * D_B_cc * 3 * n_cc / a_cc); plug_in_values(tau_Bohm_cc, {**values, 'B_cc': 1.0, 'r_b': 1})"
   ]
  },
  {
   "cell_type": "code",
   "execution_count": 135,
   "id": "ded830b6",
   "metadata": {
    "scrolled": true
   },
   "outputs": [
    {
     "data": {
      "text/plain": [
       "Array(0.04152013, dtype=float64)"
      ]
     },
     "execution_count": 135,
     "metadata": {},
     "output_type": "execute_result"
    }
   ],
   "source": [
    "tau_gyroBohm_cc = n_cc / (2 * D_B_cc * 3 * n_cc / a_cc) / rho_star_cc; plug_in_values(tau_gyroBohm_cc, {**values, 'B_cc': 1.0, 'r_b': 1})"
   ]
  },
  {
   "cell_type": "code",
   "execution_count": 136,
   "id": "50f43af8",
   "metadata": {},
   "outputs": [
    {
     "data": {
      "text/plain": [
       "Array(0.00384605, dtype=float64, weak_type=True)"
      ]
     },
     "execution_count": 136,
     "metadata": {},
     "output_type": "execute_result"
    }
   ],
   "source": [
    "plug_in_values(tau_gyroBohm_cc, {**values, 'Te': (lambda a, b, c, d: 6e1), 'B_cc': 1e0})"
   ]
  },
  {
   "cell_type": "code",
   "execution_count": 138,
   "id": "710d42b7",
   "metadata": {},
   "outputs": [
    {
     "data": {
      "text/plain": [
       "Array(4.56343392, dtype=float64)"
      ]
     },
     "execution_count": 138,
     "metadata": {},
     "output_type": "execute_result"
    }
   ],
   "source": [
    "plug_in_values(tau_gyroBohm_cc * 4e3 * (4.0267e-25 * n_cc * (T_ec) * 1000 / B_cc ** 2), values)"
   ]
  },
  {
   "cell_type": "markdown",
   "id": "f88891d2",
   "metadata": {},
   "source": [
    "## Scaling-law cross-field (tandem)"
   ]
  },
  {
   "cell_type": "code",
   "execution_count": 141,
   "id": "18d9c483",
   "metadata": {},
   "outputs": [],
   "source": [
    "# tau_L97_cc = 0.01 * B_cc ** 0.99 * L_cc ** 0.93 * a_cc ** 1.86 * (n_cc/1e20) ** 0.4 * (P_ECH_cc) ** -0.73; plug_in_values(tau_L97_cc, {**values, 'B_cc': 5})"
   ]
  },
  {
   "cell_type": "code",
   "execution_count": 143,
   "id": "210b1bfe",
   "metadata": {
    "scrolled": true
   },
   "outputs": [],
   "source": [
    "# tau_ETG_cc = 0.025 * L_cc ** 0.33 * a_cc ** 2.66 * (n_cc/1e20) ** 1 * (P_ECH_cc) ** -0.33; plug_in_values(tau_ETG_cc, values)"
   ]
  },
  {
   "cell_type": "code",
   "execution_count": 144,
   "id": "9cf600f8",
   "metadata": {},
   "outputs": [],
   "source": [
    "# plug_in_values(tau_E_cc, values)"
   ]
  },
  {
   "cell_type": "markdown",
   "id": "3f7f6e06",
   "metadata": {},
   "source": [
    "### Pastukhov tandem confinement times"
   ]
  },
  {
   "cell_type": "code",
   "execution_count": 145,
   "id": "b124f354",
   "metadata": {
    "scrolled": false
   },
   "outputs": [
    {
     "data": {
      "text/plain": [
       "Array(1.00958029, dtype=float64)"
      ]
     },
     "execution_count": 145,
     "metadata": {},
     "output_type": "execute_result"
    }
   ],
   "source": [
    "tau_E_cc = Pastukhov * tau_ii_cc; plug_in_values(tau_E_cc, {**values, 'B_cc': 5})"
   ]
  },
  {
   "cell_type": "code",
   "execution_count": 146,
   "id": "458a1710",
   "metadata": {},
   "outputs": [],
   "source": [
    "tau_tot_cc = 1 / (1 / tau_classical_cc + 1 / tau_E_cc)"
   ]
  },
  {
   "cell_type": "code",
   "execution_count": 147,
   "id": "d804da23",
   "metadata": {
    "scrolled": true
   },
   "outputs": [
    {
     "data": {
      "text/plain": [
       "Array(18.13113737, dtype=float64)"
      ]
     },
     "execution_count": 147,
     "metadata": {},
     "output_type": "execute_result"
    }
   ],
   "source": [
    "plug_in_values(tau_E_cc, {**values, 'B_cc': 1, 'n_ccr': 0.1})"
   ]
  },
  {
   "cell_type": "code",
   "execution_count": 148,
   "id": "e8177484",
   "metadata": {},
   "outputs": [],
   "source": [
    "dN_dt_cc = N_tot_cc / tau_tot_cc"
   ]
  },
  {
   "cell_type": "code",
   "execution_count": 149,
   "id": "b8fc6c51",
   "metadata": {},
   "outputs": [],
   "source": [
    "I_fuel_cc = dN_dt_cc * const.elementary_charge"
   ]
  },
  {
   "cell_type": "markdown",
   "id": "dd9eb541",
   "metadata": {},
   "source": [
    "Use tau_E_cc because we're concerend with only losses out the end"
   ]
  },
  {
   "cell_type": "code",
   "execution_count": 150,
   "id": "4f4e177c",
   "metadata": {},
   "outputs": [
    {
     "data": {
      "text/plain": [
       "Array(38.25470132, dtype=float64)"
      ]
     },
     "execution_count": 150,
     "metadata": {},
     "output_type": "execute_result"
    }
   ],
   "source": [
    "P_i_endloss_cc = 1e-3 * 3/2 * const.elementary_charge * const.pi * a_cc ** 2 * L_cc * n_cc * (T_ic + T_ec) / tau_E_cc; plug_in_values(P_i_endloss_cc, values)"
   ]
  },
  {
   "cell_type": "markdown",
   "id": "c6f79f4f",
   "metadata": {},
   "source": [
    "Includes ion, electron, and classical radial losses"
   ]
  },
  {
   "cell_type": "code",
   "execution_count": 151,
   "id": "e748287d",
   "metadata": {
    "scrolled": true
   },
   "outputs": [
    {
     "data": {
      "text/plain": [
       "Array(0.71235119, dtype=float64)"
      ]
     },
     "execution_count": 151,
     "metadata": {},
     "output_type": "execute_result"
    }
   ],
   "source": [
    "P_loss_cc = 1e-3 * 3/2 * const.elementary_charge * const.pi * a_cc ** 2 * L_cc * n_cc * (T_ic + T_ec) / tau_tot_cc; plug_in_values(P_loss_cc, {**values, 'B_cc':5, 'L_cc': 20, 'n_ccr': 0.1})"
   ]
  },
  {
   "cell_type": "code",
   "execution_count": 152,
   "id": "b2cd14f3",
   "metadata": {},
   "outputs": [],
   "source": [
    "# P_NBI_cc = I_NBI_cc * T_ic * 1e-3 + P_loss_cc\n",
    "# P_NBI_cc = 3/2 * T_ic * I_NBI_cc * 1e-3 - P_i_endloss - P_e_endloss + P_loss_cc;  # 1e-3 to convert to MW\n",
    "# plug_in_values(P_NBI_cc, {**values, 'B_cc': 0.2})"
   ]
  },
  {
   "cell_type": "markdown",
   "id": "031b93f5",
   "metadata": {},
   "source": [
    "## alpha radii field regularization (tandem)"
   ]
  },
  {
   "cell_type": "code",
   "execution_count": 153,
   "id": "f5fdf5c7",
   "metadata": {
    "scrolled": true
   },
   "outputs": [
    {
     "name": "stdout",
     "output_type": "stream",
     "text": [
      "0.7183686506832534\n"
     ]
    }
   ],
   "source": [
    "a_min_vv_cc = 4 * fast_alpha_gyroradius / B_cc; print(plug_in_values(a_min_vv_cc, values))"
   ]
  },
  {
   "cell_type": "code",
   "execution_count": 154,
   "id": "c9bb85d7",
   "metadata": {},
   "outputs": [
    {
     "name": "stdout",
     "output_type": "stream",
     "text": [
      "-0.5114687369416311\n"
     ]
    }
   ],
   "source": [
    "a_min_cc_diff = a_min_vv_cc - (a_cc * a_wall_r); print(plug_in_values(a_min_cc_diff, values))"
   ]
  },
  {
   "cell_type": "code",
   "execution_count": 155,
   "id": "b2d6decb",
   "metadata": {},
   "outputs": [],
   "source": [
    "B_reg_cc = sympy.Piecewise((1.0, a_min_cc_diff < 0), (sympy.exp(-5.0 * a_min_cc_diff / (fast_alpha_gyroradius / B_cc)), a_min_cc_diff >= 0))\n",
    "# B_reg_cc = (1 - sympy.tanh(a_min_cc_diff / (fast_alpha_gyroradius / B_cc))) / 2"
   ]
  },
  {
   "cell_type": "code",
   "execution_count": 156,
   "id": "1fc49411",
   "metadata": {},
   "outputs": [],
   "source": [
    "if flags['field_reg_alphas']:\n",
    "    charged_power_reg_coeff_cc  = B_reg_cc\n",
    "else:\n",
    "    charged_power_reg_coeff_cc = 1.0"
   ]
  },
  {
   "cell_type": "markdown",
   "id": "5f6d704e",
   "metadata": {},
   "source": [
    "## fusion power (tandem)"
   ]
  },
  {
   "cell_type": "markdown",
   "id": "dcb4df24",
   "metadata": {},
   "source": [
    "Detuerium and tritium densities"
   ]
  },
  {
   "cell_type": "code",
   "execution_count": 157,
   "id": "f0b96463",
   "metadata": {},
   "outputs": [],
   "source": [
    "n_cc_D = (1 - T_frac) * n_cc\n",
    "n_cc_T = T_frac * n_cc"
   ]
  },
  {
   "cell_type": "markdown",
   "id": "32428124",
   "metadata": {},
   "source": [
    "DT fusion reaction rate (#/s). Here we assume a 50-50 DT fuel mixture: $R_{\\text{x,plug,DT}}=V_p \\frac{n_{\\text{plug}}^2}{4} \\langle\\sigma v\\rangle_{DT}$"
   ]
  },
  {
   "cell_type": "code",
   "execution_count": 158,
   "id": "4206de64",
   "metadata": {},
   "outputs": [],
   "source": [
    "# Rx_plug_DT = V_p * n_plug ** 2 / 4 * DT_reactivity  # If using Bosch 1992 parameterization\n",
    "Rx_cc_DT = V_cc * (n_cc_D * n_cc_T) * DT_reac"
   ]
  },
  {
   "cell_type": "markdown",
   "id": "783023c4",
   "metadata": {},
   "source": [
    "DD fusion reaction rate (#/s). Here we assume a 50-50 DT fuel mixture: $R_{\\text{x,plug,DD}}=V_p \\left(\\frac{n_{\\text{plug}}}{2} \\right)^2 \\langle\\sigma v\\rangle_{DD} \\frac{1}{2}$"
   ]
  },
  {
   "cell_type": "code",
   "execution_count": 159,
   "id": "8f6bfead",
   "metadata": {},
   "outputs": [],
   "source": [
    "# Rx_plug_DD = V_p * n_plug ** 2 * (DD_pT_reactivity + DD_nHe_reactivity) / 2  # If using Bosch 1992 parameterization\n",
    "Rx_cc_DD = V_cc * n_cc_D ** 2 * (DD_reac) / 2"
   ]
  },
  {
   "cell_type": "markdown",
   "id": "92c3f2c2",
   "metadata": {},
   "source": [
    "Fusion power (MW):"
   ]
  },
  {
   "cell_type": "code",
   "execution_count": 160,
   "id": "8d733796",
   "metadata": {},
   "outputs": [],
   "source": [
    "P_fus_cc_DT_charged = 3.5 * const.elementary_charge * Rx_cc_DT  # 1e-6 converts W to MW, 1e6 converts from MeV to eV; cancels out\n",
    "P_fus_cc_DT_charged *= charged_power_reg_coeff_cc\n",
    "P_fus_cc_DT_neutron = 14.1 * const.elementary_charge * Rx_cc_DT * charged_power_reg_coeff_cc\n",
    "P_fus_cc_DT = P_fus_cc_DT_charged + P_fus_cc_DT_neutron\n",
    "\n",
    "P_fus_cc_DD_charged = (4.02 + 0.82)/2 * const.elementary_charge * Rx_cc_DD * 1e-6  # 1e-6 converts W to MW; the 1/2 assumes 50-50 branching ratio (decent approx)\n",
    "P_fus_cc_DD_charged *= charged_power_reg_coeff_cc\n",
    "P_fus_cc_DD_neutron = (2.45)/2 * const.elementary_charge * Rx_cc_DD * charged_power_reg_coeff_cc\n",
    "P_fus_cc_DD = P_fus_cc_DD_charged + P_fus_cc_DD_neutron\n",
    "\n",
    "# P_fus_cc_DD_cat_charged = (3.5 + 18.3)/2 * const.elementary_charge * Rx_cc_DD  # multiplying by Rx_cc_DD because this depends on the DD reaction rate\n",
    "P_fus_cc_DD_cat_charged = (3.5)/2 * const.elementary_charge * Rx_cc_DD\n",
    "P_fus_cc_DD_cat_charged *= charged_power_reg_coeff_cc\n",
    "P_fus_cc_DD_cat_neutron = (14.1)/2 * const.elementary_charge * Rx_cc_DD * charged_power_reg_coeff_cc\n",
    "P_fus_cc_DD_cat = P_fus_cc_DD_cat_charged + P_fus_cc_DD_cat_neutron"
   ]
  },
  {
   "cell_type": "code",
   "execution_count": 161,
   "id": "17ec9dfc",
   "metadata": {},
   "outputs": [],
   "source": [
    "neutron_flux_cc_DT = Rx_cc_DT / (A_cc)  # neutrons per m^2, assumes isotropy (not true for spin-polarized fuels)\n",
    "neutron_irradiance_cc_DT = P_fus_cc_DT_neutron / (A_cc)  # neutron power, MW / m^2\n",
    "\n",
    "neutron_flux_cc_DD = (Rx_cc_DD / 2) / (A_cc)  # neutrons per m^2\n",
    "neutron_irradiance_cc_DD = P_fus_cc_DD_neutron / (A_cc)  # neutron power, MW / m^2\n",
    "\n",
    "neutron_flux_cc_DD_cat = (Rx_cc_DD / 2) / (A_cc)  # neutrons per m^2\n",
    "neutron_irradiance_cc_DD_cat = P_fus_cc_DD_cat_neutron / (A_cc)  # neutron power, MW / m^2"
   ]
  },
  {
   "cell_type": "code",
   "execution_count": 162,
   "id": "91c44702",
   "metadata": {},
   "outputs": [],
   "source": [
    "P_fus_cc_charged = P_fus_cc_DT_charged + P_fus_cc_DD_charged\n",
    "P_fus_cc_neutron = P_fus_cc_DT_neutron + P_fus_cc_DD_neutron\n",
    "P_fus_cc = P_fus_cc_DT + P_fus_cc_DD\n",
    "\n",
    "neutron_flux_cc = neutron_flux_cc_DT + neutron_flux_cc_DD\n",
    "neutron_irradiance_cc = neutron_irradiance_cc_DT + neutron_irradiance_cc_DD"
   ]
  },
  {
   "cell_type": "code",
   "execution_count": 163,
   "id": "86bab45a",
   "metadata": {},
   "outputs": [],
   "source": [
    "if flags['DD_cat']:\n",
    "    P_fus_cc_charged = P_fus_cc_charged + P_fus_cc_DD_cat_charged\n",
    "    P_fus_cc_neutron = P_fus_cc_neutron + P_fus_cc_DD_cat_neutron\n",
    "    P_fus_cc = P_fus_cc + P_fus_cc_DD_cat\n",
    "    \n",
    "    neutron_flux_cc = neutron_flux_cc + neutron_flux_cc_DD_cat\n",
    "    neutron_irradiance_cc = neutron_irradiance_cc + neutron_irradiance_cc_DD_cat"
   ]
  },
  {
   "cell_type": "markdown",
   "id": "0c608c08",
   "metadata": {},
   "source": [
    "Keep in mind this is total fusion power, not fusion power per meter as defined in Cary's spreadsheet"
   ]
  },
  {
   "cell_type": "code",
   "execution_count": 164,
   "id": "00242177",
   "metadata": {},
   "outputs": [],
   "source": [
    "P_fus_total = P_fus_cc + 2 * P_fus_plug"
   ]
  },
  {
   "cell_type": "code",
   "execution_count": 165,
   "id": "0bcfb71e",
   "metadata": {},
   "outputs": [
    {
     "data": {
      "text/plain": [
       "Array(46.03467583, dtype=float64)"
      ]
     },
     "execution_count": 165,
     "metadata": {},
     "output_type": "execute_result"
    }
   ],
   "source": [
    "plug_in_values(P_fus_cc, values)"
   ]
  },
  {
   "cell_type": "code",
   "execution_count": 166,
   "id": "d7500548",
   "metadata": {},
   "outputs": [],
   "source": [
    "# P_HHFW aka P_RF"
   ]
  },
  {
   "cell_type": "markdown",
   "id": "0f65e07f",
   "metadata": {},
   "source": [
    "L_breakeven: lenght of the central cell for breakeven (including fusion power from the endplugs). Perhaps a useful tandem mirror metric:"
   ]
  },
  {
   "cell_type": "code",
   "execution_count": 167,
   "id": "b2328814",
   "metadata": {},
   "outputs": [
    {
     "data": {
      "text/plain": [
       "Array(-9.86740766, dtype=float64)"
      ]
     },
     "execution_count": 167,
     "metadata": {},
     "output_type": "execute_result"
    }
   ],
   "source": [
    "L_breakeven_cc = 2 * (P_heating_plug - P_fus_plug) * L_cc / P_fus_cc; plug_in_values(L_breakeven_cc, values)"
   ]
  },
  {
   "cell_type": "code",
   "execution_count": 168,
   "id": "56a0d3ef",
   "metadata": {},
   "outputs": [
    {
     "data": {
      "text/plain": [
       "Array(22.13259234, dtype=float64)"
      ]
     },
     "execution_count": 168,
     "metadata": {},
     "output_type": "execute_result"
    }
   ],
   "source": [
    "L_breakeven_cc_only = 2 * (P_heating_plug) * L_cc / P_fus_cc; plug_in_values(L_breakeven_cc_only, values)"
   ]
  },
  {
   "cell_type": "code",
   "execution_count": 169,
   "id": "5b44ccab",
   "metadata": {},
   "outputs": [],
   "source": [
    "tau_alpha_cc = 0.1 * 4 * Te ** (3/2) / (n_cc / 10 ** 20 * 2 ** 2 * lambda_ei_cc)"
   ]
  },
  {
   "cell_type": "code",
   "execution_count": 170,
   "id": "17aef266",
   "metadata": {},
   "outputs": [
    {
     "data": {
      "text/plain": [
       "Array(9.95306646e+17, dtype=float64)"
      ]
     },
     "execution_count": 170,
     "metadata": {},
     "output_type": "execute_result"
    }
   ],
   "source": [
    "n_alpha_cc = tau_alpha_cc * (Rx_cc_DT + 0.5 * Rx_cc_DD) / V_cc; plug_in_values(n_alpha_cc, values)"
   ]
  },
  {
   "cell_type": "code",
   "execution_count": 171,
   "id": "5af25791",
   "metadata": {},
   "outputs": [
    {
     "data": {
      "text/plain": [
       "Array(1.04525611, dtype=float64)"
      ]
     },
     "execution_count": 171,
     "metadata": {},
     "output_type": "execute_result"
    }
   ],
   "source": [
    "Z_eff_cc = (n_cc + 4 * n_alpha_cc) / (n_cc + 2 * n_alpha_cc); plug_in_values(Z_eff_cc, values)"
   ]
  },
  {
   "cell_type": "markdown",
   "id": "0c0140ad",
   "metadata": {},
   "source": [
    "## power balance and Q (tandem)"
   ]
  },
  {
   "cell_type": "code",
   "execution_count": 172,
   "id": "171405af",
   "metadata": {},
   "outputs": [
    {
     "data": {
      "text/plain": [
       "Array(0.8019586, dtype=float64)"
      ]
     },
     "execution_count": 172,
     "metadata": {},
     "output_type": "execute_result"
    }
   ],
   "source": [
    "P_synch_cc = 6 * 10 ** -3 * V_cc * n_cc / 10 ** 20 * Te * gamma ** 2 * B_cc ** 2; plug_in_values(P_synch_cc, values)/20"
   ]
  },
  {
   "cell_type": "code",
   "execution_count": 173,
   "id": "39ea1bfc",
   "metadata": {},
   "outputs": [
    {
     "data": {
      "text/plain": [
       "Array(0.52291911, dtype=float64)"
      ]
     },
     "execution_count": 173,
     "metadata": {},
     "output_type": "execute_result"
    }
   ],
   "source": [
    "P_brem_cc = 5.35 * 10 ** -3 * (n_cc / 10 ** 20) ** 2 * Z_eff * sympy.sqrt(Te) * V_cc; plug_in_values(P_brem_cc, values)"
   ]
  },
  {
   "cell_type": "code",
   "execution_count": 174,
   "id": "73f7a905",
   "metadata": {},
   "outputs": [],
   "source": [
    "if flags['cc_aux_ECH']:\n",
    "    P_ECH_cc = P_synch_cc / 20 + P_brem_cc + P_loss_cc\n",
    "else:\n",
    "    P_ECH_cc = P_synch_cc / 20 + P_brem_cc"
   ]
  },
  {
   "cell_type": "code",
   "execution_count": 175,
   "id": "d099f8c3",
   "metadata": {},
   "outputs": [],
   "source": [
    "Q_tandem = P_fus_total / (2 * P_heating_plug)"
   ]
  },
  {
   "cell_type": "code",
   "execution_count": 176,
   "id": "52481a27",
   "metadata": {
    "scrolled": true
   },
   "outputs": [
    {
     "data": {
      "text/plain": [
       "Array(2.34947625, dtype=float64)"
      ]
     },
     "execution_count": 176,
     "metadata": {},
     "output_type": "execute_result"
    }
   ],
   "source": [
    "plug_in_values(Q_tandem, values)"
   ]
  },
  {
   "cell_type": "code",
   "execution_count": 177,
   "id": "9f6cf3e3",
   "metadata": {
    "scrolled": true
   },
   "outputs": [
    {
     "data": {
      "text/plain": [
       "Array(54.32575195, dtype=float64)"
      ]
     },
     "execution_count": 177,
     "metadata": {},
     "output_type": "execute_result"
    }
   ],
   "source": [
    "P_electric_in = Ef_ECH * (2 * P_ECH_plug + P_ECH_cc) + Ef_NBI * (2 * P_NBI_plug); plug_in_values(P_electric_in, values)  # + RF or HHFW"
   ]
  },
  {
   "cell_type": "code",
   "execution_count": 178,
   "id": "e64729ef",
   "metadata": {},
   "outputs": [
    {
     "data": {
      "text/plain": [
       "Array(73.27607528, dtype=float64)"
      ]
     },
     "execution_count": 178,
     "metadata": {},
     "output_type": "execute_result"
    }
   ],
   "source": [
    "P_recirculating = Ef_DEC * (P_fus_cc_charged + 2 * P_fus_plug_charged + P_i_endloss_cc + 2 * P_i_endloss_plug); plug_in_values(P_recirculating, values)"
   ]
  },
  {
   "cell_type": "code",
   "execution_count": 179,
   "id": "6cb3207b",
   "metadata": {},
   "outputs": [
    {
     "data": {
      "text/plain": [
       "Array(127.55096335, dtype=float64)"
      ]
     },
     "execution_count": 179,
     "metadata": {},
     "output_type": "execute_result"
    }
   ],
   "source": [
    "P_thermal = P_fus_cc_neutron + 2 * P_fus_plug_neutron + (1 - Ef_DEC)  * P_recirculating / Ef_DEC; plug_in_values(P_thermal, values)"
   ]
  },
  {
   "cell_type": "code",
   "execution_count": 180,
   "id": "592e7572",
   "metadata": {},
   "outputs": [
    {
     "data": {
      "text/plain": [
       "Array(63.77548168, dtype=float64)"
      ]
     },
     "execution_count": 180,
     "metadata": {},
     "output_type": "execute_result"
    }
   ],
   "source": [
    "P_thermal_electric = Ef_TE * P_thermal; plug_in_values(P_thermal_electric, values)"
   ]
  },
  {
   "cell_type": "code",
   "execution_count": 181,
   "id": "6d3dfd78",
   "metadata": {},
   "outputs": [
    {
     "data": {
      "text/plain": [
       "Array(82.725805, dtype=float64)"
      ]
     },
     "execution_count": 181,
     "metadata": {},
     "output_type": "execute_result"
    }
   ],
   "source": [
    "P_net_electric = P_thermal_electric + P_recirculating - P_electric_in; plug_in_values(P_net_electric, values)"
   ]
  },
  {
   "cell_type": "code",
   "execution_count": 182,
   "id": "63a73388",
   "metadata": {},
   "outputs": [
    {
     "data": {
      "text/latex": [
       "$\\displaystyle \\frac{1.55601668502784 \\cdot 10^{25} B_{p}^{4} B_{pm} DD_{reac} L_{cc} \\beta^{2} n_{ccr}^{2} r_{b}^{2} \\left(1 - T_{frac}\\right)^{2}}{B_{cc} \\left(Te + Ti\\right)^{2}} + \\frac{5.46351861259502 \\cdot 10^{25} B_{p}^{4} B_{pm} DT_{reac} L_{cc} T_{frac} \\beta^{2} n_{ccr}^{2} r_{b}^{2} \\cdot \\left(1 - T_{frac}\\right)}{B_{cc} \\left(Te + Ti\\right)^{2}}$"
      ],
      "text/plain": [
       "1.55601668502784e+25*B_p**4*B_pm*DD_reac*L_cc*beta**2*n_ccr**2*r_b**2*(1 - T_frac)**2/(B_cc*(Te + Ti)**2) + 5.46351861259502e+25*B_p**4*B_pm*DT_reac*L_cc*T_frac*beta**2*n_ccr**2*r_b**2*(1 - T_frac)/(B_cc*(Te + Ti)**2)"
      ]
     },
     "execution_count": 182,
     "metadata": {},
     "output_type": "execute_result"
    }
   ],
   "source": [
    "P_fus_cc"
   ]
  },
  {
   "cell_type": "code",
   "execution_count": 183,
   "id": "d78e235c",
   "metadata": {
    "scrolled": false
   },
   "outputs": [],
   "source": [
    "# plug_in_values(D_B_cc, {**values, 'B_p': np.logspace(-10, 1, 100), 'p_aux': np.zeros(100)})"
   ]
  },
  {
   "cell_type": "code",
   "execution_count": 184,
   "id": "f459eeef",
   "metadata": {},
   "outputs": [],
   "source": [
    "# tau_gyroBohm"
   ]
  },
  {
   "cell_type": "code",
   "execution_count": 185,
   "id": "72b8bfd6",
   "metadata": {
    "scrolled": false
   },
   "outputs": [],
   "source": [
    "# plt.figure()\n",
    "# plt.title('CC fusion power using piecewise flat and exponential')\n",
    "# plt.plot(np.logspace(-10, 1, 100), plug_in_values(P_net_electric, {**values, 'B_cc': np.logspace(-10, 1, 100)}))\n",
    "# plt.plot(np.logspace(-10, 1, 100), plug_in_values(tau_classical_cc, {**values, 'B_cc': np.logspace(-10, 1, 100)}))\n",
    "# plt.plot(np.logspace(-10, 1, 100), plug_in_values(tau_gyroBohm * 500000, {**values, 'B_cc': np.logspace(-10, 1, 100)}))\n",
    "# plt.xlabel('Magnetic field (T)')\n",
    "# plt.ylabel('Power (MW)')\n",
    "# plt.ylim(0, 1e5)\n",
    "# plt.savefig('field_reg_alphas.pdf')"
   ]
  },
  {
   "cell_type": "markdown",
   "id": "174a4a01",
   "metadata": {},
   "source": [
    "# Magnet costs"
   ]
  },
  {
   "cell_type": "markdown",
   "id": "d4a277b9",
   "metadata": {},
   "source": [
    "Mirror coils (plug, mirror). Will need four of them (one pair for each plug)"
   ]
  },
  {
   "cell_type": "code",
   "execution_count": 186,
   "id": "b8933a74",
   "metadata": {},
   "outputs": [],
   "source": [
    "a_B_pm = r_b * a_wall_r + d_vv + d_blanket\n",
    "I_B_pm = 2 / const.mu_0 * B_pm * a_B_pm / 1e3\n",
    "S_B_pm = 2 * const.pi * a_B_pm * I_B_pm\n",
    "cost_B_pm = S_B_pm * cost_HTS_kAm "
   ]
  },
  {
   "cell_type": "code",
   "execution_count": 187,
   "id": "1e931521",
   "metadata": {
    "scrolled": false
   },
   "outputs": [
    {
     "data": {
      "text/plain": [
       "34.668749981127135"
      ]
     },
     "execution_count": 187,
     "metadata": {},
     "output_type": "execute_result"
    }
   ],
   "source": [
    "plug_in_values(cost_B_pm, values)"
   ]
  },
  {
   "cell_type": "markdown",
   "id": "5e3f0f66",
   "metadata": {},
   "source": [
    "Plug field coils"
   ]
  },
  {
   "cell_type": "code",
   "execution_count": 188,
   "id": "d5bc213c",
   "metadata": {},
   "outputs": [],
   "source": [
    "a_B_p = a_plug * a_wall_r + d_vv + d_blanket\n",
    "I_B_p = 2 / const.mu_0 * B_pm * a_B_p / 1e3\n",
    "S_B_p = 2 * const.pi * a_B_p  * I_B_p\n",
    "cost_B_p = S_B_p * cost_HTS_kAm"
   ]
  },
  {
   "cell_type": "code",
   "execution_count": 189,
   "id": "0e664be2",
   "metadata": {
    "scrolled": false
   },
   "outputs": [
    {
     "data": {
      "text/plain": [
       "Array(60.05984727, dtype=float64, weak_type=True)"
      ]
     },
     "execution_count": 189,
     "metadata": {},
     "output_type": "execute_result"
    }
   ],
   "source": [
    "plug_in_values(cost_B_p, values)"
   ]
  },
  {
   "cell_type": "markdown",
   "id": "1da6ea48",
   "metadata": {},
   "source": [
    "Central cell"
   ]
  },
  {
   "cell_type": "code",
   "execution_count": 190,
   "id": "1585df32",
   "metadata": {},
   "outputs": [],
   "source": [
    "a_B_cc = a_cc * a_wall_r + d_vv + d_blanket\n",
    "S_B_cc = 2 * const.pi * a_B_cc * B_cc / const.mu_0 / 1e3\n",
    "cost_B_cc = S_B_cc * L_cc * cost_HTS_kAm * 1/coil_spacing_cc"
   ]
  },
  {
   "cell_type": "code",
   "execution_count": 191,
   "id": "fbaff291",
   "metadata": {
    "scrolled": true
   },
   "outputs": [
    {
     "data": {
      "text/plain": [
       "Array(30.4475608, dtype=float64, weak_type=True)"
      ]
     },
     "execution_count": 191,
     "metadata": {},
     "output_type": "execute_result"
    }
   ],
   "source": [
    "plug_in_values(cost_B_cc, values)"
   ]
  },
  {
   "cell_type": "markdown",
   "id": "21ae91be",
   "metadata": {},
   "source": [
    "# Optimization constraints"
   ]
  },
  {
   "cell_type": "markdown",
   "id": "cfe552f8",
   "metadata": {},
   "source": [
    "## see: field regularization via alphas"
   ]
  },
  {
   "cell_type": "markdown",
   "id": "1f6db1dc",
   "metadata": {},
   "source": [
    "# Optimizing Q_plug"
   ]
  },
  {
   "cell_type": "code",
   "execution_count": null,
   "id": "4ae1cb0c",
   "metadata": {},
   "outputs": [],
   "source": [
    "values_to_opt = values.copy()"
   ]
  },
  {
   "cell_type": "code",
   "execution_count": null,
   "id": "8bdef034",
   "metadata": {},
   "outputs": [],
   "source": [
    "values_to_opt"
   ]
  },
  {
   "cell_type": "code",
   "execution_count": null,
   "id": "9b40611a",
   "metadata": {},
   "outputs": [],
   "source": [
    "# for key in values_to_opt:\n",
    "#     values_to_opt[key] = jnp.ones(10) * values_to_opt[key]\n",
    "values_to_opt['L_p'] = jnp.ones(10) * values_to_opt['L_p']\n",
    "values_to_opt['T_frac'] = jnp.ones(10) * values_to_opt['T_frac']\n",
    "values_to_opt['Tep_fudge'] = jnp.ones(10) * values_to_opt['Tep_fudge']\n",
    "values_to_opt['Z_eff'] = jnp.ones(10) * values_to_opt['Z_eff']\n",
    "values_to_opt['mu'] = jnp.ones(10) * values_to_opt['mu']\n",
    "values_to_opt['beta'] = jnp.ones(10) * values_to_opt['beta']\n",
    "values_to_opt['r_b'] = jnp.ones(10) * values_to_opt['r_b']\n",
    "values_to_opt['Eb'] = jnp.ones(10) * values_to_opt['Eb']\n",
    "\n",
    "values_to_opt['B_p'] = jnp.ones(10) * 6.0\n",
    "values_to_opt['B_pm'] = jnp.logspace(0.1, 2, 10)\n",
    "values_to_opt['p_aux'] = jnp.zeros(10)"
   ]
  },
  {
   "cell_type": "markdown",
   "id": "9a88fc2d",
   "metadata": {},
   "source": [
    "Substitute in temperature and reactivities functions into the sympy equation and then lambdify"
   ]
  },
  {
   "cell_type": "code",
   "execution_count": null,
   "id": "f028ac36",
   "metadata": {
    "scrolled": false
   },
   "outputs": [],
   "source": [
    "Q_plug_func_sympy, Q_plug_function, Q_arg_tuple, Q_arg_idx = sub_and_lambdify(Q_plug - 1/B_p * 1, values_to_opt)"
   ]
  },
  {
   "cell_type": "markdown",
   "id": "5ce586dd",
   "metadata": {},
   "source": [
    "Build gradient function (only need to do this once!)"
   ]
  },
  {
   "cell_type": "code",
   "execution_count": null,
   "id": "0a4a9f03",
   "metadata": {
    "scrolled": false
   },
   "outputs": [],
   "source": [
    "symbol_list = list(Q_plug_func_sympy.free_symbols)\n",
    "grad_Q_func = jax.jit(jax.vmap(jax.grad(Q_plug_function, jnp.arange(len(symbol_list)))))"
   ]
  },
  {
   "cell_type": "markdown",
   "id": "fb928add",
   "metadata": {},
   "source": [
    "Optimize for:\n",
    "* B_pm\n",
    "* B_p\n",
    "* r_b\n",
    "* L_p\n",
    "* T_frac\n",
    "* Eb"
   ]
  },
  {
   "cell_type": "code",
   "execution_count": null,
   "id": "a4fc610b",
   "metadata": {},
   "outputs": [],
   "source": [
    "opt_symbol_list = [B_pm, B_p, r_b, L_p, T_frac, Eb]\n",
    "# opt_symbol_list = [T_frac]"
   ]
  },
  {
   "cell_type": "markdown",
   "id": "3a30468c",
   "metadata": {},
   "source": [
    "Create mask so that parameters we don't want to optimize remain constant"
   ]
  },
  {
   "cell_type": "code",
   "execution_count": null,
   "id": "27605727",
   "metadata": {},
   "outputs": [],
   "source": [
    "symbol_list_names = [sym.name for sym in symbol_list]\n",
    "# print(symbol_list)\n",
    "opt_idx = [symbol_list.index(sym) for sym in opt_symbol_list]\n",
    "opt_idx_mask = np.zeros(len(symbol_list))\n",
    "opt_idx_mask[opt_idx] = 1\n",
    "for _ in zip(symbol_list, opt_idx_mask):\n",
    "    print(_[0].name + \": {}\".format(int(_[1])))"
   ]
  },
  {
   "cell_type": "markdown",
   "id": "9d1f15d0",
   "metadata": {},
   "source": [
    "## Optimization loop"
   ]
  },
  {
   "cell_type": "code",
   "execution_count": null,
   "id": "70376361",
   "metadata": {
    "scrolled": false
   },
   "outputs": [],
   "source": [
    "num_samples = 8 # len(Q_arg_tuple[0])\n",
    "loop_values = []\n",
    "loop_Q_grad = []\n",
    "# print(Q_arg_tuple)\n",
    "loop_values.append(jnp.array(Q_arg_tuple)[:, 0:num_samples])\n",
    "loop_Q_grad.append(jnp.zeros((len(symbol_list), num_samples)))\n",
    "\n",
    "for i in tqdm(range(1000)):\n",
    "    grad_Q = -jnp.array(grad_Q_func(*tuple(loop_values[i]))) * jnp.tile(opt_idx_mask[:, jnp.newaxis], [1, num_samples]) * 1e-3\n",
    "#     if i > 1000:\n",
    "#     new_value = loop_values[-1] - (grad_Q + 0.99 * loop_Q_grad[-1])\n",
    "#     else:\n",
    "    new_value = loop_values[-1] - grad_Q\n",
    "    loop_values.append(new_value)\n",
    "    loop_Q_grad.append(grad_Q)"
   ]
  },
  {
   "cell_type": "markdown",
   "id": "20a0cecb",
   "metadata": {},
   "source": [
    "## Plot Q and gradient norm"
   ]
  },
  {
   "cell_type": "code",
   "execution_count": null,
   "id": "181f2213",
   "metadata": {
    "scrolled": false
   },
   "outputs": [],
   "source": [
    "fig, axQ = plt.subplots()\n",
    "axQ.plot(np.arange(0, 10001, 50), [Q_plug_function(*tuple(_) ) for _ in tqdm(loop_values[::50])], label='Q', color=\"#1f77b4\")\n",
    "axQ.tick_params(colors=\"#1f77b4\", axis='y')\n",
    "# axQ.plot(Q_plug_function(*tuple([np.array(loop_values).transpose()[_, :] for _ in tqdm(range(8))])), label='Q')\n",
    "axGrad = axQ.twinx()\n",
    "axGrad.plot(np.sqrt(np.sum(np.array(loop_Q_grad) ** 2, axis=1)), color='#ff7f0e', label='grad l2 norm')\n",
    "# axGrad.plot(np.array(loop_Q_grad)[:, 0], color='#ff7f0e', label='grad l2 norm')\n",
    "axGrad.tick_params(colors=\"#ff7f0e\", axis='y')\n",
    "axQ.set_xlabel('iteration')\n",
    "fig.legend()"
   ]
  },
  {
   "cell_type": "code",
   "execution_count": null,
   "id": "8c151a69",
   "metadata": {},
   "outputs": [],
   "source": [
    "# fig.savefig('Q_opt.pdf')"
   ]
  },
  {
   "cell_type": "markdown",
   "id": "b33e5432",
   "metadata": {},
   "source": [
    "## Other plots"
   ]
  },
  {
   "cell_type": "code",
   "execution_count": null,
   "id": "b522f4b1",
   "metadata": {},
   "outputs": [],
   "source": [
    "Te_subbed, Te_jaxed, Te_arg_tuple, Te_arg_idx = sub_and_lambdify(1.0 * Te, values_to_opt, symbol_list_names)\n",
    "Ti_subbed, Ti_jaxed, Ti_arg_tuple, Ti_arg_idx = sub_and_lambdify(1.0 * Ti, values_to_opt, symbol_list_names)"
   ]
  },
  {
   "cell_type": "code",
   "execution_count": null,
   "id": "714168a8",
   "metadata": {},
   "outputs": [],
   "source": [
    "Te_plot = [Te_jaxed(*tuple(loop_values[i][Te_arg_idx])) for i in tqdm(range(0, 5001, 25))]\n",
    "Ti_plot = [Ti_jaxed(*tuple(loop_values[i][Ti_arg_idx])) for i in tqdm(range(0, 5001, 25))]\n",
    "\n",
    "figT, axTi = plt.subplots()\n",
    "\n",
    "axTi.plot(np.arange(0, 5001, 25), Ti_plot, color='blue', label='<Ei>')\n",
    "axTi.tick_params(colors='blue', axis='y')\n",
    "axTe = axTi.twinx()\n",
    "axTe.plot(np.arange(0, 5001, 25), Te_plot, color='red', label='Te')\n",
    "axTe.tick_params(colors='red', axis='y')\n",
    "axTi.set_xlabel('iteration')\n",
    "figT.legend()"
   ]
  },
  {
   "cell_type": "code",
   "execution_count": null,
   "id": "744e7be3",
   "metadata": {},
   "outputs": [],
   "source": [
    "# figT.savefig('temp_change.pdf')"
   ]
  },
  {
   "cell_type": "code",
   "execution_count": null,
   "id": "524d5435",
   "metadata": {},
   "outputs": [],
   "source": [
    "print(\"symbol \\t value_i \\t value_f \\t RMS grad\")\n",
    "for i in range(len(symbol_list)):\n",
    "    print(symbol_list[i].name + \":\\t {:.4e}\".format(loop_values[0][i]) + \":\\t {:.4e}\".format(loop_values[-1][i]), \"\\t {:.4e}\".format(np.sqrt(np.sum(np.array(loop_Q_grad[0:-1]) ** 2, axis=0))[i]))"
   ]
  },
  {
   "cell_type": "markdown",
   "id": "7380e66c",
   "metadata": {},
   "source": [
    "# Optimizing simple tandem model"
   ]
  },
  {
   "cell_type": "code",
   "execution_count": null,
   "id": "2c993e7a",
   "metadata": {},
   "outputs": [],
   "source": [
    "values_to_opt = values.copy()"
   ]
  },
  {
   "cell_type": "markdown",
   "id": "767a0bdc",
   "metadata": {},
   "source": [
    "Substitute in temperature and reactivities functions into the sympy equation and then lambdify"
   ]
  },
  {
   "cell_type": "markdown",
   "id": "d9d3b21d",
   "metadata": {},
   "source": [
    "60*60 converts MWh, $300 per MWh. Cost = electric power revenue per year - magnet cost averaged over 30 years"
   ]
  },
  {
   "cell_type": "code",
   "execution_count": null,
   "id": "91248075",
   "metadata": {},
   "outputs": [],
   "source": [
    "tandem_net_cost = ((P_recirculating + P_thermal_electric - P_electric_in) * (60 * 60) * 300 * 8760 / 1e6) - (cost_B_cc + cost_B_p + cost_B_pm) / 30"
   ]
  },
  {
   "cell_type": "code",
   "execution_count": null,
   "id": "418b291a",
   "metadata": {
    "scrolled": true
   },
   "outputs": [],
   "source": [
    "tandem_func_sympy, tandem_function, tandem_arg_tuple, tandem_arg_idx = sub_and_lambdify(tandem_net_cost, values_to_opt)"
   ]
  },
  {
   "cell_type": "markdown",
   "id": "d1391636",
   "metadata": {},
   "source": [
    "Build gradient function (only need to do this once!)"
   ]
  },
  {
   "cell_type": "code",
   "execution_count": null,
   "id": "4e8bba60",
   "metadata": {
    "scrolled": false
   },
   "outputs": [],
   "source": [
    "jnp.arange(len(tandem_func_sympy.free_symbols))"
   ]
  },
  {
   "cell_type": "code",
   "execution_count": null,
   "id": "67e8e618",
   "metadata": {
    "scrolled": true
   },
   "outputs": [],
   "source": [
    "tandem_symbol_list = list(tandem_func_sympy.free_symbols)\n",
    "tandem_grad_func = jax.jit(jax.grad(tandem_function, jnp.arange(len(tandem_symbol_list))))"
   ]
  },
  {
   "cell_type": "code",
   "execution_count": null,
   "id": "16fbfb41",
   "metadata": {},
   "outputs": [],
   "source": [
    "tandem_symbol_list"
   ]
  },
  {
   "cell_type": "markdown",
   "id": "6aaecd56",
   "metadata": {},
   "source": [
    "Optimize for:\n",
    "* B_pm\n",
    "* B_p\n",
    "* r_b\n",
    "* L_p\n",
    "* T_frac\n",
    "* Eb\n",
    "* L_cc\n",
    "* B_cc"
   ]
  },
  {
   "cell_type": "code",
   "execution_count": null,
   "id": "b2cfffd1",
   "metadata": {},
   "outputs": [],
   "source": [
    "tandem_opt_symbol_list = [B_pm, B_p, r_b, L_p, T_frac, Eb, L_cc, B_cc]\n",
    "# opt_symbol_list = [T_frac]"
   ]
  },
  {
   "cell_type": "markdown",
   "id": "938b3d13",
   "metadata": {},
   "source": [
    "Create mask so that parameters we don't want to optimize remain constant"
   ]
  },
  {
   "cell_type": "code",
   "execution_count": null,
   "id": "383266bf",
   "metadata": {},
   "outputs": [],
   "source": [
    "tandem_symbol_list_names = [sym.name for sym in tandem_symbol_list]\n",
    "print(tandem_symbol_list)\n",
    "opt_idx = [tandem_symbol_list.index(sym) for sym in tandem_opt_symbol_list]\n",
    "opt_idx_mask = np.zeros(len(tandem_symbol_list))\n",
    "opt_idx_mask[opt_idx] = 1\n",
    "print(opt_idx_mask)"
   ]
  },
  {
   "cell_type": "markdown",
   "id": "8c031c30",
   "metadata": {},
   "source": [
    "## Optimization loop"
   ]
  },
  {
   "cell_type": "code",
   "execution_count": null,
   "id": "706aaf9e",
   "metadata": {
    "scrolled": false
   },
   "outputs": [],
   "source": [
    "loop_values = []\n",
    "loop_cost_grad = []\n",
    "loop_values.append(jnp.array(tandem_arg_tuple))\n",
    "loop_cost_grad.append(jnp.zeros(len(tandem_symbol_list)))\n",
    "\n",
    "for i in tqdm(range(10000)):\n",
    "    grad_cost = -jnp.array(tandem_grad_func(*tuple(loop_values[i]))) * opt_idx_mask * 3e-11\n",
    "#     if i > 1000:\n",
    "#         new_value = loop_values[-1] - (grad_cost + 0.5 * loop_cost_grad[-1])\n",
    "#     else:\n",
    "    new_value = loop_values[-1] - grad_cost\n",
    "    loop_values.append(new_value)\n",
    "    loop_cost_grad.append(grad_cost)"
   ]
  },
  {
   "cell_type": "markdown",
   "id": "22822a7d",
   "metadata": {},
   "source": [
    "## Plot Q and gradient norm"
   ]
  },
  {
   "cell_type": "code",
   "execution_count": null,
   "id": "fd1a7c77",
   "metadata": {
    "scrolled": false
   },
   "outputs": [],
   "source": [
    "fig, axQ = plt.subplots()\n",
    "axQ.plot(np.arange(0, 10001, 50), [tandem_function(*tuple(_) ) for _ in tqdm(loop_values[::50])], label='Opt function', color=\"#1f77b4\")\n",
    "axQ.tick_params(colors=\"#1f77b4\", axis='y')\n",
    "# axQ.plot(tandem_function(*tuple([np.array(loop_values).transpose()[_, :] for _ in tqdm(range(8))])), label='Q')\n",
    "axGrad = axQ.twinx()\n",
    "axGrad.plot(np.arange(0, 10001, 1), np.sqrt(np.sum(np.array(loop_cost_grad) ** 2, axis=1)), color='#ff7f0e', label='grad l2 norm')\n",
    "# axGrad.plot(np.array(loop_Q_grad)[:, 0], color='#ff7f0e', label='grad l2 norm')\n",
    "# axGrad.tick_params(colors=\"#ff7f0e\", axis='y')\n",
    "axQ.set_xlabel('iteration')\n",
    "fig.legend()\n",
    "# plt.savefig('tandem_opt.pdf')"
   ]
  },
  {
   "cell_type": "code",
   "execution_count": null,
   "id": "2ce5ee9b",
   "metadata": {},
   "outputs": [],
   "source": [
    "# fig.savefig('Q_opt.pdf')"
   ]
  },
  {
   "cell_type": "markdown",
   "id": "5c23c0f8",
   "metadata": {},
   "source": [
    "## Other plots"
   ]
  },
  {
   "cell_type": "code",
   "execution_count": null,
   "id": "bc8fd0ac",
   "metadata": {},
   "outputs": [],
   "source": [
    "num_plot = len(tandem_symbol_list)\n",
    "fig, axes = plt.subplots(np.sum(opt_idx_mask).astype(int), figsize=(6, 10), sharex=True)\n",
    "# print(\"symbol \\t value_i \\t value_f \\t RMS grad\")\n",
    "j = 0\n",
    "for i in range(num_plot):\n",
    "#     print(tandem_symbol_list[i].name + \":\\t {:.4e}\".format(loop_values[0][i]) + \":\\t {:.4e}\".format(loop_values[-1][i]), \"\\t {:.4e}\".format(np.sqrt(np.sum(np.array(loop_cost_grad[0:-1]) ** 2, axis=0))[i]))\n",
    "    if opt_idx_mask[i] == 0:\n",
    "        continue\n",
    "    else:\n",
    "        axes[j].plot(np.array(loop_values)[:, i], label=tandem_symbol_list[i].name)\n",
    "        axes[j].legend()\n",
    "#         axes[j].set_title(tandem_symbol_list[i].name)\n",
    "        j += 1\n",
    "plt.legend()\n",
    "plt.tight_layout()\n",
    "# plt.savefig('tandem_opt_params.pdf')"
   ]
  },
  {
   "cell_type": "code",
   "execution_count": null,
   "id": "10da7680",
   "metadata": {},
   "outputs": [],
   "source": [
    "last_iter = 6000\n",
    "print(\"symbol \\t value_i \\t value_f \\t RMS grad\")\n",
    "for i in range(len(tandem_symbol_list)):\n",
    "    print(tandem_symbol_list[i].name + \":\\t\\t {:.4e}\".format(loop_values[0][i]) + \":\\t {:.4e}\".format(loop_values[last_iter][i]),\n",
    "          \"\\t {:.4e}\".format(np.sqrt(np.sum(np.array(loop_cost_grad[0:last_iter]) ** 2, axis=0))[i]))"
   ]
  },
  {
   "cell_type": "code",
   "execution_count": null,
   "id": "abae8261",
   "metadata": {},
   "outputs": [],
   "source": []
  }
 ],
 "metadata": {
  "kernelspec": {
   "display_name": "Python 3 (ipykernel)",
   "language": "python",
   "name": "python3"
  },
  "language_info": {
   "codemirror_mode": {
    "name": "ipython",
    "version": 3
   },
   "file_extension": ".py",
   "mimetype": "text/x-python",
   "name": "python",
   "nbconvert_exporter": "python",
   "pygments_lexer": "ipython3",
   "version": "3.11.0"
  },
  "toc": {
   "base_numbering": 1,
   "nav_menu": {},
   "number_sections": true,
   "sideBar": true,
   "skip_h1_title": false,
   "title_cell": "Table of Contents",
   "title_sidebar": "Contents",
   "toc_cell": false,
   "toc_position": {},
   "toc_section_display": true,
   "toc_window_display": false
  },
  "varInspector": {
   "cols": {
    "lenName": 16,
    "lenType": 16,
    "lenVar": 40
   },
   "kernels_config": {
    "python": {
     "delete_cmd_postfix": "",
     "delete_cmd_prefix": "del ",
     "library": "var_list.py",
     "varRefreshCmd": "print(var_dic_list())"
    },
    "r": {
     "delete_cmd_postfix": ") ",
     "delete_cmd_prefix": "rm(",
     "library": "var_list.r",
     "varRefreshCmd": "cat(var_dic_list()) "
    }
   },
   "types_to_exclude": [
    "module",
    "function",
    "builtin_function_or_method",
    "instance",
    "_Feature"
   ],
   "window_display": false
  }
 },
 "nbformat": 4,
 "nbformat_minor": 5
}
