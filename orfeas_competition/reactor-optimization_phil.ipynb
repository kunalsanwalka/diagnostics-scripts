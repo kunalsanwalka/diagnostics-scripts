{
 "cells": [
  {
   "cell_type": "markdown",
   "id": "cd5f0a76",
   "metadata": {},
   "source": [
    "Overleaf doc: https://www.overleaf.com/read/ysgbfhgmndrs"
   ]
  },
  {
   "cell_type": "markdown",
   "id": "21de2130",
   "metadata": {},
   "source": [
    "This notebook requires:\n",
    "- jaxlib (`pip install jaxlib`)\n",
    "- jax\n",
    "- sympy\n",
    "- scipy\n",
    "- sympy2jax (`pip install sympy2jax`) -- but sympy's built-in lambdify should be sufficient for our uses\n",
    "\n",
    "Not needed but in case we want to parse LaTeX:\n",
    "\n",
    "- antlr4 python runtime (`conda install -c conda-forge antlr-python-runtime`) — for sympy's LaTeX parsing"
   ]
  },
  {
   "cell_type": "markdown",
   "id": "beb7cb13",
   "metadata": {},
   "source": [
    "# Setup"
   ]
  },
  {
   "cell_type": "code",
   "execution_count": 246,
   "id": "debdc90f",
   "metadata": {
    "scrolled": false
   },
   "outputs": [
    {
     "data": {
      "text/html": [
       "<style>.container { width:95% !important; }</style>"
      ],
      "text/plain": [
       "<IPython.core.display.HTML object>"
      ]
     },
     "metadata": {},
     "output_type": "display_data"
    }
   ],
   "source": [
    "from IPython.display import display, HTML\n",
    "display(HTML(\"<style>.container { width:95% !important; }</style>\"))"
   ]
  },
  {
   "cell_type": "code",
   "execution_count": 154,
   "id": "a00285a1",
   "metadata": {},
   "outputs": [],
   "source": [
    "import jax\n",
    "import jax.numpy as jnp\n",
    "import sympy\n",
    "# from sympy.parsing.latex import parse_latex\n",
    "# from sympy2jax import sympy2jax\n",
    "import matplotlib.pyplot as plt\n",
    "import scipy\n",
    "import scipy.constants as const\n",
    "import numpy as np\n",
    "import math\n",
    "import scipy.special as sp\n",
    "from jaxopt import Bisection\n",
    "from tqdm.notebook import tqdm \n",
    "import inspect  # useful for looking into lambdified functions\n",
    "import sys\n",
    "from functools import partial"
   ]
  },
  {
   "cell_type": "code",
   "execution_count": 3,
   "id": "2bfb6669",
   "metadata": {},
   "outputs": [],
   "source": [
    "from jax.config import config\n",
    "config.update(\"jax_enable_x64\", True)"
   ]
  },
  {
   "cell_type": "code",
   "execution_count": 4,
   "id": "871ac469",
   "metadata": {},
   "outputs": [],
   "source": [
    "e = np.e\n",
    "ln = np.log\n",
    "ln_j = jnp.log\n",
    "gamma_0 = sp.exp1\n",
    "gamma_0_j = jax.scipy.special.exp1"
   ]
  },
  {
   "cell_type": "code",
   "execution_count": 5,
   "id": "e4d9fbc9",
   "metadata": {},
   "outputs": [],
   "source": [
    "%matplotlib notebook"
   ]
  },
  {
   "cell_type": "code",
   "execution_count": 6,
   "id": "7db45d38",
   "metadata": {},
   "outputs": [],
   "source": [
    "# Ti(B_pm, B_p, p_aux, Eb)\n",
    "# Te(B_pm, B_p, p_aux, Eb)\n",
    "# DD_reac(Ti(B_pm, B_p, p_aux, Eb))\n",
    "# DT_reac(Ti(B_pm, B_p, p_aux, Eb))"
   ]
  },
  {
   "cell_type": "markdown",
   "id": "352140fe",
   "metadata": {},
   "source": [
    "---"
   ]
  },
  {
   "cell_type": "markdown",
   "id": "04ca69d0",
   "metadata": {},
   "source": [
    "# Units used"
   ]
  },
  {
   "cell_type": "markdown",
   "id": "39c65ffd",
   "metadata": {},
   "source": [
    "* Temperature: keV\n",
    "* Density: m^-3\n",
    "* Field: T"
   ]
  },
  {
   "cell_type": "markdown",
   "id": "da34d876",
   "metadata": {},
   "source": [
    "# Cary's spreadsheet sanity check"
   ]
  },
  {
   "cell_type": "markdown",
   "id": "1d4be6fb",
   "metadata": {},
   "source": [
    "Spreadsheet benchmark inputs:\n",
    "* $B_p = 6$ T\n",
    "* $B_{p,m} = 30$ T\n",
    "*     --> $R_p = 5$\n",
    "* $\\beta_{limit} = 0.8$\n",
    "* $E_b = 1000$ keV\n",
    "* $r_b = 0.25$ m\n",
    "* $L_p = 4$ m"
   ]
  },
  {
   "cell_type": "markdown",
   "id": "6f5e7ee8",
   "metadata": {},
   "source": [
    "Yields (ignoring finite $\\beta$ effects on the electron temperature):\n",
    "* $T_e = 77.1$ keV\n",
    "* $n_{plug} = 9.68 \\times 10^{19}$ m$^{-3}$"
   ]
  },
  {
   "cell_type": "markdown",
   "id": "7b9baa1f",
   "metadata": {},
   "source": [
    "# Fundamental parameters"
   ]
  },
  {
   "cell_type": "markdown",
   "id": "5458a16c",
   "metadata": {},
   "source": [
    "I'm filling out the parameters as I go along"
   ]
  },
  {
   "cell_type": "markdown",
   "id": "779b86c2",
   "metadata": {},
   "source": [
    "## Sympy variables"
   ]
  },
  {
   "cell_type": "code",
   "execution_count": 7,
   "id": "0a710d67",
   "metadata": {},
   "outputs": [],
   "source": [
    "# Machine / engineering parameters\n",
    "[Eb, # keV\n",
    " beta,\n",
    " B_pm, # Tesla -- plug \n",
    " B_p, # Tesla\n",
    " r_b,\n",
    " L_p,\n",
    " Ti,  # Placeholder (will be calculated later), keV\n",
    " Te,  # Placeholder (will be calculated later), keV\n",
    " DT_reac,  # Placeholder (evaluated after Ti and Te)\n",
    " DD_reac,  # Placeholder -- should really be split into nHe3 and pT at some point\n",
    " p_aux,\n",
    " T_frac  # fraction of fuel that is tritium (assuming deuterium)\n",
    "] = sympy.symbols('Eb '\n",
    "                  'beta '\n",
    "                  'B_pm '\n",
    "                  'B_p '\n",
    "                  'r_b '\n",
    "                  'L_p '\n",
    "                  'Ti '\n",
    "                  'Te '\n",
    "                  'DT_reac '\n",
    "                  'DD_reac '\n",
    "                  'p_aux '\n",
    "                  'T_frac ')\n",
    "\n",
    "f_Ti = sympy.Function('f_Ti ')\n",
    "f_Te = sympy.Function('f_Te ')\n",
    "f_DT_reac = sympy.Function('f_DT_reac ')\n",
    "f_DD_reac = sympy.Function('f_DD_reac ')\n",
    "\n",
    "# Physics parameters?\n",
    "[mu,\n",
    " Z_eff,\n",
    " I_cooling,\n",
    " tau_alpha\n",
    "] = sympy.symbols('mu '\n",
    "                  'Z_eff '\n",
    "                  'I_cooling '\n",
    "                  'tau_alpha')"
   ]
  },
  {
   "cell_type": "code",
   "execution_count": 152,
   "id": "089e24c7",
   "metadata": {},
   "outputs": [],
   "source": [
    "class HashablePartial(partial):  # from https://github.com/google/jax/discussions/10868\n",
    "    \"\"\"\n",
    "    A class behaving like functools.partial, but that retains it's hash\n",
    "    if it's created with a lexically equivalent (the same) function and\n",
    "    with the same partially applied arguments and keywords.\n",
    "\n",
    "    It also stores the computed hash for faster hashing.\n",
    "    \"\"\"\n",
    "\n",
    "    # TODO remove when dropping support for Python < 3.10\n",
    "    def __new__(cls, func, *args, **keywords):\n",
    "        # In Python 3.10+ if func is itself a functools.partial instance,\n",
    "        # functools.partial.__new__ would merge the arguments of this HashablePartial\n",
    "        # instance with the arguments of the func\n",
    "        # Pre 3.10 this does not happen, so here we emulate this behaviour recursively\n",
    "        # This is necessary since functools.partial objects do not have a __code__\n",
    "        # property which we use for the hash\n",
    "        # For python 3.10+ we still need to take care of merging with another HashablePartial\n",
    "        while isinstance(\n",
    "            func, partial if sys.version_info < (3, 10) else HashablePartial\n",
    "        ):\n",
    "            original_func = func\n",
    "            func = original_func.func\n",
    "            args = original_func.args + args\n",
    "            keywords = {**original_func.keywords, **keywords}\n",
    "        return super(HashablePartial, cls).__new__(cls, func, *args, **keywords)\n",
    "\n",
    "    def __init__(self, *args, **kwargs):\n",
    "        self._hash = None\n",
    "\n",
    "    def __eq__(self, other):\n",
    "        return (\n",
    "            type(other) is HashablePartial\n",
    "            and self.func.__code__ == other.func.__code__\n",
    "            and self.args == other.args\n",
    "            and self.keywords == other.keywords\n",
    "        )\n",
    "\n",
    "    def __hash__(self):\n",
    "        if self._hash is None:\n",
    "            self._hash = hash(\n",
    "                (self.func.__code__, self.args, frozenset(self.keywords.items()))\n",
    "            )\n",
    "\n",
    "        return self._hash\n",
    "\n",
    "    def __repr__(self):\n",
    "        return f\"<hashable partial {self.func.__name__} with args={self.args} and kwargs={self.keywords}, hash={hash(self)}>\""
   ]
  },
  {
   "cell_type": "markdown",
   "id": "ce149289",
   "metadata": {},
   "source": [
    "## plug_in_values"
   ]
  },
  {
   "cell_type": "code",
   "execution_count": 236,
   "id": "31e5cdfe",
   "metadata": {},
   "outputs": [],
   "source": [
    "def sub_and_lambdify(equation, values_in, symbol_list_names=None):\n",
    "    eq_in = equation.copy()  # Copy so as not to modify the original function\n",
    "    eq_in = eq_in.subs(Ti, f_Ti(B_pm, B_p, p_aux, Eb))\n",
    "    eq_in = eq_in.subs(Te, f_Te(B_pm, B_p, p_aux, Eb))\n",
    "    eq_in = eq_in.subs(DD_reac, f_DD_reac(B_pm, B_p, p_aux, Eb))\n",
    "    eq_in = eq_in.subs(DT_reac, f_DT_reac(B_pm, B_p, p_aux, Eb))\n",
    "    jax_equation = (sympy.lambdify(list(eq_in.free_symbols), eq_in, [jnp, {'f_Ti': values_in['Ti'],\n",
    "                                                                                'f_Te': values_in['Te'],\n",
    "                                                                                'f_DD_reac': values_in['DD_reac'],\n",
    "                                                                                'f_DT_reac': values_in['DT_reac']}]))\n",
    "    # If we want to quickly solve for other quantities given Ti and Te, we just remove the dictionary above that calls the functions\n",
    "    #   for calculating Ti and Te (and the reactivities) and put the numbers into the values dictionary. Functions are substituted above\n",
    "    #   so we can calculate gradients all the way through the Ti and Te calculations for JAX\n",
    "    \n",
    "    arg_tuple = tuple(values_in[_.name] for _ in list(eq_in.free_symbols))  # Need to find position of arguments because it's not consistent run-to-run\n",
    "    arg_order = [_.name for _ in list(eq_in.free_symbols)]\n",
    "    \n",
    "    # Return the indicies so we can easily pass in values to the jax function when we're evaluting from a larger set of values. \n",
    "    #   Useful for calculating other quantities (e.g., temperatures) when optimizing for another one.\n",
    "    if symbol_list_names is not None:\n",
    "        arg_idx = jnp.array([symbol_list_names.index(arg_order[_]) for _ in range(len(arg_order))])\n",
    "    else: arg_idx = None\n",
    "    \n",
    "    return eq_in, jax_equation, arg_tuple, arg_idx\n",
    "\n",
    "def evaluate_lambdified_func(sympy_eq_in, jax_eq_in, arg_tuple):\n",
    "    return jax_eq_in(*arg_tuple)\n",
    "\n",
    "def plug_in_values(equation, values_in):\n",
    "    sympy_equation, jax_equation, arg_tuple, arg_idx = sub_and_lambdify(equation, values_in)\n",
    "    result = evaluate_lambdified_func(sympy_equation, jax_equation, arg_tuple)\n",
    "    return result"
   ]
  },
  {
   "cell_type": "markdown",
   "id": "aca775e2",
   "metadata": {},
   "source": [
    "## JAX variables to optimize for"
   ]
  },
  {
   "cell_type": "code",
   "execution_count": 9,
   "id": "564b4cf0",
   "metadata": {},
   "outputs": [],
   "source": [
    "values = {\n",
    "    'Eb': 1000.,\n",
    "    'beta': 0.8,\n",
    "    'B_pm': 30.,\n",
    "    'B_p': 6.,\n",
    "    'r_b': 0.25,\n",
    "    'L_p': 4.,\n",
    "    'p_aux': 0.0,  # this is in addition to synchotron losses (which are calculated separately)\n",
    "    'T_frac': 0.5,\n",
    "    \n",
    "    'mu': 2.5,\n",
    "    'Z_eff': 1,\n",
    "    'I_cooling': 0,\n",
    "    'tau_alpha': 0\n",
    "}"
   ]
  },
  {
   "cell_type": "markdown",
   "id": "5faa22a5",
   "metadata": {},
   "source": [
    "## Flags"
   ]
  },
  {
   "cell_type": "code",
   "execution_count": null,
   "id": "f6d316c0",
   "metadata": {},
   "outputs": [],
   "source": []
  },
  {
   "cell_type": "markdown",
   "id": "973e1b19",
   "metadata": {},
   "source": [
    "# Constants"
   ]
  },
  {
   "cell_type": "code",
   "execution_count": 10,
   "id": "6c107196",
   "metadata": {},
   "outputs": [],
   "source": [
    "E_alpha = 3.5  # MeV"
   ]
  },
  {
   "cell_type": "markdown",
   "id": "0d6de9de",
   "metadata": {},
   "source": [
    "# General formulae"
   ]
  },
  {
   "cell_type": "code",
   "execution_count": null,
   "id": "a1866aca",
   "metadata": {},
   "outputs": [],
   "source": []
  },
  {
   "cell_type": "markdown",
   "id": "a6fd1748",
   "metadata": {},
   "source": [
    "## Cross section / reactivity paramterization"
   ]
  },
  {
   "cell_type": "markdown",
   "id": "b6174800",
   "metadata": {},
   "source": [
    "Accepts: ion temperature in keV. Yields: reactivity in cm$^3$/s"
   ]
  },
  {
   "cell_type": "markdown",
   "id": "06e3ea84",
   "metadata": {},
   "source": [
    "These constants are valid for 0.2-100 keV (Maxwellian) ion temperatures. Verified correct to 4 decimal places for 0.2, 1, and 10 keV."
   ]
  },
  {
   "cell_type": "code",
   "execution_count": 11,
   "id": "8f99de64",
   "metadata": {},
   "outputs": [],
   "source": [
    "DT_BG = 34.3827 # keV^0.5\n",
    "DT_mrc2 = 1124656 # keV\n",
    "DT_C1 = 1.17302e-9\n",
    "DT_C2 = 1.51361e-2\n",
    "DT_C3 = 7.51886e-2\n",
    "DT_C4 = 4.60643e-3\n",
    "DT_C5 = 1.35e-2\n",
    "DT_C6 = -1.06750e-4\n",
    "DT_C7 = 1.366e-5"
   ]
  },
  {
   "cell_type": "code",
   "execution_count": 12,
   "id": "dc531b7b",
   "metadata": {},
   "outputs": [],
   "source": [
    "DD_pT_BG = 31.3970 # keV^0.5\n",
    "DD_pT_mrc2 = 937814 # keV\n",
    "DD_pT_C1 = 5.65718e-12\n",
    "DD_pT_C2 = 3.41267e-3\n",
    "DD_pT_C3 = 1.99167e-3\n",
    "DD_pT_C4 = 0\n",
    "DD_pT_C5 = 1.05060e-5\n",
    "DD_pT_C6 = 0\n",
    "DD_pT_C7 = 0"
   ]
  },
  {
   "cell_type": "code",
   "execution_count": 13,
   "id": "5045a628",
   "metadata": {},
   "outputs": [],
   "source": [
    "DD_nHe_BG = 31.3970 # keV^0.5\n",
    "DD_nHe_mrc2 = 937814 # keV\n",
    "DD_nHe_C1 = 5.43360e-12\n",
    "DD_nHe_C2 = 5.85778e-3\n",
    "DD_nHe_C3 = 7.68222e-3\n",
    "DD_nHe_C4 = 0\n",
    "DD_nHe_C5 = -2.96400e-6\n",
    "DD_nHe_C6 = 0\n",
    "DD_nHe_C7 = 0"
   ]
  },
  {
   "cell_type": "code",
   "execution_count": 14,
   "id": "46135845",
   "metadata": {},
   "outputs": [],
   "source": [
    "DT_theta = Ti / (1 -  Ti * (DT_C2 + Ti * (DT_C4 + Ti * DT_C6)) / (1 + Ti * (DT_C3 + Ti * (DT_C5 + Ti * DT_C7))))\n",
    "DT_xi = (DT_BG ** 2 / (4 * DT_theta)) ** (1/3)\n",
    "DT_reactivity = DT_C1 * DT_theta * (DT_xi / (DT_mrc2 * Ti ** 3)) ** 0.5 * sympy.E ** (-3 * DT_xi)"
   ]
  },
  {
   "cell_type": "code",
   "execution_count": 15,
   "id": "e0b74982",
   "metadata": {
    "scrolled": true
   },
   "outputs": [],
   "source": [
    "DD_pT_theta = Ti / (1 -  Ti * (DD_pT_C2 + Ti * (DD_pT_C4 + Ti * DD_pT_C6)) / (1 + Ti * (DD_pT_C3 + Ti * (DD_pT_C5 + Ti * DD_pT_C7))))\n",
    "DD_pT_xi = (DD_pT_BG ** 2 / (4 * DD_pT_theta)) ** (1/3)\n",
    "DD_pT_reactivity = DD_pT_C1 * DD_pT_theta * (DD_pT_xi / (DD_pT_mrc2 * Ti ** 3)) ** 0.5 * sympy.E ** (-3 * DD_pT_xi)"
   ]
  },
  {
   "cell_type": "code",
   "execution_count": 16,
   "id": "90b0843c",
   "metadata": {},
   "outputs": [],
   "source": [
    "DD_nHe_theta = Ti / (1 -  Ti * (DD_nHe_C2 + Ti * (DD_nHe_C4 + Ti * DD_nHe_C6)) / (1 + Ti * (DD_nHe_C3 + Ti * (DD_nHe_C5 + Ti * DD_nHe_C7))))\n",
    "DD_nHe_xi = (DD_nHe_BG ** 2 / (4 * DD_nHe_theta)) ** (1/3)\n",
    "DD_nHe_reactivity = DD_nHe_C1 * DD_nHe_theta * (DD_nHe_xi / (DD_nHe_mrc2 * Ti ** 3)) ** 0.5 * sympy.E ** (-3 * DD_nHe_xi)"
   ]
  },
  {
   "cell_type": "code",
   "execution_count": 17,
   "id": "5ae75165",
   "metadata": {},
   "outputs": [],
   "source": [
    "test_DD_nHe_theta = Ti / (1 -  Ti * (DD_nHe_C2 + Ti * (DD_nHe_C4 + Ti * DD_nHe_C6)) / (1 + Ti * (DD_nHe_C3 + Ti * (0.0 + Ti * DD_nHe_C7))))\n",
    "test_DD_nHe_xi = (DD_nHe_BG ** 2 / (4 * test_DD_nHe_theta)) ** (1/3)\n",
    "test_DD_nHe_reactivity = DD_nHe_C1 * test_DD_nHe_theta * (test_DD_nHe_xi / (DD_nHe_mrc2 * Ti ** 3)) ** 0.5 * sympy.E ** (-3 * test_DD_nHe_xi)"
   ]
  },
  {
   "cell_type": "code",
   "execution_count": 18,
   "id": "f692efed",
   "metadata": {},
   "outputs": [],
   "source": [
    "jax_DT_reactivity = sympy.lambdify(list(DT_reactivity.free_symbols), DT_reactivity, jax.numpy)\n",
    "jax_DD_pT_reactivity = sympy.lambdify(list(DD_pT_reactivity.free_symbols), DD_pT_reactivity, jax.numpy)\n",
    "jax_DD_nHe_reactivity = sympy.lambdify(list(DD_nHe_reactivity.free_symbols), DD_nHe_reactivity, jax.numpy)\n",
    "test_jax_DD_nHe_reactivity = sympy.lambdify(list(test_DD_nHe_reactivity.free_symbols), test_DD_nHe_reactivity, jax.numpy)"
   ]
  },
  {
   "cell_type": "markdown",
   "id": "5f9e796f",
   "metadata": {},
   "source": [
    "## Cross section via interpolation from NRL"
   ]
  },
  {
   "cell_type": "markdown",
   "id": "c1325264",
   "metadata": {},
   "source": [
    "polyfit (isn't good) -- not used"
   ]
  },
  {
   "cell_type": "code",
   "execution_count": 19,
   "id": "173ef165",
   "metadata": {},
   "outputs": [],
   "source": [
    "def calc_lin_reactivity(coefficients, x):\n",
    "    num_c = coefficients.shape[-1]\n",
    "    num_x = x.shape[0]\n",
    "    x_mat = 1 - jnp.triu(jnp.ones((num_c, num_c)))[jnp.newaxis, :, :].repeat(num_x, axis=0)\n",
    "    x_mat = x_mat * x.reshape(num_x, 1, 1)\n",
    "    x_mat = jnp.tri(num_c).transpose() + x_mat\n",
    "#     print(x_mat)\n",
    "    x = jnp.product(x_mat, axis=-2)\n",
    "    return jnp.sum(x*coefficients, axis=1)"
   ]
  },
  {
   "cell_type": "markdown",
   "id": "002038ed",
   "metadata": {},
   "source": [
    "Linearly interpolate between reactivity datapoints from the NRL formulary (in log-log space)"
   ]
  },
  {
   "cell_type": "code",
   "execution_count": 20,
   "id": "a129d9e7",
   "metadata": {},
   "outputs": [],
   "source": [
    "linear_reactivity_temps = jnp.array([1.0, 2.0, 5.0, 10.0, 20.0, 50.0, 100.0, 200.0, 500.0, 1000.0])\n",
    "linear_reactivity_DT = jnp.array([5.5e-21, 2.6e-19,  1.3e-17,  1.1e-16,  4.2e-16,  8.7e-16,  8.5e-16,  6.3e-16,  3.7e-16,  2.7e-16])\n",
    "linear_reactivity_DD = jnp.array([1.5e-22, 5.4e-21, 1.8e-19, 1.2e-18, 5.2e-18, 2.1e-17, 4.5e-17, 8.8e-17, 1.8e-16, 2.2e-16])\n",
    "linear_reactivity_DHe3 = jnp.array([1e-26, 1.4e-23, 6.7e-21, 2.3e-19, 3.8e-18, 5.4e-17, 1.6e-16, 2.4e-16, 2.3e-16, 1.8e-16])"
   ]
  },
  {
   "cell_type": "code",
   "execution_count": 21,
   "id": "5eca35c2",
   "metadata": {},
   "outputs": [],
   "source": [
    "lin_c = jnp.polyfit(linear_reactivity_temps, linear_reactivity_DD, deg=3)"
   ]
  },
  {
   "cell_type": "code",
   "execution_count": 206,
   "id": "a3941e94",
   "metadata": {},
   "outputs": [],
   "source": [
    "def calc_DT_reactivity_linear(Ti):\n",
    "    return jnp.e ** jnp.interp(jnp.log(Ti), jnp.log(linear_reactivity_temps), jnp.log(linear_reactivity_DT))\n",
    "\n",
    "def calc_DD_reactivity_linear(Ti):\n",
    "    return jnp.e ** jnp.interp(jnp.log(Ti), jnp.log(linear_reactivity_temps), jnp.log(linear_reactivity_DD))\n",
    "\n",
    "def calc_DHe3_reactivity_linear(Ti):\n",
    "    return jnp.e ** jnp.interp(jnp.log(Ti), jnp.log(linear_reactivity_temps), jnp.log(linear_reactivity_DHe3))"
   ]
  },
  {
   "cell_type": "markdown",
   "id": "49570ff9",
   "metadata": {},
   "source": [
    "## Cross section comparison"
   ]
  },
  {
   "cell_type": "code",
   "execution_count": 23,
   "id": "c1bbea1c",
   "metadata": {
    "scrolled": false
   },
   "outputs": [
    {
     "data": {
      "application/javascript": [
       "/* Put everything inside the global mpl namespace */\n",
       "/* global mpl */\n",
       "window.mpl = {};\n",
       "\n",
       "mpl.get_websocket_type = function () {\n",
       "    if (typeof WebSocket !== 'undefined') {\n",
       "        return WebSocket;\n",
       "    } else if (typeof MozWebSocket !== 'undefined') {\n",
       "        return MozWebSocket;\n",
       "    } else {\n",
       "        alert(\n",
       "            'Your browser does not have WebSocket support. ' +\n",
       "                'Please try Chrome, Safari or Firefox ≥ 6. ' +\n",
       "                'Firefox 4 and 5 are also supported but you ' +\n",
       "                'have to enable WebSockets in about:config.'\n",
       "        );\n",
       "    }\n",
       "};\n",
       "\n",
       "mpl.figure = function (figure_id, websocket, ondownload, parent_element) {\n",
       "    this.id = figure_id;\n",
       "\n",
       "    this.ws = websocket;\n",
       "\n",
       "    this.supports_binary = this.ws.binaryType !== undefined;\n",
       "\n",
       "    if (!this.supports_binary) {\n",
       "        var warnings = document.getElementById('mpl-warnings');\n",
       "        if (warnings) {\n",
       "            warnings.style.display = 'block';\n",
       "            warnings.textContent =\n",
       "                'This browser does not support binary websocket messages. ' +\n",
       "                'Performance may be slow.';\n",
       "        }\n",
       "    }\n",
       "\n",
       "    this.imageObj = new Image();\n",
       "\n",
       "    this.context = undefined;\n",
       "    this.message = undefined;\n",
       "    this.canvas = undefined;\n",
       "    this.rubberband_canvas = undefined;\n",
       "    this.rubberband_context = undefined;\n",
       "    this.format_dropdown = undefined;\n",
       "\n",
       "    this.image_mode = 'full';\n",
       "\n",
       "    this.root = document.createElement('div');\n",
       "    this.root.setAttribute('style', 'display: inline-block');\n",
       "    this._root_extra_style(this.root);\n",
       "\n",
       "    parent_element.appendChild(this.root);\n",
       "\n",
       "    this._init_header(this);\n",
       "    this._init_canvas(this);\n",
       "    this._init_toolbar(this);\n",
       "\n",
       "    var fig = this;\n",
       "\n",
       "    this.waiting = false;\n",
       "\n",
       "    this.ws.onopen = function () {\n",
       "        fig.send_message('supports_binary', { value: fig.supports_binary });\n",
       "        fig.send_message('send_image_mode', {});\n",
       "        if (fig.ratio !== 1) {\n",
       "            fig.send_message('set_device_pixel_ratio', {\n",
       "                device_pixel_ratio: fig.ratio,\n",
       "            });\n",
       "        }\n",
       "        fig.send_message('refresh', {});\n",
       "    };\n",
       "\n",
       "    this.imageObj.onload = function () {\n",
       "        if (fig.image_mode === 'full') {\n",
       "            // Full images could contain transparency (where diff images\n",
       "            // almost always do), so we need to clear the canvas so that\n",
       "            // there is no ghosting.\n",
       "            fig.context.clearRect(0, 0, fig.canvas.width, fig.canvas.height);\n",
       "        }\n",
       "        fig.context.drawImage(fig.imageObj, 0, 0);\n",
       "    };\n",
       "\n",
       "    this.imageObj.onunload = function () {\n",
       "        fig.ws.close();\n",
       "    };\n",
       "\n",
       "    this.ws.onmessage = this._make_on_message_function(this);\n",
       "\n",
       "    this.ondownload = ondownload;\n",
       "};\n",
       "\n",
       "mpl.figure.prototype._init_header = function () {\n",
       "    var titlebar = document.createElement('div');\n",
       "    titlebar.classList =\n",
       "        'ui-dialog-titlebar ui-widget-header ui-corner-all ui-helper-clearfix';\n",
       "    var titletext = document.createElement('div');\n",
       "    titletext.classList = 'ui-dialog-title';\n",
       "    titletext.setAttribute(\n",
       "        'style',\n",
       "        'width: 100%; text-align: center; padding: 3px;'\n",
       "    );\n",
       "    titlebar.appendChild(titletext);\n",
       "    this.root.appendChild(titlebar);\n",
       "    this.header = titletext;\n",
       "};\n",
       "\n",
       "mpl.figure.prototype._canvas_extra_style = function (_canvas_div) {};\n",
       "\n",
       "mpl.figure.prototype._root_extra_style = function (_canvas_div) {};\n",
       "\n",
       "mpl.figure.prototype._init_canvas = function () {\n",
       "    var fig = this;\n",
       "\n",
       "    var canvas_div = (this.canvas_div = document.createElement('div'));\n",
       "    canvas_div.setAttribute(\n",
       "        'style',\n",
       "        'border: 1px solid #ddd;' +\n",
       "            'box-sizing: content-box;' +\n",
       "            'clear: both;' +\n",
       "            'min-height: 1px;' +\n",
       "            'min-width: 1px;' +\n",
       "            'outline: 0;' +\n",
       "            'overflow: hidden;' +\n",
       "            'position: relative;' +\n",
       "            'resize: both;'\n",
       "    );\n",
       "\n",
       "    function on_keyboard_event_closure(name) {\n",
       "        return function (event) {\n",
       "            return fig.key_event(event, name);\n",
       "        };\n",
       "    }\n",
       "\n",
       "    canvas_div.addEventListener(\n",
       "        'keydown',\n",
       "        on_keyboard_event_closure('key_press')\n",
       "    );\n",
       "    canvas_div.addEventListener(\n",
       "        'keyup',\n",
       "        on_keyboard_event_closure('key_release')\n",
       "    );\n",
       "\n",
       "    this._canvas_extra_style(canvas_div);\n",
       "    this.root.appendChild(canvas_div);\n",
       "\n",
       "    var canvas = (this.canvas = document.createElement('canvas'));\n",
       "    canvas.classList.add('mpl-canvas');\n",
       "    canvas.setAttribute('style', 'box-sizing: content-box;');\n",
       "\n",
       "    this.context = canvas.getContext('2d');\n",
       "\n",
       "    var backingStore =\n",
       "        this.context.backingStorePixelRatio ||\n",
       "        this.context.webkitBackingStorePixelRatio ||\n",
       "        this.context.mozBackingStorePixelRatio ||\n",
       "        this.context.msBackingStorePixelRatio ||\n",
       "        this.context.oBackingStorePixelRatio ||\n",
       "        this.context.backingStorePixelRatio ||\n",
       "        1;\n",
       "\n",
       "    this.ratio = (window.devicePixelRatio || 1) / backingStore;\n",
       "\n",
       "    var rubberband_canvas = (this.rubberband_canvas = document.createElement(\n",
       "        'canvas'\n",
       "    ));\n",
       "    rubberband_canvas.setAttribute(\n",
       "        'style',\n",
       "        'box-sizing: content-box; position: absolute; left: 0; top: 0; z-index: 1;'\n",
       "    );\n",
       "\n",
       "    // Apply a ponyfill if ResizeObserver is not implemented by browser.\n",
       "    if (this.ResizeObserver === undefined) {\n",
       "        if (window.ResizeObserver !== undefined) {\n",
       "            this.ResizeObserver = window.ResizeObserver;\n",
       "        } else {\n",
       "            var obs = _JSXTOOLS_RESIZE_OBSERVER({});\n",
       "            this.ResizeObserver = obs.ResizeObserver;\n",
       "        }\n",
       "    }\n",
       "\n",
       "    this.resizeObserverInstance = new this.ResizeObserver(function (entries) {\n",
       "        var nentries = entries.length;\n",
       "        for (var i = 0; i < nentries; i++) {\n",
       "            var entry = entries[i];\n",
       "            var width, height;\n",
       "            if (entry.contentBoxSize) {\n",
       "                if (entry.contentBoxSize instanceof Array) {\n",
       "                    // Chrome 84 implements new version of spec.\n",
       "                    width = entry.contentBoxSize[0].inlineSize;\n",
       "                    height = entry.contentBoxSize[0].blockSize;\n",
       "                } else {\n",
       "                    // Firefox implements old version of spec.\n",
       "                    width = entry.contentBoxSize.inlineSize;\n",
       "                    height = entry.contentBoxSize.blockSize;\n",
       "                }\n",
       "            } else {\n",
       "                // Chrome <84 implements even older version of spec.\n",
       "                width = entry.contentRect.width;\n",
       "                height = entry.contentRect.height;\n",
       "            }\n",
       "\n",
       "            // Keep the size of the canvas and rubber band canvas in sync with\n",
       "            // the canvas container.\n",
       "            if (entry.devicePixelContentBoxSize) {\n",
       "                // Chrome 84 implements new version of spec.\n",
       "                canvas.setAttribute(\n",
       "                    'width',\n",
       "                    entry.devicePixelContentBoxSize[0].inlineSize\n",
       "                );\n",
       "                canvas.setAttribute(\n",
       "                    'height',\n",
       "                    entry.devicePixelContentBoxSize[0].blockSize\n",
       "                );\n",
       "            } else {\n",
       "                canvas.setAttribute('width', width * fig.ratio);\n",
       "                canvas.setAttribute('height', height * fig.ratio);\n",
       "            }\n",
       "            canvas.setAttribute(\n",
       "                'style',\n",
       "                'width: ' + width + 'px; height: ' + height + 'px;'\n",
       "            );\n",
       "\n",
       "            rubberband_canvas.setAttribute('width', width);\n",
       "            rubberband_canvas.setAttribute('height', height);\n",
       "\n",
       "            // And update the size in Python. We ignore the initial 0/0 size\n",
       "            // that occurs as the element is placed into the DOM, which should\n",
       "            // otherwise not happen due to the minimum size styling.\n",
       "            if (fig.ws.readyState == 1 && width != 0 && height != 0) {\n",
       "                fig.request_resize(width, height);\n",
       "            }\n",
       "        }\n",
       "    });\n",
       "    this.resizeObserverInstance.observe(canvas_div);\n",
       "\n",
       "    function on_mouse_event_closure(name) {\n",
       "        return function (event) {\n",
       "            return fig.mouse_event(event, name);\n",
       "        };\n",
       "    }\n",
       "\n",
       "    rubberband_canvas.addEventListener(\n",
       "        'mousedown',\n",
       "        on_mouse_event_closure('button_press')\n",
       "    );\n",
       "    rubberband_canvas.addEventListener(\n",
       "        'mouseup',\n",
       "        on_mouse_event_closure('button_release')\n",
       "    );\n",
       "    rubberband_canvas.addEventListener(\n",
       "        'dblclick',\n",
       "        on_mouse_event_closure('dblclick')\n",
       "    );\n",
       "    // Throttle sequential mouse events to 1 every 20ms.\n",
       "    rubberband_canvas.addEventListener(\n",
       "        'mousemove',\n",
       "        on_mouse_event_closure('motion_notify')\n",
       "    );\n",
       "\n",
       "    rubberband_canvas.addEventListener(\n",
       "        'mouseenter',\n",
       "        on_mouse_event_closure('figure_enter')\n",
       "    );\n",
       "    rubberband_canvas.addEventListener(\n",
       "        'mouseleave',\n",
       "        on_mouse_event_closure('figure_leave')\n",
       "    );\n",
       "\n",
       "    canvas_div.addEventListener('wheel', function (event) {\n",
       "        if (event.deltaY < 0) {\n",
       "            event.step = 1;\n",
       "        } else {\n",
       "            event.step = -1;\n",
       "        }\n",
       "        on_mouse_event_closure('scroll')(event);\n",
       "    });\n",
       "\n",
       "    canvas_div.appendChild(canvas);\n",
       "    canvas_div.appendChild(rubberband_canvas);\n",
       "\n",
       "    this.rubberband_context = rubberband_canvas.getContext('2d');\n",
       "    this.rubberband_context.strokeStyle = '#000000';\n",
       "\n",
       "    this._resize_canvas = function (width, height, forward) {\n",
       "        if (forward) {\n",
       "            canvas_div.style.width = width + 'px';\n",
       "            canvas_div.style.height = height + 'px';\n",
       "        }\n",
       "    };\n",
       "\n",
       "    // Disable right mouse context menu.\n",
       "    this.rubberband_canvas.addEventListener('contextmenu', function (_e) {\n",
       "        event.preventDefault();\n",
       "        return false;\n",
       "    });\n",
       "\n",
       "    function set_focus() {\n",
       "        canvas.focus();\n",
       "        canvas_div.focus();\n",
       "    }\n",
       "\n",
       "    window.setTimeout(set_focus, 100);\n",
       "};\n",
       "\n",
       "mpl.figure.prototype._init_toolbar = function () {\n",
       "    var fig = this;\n",
       "\n",
       "    var toolbar = document.createElement('div');\n",
       "    toolbar.classList = 'mpl-toolbar';\n",
       "    this.root.appendChild(toolbar);\n",
       "\n",
       "    function on_click_closure(name) {\n",
       "        return function (_event) {\n",
       "            return fig.toolbar_button_onclick(name);\n",
       "        };\n",
       "    }\n",
       "\n",
       "    function on_mouseover_closure(tooltip) {\n",
       "        return function (event) {\n",
       "            if (!event.currentTarget.disabled) {\n",
       "                return fig.toolbar_button_onmouseover(tooltip);\n",
       "            }\n",
       "        };\n",
       "    }\n",
       "\n",
       "    fig.buttons = {};\n",
       "    var buttonGroup = document.createElement('div');\n",
       "    buttonGroup.classList = 'mpl-button-group';\n",
       "    for (var toolbar_ind in mpl.toolbar_items) {\n",
       "        var name = mpl.toolbar_items[toolbar_ind][0];\n",
       "        var tooltip = mpl.toolbar_items[toolbar_ind][1];\n",
       "        var image = mpl.toolbar_items[toolbar_ind][2];\n",
       "        var method_name = mpl.toolbar_items[toolbar_ind][3];\n",
       "\n",
       "        if (!name) {\n",
       "            /* Instead of a spacer, we start a new button group. */\n",
       "            if (buttonGroup.hasChildNodes()) {\n",
       "                toolbar.appendChild(buttonGroup);\n",
       "            }\n",
       "            buttonGroup = document.createElement('div');\n",
       "            buttonGroup.classList = 'mpl-button-group';\n",
       "            continue;\n",
       "        }\n",
       "\n",
       "        var button = (fig.buttons[name] = document.createElement('button'));\n",
       "        button.classList = 'mpl-widget';\n",
       "        button.setAttribute('role', 'button');\n",
       "        button.setAttribute('aria-disabled', 'false');\n",
       "        button.addEventListener('click', on_click_closure(method_name));\n",
       "        button.addEventListener('mouseover', on_mouseover_closure(tooltip));\n",
       "\n",
       "        var icon_img = document.createElement('img');\n",
       "        icon_img.src = '_images/' + image + '.png';\n",
       "        icon_img.srcset = '_images/' + image + '_large.png 2x';\n",
       "        icon_img.alt = tooltip;\n",
       "        button.appendChild(icon_img);\n",
       "\n",
       "        buttonGroup.appendChild(button);\n",
       "    }\n",
       "\n",
       "    if (buttonGroup.hasChildNodes()) {\n",
       "        toolbar.appendChild(buttonGroup);\n",
       "    }\n",
       "\n",
       "    var fmt_picker = document.createElement('select');\n",
       "    fmt_picker.classList = 'mpl-widget';\n",
       "    toolbar.appendChild(fmt_picker);\n",
       "    this.format_dropdown = fmt_picker;\n",
       "\n",
       "    for (var ind in mpl.extensions) {\n",
       "        var fmt = mpl.extensions[ind];\n",
       "        var option = document.createElement('option');\n",
       "        option.selected = fmt === mpl.default_extension;\n",
       "        option.innerHTML = fmt;\n",
       "        fmt_picker.appendChild(option);\n",
       "    }\n",
       "\n",
       "    var status_bar = document.createElement('span');\n",
       "    status_bar.classList = 'mpl-message';\n",
       "    toolbar.appendChild(status_bar);\n",
       "    this.message = status_bar;\n",
       "};\n",
       "\n",
       "mpl.figure.prototype.request_resize = function (x_pixels, y_pixels) {\n",
       "    // Request matplotlib to resize the figure. Matplotlib will then trigger a resize in the client,\n",
       "    // which will in turn request a refresh of the image.\n",
       "    this.send_message('resize', { width: x_pixels, height: y_pixels });\n",
       "};\n",
       "\n",
       "mpl.figure.prototype.send_message = function (type, properties) {\n",
       "    properties['type'] = type;\n",
       "    properties['figure_id'] = this.id;\n",
       "    this.ws.send(JSON.stringify(properties));\n",
       "};\n",
       "\n",
       "mpl.figure.prototype.send_draw_message = function () {\n",
       "    if (!this.waiting) {\n",
       "        this.waiting = true;\n",
       "        this.ws.send(JSON.stringify({ type: 'draw', figure_id: this.id }));\n",
       "    }\n",
       "};\n",
       "\n",
       "mpl.figure.prototype.handle_save = function (fig, _msg) {\n",
       "    var format_dropdown = fig.format_dropdown;\n",
       "    var format = format_dropdown.options[format_dropdown.selectedIndex].value;\n",
       "    fig.ondownload(fig, format);\n",
       "};\n",
       "\n",
       "mpl.figure.prototype.handle_resize = function (fig, msg) {\n",
       "    var size = msg['size'];\n",
       "    if (size[0] !== fig.canvas.width || size[1] !== fig.canvas.height) {\n",
       "        fig._resize_canvas(size[0], size[1], msg['forward']);\n",
       "        fig.send_message('refresh', {});\n",
       "    }\n",
       "};\n",
       "\n",
       "mpl.figure.prototype.handle_rubberband = function (fig, msg) {\n",
       "    var x0 = msg['x0'] / fig.ratio;\n",
       "    var y0 = (fig.canvas.height - msg['y0']) / fig.ratio;\n",
       "    var x1 = msg['x1'] / fig.ratio;\n",
       "    var y1 = (fig.canvas.height - msg['y1']) / fig.ratio;\n",
       "    x0 = Math.floor(x0) + 0.5;\n",
       "    y0 = Math.floor(y0) + 0.5;\n",
       "    x1 = Math.floor(x1) + 0.5;\n",
       "    y1 = Math.floor(y1) + 0.5;\n",
       "    var min_x = Math.min(x0, x1);\n",
       "    var min_y = Math.min(y0, y1);\n",
       "    var width = Math.abs(x1 - x0);\n",
       "    var height = Math.abs(y1 - y0);\n",
       "\n",
       "    fig.rubberband_context.clearRect(\n",
       "        0,\n",
       "        0,\n",
       "        fig.canvas.width / fig.ratio,\n",
       "        fig.canvas.height / fig.ratio\n",
       "    );\n",
       "\n",
       "    fig.rubberband_context.strokeRect(min_x, min_y, width, height);\n",
       "};\n",
       "\n",
       "mpl.figure.prototype.handle_figure_label = function (fig, msg) {\n",
       "    // Updates the figure title.\n",
       "    fig.header.textContent = msg['label'];\n",
       "};\n",
       "\n",
       "mpl.figure.prototype.handle_cursor = function (fig, msg) {\n",
       "    fig.rubberband_canvas.style.cursor = msg['cursor'];\n",
       "};\n",
       "\n",
       "mpl.figure.prototype.handle_message = function (fig, msg) {\n",
       "    fig.message.textContent = msg['message'];\n",
       "};\n",
       "\n",
       "mpl.figure.prototype.handle_draw = function (fig, _msg) {\n",
       "    // Request the server to send over a new figure.\n",
       "    fig.send_draw_message();\n",
       "};\n",
       "\n",
       "mpl.figure.prototype.handle_image_mode = function (fig, msg) {\n",
       "    fig.image_mode = msg['mode'];\n",
       "};\n",
       "\n",
       "mpl.figure.prototype.handle_history_buttons = function (fig, msg) {\n",
       "    for (var key in msg) {\n",
       "        if (!(key in fig.buttons)) {\n",
       "            continue;\n",
       "        }\n",
       "        fig.buttons[key].disabled = !msg[key];\n",
       "        fig.buttons[key].setAttribute('aria-disabled', !msg[key]);\n",
       "    }\n",
       "};\n",
       "\n",
       "mpl.figure.prototype.handle_navigate_mode = function (fig, msg) {\n",
       "    if (msg['mode'] === 'PAN') {\n",
       "        fig.buttons['Pan'].classList.add('active');\n",
       "        fig.buttons['Zoom'].classList.remove('active');\n",
       "    } else if (msg['mode'] === 'ZOOM') {\n",
       "        fig.buttons['Pan'].classList.remove('active');\n",
       "        fig.buttons['Zoom'].classList.add('active');\n",
       "    } else {\n",
       "        fig.buttons['Pan'].classList.remove('active');\n",
       "        fig.buttons['Zoom'].classList.remove('active');\n",
       "    }\n",
       "};\n",
       "\n",
       "mpl.figure.prototype.updated_canvas_event = function () {\n",
       "    // Called whenever the canvas gets updated.\n",
       "    this.send_message('ack', {});\n",
       "};\n",
       "\n",
       "// A function to construct a web socket function for onmessage handling.\n",
       "// Called in the figure constructor.\n",
       "mpl.figure.prototype._make_on_message_function = function (fig) {\n",
       "    return function socket_on_message(evt) {\n",
       "        if (evt.data instanceof Blob) {\n",
       "            var img = evt.data;\n",
       "            if (img.type !== 'image/png') {\n",
       "                /* FIXME: We get \"Resource interpreted as Image but\n",
       "                 * transferred with MIME type text/plain:\" errors on\n",
       "                 * Chrome.  But how to set the MIME type?  It doesn't seem\n",
       "                 * to be part of the websocket stream */\n",
       "                img.type = 'image/png';\n",
       "            }\n",
       "\n",
       "            /* Free the memory for the previous frames */\n",
       "            if (fig.imageObj.src) {\n",
       "                (window.URL || window.webkitURL).revokeObjectURL(\n",
       "                    fig.imageObj.src\n",
       "                );\n",
       "            }\n",
       "\n",
       "            fig.imageObj.src = (window.URL || window.webkitURL).createObjectURL(\n",
       "                img\n",
       "            );\n",
       "            fig.updated_canvas_event();\n",
       "            fig.waiting = false;\n",
       "            return;\n",
       "        } else if (\n",
       "            typeof evt.data === 'string' &&\n",
       "            evt.data.slice(0, 21) === 'data:image/png;base64'\n",
       "        ) {\n",
       "            fig.imageObj.src = evt.data;\n",
       "            fig.updated_canvas_event();\n",
       "            fig.waiting = false;\n",
       "            return;\n",
       "        }\n",
       "\n",
       "        var msg = JSON.parse(evt.data);\n",
       "        var msg_type = msg['type'];\n",
       "\n",
       "        // Call the  \"handle_{type}\" callback, which takes\n",
       "        // the figure and JSON message as its only arguments.\n",
       "        try {\n",
       "            var callback = fig['handle_' + msg_type];\n",
       "        } catch (e) {\n",
       "            console.log(\n",
       "                \"No handler for the '\" + msg_type + \"' message type: \",\n",
       "                msg\n",
       "            );\n",
       "            return;\n",
       "        }\n",
       "\n",
       "        if (callback) {\n",
       "            try {\n",
       "                // console.log(\"Handling '\" + msg_type + \"' message: \", msg);\n",
       "                callback(fig, msg);\n",
       "            } catch (e) {\n",
       "                console.log(\n",
       "                    \"Exception inside the 'handler_\" + msg_type + \"' callback:\",\n",
       "                    e,\n",
       "                    e.stack,\n",
       "                    msg\n",
       "                );\n",
       "            }\n",
       "        }\n",
       "    };\n",
       "};\n",
       "\n",
       "// from https://stackoverflow.com/questions/1114465/getting-mouse-location-in-canvas\n",
       "mpl.findpos = function (e) {\n",
       "    //this section is from http://www.quirksmode.org/js/events_properties.html\n",
       "    var targ;\n",
       "    if (!e) {\n",
       "        e = window.event;\n",
       "    }\n",
       "    if (e.target) {\n",
       "        targ = e.target;\n",
       "    } else if (e.srcElement) {\n",
       "        targ = e.srcElement;\n",
       "    }\n",
       "    if (targ.nodeType === 3) {\n",
       "        // defeat Safari bug\n",
       "        targ = targ.parentNode;\n",
       "    }\n",
       "\n",
       "    // pageX,Y are the mouse positions relative to the document\n",
       "    var boundingRect = targ.getBoundingClientRect();\n",
       "    var x = e.pageX - (boundingRect.left + document.body.scrollLeft);\n",
       "    var y = e.pageY - (boundingRect.top + document.body.scrollTop);\n",
       "\n",
       "    return { x: x, y: y };\n",
       "};\n",
       "\n",
       "/*\n",
       " * return a copy of an object with only non-object keys\n",
       " * we need this to avoid circular references\n",
       " * https://stackoverflow.com/a/24161582/3208463\n",
       " */\n",
       "function simpleKeys(original) {\n",
       "    return Object.keys(original).reduce(function (obj, key) {\n",
       "        if (typeof original[key] !== 'object') {\n",
       "            obj[key] = original[key];\n",
       "        }\n",
       "        return obj;\n",
       "    }, {});\n",
       "}\n",
       "\n",
       "mpl.figure.prototype.mouse_event = function (event, name) {\n",
       "    var canvas_pos = mpl.findpos(event);\n",
       "\n",
       "    if (name === 'button_press') {\n",
       "        this.canvas.focus();\n",
       "        this.canvas_div.focus();\n",
       "    }\n",
       "\n",
       "    var x = canvas_pos.x * this.ratio;\n",
       "    var y = canvas_pos.y * this.ratio;\n",
       "\n",
       "    this.send_message(name, {\n",
       "        x: x,\n",
       "        y: y,\n",
       "        button: event.button,\n",
       "        step: event.step,\n",
       "        guiEvent: simpleKeys(event),\n",
       "    });\n",
       "\n",
       "    /* This prevents the web browser from automatically changing to\n",
       "     * the text insertion cursor when the button is pressed.  We want\n",
       "     * to control all of the cursor setting manually through the\n",
       "     * 'cursor' event from matplotlib */\n",
       "    event.preventDefault();\n",
       "    return false;\n",
       "};\n",
       "\n",
       "mpl.figure.prototype._key_event_extra = function (_event, _name) {\n",
       "    // Handle any extra behaviour associated with a key event\n",
       "};\n",
       "\n",
       "mpl.figure.prototype.key_event = function (event, name) {\n",
       "    // Prevent repeat events\n",
       "    if (name === 'key_press') {\n",
       "        if (event.key === this._key) {\n",
       "            return;\n",
       "        } else {\n",
       "            this._key = event.key;\n",
       "        }\n",
       "    }\n",
       "    if (name === 'key_release') {\n",
       "        this._key = null;\n",
       "    }\n",
       "\n",
       "    var value = '';\n",
       "    if (event.ctrlKey && event.key !== 'Control') {\n",
       "        value += 'ctrl+';\n",
       "    }\n",
       "    else if (event.altKey && event.key !== 'Alt') {\n",
       "        value += 'alt+';\n",
       "    }\n",
       "    else if (event.shiftKey && event.key !== 'Shift') {\n",
       "        value += 'shift+';\n",
       "    }\n",
       "\n",
       "    value += 'k' + event.key;\n",
       "\n",
       "    this._key_event_extra(event, name);\n",
       "\n",
       "    this.send_message(name, { key: value, guiEvent: simpleKeys(event) });\n",
       "    return false;\n",
       "};\n",
       "\n",
       "mpl.figure.prototype.toolbar_button_onclick = function (name) {\n",
       "    if (name === 'download') {\n",
       "        this.handle_save(this, null);\n",
       "    } else {\n",
       "        this.send_message('toolbar_button', { name: name });\n",
       "    }\n",
       "};\n",
       "\n",
       "mpl.figure.prototype.toolbar_button_onmouseover = function (tooltip) {\n",
       "    this.message.textContent = tooltip;\n",
       "};\n",
       "\n",
       "///////////////// REMAINING CONTENT GENERATED BY embed_js.py /////////////////\n",
       "// prettier-ignore\n",
       "var _JSXTOOLS_RESIZE_OBSERVER=function(A){var t,i=new WeakMap,n=new WeakMap,a=new WeakMap,r=new WeakMap,o=new Set;function s(e){if(!(this instanceof s))throw new TypeError(\"Constructor requires 'new' operator\");i.set(this,e)}function h(){throw new TypeError(\"Function is not a constructor\")}function c(e,t,i,n){e=0 in arguments?Number(arguments[0]):0,t=1 in arguments?Number(arguments[1]):0,i=2 in arguments?Number(arguments[2]):0,n=3 in arguments?Number(arguments[3]):0,this.right=(this.x=this.left=e)+(this.width=i),this.bottom=(this.y=this.top=t)+(this.height=n),Object.freeze(this)}function d(){t=requestAnimationFrame(d);var s=new WeakMap,p=new Set;o.forEach((function(t){r.get(t).forEach((function(i){var r=t instanceof window.SVGElement,o=a.get(t),d=r?0:parseFloat(o.paddingTop),f=r?0:parseFloat(o.paddingRight),l=r?0:parseFloat(o.paddingBottom),u=r?0:parseFloat(o.paddingLeft),g=r?0:parseFloat(o.borderTopWidth),m=r?0:parseFloat(o.borderRightWidth),w=r?0:parseFloat(o.borderBottomWidth),b=u+f,F=d+l,v=(r?0:parseFloat(o.borderLeftWidth))+m,W=g+w,y=r?0:t.offsetHeight-W-t.clientHeight,E=r?0:t.offsetWidth-v-t.clientWidth,R=b+v,z=F+W,M=r?t.width:parseFloat(o.width)-R-E,O=r?t.height:parseFloat(o.height)-z-y;if(n.has(t)){var k=n.get(t);if(k[0]===M&&k[1]===O)return}n.set(t,[M,O]);var S=Object.create(h.prototype);S.target=t,S.contentRect=new c(u,d,M,O),s.has(i)||(s.set(i,[]),p.add(i)),s.get(i).push(S)}))})),p.forEach((function(e){i.get(e).call(e,s.get(e),e)}))}return s.prototype.observe=function(i){if(i instanceof window.Element){r.has(i)||(r.set(i,new Set),o.add(i),a.set(i,window.getComputedStyle(i)));var n=r.get(i);n.has(this)||n.add(this),cancelAnimationFrame(t),t=requestAnimationFrame(d)}},s.prototype.unobserve=function(i){if(i instanceof window.Element&&r.has(i)){var n=r.get(i);n.has(this)&&(n.delete(this),n.size||(r.delete(i),o.delete(i))),n.size||r.delete(i),o.size||cancelAnimationFrame(t)}},A.DOMRectReadOnly=c,A.ResizeObserver=s,A.ResizeObserverEntry=h,A}; // eslint-disable-line\n",
       "mpl.toolbar_items = [[\"Home\", \"Reset original view\", \"fa fa-home icon-home\", \"home\"], [\"Back\", \"Back to previous view\", \"fa fa-arrow-left icon-arrow-left\", \"back\"], [\"Forward\", \"Forward to next view\", \"fa fa-arrow-right icon-arrow-right\", \"forward\"], [\"\", \"\", \"\", \"\"], [\"Pan\", \"Left button pans, Right button zooms\\nx/y fixes axis, CTRL fixes aspect\", \"fa fa-arrows icon-move\", \"pan\"], [\"Zoom\", \"Zoom to rectangle\\nx/y fixes axis\", \"fa fa-square-o icon-check-empty\", \"zoom\"], [\"\", \"\", \"\", \"\"], [\"Download\", \"Download plot\", \"fa fa-floppy-o icon-save\", \"download\"]];\n",
       "\n",
       "mpl.extensions = [\"eps\", \"jpeg\", \"pgf\", \"pdf\", \"png\", \"ps\", \"raw\", \"svg\", \"tif\"];\n",
       "\n",
       "mpl.default_extension = \"png\";/* global mpl */\n",
       "\n",
       "var comm_websocket_adapter = function (comm) {\n",
       "    // Create a \"websocket\"-like object which calls the given IPython comm\n",
       "    // object with the appropriate methods. Currently this is a non binary\n",
       "    // socket, so there is still some room for performance tuning.\n",
       "    var ws = {};\n",
       "\n",
       "    ws.binaryType = comm.kernel.ws.binaryType;\n",
       "    ws.readyState = comm.kernel.ws.readyState;\n",
       "    function updateReadyState(_event) {\n",
       "        if (comm.kernel.ws) {\n",
       "            ws.readyState = comm.kernel.ws.readyState;\n",
       "        } else {\n",
       "            ws.readyState = 3; // Closed state.\n",
       "        }\n",
       "    }\n",
       "    comm.kernel.ws.addEventListener('open', updateReadyState);\n",
       "    comm.kernel.ws.addEventListener('close', updateReadyState);\n",
       "    comm.kernel.ws.addEventListener('error', updateReadyState);\n",
       "\n",
       "    ws.close = function () {\n",
       "        comm.close();\n",
       "    };\n",
       "    ws.send = function (m) {\n",
       "        //console.log('sending', m);\n",
       "        comm.send(m);\n",
       "    };\n",
       "    // Register the callback with on_msg.\n",
       "    comm.on_msg(function (msg) {\n",
       "        //console.log('receiving', msg['content']['data'], msg);\n",
       "        var data = msg['content']['data'];\n",
       "        if (data['blob'] !== undefined) {\n",
       "            data = {\n",
       "                data: new Blob(msg['buffers'], { type: data['blob'] }),\n",
       "            };\n",
       "        }\n",
       "        // Pass the mpl event to the overridden (by mpl) onmessage function.\n",
       "        ws.onmessage(data);\n",
       "    });\n",
       "    return ws;\n",
       "};\n",
       "\n",
       "mpl.mpl_figure_comm = function (comm, msg) {\n",
       "    // This is the function which gets called when the mpl process\n",
       "    // starts-up an IPython Comm through the \"matplotlib\" channel.\n",
       "\n",
       "    var id = msg.content.data.id;\n",
       "    // Get hold of the div created by the display call when the Comm\n",
       "    // socket was opened in Python.\n",
       "    var element = document.getElementById(id);\n",
       "    var ws_proxy = comm_websocket_adapter(comm);\n",
       "\n",
       "    function ondownload(figure, _format) {\n",
       "        window.open(figure.canvas.toDataURL());\n",
       "    }\n",
       "\n",
       "    var fig = new mpl.figure(id, ws_proxy, ondownload, element);\n",
       "\n",
       "    // Call onopen now - mpl needs it, as it is assuming we've passed it a real\n",
       "    // web socket which is closed, not our websocket->open comm proxy.\n",
       "    ws_proxy.onopen();\n",
       "\n",
       "    fig.parent_element = element;\n",
       "    fig.cell_info = mpl.find_output_cell(\"<div id='\" + id + \"'></div>\");\n",
       "    if (!fig.cell_info) {\n",
       "        console.error('Failed to find cell for figure', id, fig);\n",
       "        return;\n",
       "    }\n",
       "    fig.cell_info[0].output_area.element.on(\n",
       "        'cleared',\n",
       "        { fig: fig },\n",
       "        fig._remove_fig_handler\n",
       "    );\n",
       "};\n",
       "\n",
       "mpl.figure.prototype.handle_close = function (fig, msg) {\n",
       "    var width = fig.canvas.width / fig.ratio;\n",
       "    fig.cell_info[0].output_area.element.off(\n",
       "        'cleared',\n",
       "        fig._remove_fig_handler\n",
       "    );\n",
       "    fig.resizeObserverInstance.unobserve(fig.canvas_div);\n",
       "\n",
       "    // Update the output cell to use the data from the current canvas.\n",
       "    fig.push_to_output();\n",
       "    var dataURL = fig.canvas.toDataURL();\n",
       "    // Re-enable the keyboard manager in IPython - without this line, in FF,\n",
       "    // the notebook keyboard shortcuts fail.\n",
       "    IPython.keyboard_manager.enable();\n",
       "    fig.parent_element.innerHTML =\n",
       "        '<img src=\"' + dataURL + '\" width=\"' + width + '\">';\n",
       "    fig.close_ws(fig, msg);\n",
       "};\n",
       "\n",
       "mpl.figure.prototype.close_ws = function (fig, msg) {\n",
       "    fig.send_message('closing', msg);\n",
       "    // fig.ws.close()\n",
       "};\n",
       "\n",
       "mpl.figure.prototype.push_to_output = function (_remove_interactive) {\n",
       "    // Turn the data on the canvas into data in the output cell.\n",
       "    var width = this.canvas.width / this.ratio;\n",
       "    var dataURL = this.canvas.toDataURL();\n",
       "    this.cell_info[1]['text/html'] =\n",
       "        '<img src=\"' + dataURL + '\" width=\"' + width + '\">';\n",
       "};\n",
       "\n",
       "mpl.figure.prototype.updated_canvas_event = function () {\n",
       "    // Tell IPython that the notebook contents must change.\n",
       "    IPython.notebook.set_dirty(true);\n",
       "    this.send_message('ack', {});\n",
       "    var fig = this;\n",
       "    // Wait a second, then push the new image to the DOM so\n",
       "    // that it is saved nicely (might be nice to debounce this).\n",
       "    setTimeout(function () {\n",
       "        fig.push_to_output();\n",
       "    }, 1000);\n",
       "};\n",
       "\n",
       "mpl.figure.prototype._init_toolbar = function () {\n",
       "    var fig = this;\n",
       "\n",
       "    var toolbar = document.createElement('div');\n",
       "    toolbar.classList = 'btn-toolbar';\n",
       "    this.root.appendChild(toolbar);\n",
       "\n",
       "    function on_click_closure(name) {\n",
       "        return function (_event) {\n",
       "            return fig.toolbar_button_onclick(name);\n",
       "        };\n",
       "    }\n",
       "\n",
       "    function on_mouseover_closure(tooltip) {\n",
       "        return function (event) {\n",
       "            if (!event.currentTarget.disabled) {\n",
       "                return fig.toolbar_button_onmouseover(tooltip);\n",
       "            }\n",
       "        };\n",
       "    }\n",
       "\n",
       "    fig.buttons = {};\n",
       "    var buttonGroup = document.createElement('div');\n",
       "    buttonGroup.classList = 'btn-group';\n",
       "    var button;\n",
       "    for (var toolbar_ind in mpl.toolbar_items) {\n",
       "        var name = mpl.toolbar_items[toolbar_ind][0];\n",
       "        var tooltip = mpl.toolbar_items[toolbar_ind][1];\n",
       "        var image = mpl.toolbar_items[toolbar_ind][2];\n",
       "        var method_name = mpl.toolbar_items[toolbar_ind][3];\n",
       "\n",
       "        if (!name) {\n",
       "            /* Instead of a spacer, we start a new button group. */\n",
       "            if (buttonGroup.hasChildNodes()) {\n",
       "                toolbar.appendChild(buttonGroup);\n",
       "            }\n",
       "            buttonGroup = document.createElement('div');\n",
       "            buttonGroup.classList = 'btn-group';\n",
       "            continue;\n",
       "        }\n",
       "\n",
       "        button = fig.buttons[name] = document.createElement('button');\n",
       "        button.classList = 'btn btn-default';\n",
       "        button.href = '#';\n",
       "        button.title = name;\n",
       "        button.innerHTML = '<i class=\"fa ' + image + ' fa-lg\"></i>';\n",
       "        button.addEventListener('click', on_click_closure(method_name));\n",
       "        button.addEventListener('mouseover', on_mouseover_closure(tooltip));\n",
       "        buttonGroup.appendChild(button);\n",
       "    }\n",
       "\n",
       "    if (buttonGroup.hasChildNodes()) {\n",
       "        toolbar.appendChild(buttonGroup);\n",
       "    }\n",
       "\n",
       "    // Add the status bar.\n",
       "    var status_bar = document.createElement('span');\n",
       "    status_bar.classList = 'mpl-message pull-right';\n",
       "    toolbar.appendChild(status_bar);\n",
       "    this.message = status_bar;\n",
       "\n",
       "    // Add the close button to the window.\n",
       "    var buttongrp = document.createElement('div');\n",
       "    buttongrp.classList = 'btn-group inline pull-right';\n",
       "    button = document.createElement('button');\n",
       "    button.classList = 'btn btn-mini btn-primary';\n",
       "    button.href = '#';\n",
       "    button.title = 'Stop Interaction';\n",
       "    button.innerHTML = '<i class=\"fa fa-power-off icon-remove icon-large\"></i>';\n",
       "    button.addEventListener('click', function (_evt) {\n",
       "        fig.handle_close(fig, {});\n",
       "    });\n",
       "    button.addEventListener(\n",
       "        'mouseover',\n",
       "        on_mouseover_closure('Stop Interaction')\n",
       "    );\n",
       "    buttongrp.appendChild(button);\n",
       "    var titlebar = this.root.querySelector('.ui-dialog-titlebar');\n",
       "    titlebar.insertBefore(buttongrp, titlebar.firstChild);\n",
       "};\n",
       "\n",
       "mpl.figure.prototype._remove_fig_handler = function (event) {\n",
       "    var fig = event.data.fig;\n",
       "    if (event.target !== this) {\n",
       "        // Ignore bubbled events from children.\n",
       "        return;\n",
       "    }\n",
       "    fig.close_ws(fig, {});\n",
       "};\n",
       "\n",
       "mpl.figure.prototype._root_extra_style = function (el) {\n",
       "    el.style.boxSizing = 'content-box'; // override notebook setting of border-box.\n",
       "};\n",
       "\n",
       "mpl.figure.prototype._canvas_extra_style = function (el) {\n",
       "    // this is important to make the div 'focusable\n",
       "    el.setAttribute('tabindex', 0);\n",
       "    // reach out to IPython and tell the keyboard manager to turn it's self\n",
       "    // off when our div gets focus\n",
       "\n",
       "    // location in version 3\n",
       "    if (IPython.notebook.keyboard_manager) {\n",
       "        IPython.notebook.keyboard_manager.register_events(el);\n",
       "    } else {\n",
       "        // location in version 2\n",
       "        IPython.keyboard_manager.register_events(el);\n",
       "    }\n",
       "};\n",
       "\n",
       "mpl.figure.prototype._key_event_extra = function (event, _name) {\n",
       "    // Check for shift+enter\n",
       "    if (event.shiftKey && event.which === 13) {\n",
       "        this.canvas_div.blur();\n",
       "        // select the cell after this one\n",
       "        var index = IPython.notebook.find_cell_index(this.cell_info[0]);\n",
       "        IPython.notebook.select(index + 1);\n",
       "    }\n",
       "};\n",
       "\n",
       "mpl.figure.prototype.handle_save = function (fig, _msg) {\n",
       "    fig.ondownload(fig, null);\n",
       "};\n",
       "\n",
       "mpl.find_output_cell = function (html_output) {\n",
       "    // Return the cell and output element which can be found *uniquely* in the notebook.\n",
       "    // Note - this is a bit hacky, but it is done because the \"notebook_saving.Notebook\"\n",
       "    // IPython event is triggered only after the cells have been serialised, which for\n",
       "    // our purposes (turning an active figure into a static one), is too late.\n",
       "    var cells = IPython.notebook.get_cells();\n",
       "    var ncells = cells.length;\n",
       "    for (var i = 0; i < ncells; i++) {\n",
       "        var cell = cells[i];\n",
       "        if (cell.cell_type === 'code') {\n",
       "            for (var j = 0; j < cell.output_area.outputs.length; j++) {\n",
       "                var data = cell.output_area.outputs[j];\n",
       "                if (data.data) {\n",
       "                    // IPython >= 3 moved mimebundle to data attribute of output\n",
       "                    data = data.data;\n",
       "                }\n",
       "                if (data['text/html'] === html_output) {\n",
       "                    return [cell, data, j];\n",
       "                }\n",
       "            }\n",
       "        }\n",
       "    }\n",
       "};\n",
       "\n",
       "// Register the function which deals with the matplotlib target/channel.\n",
       "// The kernel may be null if the page has been refreshed.\n",
       "if (IPython.notebook.kernel !== null) {\n",
       "    IPython.notebook.kernel.comm_manager.register_target(\n",
       "        'matplotlib',\n",
       "        mpl.mpl_figure_comm\n",
       "    );\n",
       "}\n"
      ],
      "text/plain": [
       "<IPython.core.display.Javascript object>"
      ]
     },
     "metadata": {},
     "output_type": "display_data"
    },
    {
     "data": {
      "text/html": [
       "<img src=\"data:image/png;base64,iVBORw0KGgoAAAANSUhEUgAAAoAAAAHgCAYAAAA10dzkAAAAAXNSR0IArs4c6QAAAERlWElmTU0AKgAAAAgAAYdpAAQAAAABAAAAGgAAAAAAA6ABAAMAAAABAAEAAKACAAQAAAABAAACgKADAAQAAAABAAAB4AAAAAAfNMscAABAAElEQVR4AeydB3yUVfb+n/ReSEIKJYQOoVcp0juCoqKoq4CCZdfuurZdC+6qawX5Ca6uq+gf17UhIL1Jb9J7DzWBQICQ3v/33GEmM2kkM5Nkknmun5d5y733fe/3HZMn595zjkuBKmAhARIgARIgARIgARJwGgKuTjNSDpQESIAESIAESIAESEAToADkF4EESIAESIAESIAEnIwABaCTvXAOlwRIgARIgARIgAQoAPkdIAESIAESIAESIAEnI0AB6GQvnMMlARIgARIgARIgAQpAfgdIgARIgARIgARIwMkIUAA62QvncEmABEiABEiABEiAApDfARIgARIgARIgARJwMgIUgE72wjlcEiABEiABEiABEqAA5HeABEiABEiABEiABJyMAAWgk71wDpcESIAESIAESIAEKAD5HSABEiABEiABEiABJyNAAehkL5zDJQESIAESIAESIAEKQH4HSIAESIAESIAESMDJCFAAOtkL53BJgARIgARIgARIgAKQ3wESIAESIAESIAEScDICFIBO9sI5XBIgARIgARIgARKgAOR3gARIgARIgARIgAScjAAFoJO9cA6XBEiABEiABEiABCgA+R0gARIgARIgARIgAScjQAHoZC+cwyUBEiABEiABEiABCkB+B0iABEiABEiABEjAyQhQADrZC+dwSYAESIAESIAESIACkN8BEiABEiABEiABEnAyAhSATvbCOVwSIAESIAESIAESoADkd4AESIAESIAESIAEnIwABaCTvXAOlwRIgARIgARIgAQoAPkdIAESIAESIAESIAEnI0AB6GQvnMMlARIgARIgARIgAQpAfgdIgARIgARIgARIwMkIUAA62QvncEmABEiABEiABEiAApDfARIgARIgARIgARJwMgIUgE72wjlcEiABEiABEiABEqAA5HeABEiABEiABEiABJyMAAWgk71wDpcESIAESIAESIAEKAD5HSABEiABEiABEiABJyNAAehkL5zDJQESIAESIAESIAEKQH4HSIAESIAESIAESMDJCFAAOtkL53BJgARIgARIgARIgAKQ3wESIAESIAESIAEScDICFIBO9sI5XBIgARIgARIgARKgAOR3gARIgARIgARIgAScjAAFoJO9cA6XBEiABEiABEiABCgA+R0gARIgARIgARIgAScjQAHoZC+cwyUBEiABEiABEiABCkB+B0iABEiABEiABEjAyQhQADrZC+dwSYAESIAESIAESIACkN8BEiABEiABEiABEnAyAhSATvbCOVwSIAESIAESIAESoADkd4AESIAESIAESIAEnIwABaCTvXAOlwRIgARIgARIgAQoAPkdIAESIAESIAESIAEnI0AB6GQvnMMlARIgARIgARIgAQpAfgdIgARIgARIgARIwMkIUAA62QvncEmABEiABEiABEiAApDfARIgARIgARIgARJwMgLuTjZeuw43Pz8f8fHxCAgIgIuLi137ZmckQAIkQAIkQAKVQ6CgoAApKSmoV68eXF2d0xZGAWjDd0vEX8OGDW3ogU1JgARIgARIgASqi8CZM2fQoEGD6rp9td6XAtAG/GL5kyJfoMDAQBt6YlMSIAESIAESIIGqInDt2jVtwDH+Hq+q+zrSfSgAbXgbxmlfEX8UgDaAZFMSIAESIAESqAYCxt/j1XDrar+lc05824h9xowZiI2NRbdu3Wzsic1JgARIgARIgARIoOoJuKiFkAVVf9vacUcxIQcFBSE5OZkWwNrxSjkKEiABEiABJyDA398ALYBO8EXnEEmABEiABEiABEjAnADXAJrTqIR9MbDm5uYiLy+vEnpnl85KwMPDA25ubs46fI6bBEiABEjARgIUgDYCLKt5dnY2EhISkJ6eXlY1XiOBChOQhcsSusDf37/CbdmABEiABEiABCgAK+k7IEGi4+LitJVGAk16enoyWHQlsXa2bsWqfPHiRZw9exbNmzenJdDZvgAcLwmQAAnYgQAFoBUQxQtYtrKmdcX6JyJQAkX7+vpacRc2IYHSCdStWxcnT55ETk4OBWDpmHiFBEiABEigFAJ0AikFTFmnH3/8cRw4cAC///57WdX0NWdNMXNDMKxgEwFnjl1lEzg2JgESIAES0AQoAPlFIAESIAESIAESIAEnI0AB6GQv3JGGe/jwYURGRuqE3I70XNX9LM8//zyeeuqp6n4M3p8ESIAESKAWE6AArMUv15qhTZw4UTuryBSjhBqJiIjAkCFD8OWXX+o1jeZ9xsTEmOr6+PhAju+++26sWrXKvFqp+3/9618h0+nlzcXYv39/0/3k+Ypucv/KKKtXr9b3unr1arHu5Z7Tpk0rdr60E+vXr0fv3r0RGhoKYdaqVStMnTrVovoLL7yAr776SjsRWVzgAQmQAAmQAAnYiQAFoJ1A1qZuhg8frsPXiJPB4sWLMWDAADz99NMYNWqUjmloPtY333xT1xVr3jfffIPg4GAMHjwYb731lnm1YvviwTp//nw8+OCDxa6VdmLOnDn6XhJaZ+vWrbraihUrTOdKW5MpIk1EnCMUPz8/PPHEE1i7di0OHjyIv/3tb3r7/PPPTY8XHh6OoUOH4l//+pfpHHdIgARIgARIwJ4EKADtSbOW9OXl5aWnZuvXr4/OnTvjlVdewbx587QYnDVrlsUoxXon07jR0dHo27cvRMi8+uqreO211yCisLTyww8/oEOHDjqWnbGO9C0Ccu7cuWjRogW8vb219fHMmTO6SkhIiL6X3E+8YKWIJU2Ozc/pC+X8R0SuWBJFXIrQFY9tea5NmzaVswfLapIW8JFHHoGIuMDAQAwcOBC7d+82VerUqRPuvfdetGnTBiJM77//fgwbNgzr1q0z1ZGdW2+9Fd99953FOR6QAAmQQG0lkJubhy+mvY6vfpyD9Mys2jpMhxoXBWAVvg6J35aenVvlmz3SPYuQEWEkQulGRayFck8RjaUVsYB17dq12GUJmi3Ww6+//hobNmyA5Gu85557itWz9wmZjpa1d7t27dLiU0SaZHCpSJEx33LLLTh//jwWLVqE7du3awE9aNAgXL58ucSudu7ciY0bN6Jfv34W17t37w4RvqdOnbI4zwMSIAESqI0Ejh8/jMlXp+H+/ZPh7cLMWVXxjhkH0ArK5YkDWFK3GTl5iH1taUmXKvXcgTeHwdfT9lct69X27Nlzw2cVS51YwMS6VlqRa126dCl2WeLaffLJJ7jpppv0NRGCrVu31lO+Iooqq4j4E/EmZcqUKdpCd+zYMb1Gz3hPybxRtJhnefntt9+wd+9eJCYmQqyoUj744ANt0fzpp5+0ZdDYXvqSYM4iMt944w1MnjzZeEl/ivVVinBq1KiR3uc/JEACJFBbCZw/uAEt1eDOejRGYy/Gzq2K92y7KqiKp3Swe4jjgmxinQoKCnKwp6u8xxELl0yXlqfcqG5GRoae4i3al7u7u4VlUESnTAvLernyCsDHHnsMs2fPNnUtIm3EiBEWAZMljqNMWxtL+/btjbuIiorS+yLk5P7GItO0RR1WxDHFWMTil5qaqqeljefkU8Z6/Phx81N6ylfqbt68GS+99BKaNWump4aNlcRBRIq5wDRe4ycJkAAJ1DYC+We26SFdC+1Q24bmsOOhAKzCV+Pj4QaxxlV1kfvao4gIa9y48Q27SkpK0tatsuqGhYXhypUrJfZVksgs6VyJjdVJcUwRi56xiEh79913TVZFOS/p+cyLeDwbi/FeksnFvMh4RIyaFxGsxiL1RTyW5HBStJ2RTbt27XDhwgVtBZRpZ2MxThkb1zoaz/OTBEiABGojgZAre/WwPBsVXxpUG8frCGMq/O3lCE9Ty59BhIU9pmKrA5OEdpHpzWefffaGt//4448hGVDGjBlTal1xhhArXNEiU6Lbtm0zWfvEkUTCr5hb4oq2KXos08+yGYuINJlSFStbZRZxmJH1f3I/cfAobxFraVaW5aLnffv26TA84izCQgIkQAK1mcCVlHQ0zzsGqAmmerF9avNQHWpsFIAO9Toc42FEjIiQkVzHYp1asmQJ3nnnHR0GZvz48RYPmZKSouvK2r24uDg99frFF1/o+mUJLvF8lXVvcg83t0ILpVjinnzySUyfPl0LIAmZ0qNHD5MgtLi5gx1I+JuePXtq4SsWx5YtWyI+Pl47hIgYFqcXWT8qU89GQStxAWWdoIzZvMh0c58+fXSsQPPz3CcBEiCB2kbg6H71R79LFtLgg6CGsbVteA47HgpAh3011fdgIvhkKlMsWXXq1NHevyLIJkyYoC175k8m4V5k8/T01KFYRKytXLlSh1Qxr1d0f+TIkVrgSRw/EYPGImFYXnzxRdx3332QWIE333yzDkJtvO7In2LhFe9f8Sh+6KGH9DS4hKeR8DgSUFuKTBO//PLLWiwL36ZNm+Kf//wnHn30UYuhSQgYcUZhIQESIIHaTuDq0U16iOd8W6OFa6FBoLaPu7rH56Kmnwqq+yFq6v2NTiAS+01ivpmXzMxM/Ute1npJPDuW4gRmzpypQ8UsXWrwjJY4gM8884ye8i1e23nOLFy4EH/5y1+0x7WIxJIKv18lUeE5EiCBmkjgt/fvwYC0xdjXeBLaTvioSoZQ1u/vKnkAB7hJyb9dHODB+Ai1n4AETBZHEJlGLupdW/tHX/oI09LSdCq40sRf6S15hQRIgARqFoH8/ALUS1XrwdX6v8BmhvBfNWsENfdpnSYQ9O23366nM8eOHVvsbckv2o4dO+qtaDy2YpV5wm4EhLtMl1L8WSKVfMrGOIiWV3hEAiRAArWLwIn4C2iG03pQ9drcXLsG5+CjcRoB+NRTT+lctSW9DwnRIRkgZBMHBpbqITBx4kSnn/6tHvK8KwmQAAlUD4HT+zbBzaUASa5hcA82BMCvnidxvrs6jQCUPK+0NDnfF5wjJgESIAEScFwCmae26oe7FNTWcR+ylj6ZQwhAyQs7evRoHZxXPCnnzp1bDLc4DBgdKiSFmITJsFeRxaDSp3icrlmzxl7dsh8SIAESIAESIIEyCARc2q2vujQonhq0jGa8ZAcCDuEEIoveO3TogAcffBB33nlnsWF9//332jtURGDv3r3x2Wef6dRe5um8RMAVDaYrHS1btqxY1oeiN5B8q5IZQoLvSj5YCXhc1Ku3aBsekwAJkAAJkAAJWE8gNSsXTbIPaweQuq16W98RW1pFwCEEoORpla208tFHH2HSpEk6cLDUmTZtGiR0yKeffqoDDss5ycNqbTGmBWvbti1iY2Nx5MgRi3y0xn5FYJqLTLEcspAACZAACZAACVScwIEjR1UA6EvIVy7AdZp1r3gHbGETAYeYAi5rBNnZ2VrcDR061KKaHG/cuNHinDUHEobEKOok8LBYFZs0aVJiV5INIygoyLQ1bNiwxHo8SQIkQAIkQAIkUDaBxEMbdIXzno0Ar4CyK/Oq3Qk4hAWwrFFdunRJpwszZlIw1pVjSVdW3iLZJnbs2AGZbm7QoAF++eUXdOvWDQcPHtRZGCR3raw/lDy2ISEhJXYrGRyee+450zWxAFIEmnBwhwRIgARIgATKT+CsYeYuNaxj+duwpt0IOLwANI5UxJl5kQQmRc+ZXy+6b8w2UfR8r1699Jq/oudLOvby8oJsks9VNsljy0ICJEACJEACJFAxAvI7PCx5n27kHdOtYo1Z2y4EHH4KOCwsDG5ubsWsfYmJiab8qnYhUYFOHn/8cT1V/Pvvv1egVc2oKrH4RFjL5uHhoRkPGTJE5+OVPLbmJSYmxlTXx8cHcixBjFetWmVezep9eYaSPMLlGceMGVPufpOSkjB8+HDt6CMCXqy2TzzxBLiGs9wIWZEESIAE7ErgdFIqYguO6T4jYxkA2q5wy9mZwwtAT09PHaJl+fLlFkOSY7HesdifgIilhIQEnFTe0YsXL4bEUHz66acxatQo5ObmWtzwzTff1HUPHz6sA21LUO3BgwfjrbfesqhXnQcyvX/bbbdh/vz52sFHcg6vWLECjz32WHU+Fu9NAiRAAk5L4OiB3Qh0SUcWvOAZ1cZpOVTnwB1CAKamppoycQiMuLg4fXz69GnNRtbdSYaOL7/8Uq/Ze/bZZyHXqusXuEz/irewrCGsjUWsZJGRkahfvz46d+6MV155BfPmzdNiUMSTeZHg2lI3Ojoaffv2xeeff45XX30Vr732GkQUllbEWvj222/joYce0gG6pb20tabIVMJ7772nnXfEEikhhX766SdTV3Xq1MEf//hH7dndqFEjDBo0CH/605/sGkvSdDPukAAJkAAJ3JBA8rFNus4Fv5aAm8cN67OC/Qk4hADctm0bOnXqpDcZogg+ORYRIWXcuHE69ItYmyRnrwSOXrRoEeSXeXUUq6eAlVBBdlrVb3JfG8vAgQO1sJozZ84NexJroYgyEY1llQ8//FCLsp07d2pBJiLt0KFDZTUp8drf/vY3fPXVVzos0P79+yF/INx///2lBvWOj4+HjKNfv34l9seTJEACJEAClUfgWmYOck4bMoDk12cA6MojXXbPDuEE0r9/fy0YynpUsdjI5gjFaieQnHTg7XpVP4RX4gFPP5vv26pVK+zZs+eG/YgXdXh4uJ5CLqvyyJEjTe/0xRdfxNSpU7F69WrIfYzl3nvv1WtAjcfyKWF7JGC3FPHqljiRsu6wZ8+e+pyE8Vm/fr0OGG4u8qQvEaUZGRk68wzzPmtc/IcESIAEqpTA7LUHcU+BCuOmfDsbdhpcpffmzQoJOIQFsPBxasae1RbAmjG8Up+yIp7X5anbvn17073E4UOmksW5x7yIKNy1a5fFduutt5qqSNzGzMxMiKOKv7+/afvmm29w/PhxUz3Zkb4kFJA4lsg185A+FhV5QAIkQAIkUCkEkjNycG3jfxDikoo0v4ZwazG8Uu7DTm9MwCEsgDd+zFpSw8MXEGtcVRe5rx2KxExs3LjxDXsSr9uLFy/esK54GZsXEYFFPY1FFDZr1sy8ml4zePXqVX3OWH/hwoV6zaJ5RVnLaF6kL9nEwhgaGoo+ffro9YpRUVHm1bhPAiRAAiRQSQS+WXcM9xcs0NY/n37PqvV/lCGVhPqG3ZL8DREVr2D1FLASOPaYii3+RJV/RqZYJUeyrK+7UZFg2uJ5W5FQLTfqs7Tr4owjQk+cgsyne0urbzwvFkopxiwwxvP8JAESIAESqBwCYv2L3zgbDVT6t0yvMHh3+kPl3Ii9losABWC5MFlWkilg2SSOnKSGq21FRJFkWZFA1xcuXMCSJUt0zmUJAzN+/HiL4aakpOi6OTk52nt79uzZ2mNb0uYVtdxZNLTTgXghP//881qYijXw5ptv1u9F0gTKlPCECRO0w5CMQ7y25ZxMG7/wwgvo3bs3YpQ3MgsJkAAJkEDlE/hq/XFMzJ8LqMVnnr0fBzy8K/+mvEOpBCgAS0XjvBdE8Mm0qLu7OySEioRVmT59uhZTYtkzL+KpLZvEa5Tp1R49emDlypU6dqB5vcrc//vf/66dTkR0njhxAhKL0Bi+Ru4roWH+/e9/a5Eo4lYCQd9xxx146aWXKvOx2DcJkAAJkMB1AmL9O7bhZ7R0PYscd394dJ9ENtVMwEVNhdkeI6SaB1FdtzdaAJOTkxEYGGjxGOKYIPEMZc2ctzf/yrGAwwObCfD7ZTNCdkACJFCFBKYuO4y+6/+ALq5HUdDrGbgMnVKFdy9+q7J+fxevXTvPWJpzaucY7T6q2h4I2u7A2CEJkAAJkIDTEkhKzcKujYu1+Mtz9YRLzz86LQtHGjgFoBVvw1nDwFiBik1IgARIgAScmEBOXj4e/+8OTMj7RVNwFcePgEgnJuI4Q6cAdJx3wSchARIgARIggVpF4M1fDyA3biMGuu1CgYsrXHo9WavGV5MHQyeQmvz2+OwkQAIkQAIk4KAE/rvlNOZv3o9FXjP1E7p0vA8IbeqgT+t8j0ULoBXvnGsArYDGJiRAAiRAAk5DYGvcZbw2by/e9fg36qu4fwhpAgz/p9OMvyYMlALQirfENYBWQGMTEiABEiABpyBw9ko6/jh7O+5xWY7hbr+jwFVlfRr7FeAV4BTjrymDpACsKW+Kz0kCJEACJEACDk4g7lIaHvjPVoSnH8VrHrP107oM/TtQr6ODP7nzPR7XADrfO+eISYAESIAESMDuBLacSMKjyvKXlZ6CxT6fwLMgB2gxHLjpMbvfix3aToAC0HaG7IEESIAESIAEnJrAz9vP4qU5e3QK0VmBsxCTfU6Fe4kCblMOIC4uTs3GUQdPAeiob4bPRQIkQAIkQAIOTiA/vwDTVhzB9FXHVIrffHxXdxZuSlmrRJ8bcOcXgF+og4/AeR+PawCtePe12Qt44sSJ6o81F715eHggIiICQ4YMwZdffon8/HwLWjExMaa6km9Xju+++26sWrXKol5FD1avXm3q1/gsRT9nzZpV0W5ZnwRIgARIwI4Ejl5IwV2fbdLizw15WFD/GyX+VgCuyrZ0l3L6iLnZjndjV/YmQAFoBdHa7gU8fPhwJCQk4OTJk1i8eDEGDBiAp59+GqNGjUJubq4FsTfffFPXPXz4ML755hsEBwdj8ODBeOuttyzqVeSgV69euk95BtlEVBqfyXhu3LhxFemSdUmABEiABOxEICs3D1OXH8HI6euw/dQVBHoCvzX5FrFJy66Lv1lA7G023S1PWRY3HU/CvF3n9Kccs9iXAKeA7cuzVvTm5eWFyEhDqp769eujc+fO6NGjBwYNGgSxvE2ePNk0zoCAAFPd6Oho9O3bF1FRUXjttdcwduxYtGzZ0lTXfEeshZMmTcLBgwcxf/58BAYG4uWXX8aTTz4JT09PU5/SRqyLWVlZFufM++I+CZAACZBA1RAQUfbqvH04lpiqbzi0ZR187DkTPkeXKPHnAdz9DdBqpE0Ps2RfAqaoDCIJyZmmfqKCvPH66FgMb6vWFbLYhQAtgHbBWL5OCgoKkJ6TXuWb3NfWMnDgQHTo0AFz5sy5YVdiLZR7zps3r8y677//Ptq3b48dO3Zo8ffss89i+fLlZbbhRRIgARIggaonIB6+936+Gff+e7MWf2H+XvhiTBQ+y3tNib9fATdlBhw32y7i74+zd1iIPxnteSUG5byIQxb7EKAF0D4cy9VLRm4GbvrvTeWqa89KW+7bAl8PX5u7bNWqFfbs2XPDfkJCQhAeHq6nkMuq3Lt3b7z00ku6SosWLbBhwwZMnTpVrzksqx2vkQAJkAAJVD4B+UN+i8ro8fGKo9ikBKAUDzcXjOvWEC+3OA+/BWOBdHXeO0gFev4SaDbYpoeSaV6x/JVkspBz4kss14fERsLNVY5YbCFAAWgLPSdrKz8MxBmjPKU8dXv27GnRlRxPmzbN4hwPSIAESIAEbCMgwkpSsyWmZCI8wBvdG4eUKaBSs3L12jvJ5bs//pq+uQi/u7s2xJ/6N0H9PTOAH95W55Usi+pgmPatE1PhhyxQa8pzL19GntpyLyXh0MFT6LltJ4KzUq9vKfpzQZPeWNaouxaGMi0sY+nZlN7FFQZepAEFYBEglXno4+4DscZVdZH72qPIer3GjRvfsKukpCRcvHixXHWLdlZegVm0HY9JgARIgASKEyjvejr5o33fuWv43++nMXfnOaRl5+nOPN1dcVeXBvjTgGaon38e+PU+4MRqw406TwBGvKfMgt6mG+dnZiJP/Q7IlU2JurzLhs9c9ZmnjvX5pEuqjhJ+V68qDVlo7/NTvTxs6qlwJyrNYH00nhEhy2I7AQpA2xmWuwcRN/aYii33De1YUUK77N27F7JO70bl448/hqurK8aMGVNm1c2bN1tcl2OZZmYhARIgARKwnYCIP1k3VyixDH0a19PN/EMnNAr1x8K98Vi4JwEnk9JNN20S5of7borGHZ3qIygnFbkr/on0tf9BbloOcrODkBc9Ark7QpC3/C9K1CkLnog6JfDy09JMfZRrR/1edFPLhtxDQ5HqE4D1Sfm4onIGX/XyR7LarqjtdECERVdixWSxnQAFoBUMJQ6gbHl5hr+QrOjCoZuIx+358+f1+C5cuIAlS5bgnXfe0WFgxo8fb/HsKSkpum5OTg7i4uIwe/ZsfPHFF7p+s2bNLOoWPZA1f++9954WiuL88eOPP2LhwoVFq/GYBEiABEigggTKWk+HgnwEZqfjg38tQkBGCuqoKddOWSkYkpOG1t65aOaRjYCjKchdkIREJewu5BjDfwUUPsXvawv3i+y5qBiybmFhWtS5hYq4k3017axEXuH+9XN16qiY0SpotCryzI++u0o7fBQVrXJdFiBFKm9gmcJmsZ0ABaAVDCUOoGzXrl1DUJBa/FrLigg+CeXi7u6OOup/TvH+nT59OiZMmKAte+bDlXAvshlDt0i4mJUrV+rYgeb1Str/85//jO3bt2PKlCmQcDIffvghhg0bVlJVniMBEiABEqgAAVknd/5qOmKunUfbpDjEXj6JqLRLCM28hjqZKXBXIrCsUnSS1dWjwCDgohrBPSzUsB+iPtW+u/o0nVPCz9Xfv9zrxc2fQRw7JNSLWC1F7JmLQOPqc7lOBxBzatbvUwBaz65WtpQ4f7KVp0igaFuKxP77/vvvb9hFeZ/nhh2xAgmQAAnUYgIF2dlI37cPCes2I3XVBnx/4iACcjJKHXGypx+86oYhpKH6g19Z57S1LsAH7klb4ZawBu6e2XD3zodbt7FwveWdKknrJnH+Pr2/c7E4gGL5YxzAUl+lVRcoAK3CxkYkQAIkQAIkUL0EZL1d8rYdOLNmE9K3bYPfiUNwz83RD9Xg+qNlqPh8B0NisC+0MU4GRiHJJxCXvQJx1dsfuSpl23cP90Aj8ahV1kFs+Rew+QPVUgV5lnjLTfoDg14H6ndWB1VXRARKqJeKeC5X3dPVnjtRANaed8mRkAAJkAAJ1GICmRcvIe63jbi0cQtc9u5GcHwc3NRUrsq/AeNiJLHqHQhrjMtNYrHWpz72+UQi39Wwxs4cjUypSnaN7sEqzMtCZd3bORtQsWp1qdfJIPyaDjBvUqX7Ms3LUC+Vi5wCsHL5svdSCNg6fVxKtzxNAiRAArWCQFZOHo7uOYL4tZuRtXM7Ao/uR/iV83psYWYjvOBTB0cjmyK9ZTvU6dEdrW9qh/saBMPbww1tr3sBi9izXE9XgI4uxzAzfAvcPlmiLl5fDyjC72YV6aH1rcrjQlqx1GYCFIC1+e1ybCRAAiRAAg5PICUzBwfPJSNu216kqqlc74P70PDcYdTNSEbDIk9/OjASF2JawaVdR4Tf3ANtO7VAP2XJKymGatH1dD7IxG1uG/GQ50q0KIgDzlzvvOkgJfyeAWL6UPgV4V2bDykAa/Pb5dhIgARIgAQchoAEW75wLUtl10jGwTOXkbRjD9z270b9M4cRm3QS7VWuePOS6+KK8xExSG/VFn5du6Jx/54Y0qS+isZQfuvc8DaRGFLnPBLXfomw43PgkavW94k50F3F0mtzB9DzTyq2Sjvz23LfSQg4jQC8/fbbsXr1agwaNAg//fSTxeuV+HUPPfQQJOadm4pHJAGJ/fwkJjkLCZAACZAACVScQL6KaReXlKZTqe1X1r0jJy8id98eNDp3BG2STqD3ldPwzjM4bBh7z/HwRHLjVnDv2BmRN9+E6N7d0M7a30WpicCeH4Bd/4Vb4n7t06HvE9IE6DoJ6Kgyevgynp6RvTN+Oo0AfOqpp7TI+/rrr4u954kTJ+If//gH+vTpg8sqJ6GXl1exOjxBAiRAAiRAAiURyM3Lx/GLaSqVWjL2qk0+z5yMR5OE41rsSRy+0cnntMOGefscv0AUtGuPULV2L7TXTfBu3RoSRNnqomL84ZAKpr/vZ+D4KmXpu56swE39Tms9Cuh0P5QZEcqEaPUt2LD2EHAaAThgwABtASz66vbv3w8P9T+ciD8pISolDQsJkAAJkAAJlETAaNnbc/Yq9pxVgk9t++OvwT/5kg643FZZ9x5WW3SKssAVKQV1I+DfvSsCunWDb9cu8GzSBC62irFslXrt6DKD6DuiPvOyCu/aoJvB0idTvT7Bhee5RwKKgEMIwLVr1+L999/XWSESEhLwyy+/FMsjO3PmTF1Hrrdp0wbTpk0ziTZb3uTRo0fhr6KW33rrrTh79izGjh2LV155xZYu2ZYESIAESKCWELiUmoVdp69i1xnDtlsJv5SMHCXwLijrXhwGqO0JJfgiMq4WG7EIPF+1dk/Enm+XLvCoX79YHatOZCYDR5YCB+YBx1YWhm+RzsJaAG3Hqk2JvrDmVnXPRs5BwCEEYJoKZinpxh588EHceeedxchLtohnnnkGIgJ79+6Nzz77DCNGjMCBAwcQHR2t63dR/3NJDtuiZdmyZahXr17R06ZjyWG7bt067Nq1C+Hh4Rg+fDi6qb/OhgwZYqrDncon8MYbb2Du3Ln6PcjdZFr+6tWr+lzl3513IAEScCYCknO2pCDDMpV76HwKdpy+gh2n1KaE3+nL6XDLz0NTNYXb9tIJPKMEX1uVVi1QLG/mRa0f91bGCRF6vl06w0d9uqtUmnYr1xKU6FuspngXAXFrlKUvu7DrOjFA7BignRJ+EW3pyVtIhntlEHAIAShiTrbSykcffYRJkyZh8uTJuopY/5YuXYpPP/0U77yjAliqIjllrSkNGjTQgq9hw4a6+ciRI7UIKUkAisA0F5mSC7i2FRFexnWSkgtYpsTbt2+Pe++9V4syV7PpipiYGJw6dUoj8Pb2RkREBLp3747HHnsMAwcOtAnNxx9/DPGYYyEBEiABexJYomLjTfn1ABKSC7Pd+nu5oUEdXy320rPz4JWbjVZXTuFmEXtqi1X7cs68uKifeT7KcKEFX7euet/V19e8im378vPvwv5C0Re/w7K/sJZK9Kl4fRKzT7x4GbfPkg+PbkjAIQRgWU+ZrXIbirh76aWXLKoNHToUGzdutDhnzYFY+8T798qVKwgKCoJMRz/66KMldiVic8qUKSVeq00nxQr61VdfIS8vT7NZsmQJnn76ae09PX/+fIgwNJY333wTDz/8MOQ9SXDn2bNnY/Dgwfj73/+Ov/71r8ZqFf6Ud+EIRcbl6enpCI/CZyABErCRwE/bz+D5H/cU68Ul5RqCTu7BvWoqt/2Vk2h65ay2+plXdFU/k3w7dzZN53rHxsLF3j8bJG9v3Dol+lRwZpnivXbW/BFUSrauQKuRQMtbgPBWltd4RAIVJFD4m7yCDauq+qVLl7QQEeuSeZHj8+cNUdHNz5e2P2zYMOzYsQMy3SxWP1lnKOJPxMzbb7+Nvn37aouTCMtRo5S3VAnl5ZdfxnPPPWe6IhZAo+XQdLIW7IgXdGRkpB5JfbVmpbP6odejRw8dQmfWrFkmS6xUCAgIMNWV6XjhGBUVhddee02vp2zZUv2VakUpOgXcv39/bYkUS+MXX3yhRZlYGt944w1T78nJyfjLX/6ip40zMzPRVa29mTp1ql5eIJWOHz+u35+E+ZHvQWvlcSeiXgSrsYhVUyzNx44dM61FNVpEjXX4SQIkUDMIJKfnYEtcEjYeT8LmE0l6elee3Cs3Cx0vHkPXxEN6WjdGrecrWtzVz0Bt3VPr92Q616tZM9sdNoreRI4vq4DMR5cbHDlOKvGXW2iZhLuP8trtqwSfmiGTLcDwc7mkbniOBCpKwOEFoHFARaOcy/Rg0XPGuiV9ypRxaeVGU9DGdiKMZJsxY4bexEJWkSLPXJBxPddiRRraWNfFx6dCrEq6nUzpyjrNOXPmWAjAkuqKtVAsgPPmzcMLL7xQUhWrzokQEwG+ZcsWbNq0SU9Jy5pQma4Xtrfccouesl60aJG25spaUYn7eOTIEX0+NTUVMsUvIX9ESEp/o0ePxuHDh01rSeXBxCHp1Vdfxd/+9jernpONSIAEqodAhpq+3XryMjYeu4QNxy9p71yZSZUSmZaEW88fRLcLB9H+0nF45ucaLlz/97R/OPaHNkbfsUPQfkR/5bBRz+afmxY3MB6Ile/UBoPzhgi/pKPGK4bPwAZAi2FqG67En4pO4aFEIAsJVAIBhxeAYWFhOjhzUWtfYmKiXnNWCUxu2OXjjz8O2cQCWJGpShF/hzt3uWH/9q7Qcsd2uNhhbUqrVq2wZ0/x6ZOizyvrBsWh5qSaErZnkbWIr7/+uu6yefPm+OSTT7By5UotAH/77Tfs3bsX8r0wxnH84IMPtDVQAn8/8sgjWsCKiDUWEYJiCZZp7SeeeMJ4Wq9ffP75503H3CEBEnBMAuLMITH31h29qLZL2KmcNrKVI4cUcdyQ9XtDU46hW8JBBF08ZzEIyaG7NbI1dtVtroVfspe/vt60W0d0bVDfoq5NB6JALymRd1x56x5bAZxcb2nlc1W/hqN7As2V42EztYW35no+m4CzcXkJOLwAlPVX4uG7fPlySDYPY5Hj2267zXhYpZ/WWgCr9CEr4WYVsbpWpG55H1UEoHmRqWYRfFJknahY+EJDQ82rIEOJbpn6lSLTvrKGc8GCBYiPj0dubq6+fvr0aYs2MnXMQgIk4JgEEpIzsPbIRaxVgm+DsvRdVdO8xhKYlYbRKccx8OpRNDqh0qylF3rqFri5YW9wIy36fo9ojdMBallRCY4T4QHexu6s/5QwLSfWXBd9Svgln7HsK1AJzGaD1DYYaNIf8HaMNc+WD8mj2k7AIQSg/OKWNVfGIqnZJCyLWJJkXZlM+z3wwAN6TVfPnj3x+eefQ35pyxqw6ijWWgBlKlascVVd5L72KAcPHkTjxo1v2FVSUhIuXrxYrro37MysggTsNi+yBCA/3/DXvnyKIFyt0v0VLcHBhgCosj5QlgKIZbCZWs/jo7hI3Edx9DAvTANoToP7JFC9BLJz87Ht1GWsUaJvzeGLpnV8+qmUda1N5kXcnhWHDmf3w//4QZX94vqcr6rgpsKw+PftA3+1hti7Zy9M+nQbzivv38IahWNzUbuRQd7o3jik8GR595S1EfE7DdO6koHj7O+FWTikDzflSNaoF9BUiT6x9NVtVaL4LO/tWI8E7EHAIQTgtm3bIJk6jMXoaDFhwgSI08G4ceMgokI8TiUQdNu2bSHrvBo1amRsUiM+RbDYYyq2Oga7atUqPcX67LPP3vD2EsJFwsWMGaPiUlVREUcVWSYgTj0xMTEl3lXiPU6cONFkSZY/POw9TV3ijXmSBEigQgQSUzKx+tBFrDqUiPXKypeaVbhez1vFv7ut4Lyy8h1Bg8M74XrxgkXfXmqpin+/fkr09YOPmjVwUZY/Y3l9dCz+OHsHROyZi0A5liLX3VyNR4Zzpf6r4gLqaV0RfCdWAxlXLKuGNjNY+ET0xfQGPJlf3hIQj6qbgEMIQPHwlCnDssqf/vQnyOYIpbZPAUusQxFT5mFgxFtWvKPHjx9v8QpSUlJ0XQmoLZZbCQMjXrpSX6xsVVXEk1eswyI63333XYj3sUzzyh8Kck6mdeV5xIlFHD9EjIujh9GCWFXPyfuQAAkUJyA//yWd2oqDF7DyYKLOp2teq4VLGu7KPYWOYuU7sAsqIKvpsouXF/zU//si+ET4eaiZgNLK8LZR+PT+zsXiAIrlT8SfXC+1iPPGyQ1K9CnBJ+v5Lh6yrOqlpnGb9FNWvoGGrU7NMlBYDoZHzkDAIQRgTQNt7RRwTRmnxP2T6VSxptVRUyjiODF9+nSIRdY8ELSMR8K9yCZrNSV0jISLEccMc4uu1BOrnFjfzMO2yHl7FRF0IvYk9uBDDz2kp6DleSQsjTGEkISEkWu9evWCOBe9+OKL2pHHXs/AfkiABMpPIDMnD5tUeBaj6Dt/rTD8iWtBPm5xv4xhyoGjybFdcDlRuERI7uCufj759+urp3b9broJrhVY5iIib0hsZImZQCyeXowSIvLEcUPSrZ1ScWfN8+y6uKq4fMqpTws+ZeWTfTf+SrVgyAOHJuCi/vIq2/Tm0I9fvQ9n9AKW+HOBgYEWDyNx6MQiJmvmJOSIMxdxxJD1nCLQigpDZ+Ziy9j5/bKFHttWF4FklUN39eFELNt/QX+mqbAtxhJakI37XM+h58XDCNm3DQUqFaSpqCUlknVD1vLJ5tWieeWEaJFpXHHeENEnlr5raprXvIjzhgg+ceBorKx9vlasFzTvj/vVRqCs39/V9lBVfGP+uWIF8No+BWwFkjKbrFmzRodWofgrExMvkkCtJJCoLHvLDlzA0v3ntcUvV4Vu0UXZHjoVJOPOnJNod2YfPA/uVRY2gyCUGq7qj2r/m2/WU7t+ffrYN6+ukbQ4kSVcd94Q0aedN9Q5Y3FXf7w3Uuv3RPDJWr66KrC9mm1gIYHaQIAWQBveYll/QdBCYwNYNr0hAX6/boiIFaqIgMTi2xp3GeK4ISFUxIs2/moGluw7jyVK9O04fcXkmOuRl4vhefEYkXocMUfV1G6CpYXNs2lTvY4vYEB/+HTqBBe1DMXuRQWE1mv4JAizrOVLV8fmRXLsSngWEX3iuctAzOZ0as1+Wb+/a80gbzCQSvi/6wZ35GUSIAESIIFaQWDJvoRiDhUebi7IyStcWVQn85qy8p1Cv6QjCDusHDjMsiG5qNBOvt27X5/a7QfPhg3tz8Vo5RPBd3QZcG6Hukfh88EzwOC8oUWfEn7BlfAM9h8VeyQBmwlQANqMkB2QAAmQgPMREPH3mAqpUrTk5uah+dVz2srXJ+kw/E8etajiVjcMAbKWT3nsiveuq18lhEfJUOsHxbqnRZ8SfumXLJ4BEW0NVj6JydfwJuW84WF53c5H2Sp0TVpOGjJVnt/s/GyVrURt6jMnL0dJUfWfmg43fopDm5uLGzxcPVRIGje97+3mDS93lYrUzQs+Kj+wXJN6LCRgCwEKQCvocQ2gFdDYhARIoFYQOHM5Hb/ujsdHy4+YxuOdm4XOiUd0nt3uKt9uSFaK6ZrseLdrp9fy+fdTAZljW8NFOXXYtWiP3cPAkSUGK9/pzZaBmMXK13TA9XRrysoXWM/q2+epoM8XMy7iUsYlXEy/qPfl+ErmFSRnJeNq1lX9eS37GlJzUrXwy83Ptfp+JTV0VR7Ifh5+8PfwN30GegUiyDMIQSocjXE/xDsExq2Odx0EewVrUVlSnzznfAQoAK145xUJA8M4c1YAZpMbEqDz/g0RsYIdCVxQjhwL9yTg1z3xOt+udO2lRF/PCwfR99xudL1wCN7KmmUs6cpataNuC3QeNwod7hwB97p1jZfs95mbrUKzrAcOK9Enwu/qKcu+ZS1fi6FK9A0zWPncVTaOchYRcqeundLbmZQzOJd6DvGp8UhIS8D5NBUjtSCvnD1ZVhPLnafKCuLp6gkPZXWUTxFzYs2T/4xFBKPcQz5ly1LhZzLzMpGvwuNIkc+U7BS9GduU51MsiyIIw3zCUNe3Lur6qE19RvhGINw3XH/KvohIWhjLQ7Rm16EArKT3J3HxJGaeBCOuq374yTH/h6ok2E7WrYg/SbUn36ei6fGcDAWHW4kErqZnY7Fy5Ji36xy2KCcPMbJ5KdHVJ/EgRlzaj9an9lqIvgTfUGyOisVWlWd3X1gT5Lq64+MeHdHFnuJPHDhkHd/hRWqK9zdAiSBTkXRrMX2U6BtuEH51YkyXStqR/4/EindU5Q0+cfUEjl09huNXjyPuWpy24JXUxnjO3cUdoT6hWkCJmArzDdPCSixssomAks1oofP18IWvuy/cFRNrizyviEERguk56UjLTUNattrUZ2p2qhaDIlyTswutkJczL0M2sU6KZVJEpVgrZTt4WaXNK6XINLMIwUi/SET5RRk2/yjU86uHKPUZ6RupBWwpzXm6hhCw/ttYQwZYXY8p4k9iAErqOhGBLCRgTwIi/ho0aAA3szRX9uyffTknAQnOLIGZ5+6MV7l3E7Uzh6ey7PVUFr7brh5Am5N74JZdmIVDRN+aBh2wrl4HnAhS06rqe2lexCvY5pJ0HDi0UIm+xcAZmdo1C9PiH6EsfMrK13IEdFw+L/8SbycWs5PXTuJQ0iEcumzYDl85rMVRiQ3UyXCfcEQHRqNRYCM0CGigRVB9//r6U0SfrM+ryqL/4FNWQ7EcBsiUdgWLiEcRg3r6Wq2JNArBxPREmG9SJyM3Q/MSZiUVsVqKxVAEoTCp52/4lP36AfW1eLRF7JZ0T56zPwEKQCuYlncNoFj9oqOjkZurzPnX41tZcTs2IYFiBMTyR/FXDAtPWEFAwrhsOZGEOTvP6dAtkndXRF83JfpuuXwAHc7shVtWpqlnD/WHh/+wYXj6Qhi2uoWhoIjok4oiAyW9moSEqXARr914FZvv0AKD8Luk1vaZl4h2BsHXUln6ojqpgIHF1xNeSLuAPZf2YO+lvdivrJUHkg7o9Xjm3ci+CJnogGg0DW5q2IKaoklwE31OrHa1qYggE9EmG0JLH5lMNws/meqWKW/jtLdxClyOpY5cl21HYnFHIJlqFuthA/8GWjyLMBQRbTwWKylnxEp/B1V1hXEAbSDNOEI2wGNTEiCBaiVw+HyKEn1nMU9Z+yQNm4cSfV0SD2PYxX3oem4f3M1En3u9KAQOH4HAESPg3baN/uUtXsB/vO4FbBZUxbSSTXLulplb13z0sp7v5DqD6BNLX0pC4VWZNo25WYm+W9SmRF9wdOE1tSdOGWLN25m4E7sTd2PXxV1atFhUUgfiSdsypCVahbQybc2Cm8Fbgj2zlJuATEUnZSbpNZEiCmV9pHGNpHE/J79wPWhJHYsDixaF1wWiuTiU87JOsrILf3+rP9TUyzT/f7eymdeq/vkFqlWvk4MhgVpP4FJqFubvitfCb9+5a0r05Srv3cMYeH4vepzfD8+sDBMDybcbOHy42obBu337Ei02JcUBjFKWv9dHx95Y/GWnG1KuiaVPHDnU+jVT8VRTuRKipdUoQ7gWn2DTJQmdsj9pP7Zd2IbtF7Zr4SchVsyLWPZa1GmBdmHt0DasLdqEttEWPk5LmlOqnH2Zbhfv6LOpZw3iMOWc3j+bclZ/ynRzWUWcYcRKaRSFMqV8U+RN6BzRuaxmFb7G398UgBX+0pg34BfInAb3SYAEHJFAdm4+Vh26gJ+2n8Vvh5XzUG4OOqmQLf3j96D3hf3wMhd9kZEIHDbUYOkT0VfC9GrRMZaUCcTN1XItoKmNCgqNI0uBg/OUM4dKvabWmpmKX11l4RsJtB6t1vP1BZQnsRSx8Mm6vS3nt2BrwlY95Shr1MxLgEcAOoR3QMe6HdExvKMWfrVtCtd8vDV5X6aPxVKoBaEShaZ9JRjlXHqu+sOgSHmk/SN4stOTRc7adsjf3+p/MdsQsjUJkAAJkIAjEth3LlmLPvHiTUnNUKLvKJ6K340+ytLnk10ooNwjIhAgok9N8fp07FAu0Wc+XhF7PZuWsahMgjLLtO6Bucpzd5VSdGq611hkOrf1rQZLX8PualGewbFCQq9sit+EzQmb9SYhT8xLHa866BrZFV0iuuiteXDzKnfKMH8e7pefgASzbhLURG9FW8mE5JWsKzhXxGrYKVyt9WSxOwEKQLsjZYckQAIkUD0EJHTLXOXM8cO2szh87go6XjyKiSpOX+/z++BnLvpUaJYAmd4dMVyJvo4VFn03HF3GFYMDx34l+k6sVoHrzNaEhTYHYpXoE+EX1UF7DktYk9/Prce6c+uwMX4jRACaF7HwieC7KeomdIvsBlm7J9O8LLWLgDiGGANXt6urnH1YKpUABaAVeMvrBWxF12xCAiRAAhUikK+8eDceT8L/fj+NlXvj0frCEQxRou/1hH0IlHV214ukYAscoix9I5Wlr3Nn+4u+TLWG79AiYP8cQ4w+c9FXtzXQZoxB9IWrffWL/mTySaw58A3WK+Ena/nMHQckzl77uu3Rq14v9KzXU6/hq+qwK0Zu/CSB2kqATiA2vFmuIbABHpuSAAnYROB8ciZ+3HYGP249iZCj+3RGjl4JexFkLvpCQ/WaPrH2+XbpAhd7x43MSjVk4dj3s8Ghw3x6N7yNQfTF3gbUbanz3krIkDVn12Dt2bU6y4Y5APH+vLn+zehdrze6R3XXKc7Mr3OfBOxJgL+/uQbQnt8n9kUCJEACNhG4kUOFXF99OBHfbYpD0obNuFlZ+t6LF9FX6AXrFhKCgKFD9Jo+325d7S/6clRMwGPKgUNEn6RgU9O3piLp19reoYTf7Vr0ST7c9WfXY/WB/2hLX0pO4Vo+8cjtGtEVfRv01cIvJjCmRE9jU9/cIQESsCsBTgHbFSc7IwESIAHrCJQVUqVDw2B8v+Ukdi9YjTZHfsck5cEbbCb6XOvUUdO7SvSpNX2+3brBxd3OP9qVJ66O07f3R+XM8atlyJY6jYF2Y5XoU8IvIlYHEf7tzG9YufMDbDu/DbkFuSYgsr5LBF+/Bv301K7Eg2MhARKoHgKcAraBO03INsBjUxIgARMBY1DlokFZXVRMtTZJceinLH29lKUvJKvQgobAIATrkC1K9HXvbn/RJyFiE3YDe34wWPtSz5ueFwEq7ZtY+treCdTrhFMpp7Hi1AqsOr1KZ+AorAjt7dm/YX8MaDhAh2fhWj5zOtyvLgL8/c0p4Or67vG+JEACJKAJyLTulF8PwCT+lPBqcfUM+p3dpdf1hYlzxfWS5xegRN8QBKuMHH49boKLSglo93LlFCCWPhF+5mnYvIMNa/ra3QVE98Lxa3FYdmoZlm//B45eOWrxGB3qdsCg6EEYGD1Q59K1uMgDEiABhyBg53kChxgTH4IESIAEagyBrXGXkaAcOrxzszD85BaMjtuAemlJpudPVanKNtZri16T7kHXO4ZWjuiTAM0H5gG7/wecWm+6N1TMNrRSwZnb3Y2CpoNwLPU0lp5cimW73kNccpypnnjtSniWwY0Ga0tfXV8V1JmFBEjAoQlQADr06+HDkQAJ1GYCGdl5WLLhIB44uASjT2xAQI4hQHOmmwc2RbXFmvodsSNcedC6uSOmpYrXZ0+Ln0oDhxO/KdH3nSFmX65y7tBFZfFo3AdoP05n5TieeQlLTi7BsoV340TyCdPr8HD10GFajKIvyCvIdI07JEACjk+AAtCKd8Q4gFZAYxMSIAETgTOX0/Hzwq3AD//FmBOb4a3y20o55xeGn5v3x6oGnZB1PRWasVF4gLdx17bPxENK9P1Xbd8D5uv6xIO3473a2nfGJV+LvsXLHrSY3hXR17t+bwxtNFRb+vwlZy8LCZBAjSRAJxAbXhsXkdoAj01JwMkISJqrTSpg86+/rEH00p/RRzl2uCknDynHQhri+6b91VRvO+QXyXCh7HGIDPLG+hcHqnRncmRFkXRsErZl17dKZW4v7MAnRAk+taZPCb/EoHpK9C3F4rjF2Je0z1RHwrVIbL5hMcMgzhwBngGma9whgZpKgL+/6QRSU7+7fG4SIIEaQiAzJw9zd5zFuh+XocfWhRifeNj05JkdVVqzp/6IUwGNsOHbnabzxh2j3Ht9dGzFxV++Epcn1wE7ZwMH5wPGKV4XlW+3xTAl+u5DcnRPrIxfi0V7Z2Dr+a3KEcXgiuKm6kjateExw7UjB6d3jW+EnyRQewhwCrj2vEuOhARIwIEIXLiWif+34QSO/LwAI/etwBPKs1dKvkqD5jZwCGIefxTesbH63HD176f3u2hvYHEIMRax/In4G942ynjqxp/J55SlT03x7vx/wNVThfUlHVunPyBbBWled/UwFpxYgDXbXrdIwdYpvBNGNB6hp3hDfUIL23KPBEig1hHgFLANr5QmZBvgsSkJ1FIC++OT8dVvR5C+4FfcfnQ1GqRe1CPN8/BEwO23I+rhSfBs2LDE0d8oE0iJjeSkrCE8ugzY8Y3h8/rUMrwCday+go73Y6eHC36NW6C9eFOyC+MJNgtuhlua3KKFn6RjYyEBZyDA39+cAnaG7znHqU9xHQAAQABJREFUSAIkUMkE8iVF25FEfLN8P8JWL8KY4+sQKqFVVJHYfXXvvw+h4x+Au8rNW1aRNX49m5Zdx6K9xOwT0SfTvOYOHY16A53H40yDzvj1zAr8uvVVnE09a2oa7hOuRZ8Iv5YhyvmDhQRIwOkIcArY6V45B0wCJGAvAlm5an3fznP439Jd6LhlCZ6I2wS/62vtCsLqImLSQwi+6y64+dsx5ZmEbzmyGNg+S3mPrFRDMazbg2+YXteXqtKyLUs9jnnH5mHHrrdMQ/V199Vx+m5teqvOwcuMHCY03CEBpyRAAeiUr52DJgESsIVAcnoOZm85hcVLtmLgrmWYcmYbPCRfriquMY0R8cjDCBp1C1w8PW25jWVbWdsn1r4dXwMpCYXXmvRHvrL2bQ2OwLy4hVixcjIy8wzrCF2VR3GPqB4Y3XQ0BjYcCF8P38J23CMBEnBqAk4jAG9Xa29Wr16NQYMG4aeffjK99MOHD2PcOBXw9HqR4++++w5jxowxnuInCZAACWgCCckZ+M+6OGxdsh6jDqzEuyo/r+t1C5xn+w4If+wR+PfvDxdXV/sQE09eCda87UvgsLL6FRhEprb2KYeO+FYjMC9pF+Ye+hzxafGmezYOaowxzcbglsa3IMIvwnSeOyRAAiRgJOA0TiC//fYbUlNT8fXXX1sIQCMI+ZTrMTExOHXqFPz8bjxlw0Wk5vS4TwK1l8CxxFR8tvoYTi1dhdsPr0LHS8dNg/Xt1w91lcXPt0sX0zmbdyRun3jy/v4FcLnwXlBr+7KUtW+Vny/mnPgVWxK2mEK3BHgEaEcOEX5tw9rCRXkbs5AACZRMgL+/ncgJZMCAAdoCWPJXwXB2/vz52kJYHvFXVj+8RgIkUDsI7D2bjJkrDyNj+TKMPfobmiYbrGwFbm5qincUQtUaP+8WLew32PMqAPPWz4G9PwI56YZ+xZO3wz040nIw5iTtxK8H/g/Xsg0OJlJB4vXd0ewOHa/PW+UNZiEBEiCB8hBwiCngtWvX4v3338f27duRkJCAX375pdgU7MyZM3Udud6mTRtMmzYNffr0Kc8Yy13nhx9+wPjx48tdnxVJgARqHwHJ2LE17jL+tWw//FYtwV3H1iAq/bIeaIG3D0LH3YWQCRPgUa+efQYvTh2HFhiE36kNhX2GxyK9y3gsCQjCz2pt3571z5uuRfpF6ilesfYxdIsJC3dIgAQqQMAhBGBaWho6dOiABx98EHfeeWexx//+++/xzDPPQERg79698dlnn2HEiBE4cOAAoqOjdf0uavolKyurWNtly5ahXjl+UIs5eMOGDfjf//5XrA+eIAESqP0ERPitOXIRXyzajQZrF+ERFcolODvNMPCgYIRNeAAh990Ht+Bg+8AQUSmevL//B7h21tCnZOloPRqHYkfgx5QjWHj8a6TlGJ7B3cUdA6IH4I7md6BnVE+VGUTVZSEBEiABKwk4hAAUMSdbaeWjjz7CpEmTMHnyZF1FrH9Lly7Fp59+infeeUefE+uhLWXevHkYNmwYvL1Ln0IRgWkuMkU0spAACdRsAiL8Vh5UMfzmbUHL9Qvx3MnN8MnL1oNyiaqH8MkqlMsdd8DVx8c+A008CGz+FNjzg0rPlmHoU4Vwyeh0P5ZENMIPp5dj3/bC8C3RAdG4s8WdkPAtYT4q1AsLCZAACdiBgEMIwLLGkZ2draeGX3rpJYtqQ4cOxcaNGy3O2XIg07+PPPJImV2I2JwyZUqZdXiRBEigZhCQ4M3LDlzADz+tQccNC/CXszvgfj2DhlvzFoh49BEEDh8GF3c7/JgUb97jK4FNMwxevUZEke1xvMNY/IgUzI9bhJT4FH3F3dUdg6MHY2yLsegW2Q0SzoWFBEiABOxJwA4/2ez5OMX7unTpEvLy8hARYRnKQI7Pnz9fvEEpZ8S6t2PHDsh0c4MGDfQ6w27duunaycnJ2Lp1K37++edSWhtOv/zyy3juuedMdcQC2LCUlE6mStwhARJwKAJG4Tdv9mJ036yE3/kDpufz6NoNkUr4+d3c2z5etDnKwrfneyX8ZgKXDhvuo8RcTsuRWNX0JnyvQrj8fkR5+l4vDfwb4K6Wd+n1fSHeIcbT/CQBEiABuxNweAFoHHHRkAYybVP0nLFuSZ8yZVxaCQoKwoULF0q7bDrv5eUF2WbMmKE3EaYsJEACNYOA/MxYujcBy7+ag55bFuKpyyf1gxeocCneAwch6tGH4dO+vX0Gk3ZJOXX82xDGJV3tS/EMQGKHu/FTSBh+UunZLh5Q11UR616/Bv0wruU49KzXk9Y+TYX/kAAJVDYBhxeAYWFhcFMhF4pa+xITE4tZBSsblrH/xx9/HLIZ4wgZz/OTBEjA8QiI8Fu19xzW/utb9Ph9MSanGP7Yy3Nzh/+ttyLqkcnwatzYPg+edBzY+H/A7u/U+j5DNo6CoGjs6nAbvlXTvCvP/obcS8rrV5VQ71C9tu+uFndBvHpZSIAESKAqCTi8APRUqZTEw3f58uWQbB7GIse33Xab8bBKP2kBrFLcvBkJWEVAhN/6vaexefqXuGn7UtyTkaz7yfH2RfC4uxE16UF4hIdb1XexRmd+BzZMU+FcFqpLhty8WfU6YlGLPvju2mEcPDPP1KRTeCfc0/IeDGk0BB5uHqbz3CEBEiCBqiTgEAJQMnAcO3bMNO64uDjs2rULISEhOsyLrLt74IEH0LVrV/Ts2ROff/45Tp8+jccee8zUpip3aAGsStq8FwlUnMC2Xcfx+9TP0GXHCoySdXiqZAaoUC4TJ6De+D/ALSCg4p0WbaEEJo4uNwg/s/h9ic0H4ft6zfDjhc24csog/LzcvDCy8Ujc1/o+tAppVbQnHpMACZBAlRNwCAG4bds2SKYOYzE6WkxQwVZnzZqlc/UmJSXhzTff1IGi27Zti0WLFqFRo0bGJvwkARIgAezffhC7PpyB2N1r0T8vRxNJCYvS07wtx90JV7WG1+YigZv3zwHWK4tf4n5Dd64e2Bc7ErOD/LE0YRNyTx/V56P8ovTavjub34lgbzvFD7R5AOyABEiABACnyQVsz5dtPgV85MgRiBdxYGCgPW/BvkiABCpA4Pimndj34f+h6f4tcLseyuVS/aaIfvxRRN82Ei5qHbHNJUet6dv9X4Pwu3pKd5fn6Y/VbYbha9c07Lxc6E3cObwz7o+9HwMaDoCEdGEhARJwLALGNfzO/PubAtCG7yS/QDbAY1MSKAeBPBWrT9KyJaZkIjzAG90bh6gMGC66pazxi1+9HoemzkC9I7tNvZ1u2g7NnvoTmgztV6FIAaYOiu5kpaqMHV8p545PgFRD6Kl0v1D80qo/Zmedw9m0eN1ChN6ImBH4Q+wf0Ca0TdFeeEwCJOBABPj7G+Cfpg70heSjkAAJFBJYsi8BU349gIRkgzetXIkK8sbrI1ui05k9ODH9XwhWU62SkTcPLjjSujtaPfM4hvUzxPcs7MnKvUzlNLLlc5W1YwaQcUV3cjGoPr5t1g0/pBxFymXl+KFKkFcQ7m5xN+5pdQ/Cfe3kVKJ75j8kQAIkUHkEKACtYGs+BWxFczYhARK4AQERf3+cveO6P62hsodae9dh92q4/TwFl1MvQlbUZSmr2442fdDmmcdwR287xfCTHL2Sqm3LZ+oGSgSqciKsMWZFx2JB8iHkXN6hzzUKbIQHWj+A0U1Hw9fDV5/jPyRAAiRQUwhwCtiGN0UTsg3w2JQESiEg0743v7vKZPnzzs3C6BMbMOb4OoRkGVKlpXj4YH2b/mj75MMY0quVfaZ605JUxg41zbtVWf2y1bSvKjsjmuPLyEZYfe2I6Wk71u2IiW0n6vV9TNFmwsIdEqhRBPj7m1PANeoLy4clAWcgIGv+jNO+NyXsx5/2/ILwjKt66Bd9gjCnaT8sibkJ/360D/o0r2s7Ei38VPBmydyhhJ9E8VsX1Qr/CauLHanK2UOJPxf138DogZjYZiI6hne0/Z7sgQRIgASqmQCngKv5BfD2JEAClgTE4aNO5jU8tmcu+sbv0RcTfEPw31ZDsLpBJ+Re96q9nJZt2bCiRzLVu3G6YZ1fThokP8fS+i3xH5Ua8miGcvZQ4s9DhXe5temtWvjFBMVU9A6sTwIkQAIOS4AC0IpXwzWAVkBjExIoB4GC/HxErFmMz1fMgL9KpZan8uTOadYX37Yciix3T4sexCvYqiLWxM0z1XSv2rJTIDJyvhJ+Xwb44kyWmgbOyICfh5927JBQLnTssIoyG5EACTg4Aa4BtOEFcQ2BDfDYlASKEMg8EYd9f34JfgcNVr8jwQ0wveNdOB5c36KmBIGJVN7A618caAoJY1GhtANZP7jlX4ZcvcrDN8PFBT/Xa46v/DyRmHNNtwr2CsYDsQ/o4M3i3ctCAiRQOwnw9zfXANbObzZHRQI1iEBBbi72TlXWuFlfwE9l78hU+XF/7jgK/63fA/mulgGcDREAgddHx5Zf/EkA523/UQv7PgTSk5CuhN8P9Zpq4Xc5Nw1Q18N9wrVjh2TsoEdvDfry8FFJgASsJsApYKvRsSEJkICtBM5t243jf3kZdRPidFe7I1og86kX8OptPXDzocRicQDF8ifib3jbqBvfWlLB7ZwNrHkPSIlHqhJ+/4uKwdd+Xriap/ID5+agvn99PNT2IYxpNgaebpZTzDe+AWuQAAmQQM0lQAFoxbvjGkAroLEJCZgRyExNx9q/vYN6S+egrkrdJmFddo6agDEvP4KIQB9dU0TekNjIUjOBmHVnuavWEeLAL8CqfwCXTyBNCb//RjTA12qNX3KesgYq8RcdEI3J7SZjVNNR2tHDsgMekQAJkEDtJ8A1gDa8Y64hsAEemzotgU2/LEfWP/+BiOREzWBvsy5o+dYUdOjQ1HYmx1cBK94AEnZr4fddaARmBQUgOT9L9x0TGINH2j+CEY1HMEev7bTZAwnUWAL8/c01gDX2y8sHJ4GaRuDcuYtY/8IUtN++Uj/6FZ9AXHv0WYx9ZBxcr+f3tXpM8TuB5a8DcWu0c8f3IWH4T506uCrCT20i/B7t8KjO1etWZF2h1fdkQxIgARKowQQ4BVyDXx4fnQRqAoGcvHzMnfk9Ir+cjvbXAzqf6D4IvT6YgjrhobYN4cpJw1Tv3h91OJcfg4LxhQrgfOm68JN0bY+2V8KPFj/bOLM1CZBArSNAAVjrXikHRAKOQ2DrjmM48uoUdDm+TT/U5aC6CHn9DdwycqBtDylBnMWrV6Vty83Lxnx/P3waHoXzBSqqnxJ/4tzxWIfHMKrJKE712kaarUmABGopAQrAWvpiOSwSqE4CSalZ+OGdf6PTr1+hS3Y68pUjxuWRY9Hr7y/BzdfX+kfLVQLvd5Wybc27yFex/Jb5+WJGeEOchPL4VeJPgjaLxe/2ZrfDQ4WTYSEBEiABEiiZAAVgyVzKPEsv4DLx8KITEygoKMDcpduR+e7b6J9wUJO4EtkIzT54B226drKejOoXB39VDh6vo0B59m708cbH0TE46KY8fpX4q+NVR3v1jms1Dl5uXtbfhy1JgARIwEkI0AvYhhdNLyIb4LFprSNw9Pw1zH/jYwxY9xN81LSs5OwtGP8Q2v35Cbh42GCNEwePJa8Apzdiv6cnPqpbF1s9DQGiJWXbhNgJOnuHv6d/rWPKAZEACVQOAf7+phdw5Xyz2CsJOBGB7Nx8fPO/1Qj59H2MTDqpR57cNBbtpr0Lv+bNrCeRcgFY+Saw61ucdnfD9IhwLPU15P/1cPXAPa3uwcPtHkYd7zrW34MtSYAESMBJCXAK2ElfPIdNAvYgsP1YIn574wMM3bEIHvl5yPL0RsCTT+OmSePh4upq3S0kddtmlRpOOXlcyU3Hv0KC8UNQIHJRABf1nzh2PNHpCdTzr2dd/2xFAiRAAiQACkB+CUiABCpMIC0rF//5YiGaff0xbrmWoNundeyO9h++Dc/69Svcn24g6/wOLwKWvoKsqyfxbWAA/l2noUrhps4r8de7fm882/lZtAxpaV3/bEUCJEACJGAiQAFoQsEdEiCB8hBYt/cMtr/xLgbvXwU3JcwyfQMQ8fLLaDV2DFyUt69V5dJRYPGLKDi+EouVZ+/HDRsi3k36KkCrkFb4c9c/o0dUD6u6ZiMSIAESIIHiBCgAizPhGRIggRIIJGfk4MvpP6LD9zMxLD1J18jsOxjt/jkF7iEhJbQox6msFBXS5T015fspdnu44L16kdjj5akbSkiXpzo9hdFNR8PVxcrp5HI8AquQAAmQgDMSoAB0xrfOMZNABQms2nYMR994G8OPbdIt04NC0ejvUxA2dFAFe7peXaZ79/2spnv/ivMZFzE1NBiLVDBnKT7uPpjUdhLGtxmv96+34AcJkAAJkIAdCVAAWgGTcQCtgMYmNZKAWP2+fncWOs/9An0zr+kx5Iy6HR3feAVu/laGXbl4GFj0PDJOrsNXyrnjq4b1kalme8XB47Zmt2mrX13fujWSFx+aBEiABGoKAcYBtOFNMY6QDfDY1OEJrNtyCHEqjVu307v0s6bUrYfm772DOj27W/fs2Wl6urdg0ydY5u2BD0NDkKDCu0jpEtEFL3R7AbGhsdb1zVYkQAIkUAEC/P3NOIAV+LqwKgk4B4GUzBx8//eZaD//a3TLyUCeWn+XP+5+dH35Obh6WZll4/BiZfX7Cw6nn8e74SH4XWXykBLlF6UdPIY2Gmq9A4lzvBaOkgRIgATsSoBTwHbFyc5IoGYT2LpxL8787TX0jj+kB3K5fhO0mfoegtu3sW5gyWe1d++1IwsxMzgY39WPUnmBodO1yTq/iW0ncp2fdWTZigRIgARsIkABaBM+NiaB2kEgMysb81+bhuYLZiM2LwfZbh7Im/Awej33R7i4W/FjIi8X2PoZCla9hV+V0fDDBvVw2c0w3Tuk0RA83/V5BnKuHV8djoIESKCGErDiJ3sNHSkfmwScnEBefgG2xl1GYkomwgO80b1xCNxcXXBw406ceukVtEs8qQklNI5Fp+nvo07zJtYRS9gNzH8Khy/tx9thdbDD2zDdGxMYg1duegU96/W0rl+2IgESIAESsBsBCkC7oWRHJOC4BJbsS8CUXw8gIVmlWbteGvi54rFz69F+zTw0KshDuoc3siY/gQFPPmhdGjdx8lj9DtJVTL8Zwf74tn6kWj/oAh83bzza4TGMjx0PD2VZZCEBEiABEqh+AhSA1f8O+AQkUKkERPz9cfYOlVOjsLS6fBLPrvwB0SmJ+uSxFp3Rfdo7iGgSXVipInvHV6Hg16exKvsi3qkfjgvXp41lule8eyP9IivSG+uSAAmQAAlUMgGnCa9/++23o06dOhg7dmwxpFOnTkWbNm0QGxuLp556CgUSpJaFBGoBAZn2Fcuf8RvtnZuFR/fMxYdrZ2jxd8XLH1N7T8TwOd9YJ/4yrgDzHkf8d2PxpFcGnomoq8Vfff/6mDloJj7q/xHFXy34HnEIJEACtY+A01gARdg99NBD+Prrry3e4sWLF/HJJ59g//798PDwQN++fbF582b07Ml1ShageFAjCciaP+O0b5Or5/Dq1lmITFeiTZXlDbvi3+1GI8XTD9tOXUXPpqEVG+PBBchd+By+dU3HDOXdm+HqCndXdzzU9iE83O5heLsb1v5VrFPWJgESIAESqAoCTiMABwwYgNWrV5fINDc3F5mZhrVROTk5CA8PL7EeT5JATSMgDh9Sesbvwwvbv4W38vC94FMH0zuNxY7wlqbhGOuZTpS1k3ZJZ/I4cHQB3ggLxUGvOrq2BHN+redraBJkpfNIWffkNRIgARIgAbsScIgp4LVr12L06NGoV6+eDgY7d+7cYoOcOXMmGjduDG/lUdilSxesW7euWB1rTtStWxfPP/88oqOj9f0HDx6Mpk2bWtMV25CAwxGo6+eJu46swt+2fq3F3466zfHEgGctxJ88tHgFl6vs/wUZM7rjg4TfcG+9SCX+PBHgEYApvabgy2FfUvyVCyIrkQAJkED1E3AIC2BaWho6dOiABx98EHfeeWcxKt9//z2eeeYZiAjs3bs3PvvsM4wYMQIHDhzQwk0aiCjMysoq1nbZsmVa2BW7cP3ElStXsGDBApw8eRI+Pj66XxGkMhXMQgI1mcCVq6mIf/llPHRggx7G/Ma98Hm725DnaojHJydVTGZEBhlCwuhKpf0jVr+Ff8bWE4vxelgIzqrlElJGxIzAC91fQJhPWGkteZ4ESIAESMABCTiEABQxJ1tp5aOPPsKkSZMwefJkXWXatGlYunQpPv30U7zzzjv63Pbt20trXub5FStWoFmzZggJCdH1brnlFr0GsCQBKALTXGRKLkEWEnBEAtt3H8e5J55Cm4sndCq3fynht6BJb4tHFfEn5fXRsToeoOGohH8PzEPKwmfxkXc+foqK0BUifCP0dG/fBvxDqQRiPEUCJEACDk/AIaaAy6KUnZ0NEXdDhw61qCbHGzdutDhnzUHDhg11P7IGMC8vT68TbNmycG2UeZ8iNoOCgkybtGUhAUcikK+8fmd/uwIpDz6A5kr8pXv6AP+cilGvPYkoZekzL2L5+/T+zhjeNsr8dOG+ePj+/DDW/voIxoR44afAAH1tXMtxmHvbXFD8FaLiHgmQAAnUNAIOYQEsC9qlS5e0MIuIMFgejHXl+Pz588bDG34OGzYMO3bsgEw3N2jQAL/88gu6deuGHj16YOTIkejUqRNclRfjoEGDcOutt5bY38tqOu25554zXRMLIEWgCQd3qpnAlbRszHx7FobPmwlfFe7lakgkWn31Oeq0bI626tmGxEaWmAmkxMc+tgLJ85/Ee56ZmB9pcIpqFBCNN9Rav66RXUtswpMkQAIkQAI1h4DDC0AjSheVUcC8SKy+oufMrxfdlynj0spbb70F2W5UvLy8INuMGTP0JhZDFhJwBAI7Tl3Gr6+8j7Hb58FVRf1Lie2Ibv+ZCXcV+9JYJO3bDUO9SDaPZa9i7f5vMUWt9Ut091frBF10Fo8nOj3B0C5GmPwkARIggRpOwOEFYFhYGNxUEvmi1r7ExEQUtQpW1bt4/PHHIZtYAGVKmIUEqouA/CH0zZqjuPbOP3D3qd/1YxSMvh3d3p4Cl+uOGuV+tnPbce3nyXjX9arJ6hejrH5/v/ktdAzvWO5uWJEESIAESMDxCTj8GkBPT0/t4bt8+XILmnLcq1cvi3NVdSAWQMkaIlPILCRQXQTSsnLxly/WwOevz2CwEn/5ykoe9MKLaP3eWxUTf3m5wJr3sGn2KNzhp6Z8AwxWvwmxE/DjrT9T/FXXC+Z9SYAESKASCTiEBTA1NRXHjh0zDTMuLg67du3SnrkSn0/W3T3wwAPo2rWrztDx+eef4/Tp03jsscdMbapyhxbAqqTNe5VE4OiFFEyZPh+TFs/QmT1yfXwRM30aAvr0Kal66ecuxyFjzsOYmn4M30UaQrk0VGnc3urzDjqFdyq9Ha+QAAmQAAnUaAIOIQC3bdsGydRhLEZHiwkTJmDWrFkYN24ckv5/e3cCF0X5/wH8A8uNgHIKgopmKirelqamVpr3kf2y8kz9Z3nklUdaiuaReZR55JFZmUdqWh55VJqmpYgXeWbiySWgnHLt8n9mkJUFgWVh2WX3M6/XunM8M/M875naL/PM8zyxsZg1axYiIiJQv3597N27F9WqVcvZhd8UMBuBvaER2Lh0E8b99a3c2EPl7YOn166GbXE7MD+3GecPTMK0ig644fKohe/T/8P4ZhPgYO1gNp4sKAUoQAFzFLAQ7xDljBNvjuXXqcy5G4FcvXoV8fHxcHZ21ulY3IkC2gooRRcvn+67jMh16zHsn11QiMYe1k2aovryLzQaexR5vNQEZO4ejzV39mNVRRfRT6AFPO3cxLt+c9GqimFeqygyz0xAAQpQoBQFct7hN+ffbwaAJbiheAOVAI+7FksgTnTxMnZDMBr9uAadb56Q93UWo+b4zPgIFuI9Wa2n28G4veMtTLFNw3k7W3m3ztVfxrRnp8PFlg2atHZkQgpQoFwL8PcbMIoq4HJ9FzHzFNCzwIXweIxb/QeGHlyFwNjryLKwhNfk9+EqXpHQuisklQpZfy7BzuAlmOfqgoeWtqigsMf0VjPQtUZXPZeAh6cABShAAWMTYACowxXJXQWsw+7chQJaC+w6F47P1x3A1D/Xwic5FnBwhN/ihXBq107rYyApGvE/DkNQ0gUcdM/uF7CpRyPMbfsJfCr4aH8cpqQABShAAZMRYBVwCS4lHyGXAI+7Fiogve+38MAVnNiyFx8EfwfHzFQofHxQ9cuVsHv66UL31dh4/TBO//w2pjhZIsLKSjzyt8TIxqMxpP4QMf6vQiMpFyhAAQqYiwB/v1kFbC73OstZjgQSUjPw3sbTcPplJ2aF/iQ39rBv0gS+y0RjD1dX7UqiUiLz0FysCV2DLys6y30E+jl44ZN2S9DAo4F2x2AqClCAAhQwWQFWAZvspWXByqNAWEwy/u/rv9Hpt+/R9cZfchFcevdG5aCZsNS2sUdiFKK2D8Lk1P8QUim7YUeP6l3wQauP4GjtWB5ZmGcKUIACFChlAQaAOoDyHUAd0LhLkQLHr8Vg4rqjGH1kHRrFXBONPSzgNXECXN96S/vGHmFHcOTn4ZjmpMADezs4Wtpg+nNB6FajW5HnZwIKUIACFDAfAb4DWIJrzXcISoDHXTUEvj9xE6s3HML041/BNzlGNPZwgO/CT+HUoYNGugIXRCvfjKOfYum5lVj/qFPnus41sPCFL1DVuWqBu3EDBShAAXMU4O833wE0x/ueZTYigUylCh/vuYSzOw/gU9HYwynjIRTe3tmNPWrX1i6nKXGI+PEtTEy+iPOPgr83xIgeE1pMho2iGH0Eanc2pqIABShAARMQYBWwCVxEFqF8CiSKxh6jN52Bo2js8bHU2CNLBfvGjeH7xVJYuWePy1tkycLP4uiPAzDVQYl40bGzk8IWs9t8gheqvVDkrkxAAQpQgALmK8AAUIdrz3cAdUDjLhoC4Q8eYti6v/H8wQ3oEXZc3ubSswcqi/GuLW2zR+jQ2OEJC5kh32DFsZlY41JBbFWgnqjyXfTSClSpUOUJqbmKAhSgAAUo8FiA7wA+tij2HN8hKDYZdxACoXfiMXrNHxj++1docu+q3NjDc9w4uA0fpl1jj8w0xOx+D5Mjf8NJ0dBDmvo91Rvvi+HcWOUrc/AfClCAAoUK8Peb7wAWeoNwIwVKW+DAhUjMX3MQH/y5Bn5J9wA7O/hJjT1efFG7UyWE48wPr2GCRQzuieDP3sIKQc99jM41OZybdoBMRQEKUIACkgCrgHkfUKCMBNYfC8OOr3/G/BPfZDf2qFwZVVeugF3dulrlIOvGcWzc/RYWVrBCpgj8atp7YXGn1ajhUkOr/ZmIAhSgAAUokCPAADBHgt8U0JOASgzrNnfvJdzdsAkfn/sRVqKxh11gIPyWL4OVh0fRZ83KwsMTKxEUsgh7nBzk9C/7tEZQu0VwsM5eLvogTEEBClCAAhR4LMAA8LEF5yhQ6gKpGUpM3HwaVTatwZjrR+XjO3frCu85c7Rr7JGZjtu73sXYe0dxtYKDaOoBTGg8Fv0bFKNz6FIvFQ9IAQpQgALlXYABoA5XkK2AdUAzw10epKRj1Joj6LR9GZpFX5EFPMa+B7e339ausUdSNI7/8Crexz0k2NrATWGPhS8uR7PKzc1Qk0WmAAUoQIHSFGAr4BJoshVRCfBMfFepm5fxn+3BkD1iJI7EaGTZ2sF3wSdw7tRRq5Jn3T2Db37qjyUOFlCJIeECK1TD4pe/gpejl1b7MxEFKEABChQswN9vNgIp+O7gFgroKHA1KhFz5nyPcYfWwDkjBXD3hP+qFbCvV0+rIz48vxkz//wQex2zu3jp7fsCprdbwC5etNJjIgpQgAIU0EaAVcDaKDENBbQUCL4Rhw0ffoGJp36QG3tYBtRDDdHS19rLs+gjiMYekb9+iDFhW3FJBH/Sf5yTGo9DvwZDtKsyLvoMTEEBClCAAhSQBRgA8kagQCkJHDh/F6enzcaIf/+Qj2jXsROqLZgPS9HXX5GTGAP43PaBeC/5AmLF+36VLGzkUT2aez9T5K5MQAEKUIACFCiuAAPA4ooxPQWEgFJ07XIyLA7RianwdLLDnbv38PDDqegZdVn2qfjuSFQePVK7J3eJUdj1Q2/MtExAupUCtezc8UXXDRzSjXcaBShAAQroTYABoN5oeWBTFdj3TwSCdl1ERHyqXET3lAcI+vsr1E+IQKaVNXw/mY9KXbtoVXxlxDks/elNrLO3EOkt0N4tEPM7rWH/flrpMREFKEABCugqwABQVznuZ5YCUvD3zobTyHpU+poP7ojgbx3cUhMQZ+uE1Jnz0aBrB61sUi7vxpTDE3DI3kZOP/ypvhjV6kNYWlhqtT8TUYACFKAABXQVYACogxz7AdQBzQR2kap9pSd/OcHfMxEXMOXUBtgpM3DDyQszWw6F5eUstBPpFJbSE72Cp6i/lmJ06HJcEsGfjThg0LPT0a3OawXvwC0UoAAFKECBUhRgP4AlwGQ/QiXAK4e7/vVfLF5f87ec8843/saos9thKcLBEM+nMbf5AKRY28vbNg1/Fi1ruj25hCoVLv0yBqMif0O0lRVcLazx+Uur0MibnTs/GYxrKUABCpS+AH+/2Q9g6d9VPKLJCkgNPqSpReRFjHwU/P1S7Rksb9gHSktpkLbsKSddzrL6W7T0PbStHyanXsNDEfzVtHbBsm6b4Ovsp07CGQpQgAIUoEBZCLAKuCyUeQ6TEHC2s0bNB3cxJXiDGJM3C1Lwt7RRX9F2Q7O6V2oVnG9KicP3m7vjE8t4ZFlaoqVTDSzqtgFONk75knIFBShAAQpQQN8CDAD1Lczjm4RAQmoGvtkVjJmita+9Mh2nPWrJT/5yB39SGFjZxQ4t/F01yqyKu46F2/rgO1ulWG+Bvt6t8cGLS2Ftaa2RjgsUoAAFKECBshJgAFhW0jxPuRW4n5yOYV8eweBtS+AuWvveFA0+5jUfqFHtm/MMcEb3AI0GIKm3T2Lq3sH41S67injs02/grWenaNc/YLkVY8YpQAEKUMDYBdjfhLFfIebPoAKxSWl4Y9VxdNu1Ek/F30VWxUqwmr8YTh6VNPIlPflb2b8JXq7vrV5//9JPGPbLQDn4sxYtfT9pNgVDW05l8KcW4gwFKEABChhKwGyeAPbu3RuHDx/GCy+8gG3btml4L1y4EF9//bX8wzxlyhT0799fYzsXzFPgXmIa3lz7N9r/uhHPioYfsLGF/5crENCoEdq31xwJRKr2zd31y53g1Rhxbglu2lrDSbQVXtrhCzSr2tY8IVlqClCAAhQwOgGzCQDHjBmDt956C998843GRQgNDcXGjRsREhIir5cCxG7duqFixYoa6bhgXgJRCal4Q3T5UvfEAfS6flQufBUxrq+9CP6kSQr2Curq5dLhWXj3v82IsbaCtxjT98uuG1HDrba8H/+hAAUoQAEKGIOA2VQBt2/fHk5O+VtcXrp0Ca1atYKdnZ38aSR+4Pft22cM14Z5MJBA+IOHeG3VX3ANPYV3QnfKufAYPx7OL79ceI6ysvDX7ncwJGwLYsSYvk9bOWFDnz0M/gpX41YKUIACFDCAgFEEgEeOHEH37t3h4+MjV8Pu3Jn9o5vbY8WKFfD395eDtKZNm+Lo0eynMrnT6DJfv359HDp0CA8ePJA/v//+O+7evavLobiPCQhIwV+/1X/D4vo1fCBG+bAUQZ1L31fgNnxY4aVTZmLvtv/h3ZijSBbdvLSwq4z1fffBs0LlwvfjVgpQgAIUoIABBIyiCjg5ORkNGzbEkCFD8Morr+Rj2LJlC8aOHQspCHzuueewatUqdO7cGRcvXkTVqlXl9FJQmJaWlm/fAwcOyIFlvg2PVgQEBECqHu7QoQNcXFzQvHlzWIlOejmZn0BE/EN5pI+kuxH44uQ62GWmweHZZ+E9Y0bhDTcyUvH9lp6YrwyX+wTs5FIbc7tvhI0ie4xf85NkiSlAAQpQwNgFjG4oOAvRqe6OHTvQq1cvtd0zzzyDJk2aYOXKlep1devWldPMmzdPva6oGakRyLJly/I1Asm937BhwyA1GOnatWvu1U+c51AyT2Qplyul4E968hcZdR+f//UlqsXehk2NGqi+aSMU4g+Dgqas1EQs39IFq/BATvKGVytM7rQSlhZG8XC9oGxzPQUoQAGzFuDvN0TzRCOf0tPT5QYaHTt21MiptHz8+HGNdbouREdHy7teuXIFJ0+eRKdOnZ54KOkJo3TT5P48MSFXliuByPhUvC6Cv9sxSZh5frMc/CkqVYLfqi8LDf6UyfcwZ+ML6uBvVLVumNLpSwZ/5erqM7MUoAAFzFPA6Os6Y2JioFQq4eXlpXGFpOXIyEiNdYUtSEHd6dOnIVU3+/r6yk8ZpepeaZKeNkrvADo6OsrdwRRUBSw9bQwKCirsNNxWzgSk1r79Vv+FG7EpGH9tHxrdCoWFjQ18VyyHjV/BY/RmPLiFD7b1wD5rJcRjdEyrMwivPft+OSs9s0sBClCAAuYqYPQBYM6FkaqGc09Z4kc377rc2/PO79+/P+8q9bK2TxKnTp2K8aI1aM4kPQn0KyRIyEnHb+MUkPr5e1109SIFf29GBeOlC7/LGfWZPw8OjRsXmOmHMVcxbucrOCZGcrMS9+G8xuPwcsOhBabnBgpQgAIUoICxCRh9AOju7g6FQpHvaZ9UbZv3qaC+cW1tbSF9li9fLn+kJ5OcyqdAnBjerf/aE7h+Lxkdk66j/8nszsE9xr4H5y5dCixUUmQoRu1+HSHWFrAXo3ssaTkLz9XuU2B6bqAABShAAQoYo4DRvwNoI6rjpBa+Bw8e1PCTlqX++wwxjRw5Um6BHBwcbIjT85wlFIhPyZCDvytRiWiqjMW446JzcBHMu4hXAdzefrvAoz+4cxLDd/eTg78KIvhb9fxiBn8FanEDBShAAQoYs4BRPAFMSkrCtWvX1E5hYWE4e/YsXF1d5W5epGrXAQMGoFmzZmjZsiVWr16NW7duYcSIEep9ynKGTwDLUrt0z5WYmoGB607gYkQCalo+xMfH1wEpyXBo0QLes4IKfK0gJuwwhv/2Lq5ZK1AxywKrXliJAL/nSjdzPBoFKEABClCgjASMohsYqXsWaaSOvNOgQYOwfv16ebXUB+CCBQsQEREBqfPmJUuWoG1bw46tymbkea+YcS+npGdi4FcncermfVS2UeHrsyL4u3oZNqKD8eqbNxXY4jfi330YdmQ8bonRPTyyLLHm5a9Rs3IT4y4sc0cBClCAAgUK8PdbdFsrGlOIyixOugjwBtJFzTD7pGUqMeybUzj6bwxcbCyx6e5PsDj2B6TuXqpv2QybRx2K583dnSu7MOzPybgrgr8qWQqs6bYJfu518ybjMgUoQAEKlCMB/n6Xg34AjfF+kqqApRFEcrqRMcY8Mk+PBTKVKozeeEYO/hxsFPhOFSwHfxbW1vBdvqzA4O/mxR8x+FHwVy3LCut7/sjg7zEr5yhAAQpQoBwL8AlgCS4e/4IoAV4Z7apSZWHi1nP48cxd2FhZYqNXOByXL5TP7rNwIVy6PXnEl+sXfsCwEzNxT7RA94c1vuq1Ex4uVcso1zwNBShAAQroU4C/33wCqM/7i8c2sID0dsOMny/IwZ/C0gJf1c2E45dL5Fy5jxldYPB39fz3GHIiSA7+noIN1vX+mcGfga8lT08BClCAAqUrYPTdwJRucUvnaKwCLh1HfR9l4YEr+O7vm6JlL7CspTM8Fwdld/fSsyfc33nniae/Evo9hp2aiziFJerAFuv67IG7s+8T03IlBShAAQpQoLwKsAq4BFeOj5BLgKfnXdcevY6P91ySz7KgfRU0/mQ8MsMj4CCG/6v61Vp5uLe8WbgSuhHDg+fgvgj+6sEOq/ruhYujR95kXKYABShAgXIuwN9vVgGX81uY2X+SwPaQO+rgb0qHami+dq4c/NlUrw7fL5YWEPxt0gj+Vr/6C4O/J+FyHQUoQAEKmIQAq4B1uIysAtYBrYx2+fViFCZtPy+fbViraui6azVSQ0OhqFgRfqu+lL/zZuXKP5tF8Pex/OSvvnjyt1o8+XN2cM+bjMsUoAAFKEABkxFgFXAJLiUfIZcATw+7ngyLw4CvTiAtU4U+Tapg0o2DuL9uHaTuXqqu/xoOYkjBvNPVC1vl1r5StW998c7fqr6/wJnVvnmZuEwBClDApAT4+80qYJO6oc25MJcjEzD0m2A5+Huhjic+UF2Rgz/JxHvunCcGf/9d/hnDRVcvDP7M+c5h2SlAAQqYp4BRjAVsnvQsdWkJ3H3wEIPWnURiaiaaVauET/1TEfXubPnw7qNHwaV793ynunFtP4Ydnyq39q2bZSOe/O3hk798SlxBAQpQgAKmKsAA0FSvrJmU60FKuhz8RSWkoZZnBXz5XEXce2vQo+5eesD93XfzSdwOO4ShYmzfGFHt+7QY4WN1n5/hXMErXzquoAAFKEABCpiqABuB6HBl2QhEBzQ97JKakT2+77XoJFR2tsPXPWviwdjRUCUlwaFZM1SePVv0ASg6Acw1hd86jqGHRiNaBH81VWJs3147UNG5Sq4UnKUABShAAQqYvgAbgZTgGvMl0hLglXBXpRji7Z0NITggWv062Vlh6+AmsJ00Cqnnz8OmWjVU27wJVpUqaZwlOuIMBv0yAHcUFqiushQB4za4u9bSSMMFClCAAhQwfQH+frMRiOnf5SZYQmmIt6BdF+TgTxrfd23/Jqiw+GM5+FO4uMjdveQN/u7HXMXwXwbKwZ+vygJru21i8GeC9waLRAEKUIAC2gmwClg7J6YyIoE1YpSPb//KHuLts9cawf+nb5F44AAgunvxXfYFpA6fc0+J8bfw9s+v4roC8FQBa19eDy+PgNxJOE8BClCAAhQwKwEGgGZ1uct/YXefD8fcvZflgkzvGoCWl/9E7Jq18rLPnI/lod5ylzIlORojf+yFSwoVXEW18ZoOy1HFu0nuJJynAAUoQAEKmJ0AA0Czu+Tlt8DBN+Iw/odzcgEGt6qOfopIRAbNkpfdR46ES48eGoVLS43He9u64oxlBpxE8Leq9QLUqNZWIw0XKEABClCAAuYowABQh6vOVsA6oJVwl//uJWH4t6eQLkb56BjghUl1bXFnzHtAZiacRT9/7qNGapwhMyMVk7d2wd9Ihb0I/lY+8yHq1OqikYYLFKAABShAAXMVYCvgElx5tiIqAV4xdo1NSkPvFcdxKy4FDf0q4vs+tRDZ/w1k3L0LezG8W9Wv18HSxkZ9xCyVCjO2dMKO9EhYiwYjKwPfwzNNhqu3c4YCFKAABcxbgL/fADuCNu//Boy+9FJff29/FyIHf36u9lj7Wn3EjHxbDv6sq1aVG33kDv6kAi3Z8aoc/FmK4O/Tpwcw+DP6q8wMUoACFKBAWQuwCrisxXk+rQWk7l4mbz+PUzfvy339rRvYFGlzZuLhuXOwLKC7l3W7h+HrpKvyOWb6dsYLrSZrfT4mpAAFKEABCpiLAANAc7nS5bCcS3+7hp/OhkNhaYGVbzaFy8Z1SPxlX3Z3L18sha2/v0aptv82GUtiT8jrJrg2Q+8XP9XYzgUKUIACFKAABbIFGADyTjBKgZ/O3sWSX7Of5H3cqz7qnz+C2NWr5bx6z54FxxYtNPL9+4klmHV7j7zuLcenMLjbOo3tXKAABShAAQpQ4LEAA8DHFpwzEoGQm3F4f9t5OTfD2/ijhyocETNmyMtu74xAxV69NHJ65sJmTLr0FVRi3N/e1h4Y23sbxCDAGmm4QAEKUIACFKDAYwE2AnlswTkjELhzP0Vu9CF19/KS6O5lfG1b3HrjUXcvXbrAY8wYjVz+d+MwRp38GGmimvh5OOCjvrthoRBDfnCiAAUoQAEKUKBAAT4BLJCm4A3sB7Bgm5JsSU7LFH39hSAmKR11vZ2x6KWquDtiBFQJCbBv3Bje8+aKB3uPn+xFRl/EiEOjkSCCv0CVAp+K4M/KxqEkWeC+FKAABShAAbMQYD+AJbjM7EeoBHh5dlWJzprf/f409l2IhHsFG+wc3hyZY9/FwzNnYO3nh+pbNsPK1VW9V3xiOAZv64JrlkpUVwLf9diOiu5Pq7dzhgIUoAAFKFCQAH+/2Q9gQfcG15exwGeiwYcU/NkoLLHqzcaw+GSWHPxZOjvDb9WXGsFfenoKxorxfaXgz0OpwqoX1zD4K+PrxdNRgAIUoED5FmAVcPm+fiaR+13nwrH092tyWeb2aQC/nzYgYe8v4s8TK/guFd291KihLqdKpcT07T1wCg9RQYz4sbLlbPhUbaXezhkKUIACFKAABYoWYABYtBFT6FEg9E48Jm49J5/h7bY18OLNYMR+uUpe9g4KguOzz2ic/Yvdg/BLehSsRCfRi+sOQ+26fTS2c4ECFKAABShAgaIF2Aq4aCOm0JNAjBjj9+3vTiFNtPhtX9sDo1wTcGf4o+5e3n4bFV/RDO5+ODQVa+9nB4szK3dAy2fH6SlnPCwFKEABClDAtAUYAJr29TXa0mWId/ekRh/h8amo4eGIhS0rInzQQCAjA85dOsPjPc3uXo6cWYM5N3fJ/fu96/AUenb63GjLxoxRgAIUoAAFjF3ALKqAb9++jXbt2iEgIACBgYHYunWrxnXZvXs3ateujVq1amHt2rUa27igH4HZuy/iZFgcnGytsKp7TdwfPQqq+HjYN2wI77miuxfLx7fmpesHMfHs59kdPVtWwog+4vrl6g5GPznkUSlAAQpQgAKmK2AW3cBEREQgKioKjRo1QnR0NJo0aYIrV67A0dERmZmZcmB46NAhOIsWp9K2EydOwDVXlyMFXX42Iy9IpvD1W4JvYfL2UDmGW9uvAWrOn5Ld3Yuvb3Z3L25u6gNExV7FGz+/gmgRD7ZUWWP564dgbeei3s4ZClCAAhSgQHEF+PsNPH7MUly9cpTe29tbDv6kLHt6esrBXVxcnFyCkydPol69eqhSpQqcnJzQRYw2sX///nJUuvKV1ZCb9/Hhzgtypse/UAt1vl2a3d2LsJe7e8kV/KWkxmP07tfl4K9mZhYW9dzK4K98XW7mlgIUoAAFjFTAKALAI0eOoHv37vDx8ZFHeti5c2c+rhUrVsDf3x92dnZo2rQpjh49mi+NNitOnToFleg+xE90LixN4eHhcvCXs6+veAp19+7dnEV+l6JAdGIq3tkQgnTx/t/L9SrjtQv7kLBnT3Z3L1+I7l5q1lSfTanMxOQfe+IS0uEq0i/v8AWcXB9vVyfkDAUoQAEKUIACxRYwigAwOTkZDcW7X8uWLXtiAbZs2YKxY8di2rRpOCNGhmjTpg06d+6MW7duqdNLQWH9+vXzfaQAL2eKjY3FwIEDsXr16pxVyBLdieSdcg83lncbl3UTkBp9jPr+DKIT01DLswKC7G8iduVK+WDeQTNFdy/Pahx40e6BOJwRCxtxfZYGjkEV//Ya27lAAQpQgAIUoIDuAkbRClgK5qRPQdPixYsxdOhQDBs2TE7y2WefydW0K0UAMW/ePHldSEhIQbvL69PS0tC7d29MnToVrVo97jhYqvrN/cTvzp07eOYZzb7ncg4sHUP65EzSOwSctBOYt/cyTt6IQwXR6GNFfSBuwkx5R7fhw0V3L69oHOSHPz7Cdw9C5XVzfDqiYbO3NbZzgQIUoAAFKECBkgkYxRPAwoqQnp4OKbjr2LGjRjJp+fjx4xrrClqQnvINHjwYHTp0wIABAzSStWjRAv/8848cBCYmJmLv3r3o1KmTRpqcBSnYdHFxUX9yqpFztvP7yQI/nb2LdcfC5I2ft3aF6sPJcncvTi+/DI9xYzV2+vvCZswN+1FeN8q+Bl5+aZHGdi5QgAIUoAAFKFByAaMPAGNiYqBUKuHl5aVRWmk5MjJSY11BC8eOHYNUjSy9Wyi1BJY+oaHZT5isxHBjixYtQvv27dG4cWO8//77cMvVECH3MaWnh/Giq5Kcj9S9DKfCBS5HJmCKaPErTWNbeKDawulydy92DQPhM3+eRncvNyPPYsLJOVCKLl66whH/x+5eCsflVgpQgAIUoICOAkZRBaxN3vO+lyc91cu7rqDjtG7dWm74UdD2Hj16QPoUNdna2kL6cNJOICE1AyO+C8HDDCXa+bug17bP8fDmLViLane/5cthKRr05EwJKbEYtW8IEsSfJIGZQND/dsDCyiZnM78pQAEKUIACFChFAaN/Auju7g6FQpHvaZ/Un1/ep4Kl6FLooZaL4EXqVLp58+aFpjPnjVKAPvGHc7gRm4IqLnaYcWkHHp4+Dcuc7l7Edc2ZMpUZmLSjD25YZMJLNBb5vNMa2Dp552zmNwUoQAEKUIACpSxg9AGgjY2N3O3LwYMHNYouLeduzKGxUc8LI0eOxMWLFxEcHKznM5Xfw689GoYDF6Ngo7DEKtUZpO7bm93dy+efwfappzQKtmjPEBzLjIOd6J5naaMJcPfVbBGskZgLFKAABShAAQqUWMAoqoCTkpJw7do1dWHCwsJw9uxZucPmqlWrYvz48XLjjWbNmqFly5ZyNy5SFzAjRoxQ71OWM9ITQOkjvZvIKb9AsGjtO3/fZXnDZ24RUKz+Sp6vPOMjOOZqgS2t3HF8HjbcPydvn+PzEgKavCXP8x8KUIACFKAABfQnYBRDwR0+fFhuhJG3mIMGDcL69evl1VJH0AsWLIA0rJvU39+SJUvQtm3bvLuU6TKHksnPHZOUhq5LjyIqIQ0jKiWg14Z5yMrIgNuwofCcOFFjh3P/7cOQoxORIRp9vGvrh3deE51Cc4xfDSMuUIACFKBA6Qvw91v83Ip3tfL3hFz61iZ5RN5AmpdVqcrCwHUncOxaLFraJmPmvsVyi18n0WVPlc+WaLT4jX5wA/129MA9yyy8oLTB4v5HYWnjoHlALlGAAhSgAAX0IMDfbzMZC7i07x02AskvKgV/7289Jwd/7sqH+OjY2uzuXgJFdy+fzNcI/tIz0zBuVz85+HsqU4U5PTYz+MtPyjUUoAAFKEABvQnwCWAJaPkXRDbevn8i8MGPoYhLyYC1GMN3zvHVaBB7HZnunqi7YxusPDzUytID5xk7+mJH4lU4ixa/m1vNhV+dnurtnKEABShAAQroW4C/33wCqO97zOSPLwV/IzacloM/MbAyxpzdKgd/yVZ2GB04AL9GiU79ck2b/wySgz9LkfZT/1cY/OWy4SwFKEABClCgrASMvhuYsoIoznlYBZytJVX7zvz5gpqu39Xf8OLtEDGShyXmthiAm87eCNp1EVI6aTr97x4s+G+bPD/O4Sm0ahckz/MfClCAAhSgAAXKVoABoA7e7AcwG+1kWBwiRWtfaXr6/i30v7Rfnl8e2BunPWtDCvsi4lMhpbuXcBsTjk1Fpmjl21lpi0G9N7PFr6zFfyhAAQpQgAJlL2AU/QCWfbF5xtIQOHbtnnwYK1Umxp75AQoR8v3u2wS/+LfUOHz4gwSs/Ks/Yiyy8FSGCjN7b4GF9eNh4DQSc4ECFKAABShAAb0L8AmgDsSsAgak/v42nLgl67169RD8EyIRb+OIVQ3yN+gI/m8KzigT4CRG+vi8VRAc3GrqoM5dKEABClCAAhQoLQEGgDpImnsVsEq80zdBjPP7QLT6rZ4Ujdev/iorrgzshQRbR7WohZhr6HUAex5elNfNq/Iyqgb0VW/nDAUoQAEKUIAChhFgAGgY93J91nXHwvDH1XuwUwCfhO2CtUqJk1518UeVRupyScFfJduruFvpN3ndCIUXnn9poXo7ZyhAAQpQgAIUMJwAA0DD2ZfLM/9zNx6fPBrnd6n9dTj/dwkqewdsafOGRqMOb5dMeFT/Bmmi0S9tSgQAACOJSURBVEfrTEu803e7xvZyWXhmmgIUoAAFKGAiAmwEYiIXsiyKkZyWidGbziBDmYVXfa1Qbd16qMSJvd+fgF39XpFb+0YnpsKjgi22hPTH76lK+GQqMb/TOljauZRFFnkOClCAAhSgAAW0EOATQC2Q8iYx10YgM0Sff2ExyfB2tsU7Z7dDlZIC+6ZNUalfPygsLdCypht6NqqCf+8uEcHfXViLzp4X1/s/uPg2z0vIZQpQgAIUoAAFDCjAAFAHfHNsBPLT2bvYFnIHIs7DMp84pP15VHTlYg3vWUEa4/yevr4PS8J+klUnV6iLes+O1UGYu1CAAhSgAAUooE8BBoD61DWRY9+OS8H0Hf/IpRn3rDec1n4hz7u9/TZsaz7u0iUmMQITj0wWI4FYoIvSBv/r8a2JCLAYFKAABShAAdMSYABoWtez1EuTqVRh3JazSBTv/zWrVgl9Tv4IZUwMbETg5/Z/w9XnU4qWwFN2v4F7FirUyFBiRrfvYGFjr97OGQpQgAIUoAAFjEeAAaDxXAujzMnKw//h1M37qGBrhYVPK5GwXbTmFZNU9WtpY6PO8+rfJ+BEegzsRWfPS5q+DwfPAPU2zlCAAhSgAAUoYFwCDAB1uB7m0gjk7O0H+Oy3f2Wh2Z1rQfnpXHm+4muvwUE0/siZTv67CyvvZHcG/WGlpqjReEjOJn5TgAIUoAAFKGCEAhZZYjLCfJWLLCUkJMDFxQXx8fFwdnYuF3nWNpNSly9dlx7FjdgUdAv0xkf3/kTsypVQeLij5p49UDwqb0xSJF7d1kmM86tCb6UdZg08Blg9fjKo7fmYjgIUoAAFKFBWAqb8+62tIfsB1FbKzNLN3n1RDv58XOwws4E97r2xVhaoPG26OvhTZanwwe435eDvKfHe39Se3zH4M7P7hMWlAAUoQIHyKcAAsHxeN73mev+FSGwOvg3RmBeL+gYi6aP3gIwMVGjXDk6dOqrPvfbwFPyVFi2/97ew8TjYe9RRb+MMBShAAQpQgALGK8B3AI332hgkZzFJafjgx1D53P/XtgbqnPoVD8+cgaWDAyrP+EgEhdIov0DI9f1YfnOvPP+BcyBqNn3cIlheyX8oQAEKUIACFDBaAT4BNNpLU/YZk14HnbI9FLHJ6ahT2QljAl1wp+diOSMeY8fC2ttbno9/GIfJor8/lQgGe2Rao1ePr8s+szwjBShAAQpQgAI6C/AJoM50prfjVjHSx6+XomCjsMSS1xrh/vz5UCUlwS4wEJXefEMusBQkztg9AFEWSlQT7/1N6/oNYG1nehgsEQUoQAEKUMCEBRgAmvDFLU7RpNE+Zu26KO8yvuPT8L1wEokHD4pGHVbwnj0LFgqFvG3riU/xW8otWIlAcEHAMDhUblCc0zAtBShAAQpQgAJGIMAqYCO4CIbOgkqVhQlbzyFJdP3SvHolvNXYEze7D5Wz5TZkCOxq15bn/408gwWXRUtf8RrgeNtqCGg5ztBZ5/kpQAEKUIACFNBBgE8AdUAztY6gv/ozDCfD4uBgo8CiVxsh7rPPkBkVBeuqVeE+8l1Z6GFGCiYdeBtpIvhrkwH07/W9CASzG4ToQMhdKEABClCAAhQwoAADQB3wR44ciYsXLyI4OFiHvY1rl3+jEvHpgStypj7sFgD3W1dwf9Mmedl75gxY2mW/37dw3whcy3oI90wlZrf/DBb2FY2rIMwNBShAAQpQgAJaC7AKWGsq00uYqVTJVb/pmSq0r+2B1xp64UbfUYB4v8+lVy84tmolF/r3CxvxQ9wZiGFjMNe3M9xqvmB6GCwRBShAAQpQwIwE+ATQjC523qKuOnId5++IYezsrDCvTyDivl6PtH//haJSJXhOniQnv5cYjhnB8+X5QXBBy5cW5D0MlylAAQpQgAIUKGcCDADL2QUrrexejkzAZ79elQ83s0c9uN6PRMyKFfKy19QpsBJBoDTU2/S9g/DAIgt1RJcvo3uIBiCWitLKAo9DAQpQgAIUoICBBFgFbCB4Q542Q1T9ThStfjOUWXixrid6NfLB7SFvISs9Xa72de7eXc7exuPzcDw1ErYqFT5pOAY2rjUMmW2emwIUoAAFKECBUhLgE8BSgixPh1l5+D/8czcBLvbWmNu7ARJ2/oSUEydgIRp8VA6aKQ/3djXqLJb8u1ku1kT7mqjRfER5KiLzSgEKUIACFKBAIQJmEQDevn0b7dq1Q0BAAALFqBZbt27VIOnduzcqiSrPvn37aqw3xYUL4fFY+tu/ctFm9RRVvxnJiP7kE3nZY/Qo2Pj5IU2Zhsmiy5d00ctL23TgtZ7fmiIFy0QBClCAAhQwWwGzCACtxGgWn4m+7aSuW3799VeMGzcOycnJ6os+ZswYfPut6Qc5UtXv+1vPI1N0/Nypnhd6NPRB1Lz5UMbHw7ZOHbgOHCibfH5wDK6pUuCqVCKo3UJ2+aK+UzhDAQpQgAIUMA0BswgAvb290ahRI/mKeXp6wtXVFXFxceor2L59ezg5OamXTXVmtWj1ezEiARUdrDG7V30k//knEnbvFg07LLOHe7O2xsnr+/Bd1HGZYLbn83Cv1clUOVguClCAAhSggNkKGEUAeOTIEXQXDQ98fHzk98927tyZ74KsEC1U/f39YSfeU2vatCmOHj2aL402K06dOgWVaNTgJ6o6zWmSOnz+/Nfsqt+PpA6fFSpEzgySCVwH9Id9gwZITEvA9KNT5XV9M23Q9uXPzYmIZaUABShAAQqYjYBRBIBSdWzDhg2xbNmyJ8Jv2bIFY8eOxbRp03DmzBm0adMGnTt3xq1bt9TppaCwfv36+T7h4eHqNLGxsRgoqjlXr16tXmcOM0pR5Ttp+3mkiypgqcPn3o2r4N6y5ci4exdWPt7wEFXg0jR/3/8hApnwzcjE+53XAlY25sDDMlKAAhSgAAXMTsAouoGRgjnpU9C0ePFiDB06FMOGDZOTSO/z7d+/HytXrsS8efPkdSEhIQXtLq9PS0uD1Nhj6tSpaPVohItCd3jCRukY0idnSkhIyJk16u+vj4XhzK0HqGBrhTmi1W+qeBcybv16Oc/eM8Rwb46O+E2M9vHzgwuwlEb78H8FDj6NjbpMzBwFKEABClCAAroLGMUTwMKyny76ppOCu44dO2okk5aPH89+V01jwxMWskRQM3jwYHTo0AEDBgx4QgrtVknBpouLi/pTHqqRb8YmY+GjsX4/6FIX3hWsEfnhRxD14HDu0hkVnn8eMcnRCArObgk8RIz20bj9LO1AmIoCFKAABShAgXIpYPQBYExMDJSiNaqXl5cGsLQcGRmpsa6ghWPHjkGqRpbeLZQag0if0NBQdfJOnTrh1Vdfxd69e+Hr64vg4GD1ttwz0tPDeNFiNucjdS9jzJNKVP1O2R6K1AwVWtZww+st/BD33Qb5CaClszO8RHmk4DjolyG4b6HC06Lq991u38iNQoy5XMwbBShAAQpQgAIlEzCKKmBtimBhITqlyzVJgUvedbk2a8y2bt1abvihsTLXglSdrM1ka2sL6bN8+XL5IwWmxjxtOXUbf12PhZ21Jea/0kC88xeOe0uXyln2fH8irDw8sDNkBQ4n34K18JwXMBw27k8Zc5GYNwpQgAIUoAAFSkHA6J8Auru7Q6FQ5HvaFx0dne+pYCl4aHWIkSNHyn0KFvSkUKuD6DlRdEIq5u69JJ9lYsfaqOrqgMigIGQ9fAiHZs1Q8ZVXEJlwB5+EfimneVfhhadbjtNzrnh4ClCAAhSgAAWMQcDoA0AbGxu525eDBw9qeEnLujbm0DiQiS7M3HUBiamZCPR1weBW1ZGwZy+SRdc5FqKvv8qzxDt+4onqzH1DkWSRhcD0TAzu8a28zkQ5WCwKUIACFKAABXIJGEUVcFJSEq5du6bOVlhYGM6ePSt32Fy1alWMHz9ebrzRTDy5atmypdyNi9QFzIgRhhmf1tirgA9ejMLe0EgoLC0wv08gLBITEDV3ruzr9s4I2Nbwx/ZTS3HsYThsxHuCsxuOhpVLFbU/ZyhAAQpQgAIUMG0BC/EuXZahi3j48GFIo3HknQYNGoT1j7orkTqCXrBgASIiIuS+/pYsWYK2bdvm3aVMl6VuYKRWwVKjEGfRqMIYpsTUDLy0+Iio3k3FiOdrYkrnOggX/SfGb/8RNk/VRI0ff0TEwwj02dENyeK1yomKyhj05gE+/TOGi8c8UIACFKBAmQgY4+93mRQ810mMIgDMlZ9yMZv7CeDVq1eNKgD8cOc/+O7vm6jm5oD9Y9tCGXIKt0QXONJUbeP3sG/cGMN/6IgTqZFolK7E+td+hcLZR97OfyhAAQpQgALmIMAAUHT4YQ4XurTLaKyNQEJuxmHDiZtyceeJDp9tVJmIFB09S1PFfq/BoUkTbA1eIgd/dqIfwNmN3mPwJ+vwHwpQgAIUoIB5CTAANJHrnZ6pwtQfQ0W/fsCrTX3R6il3xIiRUtJv3pS7e/GcMAHh8Tex6OLXconHWFdB9Wb/ZyKlZzEoQAEKUIACFCiOAAPA4mgZcdo1R6/jalQS3BxtMK1rXaSKqunYtV/JOfb6cDosK1RA0P7hSBHv/TUWrX7f7MlWv0Z8OZk1ClCAAhSggF4FGADqwCu9AxgQEIDmzZvrsHfp73IrNgVLf/tXPrAU/LnYWWUP95aZiQovvACnl17CT2e+xHHR+ENq9RsUOBqWTpVLPyM8IgUoQAEKUIAC5UKAAaAOl8mY3gGUGnF/+NM/SBNVwK1quqF34yq4v2kTHp47B0sHB1QWT//uJUdiwfmVcklHWnnCv8U7OpSau1CAAhSgAAUoYCoCRtEPoKlgGqIce0Ij8MfVe7BRWGJ2r/rIjIrCvcVL5Kx4iP4TrcSYyR9v74FE0eFzPVH1O7CveAcwz7B6hsg3z0kBClCAAhSggOEE+ARQB3tjqQJOEH3+Be26KJfgnXY1UdOjAiI//hiq5GTYN2yISq/3w/5/vsWh5BuwEk8KZ9UdAqtK1XQoMXehAAUoQAEKUMCUBNgPYAmupqH7EfpIVP1++9dN+Ls74pf32iD98O+4O3oMYGUF/+3b8bCqO3puaY/7Fiq8m+WCdwYeER3/MOYvwSXnrhSgAAUoYAIChv79NgZCRgPGcBV0yMO52w/kDp+lXeeIql/r1BREzf5YPpLb0KGwq/00Fux/Rw7+aomq32HdRItgBn86SHMXClCAAhSggOkJMAAsh9dUKVryThcjfkh9/vVq5CP3+Re9eDEyo6NhXa0q3MV4v8eu7cbu+IsQj3gRVLMvrN1rl8OSMssUoAAFKEABCuhDgAGgPlT1fMyNJ28h9G48nGyt8IHo9iXl9Gk82LRZPqt30CykKsQoH8dnyMtvKu3Q4PnseT1ni4enAAUoQAEKUKCcCDAA1OFCGbIRSExSGj7dd1nO9YSOT8PD1hIRH30kL7v06QPHZ5/B8kMTcTcrHT6iH8DRHZcDCjb21uEycxcKUIACFKCAyQowANTh0hqyH8D5v1xGQmomAryd0f/Zaoj96iukX/sPCldXeL4/ERfCT2BD+BG5VNM92sDB7xkdSshdKEABClCAAhQwZQEGgOXo6p66EYdtIXfkHEt9/inFOL8xK7I7ePaaOhVZLhUw4/dxUIl+/rqkA21e/qwclY5ZpQAFKEABClCgrARYN1hW0iU8T6ZSJTf8kA7zWjM/NKlaEbcGvoesjAw4tm4N525dse7YLFxRJsJFqcSk1vMAG4cSnpW7U4ACFKAABShgigJ8AlhOrqrU39/lyERUdLDG5M51EC/6+UsJDoaFvT0qz5yBO/E3sPLaNrk07zvWgVvdnuWkZMwmBShAAQpQgAJlLcAAUAfxsm4EEp2YiiUHr8o5ndSpDpwfJiBqwafysseoUbCuUgVzDryLNAvgmTQlenRdrUOpuAsFKEABClCAAuYiwABQhytd1o1APvnlChLTMhHo64LXmvshau48qBISYBtQF66DBmL/he9x7OEdWIs+/6Y3fAcWFdx1KBV3oQAFKEABClDAXAQYABr5lQ65eR/bT2c3/AjqUQ8Pjx5Bwt698qge3rNmI1GZjE9CFsqlGJ5VEdVbjDLyEjF7FKAABShAAQoYWoCNQAx9BQo5vzTix8yfL8gp+jb1RUM3G1wfPEtedh00CPb162HRL8MQAyWqZ2RiaLdVgGgBzIkCFKAABShAAQoUJsAngIXpGHjbD6duq0f8mPxyHdz7YhkywsNh7eMDj9GjcD78b/wQ9becyw99XoRN5XoGzjFPTwEKUIACFKBAeRBgAGikVyk+JQOf7r8i5+69F2uhwo1/Efftt/Ky1OpXZWeDWYcmIEs88euRboEWLy0w0pIwWxSgAAUoQAEKGJsAq4CN7Yo8ys/ig1cQl5yOWp4VMLCFL+706weoVKK/v26o0LYtvvlrHq5kJsh9/k2Q+vyztjfSkjBbFKAABShAAQoYmwCfABrbFRH5uRSRgO/+vinnbKZo+JG4YQPSLl2CpYsLvKZOQVRSBFZc2SRvH2dfA67s888IryKzRAEKUIACFDBeAQaAOlwbffcDuOz3axDtP9C5fmU0t0sV7/59IefSa9IkWLm5YeGvo5FikYXA9Ez07iIafnCiAAUoQAEKUIACxRBgFXAxsHKSSv0ASp8E0Refi3gqV9rT3D4NoLC0QGM/F1yeNA3WqalwaNECLn164++wg9gXfwWWUp9/T/UTTwWrlPbpeTwKUIACFKAABUxcgAGgkV3gff9EIGjXRUTEpyJx9248e/okMiyt8G//kfBWZWDOn9PlHL+WaYO6bT8wstwzOxSgAAUoQAEKlAcBBoBGdJWk4O+dDachan/hlJ6Mt0N/knO3sfaL2PL7PQxInY4bqhS4ZSoxqt0SQGFtRLlnVihAAQpQgAIUKC8CfAfQSK6U1Omz9ORPCv6kadg/u+AigsAw58rYVqsdFFax2BP7i7xtQgUxHvBTL8rz/IcCFKAABShAAQoUV4ABYHHF9JT+ZFicXO0rHb7hvX/R8dYpqGCBpY36IlNUAft7r0e6uFpN0zLQrctKPeWCh6UABShAAQpQwBwEGAAayVWOTkxV56TD7RB5frd/S1x2rY6KjmcRWeEeFKLhx/8q9YGFk5c6LWcoQAEKUIACFKBAcQX4DmBxxfSU3tPJTn3kzxr/D6FuNXHcp4FYlwmXytsRJ+Y6xVug0nNj1ek4QwEKUIACFKAABXQRMIsngLdv30a7du0QEBCAwMBAbN26VW1V2DZ1ojKYaeHvCm8XO1HpCzG8myV+rdYcKdZ28HPbhTibDLnhR0zyYLSo6VEGueEpKEABClCAAhQwZQGLLDGZcgGlskVERCAqKgqNGjVCdHQ0mjRpgitXrsDR0bHQbUW55PQDGB8fD2dn56KSF7k9pxWwlFC6KJZWD+BWcz5SRZjeO8oVrbpsxsv1vYs8DhNQgAIUoAAFKFCwQGn/fhd8JuPdYhZPAL29veXgT7oMnp6ecHV1RVycVKkKFLZNTlCG/0jB3cr+TVBZPAmUpppe38rBX/3UDDwvun1h8FeGF4OnogAFKEABCpiwgFEEgEeOHEH37t3h4+MDCwsL7Ny5Mx/5ihUr4O/vDzs7OzRt2hRHjx7Nl0abFadOida1KhX8/PzyJS9sW77EelohBXl/Tu6AOX2ASOdwiEe0+KDmK3ihRRM9nZGHpQAFKEABClDA3ASMIgBMTk5Gw4YNsWzZsif6b9myBWPHjsW0adNw5swZtGnTBp07d8atW7fU6aWgsH79+vk+4eHh6jSxsbEYOHAgVq9erV6XM1PYtpw0Zfetws5/58qn65NhiQbtPiq7U/NMFKAABShAAQqYvIDRvQMoPQHcsWMHevXqpcZ/5pln5Pf2Vq583P9d3bp15TTz5s1TpytsJi0tDS+99BKGDx+OAQMGaCQtbFvuhFI66ZMzSe8QSE8SS+sdwJzjbjm1FB9fWAMnpQq7n/0YrgG9czbxmwIUoAAFKECBEgrwHUDRzqCEhnrfPT09HSEhIejYsaPGuaTl48ePa6wraEFq5zJ48GB06NAhX/BX2La8x5OCTRcXF/XnSdXIeffRZTnx6h5YiTyPsvZh8KcLIPehAAUoQAEKUKBQAaMPAGNiYqBUKuHlpdn5sbQcGRlZaOFyNh47dgxSNbL0bqHUElj6hIaGypsL25azf8731KlT5ad90hM/6SN1IaOPaVivTfjJtQ3+13mFPg7PY1KAAhSgAAUoYOYC5aYjaKlqOPckPbnLuy739tzzrVu3lht+5F6XM1/Ytpw0Od+2traQPsuXL5c/UmCql8nBFVV7PK7u1ss5eFAKUIACFKAABcxWwOifALq7u0OhUOR72if155f3qWBZXcWRI0fi4sWLCA4OLqtT8jwUoAAFKEABClCg1ASMPgC0sbGRu305ePCgRqGl5VatWmms4wIFKEABClCAAhSgQNECRlEFnJSUhGvXrqlzGxYWhrNnz8odNletWhXjx4+XG280a9YMLVu2lLtxkbqAGTFihHqfspzRexVwWRaG56IABShAAQpQwOwEjKIbmMOHD6N9+/b58AcNGoT169fL66WOoBcsWCAP3Sb197dkyRK0bds23z5luYLNyMtSm+eiAAUoQAEKlI4Af78hDTQhWlNwKpZA7ieAV69eLfV+AIuVGSamAAUoQAEKUKBYAgwAGQAW64bJm5g3UF4RLlOAAhSgAAWMX4C/3+WgI2jjv42YQwpQgAIUoAAFKFC+BIy+FbAxckpVwAEBAWjevLkxZo95ogAFKEABClCAAoUK8B3AQnkK38hHyIX7cCsFKEABClDAGAX4+80qYGO8L5knClCAAhSgAAUooFcBVgHrlZcHpwAFKEABClCAAsYnwABQh2vCdwB1QOMuFKAABShAAQoYjQDfASzBpeA7BCXA464UoAAFKEABAwnw9xswiqHgDHT9S3zanD60pRuJEwUoQAEKUIAC5UMg53c753e8fOS6dHPJALAEnomJifLefn5+JTgKd6UABShAAQpQwBAC0u+4i4uLIU5t8HOyCrgEl0ClUiE8PBxOTk6wsLB44pGkvgKDg4OfuE1aWdB26a8TKbC8ffs2nJ2dC9zf2DYUVJ7SzmdpnqckxyruvtqmLyqdrtt5XxV9JxZlW/QRslOU5DjF3Vfb9NqkKyxNQdt4XxV9VxRkV/Se+VPoeqzi7qdtem3SFZXmSdv1eV9JT/6k4M/HxweWlubZHIJPAPP/t6X1Gumm8fX1LTS9QqEoNIArarsU/JWnALCo8hSKVYyNpXmekhyruPtqm76odCXdzvuq4JutKNuC99TcUpLjFHdfbdNrk66wNIVtk0rP+0rzHsi9VJRd7rRFzet6rOLup216bdIVlaaw7fq6r8z1yV/O/aWYKaacBX7rR6BFixaFHvhJ29PS0jB//nxMnToVtra2he5vbBufVB595LE0z1OSYxV3X23TF5VOl+28r7S7E4uy1e4oQEmOU9x9tU2vTbrC0jxpG+8r7e6IJ9lpt2f+VLoeq7j7aZtem3RFpcm7vTzfV/mvmPGtYRWw8V0TOUfSo2/pr5P4+Phy9QTQSDmZrUcCvK94K+hDgPeVPlR5TN5X+r0H+ARQv74lOrr0SLxdu3awsmJNfYkgubOGAO8rDQ4ulJIA76tSguRhNAR4X2lwlOoCnwCWKicPRgEKUIACFKAABYxfwDybvhj/dWEOKUABClCAAhSggN4EGADqjZYHpgAFKEABClCAAsYpwADQOK8Lc0UBClCAAhSgAAX0JsAAUG+0PDAFKEABClCAAhQwTgEGgMZ5XZgrClCAAhSgAAUooDcBBoB6o9XfgXfv3o3atWujVq1aWLt2rf5OxCOblUDv3r1RqVIl9O3b16zKzcLqV0AazlLqziogIACBgYHYunWrfk/Io5uFgDSMmzR8XKNGjdCgQQOsWbPGLMpdmoVkNzClqVkGx8rMzJT/R3ro0CG5g+gmTZrgxIkTcHV1LYOz8xSmLCDdU0lJSfjmm2+wbds2Uy4qy1aGAhEREYiKipJ/qKOjoyH9P+vKlStwdHQsw1zwVKYmoFQqIY0U4uDggJSUFNSvXx/BwcFwc3MztaLqrTx8Aqg3Wv0c+OTJk6hXrx6qVKkCJycndOnSBfv379fPyXhUsxJo3769fE+ZVaFZWL0LeHt7y8GfdCJPT0/5j9W4uDi9n5cnMG0BqYNoKfiTptTUVEgBYVZWlmkXupRLxwCwlEGLOtyRI0fQvXt3+Pj4wMLCAjt37sy3y4oVK+Dv7w87Ozs0bdoUR48eVacJDw+Xg7+cFb6+vrh7927OIr/NVKCk95WZsrHYWgiU5r116tQpqFQq+Pn5aXFmJjFlgdK4rx48eICGDRtC+h2cNGkS3N3dTZms1MvGALDUSQs/YHJysnzDLlu27IkJt2zZgrFjx2LatGk4c+YM2rRpg86dO+PWrVty+if9hSMFkpzMW6Ck95V567H0hQmU1r0VGxuLgQMHYvXq1YWdjtvMRKA07quKFSvi3LlzCAsLw8aNG+VXDcyEr3SKKQIKTgYSEFcwa8eOHRpnb9GiRdaIESM01tWpUydrypQp8rpjx45l9erVS719zJgxWd9//716mTMU0OW+ylET7wFmvfLKKzmL/KaAhoCu95aoossSf8xmffvttxrH4wIFJAFd76vcetLv5g8//JB7FeeLEOATQHHnGcuUnp6OkJAQdOzYUSNL0vLx48fldSJAxD///CNX+0qtoPbu3YtOnTpppOcCBXILaHNf5U7PeQpoK6DNvSV+gzB48GB06NABAwYM0PbQTGfGAtrcV1LDooSEBFlJ+paqlKXeMThpL2ClfVKm1LdATEyM/CKrl5eXxqmk5cjISHmdlZUVFi1aBOmFfeldGum9B7Z60uDiQh4Bbe4raRfpD4nTp09DqpqR3qkRT6flbhbyHI6LFFALaHNviVoLSK+2SF3A5Lzz/N1338ldd6gPxBkK5BLQ5r66c+cOhg4dKjf8kP7IGDVqlHyP5ToMZ4sQYABYBJAhNud9p0+6uXOv69GjB6QPJwoURyD3PSTtl/e+Ymvy4mgybW6Bwu6t1q1by3+s5k7PeQpoI1DYfSU1kDx79qw2h2GaAgRYBVwAjCFWSy2YpKbtOU/7cvIg9Z2V96lgzjZ+U6AoAd5XRQlxu64CvLd0leN+hQnwvipMp/S2MQAsPcsSH8nGxkbu9uXgwYMax5KWW7VqpbGOCxTQVoD3lbZSTFdcAd5bxRVjem0EeF9po1TyNKwCLrlhsY4gjbRw7do19T5S83XpMbY0kkfVqlUxfvx4+UXpZs2aoWXLlnKXCVIXMKKFk3ofzlAgrwDvq7wiXC4tAd5bpSXJ4+QW4H2VW8NA8+I9IE5lKCB1syEudb7PoEGD1LlYvnx5VrVq1bLEX0FZYtikrD/++EO9jTMUeJIA76snqXBdaQjw3ioNRR4jrwDvq7wiZb/MsYANFHjztBSgAAUoQAEKUMBQAnwH0FDyPC8FKEABClCAAhQwkAADQAPB87QUoAAFKEABClDAUAIMAA0lz/NSgAIUoAAFKEABAwkwADQQPE9LAQpQgAIUoAAFDCXAANBQ8jwvBShAAQpQgAIUMJAAA0ADwfO0FKAABShAAQpQwFACDAANJc/zUoACFKAABShAAQMJMAA0EDxPSwEKUIACFKAABQwlwADQUPI8LwUoQAEKUIACFDCQAANAA8HztBSgAAUoQAEKUMBQAgwADSXP81KAAhSgAAUoQAEDCTAANBA8T0sBClCAAhSgAAUMJcAA0FDyPC8FKEABClCAAhQwkAADQAPB87QUoAAFKEABClDAUAIMAA0lz/NSgAIUoAAFKEABAwkwADQQPE9LAQpQgAIUoAAFDCXAANBQ8jwvBShAAQpQgAIUMJAAA0ADwfO0FKAABShAAQpQwFACDAANJc/zUoACFKAABShAAQMJMAA0EDxPSwEKUIACFKAABQwlwADQUPI8LwUoQAEKUIACFDCQAANAA8HztBSgAAUoQAEKUMBQAgwADSXP81KAAhSgAAUoQAEDCTAANBA8T0sBClCAAhSgAAUMJcAA0FDyPC8FKEABClCAAhQwkAADQAPB87QUoAAFKEABClDAUAIMAA0lz/NSgAIUoAAFKEABAwn8PzJ+0gr5rynMAAAAAElFTkSuQmCC\" width=\"640\">"
      ],
      "text/plain": [
       "<IPython.core.display.HTML object>"
      ]
     },
     "metadata": {},
     "output_type": "display_data"
    },
    {
     "data": {
      "text/plain": [
       "<matplotlib.legend.Legend at 0x7f9ae8ec3400>"
      ]
     },
     "execution_count": 23,
     "metadata": {},
     "output_type": "execute_result"
    }
   ],
   "source": [
    "temp_plot = 10 ** jnp.linspace(0, 3, 100)\n",
    "plt.figure()\n",
    "# plt.plot(temp_plot, jax_DT_reactivity(temp_plot), label='DT')\n",
    "plt.plot(temp_plot, jax_DD_nHe_reactivity(temp_plot) + jax_DD_pT_reactivity(temp_plot), label='DD (pT+nHe3)')\n",
    "plt.plot(temp_plot, jax_DD_nHe_reactivity(temp_plot), label='DD nHe3')\n",
    "plt.plot(temp_plot, jax_DD_pT_reactivity(temp_plot), label='DD pT')\n",
    "# plt.plot(temp_plot, test_jax_DD_nHe_reactivity(temp_plot) + jax_DD_pT_reactivity(temp_plot), label='Test _ DD (pT+nHe3)')\n",
    "# plt.plot(temp_plot, calc_DT_reactivity_linear(temp_plot), label='DT, linear')\n",
    "plt.plot(temp_plot, calc_DD_reactivity_linear(temp_plot), label='DD, linear')\n",
    "# plt.plot(temp_plot, calc_lin_reactivity(lin_c, temp_plot), label='DD, poly')\n",
    "# plt.scatter(linear_reactivity_temps, linear_reactivity_DT)\n",
    "plt.scatter(linear_reactivity_temps, linear_reactivity_DD)\n",
    "# plt.plot(temp_plot, calc_DHe3_reactivity_linear(temp_plot), label='DHe3, linear')\n",
    "plt.yscale('log')\n",
    "plt.xscale('log')\n",
    "plt.legend()"
   ]
  },
  {
   "cell_type": "markdown",
   "id": "2974ad8b",
   "metadata": {},
   "source": [
    "# Derived quantities"
   ]
  },
  {
   "cell_type": "markdown",
   "id": "003e5247",
   "metadata": {},
   "source": [
    "## Solving for Ti and Te"
   ]
  },
  {
   "cell_type": "markdown",
   "id": "18bc74d1",
   "metadata": {},
   "source": [
    "Ion temperature: $\\frac{3}{2} \\frac{T_i}{E_{beam}} = \\frac{\\exp{(-\\alpha)} - \\alpha \\Gamma(0, \\alpha)}{\\Gamma(0, \\alpha)}$\n",
    "\n",
    "Electron temperature: $\\frac{T_e}{E_{beam}} =  \\left( \\frac{T_i}{E_{beam}} \\frac{2}{3} \\frac{\\alpha^2 \\ln{R_m}^2}{(22.4)^2} \\right)^{1/3}$\n",
    "\n",
    "Energy balance: $E_{beam} + p_{aux} = T_i + 6T_e$"
   ]
  },
  {
   "cell_type": "code",
   "execution_count": 121,
   "id": "2e4b245f",
   "metadata": {},
   "outputs": [],
   "source": [
    "@jax.jit\n",
    "def alpha_root_func(a, R):\n",
    "    return ((e ** (-a) / gamma_0_j(a) - a))*2/3 + 6 * (((e ** (-a) / gamma_0_j(a) - a)) * a ** 2 * ln_j(R) ** 2/(22.4) ** 2 * 3/2) ** (1/3)\n",
    "\n",
    "@jax.jit\n",
    "def alpha_eq(a, R_in, power_aux_in):\n",
    "    return alpha_root_func(a, R_in) - (1 + power_aux_in)\n",
    "\n",
    "@jax.jit\n",
    "def find_alpha(R_in, power_aux_in):\n",
    "    bisec = Bisection(optimality_fun=alpha_eq, lower=0.001, upper=200.0, tol=1e-4, check_bracket=False, unroll=False)  # Check_bracket needs to be False to be JIT'd\n",
    "    alpha = bisec.run(R_in=R_in, power_aux_in=power_aux_in).params\n",
    "    return alpha\n",
    "\n",
    "@jax.jit\n",
    "def Ti_given_alpha(a):\n",
    "    return ((e ** (-a) / gamma_0_j(a) - a))*2/3\n",
    "\n",
    "@jax.jit\n",
    "def Te_given_alpha(a, R):\n",
    "    return (((e ** (-a) / gamma_0_j(a) - a)) * a ** 2 * ln_j(R) ** 2/(22.4) ** 2 * 2/3) ** (1/3)\n",
    "\n",
    "@jax.jit\n",
    "def find_Ti_and_Te(B_pm, B_p, p_aux, Eb):\n",
    "    R_in = B_pm / B_p\n",
    "    E_beam = Eb\n",
    "    \n",
    "    alpha = find_alpha(R_in, p_aux)\n",
    "    Ti = Ti_given_alpha(alpha)\n",
    "    Te = Te_given_alpha(alpha, R_in)\n",
    "    return Ti * E_beam, Te * E_beam"
   ]
  },
  {
   "cell_type": "code",
   "execution_count": 217,
   "id": "4a2127eb",
   "metadata": {},
   "outputs": [],
   "source": [
    "@jax.jit\n",
    "def find_Ti(B_pm, B_p, p_aux, Eb):\n",
    "    return find_Ti_and_Te(B_pm, B_p, p_aux, Eb)[0]\n",
    "\n",
    "@jax.jit\n",
    "def find_Te(B_pm, B_p, p_aux, Eb):\n",
    "    return find_Ti_and_Te(B_pm, B_p, p_aux, Eb)[1]\n",
    "\n",
    "@jax.jit\n",
    "def find_DT_reac(B_pm, B_p, p_aux, Eb):\n",
    "    return calc_DT_reactivity_linear(find_Ti_and_Te(B_pm, B_p, p_aux, Eb)[0])\n",
    "\n",
    "@jax.jit\n",
    "def find_DD_reac(B_pm, B_p, p_aux, Eb):\n",
    "    return calc_DD_reactivity_linear(find_Ti_and_Te(B_pm, B_p, p_aux, Eb)[0])"
   ]
  },
  {
   "cell_type": "code",
   "execution_count": 218,
   "id": "f838e3f1",
   "metadata": {},
   "outputs": [],
   "source": [
    "values = {**values, **{'Ti': find_Ti,\n",
    "                       'Te': find_Te,\n",
    "                       'DT_reac': find_DT_reac,\n",
    "                       'DD_reac': find_DD_reac}}"
   ]
  },
  {
   "cell_type": "markdown",
   "id": "aada2f19",
   "metadata": {},
   "source": [
    "### Te (old)"
   ]
  },
  {
   "cell_type": "markdown",
   "id": "781897b3",
   "metadata": {},
   "source": [
    "Electron temperature \n",
    "$T_e = 0.089 E_b \\log_{10} \\left( R_p \\right)^{0.4} = 0.089 E_b \\log_{10} \\left(\\frac{R_p}{1-\\beta} \\right)^{0.4}$"
   ]
  },
  {
   "cell_type": "code",
   "execution_count": 27,
   "id": "b393f081",
   "metadata": {
    "scrolled": false
   },
   "outputs": [],
   "source": [
    "# Te = 0.089 * Eb * ((sympy.log(R_p / (1))/sympy.log(10)) ** 0.4); Te"
   ]
  },
  {
   "cell_type": "code",
   "execution_count": 28,
   "id": "17bebac8",
   "metadata": {},
   "outputs": [],
   "source": [
    "# plug_in_values(Te, values)"
   ]
  },
  {
   "cell_type": "markdown",
   "id": "3e50c2d4",
   "metadata": {},
   "source": [
    "### Ti (old)"
   ]
  },
  {
   "cell_type": "code",
   "execution_count": 29,
   "id": "990e9e07",
   "metadata": {},
   "outputs": [],
   "source": [
    "# Ti = 0.6 * Eb"
   ]
  },
  {
   "cell_type": "markdown",
   "id": "fcbfc9e5",
   "metadata": {},
   "source": [
    "Mirror ratio $R_{\\text{plug}} = \\frac{B_m}{B_p}$"
   ]
  },
  {
   "cell_type": "code",
   "execution_count": 30,
   "id": "46009608",
   "metadata": {
    "scrolled": false
   },
   "outputs": [
    {
     "data": {
      "text/latex": [
       "$\\displaystyle \\frac{B_{pm}}{B_{p}}$"
      ],
      "text/plain": [
       "B_pm/B_p"
      ]
     },
     "execution_count": 30,
     "metadata": {},
     "output_type": "execute_result"
    }
   ],
   "source": [
    "R_p = B_pm / B_p; R_p"
   ]
  },
  {
   "cell_type": "markdown",
   "id": "6c4688a2",
   "metadata": {},
   "source": [
    "## End cells / plugs"
   ]
  },
  {
   "cell_type": "markdown",
   "id": "57283501",
   "metadata": {},
   "source": [
    "Radius at midplane $a_{\\text{plug}} = r_b \\sqrt{\\frac{B_m}{B_p}} = r_b \\sqrt{R_{plug}}$"
   ]
  },
  {
   "cell_type": "code",
   "execution_count": 31,
   "id": "3e449660",
   "metadata": {
    "scrolled": true
   },
   "outputs": [
    {
     "data": {
      "text/latex": [
       "$\\displaystyle r_{b} \\sqrt{\\frac{B_{pm}}{B_{p}}}$"
      ],
      "text/plain": [
       "r_b*sqrt(B_pm/B_p)"
      ]
     },
     "execution_count": 31,
     "metadata": {},
     "output_type": "execute_result"
    }
   ],
   "source": [
    "a_plug = r_b * sympy.sqrt(R_p); a_plug"
   ]
  },
  {
   "cell_type": "markdown",
   "id": "51efbc2c",
   "metadata": {},
   "source": [
    "Volume $V_p = L_p \\pi a_p^2$"
   ]
  },
  {
   "cell_type": "code",
   "execution_count": 32,
   "id": "eef60532",
   "metadata": {
    "scrolled": true
   },
   "outputs": [
    {
     "data": {
      "text/latex": [
       "$\\displaystyle \\frac{\\pi B_{pm} L_{p} r_{b}^{2}}{B_{p}}$"
      ],
      "text/plain": [
       "pi*B_pm*L_p*r_b**2/B_p"
      ]
     },
     "execution_count": 32,
     "metadata": {},
     "output_type": "execute_result"
    }
   ],
   "source": [
    "V_p = L_p * sympy.pi * a_plug ** 2; V_p"
   ]
  },
  {
   "cell_type": "markdown",
   "id": "f579c290",
   "metadata": {},
   "source": [
    "### n_plug"
   ]
  },
  {
   "cell_type": "markdown",
   "id": "25666877",
   "metadata": {},
   "source": [
    "Density at a given beta: $n_{\\text{plug}} = B_p^2 \\frac{\\beta_{\\text{limit}}}{2\\mu_0 |e|\\left(T_{\\text{ion}} + T_e \\right)}$"
   ]
  },
  {
   "cell_type": "code",
   "execution_count": 33,
   "id": "c7797966",
   "metadata": {
    "scrolled": true
   },
   "outputs": [
    {
     "data": {
      "text/plain": [
       "0.04026709076694141"
      ]
     },
     "execution_count": 33,
     "metadata": {},
     "output_type": "execute_result"
    }
   ],
   "source": [
    "const.mu_0 * const.elementary_charge * 2 * 1000 / 1e-20"
   ]
  },
  {
   "cell_type": "code",
   "execution_count": 210,
   "id": "f69a3b18",
   "metadata": {},
   "outputs": [],
   "source": [
    "n_plug = (B_p) ** 2 * beta / (2 * const.mu_0 * const.elementary_charge * 1000 * (Ti + Te))"
   ]
  },
  {
   "cell_type": "code",
   "execution_count": 211,
   "id": "972923bd",
   "metadata": {
    "scrolled": false
   },
   "outputs": [
    {
     "data": {
      "text/plain": [
       "DeviceArray(1.53884884e+20, dtype=float64)"
      ]
     },
     "execution_count": 211,
     "metadata": {},
     "output_type": "execute_result"
    }
   ],
   "source": [
    "plug_in_values(n_plug, values)"
   ]
  },
  {
   "cell_type": "markdown",
   "id": "8c0f4304",
   "metadata": {},
   "source": [
    "Total particle number: $N_{\\text{tot}} = V_p n_{\\text{plug}}$"
   ]
  },
  {
   "cell_type": "code",
   "execution_count": 41,
   "id": "b9da7c84",
   "metadata": {
    "scrolled": false
   },
   "outputs": [
    {
     "data": {
      "text/latex": [
       "$\\displaystyle \\frac{\\pi B_{p} B_{pm} L_{p} \\beta r_{b}^{2}}{4.02670907669414 \\cdot 10^{-22} Te + 4.02670907669414 \\cdot 10^{-22} Ti}$"
      ],
      "text/plain": [
       "pi*B_p*B_pm*L_p*beta*r_b**2/(4.02670907669414e-22*Te + 4.02670907669414e-22*Ti)"
      ]
     },
     "execution_count": 41,
     "metadata": {},
     "output_type": "execute_result"
    }
   ],
   "source": [
    "N_tot = V_p * n_plug; N_tot"
   ]
  },
  {
   "cell_type": "markdown",
   "id": "cf79aa2d",
   "metadata": {},
   "source": [
    "### tau fowler/baldwin"
   ]
  },
  {
   "cell_type": "markdown",
   "id": "a89bc69b",
   "metadata": {},
   "source": [
    "**General formula:** Particle conefinement time $\\tau_{\\text{Fowler/Baldwin}} = 2.8 \\cdot 10^{12} \\frac{E_b^{3/2}}{n_e} \\log_{10} R_m$"
   ]
  },
  {
   "cell_type": "code",
   "execution_count": 42,
   "id": "f5b51ba9",
   "metadata": {
    "scrolled": false
   },
   "outputs": [
    {
     "data": {
      "text/latex": [
       "$\\displaystyle \\frac{2.4 \\cdot 10^{16} Eb^{1.5} \\cdot \\left(4.02670907669414 \\cdot 10^{-22} Te + 4.02670907669414 \\cdot 10^{-22} Ti\\right) \\log{\\left(\\frac{B_{pm}}{B_{p} \\sqrt{1 - \\beta}} \\right)}}{B_{p}^{2} \\beta \\log{\\left(10 \\right)}}$"
      ],
      "text/plain": [
       "2.4e+16*Eb**1.5*(4.02670907669414e-22*Te + 4.02670907669414e-22*Ti)*log(B_pm/(B_p*sqrt(1 - beta)))/(B_p**2*beta*log(10))"
      ]
     },
     "execution_count": 42,
     "metadata": {},
     "output_type": "execute_result"
    }
   ],
   "source": [
    "tau_Fowler_Baldwin = 2.4 * 10 ** 16 * Eb ** (3/2) / n_plug * sympy.log(R_p / sympy.sqrt(1 - beta)) / sympy.log(10); tau_Fowler_Baldwin"
   ]
  },
  {
   "cell_type": "code",
   "execution_count": 43,
   "id": "fb4a61bd",
   "metadata": {},
   "outputs": [
    {
     "data": {
      "text/plain": [
       "DeviceArray(5.17691283, dtype=float64)"
      ]
     },
     "execution_count": 43,
     "metadata": {},
     "output_type": "execute_result"
    }
   ],
   "source": [
    "plug_in_values(tau_Fowler_Baldwin, values)"
   ]
  },
  {
   "cell_type": "markdown",
   "id": "1227eabe",
   "metadata": {},
   "source": [
    "Particles lost per second: $\\frac{dN}{dt} = \\frac{N_{\\text{tot}}}{\\tau_{\\text{Fowler/Baldwin}}}$"
   ]
  },
  {
   "cell_type": "code",
   "execution_count": 44,
   "id": "d7060fae",
   "metadata": {},
   "outputs": [],
   "source": [
    "dN_dt = N_tot / tau_Fowler_Baldwin"
   ]
  },
  {
   "cell_type": "markdown",
   "id": "5f758ecd",
   "metadata": {},
   "source": [
    "**General formula:** Ion gyroradius at center of the plug: $\\rho_i = \\frac{m v_\\perp}{q B} = 3.22\\cdot 10^{-3} \\frac{\\sqrt{\\mu E_{\\text{ion}}}}{B_p}$"
   ]
  },
  {
   "cell_type": "code",
   "execution_count": 45,
   "id": "384e345e",
   "metadata": {},
   "outputs": [
    {
     "data": {
      "text/latex": [
       "$\\displaystyle \\frac{0.00322 \\sqrt{Ti \\mu}}{B_{p}}$"
      ],
      "text/plain": [
       "0.00322*sqrt(Ti*mu)/B_p"
      ]
     },
     "execution_count": 45,
     "metadata": {},
     "output_type": "execute_result"
    }
   ],
   "source": [
    "rho_i = 3.22 * 10 ** -3 * sympy.sqrt(mu * Ti) / B_p; rho_i"
   ]
  },
  {
   "cell_type": "markdown",
   "id": "fb09ae95",
   "metadata": {},
   "source": [
    "Number of gryoradii in the plasma radius: $N_{\\text{gyro}} = \\frac{a_p}{\\rho_i}$"
   ]
  },
  {
   "cell_type": "code",
   "execution_count": 46,
   "id": "3107df2a",
   "metadata": {},
   "outputs": [
    {
     "data": {
      "text/latex": [
       "$\\displaystyle \\frac{310.55900621118 B_{p} r_{b} \\sqrt{\\frac{B_{pm}}{B_{p}}}}{\\sqrt{Ti \\mu}}$"
      ],
      "text/plain": [
       "310.55900621118*B_p*r_b*sqrt(B_pm/B_p)/sqrt(Ti*mu)"
      ]
     },
     "execution_count": 46,
     "metadata": {},
     "output_type": "execute_result"
    }
   ],
   "source": [
    "N_gyro = a_plug / rho_i; N_gyro"
   ]
  },
  {
   "cell_type": "markdown",
   "id": "9f8028e9",
   "metadata": {},
   "source": [
    "NBI current (A): $I_{\\text{NBI}}=|e|\\frac{dN}{dt}$"
   ]
  },
  {
   "cell_type": "code",
   "execution_count": 47,
   "id": "31a01987",
   "metadata": {},
   "outputs": [],
   "source": [
    "I_NBI = const.elementary_charge * dN_dt"
   ]
  },
  {
   "cell_type": "markdown",
   "id": "40c00c73",
   "metadata": {},
   "source": [
    "**General formula:** Coulomb logarithms: $\\lambda_{ei} = 24 - 0.5\\ln{n_e} + \\ln{T_e}$"
   ]
  },
  {
   "cell_type": "code",
   "execution_count": 48,
   "id": "48fb0141",
   "metadata": {},
   "outputs": [],
   "source": [
    "lambda_ei = 24 - 0.5 * sympy.log(n_plug) + sympy.log(Te)"
   ]
  },
  {
   "cell_type": "markdown",
   "id": "c3b797cc",
   "metadata": {},
   "source": [
    "**General formula:** Slowing down times: $\\tau_{i,\\text{slow}} = 0.1 \\frac{\\mu T_e^{3/2}}{n_{20} Z^2 \\lambda_{ei}}$"
   ]
  },
  {
   "cell_type": "code",
   "execution_count": 49,
   "id": "fd791b67",
   "metadata": {},
   "outputs": [],
   "source": [
    "tau_i_slow = 0.1 * mu * Te ** (3/2) / (n_plug / 10 ** 20 * Z_eff ** 2 * lambda_ei)"
   ]
  },
  {
   "cell_type": "markdown",
   "id": "20669179",
   "metadata": {},
   "source": [
    "Electron heating by fast ions (MW): $10^{-3}\\frac{I_{\\text{NBI}}E_b}{\\tau_{\\text{slow}}}$"
   ]
  },
  {
   "cell_type": "code",
   "execution_count": 50,
   "id": "2fc92fba",
   "metadata": {},
   "outputs": [],
   "source": [
    "P_e_heating_fastI = 10 ** -3 * I_NBI * Eb / tau_i_slow"
   ]
  },
  {
   "cell_type": "markdown",
   "id": "86999535",
   "metadata": {},
   "source": [
    "**General formula:** Lorentz factor: $\\gamma = \\sqrt{1 - \\frac{T_e}{m_e c^2}} = \\sqrt{1 - \\frac{T_e}{511 \\text{keV}}}$"
   ]
  },
  {
   "cell_type": "code",
   "execution_count": 51,
   "id": "6e809602",
   "metadata": {},
   "outputs": [
    {
     "data": {
      "text/latex": [
       "$\\displaystyle \\sqrt{1 - \\frac{Te}{511}}$"
      ],
      "text/plain": [
       "sqrt(1 - Te/511)"
      ]
     },
     "execution_count": 51,
     "metadata": {},
     "output_type": "execute_result"
    }
   ],
   "source": [
    "gamma = sympy.sqrt(1 - Te / 511); gamma"
   ]
  },
  {
   "cell_type": "markdown",
   "id": "9dae6022",
   "metadata": {},
   "source": [
    "### power losses"
   ]
  },
  {
   "cell_type": "markdown",
   "id": "d6a42023",
   "metadata": {},
   "source": [
    "Synchrotron radiation power loss (MW): $ P_{\\text{synch}} = 6\\cdot10^{-3} V_p n_{20} T_e \\gamma^2 B_p^2$"
   ]
  },
  {
   "cell_type": "code",
   "execution_count": 52,
   "id": "cf734f72",
   "metadata": {},
   "outputs": [
    {
     "data": {
      "text/latex": [
       "$\\displaystyle \\frac{6.0 \\cdot 10^{-23} \\pi B_{p}^{3} B_{pm} L_{p} Te \\beta r_{b}^{2} \\cdot \\left(1 - \\frac{Te}{511}\\right)}{4.02670907669414 \\cdot 10^{-22} Te + 4.02670907669414 \\cdot 10^{-22} Ti}$"
      ],
      "text/plain": [
       "6.0e-23*pi*B_p**3*B_pm*L_p*Te*beta*r_b**2*(1 - Te/511)/(4.02670907669414e-22*Te + 4.02670907669414e-22*Ti)"
      ]
     },
     "execution_count": 52,
     "metadata": {},
     "output_type": "execute_result"
    }
   ],
   "source": [
    "P_synch = 6 * 10 ** -3 * V_p * n_plug / 10 ** 20 * Te * gamma ** 2 * B_p ** 2; P_synch"
   ]
  },
  {
   "cell_type": "code",
   "execution_count": 53,
   "id": "6404bbc4",
   "metadata": {},
   "outputs": [
    {
     "data": {
      "text/plain": [
       "DeviceArray(4.31813085, dtype=float64)"
      ]
     },
     "execution_count": 53,
     "metadata": {},
     "output_type": "execute_result"
    }
   ],
   "source": [
    "plug_in_values(P_synch, values)/20"
   ]
  },
  {
   "cell_type": "markdown",
   "id": "4ffabad8",
   "metadata": {},
   "source": [
    "Bremsstrahlung radiation power loss (MW): $P_{\\text{brem}} = 5.35\\cdot10^{-3} n_{20}^2 Z_{\\text{eff}}\\sqrt{T_e} V_p$"
   ]
  },
  {
   "cell_type": "code",
   "execution_count": 54,
   "id": "9ecbe7e6",
   "metadata": {},
   "outputs": [],
   "source": [
    "P_brem = 5.35 * 10 ** -3 * (n_plug / 10 ** 20) ** 2 * Z_eff * sympy.sqrt(Te) * V_p"
   ]
  },
  {
   "cell_type": "code",
   "execution_count": 55,
   "id": "076f8b39",
   "metadata": {},
   "outputs": [
    {
     "data": {
      "text/plain": [
       "DeviceArray(0.43896232, dtype=float64)"
      ]
     },
     "execution_count": 55,
     "metadata": {},
     "output_type": "execute_result"
    }
   ],
   "source": [
    "plug_in_values(P_brem, values)"
   ]
  },
  {
   "cell_type": "markdown",
   "id": "eb569c22",
   "metadata": {},
   "source": [
    "Power loss from escaping electrons (MW): $P_{\\text{e,endloss}} = 10^{-3}(I_{\\text{NBI}}+I_{\\text{cooling}})\\cdot 7 T_e$"
   ]
  },
  {
   "cell_type": "code",
   "execution_count": 56,
   "id": "0c55b4a7",
   "metadata": {},
   "outputs": [
    {
     "data": {
      "text/latex": [
       "$\\displaystyle Te \\left(\\frac{288201.797210393 \\pi B_{p}^{3} B_{pm} L_{p} \\beta^{2} r_{b}^{2} \\log{\\left(10 \\right)}}{Eb^{1.5} \\left(Te + Ti\\right)^{2} \\log{\\left(\\frac{B_{pm}}{B_{p} \\sqrt{1 - \\beta}} \\right)}} + 0.007 I_{cooling}\\right)$"
      ],
      "text/plain": [
       "Te*(288201.797210393*pi*B_p**3*B_pm*L_p*beta**2*r_b**2*log(10)/(Eb**1.5*(Te + Ti)**2*log(B_pm/(B_p*sqrt(1 - beta)))) + 0.007*I_cooling)"
      ]
     },
     "execution_count": 56,
     "metadata": {},
     "output_type": "execute_result"
    }
   ],
   "source": [
    "P_e_endloss = 10 ** -3 * (I_NBI + I_cooling) * 7 * Te; P_e_endloss"
   ]
  },
  {
   "cell_type": "markdown",
   "id": "7ba03f66",
   "metadata": {},
   "source": [
    "Power loss from escaping fast ions (MW): $P_{\\text{i,endloss}} = 10^{-3} I_{\\text{NBI}} \\left(E_b-T_e\\right)$"
   ]
  },
  {
   "cell_type": "code",
   "execution_count": 57,
   "id": "ad0b5f3b",
   "metadata": {},
   "outputs": [
    {
     "data": {
      "text/latex": [
       "$\\displaystyle \\frac{41171.6853157704 \\pi B_{p}^{3} B_{pm} L_{p} \\beta^{2} r_{b}^{2} \\left(Eb - Te\\right) \\log{\\left(10 \\right)}}{Eb^{1.5} \\left(Te + Ti\\right)^{2} \\log{\\left(\\frac{B_{pm}}{B_{p} \\sqrt{1 - \\beta}} \\right)}}$"
      ],
      "text/plain": [
       "41171.6853157704*pi*B_p**3*B_pm*L_p*beta**2*r_b**2*(Eb - Te)*log(10)/(Eb**1.5*(Te + Ti)**2*log(B_pm/(B_p*sqrt(1 - beta))))"
      ]
     },
     "execution_count": 57,
     "metadata": {},
     "output_type": "execute_result"
    }
   ],
   "source": [
    "P_i_endloss = 10 ** -3 * I_NBI * (Eb - Te); P_i_endloss"
   ]
  },
  {
   "cell_type": "markdown",
   "id": "a2cfaa4a",
   "metadata": {},
   "source": [
    "Injected NBI Power (MW): $P_{\\text{NBI}} = 10^{-3}I_{\\text{NBI}} E_b$"
   ]
  },
  {
   "cell_type": "code",
   "execution_count": 58,
   "id": "dffd3e6d",
   "metadata": {},
   "outputs": [
    {
     "data": {
      "text/latex": [
       "$\\displaystyle \\frac{41171.6853157704 \\pi B_{p}^{3} B_{pm} L_{p} \\beta^{2} r_{b}^{2} \\log{\\left(10 \\right)}}{Eb^{0.5} \\left(Te + Ti\\right)^{2} \\log{\\left(\\frac{B_{pm}}{B_{p} \\sqrt{1 - \\beta}} \\right)}}$"
      ],
      "text/plain": [
       "41171.6853157704*pi*B_p**3*B_pm*L_p*beta**2*r_b**2*log(10)/(Eb**0.5*(Te + Ti)**2*log(B_pm/(B_p*sqrt(1 - beta))))"
      ]
     },
     "execution_count": 58,
     "metadata": {},
     "output_type": "execute_result"
    }
   ],
   "source": [
    "P_NBI = 10 ** -3 * I_NBI * Eb; P_NBI"
   ]
  },
  {
   "cell_type": "code",
   "execution_count": 59,
   "id": "289a0d6e",
   "metadata": {},
   "outputs": [
    {
     "data": {
      "text/plain": [
       "DeviceArray(18.6805481, dtype=float64)"
      ]
     },
     "execution_count": 59,
     "metadata": {},
     "output_type": "execute_result"
    }
   ],
   "source": [
    "plug_in_values(P_NBI, values)"
   ]
  },
  {
   "cell_type": "markdown",
   "id": "f17fd03f",
   "metadata": {},
   "source": [
    "Injected ECH Power (MW): $P_{\\text{ECH}} = \\frac{P_{\\text{synch}}}{20} +P_{\\text{e,endloss}} - \\left(\\text{Electron heating from fast ions}\\right)$\n",
    "* ignore P_e_endloss and P_e_heating_fastI because that's already included in the reduced model power balance (I think)"
   ]
  },
  {
   "cell_type": "code",
   "execution_count": 60,
   "id": "74cf53d9",
   "metadata": {},
   "outputs": [],
   "source": [
    "P_ECH = P_synch / 20 #+ P_e_endloss - P_e_heating_fastI"
   ]
  },
  {
   "cell_type": "markdown",
   "id": "f4911447",
   "metadata": {},
   "source": [
    "### fusion power"
   ]
  },
  {
   "cell_type": "markdown",
   "id": "5a932a59",
   "metadata": {},
   "source": [
    "Detuerium and tritium densities"
   ]
  },
  {
   "cell_type": "code",
   "execution_count": 61,
   "id": "62cf6417",
   "metadata": {},
   "outputs": [],
   "source": [
    "n_plug_D = (1 - T_frac) * n_plug\n",
    "n_plug_T = T_frac * n_plug"
   ]
  },
  {
   "cell_type": "markdown",
   "id": "1511d67b",
   "metadata": {},
   "source": [
    "DT fusion reaction rate (#/s). Here we assume a 50-50 DT fuel mixture: $R_{\\text{x,plug,DT}}=V_p \\frac{n_{\\text{plug}}^2}{4} \\langle\\sigma v\\rangle_{DT}$"
   ]
  },
  {
   "cell_type": "code",
   "execution_count": 62,
   "id": "b76dfcd0",
   "metadata": {},
   "outputs": [],
   "source": [
    "# Rx_plug_DT = V_p * n_plug ** 2 / 4 * DT_reactivity  # If using Bosch 1992 parameterization\n",
    "Rx_plug_DT = V_p * (n_plug_D * n_plug_T) * DT_reac"
   ]
  },
  {
   "cell_type": "markdown",
   "id": "032af3cd",
   "metadata": {},
   "source": [
    "DD fusion reaction rate (#/s). Here we assume a 50-50 DT fuel mixture: $R_{\\text{x,plug,DD}}=V_p \\left(\\frac{n_{\\text{plug}}}{2} \\right)^2 \\langle\\sigma v\\rangle_{DD} \\frac{1}{2}$"
   ]
  },
  {
   "cell_type": "code",
   "execution_count": 63,
   "id": "a99baee8",
   "metadata": {},
   "outputs": [],
   "source": [
    "# Rx_plug_DD = V_p * n_plug ** 2 * (DD_pT_reactivity + DD_nHe_reactivity) / 2  # If using Bosch 1992 parameterization\n",
    "Rx_plug_DD = V_p * n_plug_D ** 2 * (DD_reac) / 2"
   ]
  },
  {
   "cell_type": "markdown",
   "id": "4836a419",
   "metadata": {},
   "source": [
    "Fusion power (MW): $P_{\\text{plug}}=17.6|e|R_{\\text{x,plug}}$ -- we're just focusing on DT for now. Including DD it'd be: $P_{\\text{plug}}=17.6|e|R_{\\text{x,plug,DT}} + \\frac{4.03+3.27}{2}|e|R_{\\text{x,plug,DD}}$"
   ]
  },
  {
   "cell_type": "code",
   "execution_count": 64,
   "id": "516a98e3",
   "metadata": {},
   "outputs": [],
   "source": [
    "P_fus_plug_DT = 17.6 * const.elementary_charge * Rx_plug_DT * 1e-6  # 1e-6 converts W to MW"
   ]
  },
  {
   "cell_type": "code",
   "execution_count": 65,
   "id": "3846d8e1",
   "metadata": {},
   "outputs": [],
   "source": [
    "P_fus_plug_DD = (4.02 + 3.27)/2 * const.elementary_charge * Rx_plug_DD * 1e-6  # 1e-6 converts W to MW"
   ]
  },
  {
   "cell_type": "code",
   "execution_count": 66,
   "id": "e741d501",
   "metadata": {},
   "outputs": [],
   "source": [
    "P_fus_plug = P_fus_plug_DT + P_fus_plug_DD"
   ]
  },
  {
   "cell_type": "code",
   "execution_count": 67,
   "id": "62c1e696",
   "metadata": {},
   "outputs": [
    {
     "data": {
      "text/plain": [
       "DeviceArray(29.07565337, dtype=float64)"
      ]
     },
     "execution_count": 67,
     "metadata": {},
     "output_type": "execute_result"
    }
   ],
   "source": [
    "plug_in_values(P_fus_plug, values)"
   ]
  },
  {
   "cell_type": "markdown",
   "id": "2f714ed4",
   "metadata": {},
   "source": [
    "Lawson Triple Product (keV$\\cdot$s/m$^3$): $\\tau_{\\text{Fowler/Baldwin}} n T_i$"
   ]
  },
  {
   "cell_type": "code",
   "execution_count": 68,
   "id": "7c327560",
   "metadata": {
    "scrolled": true
   },
   "outputs": [],
   "source": [
    "triple_product = tau_Fowler_Baldwin * n_plug * Ti"
   ]
  },
  {
   "cell_type": "markdown",
   "id": "567fb7bb",
   "metadata": {},
   "source": [
    "Neutron Flux, DT only (MW/m$^2$): $\\frac{14}{17.6}\\frac{P_{\\text{plug}}}{4\\pi a_{\\text{wall}}^2}$ for DT. DD adds a component with $\\frac{2.45}{4.02 + 3.27}$"
   ]
  },
  {
   "cell_type": "code",
   "execution_count": 69,
   "id": "25c431ce",
   "metadata": {},
   "outputs": [],
   "source": [
    "neutron_flux = (14 / 17.6 * P_fus_plug_DT + 2.45 / (4.02 + 3.27)) * P_fus_plug_DD / (4 * const.pi * a_plug ** 2)"
   ]
  },
  {
   "cell_type": "code",
   "execution_count": 70,
   "id": "e3a6ea44",
   "metadata": {
    "scrolled": true
   },
   "outputs": [
    {
     "data": {
      "text/plain": [
       "DeviceArray(0.08543041, dtype=float64)"
      ]
     },
     "execution_count": 70,
     "metadata": {},
     "output_type": "execute_result"
    }
   ],
   "source": [
    "plug_in_values(2.45 / (4.02 + 3.27) * P_fus_plug_DD / (4 * const.pi * a_plug ** 2), values)"
   ]
  },
  {
   "cell_type": "code",
   "execution_count": 71,
   "id": "bd79775f",
   "metadata": {},
   "outputs": [
    {
     "data": {
      "text/plain": [
       "DeviceArray(5.68738488, dtype=float64)"
      ]
     },
     "execution_count": 71,
     "metadata": {},
     "output_type": "execute_result"
    }
   ],
   "source": [
    "plug_in_values(14 / 17.6 * P_fus_plug_DT / (4 * const.pi * a_plug ** 2), values)"
   ]
  },
  {
   "cell_type": "code",
   "execution_count": 72,
   "id": "4b46e354",
   "metadata": {},
   "outputs": [
    {
     "data": {
      "text/plain": [
       "DeviceArray(5.76279043, dtype=float64)"
      ]
     },
     "execution_count": 72,
     "metadata": {},
     "output_type": "execute_result"
    }
   ],
   "source": [
    "plug_in_values(neutron_flux, values)"
   ]
  },
  {
   "cell_type": "markdown",
   "id": "60b3b6e9",
   "metadata": {},
   "source": [
    "Burnup fraction, DT: $\\frac{R_{\\text{x,plug,DT}}}{dN/dt}$"
   ]
  },
  {
   "cell_type": "code",
   "execution_count": 73,
   "id": "e94e05c3",
   "metadata": {},
   "outputs": [],
   "source": [
    "frac_burnup = Rx_plug_DT / dN_dt"
   ]
  },
  {
   "cell_type": "markdown",
   "id": "b607a413",
   "metadata": {},
   "source": [
    "# Q_plug"
   ]
  },
  {
   "cell_type": "markdown",
   "id": "22b57b3b",
   "metadata": {},
   "source": [
    "## Evaluate Ti and Te"
   ]
  },
  {
   "cell_type": "markdown",
   "id": "8910054a",
   "metadata": {},
   "source": [
    "$Q_{\\text{plug}}$: $Q_{\\text{plug}} = \\frac{P_{\\text{plug}}}{P_{\\text{injected}}}$ (power in MW)"
   ]
  },
  {
   "cell_type": "code",
   "execution_count": 178,
   "id": "9b1811d2",
   "metadata": {
    "scrolled": true
   },
   "outputs": [
    {
     "data": {
      "text/plain": [
       "DeviceArray(4.31341324, dtype=float64)"
      ]
     },
     "execution_count": 178,
     "metadata": {},
     "output_type": "execute_result"
    }
   ],
   "source": [
    "plug_in_values(P_ECH, values)"
   ]
  },
  {
   "cell_type": "code",
   "execution_count": 179,
   "id": "7a45b3b7",
   "metadata": {},
   "outputs": [],
   "source": [
    "Q_plug = P_fus_plug / (P_NBI + P_ECH)"
   ]
  },
  {
   "cell_type": "code",
   "execution_count": 180,
   "id": "81cd01a1",
   "metadata": {},
   "outputs": [
    {
     "data": {
      "text/plain": [
       "DeviceArray(386.7831713, dtype=float64)"
      ]
     },
     "execution_count": 180,
     "metadata": {},
     "output_type": "execute_result"
    }
   ],
   "source": [
    "plug_in_values((1.0 * Ti), values)"
   ]
  },
  {
   "cell_type": "code",
   "execution_count": 181,
   "id": "79b29a87",
   "metadata": {},
   "outputs": [
    {
     "data": {
      "text/plain": [
       "DeviceArray(77.99558971, dtype=float64)"
      ]
     },
     "execution_count": 181,
     "metadata": {},
     "output_type": "execute_result"
    }
   ],
   "source": [
    "plug_in_values((1.0 * Te), values)"
   ]
  },
  {
   "cell_type": "markdown",
   "id": "62f7fd17",
   "metadata": {},
   "source": [
    "## Evaluate Q"
   ]
  },
  {
   "cell_type": "code",
   "execution_count": 182,
   "id": "72a5e70e",
   "metadata": {
    "scrolled": true
   },
   "outputs": [
    {
     "data": {
      "text/plain": [
       "{'Eb': 1000.0,\n",
       " 'beta': 0.8,\n",
       " 'B_pm': 30.0,\n",
       " 'B_p': 6.0,\n",
       " 'r_b': 0.25,\n",
       " 'L_p': 4.0,\n",
       " 'p_aux': 0.0,\n",
       " 'T_frac': 0.5,\n",
       " 'mu': 2.5,\n",
       " 'Z_eff': 1,\n",
       " 'I_cooling': 0,\n",
       " 'tau_alpha': 0,\n",
       " 'Ti': <function __main__.find_Ti(B_pm, B_p, p_aux, Eb)>,\n",
       " 'Te': <function __main__.find_Te(B_pm, B_p, p_aux, Eb)>,\n",
       " 'DT_reac': <function __main__.find_DT_reac(B_pm, B_p, p_aux, Eb)>,\n",
       " 'DD_reac': <function __main__.find_DD_reac(B_pm, B_p, p_aux, Eb)>}"
      ]
     },
     "execution_count": 182,
     "metadata": {},
     "output_type": "execute_result"
    }
   ],
   "source": [
    "values"
   ]
  },
  {
   "cell_type": "code",
   "execution_count": 183,
   "id": "a3dcc9cd",
   "metadata": {
    "scrolled": false
   },
   "outputs": [
    {
     "data": {
      "text/plain": [
       "DeviceArray(1.26561307, dtype=float64)"
      ]
     },
     "execution_count": 183,
     "metadata": {},
     "output_type": "execute_result"
    }
   ],
   "source": [
    "plug_in_values(Q_plug, values)"
   ]
  },
  {
   "cell_type": "markdown",
   "id": "243c31c9",
   "metadata": {},
   "source": [
    "* Ti/Ebeam = 2/3 --> Q_plug = 0.68327016 (spreadsheet says 0.686)\n",
    "* Ti/Ebeam = 0.6 --> Q_plug = 0.7356443"
   ]
  },
  {
   "cell_type": "markdown",
   "id": "4f4a35a1",
   "metadata": {},
   "source": [
    "## Triple product, energy confinement time, etc..."
   ]
  },
  {
   "cell_type": "code",
   "execution_count": 212,
   "id": "cf9bae9b",
   "metadata": {},
   "outputs": [
    {
     "data": {
      "text/plain": [
       "DeviceArray(3.07771648e+23, dtype=float64)"
      ]
     },
     "execution_count": 212,
     "metadata": {},
     "output_type": "execute_result"
    }
   ],
   "source": [
    "plug_in_values(triple_product, values)"
   ]
  },
  {
   "cell_type": "code",
   "execution_count": 213,
   "id": "f9fa6dab",
   "metadata": {
    "scrolled": true
   },
   "outputs": [
    {
     "data": {
      "text/plain": [
       "DeviceArray(7.95721403e+20, dtype=float64, weak_type=True)"
      ]
     },
     "execution_count": 213,
     "metadata": {},
     "output_type": "execute_result"
    }
   ],
   "source": [
    "plug_in_values(n_plug * tau_Fowler_Baldwin, values)"
   ]
  },
  {
   "cell_type": "markdown",
   "id": "255d1427",
   "metadata": {},
   "source": [
    "Energy confinement time $\\tau_E = W_p / P_{\\text{heating}}$ (power balance) (volume is overestimated — a linear falloff would cut it by a third):"
   ]
  },
  {
   "cell_type": "code",
   "execution_count": 83,
   "id": "806848d9",
   "metadata": {},
   "outputs": [
    {
     "data": {
      "text/plain": [
       "DeviceArray(3.61338434, dtype=float64)"
      ]
     },
     "execution_count": 83,
     "metadata": {},
     "output_type": "execute_result"
    }
   ],
   "source": [
    "plug_in_values((V_p * n_plug * 1000 * const.elementary_charge * (Ti + Te) * 3/2) / (1e6 * P_NBI), values)"
   ]
  },
  {
   "cell_type": "markdown",
   "id": "f1623b99",
   "metadata": {},
   "source": [
    "### alpha particle (broken)"
   ]
  },
  {
   "cell_type": "markdown",
   "id": "5fbc9dfc",
   "metadata": {},
   "source": [
    "$\\alpha$ particle density ($10^{20}m^{-3}$): $n_{\\alpha} = \\frac{I_{\\text{NBI}} Q_{\\text{plug}} \\tau_{\\alpha} E_b}{16 V_p E_{\\alpha}}$"
   ]
  },
  {
   "cell_type": "code",
   "execution_count": 84,
   "id": "3c9b7b19",
   "metadata": {},
   "outputs": [],
   "source": [
    "n_alpha = I_NBI * Q_plug * tau_alpha * Eb / (16 * V_p * E_alpha)"
   ]
  },
  {
   "cell_type": "markdown",
   "id": "9dc9c43b",
   "metadata": {},
   "source": [
    "$Z_{\\text{eff}}$: $Z_{\\text{eff}} = 1 +2n_{\\alpha}$"
   ]
  },
  {
   "cell_type": "code",
   "execution_count": 85,
   "id": "ed6714cb",
   "metadata": {},
   "outputs": [],
   "source": [
    "Z_eff = 1 + 2 * n_alpha"
   ]
  },
  {
   "cell_type": "code",
   "execution_count": 86,
   "id": "1c859ef1",
   "metadata": {},
   "outputs": [
    {
     "data": {
      "text/plain": [
       "DeviceArray(1., dtype=float64)"
      ]
     },
     "execution_count": 86,
     "metadata": {},
     "output_type": "execute_result"
    }
   ],
   "source": [
    "plug_in_values(Z_eff, values)"
   ]
  },
  {
   "cell_type": "markdown",
   "id": "1f6db1dc",
   "metadata": {},
   "source": [
    "# Optimizing Q_plug"
   ]
  },
  {
   "cell_type": "code",
   "execution_count": 237,
   "id": "4ae1cb0c",
   "metadata": {},
   "outputs": [
    {
     "data": {
      "text/plain": [
       "{'Eb': 1000.0,\n",
       " 'beta': 0.8,\n",
       " 'B_pm': 30.0,\n",
       " 'B_p': 6.0,\n",
       " 'r_b': 0.25,\n",
       " 'L_p': 4.0,\n",
       " 'p_aux': 0.0,\n",
       " 'T_frac': 0.5,\n",
       " 'mu': 2.5,\n",
       " 'Z_eff': 1,\n",
       " 'I_cooling': 0,\n",
       " 'tau_alpha': 0,\n",
       " 'Ti': <CompiledFunction of <function find_Ti at 0x7f99f9f86d40>>,\n",
       " 'Te': <CompiledFunction of <function find_Te at 0x7f99f9f8e170>>,\n",
       " 'DT_reac': <CompiledFunction of <function find_DT_reac at 0x7f9a08882050>>,\n",
       " 'DD_reac': <CompiledFunction of <function find_DD_reac at 0x7f99fa1cdb40>>}"
      ]
     },
     "execution_count": 237,
     "metadata": {},
     "output_type": "execute_result"
    }
   ],
   "source": [
    "values_to_opt = values.copy()\n",
    "values_to_opt"
   ]
  },
  {
   "cell_type": "markdown",
   "id": "9a88fc2d",
   "metadata": {},
   "source": [
    "Substitute in temperature and reactivities functions into the sympy equation and then lambdify"
   ]
  },
  {
   "cell_type": "code",
   "execution_count": 238,
   "id": "f028ac36",
   "metadata": {
    "scrolled": true
   },
   "outputs": [],
   "source": [
    "Q_plug_func_sympy, Q_plug_function, Q_arg_tuple, Q_arg_idx = sub_and_lambdify(Q_plug - 1/B_p, values_to_opt)"
   ]
  },
  {
   "cell_type": "markdown",
   "id": "fb928add",
   "metadata": {},
   "source": [
    "Optimize for:\n",
    "* B_pm\n",
    "* B_p\n",
    "* r_b\n",
    "* L_p\n",
    "* p_aux\n",
    "* T_frac\n",
    "* Eb"
   ]
  },
  {
   "cell_type": "code",
   "execution_count": 239,
   "id": "a4fc610b",
   "metadata": {},
   "outputs": [],
   "source": [
    "opt_symbol_list = [B_pm, B_p, r_b, L_p, T_frac, Eb]"
   ]
  },
  {
   "cell_type": "markdown",
   "id": "3a30468c",
   "metadata": {},
   "source": [
    "Create mask so that parameters we don't want to optimize remain constant"
   ]
  },
  {
   "cell_type": "code",
   "execution_count": 240,
   "id": "27605727",
   "metadata": {},
   "outputs": [
    {
     "name": "stdout",
     "output_type": "stream",
     "text": [
      "[B_pm, B_p, L_p, r_b, T_frac, p_aux, beta, Eb]\n",
      "[1. 1. 1. 1. 1. 0. 0. 1.]\n"
     ]
    }
   ],
   "source": [
    "symbol_list = list(Q_plug_func_sympy.free_symbols)\n",
    "symbol_list_names = [sym.name for sym in symbol_list]\n",
    "print(symbol_list)\n",
    "opt_idx = [symbol_list.index(sym) for sym in opt_symbol_list]\n",
    "opt_idx_mask = np.zeros(len(symbol_list))\n",
    "opt_idx_mask[opt_idx] = 1\n",
    "print(opt_idx_mask)"
   ]
  },
  {
   "cell_type": "markdown",
   "id": "c4b5e4b7",
   "metadata": {},
   "source": [
    "Build gradient function"
   ]
  },
  {
   "cell_type": "code",
   "execution_count": 241,
   "id": "ed616ebe",
   "metadata": {
    "scrolled": true
   },
   "outputs": [],
   "source": [
    "grad_Q_func = jax.jit(jax.grad(Q_plug_function, jnp.arange(len(symbol_list))))"
   ]
  },
  {
   "cell_type": "markdown",
   "id": "9d1f15d0",
   "metadata": {},
   "source": [
    "## Optimization loop"
   ]
  },
  {
   "cell_type": "code",
   "execution_count": 242,
   "id": "70376361",
   "metadata": {},
   "outputs": [
    {
     "data": {
      "application/vnd.jupyter.widget-view+json": {
       "model_id": "15c40b82ebd2456d866d2008a5664eb0",
       "version_major": 2,
       "version_minor": 0
      },
      "text/plain": [
       "  0%|          | 0/5000 [00:00<?, ?it/s]"
      ]
     },
     "metadata": {},
     "output_type": "display_data"
    }
   ],
   "source": [
    "loop_values = []\n",
    "loop_values.append(jnp.array(Q_arg_tuple))\n",
    "loop_Q_grad = []\n",
    "\n",
    "for i in tqdm(range(5000)):\n",
    "    grad_Q = -jnp.array(grad_Q_func(*tuple(loop_values[i]))) * opt_idx_mask * 1e-1\n",
    "    new_value = loop_values[-1] - grad_Q\n",
    "    loop_values.append(new_value)\n",
    "    loop_Q_grad.append(grad_Q)"
   ]
  },
  {
   "cell_type": "markdown",
   "id": "20a0cecb",
   "metadata": {},
   "source": [
    "## Plot Q and gradient norm"
   ]
  },
  {
   "cell_type": "code",
   "execution_count": 195,
   "id": "181f2213",
   "metadata": {},
   "outputs": [
    {
     "data": {
      "application/javascript": [
       "/* Put everything inside the global mpl namespace */\n",
       "/* global mpl */\n",
       "window.mpl = {};\n",
       "\n",
       "mpl.get_websocket_type = function () {\n",
       "    if (typeof WebSocket !== 'undefined') {\n",
       "        return WebSocket;\n",
       "    } else if (typeof MozWebSocket !== 'undefined') {\n",
       "        return MozWebSocket;\n",
       "    } else {\n",
       "        alert(\n",
       "            'Your browser does not have WebSocket support. ' +\n",
       "                'Please try Chrome, Safari or Firefox ≥ 6. ' +\n",
       "                'Firefox 4 and 5 are also supported but you ' +\n",
       "                'have to enable WebSockets in about:config.'\n",
       "        );\n",
       "    }\n",
       "};\n",
       "\n",
       "mpl.figure = function (figure_id, websocket, ondownload, parent_element) {\n",
       "    this.id = figure_id;\n",
       "\n",
       "    this.ws = websocket;\n",
       "\n",
       "    this.supports_binary = this.ws.binaryType !== undefined;\n",
       "\n",
       "    if (!this.supports_binary) {\n",
       "        var warnings = document.getElementById('mpl-warnings');\n",
       "        if (warnings) {\n",
       "            warnings.style.display = 'block';\n",
       "            warnings.textContent =\n",
       "                'This browser does not support binary websocket messages. ' +\n",
       "                'Performance may be slow.';\n",
       "        }\n",
       "    }\n",
       "\n",
       "    this.imageObj = new Image();\n",
       "\n",
       "    this.context = undefined;\n",
       "    this.message = undefined;\n",
       "    this.canvas = undefined;\n",
       "    this.rubberband_canvas = undefined;\n",
       "    this.rubberband_context = undefined;\n",
       "    this.format_dropdown = undefined;\n",
       "\n",
       "    this.image_mode = 'full';\n",
       "\n",
       "    this.root = document.createElement('div');\n",
       "    this.root.setAttribute('style', 'display: inline-block');\n",
       "    this._root_extra_style(this.root);\n",
       "\n",
       "    parent_element.appendChild(this.root);\n",
       "\n",
       "    this._init_header(this);\n",
       "    this._init_canvas(this);\n",
       "    this._init_toolbar(this);\n",
       "\n",
       "    var fig = this;\n",
       "\n",
       "    this.waiting = false;\n",
       "\n",
       "    this.ws.onopen = function () {\n",
       "        fig.send_message('supports_binary', { value: fig.supports_binary });\n",
       "        fig.send_message('send_image_mode', {});\n",
       "        if (fig.ratio !== 1) {\n",
       "            fig.send_message('set_device_pixel_ratio', {\n",
       "                device_pixel_ratio: fig.ratio,\n",
       "            });\n",
       "        }\n",
       "        fig.send_message('refresh', {});\n",
       "    };\n",
       "\n",
       "    this.imageObj.onload = function () {\n",
       "        if (fig.image_mode === 'full') {\n",
       "            // Full images could contain transparency (where diff images\n",
       "            // almost always do), so we need to clear the canvas so that\n",
       "            // there is no ghosting.\n",
       "            fig.context.clearRect(0, 0, fig.canvas.width, fig.canvas.height);\n",
       "        }\n",
       "        fig.context.drawImage(fig.imageObj, 0, 0);\n",
       "    };\n",
       "\n",
       "    this.imageObj.onunload = function () {\n",
       "        fig.ws.close();\n",
       "    };\n",
       "\n",
       "    this.ws.onmessage = this._make_on_message_function(this);\n",
       "\n",
       "    this.ondownload = ondownload;\n",
       "};\n",
       "\n",
       "mpl.figure.prototype._init_header = function () {\n",
       "    var titlebar = document.createElement('div');\n",
       "    titlebar.classList =\n",
       "        'ui-dialog-titlebar ui-widget-header ui-corner-all ui-helper-clearfix';\n",
       "    var titletext = document.createElement('div');\n",
       "    titletext.classList = 'ui-dialog-title';\n",
       "    titletext.setAttribute(\n",
       "        'style',\n",
       "        'width: 100%; text-align: center; padding: 3px;'\n",
       "    );\n",
       "    titlebar.appendChild(titletext);\n",
       "    this.root.appendChild(titlebar);\n",
       "    this.header = titletext;\n",
       "};\n",
       "\n",
       "mpl.figure.prototype._canvas_extra_style = function (_canvas_div) {};\n",
       "\n",
       "mpl.figure.prototype._root_extra_style = function (_canvas_div) {};\n",
       "\n",
       "mpl.figure.prototype._init_canvas = function () {\n",
       "    var fig = this;\n",
       "\n",
       "    var canvas_div = (this.canvas_div = document.createElement('div'));\n",
       "    canvas_div.setAttribute(\n",
       "        'style',\n",
       "        'border: 1px solid #ddd;' +\n",
       "            'box-sizing: content-box;' +\n",
       "            'clear: both;' +\n",
       "            'min-height: 1px;' +\n",
       "            'min-width: 1px;' +\n",
       "            'outline: 0;' +\n",
       "            'overflow: hidden;' +\n",
       "            'position: relative;' +\n",
       "            'resize: both;'\n",
       "    );\n",
       "\n",
       "    function on_keyboard_event_closure(name) {\n",
       "        return function (event) {\n",
       "            return fig.key_event(event, name);\n",
       "        };\n",
       "    }\n",
       "\n",
       "    canvas_div.addEventListener(\n",
       "        'keydown',\n",
       "        on_keyboard_event_closure('key_press')\n",
       "    );\n",
       "    canvas_div.addEventListener(\n",
       "        'keyup',\n",
       "        on_keyboard_event_closure('key_release')\n",
       "    );\n",
       "\n",
       "    this._canvas_extra_style(canvas_div);\n",
       "    this.root.appendChild(canvas_div);\n",
       "\n",
       "    var canvas = (this.canvas = document.createElement('canvas'));\n",
       "    canvas.classList.add('mpl-canvas');\n",
       "    canvas.setAttribute('style', 'box-sizing: content-box;');\n",
       "\n",
       "    this.context = canvas.getContext('2d');\n",
       "\n",
       "    var backingStore =\n",
       "        this.context.backingStorePixelRatio ||\n",
       "        this.context.webkitBackingStorePixelRatio ||\n",
       "        this.context.mozBackingStorePixelRatio ||\n",
       "        this.context.msBackingStorePixelRatio ||\n",
       "        this.context.oBackingStorePixelRatio ||\n",
       "        this.context.backingStorePixelRatio ||\n",
       "        1;\n",
       "\n",
       "    this.ratio = (window.devicePixelRatio || 1) / backingStore;\n",
       "\n",
       "    var rubberband_canvas = (this.rubberband_canvas = document.createElement(\n",
       "        'canvas'\n",
       "    ));\n",
       "    rubberband_canvas.setAttribute(\n",
       "        'style',\n",
       "        'box-sizing: content-box; position: absolute; left: 0; top: 0; z-index: 1;'\n",
       "    );\n",
       "\n",
       "    // Apply a ponyfill if ResizeObserver is not implemented by browser.\n",
       "    if (this.ResizeObserver === undefined) {\n",
       "        if (window.ResizeObserver !== undefined) {\n",
       "            this.ResizeObserver = window.ResizeObserver;\n",
       "        } else {\n",
       "            var obs = _JSXTOOLS_RESIZE_OBSERVER({});\n",
       "            this.ResizeObserver = obs.ResizeObserver;\n",
       "        }\n",
       "    }\n",
       "\n",
       "    this.resizeObserverInstance = new this.ResizeObserver(function (entries) {\n",
       "        var nentries = entries.length;\n",
       "        for (var i = 0; i < nentries; i++) {\n",
       "            var entry = entries[i];\n",
       "            var width, height;\n",
       "            if (entry.contentBoxSize) {\n",
       "                if (entry.contentBoxSize instanceof Array) {\n",
       "                    // Chrome 84 implements new version of spec.\n",
       "                    width = entry.contentBoxSize[0].inlineSize;\n",
       "                    height = entry.contentBoxSize[0].blockSize;\n",
       "                } else {\n",
       "                    // Firefox implements old version of spec.\n",
       "                    width = entry.contentBoxSize.inlineSize;\n",
       "                    height = entry.contentBoxSize.blockSize;\n",
       "                }\n",
       "            } else {\n",
       "                // Chrome <84 implements even older version of spec.\n",
       "                width = entry.contentRect.width;\n",
       "                height = entry.contentRect.height;\n",
       "            }\n",
       "\n",
       "            // Keep the size of the canvas and rubber band canvas in sync with\n",
       "            // the canvas container.\n",
       "            if (entry.devicePixelContentBoxSize) {\n",
       "                // Chrome 84 implements new version of spec.\n",
       "                canvas.setAttribute(\n",
       "                    'width',\n",
       "                    entry.devicePixelContentBoxSize[0].inlineSize\n",
       "                );\n",
       "                canvas.setAttribute(\n",
       "                    'height',\n",
       "                    entry.devicePixelContentBoxSize[0].blockSize\n",
       "                );\n",
       "            } else {\n",
       "                canvas.setAttribute('width', width * fig.ratio);\n",
       "                canvas.setAttribute('height', height * fig.ratio);\n",
       "            }\n",
       "            canvas.setAttribute(\n",
       "                'style',\n",
       "                'width: ' + width + 'px; height: ' + height + 'px;'\n",
       "            );\n",
       "\n",
       "            rubberband_canvas.setAttribute('width', width);\n",
       "            rubberband_canvas.setAttribute('height', height);\n",
       "\n",
       "            // And update the size in Python. We ignore the initial 0/0 size\n",
       "            // that occurs as the element is placed into the DOM, which should\n",
       "            // otherwise not happen due to the minimum size styling.\n",
       "            if (fig.ws.readyState == 1 && width != 0 && height != 0) {\n",
       "                fig.request_resize(width, height);\n",
       "            }\n",
       "        }\n",
       "    });\n",
       "    this.resizeObserverInstance.observe(canvas_div);\n",
       "\n",
       "    function on_mouse_event_closure(name) {\n",
       "        return function (event) {\n",
       "            return fig.mouse_event(event, name);\n",
       "        };\n",
       "    }\n",
       "\n",
       "    rubberband_canvas.addEventListener(\n",
       "        'mousedown',\n",
       "        on_mouse_event_closure('button_press')\n",
       "    );\n",
       "    rubberband_canvas.addEventListener(\n",
       "        'mouseup',\n",
       "        on_mouse_event_closure('button_release')\n",
       "    );\n",
       "    rubberband_canvas.addEventListener(\n",
       "        'dblclick',\n",
       "        on_mouse_event_closure('dblclick')\n",
       "    );\n",
       "    // Throttle sequential mouse events to 1 every 20ms.\n",
       "    rubberband_canvas.addEventListener(\n",
       "        'mousemove',\n",
       "        on_mouse_event_closure('motion_notify')\n",
       "    );\n",
       "\n",
       "    rubberband_canvas.addEventListener(\n",
       "        'mouseenter',\n",
       "        on_mouse_event_closure('figure_enter')\n",
       "    );\n",
       "    rubberband_canvas.addEventListener(\n",
       "        'mouseleave',\n",
       "        on_mouse_event_closure('figure_leave')\n",
       "    );\n",
       "\n",
       "    canvas_div.addEventListener('wheel', function (event) {\n",
       "        if (event.deltaY < 0) {\n",
       "            event.step = 1;\n",
       "        } else {\n",
       "            event.step = -1;\n",
       "        }\n",
       "        on_mouse_event_closure('scroll')(event);\n",
       "    });\n",
       "\n",
       "    canvas_div.appendChild(canvas);\n",
       "    canvas_div.appendChild(rubberband_canvas);\n",
       "\n",
       "    this.rubberband_context = rubberband_canvas.getContext('2d');\n",
       "    this.rubberband_context.strokeStyle = '#000000';\n",
       "\n",
       "    this._resize_canvas = function (width, height, forward) {\n",
       "        if (forward) {\n",
       "            canvas_div.style.width = width + 'px';\n",
       "            canvas_div.style.height = height + 'px';\n",
       "        }\n",
       "    };\n",
       "\n",
       "    // Disable right mouse context menu.\n",
       "    this.rubberband_canvas.addEventListener('contextmenu', function (_e) {\n",
       "        event.preventDefault();\n",
       "        return false;\n",
       "    });\n",
       "\n",
       "    function set_focus() {\n",
       "        canvas.focus();\n",
       "        canvas_div.focus();\n",
       "    }\n",
       "\n",
       "    window.setTimeout(set_focus, 100);\n",
       "};\n",
       "\n",
       "mpl.figure.prototype._init_toolbar = function () {\n",
       "    var fig = this;\n",
       "\n",
       "    var toolbar = document.createElement('div');\n",
       "    toolbar.classList = 'mpl-toolbar';\n",
       "    this.root.appendChild(toolbar);\n",
       "\n",
       "    function on_click_closure(name) {\n",
       "        return function (_event) {\n",
       "            return fig.toolbar_button_onclick(name);\n",
       "        };\n",
       "    }\n",
       "\n",
       "    function on_mouseover_closure(tooltip) {\n",
       "        return function (event) {\n",
       "            if (!event.currentTarget.disabled) {\n",
       "                return fig.toolbar_button_onmouseover(tooltip);\n",
       "            }\n",
       "        };\n",
       "    }\n",
       "\n",
       "    fig.buttons = {};\n",
       "    var buttonGroup = document.createElement('div');\n",
       "    buttonGroup.classList = 'mpl-button-group';\n",
       "    for (var toolbar_ind in mpl.toolbar_items) {\n",
       "        var name = mpl.toolbar_items[toolbar_ind][0];\n",
       "        var tooltip = mpl.toolbar_items[toolbar_ind][1];\n",
       "        var image = mpl.toolbar_items[toolbar_ind][2];\n",
       "        var method_name = mpl.toolbar_items[toolbar_ind][3];\n",
       "\n",
       "        if (!name) {\n",
       "            /* Instead of a spacer, we start a new button group. */\n",
       "            if (buttonGroup.hasChildNodes()) {\n",
       "                toolbar.appendChild(buttonGroup);\n",
       "            }\n",
       "            buttonGroup = document.createElement('div');\n",
       "            buttonGroup.classList = 'mpl-button-group';\n",
       "            continue;\n",
       "        }\n",
       "\n",
       "        var button = (fig.buttons[name] = document.createElement('button'));\n",
       "        button.classList = 'mpl-widget';\n",
       "        button.setAttribute('role', 'button');\n",
       "        button.setAttribute('aria-disabled', 'false');\n",
       "        button.addEventListener('click', on_click_closure(method_name));\n",
       "        button.addEventListener('mouseover', on_mouseover_closure(tooltip));\n",
       "\n",
       "        var icon_img = document.createElement('img');\n",
       "        icon_img.src = '_images/' + image + '.png';\n",
       "        icon_img.srcset = '_images/' + image + '_large.png 2x';\n",
       "        icon_img.alt = tooltip;\n",
       "        button.appendChild(icon_img);\n",
       "\n",
       "        buttonGroup.appendChild(button);\n",
       "    }\n",
       "\n",
       "    if (buttonGroup.hasChildNodes()) {\n",
       "        toolbar.appendChild(buttonGroup);\n",
       "    }\n",
       "\n",
       "    var fmt_picker = document.createElement('select');\n",
       "    fmt_picker.classList = 'mpl-widget';\n",
       "    toolbar.appendChild(fmt_picker);\n",
       "    this.format_dropdown = fmt_picker;\n",
       "\n",
       "    for (var ind in mpl.extensions) {\n",
       "        var fmt = mpl.extensions[ind];\n",
       "        var option = document.createElement('option');\n",
       "        option.selected = fmt === mpl.default_extension;\n",
       "        option.innerHTML = fmt;\n",
       "        fmt_picker.appendChild(option);\n",
       "    }\n",
       "\n",
       "    var status_bar = document.createElement('span');\n",
       "    status_bar.classList = 'mpl-message';\n",
       "    toolbar.appendChild(status_bar);\n",
       "    this.message = status_bar;\n",
       "};\n",
       "\n",
       "mpl.figure.prototype.request_resize = function (x_pixels, y_pixels) {\n",
       "    // Request matplotlib to resize the figure. Matplotlib will then trigger a resize in the client,\n",
       "    // which will in turn request a refresh of the image.\n",
       "    this.send_message('resize', { width: x_pixels, height: y_pixels });\n",
       "};\n",
       "\n",
       "mpl.figure.prototype.send_message = function (type, properties) {\n",
       "    properties['type'] = type;\n",
       "    properties['figure_id'] = this.id;\n",
       "    this.ws.send(JSON.stringify(properties));\n",
       "};\n",
       "\n",
       "mpl.figure.prototype.send_draw_message = function () {\n",
       "    if (!this.waiting) {\n",
       "        this.waiting = true;\n",
       "        this.ws.send(JSON.stringify({ type: 'draw', figure_id: this.id }));\n",
       "    }\n",
       "};\n",
       "\n",
       "mpl.figure.prototype.handle_save = function (fig, _msg) {\n",
       "    var format_dropdown = fig.format_dropdown;\n",
       "    var format = format_dropdown.options[format_dropdown.selectedIndex].value;\n",
       "    fig.ondownload(fig, format);\n",
       "};\n",
       "\n",
       "mpl.figure.prototype.handle_resize = function (fig, msg) {\n",
       "    var size = msg['size'];\n",
       "    if (size[0] !== fig.canvas.width || size[1] !== fig.canvas.height) {\n",
       "        fig._resize_canvas(size[0], size[1], msg['forward']);\n",
       "        fig.send_message('refresh', {});\n",
       "    }\n",
       "};\n",
       "\n",
       "mpl.figure.prototype.handle_rubberband = function (fig, msg) {\n",
       "    var x0 = msg['x0'] / fig.ratio;\n",
       "    var y0 = (fig.canvas.height - msg['y0']) / fig.ratio;\n",
       "    var x1 = msg['x1'] / fig.ratio;\n",
       "    var y1 = (fig.canvas.height - msg['y1']) / fig.ratio;\n",
       "    x0 = Math.floor(x0) + 0.5;\n",
       "    y0 = Math.floor(y0) + 0.5;\n",
       "    x1 = Math.floor(x1) + 0.5;\n",
       "    y1 = Math.floor(y1) + 0.5;\n",
       "    var min_x = Math.min(x0, x1);\n",
       "    var min_y = Math.min(y0, y1);\n",
       "    var width = Math.abs(x1 - x0);\n",
       "    var height = Math.abs(y1 - y0);\n",
       "\n",
       "    fig.rubberband_context.clearRect(\n",
       "        0,\n",
       "        0,\n",
       "        fig.canvas.width / fig.ratio,\n",
       "        fig.canvas.height / fig.ratio\n",
       "    );\n",
       "\n",
       "    fig.rubberband_context.strokeRect(min_x, min_y, width, height);\n",
       "};\n",
       "\n",
       "mpl.figure.prototype.handle_figure_label = function (fig, msg) {\n",
       "    // Updates the figure title.\n",
       "    fig.header.textContent = msg['label'];\n",
       "};\n",
       "\n",
       "mpl.figure.prototype.handle_cursor = function (fig, msg) {\n",
       "    fig.rubberband_canvas.style.cursor = msg['cursor'];\n",
       "};\n",
       "\n",
       "mpl.figure.prototype.handle_message = function (fig, msg) {\n",
       "    fig.message.textContent = msg['message'];\n",
       "};\n",
       "\n",
       "mpl.figure.prototype.handle_draw = function (fig, _msg) {\n",
       "    // Request the server to send over a new figure.\n",
       "    fig.send_draw_message();\n",
       "};\n",
       "\n",
       "mpl.figure.prototype.handle_image_mode = function (fig, msg) {\n",
       "    fig.image_mode = msg['mode'];\n",
       "};\n",
       "\n",
       "mpl.figure.prototype.handle_history_buttons = function (fig, msg) {\n",
       "    for (var key in msg) {\n",
       "        if (!(key in fig.buttons)) {\n",
       "            continue;\n",
       "        }\n",
       "        fig.buttons[key].disabled = !msg[key];\n",
       "        fig.buttons[key].setAttribute('aria-disabled', !msg[key]);\n",
       "    }\n",
       "};\n",
       "\n",
       "mpl.figure.prototype.handle_navigate_mode = function (fig, msg) {\n",
       "    if (msg['mode'] === 'PAN') {\n",
       "        fig.buttons['Pan'].classList.add('active');\n",
       "        fig.buttons['Zoom'].classList.remove('active');\n",
       "    } else if (msg['mode'] === 'ZOOM') {\n",
       "        fig.buttons['Pan'].classList.remove('active');\n",
       "        fig.buttons['Zoom'].classList.add('active');\n",
       "    } else {\n",
       "        fig.buttons['Pan'].classList.remove('active');\n",
       "        fig.buttons['Zoom'].classList.remove('active');\n",
       "    }\n",
       "};\n",
       "\n",
       "mpl.figure.prototype.updated_canvas_event = function () {\n",
       "    // Called whenever the canvas gets updated.\n",
       "    this.send_message('ack', {});\n",
       "};\n",
       "\n",
       "// A function to construct a web socket function for onmessage handling.\n",
       "// Called in the figure constructor.\n",
       "mpl.figure.prototype._make_on_message_function = function (fig) {\n",
       "    return function socket_on_message(evt) {\n",
       "        if (evt.data instanceof Blob) {\n",
       "            var img = evt.data;\n",
       "            if (img.type !== 'image/png') {\n",
       "                /* FIXME: We get \"Resource interpreted as Image but\n",
       "                 * transferred with MIME type text/plain:\" errors on\n",
       "                 * Chrome.  But how to set the MIME type?  It doesn't seem\n",
       "                 * to be part of the websocket stream */\n",
       "                img.type = 'image/png';\n",
       "            }\n",
       "\n",
       "            /* Free the memory for the previous frames */\n",
       "            if (fig.imageObj.src) {\n",
       "                (window.URL || window.webkitURL).revokeObjectURL(\n",
       "                    fig.imageObj.src\n",
       "                );\n",
       "            }\n",
       "\n",
       "            fig.imageObj.src = (window.URL || window.webkitURL).createObjectURL(\n",
       "                img\n",
       "            );\n",
       "            fig.updated_canvas_event();\n",
       "            fig.waiting = false;\n",
       "            return;\n",
       "        } else if (\n",
       "            typeof evt.data === 'string' &&\n",
       "            evt.data.slice(0, 21) === 'data:image/png;base64'\n",
       "        ) {\n",
       "            fig.imageObj.src = evt.data;\n",
       "            fig.updated_canvas_event();\n",
       "            fig.waiting = false;\n",
       "            return;\n",
       "        }\n",
       "\n",
       "        var msg = JSON.parse(evt.data);\n",
       "        var msg_type = msg['type'];\n",
       "\n",
       "        // Call the  \"handle_{type}\" callback, which takes\n",
       "        // the figure and JSON message as its only arguments.\n",
       "        try {\n",
       "            var callback = fig['handle_' + msg_type];\n",
       "        } catch (e) {\n",
       "            console.log(\n",
       "                \"No handler for the '\" + msg_type + \"' message type: \",\n",
       "                msg\n",
       "            );\n",
       "            return;\n",
       "        }\n",
       "\n",
       "        if (callback) {\n",
       "            try {\n",
       "                // console.log(\"Handling '\" + msg_type + \"' message: \", msg);\n",
       "                callback(fig, msg);\n",
       "            } catch (e) {\n",
       "                console.log(\n",
       "                    \"Exception inside the 'handler_\" + msg_type + \"' callback:\",\n",
       "                    e,\n",
       "                    e.stack,\n",
       "                    msg\n",
       "                );\n",
       "            }\n",
       "        }\n",
       "    };\n",
       "};\n",
       "\n",
       "// from https://stackoverflow.com/questions/1114465/getting-mouse-location-in-canvas\n",
       "mpl.findpos = function (e) {\n",
       "    //this section is from http://www.quirksmode.org/js/events_properties.html\n",
       "    var targ;\n",
       "    if (!e) {\n",
       "        e = window.event;\n",
       "    }\n",
       "    if (e.target) {\n",
       "        targ = e.target;\n",
       "    } else if (e.srcElement) {\n",
       "        targ = e.srcElement;\n",
       "    }\n",
       "    if (targ.nodeType === 3) {\n",
       "        // defeat Safari bug\n",
       "        targ = targ.parentNode;\n",
       "    }\n",
       "\n",
       "    // pageX,Y are the mouse positions relative to the document\n",
       "    var boundingRect = targ.getBoundingClientRect();\n",
       "    var x = e.pageX - (boundingRect.left + document.body.scrollLeft);\n",
       "    var y = e.pageY - (boundingRect.top + document.body.scrollTop);\n",
       "\n",
       "    return { x: x, y: y };\n",
       "};\n",
       "\n",
       "/*\n",
       " * return a copy of an object with only non-object keys\n",
       " * we need this to avoid circular references\n",
       " * https://stackoverflow.com/a/24161582/3208463\n",
       " */\n",
       "function simpleKeys(original) {\n",
       "    return Object.keys(original).reduce(function (obj, key) {\n",
       "        if (typeof original[key] !== 'object') {\n",
       "            obj[key] = original[key];\n",
       "        }\n",
       "        return obj;\n",
       "    }, {});\n",
       "}\n",
       "\n",
       "mpl.figure.prototype.mouse_event = function (event, name) {\n",
       "    var canvas_pos = mpl.findpos(event);\n",
       "\n",
       "    if (name === 'button_press') {\n",
       "        this.canvas.focus();\n",
       "        this.canvas_div.focus();\n",
       "    }\n",
       "\n",
       "    var x = canvas_pos.x * this.ratio;\n",
       "    var y = canvas_pos.y * this.ratio;\n",
       "\n",
       "    this.send_message(name, {\n",
       "        x: x,\n",
       "        y: y,\n",
       "        button: event.button,\n",
       "        step: event.step,\n",
       "        guiEvent: simpleKeys(event),\n",
       "    });\n",
       "\n",
       "    /* This prevents the web browser from automatically changing to\n",
       "     * the text insertion cursor when the button is pressed.  We want\n",
       "     * to control all of the cursor setting manually through the\n",
       "     * 'cursor' event from matplotlib */\n",
       "    event.preventDefault();\n",
       "    return false;\n",
       "};\n",
       "\n",
       "mpl.figure.prototype._key_event_extra = function (_event, _name) {\n",
       "    // Handle any extra behaviour associated with a key event\n",
       "};\n",
       "\n",
       "mpl.figure.prototype.key_event = function (event, name) {\n",
       "    // Prevent repeat events\n",
       "    if (name === 'key_press') {\n",
       "        if (event.key === this._key) {\n",
       "            return;\n",
       "        } else {\n",
       "            this._key = event.key;\n",
       "        }\n",
       "    }\n",
       "    if (name === 'key_release') {\n",
       "        this._key = null;\n",
       "    }\n",
       "\n",
       "    var value = '';\n",
       "    if (event.ctrlKey && event.key !== 'Control') {\n",
       "        value += 'ctrl+';\n",
       "    }\n",
       "    else if (event.altKey && event.key !== 'Alt') {\n",
       "        value += 'alt+';\n",
       "    }\n",
       "    else if (event.shiftKey && event.key !== 'Shift') {\n",
       "        value += 'shift+';\n",
       "    }\n",
       "\n",
       "    value += 'k' + event.key;\n",
       "\n",
       "    this._key_event_extra(event, name);\n",
       "\n",
       "    this.send_message(name, { key: value, guiEvent: simpleKeys(event) });\n",
       "    return false;\n",
       "};\n",
       "\n",
       "mpl.figure.prototype.toolbar_button_onclick = function (name) {\n",
       "    if (name === 'download') {\n",
       "        this.handle_save(this, null);\n",
       "    } else {\n",
       "        this.send_message('toolbar_button', { name: name });\n",
       "    }\n",
       "};\n",
       "\n",
       "mpl.figure.prototype.toolbar_button_onmouseover = function (tooltip) {\n",
       "    this.message.textContent = tooltip;\n",
       "};\n",
       "\n",
       "///////////////// REMAINING CONTENT GENERATED BY embed_js.py /////////////////\n",
       "// prettier-ignore\n",
       "var _JSXTOOLS_RESIZE_OBSERVER=function(A){var t,i=new WeakMap,n=new WeakMap,a=new WeakMap,r=new WeakMap,o=new Set;function s(e){if(!(this instanceof s))throw new TypeError(\"Constructor requires 'new' operator\");i.set(this,e)}function h(){throw new TypeError(\"Function is not a constructor\")}function c(e,t,i,n){e=0 in arguments?Number(arguments[0]):0,t=1 in arguments?Number(arguments[1]):0,i=2 in arguments?Number(arguments[2]):0,n=3 in arguments?Number(arguments[3]):0,this.right=(this.x=this.left=e)+(this.width=i),this.bottom=(this.y=this.top=t)+(this.height=n),Object.freeze(this)}function d(){t=requestAnimationFrame(d);var s=new WeakMap,p=new Set;o.forEach((function(t){r.get(t).forEach((function(i){var r=t instanceof window.SVGElement,o=a.get(t),d=r?0:parseFloat(o.paddingTop),f=r?0:parseFloat(o.paddingRight),l=r?0:parseFloat(o.paddingBottom),u=r?0:parseFloat(o.paddingLeft),g=r?0:parseFloat(o.borderTopWidth),m=r?0:parseFloat(o.borderRightWidth),w=r?0:parseFloat(o.borderBottomWidth),b=u+f,F=d+l,v=(r?0:parseFloat(o.borderLeftWidth))+m,W=g+w,y=r?0:t.offsetHeight-W-t.clientHeight,E=r?0:t.offsetWidth-v-t.clientWidth,R=b+v,z=F+W,M=r?t.width:parseFloat(o.width)-R-E,O=r?t.height:parseFloat(o.height)-z-y;if(n.has(t)){var k=n.get(t);if(k[0]===M&&k[1]===O)return}n.set(t,[M,O]);var S=Object.create(h.prototype);S.target=t,S.contentRect=new c(u,d,M,O),s.has(i)||(s.set(i,[]),p.add(i)),s.get(i).push(S)}))})),p.forEach((function(e){i.get(e).call(e,s.get(e),e)}))}return s.prototype.observe=function(i){if(i instanceof window.Element){r.has(i)||(r.set(i,new Set),o.add(i),a.set(i,window.getComputedStyle(i)));var n=r.get(i);n.has(this)||n.add(this),cancelAnimationFrame(t),t=requestAnimationFrame(d)}},s.prototype.unobserve=function(i){if(i instanceof window.Element&&r.has(i)){var n=r.get(i);n.has(this)&&(n.delete(this),n.size||(r.delete(i),o.delete(i))),n.size||r.delete(i),o.size||cancelAnimationFrame(t)}},A.DOMRectReadOnly=c,A.ResizeObserver=s,A.ResizeObserverEntry=h,A}; // eslint-disable-line\n",
       "mpl.toolbar_items = [[\"Home\", \"Reset original view\", \"fa fa-home icon-home\", \"home\"], [\"Back\", \"Back to previous view\", \"fa fa-arrow-left icon-arrow-left\", \"back\"], [\"Forward\", \"Forward to next view\", \"fa fa-arrow-right icon-arrow-right\", \"forward\"], [\"\", \"\", \"\", \"\"], [\"Pan\", \"Left button pans, Right button zooms\\nx/y fixes axis, CTRL fixes aspect\", \"fa fa-arrows icon-move\", \"pan\"], [\"Zoom\", \"Zoom to rectangle\\nx/y fixes axis\", \"fa fa-square-o icon-check-empty\", \"zoom\"], [\"\", \"\", \"\", \"\"], [\"Download\", \"Download plot\", \"fa fa-floppy-o icon-save\", \"download\"]];\n",
       "\n",
       "mpl.extensions = [\"eps\", \"jpeg\", \"pgf\", \"pdf\", \"png\", \"ps\", \"raw\", \"svg\", \"tif\"];\n",
       "\n",
       "mpl.default_extension = \"png\";/* global mpl */\n",
       "\n",
       "var comm_websocket_adapter = function (comm) {\n",
       "    // Create a \"websocket\"-like object which calls the given IPython comm\n",
       "    // object with the appropriate methods. Currently this is a non binary\n",
       "    // socket, so there is still some room for performance tuning.\n",
       "    var ws = {};\n",
       "\n",
       "    ws.binaryType = comm.kernel.ws.binaryType;\n",
       "    ws.readyState = comm.kernel.ws.readyState;\n",
       "    function updateReadyState(_event) {\n",
       "        if (comm.kernel.ws) {\n",
       "            ws.readyState = comm.kernel.ws.readyState;\n",
       "        } else {\n",
       "            ws.readyState = 3; // Closed state.\n",
       "        }\n",
       "    }\n",
       "    comm.kernel.ws.addEventListener('open', updateReadyState);\n",
       "    comm.kernel.ws.addEventListener('close', updateReadyState);\n",
       "    comm.kernel.ws.addEventListener('error', updateReadyState);\n",
       "\n",
       "    ws.close = function () {\n",
       "        comm.close();\n",
       "    };\n",
       "    ws.send = function (m) {\n",
       "        //console.log('sending', m);\n",
       "        comm.send(m);\n",
       "    };\n",
       "    // Register the callback with on_msg.\n",
       "    comm.on_msg(function (msg) {\n",
       "        //console.log('receiving', msg['content']['data'], msg);\n",
       "        var data = msg['content']['data'];\n",
       "        if (data['blob'] !== undefined) {\n",
       "            data = {\n",
       "                data: new Blob(msg['buffers'], { type: data['blob'] }),\n",
       "            };\n",
       "        }\n",
       "        // Pass the mpl event to the overridden (by mpl) onmessage function.\n",
       "        ws.onmessage(data);\n",
       "    });\n",
       "    return ws;\n",
       "};\n",
       "\n",
       "mpl.mpl_figure_comm = function (comm, msg) {\n",
       "    // This is the function which gets called when the mpl process\n",
       "    // starts-up an IPython Comm through the \"matplotlib\" channel.\n",
       "\n",
       "    var id = msg.content.data.id;\n",
       "    // Get hold of the div created by the display call when the Comm\n",
       "    // socket was opened in Python.\n",
       "    var element = document.getElementById(id);\n",
       "    var ws_proxy = comm_websocket_adapter(comm);\n",
       "\n",
       "    function ondownload(figure, _format) {\n",
       "        window.open(figure.canvas.toDataURL());\n",
       "    }\n",
       "\n",
       "    var fig = new mpl.figure(id, ws_proxy, ondownload, element);\n",
       "\n",
       "    // Call onopen now - mpl needs it, as it is assuming we've passed it a real\n",
       "    // web socket which is closed, not our websocket->open comm proxy.\n",
       "    ws_proxy.onopen();\n",
       "\n",
       "    fig.parent_element = element;\n",
       "    fig.cell_info = mpl.find_output_cell(\"<div id='\" + id + \"'></div>\");\n",
       "    if (!fig.cell_info) {\n",
       "        console.error('Failed to find cell for figure', id, fig);\n",
       "        return;\n",
       "    }\n",
       "    fig.cell_info[0].output_area.element.on(\n",
       "        'cleared',\n",
       "        { fig: fig },\n",
       "        fig._remove_fig_handler\n",
       "    );\n",
       "};\n",
       "\n",
       "mpl.figure.prototype.handle_close = function (fig, msg) {\n",
       "    var width = fig.canvas.width / fig.ratio;\n",
       "    fig.cell_info[0].output_area.element.off(\n",
       "        'cleared',\n",
       "        fig._remove_fig_handler\n",
       "    );\n",
       "    fig.resizeObserverInstance.unobserve(fig.canvas_div);\n",
       "\n",
       "    // Update the output cell to use the data from the current canvas.\n",
       "    fig.push_to_output();\n",
       "    var dataURL = fig.canvas.toDataURL();\n",
       "    // Re-enable the keyboard manager in IPython - without this line, in FF,\n",
       "    // the notebook keyboard shortcuts fail.\n",
       "    IPython.keyboard_manager.enable();\n",
       "    fig.parent_element.innerHTML =\n",
       "        '<img src=\"' + dataURL + '\" width=\"' + width + '\">';\n",
       "    fig.close_ws(fig, msg);\n",
       "};\n",
       "\n",
       "mpl.figure.prototype.close_ws = function (fig, msg) {\n",
       "    fig.send_message('closing', msg);\n",
       "    // fig.ws.close()\n",
       "};\n",
       "\n",
       "mpl.figure.prototype.push_to_output = function (_remove_interactive) {\n",
       "    // Turn the data on the canvas into data in the output cell.\n",
       "    var width = this.canvas.width / this.ratio;\n",
       "    var dataURL = this.canvas.toDataURL();\n",
       "    this.cell_info[1]['text/html'] =\n",
       "        '<img src=\"' + dataURL + '\" width=\"' + width + '\">';\n",
       "};\n",
       "\n",
       "mpl.figure.prototype.updated_canvas_event = function () {\n",
       "    // Tell IPython that the notebook contents must change.\n",
       "    IPython.notebook.set_dirty(true);\n",
       "    this.send_message('ack', {});\n",
       "    var fig = this;\n",
       "    // Wait a second, then push the new image to the DOM so\n",
       "    // that it is saved nicely (might be nice to debounce this).\n",
       "    setTimeout(function () {\n",
       "        fig.push_to_output();\n",
       "    }, 1000);\n",
       "};\n",
       "\n",
       "mpl.figure.prototype._init_toolbar = function () {\n",
       "    var fig = this;\n",
       "\n",
       "    var toolbar = document.createElement('div');\n",
       "    toolbar.classList = 'btn-toolbar';\n",
       "    this.root.appendChild(toolbar);\n",
       "\n",
       "    function on_click_closure(name) {\n",
       "        return function (_event) {\n",
       "            return fig.toolbar_button_onclick(name);\n",
       "        };\n",
       "    }\n",
       "\n",
       "    function on_mouseover_closure(tooltip) {\n",
       "        return function (event) {\n",
       "            if (!event.currentTarget.disabled) {\n",
       "                return fig.toolbar_button_onmouseover(tooltip);\n",
       "            }\n",
       "        };\n",
       "    }\n",
       "\n",
       "    fig.buttons = {};\n",
       "    var buttonGroup = document.createElement('div');\n",
       "    buttonGroup.classList = 'btn-group';\n",
       "    var button;\n",
       "    for (var toolbar_ind in mpl.toolbar_items) {\n",
       "        var name = mpl.toolbar_items[toolbar_ind][0];\n",
       "        var tooltip = mpl.toolbar_items[toolbar_ind][1];\n",
       "        var image = mpl.toolbar_items[toolbar_ind][2];\n",
       "        var method_name = mpl.toolbar_items[toolbar_ind][3];\n",
       "\n",
       "        if (!name) {\n",
       "            /* Instead of a spacer, we start a new button group. */\n",
       "            if (buttonGroup.hasChildNodes()) {\n",
       "                toolbar.appendChild(buttonGroup);\n",
       "            }\n",
       "            buttonGroup = document.createElement('div');\n",
       "            buttonGroup.classList = 'btn-group';\n",
       "            continue;\n",
       "        }\n",
       "\n",
       "        button = fig.buttons[name] = document.createElement('button');\n",
       "        button.classList = 'btn btn-default';\n",
       "        button.href = '#';\n",
       "        button.title = name;\n",
       "        button.innerHTML = '<i class=\"fa ' + image + ' fa-lg\"></i>';\n",
       "        button.addEventListener('click', on_click_closure(method_name));\n",
       "        button.addEventListener('mouseover', on_mouseover_closure(tooltip));\n",
       "        buttonGroup.appendChild(button);\n",
       "    }\n",
       "\n",
       "    if (buttonGroup.hasChildNodes()) {\n",
       "        toolbar.appendChild(buttonGroup);\n",
       "    }\n",
       "\n",
       "    // Add the status bar.\n",
       "    var status_bar = document.createElement('span');\n",
       "    status_bar.classList = 'mpl-message pull-right';\n",
       "    toolbar.appendChild(status_bar);\n",
       "    this.message = status_bar;\n",
       "\n",
       "    // Add the close button to the window.\n",
       "    var buttongrp = document.createElement('div');\n",
       "    buttongrp.classList = 'btn-group inline pull-right';\n",
       "    button = document.createElement('button');\n",
       "    button.classList = 'btn btn-mini btn-primary';\n",
       "    button.href = '#';\n",
       "    button.title = 'Stop Interaction';\n",
       "    button.innerHTML = '<i class=\"fa fa-power-off icon-remove icon-large\"></i>';\n",
       "    button.addEventListener('click', function (_evt) {\n",
       "        fig.handle_close(fig, {});\n",
       "    });\n",
       "    button.addEventListener(\n",
       "        'mouseover',\n",
       "        on_mouseover_closure('Stop Interaction')\n",
       "    );\n",
       "    buttongrp.appendChild(button);\n",
       "    var titlebar = this.root.querySelector('.ui-dialog-titlebar');\n",
       "    titlebar.insertBefore(buttongrp, titlebar.firstChild);\n",
       "};\n",
       "\n",
       "mpl.figure.prototype._remove_fig_handler = function (event) {\n",
       "    var fig = event.data.fig;\n",
       "    if (event.target !== this) {\n",
       "        // Ignore bubbled events from children.\n",
       "        return;\n",
       "    }\n",
       "    fig.close_ws(fig, {});\n",
       "};\n",
       "\n",
       "mpl.figure.prototype._root_extra_style = function (el) {\n",
       "    el.style.boxSizing = 'content-box'; // override notebook setting of border-box.\n",
       "};\n",
       "\n",
       "mpl.figure.prototype._canvas_extra_style = function (el) {\n",
       "    // this is important to make the div 'focusable\n",
       "    el.setAttribute('tabindex', 0);\n",
       "    // reach out to IPython and tell the keyboard manager to turn it's self\n",
       "    // off when our div gets focus\n",
       "\n",
       "    // location in version 3\n",
       "    if (IPython.notebook.keyboard_manager) {\n",
       "        IPython.notebook.keyboard_manager.register_events(el);\n",
       "    } else {\n",
       "        // location in version 2\n",
       "        IPython.keyboard_manager.register_events(el);\n",
       "    }\n",
       "};\n",
       "\n",
       "mpl.figure.prototype._key_event_extra = function (event, _name) {\n",
       "    // Check for shift+enter\n",
       "    if (event.shiftKey && event.which === 13) {\n",
       "        this.canvas_div.blur();\n",
       "        // select the cell after this one\n",
       "        var index = IPython.notebook.find_cell_index(this.cell_info[0]);\n",
       "        IPython.notebook.select(index + 1);\n",
       "    }\n",
       "};\n",
       "\n",
       "mpl.figure.prototype.handle_save = function (fig, _msg) {\n",
       "    fig.ondownload(fig, null);\n",
       "};\n",
       "\n",
       "mpl.find_output_cell = function (html_output) {\n",
       "    // Return the cell and output element which can be found *uniquely* in the notebook.\n",
       "    // Note - this is a bit hacky, but it is done because the \"notebook_saving.Notebook\"\n",
       "    // IPython event is triggered only after the cells have been serialised, which for\n",
       "    // our purposes (turning an active figure into a static one), is too late.\n",
       "    var cells = IPython.notebook.get_cells();\n",
       "    var ncells = cells.length;\n",
       "    for (var i = 0; i < ncells; i++) {\n",
       "        var cell = cells[i];\n",
       "        if (cell.cell_type === 'code') {\n",
       "            for (var j = 0; j < cell.output_area.outputs.length; j++) {\n",
       "                var data = cell.output_area.outputs[j];\n",
       "                if (data.data) {\n",
       "                    // IPython >= 3 moved mimebundle to data attribute of output\n",
       "                    data = data.data;\n",
       "                }\n",
       "                if (data['text/html'] === html_output) {\n",
       "                    return [cell, data, j];\n",
       "                }\n",
       "            }\n",
       "        }\n",
       "    }\n",
       "};\n",
       "\n",
       "// Register the function which deals with the matplotlib target/channel.\n",
       "// The kernel may be null if the page has been refreshed.\n",
       "if (IPython.notebook.kernel !== null) {\n",
       "    IPython.notebook.kernel.comm_manager.register_target(\n",
       "        'matplotlib',\n",
       "        mpl.mpl_figure_comm\n",
       "    );\n",
       "}\n"
      ],
      "text/plain": [
       "<IPython.core.display.Javascript object>"
      ]
     },
     "metadata": {},
     "output_type": "display_data"
    },
    {
     "data": {
      "text/html": [
       "<img src=\"data:image/png;base64,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\" width=\"640\">"
      ],
      "text/plain": [
       "<IPython.core.display.HTML object>"
      ]
     },
     "metadata": {},
     "output_type": "display_data"
    },
    {
     "data": {
      "text/plain": [
       "<matplotlib.legend.Legend at 0x7f9a3a402260>"
      ]
     },
     "execution_count": 195,
     "metadata": {},
     "output_type": "execute_result"
    }
   ],
   "source": [
    "fig, axQ = plt.subplots()\n",
    "axQ.plot([Q_plug_function(*tuple(_) ) for _ in loop_values], label='Q')\n",
    "axGrad = axQ.twinx()\n",
    "axGrad.plot(np.sqrt(np.sum(np.array(loop_Q_grad) ** 2, axis=1)), color='orange', label='grad l2 norm')\n",
    "axQ.set_xlabel('iteration')\n",
    "fig.legend()"
   ]
  },
  {
   "cell_type": "code",
   "execution_count": 192,
   "id": "4e9e475a",
   "metadata": {},
   "outputs": [
    {
     "name": "stdout",
     "output_type": "stream",
     "text": [
      "B_pm:\t 36.872476666636445\n",
      "B_p:\t 2.208014905083677\n",
      "L_p:\t 4.0\n",
      "r_b:\t 0.2500000000000147\n",
      "T_frac:\t 0.4839909942245544\n",
      "p_aux:\t 0.0\n",
      "beta:\t 0.8\n",
      "Eb:\t 999.4701909997485\n"
     ]
    }
   ],
   "source": [
    "for i in range(8):\n",
    "    print(symbol_list[i].name + \":\\t\", loop_values[-1][i])"
   ]
  },
  {
   "cell_type": "markdown",
   "id": "b33e5432",
   "metadata": {},
   "source": [
    "## Other plots"
   ]
  },
  {
   "cell_type": "code",
   "execution_count": 199,
   "id": "b522f4b1",
   "metadata": {},
   "outputs": [],
   "source": [
    "Te_subbed, Te_jaxed, Te_arg_tuple, Te_arg_idx = sub_and_lambdify(1.0 * Te, values_to_opt, symbol_list_names)\n",
    "# evaluate_lambdified_func(Te_subbed, Te_jaxed, Te_arg_tuple)  # if you want to compile before plotting"
   ]
  },
  {
   "cell_type": "code",
   "execution_count": 200,
   "id": "873f5581",
   "metadata": {},
   "outputs": [],
   "source": [
    "Ti_subbed, Ti_jaxed, Ti_arg_tuple, Ti_arg_idx = sub_and_lambdify(1.0 * Ti, values_to_opt, symbol_list_names)\n",
    "# evaluate_lambdified_func(Ti_subbed, Ti_jaxed, Ti_arg_tuple)  # if you want to compile before plotting"
   ]
  },
  {
   "cell_type": "code",
   "execution_count": 202,
   "id": "49e02dba",
   "metadata": {},
   "outputs": [
    {
     "data": {
      "application/vnd.jupyter.widget-view+json": {
       "model_id": "b2f16ae9fdbc4d1d885b957c45b6edce",
       "version_major": 2,
       "version_minor": 0
      },
      "text/plain": [
       "  0%|          | 0/3747 [00:00<?, ?it/s]"
      ]
     },
     "metadata": {},
     "output_type": "display_data"
    },
    {
     "data": {
      "application/vnd.jupyter.widget-view+json": {
       "model_id": "51a298c8f8764c7b9dfb2063a73f3c4e",
       "version_major": 2,
       "version_minor": 0
      },
      "text/plain": [
       "  0%|          | 0/3747 [00:00<?, ?it/s]"
      ]
     },
     "metadata": {},
     "output_type": "display_data"
    }
   ],
   "source": [
    "Te_plot = [Te_jaxed(*tuple(loop_values[i][Te_arg_idx])) for i in tqdm(range(3747))]\n",
    "Ti_plot = [Ti_jaxed(*tuple(loop_values[i][Ti_arg_idx])) for i in tqdm(range(3747))]"
   ]
  },
  {
   "cell_type": "code",
   "execution_count": 135,
   "id": "714168a8",
   "metadata": {},
   "outputs": [
    {
     "data": {
      "application/javascript": [
       "/* Put everything inside the global mpl namespace */\n",
       "/* global mpl */\n",
       "window.mpl = {};\n",
       "\n",
       "mpl.get_websocket_type = function () {\n",
       "    if (typeof WebSocket !== 'undefined') {\n",
       "        return WebSocket;\n",
       "    } else if (typeof MozWebSocket !== 'undefined') {\n",
       "        return MozWebSocket;\n",
       "    } else {\n",
       "        alert(\n",
       "            'Your browser does not have WebSocket support. ' +\n",
       "                'Please try Chrome, Safari or Firefox ≥ 6. ' +\n",
       "                'Firefox 4 and 5 are also supported but you ' +\n",
       "                'have to enable WebSockets in about:config.'\n",
       "        );\n",
       "    }\n",
       "};\n",
       "\n",
       "mpl.figure = function (figure_id, websocket, ondownload, parent_element) {\n",
       "    this.id = figure_id;\n",
       "\n",
       "    this.ws = websocket;\n",
       "\n",
       "    this.supports_binary = this.ws.binaryType !== undefined;\n",
       "\n",
       "    if (!this.supports_binary) {\n",
       "        var warnings = document.getElementById('mpl-warnings');\n",
       "        if (warnings) {\n",
       "            warnings.style.display = 'block';\n",
       "            warnings.textContent =\n",
       "                'This browser does not support binary websocket messages. ' +\n",
       "                'Performance may be slow.';\n",
       "        }\n",
       "    }\n",
       "\n",
       "    this.imageObj = new Image();\n",
       "\n",
       "    this.context = undefined;\n",
       "    this.message = undefined;\n",
       "    this.canvas = undefined;\n",
       "    this.rubberband_canvas = undefined;\n",
       "    this.rubberband_context = undefined;\n",
       "    this.format_dropdown = undefined;\n",
       "\n",
       "    this.image_mode = 'full';\n",
       "\n",
       "    this.root = document.createElement('div');\n",
       "    this.root.setAttribute('style', 'display: inline-block');\n",
       "    this._root_extra_style(this.root);\n",
       "\n",
       "    parent_element.appendChild(this.root);\n",
       "\n",
       "    this._init_header(this);\n",
       "    this._init_canvas(this);\n",
       "    this._init_toolbar(this);\n",
       "\n",
       "    var fig = this;\n",
       "\n",
       "    this.waiting = false;\n",
       "\n",
       "    this.ws.onopen = function () {\n",
       "        fig.send_message('supports_binary', { value: fig.supports_binary });\n",
       "        fig.send_message('send_image_mode', {});\n",
       "        if (fig.ratio !== 1) {\n",
       "            fig.send_message('set_device_pixel_ratio', {\n",
       "                device_pixel_ratio: fig.ratio,\n",
       "            });\n",
       "        }\n",
       "        fig.send_message('refresh', {});\n",
       "    };\n",
       "\n",
       "    this.imageObj.onload = function () {\n",
       "        if (fig.image_mode === 'full') {\n",
       "            // Full images could contain transparency (where diff images\n",
       "            // almost always do), so we need to clear the canvas so that\n",
       "            // there is no ghosting.\n",
       "            fig.context.clearRect(0, 0, fig.canvas.width, fig.canvas.height);\n",
       "        }\n",
       "        fig.context.drawImage(fig.imageObj, 0, 0);\n",
       "    };\n",
       "\n",
       "    this.imageObj.onunload = function () {\n",
       "        fig.ws.close();\n",
       "    };\n",
       "\n",
       "    this.ws.onmessage = this._make_on_message_function(this);\n",
       "\n",
       "    this.ondownload = ondownload;\n",
       "};\n",
       "\n",
       "mpl.figure.prototype._init_header = function () {\n",
       "    var titlebar = document.createElement('div');\n",
       "    titlebar.classList =\n",
       "        'ui-dialog-titlebar ui-widget-header ui-corner-all ui-helper-clearfix';\n",
       "    var titletext = document.createElement('div');\n",
       "    titletext.classList = 'ui-dialog-title';\n",
       "    titletext.setAttribute(\n",
       "        'style',\n",
       "        'width: 100%; text-align: center; padding: 3px;'\n",
       "    );\n",
       "    titlebar.appendChild(titletext);\n",
       "    this.root.appendChild(titlebar);\n",
       "    this.header = titletext;\n",
       "};\n",
       "\n",
       "mpl.figure.prototype._canvas_extra_style = function (_canvas_div) {};\n",
       "\n",
       "mpl.figure.prototype._root_extra_style = function (_canvas_div) {};\n",
       "\n",
       "mpl.figure.prototype._init_canvas = function () {\n",
       "    var fig = this;\n",
       "\n",
       "    var canvas_div = (this.canvas_div = document.createElement('div'));\n",
       "    canvas_div.setAttribute(\n",
       "        'style',\n",
       "        'border: 1px solid #ddd;' +\n",
       "            'box-sizing: content-box;' +\n",
       "            'clear: both;' +\n",
       "            'min-height: 1px;' +\n",
       "            'min-width: 1px;' +\n",
       "            'outline: 0;' +\n",
       "            'overflow: hidden;' +\n",
       "            'position: relative;' +\n",
       "            'resize: both;'\n",
       "    );\n",
       "\n",
       "    function on_keyboard_event_closure(name) {\n",
       "        return function (event) {\n",
       "            return fig.key_event(event, name);\n",
       "        };\n",
       "    }\n",
       "\n",
       "    canvas_div.addEventListener(\n",
       "        'keydown',\n",
       "        on_keyboard_event_closure('key_press')\n",
       "    );\n",
       "    canvas_div.addEventListener(\n",
       "        'keyup',\n",
       "        on_keyboard_event_closure('key_release')\n",
       "    );\n",
       "\n",
       "    this._canvas_extra_style(canvas_div);\n",
       "    this.root.appendChild(canvas_div);\n",
       "\n",
       "    var canvas = (this.canvas = document.createElement('canvas'));\n",
       "    canvas.classList.add('mpl-canvas');\n",
       "    canvas.setAttribute('style', 'box-sizing: content-box;');\n",
       "\n",
       "    this.context = canvas.getContext('2d');\n",
       "\n",
       "    var backingStore =\n",
       "        this.context.backingStorePixelRatio ||\n",
       "        this.context.webkitBackingStorePixelRatio ||\n",
       "        this.context.mozBackingStorePixelRatio ||\n",
       "        this.context.msBackingStorePixelRatio ||\n",
       "        this.context.oBackingStorePixelRatio ||\n",
       "        this.context.backingStorePixelRatio ||\n",
       "        1;\n",
       "\n",
       "    this.ratio = (window.devicePixelRatio || 1) / backingStore;\n",
       "\n",
       "    var rubberband_canvas = (this.rubberband_canvas = document.createElement(\n",
       "        'canvas'\n",
       "    ));\n",
       "    rubberband_canvas.setAttribute(\n",
       "        'style',\n",
       "        'box-sizing: content-box; position: absolute; left: 0; top: 0; z-index: 1;'\n",
       "    );\n",
       "\n",
       "    // Apply a ponyfill if ResizeObserver is not implemented by browser.\n",
       "    if (this.ResizeObserver === undefined) {\n",
       "        if (window.ResizeObserver !== undefined) {\n",
       "            this.ResizeObserver = window.ResizeObserver;\n",
       "        } else {\n",
       "            var obs = _JSXTOOLS_RESIZE_OBSERVER({});\n",
       "            this.ResizeObserver = obs.ResizeObserver;\n",
       "        }\n",
       "    }\n",
       "\n",
       "    this.resizeObserverInstance = new this.ResizeObserver(function (entries) {\n",
       "        var nentries = entries.length;\n",
       "        for (var i = 0; i < nentries; i++) {\n",
       "            var entry = entries[i];\n",
       "            var width, height;\n",
       "            if (entry.contentBoxSize) {\n",
       "                if (entry.contentBoxSize instanceof Array) {\n",
       "                    // Chrome 84 implements new version of spec.\n",
       "                    width = entry.contentBoxSize[0].inlineSize;\n",
       "                    height = entry.contentBoxSize[0].blockSize;\n",
       "                } else {\n",
       "                    // Firefox implements old version of spec.\n",
       "                    width = entry.contentBoxSize.inlineSize;\n",
       "                    height = entry.contentBoxSize.blockSize;\n",
       "                }\n",
       "            } else {\n",
       "                // Chrome <84 implements even older version of spec.\n",
       "                width = entry.contentRect.width;\n",
       "                height = entry.contentRect.height;\n",
       "            }\n",
       "\n",
       "            // Keep the size of the canvas and rubber band canvas in sync with\n",
       "            // the canvas container.\n",
       "            if (entry.devicePixelContentBoxSize) {\n",
       "                // Chrome 84 implements new version of spec.\n",
       "                canvas.setAttribute(\n",
       "                    'width',\n",
       "                    entry.devicePixelContentBoxSize[0].inlineSize\n",
       "                );\n",
       "                canvas.setAttribute(\n",
       "                    'height',\n",
       "                    entry.devicePixelContentBoxSize[0].blockSize\n",
       "                );\n",
       "            } else {\n",
       "                canvas.setAttribute('width', width * fig.ratio);\n",
       "                canvas.setAttribute('height', height * fig.ratio);\n",
       "            }\n",
       "            canvas.setAttribute(\n",
       "                'style',\n",
       "                'width: ' + width + 'px; height: ' + height + 'px;'\n",
       "            );\n",
       "\n",
       "            rubberband_canvas.setAttribute('width', width);\n",
       "            rubberband_canvas.setAttribute('height', height);\n",
       "\n",
       "            // And update the size in Python. We ignore the initial 0/0 size\n",
       "            // that occurs as the element is placed into the DOM, which should\n",
       "            // otherwise not happen due to the minimum size styling.\n",
       "            if (fig.ws.readyState == 1 && width != 0 && height != 0) {\n",
       "                fig.request_resize(width, height);\n",
       "            }\n",
       "        }\n",
       "    });\n",
       "    this.resizeObserverInstance.observe(canvas_div);\n",
       "\n",
       "    function on_mouse_event_closure(name) {\n",
       "        return function (event) {\n",
       "            return fig.mouse_event(event, name);\n",
       "        };\n",
       "    }\n",
       "\n",
       "    rubberband_canvas.addEventListener(\n",
       "        'mousedown',\n",
       "        on_mouse_event_closure('button_press')\n",
       "    );\n",
       "    rubberband_canvas.addEventListener(\n",
       "        'mouseup',\n",
       "        on_mouse_event_closure('button_release')\n",
       "    );\n",
       "    rubberband_canvas.addEventListener(\n",
       "        'dblclick',\n",
       "        on_mouse_event_closure('dblclick')\n",
       "    );\n",
       "    // Throttle sequential mouse events to 1 every 20ms.\n",
       "    rubberband_canvas.addEventListener(\n",
       "        'mousemove',\n",
       "        on_mouse_event_closure('motion_notify')\n",
       "    );\n",
       "\n",
       "    rubberband_canvas.addEventListener(\n",
       "        'mouseenter',\n",
       "        on_mouse_event_closure('figure_enter')\n",
       "    );\n",
       "    rubberband_canvas.addEventListener(\n",
       "        'mouseleave',\n",
       "        on_mouse_event_closure('figure_leave')\n",
       "    );\n",
       "\n",
       "    canvas_div.addEventListener('wheel', function (event) {\n",
       "        if (event.deltaY < 0) {\n",
       "            event.step = 1;\n",
       "        } else {\n",
       "            event.step = -1;\n",
       "        }\n",
       "        on_mouse_event_closure('scroll')(event);\n",
       "    });\n",
       "\n",
       "    canvas_div.appendChild(canvas);\n",
       "    canvas_div.appendChild(rubberband_canvas);\n",
       "\n",
       "    this.rubberband_context = rubberband_canvas.getContext('2d');\n",
       "    this.rubberband_context.strokeStyle = '#000000';\n",
       "\n",
       "    this._resize_canvas = function (width, height, forward) {\n",
       "        if (forward) {\n",
       "            canvas_div.style.width = width + 'px';\n",
       "            canvas_div.style.height = height + 'px';\n",
       "        }\n",
       "    };\n",
       "\n",
       "    // Disable right mouse context menu.\n",
       "    this.rubberband_canvas.addEventListener('contextmenu', function (_e) {\n",
       "        event.preventDefault();\n",
       "        return false;\n",
       "    });\n",
       "\n",
       "    function set_focus() {\n",
       "        canvas.focus();\n",
       "        canvas_div.focus();\n",
       "    }\n",
       "\n",
       "    window.setTimeout(set_focus, 100);\n",
       "};\n",
       "\n",
       "mpl.figure.prototype._init_toolbar = function () {\n",
       "    var fig = this;\n",
       "\n",
       "    var toolbar = document.createElement('div');\n",
       "    toolbar.classList = 'mpl-toolbar';\n",
       "    this.root.appendChild(toolbar);\n",
       "\n",
       "    function on_click_closure(name) {\n",
       "        return function (_event) {\n",
       "            return fig.toolbar_button_onclick(name);\n",
       "        };\n",
       "    }\n",
       "\n",
       "    function on_mouseover_closure(tooltip) {\n",
       "        return function (event) {\n",
       "            if (!event.currentTarget.disabled) {\n",
       "                return fig.toolbar_button_onmouseover(tooltip);\n",
       "            }\n",
       "        };\n",
       "    }\n",
       "\n",
       "    fig.buttons = {};\n",
       "    var buttonGroup = document.createElement('div');\n",
       "    buttonGroup.classList = 'mpl-button-group';\n",
       "    for (var toolbar_ind in mpl.toolbar_items) {\n",
       "        var name = mpl.toolbar_items[toolbar_ind][0];\n",
       "        var tooltip = mpl.toolbar_items[toolbar_ind][1];\n",
       "        var image = mpl.toolbar_items[toolbar_ind][2];\n",
       "        var method_name = mpl.toolbar_items[toolbar_ind][3];\n",
       "\n",
       "        if (!name) {\n",
       "            /* Instead of a spacer, we start a new button group. */\n",
       "            if (buttonGroup.hasChildNodes()) {\n",
       "                toolbar.appendChild(buttonGroup);\n",
       "            }\n",
       "            buttonGroup = document.createElement('div');\n",
       "            buttonGroup.classList = 'mpl-button-group';\n",
       "            continue;\n",
       "        }\n",
       "\n",
       "        var button = (fig.buttons[name] = document.createElement('button'));\n",
       "        button.classList = 'mpl-widget';\n",
       "        button.setAttribute('role', 'button');\n",
       "        button.setAttribute('aria-disabled', 'false');\n",
       "        button.addEventListener('click', on_click_closure(method_name));\n",
       "        button.addEventListener('mouseover', on_mouseover_closure(tooltip));\n",
       "\n",
       "        var icon_img = document.createElement('img');\n",
       "        icon_img.src = '_images/' + image + '.png';\n",
       "        icon_img.srcset = '_images/' + image + '_large.png 2x';\n",
       "        icon_img.alt = tooltip;\n",
       "        button.appendChild(icon_img);\n",
       "\n",
       "        buttonGroup.appendChild(button);\n",
       "    }\n",
       "\n",
       "    if (buttonGroup.hasChildNodes()) {\n",
       "        toolbar.appendChild(buttonGroup);\n",
       "    }\n",
       "\n",
       "    var fmt_picker = document.createElement('select');\n",
       "    fmt_picker.classList = 'mpl-widget';\n",
       "    toolbar.appendChild(fmt_picker);\n",
       "    this.format_dropdown = fmt_picker;\n",
       "\n",
       "    for (var ind in mpl.extensions) {\n",
       "        var fmt = mpl.extensions[ind];\n",
       "        var option = document.createElement('option');\n",
       "        option.selected = fmt === mpl.default_extension;\n",
       "        option.innerHTML = fmt;\n",
       "        fmt_picker.appendChild(option);\n",
       "    }\n",
       "\n",
       "    var status_bar = document.createElement('span');\n",
       "    status_bar.classList = 'mpl-message';\n",
       "    toolbar.appendChild(status_bar);\n",
       "    this.message = status_bar;\n",
       "};\n",
       "\n",
       "mpl.figure.prototype.request_resize = function (x_pixels, y_pixels) {\n",
       "    // Request matplotlib to resize the figure. Matplotlib will then trigger a resize in the client,\n",
       "    // which will in turn request a refresh of the image.\n",
       "    this.send_message('resize', { width: x_pixels, height: y_pixels });\n",
       "};\n",
       "\n",
       "mpl.figure.prototype.send_message = function (type, properties) {\n",
       "    properties['type'] = type;\n",
       "    properties['figure_id'] = this.id;\n",
       "    this.ws.send(JSON.stringify(properties));\n",
       "};\n",
       "\n",
       "mpl.figure.prototype.send_draw_message = function () {\n",
       "    if (!this.waiting) {\n",
       "        this.waiting = true;\n",
       "        this.ws.send(JSON.stringify({ type: 'draw', figure_id: this.id }));\n",
       "    }\n",
       "};\n",
       "\n",
       "mpl.figure.prototype.handle_save = function (fig, _msg) {\n",
       "    var format_dropdown = fig.format_dropdown;\n",
       "    var format = format_dropdown.options[format_dropdown.selectedIndex].value;\n",
       "    fig.ondownload(fig, format);\n",
       "};\n",
       "\n",
       "mpl.figure.prototype.handle_resize = function (fig, msg) {\n",
       "    var size = msg['size'];\n",
       "    if (size[0] !== fig.canvas.width || size[1] !== fig.canvas.height) {\n",
       "        fig._resize_canvas(size[0], size[1], msg['forward']);\n",
       "        fig.send_message('refresh', {});\n",
       "    }\n",
       "};\n",
       "\n",
       "mpl.figure.prototype.handle_rubberband = function (fig, msg) {\n",
       "    var x0 = msg['x0'] / fig.ratio;\n",
       "    var y0 = (fig.canvas.height - msg['y0']) / fig.ratio;\n",
       "    var x1 = msg['x1'] / fig.ratio;\n",
       "    var y1 = (fig.canvas.height - msg['y1']) / fig.ratio;\n",
       "    x0 = Math.floor(x0) + 0.5;\n",
       "    y0 = Math.floor(y0) + 0.5;\n",
       "    x1 = Math.floor(x1) + 0.5;\n",
       "    y1 = Math.floor(y1) + 0.5;\n",
       "    var min_x = Math.min(x0, x1);\n",
       "    var min_y = Math.min(y0, y1);\n",
       "    var width = Math.abs(x1 - x0);\n",
       "    var height = Math.abs(y1 - y0);\n",
       "\n",
       "    fig.rubberband_context.clearRect(\n",
       "        0,\n",
       "        0,\n",
       "        fig.canvas.width / fig.ratio,\n",
       "        fig.canvas.height / fig.ratio\n",
       "    );\n",
       "\n",
       "    fig.rubberband_context.strokeRect(min_x, min_y, width, height);\n",
       "};\n",
       "\n",
       "mpl.figure.prototype.handle_figure_label = function (fig, msg) {\n",
       "    // Updates the figure title.\n",
       "    fig.header.textContent = msg['label'];\n",
       "};\n",
       "\n",
       "mpl.figure.prototype.handle_cursor = function (fig, msg) {\n",
       "    fig.rubberband_canvas.style.cursor = msg['cursor'];\n",
       "};\n",
       "\n",
       "mpl.figure.prototype.handle_message = function (fig, msg) {\n",
       "    fig.message.textContent = msg['message'];\n",
       "};\n",
       "\n",
       "mpl.figure.prototype.handle_draw = function (fig, _msg) {\n",
       "    // Request the server to send over a new figure.\n",
       "    fig.send_draw_message();\n",
       "};\n",
       "\n",
       "mpl.figure.prototype.handle_image_mode = function (fig, msg) {\n",
       "    fig.image_mode = msg['mode'];\n",
       "};\n",
       "\n",
       "mpl.figure.prototype.handle_history_buttons = function (fig, msg) {\n",
       "    for (var key in msg) {\n",
       "        if (!(key in fig.buttons)) {\n",
       "            continue;\n",
       "        }\n",
       "        fig.buttons[key].disabled = !msg[key];\n",
       "        fig.buttons[key].setAttribute('aria-disabled', !msg[key]);\n",
       "    }\n",
       "};\n",
       "\n",
       "mpl.figure.prototype.handle_navigate_mode = function (fig, msg) {\n",
       "    if (msg['mode'] === 'PAN') {\n",
       "        fig.buttons['Pan'].classList.add('active');\n",
       "        fig.buttons['Zoom'].classList.remove('active');\n",
       "    } else if (msg['mode'] === 'ZOOM') {\n",
       "        fig.buttons['Pan'].classList.remove('active');\n",
       "        fig.buttons['Zoom'].classList.add('active');\n",
       "    } else {\n",
       "        fig.buttons['Pan'].classList.remove('active');\n",
       "        fig.buttons['Zoom'].classList.remove('active');\n",
       "    }\n",
       "};\n",
       "\n",
       "mpl.figure.prototype.updated_canvas_event = function () {\n",
       "    // Called whenever the canvas gets updated.\n",
       "    this.send_message('ack', {});\n",
       "};\n",
       "\n",
       "// A function to construct a web socket function for onmessage handling.\n",
       "// Called in the figure constructor.\n",
       "mpl.figure.prototype._make_on_message_function = function (fig) {\n",
       "    return function socket_on_message(evt) {\n",
       "        if (evt.data instanceof Blob) {\n",
       "            var img = evt.data;\n",
       "            if (img.type !== 'image/png') {\n",
       "                /* FIXME: We get \"Resource interpreted as Image but\n",
       "                 * transferred with MIME type text/plain:\" errors on\n",
       "                 * Chrome.  But how to set the MIME type?  It doesn't seem\n",
       "                 * to be part of the websocket stream */\n",
       "                img.type = 'image/png';\n",
       "            }\n",
       "\n",
       "            /* Free the memory for the previous frames */\n",
       "            if (fig.imageObj.src) {\n",
       "                (window.URL || window.webkitURL).revokeObjectURL(\n",
       "                    fig.imageObj.src\n",
       "                );\n",
       "            }\n",
       "\n",
       "            fig.imageObj.src = (window.URL || window.webkitURL).createObjectURL(\n",
       "                img\n",
       "            );\n",
       "            fig.updated_canvas_event();\n",
       "            fig.waiting = false;\n",
       "            return;\n",
       "        } else if (\n",
       "            typeof evt.data === 'string' &&\n",
       "            evt.data.slice(0, 21) === 'data:image/png;base64'\n",
       "        ) {\n",
       "            fig.imageObj.src = evt.data;\n",
       "            fig.updated_canvas_event();\n",
       "            fig.waiting = false;\n",
       "            return;\n",
       "        }\n",
       "\n",
       "        var msg = JSON.parse(evt.data);\n",
       "        var msg_type = msg['type'];\n",
       "\n",
       "        // Call the  \"handle_{type}\" callback, which takes\n",
       "        // the figure and JSON message as its only arguments.\n",
       "        try {\n",
       "            var callback = fig['handle_' + msg_type];\n",
       "        } catch (e) {\n",
       "            console.log(\n",
       "                \"No handler for the '\" + msg_type + \"' message type: \",\n",
       "                msg\n",
       "            );\n",
       "            return;\n",
       "        }\n",
       "\n",
       "        if (callback) {\n",
       "            try {\n",
       "                // console.log(\"Handling '\" + msg_type + \"' message: \", msg);\n",
       "                callback(fig, msg);\n",
       "            } catch (e) {\n",
       "                console.log(\n",
       "                    \"Exception inside the 'handler_\" + msg_type + \"' callback:\",\n",
       "                    e,\n",
       "                    e.stack,\n",
       "                    msg\n",
       "                );\n",
       "            }\n",
       "        }\n",
       "    };\n",
       "};\n",
       "\n",
       "// from https://stackoverflow.com/questions/1114465/getting-mouse-location-in-canvas\n",
       "mpl.findpos = function (e) {\n",
       "    //this section is from http://www.quirksmode.org/js/events_properties.html\n",
       "    var targ;\n",
       "    if (!e) {\n",
       "        e = window.event;\n",
       "    }\n",
       "    if (e.target) {\n",
       "        targ = e.target;\n",
       "    } else if (e.srcElement) {\n",
       "        targ = e.srcElement;\n",
       "    }\n",
       "    if (targ.nodeType === 3) {\n",
       "        // defeat Safari bug\n",
       "        targ = targ.parentNode;\n",
       "    }\n",
       "\n",
       "    // pageX,Y are the mouse positions relative to the document\n",
       "    var boundingRect = targ.getBoundingClientRect();\n",
       "    var x = e.pageX - (boundingRect.left + document.body.scrollLeft);\n",
       "    var y = e.pageY - (boundingRect.top + document.body.scrollTop);\n",
       "\n",
       "    return { x: x, y: y };\n",
       "};\n",
       "\n",
       "/*\n",
       " * return a copy of an object with only non-object keys\n",
       " * we need this to avoid circular references\n",
       " * https://stackoverflow.com/a/24161582/3208463\n",
       " */\n",
       "function simpleKeys(original) {\n",
       "    return Object.keys(original).reduce(function (obj, key) {\n",
       "        if (typeof original[key] !== 'object') {\n",
       "            obj[key] = original[key];\n",
       "        }\n",
       "        return obj;\n",
       "    }, {});\n",
       "}\n",
       "\n",
       "mpl.figure.prototype.mouse_event = function (event, name) {\n",
       "    var canvas_pos = mpl.findpos(event);\n",
       "\n",
       "    if (name === 'button_press') {\n",
       "        this.canvas.focus();\n",
       "        this.canvas_div.focus();\n",
       "    }\n",
       "\n",
       "    var x = canvas_pos.x * this.ratio;\n",
       "    var y = canvas_pos.y * this.ratio;\n",
       "\n",
       "    this.send_message(name, {\n",
       "        x: x,\n",
       "        y: y,\n",
       "        button: event.button,\n",
       "        step: event.step,\n",
       "        guiEvent: simpleKeys(event),\n",
       "    });\n",
       "\n",
       "    /* This prevents the web browser from automatically changing to\n",
       "     * the text insertion cursor when the button is pressed.  We want\n",
       "     * to control all of the cursor setting manually through the\n",
       "     * 'cursor' event from matplotlib */\n",
       "    event.preventDefault();\n",
       "    return false;\n",
       "};\n",
       "\n",
       "mpl.figure.prototype._key_event_extra = function (_event, _name) {\n",
       "    // Handle any extra behaviour associated with a key event\n",
       "};\n",
       "\n",
       "mpl.figure.prototype.key_event = function (event, name) {\n",
       "    // Prevent repeat events\n",
       "    if (name === 'key_press') {\n",
       "        if (event.key === this._key) {\n",
       "            return;\n",
       "        } else {\n",
       "            this._key = event.key;\n",
       "        }\n",
       "    }\n",
       "    if (name === 'key_release') {\n",
       "        this._key = null;\n",
       "    }\n",
       "\n",
       "    var value = '';\n",
       "    if (event.ctrlKey && event.key !== 'Control') {\n",
       "        value += 'ctrl+';\n",
       "    }\n",
       "    else if (event.altKey && event.key !== 'Alt') {\n",
       "        value += 'alt+';\n",
       "    }\n",
       "    else if (event.shiftKey && event.key !== 'Shift') {\n",
       "        value += 'shift+';\n",
       "    }\n",
       "\n",
       "    value += 'k' + event.key;\n",
       "\n",
       "    this._key_event_extra(event, name);\n",
       "\n",
       "    this.send_message(name, { key: value, guiEvent: simpleKeys(event) });\n",
       "    return false;\n",
       "};\n",
       "\n",
       "mpl.figure.prototype.toolbar_button_onclick = function (name) {\n",
       "    if (name === 'download') {\n",
       "        this.handle_save(this, null);\n",
       "    } else {\n",
       "        this.send_message('toolbar_button', { name: name });\n",
       "    }\n",
       "};\n",
       "\n",
       "mpl.figure.prototype.toolbar_button_onmouseover = function (tooltip) {\n",
       "    this.message.textContent = tooltip;\n",
       "};\n",
       "\n",
       "///////////////// REMAINING CONTENT GENERATED BY embed_js.py /////////////////\n",
       "// prettier-ignore\n",
       "var _JSXTOOLS_RESIZE_OBSERVER=function(A){var t,i=new WeakMap,n=new WeakMap,a=new WeakMap,r=new WeakMap,o=new Set;function s(e){if(!(this instanceof s))throw new TypeError(\"Constructor requires 'new' operator\");i.set(this,e)}function h(){throw new TypeError(\"Function is not a constructor\")}function c(e,t,i,n){e=0 in arguments?Number(arguments[0]):0,t=1 in arguments?Number(arguments[1]):0,i=2 in arguments?Number(arguments[2]):0,n=3 in arguments?Number(arguments[3]):0,this.right=(this.x=this.left=e)+(this.width=i),this.bottom=(this.y=this.top=t)+(this.height=n),Object.freeze(this)}function d(){t=requestAnimationFrame(d);var s=new WeakMap,p=new Set;o.forEach((function(t){r.get(t).forEach((function(i){var r=t instanceof window.SVGElement,o=a.get(t),d=r?0:parseFloat(o.paddingTop),f=r?0:parseFloat(o.paddingRight),l=r?0:parseFloat(o.paddingBottom),u=r?0:parseFloat(o.paddingLeft),g=r?0:parseFloat(o.borderTopWidth),m=r?0:parseFloat(o.borderRightWidth),w=r?0:parseFloat(o.borderBottomWidth),b=u+f,F=d+l,v=(r?0:parseFloat(o.borderLeftWidth))+m,W=g+w,y=r?0:t.offsetHeight-W-t.clientHeight,E=r?0:t.offsetWidth-v-t.clientWidth,R=b+v,z=F+W,M=r?t.width:parseFloat(o.width)-R-E,O=r?t.height:parseFloat(o.height)-z-y;if(n.has(t)){var k=n.get(t);if(k[0]===M&&k[1]===O)return}n.set(t,[M,O]);var S=Object.create(h.prototype);S.target=t,S.contentRect=new c(u,d,M,O),s.has(i)||(s.set(i,[]),p.add(i)),s.get(i).push(S)}))})),p.forEach((function(e){i.get(e).call(e,s.get(e),e)}))}return s.prototype.observe=function(i){if(i instanceof window.Element){r.has(i)||(r.set(i,new Set),o.add(i),a.set(i,window.getComputedStyle(i)));var n=r.get(i);n.has(this)||n.add(this),cancelAnimationFrame(t),t=requestAnimationFrame(d)}},s.prototype.unobserve=function(i){if(i instanceof window.Element&&r.has(i)){var n=r.get(i);n.has(this)&&(n.delete(this),n.size||(r.delete(i),o.delete(i))),n.size||r.delete(i),o.size||cancelAnimationFrame(t)}},A.DOMRectReadOnly=c,A.ResizeObserver=s,A.ResizeObserverEntry=h,A}; // eslint-disable-line\n",
       "mpl.toolbar_items = [[\"Home\", \"Reset original view\", \"fa fa-home icon-home\", \"home\"], [\"Back\", \"Back to previous view\", \"fa fa-arrow-left icon-arrow-left\", \"back\"], [\"Forward\", \"Forward to next view\", \"fa fa-arrow-right icon-arrow-right\", \"forward\"], [\"\", \"\", \"\", \"\"], [\"Pan\", \"Left button pans, Right button zooms\\nx/y fixes axis, CTRL fixes aspect\", \"fa fa-arrows icon-move\", \"pan\"], [\"Zoom\", \"Zoom to rectangle\\nx/y fixes axis\", \"fa fa-square-o icon-check-empty\", \"zoom\"], [\"\", \"\", \"\", \"\"], [\"Download\", \"Download plot\", \"fa fa-floppy-o icon-save\", \"download\"]];\n",
       "\n",
       "mpl.extensions = [\"eps\", \"jpeg\", \"pgf\", \"pdf\", \"png\", \"ps\", \"raw\", \"svg\", \"tif\"];\n",
       "\n",
       "mpl.default_extension = \"png\";/* global mpl */\n",
       "\n",
       "var comm_websocket_adapter = function (comm) {\n",
       "    // Create a \"websocket\"-like object which calls the given IPython comm\n",
       "    // object with the appropriate methods. Currently this is a non binary\n",
       "    // socket, so there is still some room for performance tuning.\n",
       "    var ws = {};\n",
       "\n",
       "    ws.binaryType = comm.kernel.ws.binaryType;\n",
       "    ws.readyState = comm.kernel.ws.readyState;\n",
       "    function updateReadyState(_event) {\n",
       "        if (comm.kernel.ws) {\n",
       "            ws.readyState = comm.kernel.ws.readyState;\n",
       "        } else {\n",
       "            ws.readyState = 3; // Closed state.\n",
       "        }\n",
       "    }\n",
       "    comm.kernel.ws.addEventListener('open', updateReadyState);\n",
       "    comm.kernel.ws.addEventListener('close', updateReadyState);\n",
       "    comm.kernel.ws.addEventListener('error', updateReadyState);\n",
       "\n",
       "    ws.close = function () {\n",
       "        comm.close();\n",
       "    };\n",
       "    ws.send = function (m) {\n",
       "        //console.log('sending', m);\n",
       "        comm.send(m);\n",
       "    };\n",
       "    // Register the callback with on_msg.\n",
       "    comm.on_msg(function (msg) {\n",
       "        //console.log('receiving', msg['content']['data'], msg);\n",
       "        var data = msg['content']['data'];\n",
       "        if (data['blob'] !== undefined) {\n",
       "            data = {\n",
       "                data: new Blob(msg['buffers'], { type: data['blob'] }),\n",
       "            };\n",
       "        }\n",
       "        // Pass the mpl event to the overridden (by mpl) onmessage function.\n",
       "        ws.onmessage(data);\n",
       "    });\n",
       "    return ws;\n",
       "};\n",
       "\n",
       "mpl.mpl_figure_comm = function (comm, msg) {\n",
       "    // This is the function which gets called when the mpl process\n",
       "    // starts-up an IPython Comm through the \"matplotlib\" channel.\n",
       "\n",
       "    var id = msg.content.data.id;\n",
       "    // Get hold of the div created by the display call when the Comm\n",
       "    // socket was opened in Python.\n",
       "    var element = document.getElementById(id);\n",
       "    var ws_proxy = comm_websocket_adapter(comm);\n",
       "\n",
       "    function ondownload(figure, _format) {\n",
       "        window.open(figure.canvas.toDataURL());\n",
       "    }\n",
       "\n",
       "    var fig = new mpl.figure(id, ws_proxy, ondownload, element);\n",
       "\n",
       "    // Call onopen now - mpl needs it, as it is assuming we've passed it a real\n",
       "    // web socket which is closed, not our websocket->open comm proxy.\n",
       "    ws_proxy.onopen();\n",
       "\n",
       "    fig.parent_element = element;\n",
       "    fig.cell_info = mpl.find_output_cell(\"<div id='\" + id + \"'></div>\");\n",
       "    if (!fig.cell_info) {\n",
       "        console.error('Failed to find cell for figure', id, fig);\n",
       "        return;\n",
       "    }\n",
       "    fig.cell_info[0].output_area.element.on(\n",
       "        'cleared',\n",
       "        { fig: fig },\n",
       "        fig._remove_fig_handler\n",
       "    );\n",
       "};\n",
       "\n",
       "mpl.figure.prototype.handle_close = function (fig, msg) {\n",
       "    var width = fig.canvas.width / fig.ratio;\n",
       "    fig.cell_info[0].output_area.element.off(\n",
       "        'cleared',\n",
       "        fig._remove_fig_handler\n",
       "    );\n",
       "    fig.resizeObserverInstance.unobserve(fig.canvas_div);\n",
       "\n",
       "    // Update the output cell to use the data from the current canvas.\n",
       "    fig.push_to_output();\n",
       "    var dataURL = fig.canvas.toDataURL();\n",
       "    // Re-enable the keyboard manager in IPython - without this line, in FF,\n",
       "    // the notebook keyboard shortcuts fail.\n",
       "    IPython.keyboard_manager.enable();\n",
       "    fig.parent_element.innerHTML =\n",
       "        '<img src=\"' + dataURL + '\" width=\"' + width + '\">';\n",
       "    fig.close_ws(fig, msg);\n",
       "};\n",
       "\n",
       "mpl.figure.prototype.close_ws = function (fig, msg) {\n",
       "    fig.send_message('closing', msg);\n",
       "    // fig.ws.close()\n",
       "};\n",
       "\n",
       "mpl.figure.prototype.push_to_output = function (_remove_interactive) {\n",
       "    // Turn the data on the canvas into data in the output cell.\n",
       "    var width = this.canvas.width / this.ratio;\n",
       "    var dataURL = this.canvas.toDataURL();\n",
       "    this.cell_info[1]['text/html'] =\n",
       "        '<img src=\"' + dataURL + '\" width=\"' + width + '\">';\n",
       "};\n",
       "\n",
       "mpl.figure.prototype.updated_canvas_event = function () {\n",
       "    // Tell IPython that the notebook contents must change.\n",
       "    IPython.notebook.set_dirty(true);\n",
       "    this.send_message('ack', {});\n",
       "    var fig = this;\n",
       "    // Wait a second, then push the new image to the DOM so\n",
       "    // that it is saved nicely (might be nice to debounce this).\n",
       "    setTimeout(function () {\n",
       "        fig.push_to_output();\n",
       "    }, 1000);\n",
       "};\n",
       "\n",
       "mpl.figure.prototype._init_toolbar = function () {\n",
       "    var fig = this;\n",
       "\n",
       "    var toolbar = document.createElement('div');\n",
       "    toolbar.classList = 'btn-toolbar';\n",
       "    this.root.appendChild(toolbar);\n",
       "\n",
       "    function on_click_closure(name) {\n",
       "        return function (_event) {\n",
       "            return fig.toolbar_button_onclick(name);\n",
       "        };\n",
       "    }\n",
       "\n",
       "    function on_mouseover_closure(tooltip) {\n",
       "        return function (event) {\n",
       "            if (!event.currentTarget.disabled) {\n",
       "                return fig.toolbar_button_onmouseover(tooltip);\n",
       "            }\n",
       "        };\n",
       "    }\n",
       "\n",
       "    fig.buttons = {};\n",
       "    var buttonGroup = document.createElement('div');\n",
       "    buttonGroup.classList = 'btn-group';\n",
       "    var button;\n",
       "    for (var toolbar_ind in mpl.toolbar_items) {\n",
       "        var name = mpl.toolbar_items[toolbar_ind][0];\n",
       "        var tooltip = mpl.toolbar_items[toolbar_ind][1];\n",
       "        var image = mpl.toolbar_items[toolbar_ind][2];\n",
       "        var method_name = mpl.toolbar_items[toolbar_ind][3];\n",
       "\n",
       "        if (!name) {\n",
       "            /* Instead of a spacer, we start a new button group. */\n",
       "            if (buttonGroup.hasChildNodes()) {\n",
       "                toolbar.appendChild(buttonGroup);\n",
       "            }\n",
       "            buttonGroup = document.createElement('div');\n",
       "            buttonGroup.classList = 'btn-group';\n",
       "            continue;\n",
       "        }\n",
       "\n",
       "        button = fig.buttons[name] = document.createElement('button');\n",
       "        button.classList = 'btn btn-default';\n",
       "        button.href = '#';\n",
       "        button.title = name;\n",
       "        button.innerHTML = '<i class=\"fa ' + image + ' fa-lg\"></i>';\n",
       "        button.addEventListener('click', on_click_closure(method_name));\n",
       "        button.addEventListener('mouseover', on_mouseover_closure(tooltip));\n",
       "        buttonGroup.appendChild(button);\n",
       "    }\n",
       "\n",
       "    if (buttonGroup.hasChildNodes()) {\n",
       "        toolbar.appendChild(buttonGroup);\n",
       "    }\n",
       "\n",
       "    // Add the status bar.\n",
       "    var status_bar = document.createElement('span');\n",
       "    status_bar.classList = 'mpl-message pull-right';\n",
       "    toolbar.appendChild(status_bar);\n",
       "    this.message = status_bar;\n",
       "\n",
       "    // Add the close button to the window.\n",
       "    var buttongrp = document.createElement('div');\n",
       "    buttongrp.classList = 'btn-group inline pull-right';\n",
       "    button = document.createElement('button');\n",
       "    button.classList = 'btn btn-mini btn-primary';\n",
       "    button.href = '#';\n",
       "    button.title = 'Stop Interaction';\n",
       "    button.innerHTML = '<i class=\"fa fa-power-off icon-remove icon-large\"></i>';\n",
       "    button.addEventListener('click', function (_evt) {\n",
       "        fig.handle_close(fig, {});\n",
       "    });\n",
       "    button.addEventListener(\n",
       "        'mouseover',\n",
       "        on_mouseover_closure('Stop Interaction')\n",
       "    );\n",
       "    buttongrp.appendChild(button);\n",
       "    var titlebar = this.root.querySelector('.ui-dialog-titlebar');\n",
       "    titlebar.insertBefore(buttongrp, titlebar.firstChild);\n",
       "};\n",
       "\n",
       "mpl.figure.prototype._remove_fig_handler = function (event) {\n",
       "    var fig = event.data.fig;\n",
       "    if (event.target !== this) {\n",
       "        // Ignore bubbled events from children.\n",
       "        return;\n",
       "    }\n",
       "    fig.close_ws(fig, {});\n",
       "};\n",
       "\n",
       "mpl.figure.prototype._root_extra_style = function (el) {\n",
       "    el.style.boxSizing = 'content-box'; // override notebook setting of border-box.\n",
       "};\n",
       "\n",
       "mpl.figure.prototype._canvas_extra_style = function (el) {\n",
       "    // this is important to make the div 'focusable\n",
       "    el.setAttribute('tabindex', 0);\n",
       "    // reach out to IPython and tell the keyboard manager to turn it's self\n",
       "    // off when our div gets focus\n",
       "\n",
       "    // location in version 3\n",
       "    if (IPython.notebook.keyboard_manager) {\n",
       "        IPython.notebook.keyboard_manager.register_events(el);\n",
       "    } else {\n",
       "        // location in version 2\n",
       "        IPython.keyboard_manager.register_events(el);\n",
       "    }\n",
       "};\n",
       "\n",
       "mpl.figure.prototype._key_event_extra = function (event, _name) {\n",
       "    // Check for shift+enter\n",
       "    if (event.shiftKey && event.which === 13) {\n",
       "        this.canvas_div.blur();\n",
       "        // select the cell after this one\n",
       "        var index = IPython.notebook.find_cell_index(this.cell_info[0]);\n",
       "        IPython.notebook.select(index + 1);\n",
       "    }\n",
       "};\n",
       "\n",
       "mpl.figure.prototype.handle_save = function (fig, _msg) {\n",
       "    fig.ondownload(fig, null);\n",
       "};\n",
       "\n",
       "mpl.find_output_cell = function (html_output) {\n",
       "    // Return the cell and output element which can be found *uniquely* in the notebook.\n",
       "    // Note - this is a bit hacky, but it is done because the \"notebook_saving.Notebook\"\n",
       "    // IPython event is triggered only after the cells have been serialised, which for\n",
       "    // our purposes (turning an active figure into a static one), is too late.\n",
       "    var cells = IPython.notebook.get_cells();\n",
       "    var ncells = cells.length;\n",
       "    for (var i = 0; i < ncells; i++) {\n",
       "        var cell = cells[i];\n",
       "        if (cell.cell_type === 'code') {\n",
       "            for (var j = 0; j < cell.output_area.outputs.length; j++) {\n",
       "                var data = cell.output_area.outputs[j];\n",
       "                if (data.data) {\n",
       "                    // IPython >= 3 moved mimebundle to data attribute of output\n",
       "                    data = data.data;\n",
       "                }\n",
       "                if (data['text/html'] === html_output) {\n",
       "                    return [cell, data, j];\n",
       "                }\n",
       "            }\n",
       "        }\n",
       "    }\n",
       "};\n",
       "\n",
       "// Register the function which deals with the matplotlib target/channel.\n",
       "// The kernel may be null if the page has been refreshed.\n",
       "if (IPython.notebook.kernel !== null) {\n",
       "    IPython.notebook.kernel.comm_manager.register_target(\n",
       "        'matplotlib',\n",
       "        mpl.mpl_figure_comm\n",
       "    );\n",
       "}\n"
      ],
      "text/plain": [
       "<IPython.core.display.Javascript object>"
      ]
     },
     "metadata": {},
     "output_type": "display_data"
    },
    {
     "data": {
      "text/html": [
       "<img src=\"data:image/png;base64,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\" width=\"640\">"
      ],
      "text/plain": [
       "<IPython.core.display.HTML object>"
      ]
     },
     "metadata": {},
     "output_type": "display_data"
    },
    {
     "data": {
      "text/plain": [
       "<matplotlib.legend.Legend at 0x7f9aecdce8c0>"
      ]
     },
     "execution_count": 135,
     "metadata": {},
     "output_type": "execute_result"
    }
   ],
   "source": [
    "figT, axTi = plt.subplots()\n",
    "\n",
    "axTi.plot(Ti_plot, color='blue', label='Ti')\n",
    "axTe = axTi.twinx()\n",
    "axTe.plot(Te_plot, color='red', label='Te')\n",
    "axTi.set_xlabel('iteration')\n",
    "figT.legend()"
   ]
  },
  {
   "cell_type": "code",
   "execution_count": 136,
   "id": "1349cb10",
   "metadata": {},
   "outputs": [
    {
     "data": {
      "text/plain": [
       "array([8.67532962e-02, 1.39451850e-01, 6.15182464e-16, 1.77134689e-14,\n",
       "       1.73896132e-02, 0.00000000e+00, 0.00000000e+00, 6.39087917e-03])"
      ]
     },
     "execution_count": 136,
     "metadata": {},
     "output_type": "execute_result"
    }
   ],
   "source": [
    "np.sqrt(np.sum(np.array(loop_Q_grad[0:3747]) ** 2, axis=0))"
   ]
  },
  {
   "cell_type": "code",
   "execution_count": 137,
   "id": "524d5435",
   "metadata": {},
   "outputs": [
    {
     "name": "stdout",
     "output_type": "stream",
     "text": [
      "symbol \tvalue \t\tRMS grad\n",
      "B_pm:\t 3.5299e+01 \t 8.6753e-02\n",
      "B_p:\t 2.2006e+00 \t 1.3945e-01\n",
      "L_p:\t 4.0000e+00 \t 6.1518e-16\n",
      "r_b:\t 2.5000e-01 \t 1.7713e-14\n",
      "T_frac:\t 4.8393e-01 \t 1.7390e-02\n",
      "p_aux:\t 0.0000e+00 \t 0.0000e+00\n",
      "beta:\t 8.0000e-01 \t 0.0000e+00\n",
      "Eb:\t 9.9961e+02 \t 6.3909e-03\n"
     ]
    }
   ],
   "source": [
    "print(\"symbol \\tvalue \\t\\tRMS grad\")\n",
    "for i in range(8):\n",
    "    print(symbol_list[i].name + \":\\t {:.4e}\".format(loop_values[3748][i]), \"\\t {:.4e}\".format(np.sqrt(np.sum(np.array(loop_Q_grad[0:3747]) ** 2, axis=0))[i]))"
   ]
  },
  {
   "cell_type": "code",
   "execution_count": 251,
   "id": "c72c6a88",
   "metadata": {},
   "outputs": [
    {
     "data": {
      "text/plain": [
       "'def _lambdifygenerated(B_pm, B_p, L_p, r_b, T_frac, p_aux, beta, Eb):\\n    return (1.73909198773814e+19*pi*B_p**3*B_pm*L_p*T_frac*beta**2*r_b**2*(1 - T_frac)*f_DT_reac (B_pm, B_p, p_aux, Eb)/(f_Te (B_pm, B_p, p_aux, Eb) + f_Ti (B_pm, B_p, p_aux, Eb))**2 + 1.8008495157118e+18*pi*B_p**3*B_pm*L_p*beta**2*r_b**2*(1 - T_frac)**2*f_DD_reac (B_pm, B_p, p_aux, Eb)/(f_Te (B_pm, B_p, p_aux, Eb) + f_Ti (B_pm, B_p, p_aux, Eb))**2)/(41171.6853157704*pi*B_p**3*B_pm*Eb**(-0.5)*L_p*beta**2*r_b**2*log(10)/((f_Te (B_pm, B_p, p_aux, Eb) + f_Ti (B_pm, B_p, p_aux, Eb))**2*log(B_pm/(B_p*sqrt(1 - beta)))) + 3.0e-24*pi*B_p**3*B_pm*L_p*beta*r_b**2*(1 - 1/511*f_Te (B_pm, B_p, p_aux, Eb))*f_Te (B_pm, B_p, p_aux, Eb)/(4.02670907669414e-22*f_Te (B_pm, B_p, p_aux, Eb) + 4.02670907669414e-22*f_Ti (B_pm, B_p, p_aux, Eb))) - 1/B_p\\n'"
      ]
     },
     "execution_count": 251,
     "metadata": {},
     "output_type": "execute_result"
    }
   ],
   "source": [
    "inspect.getsource(grad_Q_func)"
   ]
  }
 ],
 "metadata": {
  "kernelspec": {
   "display_name": "Python 3 (ipykernel)",
   "language": "python",
   "name": "python3"
  },
  "language_info": {
   "codemirror_mode": {
    "name": "ipython",
    "version": 3
   },
   "file_extension": ".py",
   "mimetype": "text/x-python",
   "name": "python",
   "nbconvert_exporter": "python",
   "pygments_lexer": "ipython3",
   "version": "3.10.4"
  }
 },
 "nbformat": 4,
 "nbformat_minor": 5
}
