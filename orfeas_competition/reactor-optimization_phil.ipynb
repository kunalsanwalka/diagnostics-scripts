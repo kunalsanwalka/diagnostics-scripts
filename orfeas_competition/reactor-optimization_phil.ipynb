{
 "cells": [
  {
   "cell_type": "markdown",
   "id": "cd5f0a76",
   "metadata": {},
   "source": [
    "Overleaf doc: https://www.overleaf.com/read/ysgbfhgmndrs"
   ]
  },
  {
   "cell_type": "markdown",
   "id": "21de2130",
   "metadata": {},
   "source": [
    "This notebook requires:\n",
    "- jaxlib (`pip install jaxlib`)\n",
    "- jax\n",
    "- sympy\n",
    "- scipy\n",
    "- sympy2jax (`pip install sympy2jax`) -- but sympy's built-in lambdify should be sufficient for our uses\n",
    "\n",
    "Not needed but in case we want to parse LaTeX:\n",
    "\n",
    "- antlr4 python runtime (`conda install -c conda-forge antlr-python-runtime`) — for sympy's LaTeX parsing"
   ]
  },
  {
   "cell_type": "markdown",
   "id": "72131299",
   "metadata": {},
   "source": [
    "# Setup"
   ]
  },
  {
   "cell_type": "code",
   "execution_count": 1,
   "id": "debdc90f",
   "metadata": {
    "scrolled": true
   },
   "outputs": [
    {
     "data": {
      "text/html": [
       "<style>.container { width:95% !important; }</style>"
      ],
      "text/plain": [
       "<IPython.core.display.HTML object>"
      ]
     },
     "metadata": {},
     "output_type": "display_data"
    }
   ],
   "source": [
    "from IPython.display import display, HTML\n",
    "display(HTML(\"<style>.container { width:95% !important; }</style>\"))"
   ]
  },
  {
   "cell_type": "code",
   "execution_count": 2,
   "id": "a00285a1",
   "metadata": {},
   "outputs": [],
   "source": [
    "import jax\n",
    "import jax.numpy as jnp\n",
    "import sympy\n",
    "# from sympy.parsing.latex import parse_latex\n",
    "# from sympy2jax import sympy2jax\n",
    "import matplotlib.pyplot as plt\n",
    "import scipy\n",
    "import scipy.constants as const\n",
    "import numpy as np\n",
    "import math\n",
    "import scipy.special as sp\n",
    "from jaxopt import Bisection"
   ]
  },
  {
   "cell_type": "code",
   "execution_count": 3,
   "id": "041407a4",
   "metadata": {},
   "outputs": [],
   "source": [
    "from jax.config import config\n",
    "config.update(\"jax_enable_x64\", True)"
   ]
  },
  {
   "cell_type": "code",
   "execution_count": 4,
   "id": "0c17868c",
   "metadata": {},
   "outputs": [],
   "source": [
    "e = np.e\n",
    "ln = np.log\n",
    "ln_j = jnp.log\n",
    "gamma_0 = sp.exp1\n",
    "gamma_0_j = jax.scipy.special.exp1"
   ]
  },
  {
   "cell_type": "code",
   "execution_count": 5,
   "id": "e4d9fbc9",
   "metadata": {},
   "outputs": [],
   "source": [
    "%matplotlib notebook"
   ]
  },
  {
   "cell_type": "code",
   "execution_count": 311,
   "id": "778f5f25",
   "metadata": {},
   "outputs": [],
   "source": [
    "def plug_in_values(equation, values_in):\n",
    "    jax_equation = sympy.lambdify(list(equation.free_symbols), equation, jnp)\n",
    "    result = jax_equation(*tuple(values_in[_.name] for _ in list(equation.free_symbols)))\n",
    "    return result"
   ]
  },
  {
   "cell_type": "markdown",
   "id": "352140fe",
   "metadata": {},
   "source": [
    "---"
   ]
  },
  {
   "cell_type": "markdown",
   "id": "04ca69d0",
   "metadata": {},
   "source": [
    "# Units used"
   ]
  },
  {
   "cell_type": "markdown",
   "id": "39c65ffd",
   "metadata": {},
   "source": [
    "* Temperature: keV\n",
    "* Density: cm^-3\n",
    "* Field: T"
   ]
  },
  {
   "cell_type": "markdown",
   "id": "da34d876",
   "metadata": {},
   "source": [
    "# Cary's spreadsheet sanity check"
   ]
  },
  {
   "cell_type": "markdown",
   "id": "1d4be6fb",
   "metadata": {},
   "source": [
    "Spreadsheet benchmark inputs:\n",
    "* $B_p = 6$ T\n",
    "* $B_{p,m} = 30$ T\n",
    "*     --> $R_p = 5$\n",
    "* $\\beta_{limit} = 0.8$\n",
    "* $E_b = 1000$ keV\n",
    "* $r_b = 0.25$ m\n",
    "* $L_p = 4$ m"
   ]
  },
  {
   "cell_type": "markdown",
   "id": "6f5e7ee8",
   "metadata": {},
   "source": [
    "Yields (ignoring finite $\\beta$ effects on the electron temperature):\n",
    "* $T_e = 77.1$ keV\n",
    "* $n_{plug} = 9.68 \\times 10^{19}$ m$^{-3}$"
   ]
  },
  {
   "cell_type": "markdown",
   "id": "7b9baa1f",
   "metadata": {},
   "source": [
    "# Fundamental parameters"
   ]
  },
  {
   "cell_type": "markdown",
   "id": "5458a16c",
   "metadata": {},
   "source": [
    "I'm filling out the parameters as I go along"
   ]
  },
  {
   "cell_type": "markdown",
   "id": "48fd6022",
   "metadata": {},
   "source": [
    "## Sympy variables"
   ]
  },
  {
   "cell_type": "code",
   "execution_count": 312,
   "id": "0a710d67",
   "metadata": {},
   "outputs": [],
   "source": [
    "# Machine / engineering parameters\n",
    "[Eb, # keV\n",
    " beta,\n",
    " B_pm, # Tesla -- plug \n",
    " B_p, # Tesla\n",
    " r_b,\n",
    " L_p,\n",
    " Ti,  # Placeholder (will be calculated later), keV\n",
    " Te,  # Placeholder (will be calculated later), keV\n",
    "] = sympy.symbols('Eb '\n",
    "                  'beta '\n",
    "                  'B_pm '\n",
    "                  'B_p '\n",
    "                  'r_b '\n",
    "                  'L_p '\n",
    "                  'Ti '\n",
    "                  'Te ')\n",
    "\n",
    "# Physics parameters?\n",
    "[mu,\n",
    " Z_eff,\n",
    " I_cooling,\n",
    " tau_alpha\n",
    "] = sympy.symbols('mu '\n",
    "                  'Z_eff '\n",
    "                  'I_cooling '\n",
    "                  'tau_alpha')"
   ]
  },
  {
   "cell_type": "markdown",
   "id": "ac88829d",
   "metadata": {},
   "source": [
    "## JAX variables to optimize for"
   ]
  },
  {
   "cell_type": "code",
   "execution_count": 313,
   "id": "564b4cf0",
   "metadata": {},
   "outputs": [],
   "source": [
    "values = {\n",
    "    'Eb': 1000,\n",
    "    'beta': 0.8,\n",
    "    'B_pm': 30,\n",
    "    'B_p': 6,\n",
    "    'r_b': 0.25,\n",
    "    'L_p': 4,\n",
    "    \n",
    "    'mu': 2.5,\n",
    "    'Z_eff': 1,\n",
    "    'I_cooling': 0,\n",
    "    'tau_alpha': 0\n",
    "}"
   ]
  },
  {
   "cell_type": "markdown",
   "id": "973e1b19",
   "metadata": {},
   "source": [
    "# Constants"
   ]
  },
  {
   "cell_type": "code",
   "execution_count": 314,
   "id": "6c107196",
   "metadata": {},
   "outputs": [],
   "source": [
    "E_alpha = 3.5  # MeV"
   ]
  },
  {
   "cell_type": "markdown",
   "id": "0d6de9de",
   "metadata": {},
   "source": [
    "# General formulae"
   ]
  },
  {
   "cell_type": "code",
   "execution_count": null,
   "id": "a1866aca",
   "metadata": {},
   "outputs": [],
   "source": []
  },
  {
   "cell_type": "markdown",
   "id": "a6fd1748",
   "metadata": {},
   "source": [
    "## Cross section / reactivity paramterization"
   ]
  },
  {
   "cell_type": "markdown",
   "id": "b6174800",
   "metadata": {},
   "source": [
    "Accepts: ion temperature in keV. Yields: reactivity in cm$^3$/s"
   ]
  },
  {
   "cell_type": "markdown",
   "id": "06e3ea84",
   "metadata": {},
   "source": [
    "These constants are valid for 0.2-100 keV (Maxwellian) ion temperatures. Verified correct to 4 decimal places for 0.2, 1, and 10 keV."
   ]
  },
  {
   "cell_type": "code",
   "execution_count": 315,
   "id": "8f99de64",
   "metadata": {},
   "outputs": [],
   "source": [
    "DT_BG = 34.3827 # keV^0.5\n",
    "DT_mrc2 = 1124656 # keV\n",
    "DT_C1 = 1.17302e-9\n",
    "DT_C2 = 1.51361e-2\n",
    "DT_C3 = 7.51886e-2\n",
    "DT_C4 = 4.60643e-3\n",
    "DT_C5 = 1.35e-2\n",
    "DT_C6 = -1.06750e-4\n",
    "DT_C7 = 1.366e-5"
   ]
  },
  {
   "cell_type": "code",
   "execution_count": 316,
   "id": "dc531b7b",
   "metadata": {},
   "outputs": [],
   "source": [
    "DD_pT_BG = 31.3970 # keV^0.5\n",
    "DD_pT_mrc2 = 937814 # keV\n",
    "DD_pT_C1 = 5.65718e-12\n",
    "DD_pT_C2 = 3.41267e-3\n",
    "DD_pT_C3 = 1.99167e-3\n",
    "DD_pT_C4 = 0\n",
    "DD_pT_C5 = 1.05060e-5\n",
    "DD_pT_C6 = 0\n",
    "DD_pT_C7 = 0"
   ]
  },
  {
   "cell_type": "code",
   "execution_count": 317,
   "id": "5045a628",
   "metadata": {},
   "outputs": [],
   "source": [
    "DD_nHe_BG = 31.3970 # keV^0.5\n",
    "DD_nHe_mrc2 = 937814 # keV\n",
    "DD_nHe_C1 = 5.43360e-12\n",
    "DD_nHe_C2 = 5.85778e-3\n",
    "DD_nHe_C3 = 7.68222e-3\n",
    "DD_nHe_C4 = 0\n",
    "DD_nHe_C5 = -2.96400e-6\n",
    "DD_nHe_C6 = 0\n",
    "DD_nHe_C7 = 0"
   ]
  },
  {
   "cell_type": "code",
   "execution_count": 318,
   "id": "46135845",
   "metadata": {},
   "outputs": [],
   "source": [
    "DT_theta = Ti / (1 -  Ti * (DT_C2 + Ti * (DT_C4 + Ti * DT_C6)) / (1 + Ti * (DT_C3 + Ti * (DT_C5 + Ti * DT_C7))))\n",
    "DT_xi = (DT_BG ** 2 / (4 * DT_theta)) ** (1/3)\n",
    "DT_reactivity = DT_C1 * DT_theta * (DT_xi / (DT_mrc2 * Ti ** 3)) ** 0.5 * sympy.E ** (-3 * DT_xi)"
   ]
  },
  {
   "cell_type": "code",
   "execution_count": 319,
   "id": "e0b74982",
   "metadata": {
    "scrolled": true
   },
   "outputs": [],
   "source": [
    "DD_pT_theta = Ti / (1 -  Ti * (DD_pT_C2 + Ti * (DD_pT_C4 + Ti * DD_pT_C6)) / (1 + Ti * (DD_pT_C3 + Ti * (DD_pT_C5 + Ti * DD_pT_C7))))\n",
    "DD_pT_xi = (DD_pT_BG ** 2 / (4 * DD_pT_theta)) ** (1/3)\n",
    "DD_pT_reactivity = DD_pT_C1 * DD_pT_theta * (DD_pT_xi / (DD_pT_mrc2 * Ti ** 3)) ** 0.5 * sympy.E ** (-3 * DD_pT_xi)"
   ]
  },
  {
   "cell_type": "code",
   "execution_count": 320,
   "id": "90b0843c",
   "metadata": {},
   "outputs": [],
   "source": [
    "DD_nHe_theta = Ti / (1 -  Ti * (DD_nHe_C2 + Ti * (DD_nHe_C4 + Ti * DD_nHe_C6)) / (1 + Ti * (DD_nHe_C3 + Ti * (DD_nHe_C5 + Ti * DD_nHe_C7))))\n",
    "DD_nHe_xi = (DD_nHe_BG ** 2 / (4 * DD_nHe_theta)) ** (1/3)\n",
    "DD_nHe_reactivity = DD_nHe_C1 * DD_nHe_theta * (DD_nHe_xi / (DD_nHe_mrc2 * Ti ** 3)) ** 0.5 * sympy.E ** (-3 * DD_nHe_xi)"
   ]
  },
  {
   "cell_type": "code",
   "execution_count": 321,
   "id": "f692efed",
   "metadata": {},
   "outputs": [],
   "source": [
    "jax_DT_reactivity = sympy.lambdify(list(DT_reactivity.free_symbols), DT_reactivity, jax.numpy)\n",
    "jax_DD_pT_reactivity = sympy.lambdify(list(DD_pT_reactivity.free_symbols), DD_pT_reactivity, jax.numpy)\n",
    "jax_DD_nHe_reactivity = sympy.lambdify(list(DD_nHe_reactivity.free_symbols), DD_nHe_reactivity, jax.numpy)"
   ]
  },
  {
   "cell_type": "code",
   "execution_count": 322,
   "id": "b1602bf6",
   "metadata": {},
   "outputs": [
    {
     "data": {
      "text/plain": [
       "DeviceArray(1.48101044e-18, dtype=float64, weak_type=True)"
      ]
     },
     "execution_count": 322,
     "metadata": {},
     "output_type": "execute_result"
    }
   ],
   "source": [
    "jax_DD_nHe_reactivity(10 * 3/2)"
   ]
  },
  {
   "cell_type": "markdown",
   "id": "2974ad8b",
   "metadata": {},
   "source": [
    "# Derived quantities"
   ]
  },
  {
   "cell_type": "markdown",
   "id": "a59580c2",
   "metadata": {},
   "source": [
    "Mirror ratio $R_{\\text{plug}} = \\frac{B_m}{B_p}$"
   ]
  },
  {
   "cell_type": "code",
   "execution_count": 323,
   "id": "cb51c7ea",
   "metadata": {
    "scrolled": true
   },
   "outputs": [
    {
     "data": {
      "text/latex": [
       "$\\displaystyle \\frac{B_{pm}}{B_{p}}$"
      ],
      "text/plain": [
       "B_pm/B_p"
      ]
     },
     "execution_count": 323,
     "metadata": {},
     "output_type": "execute_result"
    }
   ],
   "source": [
    "R_p = B_pm / B_p; R_p"
   ]
  },
  {
   "cell_type": "markdown",
   "id": "db53d77c",
   "metadata": {},
   "source": [
    "## Solving for Ti and Te"
   ]
  },
  {
   "cell_type": "markdown",
   "id": "7dc440fc",
   "metadata": {},
   "source": [
    "Ion temperature: $\\frac{3}{2} \\frac{T_i}{E_{beam}} = \\frac{\\exp{(-\\alpha)} - \\alpha \\Gamma(0, \\alpha)}{\\Gamma(0, \\alpha)}$\n",
    "\n",
    "Electron temperature: $\\frac{T_e}{E_{beam}} =  \\left( \\frac{T_i}{E_{beam}} \\frac{2}{3} \\frac{\\alpha^2 \\ln{R_m}^2}{(22.4)^2} \\right)^{1/3}$\n",
    "\n",
    "Energy balance: $E_{beam} + p_{aux} = T_i + 6T_e$"
   ]
  },
  {
   "cell_type": "code",
   "execution_count": 324,
   "id": "b46bf519",
   "metadata": {},
   "outputs": [],
   "source": [
    "def alpha_root_func(a, R):\n",
    "    return ((e ** (-a) / gamma_0_j(a) - a))*2/3 + 6 * (((e ** (-a) / gamma_0_j(a) - a)) * a ** 2 * ln_j(R) ** 2/(22.4) ** 2 * 3/2) ** (1/3)\n",
    "\n",
    "def alpha_eq(a, R_in, power_aux_in):\n",
    "    return alpha_root_func(a, R_in) - (1 + power_aux_in)\n",
    "\n",
    "def find_alpha(R_in, power_aux_in):\n",
    "    bisec = Bisection(optimality_fun=alpha_eq, lower=0.001, upper=200.0, tol=1e-3, check_bracket=True)\n",
    "    alpha = bisec.run(R_in=R_in, power_aux_in=power_aux_in).params\n",
    "    return alpha\n",
    "\n",
    "def Ti_given_alpha(a):\n",
    "    return ((e ** (-a) / gamma_0_j(a) - a))*2/3\n",
    "\n",
    "def Te_given_alpha(a, R):\n",
    "    return (((e ** (-a) / gamma_0_j(a) - a)) * a ** 2 * ln_j(R) ** 2/(22.4) ** 2 * 2/3) ** (1/3)\n",
    "\n",
    "def find_Ti_and_Te(values_in, power_aux_in):\n",
    "    R_in = values_in['B_pm'] / values_in['B_p']\n",
    "    E_beam = values_in['Eb']\n",
    "    \n",
    "    alpha = find_alpha(R_in, power_aux_in)\n",
    "    Ti = Ti_given_alpha(alpha)\n",
    "    Te = Te_given_alpha(alpha, R_in)\n",
    "    return Ti * E_beam, Te * E_beam"
   ]
  },
  {
   "cell_type": "markdown",
   "id": "9878f1a0",
   "metadata": {},
   "source": [
    "### Te (old)"
   ]
  },
  {
   "cell_type": "markdown",
   "id": "781897b3",
   "metadata": {},
   "source": [
    "Electron temperature \n",
    "$T_e = 0.089 E_b \\log_{10} \\left( R_p \\right)^{0.4} = 0.089 E_b \\log_{10} \\left(\\frac{R_p}{1-\\beta} \\right)^{0.4}$"
   ]
  },
  {
   "cell_type": "code",
   "execution_count": 325,
   "id": "b393f081",
   "metadata": {
    "scrolled": false
   },
   "outputs": [],
   "source": [
    "# Te = 0.089 * Eb * ((sympy.log(R_p / (1))/sympy.log(10)) ** 0.4); Te"
   ]
  },
  {
   "cell_type": "code",
   "execution_count": 326,
   "id": "17bebac8",
   "metadata": {},
   "outputs": [],
   "source": [
    "# plug_in_values(Te, values)"
   ]
  },
  {
   "cell_type": "markdown",
   "id": "5e5bba13",
   "metadata": {},
   "source": [
    "### Ti (old)"
   ]
  },
  {
   "cell_type": "code",
   "execution_count": 327,
   "id": "31a2cc33",
   "metadata": {},
   "outputs": [],
   "source": [
    "# Ti = 0.6 * Eb"
   ]
  },
  {
   "cell_type": "markdown",
   "id": "6c4688a2",
   "metadata": {},
   "source": [
    "## End cells / plugs"
   ]
  },
  {
   "cell_type": "markdown",
   "id": "57283501",
   "metadata": {},
   "source": [
    "Radius at midplane $a_{\\text{plug}} = r_b \\sqrt{\\frac{B_m}{B_p}} = r_b \\sqrt{R_{plug}}$"
   ]
  },
  {
   "cell_type": "code",
   "execution_count": 328,
   "id": "3e449660",
   "metadata": {
    "scrolled": true
   },
   "outputs": [
    {
     "data": {
      "text/latex": [
       "$\\displaystyle r_{b} \\sqrt{\\frac{B_{pm}}{B_{p}}}$"
      ],
      "text/plain": [
       "r_b*sqrt(B_pm/B_p)"
      ]
     },
     "execution_count": 328,
     "metadata": {},
     "output_type": "execute_result"
    }
   ],
   "source": [
    "a_plug = r_b * sympy.sqrt(R_p); a_plug"
   ]
  },
  {
   "cell_type": "markdown",
   "id": "51efbc2c",
   "metadata": {},
   "source": [
    "Volume $V_p = L_p \\pi a_p^2$"
   ]
  },
  {
   "cell_type": "code",
   "execution_count": 329,
   "id": "eef60532",
   "metadata": {
    "scrolled": true
   },
   "outputs": [
    {
     "data": {
      "text/latex": [
       "$\\displaystyle \\frac{\\pi B_{pm} L_{p} r_{b}^{2}}{B_{p}}$"
      ],
      "text/plain": [
       "pi*B_pm*L_p*r_b**2/B_p"
      ]
     },
     "execution_count": 329,
     "metadata": {},
     "output_type": "execute_result"
    }
   ],
   "source": [
    "V_p = L_p * sympy.pi * a_plug ** 2; V_p"
   ]
  },
  {
   "cell_type": "markdown",
   "id": "f579c290",
   "metadata": {},
   "source": [
    "### n_plug"
   ]
  },
  {
   "cell_type": "markdown",
   "id": "25666877",
   "metadata": {},
   "source": [
    "Density at a given beta: $n_{\\text{plug}} = B_p^2 \\frac{\\beta_{\\text{limit}}}{2\\mu_0 |e|\\left(T_{\\text{ion}} + T_e \\right)}$"
   ]
  },
  {
   "cell_type": "code",
   "execution_count": 330,
   "id": "c7797966",
   "metadata": {
    "scrolled": true
   },
   "outputs": [
    {
     "data": {
      "text/plain": [
       "0.04026709076694141"
      ]
     },
     "execution_count": 330,
     "metadata": {},
     "output_type": "execute_result"
    }
   ],
   "source": [
    "const.mu_0 * const.elementary_charge * 2 * 1000 / 1e-20"
   ]
  },
  {
   "cell_type": "code",
   "execution_count": 331,
   "id": "f69a3b18",
   "metadata": {},
   "outputs": [],
   "source": [
    "n_plug = (B_p) ** 2 * beta / (2 * const.mu_0 * const.elementary_charge * 1000 * (Ti + Te))"
   ]
  },
  {
   "cell_type": "code",
   "execution_count": 332,
   "id": "972923bd",
   "metadata": {
    "scrolled": false
   },
   "outputs": [
    {
     "ename": "KeyError",
     "evalue": "'Ti'",
     "output_type": "error",
     "traceback": [
      "\u001b[0;31m---------------------------------------------------------------------------\u001b[0m",
      "\u001b[0;31mKeyError\u001b[0m                                  Traceback (most recent call last)",
      "Input \u001b[0;32mIn [332]\u001b[0m, in \u001b[0;36m<cell line: 1>\u001b[0;34m()\u001b[0m\n\u001b[0;32m----> 1\u001b[0m \u001b[43mplug_in_values\u001b[49m\u001b[43m(\u001b[49m\u001b[43mn_plug\u001b[49m\u001b[43m,\u001b[49m\u001b[43m \u001b[49m\u001b[43mvalues\u001b[49m\u001b[43m)\u001b[49m\n",
      "Input \u001b[0;32mIn [311]\u001b[0m, in \u001b[0;36mplug_in_values\u001b[0;34m(equation, values_in)\u001b[0m\n\u001b[1;32m      1\u001b[0m \u001b[38;5;28;01mdef\u001b[39;00m \u001b[38;5;21mplug_in_values\u001b[39m(equation, values_in):\n\u001b[1;32m      2\u001b[0m     jax_equation \u001b[38;5;241m=\u001b[39m sympy\u001b[38;5;241m.\u001b[39mlambdify(\u001b[38;5;28mlist\u001b[39m(equation\u001b[38;5;241m.\u001b[39mfree_symbols), equation, jnp)\n\u001b[0;32m----> 3\u001b[0m     result \u001b[38;5;241m=\u001b[39m jax_equation(\u001b[38;5;241m*\u001b[39m\u001b[38;5;28;43mtuple\u001b[39;49m\u001b[43m(\u001b[49m\u001b[43mvalues_in\u001b[49m\u001b[43m[\u001b[49m\u001b[43m_\u001b[49m\u001b[38;5;241;43m.\u001b[39;49m\u001b[43mname\u001b[49m\u001b[43m]\u001b[49m\u001b[43m \u001b[49m\u001b[38;5;28;43;01mfor\u001b[39;49;00m\u001b[43m \u001b[49m\u001b[43m_\u001b[49m\u001b[43m \u001b[49m\u001b[38;5;129;43;01min\u001b[39;49;00m\u001b[43m \u001b[49m\u001b[38;5;28;43mlist\u001b[39;49m\u001b[43m(\u001b[49m\u001b[43mequation\u001b[49m\u001b[38;5;241;43m.\u001b[39;49m\u001b[43mfree_symbols\u001b[49m\u001b[43m)\u001b[49m\u001b[43m)\u001b[49m)\n\u001b[1;32m      4\u001b[0m     \u001b[38;5;28;01mreturn\u001b[39;00m result\n",
      "Input \u001b[0;32mIn [311]\u001b[0m, in \u001b[0;36m<genexpr>\u001b[0;34m(.0)\u001b[0m\n\u001b[1;32m      1\u001b[0m \u001b[38;5;28;01mdef\u001b[39;00m \u001b[38;5;21mplug_in_values\u001b[39m(equation, values_in):\n\u001b[1;32m      2\u001b[0m     jax_equation \u001b[38;5;241m=\u001b[39m sympy\u001b[38;5;241m.\u001b[39mlambdify(\u001b[38;5;28mlist\u001b[39m(equation\u001b[38;5;241m.\u001b[39mfree_symbols), equation, jnp)\n\u001b[0;32m----> 3\u001b[0m     result \u001b[38;5;241m=\u001b[39m jax_equation(\u001b[38;5;241m*\u001b[39m\u001b[38;5;28mtuple\u001b[39m(\u001b[43mvalues_in\u001b[49m\u001b[43m[\u001b[49m\u001b[43m_\u001b[49m\u001b[38;5;241;43m.\u001b[39;49m\u001b[43mname\u001b[49m\u001b[43m]\u001b[49m \u001b[38;5;28;01mfor\u001b[39;00m _ \u001b[38;5;129;01min\u001b[39;00m \u001b[38;5;28mlist\u001b[39m(equation\u001b[38;5;241m.\u001b[39mfree_symbols)))\n\u001b[1;32m      4\u001b[0m     \u001b[38;5;28;01mreturn\u001b[39;00m result\n",
      "\u001b[0;31mKeyError\u001b[0m: 'Ti'"
     ]
    }
   ],
   "source": [
    "plug_in_values(n_plug, values)"
   ]
  },
  {
   "cell_type": "markdown",
   "id": "8c0f4304",
   "metadata": {},
   "source": [
    "Total particle number: $N_{\\text{tot}} = V_p n_{\\text{plug}}$"
   ]
  },
  {
   "cell_type": "code",
   "execution_count": null,
   "id": "b9da7c84",
   "metadata": {
    "scrolled": false
   },
   "outputs": [],
   "source": [
    "N_tot = V_p * n_plug; N_tot"
   ]
  },
  {
   "cell_type": "markdown",
   "id": "cf79aa2d",
   "metadata": {},
   "source": [
    "### tau fowler/baldwin"
   ]
  },
  {
   "cell_type": "markdown",
   "id": "a89bc69b",
   "metadata": {},
   "source": [
    "**General formula:** Particle conefinement time $\\tau_{\\text{Fowler/Baldwin}} = 2.8 \\cdot 10^{12} \\frac{E_b^{3/2}}{n_e} \\log_{10} R_m$"
   ]
  },
  {
   "cell_type": "code",
   "execution_count": null,
   "id": "f5b51ba9",
   "metadata": {
    "scrolled": true
   },
   "outputs": [],
   "source": [
    "tau_Fowler_Baldwin = 1.4 * 10 ** 16 * Eb ** (3/2) / n_plug * sympy.log(R_p / sympy.sqrt(1 - beta)) / sympy.log(10); tau_Fowler_Baldwin"
   ]
  },
  {
   "cell_type": "code",
   "execution_count": null,
   "id": "fb4a61bd",
   "metadata": {},
   "outputs": [],
   "source": [
    "plug_in_values(tau_Fowler_Baldwin, values)"
   ]
  },
  {
   "cell_type": "markdown",
   "id": "1227eabe",
   "metadata": {},
   "source": [
    "Particles lost per second: $\\frac{dN}{dt} = \\frac{N_{\\text{tot}}}{\\tau_{\\text{Fowler/Baldwin}}}$"
   ]
  },
  {
   "cell_type": "code",
   "execution_count": null,
   "id": "d7060fae",
   "metadata": {},
   "outputs": [],
   "source": [
    "dN_dt = N_tot / tau_Fowler_Baldwin"
   ]
  },
  {
   "cell_type": "markdown",
   "id": "5f758ecd",
   "metadata": {},
   "source": [
    "**General formula:** Ion gyroradius at center of the plug: $\\rho_i = \\frac{m v_\\perp}{q B} = 3.22\\cdot 10^{-3} \\frac{\\sqrt{\\mu E_{\\text{ion}}}}{B_p}$"
   ]
  },
  {
   "cell_type": "code",
   "execution_count": null,
   "id": "384e345e",
   "metadata": {},
   "outputs": [],
   "source": [
    "rho_i = 3.22 * 10 ** -3 * sympy.sqrt(mu * Ti) / B_p; rho_i"
   ]
  },
  {
   "cell_type": "markdown",
   "id": "fb09ae95",
   "metadata": {},
   "source": [
    "Number of gryoradii in the plasma radius: $N_{\\text{gyro}} = \\frac{a_p}{\\rho_i}$"
   ]
  },
  {
   "cell_type": "code",
   "execution_count": null,
   "id": "3107df2a",
   "metadata": {},
   "outputs": [],
   "source": [
    "N_gyro = a_plug / rho_i; N_gyro"
   ]
  },
  {
   "cell_type": "markdown",
   "id": "9f8028e9",
   "metadata": {},
   "source": [
    "NBI current (A): $I_{\\text{NBI}}=|e|\\frac{dN}{dt}$"
   ]
  },
  {
   "cell_type": "code",
   "execution_count": null,
   "id": "31a01987",
   "metadata": {},
   "outputs": [],
   "source": [
    "I_NBI = const.elementary_charge * dN_dt"
   ]
  },
  {
   "cell_type": "markdown",
   "id": "40c00c73",
   "metadata": {},
   "source": [
    "**General formula:** Coulomb logarithms: $\\lambda_{ei} = 24 - 0.5\\ln{n_e} + \\ln{T_e}$"
   ]
  },
  {
   "cell_type": "code",
   "execution_count": null,
   "id": "48fb0141",
   "metadata": {},
   "outputs": [],
   "source": [
    "# lambda_ei = 24 - 0.5 * sympy.log(n_plug) + sympy.log(Te)"
   ]
  },
  {
   "cell_type": "markdown",
   "id": "c3b797cc",
   "metadata": {},
   "source": [
    "**General formula:** Slowing down times: $\\tau_{i,\\text{slow}} = 0.1 \\frac{\\mu T_e^{3/2}}{n_{20} Z^2 \\lambda_{ei}}$"
   ]
  },
  {
   "cell_type": "code",
   "execution_count": null,
   "id": "fd791b67",
   "metadata": {},
   "outputs": [],
   "source": [
    "tau_i_slow = 0.1 * mu * Te ** (3/2) / (n_plug / 10 ** 20 * Z_eff ** 2 * lambda_ei)"
   ]
  },
  {
   "cell_type": "markdown",
   "id": "20669179",
   "metadata": {},
   "source": [
    "Electron heating by fast ions (MW): $10^{-3}\\frac{I_{\\text{NBI}}E_b}{\\tau_{\\text{slow}}}$"
   ]
  },
  {
   "cell_type": "code",
   "execution_count": null,
   "id": "2fc92fba",
   "metadata": {},
   "outputs": [],
   "source": [
    "P_e_heating_fastI = 10 ** -3 * I_NBI * Eb / tau_i_slow"
   ]
  },
  {
   "cell_type": "markdown",
   "id": "86999535",
   "metadata": {},
   "source": [
    "**General formula:** Lorentz factor: $\\gamma = \\sqrt{1 - \\frac{T_e}{m_e c^2}} = \\sqrt{1 - \\frac{T_e}{511 \\text{keV}}}$"
   ]
  },
  {
   "cell_type": "code",
   "execution_count": null,
   "id": "6e809602",
   "metadata": {},
   "outputs": [],
   "source": [
    "gamma = sympy.sqrt(1 - Te / 511); gamma"
   ]
  },
  {
   "cell_type": "markdown",
   "id": "d6a42023",
   "metadata": {},
   "source": [
    "Synchrotron radiation power loss (MW): $ P_{\\text{synch}} = 6\\cdot10^{-3} V_p n_{20} T_e \\gamma^2 B_p^2$"
   ]
  },
  {
   "cell_type": "code",
   "execution_count": null,
   "id": "cf734f72",
   "metadata": {},
   "outputs": [],
   "source": [
    "P_synch = 6 * 10 ** -3 * V_p * n_plug / 10 ** 20 * Te * gamma ** 2 * B_p ** 2; P_synch"
   ]
  },
  {
   "cell_type": "markdown",
   "id": "4ffabad8",
   "metadata": {},
   "source": [
    "Bremsstrahlung radiation power loss (MW): $P_{\\text{brem}} = 5.35\\cdot10^{-3} n_{20}^2 Z_{\\text{eff}}\\sqrt{T_e} V_p$"
   ]
  },
  {
   "cell_type": "code",
   "execution_count": null,
   "id": "9ecbe7e6",
   "metadata": {},
   "outputs": [],
   "source": [
    "P_brem = 5.35 * 10 ** -3 * (n_plug / 10 ** 20) ** 2 * Z_eff * sympy.sqrt(Te) * V_p"
   ]
  },
  {
   "cell_type": "markdown",
   "id": "eb569c22",
   "metadata": {},
   "source": [
    "Power loss from escaping electrons (MW): $P_{\\text{e,endloss}} = 10^{-3}(I_{\\text{NBI}}+I_{\\text{cooling}})\\cdot 7 T_e$"
   ]
  },
  {
   "cell_type": "code",
   "execution_count": null,
   "id": "0c55b4a7",
   "metadata": {},
   "outputs": [],
   "source": [
    "P_e_endloss = 10 ** -3 * (I_NBI + I_cooling) * 7 * Te; P_e_endloss"
   ]
  },
  {
   "cell_type": "markdown",
   "id": "7ba03f66",
   "metadata": {},
   "source": [
    "Power loss from escaping fast ions (MW): $P_{\\text{i,endloss}} = 10^{-3} I_{\\text{NBI}} \\left(E_b-T_e\\right)$"
   ]
  },
  {
   "cell_type": "code",
   "execution_count": null,
   "id": "ad0b5f3b",
   "metadata": {},
   "outputs": [],
   "source": [
    "P_i_endloss = 10 ** -3 * I_NBI * (Eb - Te); P_i_endloss"
   ]
  },
  {
   "cell_type": "markdown",
   "id": "a2cfaa4a",
   "metadata": {},
   "source": [
    "Injected NBI Power (MW): $P_{\\text{NBI}} = 10^{-3}I_{\\text{NBI}} E_b$"
   ]
  },
  {
   "cell_type": "code",
   "execution_count": null,
   "id": "dffd3e6d",
   "metadata": {},
   "outputs": [],
   "source": [
    "P_NBI = 10 ** -3 * I_NBI * Eb; P_NBI"
   ]
  },
  {
   "cell_type": "code",
   "execution_count": null,
   "id": "289a0d6e",
   "metadata": {},
   "outputs": [],
   "source": [
    "plug_in_values(P_NBI, values)"
   ]
  },
  {
   "cell_type": "markdown",
   "id": "f17fd03f",
   "metadata": {},
   "source": [
    "Injected ECH Power (MW): $P_{\\text{ECH}} = \\frac{P_{\\text{synch}}}{20} +P_{\\text{e,endloss}} - \\left(\\text{Electron heating from fast ions}\\right)$"
   ]
  },
  {
   "cell_type": "code",
   "execution_count": null,
   "id": "74cf53d9",
   "metadata": {},
   "outputs": [],
   "source": [
    "P_ECH = P_synch / 20 #+ P_e_endloss - P_e_heating_fastI"
   ]
  },
  {
   "cell_type": "markdown",
   "id": "1511d67b",
   "metadata": {},
   "source": [
    "DT fusion reaction rate (#/s). Here we assume a 50-50 DT fuel mixture: $R_{\\text{x,plug,DT}}=V_p \\frac{n_{\\text{plug}}^2}{4} \\langle\\sigma v\\rangle_{DT}$"
   ]
  },
  {
   "cell_type": "code",
   "execution_count": null,
   "id": "b76dfcd0",
   "metadata": {},
   "outputs": [],
   "source": [
    "Rx_plug_DT = V_p * n_plug ** 2 / 4 * DT_reactivity"
   ]
  },
  {
   "cell_type": "markdown",
   "id": "032af3cd",
   "metadata": {},
   "source": [
    "DD fusion reaction rate (#/s). Here we assume a 50-50 DT fuel mixture: $R_{\\text{x,plug,DD}}=V_p n_{\\text{plug}}^2 \\langle\\sigma v\\rangle_{DD}$ (I think this should have a 1/2 someplace)"
   ]
  },
  {
   "cell_type": "code",
   "execution_count": null,
   "id": "a99baee8",
   "metadata": {},
   "outputs": [],
   "source": [
    "Rx_plug_DD = V_p * n_plug ** 2 * (DD_pT_reactivity + DD_nHe_reactivity) / 2"
   ]
  },
  {
   "cell_type": "markdown",
   "id": "4836a419",
   "metadata": {},
   "source": [
    "Fusion power (MW): $P_{\\text{plug}}=17.6|e|R_{\\text{x,plug}}$ -- we're just focusing on DT for now. Including DD it'd be: $P_{\\text{plug}}=17.6|e|R_{\\text{x,plug,DT}} + \\frac{4.03+3.27}{2}|e|R_{\\text{x,plug,DD}}$"
   ]
  },
  {
   "cell_type": "code",
   "execution_count": null,
   "id": "e741d501",
   "metadata": {},
   "outputs": [],
   "source": [
    "P_fus_plug = 17.6 * const.elementary_charge * Rx_plug_DT * 1e-6  # 1e-6 converts W to MW"
   ]
  },
  {
   "cell_type": "markdown",
   "id": "2f714ed4",
   "metadata": {},
   "source": [
    "Lawson Triple Product (keV$\\cdot$s/m$^3$): $\\tau_{\\text{Fowler/Baldwin}} n T_i$"
   ]
  },
  {
   "cell_type": "code",
   "execution_count": null,
   "id": "7c327560",
   "metadata": {
    "scrolled": true
   },
   "outputs": [],
   "source": [
    "triple_product = tau_Fowler_Baldwin * n_plug * Ti"
   ]
  },
  {
   "cell_type": "markdown",
   "id": "567fb7bb",
   "metadata": {},
   "source": [
    "Neutron Flux, DT only (MW/m$^2$): $\\frac{14}{17.6}\\frac{P_{\\text{plug}}}{4\\pi a_{\\text{wall}}^2}$"
   ]
  },
  {
   "cell_type": "code",
   "execution_count": null,
   "id": "25c431ce",
   "metadata": {},
   "outputs": [],
   "source": [
    "neutron_flux = 14 / 17.6 * P_fus_plug / (4 * const.pi * a_plug ** 2)"
   ]
  },
  {
   "cell_type": "markdown",
   "id": "60b3b6e9",
   "metadata": {},
   "source": [
    "Burnup fraction, DT: $\\frac{R_{\\text{x,plug,DT}}}{dN/dt}$"
   ]
  },
  {
   "cell_type": "code",
   "execution_count": null,
   "id": "e94e05c3",
   "metadata": {},
   "outputs": [],
   "source": [
    "frac_burnup = Rx_plug_DT / dN_dt"
   ]
  },
  {
   "cell_type": "markdown",
   "id": "3f5f257c",
   "metadata": {},
   "source": [
    "# Q_plug"
   ]
  },
  {
   "cell_type": "markdown",
   "id": "df78a97e",
   "metadata": {},
   "source": [
    "## Evaluate Ti and Te"
   ]
  },
  {
   "cell_type": "markdown",
   "id": "8910054a",
   "metadata": {},
   "source": [
    "$Q_{\\text{plug}}$: $Q_{\\text{plug}} = \\frac{P_{\\text{plug}}}{P_{\\text{injected}}}$ (power in MW)"
   ]
  },
  {
   "cell_type": "code",
   "execution_count": null,
   "id": "6bf699db",
   "metadata": {},
   "outputs": [],
   "source": [
    "plug_in_values(P_ECH, values)"
   ]
  },
  {
   "cell_type": "code",
   "execution_count": null,
   "id": "7a45b3b7",
   "metadata": {},
   "outputs": [],
   "source": [
    "Q_plug = P_fus_plug / (P_NBI + P_ECH)"
   ]
  },
  {
   "cell_type": "code",
   "execution_count": null,
   "id": "a340b6ae",
   "metadata": {},
   "outputs": [],
   "source": [
    "def calc_Q(values, p_aux):\n",
    "    Ti_Te_dict = {}\n",
    "    Ti_Te_dict['Ti'], Ti_Te_dict['Te'] = find_Ti_and_Te(values, p_aux)\n",
    "    Q = plug_in_values(Q_plug, {**values, **Ti_Te_dict})\n",
    "    return Q"
   ]
  },
  {
   "cell_type": "code",
   "execution_count": null,
   "id": "7c384f2f",
   "metadata": {},
   "outputs": [],
   "source": [
    "temp_values = {**values, 'B_p': 6}; temp_values"
   ]
  },
  {
   "cell_type": "code",
   "execution_count": null,
   "id": "8833dc38",
   "metadata": {},
   "outputs": [],
   "source": [
    "find_Ti_and_Te(values, 0)"
   ]
  },
  {
   "cell_type": "code",
   "execution_count": null,
   "id": "18e2396c",
   "metadata": {},
   "outputs": [],
   "source": [
    "calc_Q(temp_values, 0)"
   ]
  },
  {
   "cell_type": "markdown",
   "id": "243c31c9",
   "metadata": {},
   "source": [
    "* Ti/Ebeam = 2/3 --> Q_plug = 0.68327016 (spreadsheet says 0.686)\n",
    "* Ti/Ebeam = 0.6 --> Q_plug = 0.7356443"
   ]
  },
  {
   "cell_type": "markdown",
   "id": "4f4a35a1",
   "metadata": {},
   "source": [
    "### Triple product, energy confinement time, etc..."
   ]
  },
  {
   "cell_type": "code",
   "execution_count": null,
   "id": "cf9bae9b",
   "metadata": {},
   "outputs": [],
   "source": [
    "plug_in_values(triple_product, values)"
   ]
  },
  {
   "cell_type": "code",
   "execution_count": null,
   "id": "f9fa6dab",
   "metadata": {
    "scrolled": true
   },
   "outputs": [],
   "source": [
    "plug_in_values(n_plug * tau_Fowler_Baldwin, values)"
   ]
  },
  {
   "cell_type": "code",
   "execution_count": null,
   "id": "0fce14fa",
   "metadata": {},
   "outputs": [],
   "source": [
    "plug_in_values(P_fus_plug, {**values, **Ti_Te_dict})"
   ]
  },
  {
   "cell_type": "markdown",
   "id": "255d1427",
   "metadata": {},
   "source": [
    "Energy confinement time $\\tau_E = W_p / P_{\\text{heating}}$ (power balance) (volume is overestimated — a linear falloff would cut it by a third):"
   ]
  },
  {
   "cell_type": "code",
   "execution_count": null,
   "id": "806848d9",
   "metadata": {},
   "outputs": [],
   "source": [
    "plug_in_values((V_p * n_plug * 1000 * const.elementary_charge * (Ti + Te) * 3/2) / (1e6 * P_NBI), values)"
   ]
  },
  {
   "cell_type": "markdown",
   "id": "5fbc9dfc",
   "metadata": {},
   "source": [
    "$\\alpha$ particle density ($10^{20}m^{-3}$): $n_{\\alpha} = \\frac{I_{\\text{NBI}} Q_{\\text{plug}} \\tau_{\\alpha} E_b}{16 V_p E_{\\alpha}}$"
   ]
  },
  {
   "cell_type": "code",
   "execution_count": null,
   "id": "3c9b7b19",
   "metadata": {},
   "outputs": [],
   "source": [
    "n_alpha = I_NBI * Q_plug * tau_alpha * Eb / (16 * V_p * E_alpha)"
   ]
  },
  {
   "cell_type": "markdown",
   "id": "9dc9c43b",
   "metadata": {},
   "source": [
    "$Z_{\\text{eff}}$: $Z_{\\text{eff}} = 1 +2n_{\\alpha}$"
   ]
  },
  {
   "cell_type": "code",
   "execution_count": null,
   "id": "ed6714cb",
   "metadata": {},
   "outputs": [],
   "source": [
    "Z_eff = 1 + 2 * n_alpha"
   ]
  }
 ],
 "metadata": {
  "kernelspec": {
   "display_name": "Python 3 (ipykernel)",
   "language": "python",
   "name": "python3"
  },
  "language_info": {
   "codemirror_mode": {
    "name": "ipython",
    "version": 3
   },
   "file_extension": ".py",
   "mimetype": "text/x-python",
   "name": "python",
   "nbconvert_exporter": "python",
   "pygments_lexer": "ipython3",
   "version": "3.10.4"
  }
 },
 "nbformat": 4,
 "nbformat_minor": 5
}
