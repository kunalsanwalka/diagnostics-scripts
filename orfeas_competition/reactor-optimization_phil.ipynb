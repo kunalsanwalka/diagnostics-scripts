{
 "cells": [
  {
   "cell_type": "markdown",
   "id": "cd5f0a76",
   "metadata": {},
   "source": [
    "Overleaf doc: https://www.overleaf.com/read/ysgbfhgmndrs"
   ]
  },
  {
   "cell_type": "markdown",
   "id": "21de2130",
   "metadata": {},
   "source": [
    "This notebook requires:\n",
    "- jaxlib (`pip install jaxlib`)\n",
    "- jax\n",
    "- sympy\n",
    "- scipy\n",
    "- sympy2jax (`pip install sympy2jax`) -- but sympy's built-in lambdify should be sufficient for our uses\n",
    "\n",
    "Not needed but in case we want to parse LaTeX:\n",
    "\n",
    "- antlr4 python runtime (`conda install -c conda-forge antlr-python-runtime`) — for sympy's LaTeX parsing"
   ]
  },
  {
   "cell_type": "code",
   "execution_count": 88,
   "id": "a00285a1",
   "metadata": {},
   "outputs": [],
   "source": [
    "import jax\n",
    "import jax.numpy as jnp\n",
    "import sympy\n",
    "# from sympy.parsing.latex import parse_latex\n",
    "# from sympy2jax import sympy2jax\n",
    "import matplotlib.pyplot as plt\n",
    "import scipy\n",
    "import scipy.constants as const"
   ]
  },
  {
   "cell_type": "code",
   "execution_count": 2,
   "id": "e4d9fbc9",
   "metadata": {},
   "outputs": [],
   "source": [
    "%matplotlib notebook"
   ]
  },
  {
   "cell_type": "markdown",
   "id": "352140fe",
   "metadata": {},
   "source": [
    "---"
   ]
  },
  {
   "cell_type": "markdown",
   "id": "7f58bd61",
   "metadata": {},
   "source": [
    "### jax testing"
   ]
  },
  {
   "cell_type": "code",
   "execution_count": null,
   "id": "fedbdea2",
   "metadata": {},
   "outputs": [],
   "source": [
    "def func(x):\n",
    "    return jnp.sin(x) ** 2\n",
    "def pot(x):\n",
    "    return x ** 2"
   ]
  },
  {
   "cell_type": "code",
   "execution_count": null,
   "id": "30c8cbf5",
   "metadata": {},
   "outputs": [],
   "source": [
    "func_grad = jax.grad(func)"
   ]
  },
  {
   "cell_type": "code",
   "execution_count": null,
   "id": "cee3c72a",
   "metadata": {},
   "outputs": [],
   "source": [
    "plt.figure()\n",
    "plt.plot(func(jnp.linspace(-5, 5, 100)))\n",
    "# Need jax.vmap to vectorize the function\n",
    "plt.plot(jax.vmap(func_grad)(jnp.linspace(-5, 5, 100)))"
   ]
  },
  {
   "cell_type": "markdown",
   "id": "44939440",
   "metadata": {},
   "source": [
    "---"
   ]
  },
  {
   "cell_type": "markdown",
   "id": "baf89e72",
   "metadata": {},
   "source": [
    "### sympy testing"
   ]
  },
  {
   "cell_type": "code",
   "execution_count": 3,
   "id": "52f27ee1",
   "metadata": {},
   "outputs": [],
   "source": [
    "E_b, R_p, beta = sympy.symbols('E_{b} R_{p} beta')"
   ]
  },
  {
   "cell_type": "code",
   "execution_count": 48,
   "id": "1168d10a",
   "metadata": {
    "scrolled": true
   },
   "outputs": [],
   "source": [
    "equation = parse_latex(r\"0.089 E_b \\log \\left(\\frac{R_p}{1-\\beta} \\right)^{0.4}\")"
   ]
  },
  {
   "cell_type": "code",
   "execution_count": 51,
   "id": "cbb5e57f",
   "metadata": {
    "scrolled": false
   },
   "outputs": [
    {
     "data": {
      "text/plain": [
       "([(0.089*(E_{b}*log(R_{p}/(1 - beta), 10)**0.4), ((0.089, 0.0), (1, 1), ()))],\n",
       " [E_{b}, log(R_{p}/(1 - beta), 10)**0.4])"
      ]
     },
     "execution_count": 51,
     "metadata": {},
     "output_type": "execute_result"
    }
   ],
   "source": [
    "equation.as_terms()"
   ]
  },
  {
   "cell_type": "code",
   "execution_count": 6,
   "id": "17a3b48b",
   "metadata": {
    "scrolled": true
   },
   "outputs": [
    {
     "data": {
      "text/plain": [
       "{E_{b}, R_{p}, beta}"
      ]
     },
     "execution_count": 6,
     "metadata": {},
     "output_type": "execute_result"
    }
   ],
   "source": [
    "equation.free_symbols"
   ]
  },
  {
   "cell_type": "code",
   "execution_count": 7,
   "id": "4c90d000",
   "metadata": {
    "scrolled": false
   },
   "outputs": [
    {
     "data": {
      "text/latex": [
       "$\\displaystyle 0.0768635061536114$"
      ],
      "text/plain": [
       "0.0768635061536114"
      ]
     },
     "execution_count": 7,
     "metadata": {},
     "output_type": "execute_result"
    }
   ],
   "source": [
    "equation.subs({'E_{b}': 1.0,\n",
    "               'R_{p}': 1.0,\n",
    "               'beta': 0.5})"
   ]
  },
  {
   "cell_type": "code",
   "execution_count": 36,
   "id": "f9a53f6f",
   "metadata": {},
   "outputs": [],
   "source": [
    "from sympy.abc import x\n",
    "from sympy import log"
   ]
  },
  {
   "cell_type": "code",
   "execution_count": 37,
   "id": "87bbc8c1",
   "metadata": {},
   "outputs": [],
   "source": [
    "# x = sympy.symbols('x')\n",
    "f = sympy.lambdify(x, log(x))"
   ]
  },
  {
   "cell_type": "code",
   "execution_count": 54,
   "id": "e2008b71",
   "metadata": {},
   "outputs": [],
   "source": [
    "expr = parse_latex(r\"\\log(x)\")"
   ]
  },
  {
   "cell_type": "code",
   "execution_count": 55,
   "id": "cbb8ee86",
   "metadata": {},
   "outputs": [
    {
     "data": {
      "text/plain": [
       "([(log(x, 10), ((1.0, 0.0), (1,), ()))], [log(x, 10)])"
      ]
     },
     "execution_count": 55,
     "metadata": {},
     "output_type": "execute_result"
    }
   ],
   "source": [
    "expr.as_terms()"
   ]
  },
  {
   "cell_type": "code",
   "execution_count": 57,
   "id": "d7bfc6cb",
   "metadata": {},
   "outputs": [],
   "source": [
    "f = sympy.lambdify(x, expr)"
   ]
  },
  {
   "cell_type": "code",
   "execution_count": 15,
   "id": "293a8d4d",
   "metadata": {},
   "outputs": [],
   "source": [
    "import math"
   ]
  },
  {
   "cell_type": "code",
   "execution_count": 24,
   "id": "909ed553",
   "metadata": {},
   "outputs": [],
   "source": [
    "f = sympy.lambdify((E_b, R_p, beta), equation, modules=[{'log': math.log}, jnp])"
   ]
  },
  {
   "cell_type": "code",
   "execution_count": 28,
   "id": "372e1084",
   "metadata": {},
   "outputs": [
    {
     "data": {
      "text/plain": [
       "DeviceArray([0.], dtype=float32)"
      ]
     },
     "execution_count": 28,
     "metadata": {},
     "output_type": "execute_result"
    }
   ],
   "source": [
    "f(jnp.ones(1), jnp.ones(1), jnp.zeros(1))"
   ]
  },
  {
   "cell_type": "code",
   "execution_count": 124,
   "id": "664b56d1",
   "metadata": {},
   "outputs": [],
   "source": [
    "p1, p2 = sympy.symbols(\"m p\")\n",
    "eq = parse_latex(r\"\\frac{m}{p}\")"
   ]
  },
  {
   "cell_type": "code",
   "execution_count": 125,
   "id": "da6c975c",
   "metadata": {},
   "outputs": [],
   "source": [
    "mod = sympy2jax.SymbolicModule(eq)"
   ]
  },
  {
   "cell_type": "code",
   "execution_count": 126,
   "id": "25458f2d",
   "metadata": {
    "collapsed": true
   },
   "outputs": [
    {
     "ename": "KeyError",
     "evalue": "'Missing input for symbol m'",
     "output_type": "error",
     "traceback": [
      "\u001b[0;31m---------------------------------------------------------------------------\u001b[0m",
      "\u001b[0;31mKeyError\u001b[0m                                  Traceback (most recent call last)",
      "File \u001b[0;32m~/opt/miniconda3/envs/python3/lib/python3.10/site-packages/sympy2jax/sympy_module.py:191\u001b[0m, in \u001b[0;36m_Func.__call__\u001b[0;34m(self, memodict)\u001b[0m\n\u001b[1;32m    190\u001b[0m \u001b[38;5;28;01mtry\u001b[39;00m:\n\u001b[0;32m--> 191\u001b[0m     arg_call \u001b[38;5;241m=\u001b[39m \u001b[43mmemodict\u001b[49m\u001b[43m[\u001b[49m\u001b[43marg\u001b[49m\u001b[43m]\u001b[49m\n\u001b[1;32m    192\u001b[0m \u001b[38;5;28;01mexcept\u001b[39;00m \u001b[38;5;167;01mKeyError\u001b[39;00m:\n",
      "\u001b[0;31mKeyError\u001b[0m: _Symbol(_name='m')",
      "\nDuring handling of the above exception, another exception occurred:\n",
      "\u001b[0;31mKeyError\u001b[0m                                  Traceback (most recent call last)",
      "File \u001b[0;32m~/opt/miniconda3/envs/python3/lib/python3.10/site-packages/sympy2jax/sympy_module.py:109\u001b[0m, in \u001b[0;36m_Symbol.__call__\u001b[0;34m(self, memodict)\u001b[0m\n\u001b[1;32m    108\u001b[0m \u001b[38;5;28;01mtry\u001b[39;00m:\n\u001b[0;32m--> 109\u001b[0m     \u001b[38;5;28;01mreturn\u001b[39;00m \u001b[43mmemodict\u001b[49m\u001b[43m[\u001b[49m\u001b[38;5;28;43mself\u001b[39;49m\u001b[38;5;241;43m.\u001b[39;49m\u001b[43m_name\u001b[49m\u001b[43m]\u001b[49m\n\u001b[1;32m    110\u001b[0m \u001b[38;5;28;01mexcept\u001b[39;00m \u001b[38;5;167;01mKeyError\u001b[39;00m \u001b[38;5;28;01mas\u001b[39;00m e:\n",
      "\u001b[0;31mKeyError\u001b[0m: 'm'",
      "\nThe above exception was the direct cause of the following exception:\n",
      "\u001b[0;31mKeyError\u001b[0m                                  Traceback (most recent call last)",
      "Input \u001b[0;32mIn [126]\u001b[0m, in \u001b[0;36m<cell line: 1>\u001b[0;34m()\u001b[0m\n\u001b[0;32m----> 1\u001b[0m \u001b[43mmod\u001b[49m\u001b[43m(\u001b[49m\u001b[43mp1\u001b[49m\u001b[38;5;241;43m=\u001b[39;49m\u001b[38;5;241;43m1.0\u001b[39;49m\u001b[43m,\u001b[49m\u001b[43m \u001b[49m\u001b[43mp2\u001b[49m\u001b[38;5;241;43m=\u001b[39;49m\u001b[38;5;241;43m0.5\u001b[39;49m\u001b[43m)\u001b[49m\n",
      "File \u001b[0;32m~/opt/miniconda3/envs/python3/lib/python3.10/site-packages/sympy2jax/sympy_module.py:271\u001b[0m, in \u001b[0;36mSymbolicModule.__call__\u001b[0;34m(self, **symbols)\u001b[0m\n\u001b[1;32m    269\u001b[0m \u001b[38;5;28;01mdef\u001b[39;00m \u001b[38;5;21m__call__\u001b[39m(\u001b[38;5;28mself\u001b[39m, \u001b[38;5;241m*\u001b[39m\u001b[38;5;241m*\u001b[39msymbols):\n\u001b[1;32m    270\u001b[0m     memodict \u001b[38;5;241m=\u001b[39m symbols\n\u001b[0;32m--> 271\u001b[0m     \u001b[38;5;28;01mreturn\u001b[39;00m \u001b[43mjax\u001b[49m\u001b[38;5;241;43m.\u001b[39;49m\u001b[43mtree_map\u001b[49m\u001b[43m(\u001b[49m\u001b[38;5;28;43;01mlambda\u001b[39;49;00m\u001b[43m \u001b[49m\u001b[43mn\u001b[49m\u001b[43m:\u001b[49m\u001b[43m \u001b[49m\u001b[43mn\u001b[49m\u001b[43m(\u001b[49m\u001b[43mmemodict\u001b[49m\u001b[43m)\u001b[49m\u001b[43m,\u001b[49m\u001b[43m \u001b[49m\u001b[38;5;28;43mself\u001b[39;49m\u001b[38;5;241;43m.\u001b[39;49m\u001b[43mnodes\u001b[49m\u001b[43m,\u001b[49m\u001b[43m \u001b[49m\u001b[43mis_leaf\u001b[49m\u001b[38;5;241;43m=\u001b[39;49m\u001b[43m_is_node\u001b[49m\u001b[43m)\u001b[49m\n",
      "File \u001b[0;32m~/opt/miniconda3/envs/python3/lib/python3.10/site-packages/jax/_src/tree_util.py:535\u001b[0m, in \u001b[0;36m_deprecate.<locals>.wrapped\u001b[0;34m(*args, **kwargs)\u001b[0m\n\u001b[1;32m    530\u001b[0m \u001b[38;5;129m@functools\u001b[39m\u001b[38;5;241m.\u001b[39mwraps(f)\n\u001b[1;32m    531\u001b[0m \u001b[38;5;28;01mdef\u001b[39;00m \u001b[38;5;21mwrapped\u001b[39m(\u001b[38;5;241m*\u001b[39margs, \u001b[38;5;241m*\u001b[39m\u001b[38;5;241m*\u001b[39mkwargs):\n\u001b[1;32m    532\u001b[0m   warnings\u001b[38;5;241m.\u001b[39mwarn(\u001b[38;5;124mf\u001b[39m\u001b[38;5;124m\"\u001b[39m\u001b[38;5;124mjax.\u001b[39m\u001b[38;5;132;01m{\u001b[39;00mf\u001b[38;5;241m.\u001b[39m\u001b[38;5;18m__name__\u001b[39m\u001b[38;5;132;01m}\u001b[39;00m\u001b[38;5;124m is deprecated, and will be removed in a future release. \u001b[39m\u001b[38;5;124m\"\u001b[39m\n\u001b[1;32m    533\u001b[0m                 \u001b[38;5;124mf\u001b[39m\u001b[38;5;124m\"\u001b[39m\u001b[38;5;124mUse jax.tree_util.\u001b[39m\u001b[38;5;132;01m{\u001b[39;00mf\u001b[38;5;241m.\u001b[39m\u001b[38;5;18m__name__\u001b[39m\u001b[38;5;132;01m}\u001b[39;00m\u001b[38;5;124m instead.\u001b[39m\u001b[38;5;124m\"\u001b[39m,\n\u001b[1;32m    534\u001b[0m                 category\u001b[38;5;241m=\u001b[39m\u001b[38;5;167;01mFutureWarning\u001b[39;00m, stacklevel\u001b[38;5;241m=\u001b[39m\u001b[38;5;241m2\u001b[39m)\n\u001b[0;32m--> 535\u001b[0m   \u001b[38;5;28;01mreturn\u001b[39;00m \u001b[43mf\u001b[49m\u001b[43m(\u001b[49m\u001b[38;5;241;43m*\u001b[39;49m\u001b[43margs\u001b[49m\u001b[43m,\u001b[49m\u001b[43m \u001b[49m\u001b[38;5;241;43m*\u001b[39;49m\u001b[38;5;241;43m*\u001b[39;49m\u001b[43mkwargs\u001b[49m\u001b[43m)\u001b[49m\n",
      "File \u001b[0;32m~/opt/miniconda3/envs/python3/lib/python3.10/site-packages/jax/_src/tree_util.py:201\u001b[0m, in \u001b[0;36mtree_map\u001b[0;34m(f, tree, is_leaf, *rest)\u001b[0m\n\u001b[1;32m    199\u001b[0m leaves, treedef \u001b[38;5;241m=\u001b[39m tree_flatten(tree, is_leaf)\n\u001b[1;32m    200\u001b[0m all_leaves \u001b[38;5;241m=\u001b[39m [leaves] \u001b[38;5;241m+\u001b[39m [treedef\u001b[38;5;241m.\u001b[39mflatten_up_to(r) \u001b[38;5;28;01mfor\u001b[39;00m r \u001b[38;5;129;01min\u001b[39;00m rest]\n\u001b[0;32m--> 201\u001b[0m \u001b[38;5;28;01mreturn\u001b[39;00m \u001b[43mtreedef\u001b[49m\u001b[38;5;241;43m.\u001b[39;49m\u001b[43munflatten\u001b[49m\u001b[43m(\u001b[49m\u001b[43mf\u001b[49m\u001b[43m(\u001b[49m\u001b[38;5;241;43m*\u001b[39;49m\u001b[43mxs\u001b[49m\u001b[43m)\u001b[49m\u001b[43m \u001b[49m\u001b[38;5;28;43;01mfor\u001b[39;49;00m\u001b[43m \u001b[49m\u001b[43mxs\u001b[49m\u001b[43m \u001b[49m\u001b[38;5;129;43;01min\u001b[39;49;00m\u001b[43m \u001b[49m\u001b[38;5;28;43mzip\u001b[39;49m\u001b[43m(\u001b[49m\u001b[38;5;241;43m*\u001b[39;49m\u001b[43mall_leaves\u001b[49m\u001b[43m)\u001b[49m\u001b[43m)\u001b[49m\n",
      "File \u001b[0;32m~/opt/miniconda3/envs/python3/lib/python3.10/site-packages/jax/_src/tree_util.py:201\u001b[0m, in \u001b[0;36m<genexpr>\u001b[0;34m(.0)\u001b[0m\n\u001b[1;32m    199\u001b[0m leaves, treedef \u001b[38;5;241m=\u001b[39m tree_flatten(tree, is_leaf)\n\u001b[1;32m    200\u001b[0m all_leaves \u001b[38;5;241m=\u001b[39m [leaves] \u001b[38;5;241m+\u001b[39m [treedef\u001b[38;5;241m.\u001b[39mflatten_up_to(r) \u001b[38;5;28;01mfor\u001b[39;00m r \u001b[38;5;129;01min\u001b[39;00m rest]\n\u001b[0;32m--> 201\u001b[0m \u001b[38;5;28;01mreturn\u001b[39;00m treedef\u001b[38;5;241m.\u001b[39munflatten(\u001b[43mf\u001b[49m\u001b[43m(\u001b[49m\u001b[38;5;241;43m*\u001b[39;49m\u001b[43mxs\u001b[49m\u001b[43m)\u001b[49m \u001b[38;5;28;01mfor\u001b[39;00m xs \u001b[38;5;129;01min\u001b[39;00m \u001b[38;5;28mzip\u001b[39m(\u001b[38;5;241m*\u001b[39mall_leaves))\n",
      "File \u001b[0;32m~/opt/miniconda3/envs/python3/lib/python3.10/site-packages/sympy2jax/sympy_module.py:271\u001b[0m, in \u001b[0;36mSymbolicModule.__call__.<locals>.<lambda>\u001b[0;34m(n)\u001b[0m\n\u001b[1;32m    269\u001b[0m \u001b[38;5;28;01mdef\u001b[39;00m \u001b[38;5;21m__call__\u001b[39m(\u001b[38;5;28mself\u001b[39m, \u001b[38;5;241m*\u001b[39m\u001b[38;5;241m*\u001b[39msymbols):\n\u001b[1;32m    270\u001b[0m     memodict \u001b[38;5;241m=\u001b[39m symbols\n\u001b[0;32m--> 271\u001b[0m     \u001b[38;5;28;01mreturn\u001b[39;00m jax\u001b[38;5;241m.\u001b[39mtree_map(\u001b[38;5;28;01mlambda\u001b[39;00m n: \u001b[43mn\u001b[49m\u001b[43m(\u001b[49m\u001b[43mmemodict\u001b[49m\u001b[43m)\u001b[49m, \u001b[38;5;28mself\u001b[39m\u001b[38;5;241m.\u001b[39mnodes, is_leaf\u001b[38;5;241m=\u001b[39m_is_node)\n",
      "File \u001b[0;32m~/opt/miniconda3/envs/python3/lib/python3.10/site-packages/sympy2jax/sympy_module.py:193\u001b[0m, in \u001b[0;36m_Func.__call__\u001b[0;34m(self, memodict)\u001b[0m\n\u001b[1;32m    191\u001b[0m     arg_call \u001b[38;5;241m=\u001b[39m memodict[arg]\n\u001b[1;32m    192\u001b[0m \u001b[38;5;28;01mexcept\u001b[39;00m \u001b[38;5;167;01mKeyError\u001b[39;00m:\n\u001b[0;32m--> 193\u001b[0m     arg_call \u001b[38;5;241m=\u001b[39m \u001b[43marg\u001b[49m\u001b[43m(\u001b[49m\u001b[43mmemodict\u001b[49m\u001b[43m)\u001b[49m\n\u001b[1;32m    194\u001b[0m     memodict[arg] \u001b[38;5;241m=\u001b[39m arg_call\n\u001b[1;32m    195\u001b[0m args\u001b[38;5;241m.\u001b[39mappend(arg_call)\n",
      "File \u001b[0;32m~/opt/miniconda3/envs/python3/lib/python3.10/site-packages/sympy2jax/sympy_module.py:111\u001b[0m, in \u001b[0;36m_Symbol.__call__\u001b[0;34m(self, memodict)\u001b[0m\n\u001b[1;32m    109\u001b[0m     \u001b[38;5;28;01mreturn\u001b[39;00m memodict[\u001b[38;5;28mself\u001b[39m\u001b[38;5;241m.\u001b[39m_name]\n\u001b[1;32m    110\u001b[0m \u001b[38;5;28;01mexcept\u001b[39;00m \u001b[38;5;167;01mKeyError\u001b[39;00m \u001b[38;5;28;01mas\u001b[39;00m e:\n\u001b[0;32m--> 111\u001b[0m     \u001b[38;5;28;01mraise\u001b[39;00m \u001b[38;5;167;01mKeyError\u001b[39;00m(\u001b[38;5;124mf\u001b[39m\u001b[38;5;124m\"\u001b[39m\u001b[38;5;124mMissing input for symbol \u001b[39m\u001b[38;5;132;01m{\u001b[39;00m\u001b[38;5;28mself\u001b[39m\u001b[38;5;241m.\u001b[39m_name\u001b[38;5;132;01m}\u001b[39;00m\u001b[38;5;124m\"\u001b[39m) \u001b[38;5;28;01mfrom\u001b[39;00m \u001b[38;5;21;01me\u001b[39;00m\n",
      "\u001b[0;31mKeyError\u001b[0m: 'Missing input for symbol m'"
     ]
    }
   ],
   "source": [
    "mod(p1=1.0, p2=0.5)"
   ]
  },
  {
   "cell_type": "code",
   "execution_count": 68,
   "id": "6a195ad2",
   "metadata": {},
   "outputs": [],
   "source": [
    "[a, b] = sympy.symbols('a_d b_d')"
   ]
  },
  {
   "cell_type": "code",
   "execution_count": 70,
   "id": "677a0930",
   "metadata": {},
   "outputs": [],
   "source": [
    "asdf = a/b"
   ]
  },
  {
   "cell_type": "markdown",
   "id": "7b9baa1f",
   "metadata": {},
   "source": [
    "# Fundamental parameters"
   ]
  },
  {
   "cell_type": "markdown",
   "id": "5458a16c",
   "metadata": {},
   "source": [
    "I'm filling out the parameters as I go along"
   ]
  },
  {
   "cell_type": "code",
   "execution_count": 147,
   "id": "0a710d67",
   "metadata": {},
   "outputs": [],
   "source": [
    "# Machine / engineering parameters\n",
    "[Eb,\n",
    " Rp,\n",
    " beta,\n",
    " B_m,\n",
    " B_p,\n",
    " r_b,\n",
    " L_p,\n",
    "] = sympy.symbols('Eb '\n",
    "                  'Rp '\n",
    "                  'beta '\n",
    "                  'B_m '\n",
    "                  'B_p '\n",
    "                  'r_b '\n",
    "                  'L_p ')\n",
    "\n",
    "# Physics parameters?\n",
    "[mu,\n",
    " E_i,\n",
    " Z_eff,\n",
    " I_cooling,\n",
    " sigmav_DT,\n",
    " sigmav_DD,\n",
    " tau_alpha\n",
    "] = sympy.symbols('mu '\n",
    "                  'E_i '\n",
    "                  'Z_eff '\n",
    "                  'I_cooling '\n",
    "                  'sigmav_DT '\n",
    "                  'sigmav_DD '\n",
    "                  'tau_alpha')"
   ]
  },
  {
   "cell_type": "markdown",
   "id": "973e1b19",
   "metadata": {},
   "source": [
    "# Constants"
   ]
  },
  {
   "cell_type": "code",
   "execution_count": 148,
   "id": "6c107196",
   "metadata": {},
   "outputs": [],
   "source": [
    "E_alpha = 3.5  # MeV"
   ]
  },
  {
   "cell_type": "markdown",
   "id": "b1d21492",
   "metadata": {},
   "source": [
    "# General formulae"
   ]
  },
  {
   "cell_type": "markdown",
   "id": "686a64d0",
   "metadata": {},
   "source": [
    "Ion temperature"
   ]
  },
  {
   "cell_type": "code",
   "execution_count": 90,
   "id": "2bf0d210",
   "metadata": {},
   "outputs": [],
   "source": [
    "Ti = 2/3 * Eb"
   ]
  },
  {
   "cell_type": "markdown",
   "id": "2974ad8b",
   "metadata": {},
   "source": [
    "# Derived quantities"
   ]
  },
  {
   "cell_type": "markdown",
   "id": "781897b3",
   "metadata": {},
   "source": [
    "Electron temperature \n",
    "$T_e = 0.089 E_b \\log \\left( R_p \\right)^{0.4} = 0.089 E_b \\log \\left(\\frac{R_p}{1-\\beta} \\right)^{0.4}$"
   ]
  },
  {
   "cell_type": "code",
   "execution_count": 80,
   "id": "b393f081",
   "metadata": {
    "scrolled": false
   },
   "outputs": [
    {
     "data": {
      "text/latex": [
       "$\\displaystyle 0.089 Eb \\log{\\left(\\frac{Rp}{1 - \\beta} \\right)}^{0.4}$"
      ],
      "text/plain": [
       "0.089*Eb*log(Rp/(1 - beta))**0.4"
      ]
     },
     "execution_count": 80,
     "metadata": {},
     "output_type": "execute_result"
    }
   ],
   "source": [
    "Te = 0.089 * Eb * (sympy.log(Rp / (1 - beta)) ** 0.4); Te"
   ]
  },
  {
   "cell_type": "markdown",
   "id": "6c4688a2",
   "metadata": {},
   "source": [
    "## End cells / plugs"
   ]
  },
  {
   "cell_type": "markdown",
   "id": "976dd724",
   "metadata": {},
   "source": [
    "Mirror ratio $R_{\\text{plug}} = \\frac{B_m}{B_p}$"
   ]
  },
  {
   "cell_type": "code",
   "execution_count": 81,
   "id": "01aad8f7",
   "metadata": {},
   "outputs": [
    {
     "data": {
      "text/latex": [
       "$\\displaystyle \\frac{B_{m}}{B_{p}}$"
      ],
      "text/plain": [
       "B_m/B_p"
      ]
     },
     "execution_count": 81,
     "metadata": {},
     "output_type": "execute_result"
    }
   ],
   "source": [
    "R_plug = B_m / B_p; R_plug"
   ]
  },
  {
   "cell_type": "markdown",
   "id": "57283501",
   "metadata": {},
   "source": [
    "Radius at midplane $a_{\\text{plug}} = r_b \\sqrt{\\frac{B_m}{B_p}} = r_b \\sqrt{R_{plug}}$"
   ]
  },
  {
   "cell_type": "code",
   "execution_count": 82,
   "id": "3e449660",
   "metadata": {},
   "outputs": [
    {
     "data": {
      "text/latex": [
       "$\\displaystyle r_{b} \\sqrt{\\frac{B_{m}}{B_{p}}}$"
      ],
      "text/plain": [
       "r_b*sqrt(B_m/B_p)"
      ]
     },
     "execution_count": 82,
     "metadata": {},
     "output_type": "execute_result"
    }
   ],
   "source": [
    "a_plug = r_b * sympy.sqrt(R_plug); a_plug"
   ]
  },
  {
   "cell_type": "markdown",
   "id": "51efbc2c",
   "metadata": {},
   "source": [
    "Volume $V_p = L_p \\pi a_p^2$"
   ]
  },
  {
   "cell_type": "code",
   "execution_count": 84,
   "id": "eef60532",
   "metadata": {},
   "outputs": [
    {
     "data": {
      "text/latex": [
       "$\\displaystyle \\frac{\\pi B_{m} L_{p} r_{b}^{2}}{B_{p}}$"
      ],
      "text/plain": [
       "pi*B_m*L_p*r_b**2/B_p"
      ]
     },
     "execution_count": 84,
     "metadata": {},
     "output_type": "execute_result"
    }
   ],
   "source": [
    "V_p = L_p * sympy.pi * a_plug ** 2; V_p"
   ]
  },
  {
   "cell_type": "markdown",
   "id": "25666877",
   "metadata": {},
   "source": [
    "Density at a given beta: $n_{\\text{plug}} = B_p^2 \\frac{\\beta_{\\text{limit}}}{2\\mu_0 |e|\\left(T_{\\text{ion}} + T_e \\right)}$"
   ]
  },
  {
   "cell_type": "code",
   "execution_count": 91,
   "id": "f69a3b18",
   "metadata": {},
   "outputs": [],
   "source": [
    "n_plug = B_p ** 2 * beta / (2 * const.mu_0 * const.e * (Ti + Te))"
   ]
  },
  {
   "cell_type": "markdown",
   "id": "8c0f4304",
   "metadata": {},
   "source": [
    "Total particle number: $N_{\\text{tot}} = V_p n_{\\text{plug}}$"
   ]
  },
  {
   "cell_type": "code",
   "execution_count": 92,
   "id": "b9da7c84",
   "metadata": {
    "scrolled": true
   },
   "outputs": [
    {
     "data": {
      "text/latex": [
       "$\\displaystyle \\frac{\\pi B_{m} B_{p} L_{p} \\beta r_{b}^{2}}{3.58377107825779 \\cdot 10^{-26} Eb \\log{\\left(\\frac{Rp}{1 - \\beta} \\right)}^{0.4} + 2.68447271779609 \\cdot 10^{-25} Eb}$"
      ],
      "text/plain": [
       "pi*B_m*B_p*L_p*beta*r_b**2/(3.58377107825779e-26*Eb*log(Rp/(1 - beta))**0.4 + 2.68447271779609e-25*Eb)"
      ]
     },
     "execution_count": 92,
     "metadata": {},
     "output_type": "execute_result"
    }
   ],
   "source": [
    "N_tot = V_p * n_plug; N_tot"
   ]
  },
  {
   "cell_type": "markdown",
   "id": "a89bc69b",
   "metadata": {},
   "source": [
    "**General formula:** Particle conefinement time $\\tau_{\\text{Fowler/Baldwin}} = 2.8 \\cdot 10^{12} \\frac{E_b^{3/2}}{n_e} \\log R_m$"
   ]
  },
  {
   "cell_type": "code",
   "execution_count": 94,
   "id": "f5b51ba9",
   "metadata": {},
   "outputs": [
    {
     "data": {
      "text/latex": [
       "$\\displaystyle \\frac{2800000000000.0 Eb^{1.5} \\cdot \\left(3.58377107825779 \\cdot 10^{-26} Eb \\log{\\left(\\frac{Rp}{1 - \\beta} \\right)}^{0.4} + 2.68447271779609 \\cdot 10^{-25} Eb\\right) \\log{\\left(Rp \\right)}}{B_{p}^{2} \\beta}$"
      ],
      "text/plain": [
       "2800000000000.0*Eb**1.5*(3.58377107825779e-26*Eb*log(Rp/(1 - beta))**0.4 + 2.68447271779609e-25*Eb)*log(Rp)/(B_p**2*beta)"
      ]
     },
     "execution_count": 94,
     "metadata": {},
     "output_type": "execute_result"
    }
   ],
   "source": [
    "tau_Fowler_Baldwin = 2.8 * 10 ** 12 * Eb ** (3/2) / n_plug * sympy.log(Rp); tau_Fowler_Baldwin"
   ]
  },
  {
   "cell_type": "markdown",
   "id": "1227eabe",
   "metadata": {},
   "source": [
    "Particles lost per second: $\\frac{dN}{dt} = \\frac{N_{\\text{tot}}}{\\tau_{\\text{Fowler/Baldwin}}}$"
   ]
  },
  {
   "cell_type": "code",
   "execution_count": 95,
   "id": "d7060fae",
   "metadata": {},
   "outputs": [
    {
     "data": {
      "text/latex": [
       "$\\displaystyle \\frac{3.57142857142857 \\cdot 10^{-13} \\pi B_{m} B_{p}^{3} L_{p} \\beta^{2} r_{b}^{2} \\cdot \\frac{1.38765661654981 \\cdot 10^{49}}{\\left(0.1335 Eb \\log{\\left(\\frac{Rp}{1 - \\beta} \\right)}^{0.4} + Eb\\right)^{2}}}{Eb^{1.5} \\log{\\left(Rp \\right)}}$"
      ],
      "text/plain": [
       "3.57142857142857e-13*pi*B_m*B_p**3*L_p*beta**2*r_b**2*(1.38765661654981e+49/(0.1335*Eb*log(Rp/(1 - beta))**0.4 + Eb)**2)/(Eb**1.5*log(Rp))"
      ]
     },
     "execution_count": 95,
     "metadata": {},
     "output_type": "execute_result"
    }
   ],
   "source": [
    "dN_dt = N_tot / tau_Fowler_Baldwin; dN_dt"
   ]
  },
  {
   "cell_type": "markdown",
   "id": "5f758ecd",
   "metadata": {},
   "source": [
    "**General formula:** Ion gyroradius at center of the plug: $\\rho_i = \\frac{m v_\\perp}{q B} = 3.22\\cdot 10^{-3} \\frac{\\sqrt{\\mu E_{\\text{ion}}}}{B_p}$"
   ]
  },
  {
   "cell_type": "code",
   "execution_count": 102,
   "id": "384e345e",
   "metadata": {},
   "outputs": [
    {
     "data": {
      "text/latex": [
       "$\\displaystyle \\frac{0.00322 \\sqrt{E_{i} \\mu}}{B_{p}}$"
      ],
      "text/plain": [
       "0.00322*sqrt(E_i*mu)/B_p"
      ]
     },
     "execution_count": 102,
     "metadata": {},
     "output_type": "execute_result"
    }
   ],
   "source": [
    "rho_i = 3.22 * 10 ** -3 * sympy.sqrt(mu * E_i) / B_p; rho_i"
   ]
  },
  {
   "cell_type": "markdown",
   "id": "fb09ae95",
   "metadata": {},
   "source": [
    "Number of gryoradii in the plasma radius: $N_{\\text{gyro}} = \\frac{a_p}{\\rho_i}$"
   ]
  },
  {
   "cell_type": "code",
   "execution_count": 103,
   "id": "3107df2a",
   "metadata": {},
   "outputs": [
    {
     "data": {
      "text/latex": [
       "$\\displaystyle \\frac{310.55900621118 B_{p} r_{b} \\sqrt{\\frac{B_{m}}{B_{p}}}}{\\sqrt{E_{i} \\mu}}$"
      ],
      "text/plain": [
       "310.55900621118*B_p*r_b*sqrt(B_m/B_p)/sqrt(E_i*mu)"
      ]
     },
     "execution_count": 103,
     "metadata": {},
     "output_type": "execute_result"
    }
   ],
   "source": [
    "N_gyro = a_plug / rho_i; N_gyro"
   ]
  },
  {
   "cell_type": "markdown",
   "id": "9f8028e9",
   "metadata": {},
   "source": [
    "NBI current (A): $I_{\\text{NBI}}=|e|\\frac{dN}{dt}$"
   ]
  },
  {
   "cell_type": "code",
   "execution_count": 104,
   "id": "31a01987",
   "metadata": {},
   "outputs": [
    {
     "data": {
      "text/latex": [
       "$\\displaystyle \\frac{7.94025359661286 \\cdot 10^{17} \\pi B_{m} B_{p}^{3} L_{p} \\beta^{2} r_{b}^{2}}{Eb^{1.5} \\left(0.1335 Eb \\log{\\left(\\frac{Rp}{1 - \\beta} \\right)}^{0.4} + Eb\\right)^{2} \\log{\\left(Rp \\right)}}$"
      ],
      "text/plain": [
       "7.94025359661286e+17*pi*B_m*B_p**3*L_p*beta**2*r_b**2/(Eb**1.5*(0.1335*Eb*log(Rp/(1 - beta))**0.4 + Eb)**2*log(Rp))"
      ]
     },
     "execution_count": 104,
     "metadata": {},
     "output_type": "execute_result"
    }
   ],
   "source": [
    "I_NBI = const.elementary_charge * dN_dt; I_NBI"
   ]
  },
  {
   "cell_type": "markdown",
   "id": "40c00c73",
   "metadata": {},
   "source": [
    "**General formula:** Coulomb logarithms: $\\lambda_{ei} = 24 - 0.5\\ln{n_e} + \\ln{T_e}$"
   ]
  },
  {
   "cell_type": "code",
   "execution_count": 105,
   "id": "48fb0141",
   "metadata": {},
   "outputs": [
    {
     "data": {
      "text/latex": [
       "$\\displaystyle \\log{\\left(0.089 Eb \\log{\\left(\\frac{Rp}{1 - \\beta} \\right)}^{0.4} \\right)} - 0.5 \\log{\\left(\\frac{B_{p}^{2} \\beta}{3.58377107825779 \\cdot 10^{-26} Eb \\log{\\left(\\frac{Rp}{1 - \\beta} \\right)}^{0.4} + 2.68447271779609 \\cdot 10^{-25} Eb} \\right)} + 24$"
      ],
      "text/plain": [
       "log(0.089*Eb*log(Rp/(1 - beta))**0.4) - 0.5*log(B_p**2*beta/(3.58377107825779e-26*Eb*log(Rp/(1 - beta))**0.4 + 2.68447271779609e-25*Eb)) + 24"
      ]
     },
     "execution_count": 105,
     "metadata": {},
     "output_type": "execute_result"
    }
   ],
   "source": [
    "lambda_ei = 24 - 0.5 * sympy.log(n_plug) + sympy.log(Te); lambda_ei"
   ]
  },
  {
   "cell_type": "markdown",
   "id": "c3b797cc",
   "metadata": {},
   "source": [
    "**General formula:** Slowing down times: $\\tau_{i,\\text{slow}} = 0.1 \\frac{\\mu T_e^{3/2}}{n_{20} Z^2 \\lambda_{ei}}$"
   ]
  },
  {
   "cell_type": "code",
   "execution_count": 122,
   "id": "fd791b67",
   "metadata": {},
   "outputs": [
    {
     "data": {
      "text/latex": [
       "$\\displaystyle \\frac{2.65512523245138 \\cdot 10^{17} \\mu \\left(Eb \\log{\\left(\\frac{Rp}{1 - \\beta} \\right)}^{0.4}\\right)^{1.5} \\cdot \\left(3.58377107825779 \\cdot 10^{-26} Eb \\log{\\left(\\frac{Rp}{1 - \\beta} \\right)}^{0.4} + 2.68447271779609 \\cdot 10^{-25} Eb\\right)}{B_{p}^{2} Z_{eff}^{2} \\beta \\left(\\log{\\left(0.089 Eb \\log{\\left(\\frac{Rp}{1 - \\beta} \\right)}^{0.4} \\right)} - 0.5 \\log{\\left(\\frac{B_{p}^{2} \\beta}{3.58377107825779 \\cdot 10^{-26} Eb \\log{\\left(\\frac{Rp}{1 - \\beta} \\right)}^{0.4} + 2.68447271779609 \\cdot 10^{-25} Eb} \\right)} + 24\\right)}$"
      ],
      "text/plain": [
       "2.65512523245138e+17*mu*(Eb*log(Rp/(1 - beta))**0.4)**1.5*(3.58377107825779e-26*Eb*log(Rp/(1 - beta))**0.4 + 2.68447271779609e-25*Eb)/(B_p**2*Z_eff**2*beta*(log(0.089*Eb*log(Rp/(1 - beta))**0.4) - 0.5*log(B_p**2*beta/(3.58377107825779e-26*Eb*log(Rp/(1 - beta))**0.4 + 2.68447271779609e-25*Eb)) + 24))"
      ]
     },
     "execution_count": 122,
     "metadata": {},
     "output_type": "execute_result"
    }
   ],
   "source": [
    "tau_i_slow = 0.1 * mu * Te ** (3/2) / (n_plug / 10 ** 20 * Z_eff ** 2 * lambda_ei); tau_i_slow"
   ]
  },
  {
   "cell_type": "markdown",
   "id": "20669179",
   "metadata": {},
   "source": [
    "Electron heating by fast ions (MW): $10^{-3}\\frac{I_{\\text{NBI}}E_b}{\\tau_{\\text{slow}}}$"
   ]
  },
  {
   "cell_type": "code",
   "execution_count": 133,
   "id": "2fc92fba",
   "metadata": {},
   "outputs": [
    {
     "data": {
      "text/latex": [
       "$\\displaystyle \\frac{0.00299053826145967 \\pi B_{m} B_{p}^{5} L_{p} Z_{eff}^{2} \\beta^{3} r_{b}^{2} \\left(\\log{\\left(0.089 Eb \\log{\\left(\\frac{Rp}{1 - \\beta} \\right)}^{0.4} \\right)} - 0.5 \\log{\\left(\\frac{B_{p}^{2} \\beta}{3.58377107825779 \\cdot 10^{-26} Eb \\log{\\left(\\frac{Rp}{1 - \\beta} \\right)}^{0.4} + 2.68447271779609 \\cdot 10^{-25} Eb} \\right)} + 24\\right)}{Eb^{0.5} \\mu \\left(Eb \\log{\\left(\\frac{Rp}{1 - \\beta} \\right)}^{0.4}\\right)^{1.5} \\cdot \\left(3.58377107825779 \\cdot 10^{-26} Eb \\log{\\left(\\frac{Rp}{1 - \\beta} \\right)}^{0.4} + 2.68447271779609 \\cdot 10^{-25} Eb\\right) \\left(0.1335 Eb \\log{\\left(\\frac{Rp}{1 - \\beta} \\right)}^{0.4} + Eb\\right)^{2} \\log{\\left(Rp \\right)}}$"
      ],
      "text/plain": [
       "0.00299053826145967*pi*B_m*B_p**5*L_p*Z_eff**2*beta**3*r_b**2*(log(0.089*Eb*log(Rp/(1 - beta))**0.4) - 0.5*log(B_p**2*beta/(3.58377107825779e-26*Eb*log(Rp/(1 - beta))**0.4 + 2.68447271779609e-25*Eb)) + 24)/(Eb**0.5*mu*(Eb*log(Rp/(1 - beta))**0.4)**1.5*(3.58377107825779e-26*Eb*log(Rp/(1 - beta))**0.4 + 2.68447271779609e-25*Eb)*(0.1335*Eb*log(Rp/(1 - beta))**0.4 + Eb)**2*log(Rp))"
      ]
     },
     "execution_count": 133,
     "metadata": {},
     "output_type": "execute_result"
    }
   ],
   "source": [
    "P_e_heating_fastI = 10 ** -3 * I_NBI * Eb / tau_i_slow; P_e_heating_fastI"
   ]
  },
  {
   "cell_type": "markdown",
   "id": "86999535",
   "metadata": {},
   "source": [
    "**General formula:** Lorentz factor: $\\gamma = \\sqrt{1 - \\frac{T_e}{m_e c^2}} = \\sqrt{1 - \\frac{T_e}{511 \\text{keV}}}$"
   ]
  },
  {
   "cell_type": "code",
   "execution_count": 124,
   "id": "6e809602",
   "metadata": {},
   "outputs": [
    {
     "data": {
      "text/latex": [
       "$\\displaystyle \\sqrt{- 0.000174168297455969 Eb \\log{\\left(\\frac{Rp}{1 - \\beta} \\right)}^{0.4} + 1}$"
      ],
      "text/plain": [
       "sqrt(-0.000174168297455969*Eb*log(Rp/(1 - beta))**0.4 + 1)"
      ]
     },
     "execution_count": 124,
     "metadata": {},
     "output_type": "execute_result"
    }
   ],
   "source": [
    "gamma = sympy.sqrt(1 - Te / 511); gamma"
   ]
  },
  {
   "cell_type": "markdown",
   "id": "d6a42023",
   "metadata": {},
   "source": [
    "Synchrotron radiation power loss (MW): $ P_{\\text{synch}} = 6\\cdot10^{-3} V_p n_{20} T_e \\gamma^2 B_p^2$"
   ]
  },
  {
   "cell_type": "code",
   "execution_count": 125,
   "id": "cf734f72",
   "metadata": {},
   "outputs": [
    {
     "data": {
      "text/latex": [
       "$\\displaystyle \\frac{5.34 \\cdot 10^{-24} \\pi B_{m} B_{p}^{3} Eb L_{p} \\beta r_{b}^{2} \\left(- 0.000174168297455969 Eb \\log{\\left(\\frac{Rp}{1 - \\beta} \\right)}^{0.4} + 1\\right) \\log{\\left(\\frac{Rp}{1 - \\beta} \\right)}^{0.4}}{3.58377107825779 \\cdot 10^{-26} Eb \\log{\\left(\\frac{Rp}{1 - \\beta} \\right)}^{0.4} + 2.68447271779609 \\cdot 10^{-25} Eb}$"
      ],
      "text/plain": [
       "5.34e-24*pi*B_m*B_p**3*Eb*L_p*beta*r_b**2*(-0.000174168297455969*Eb*log(Rp/(1 - beta))**0.4 + 1)*log(Rp/(1 - beta))**0.4/(3.58377107825779e-26*Eb*log(Rp/(1 - beta))**0.4 + 2.68447271779609e-25*Eb)"
      ]
     },
     "execution_count": 125,
     "metadata": {},
     "output_type": "execute_result"
    }
   ],
   "source": [
    "P_synch = 6 * 10 ** -3 * V_p * n_plug / 10 ** 20 * Te * gamma ** 2 * B_p ** 2; P_synch"
   ]
  },
  {
   "cell_type": "markdown",
   "id": "4ffabad8",
   "metadata": {},
   "source": [
    "Bremsstrahlung radiation power loss (MW): $P_{\\text{brem}} = 5.35\\cdot10^{-3} n_{20}^2 Z_{\\text{eff}}\\sqrt{T_e} V_p$"
   ]
  },
  {
   "cell_type": "code",
   "execution_count": 127,
   "id": "9ecbe7e6",
   "metadata": {},
   "outputs": [
    {
     "data": {
      "text/latex": [
       "$\\displaystyle \\frac{2214781.03558431 \\pi B_{m} B_{p}^{3} L_{p} Z_{eff} \\beta^{2} r_{b}^{2} \\sqrt{Eb \\log{\\left(\\frac{Rp}{1 - \\beta} \\right)}^{0.4}}}{\\left(0.1335 Eb \\log{\\left(\\frac{Rp}{1 - \\beta} \\right)}^{0.4} + Eb\\right)^{2}}$"
      ],
      "text/plain": [
       "2214781.03558431*pi*B_m*B_p**3*L_p*Z_eff*beta**2*r_b**2*sqrt(Eb*log(Rp/(1 - beta))**0.4)/(0.1335*Eb*log(Rp/(1 - beta))**0.4 + Eb)**2"
      ]
     },
     "execution_count": 127,
     "metadata": {},
     "output_type": "execute_result"
    }
   ],
   "source": [
    "P_brem = 5.35 * 10 ** -3 * (n_plug / 10 ** 20) ** 2 * Z_eff * sympy.sqrt(Te) * V_p; P_brem"
   ]
  },
  {
   "cell_type": "markdown",
   "id": "eb569c22",
   "metadata": {},
   "source": [
    "Power loss from escaping electrons (MW): $P_{\\text{e,endloss}} = 10^{-3}(I_{\\text{NBI}}+I_{\\text{cooling}})\\cdot 7 T_e$"
   ]
  },
  {
   "cell_type": "code",
   "execution_count": 129,
   "id": "0c55b4a7",
   "metadata": {},
   "outputs": [
    {
     "data": {
      "text/latex": [
       "$\\displaystyle 0.089 Eb \\left(\\frac{5.55817751762901 \\cdot 10^{15} \\pi B_{m} B_{p}^{3} L_{p} \\beta^{2} r_{b}^{2}}{Eb^{1.5} \\left(0.1335 Eb \\log{\\left(\\frac{Rp}{1 - \\beta} \\right)}^{0.4} + Eb\\right)^{2} \\log{\\left(Rp \\right)}} + 0.007 I_{cooling}\\right) \\log{\\left(\\frac{Rp}{1 - \\beta} \\right)}^{0.4}$"
      ],
      "text/plain": [
       "0.089*Eb*(5.55817751762901e+15*pi*B_m*B_p**3*L_p*beta**2*r_b**2/(Eb**1.5*(0.1335*Eb*log(Rp/(1 - beta))**0.4 + Eb)**2*log(Rp)) + 0.007*I_cooling)*log(Rp/(1 - beta))**0.4"
      ]
     },
     "execution_count": 129,
     "metadata": {},
     "output_type": "execute_result"
    }
   ],
   "source": [
    "P_e_endloss = 10 ** -3 * (I_NBI + I_cooling) * 7 * Te; P_e_endloss"
   ]
  },
  {
   "cell_type": "markdown",
   "id": "8ef6df7c",
   "metadata": {},
   "source": [
    "Power loss from escaping fast ions (MW): $P_{\\text{i,endloss}} = 10^{-3} I_{\\text{NBI}} \\left(E_b-T_e\\right)$"
   ]
  },
  {
   "cell_type": "code",
   "execution_count": 131,
   "id": "ad0b5f3b",
   "metadata": {},
   "outputs": [
    {
     "data": {
      "text/latex": [
       "$\\displaystyle \\frac{794025359661286.0 \\pi B_{m} B_{p}^{3} L_{p} \\beta^{2} r_{b}^{2} \\left(- 0.089 Eb \\log{\\left(\\frac{Rp}{1 - \\beta} \\right)}^{0.4} + Eb\\right)}{Eb^{1.5} \\left(0.1335 Eb \\log{\\left(\\frac{Rp}{1 - \\beta} \\right)}^{0.4} + Eb\\right)^{2} \\log{\\left(Rp \\right)}}$"
      ],
      "text/plain": [
       "794025359661286.0*pi*B_m*B_p**3*L_p*beta**2*r_b**2*(-0.089*Eb*log(Rp/(1 - beta))**0.4 + Eb)/(Eb**1.5*(0.1335*Eb*log(Rp/(1 - beta))**0.4 + Eb)**2*log(Rp))"
      ]
     },
     "execution_count": 131,
     "metadata": {},
     "output_type": "execute_result"
    }
   ],
   "source": [
    "P_i_endloss = 10 ** -3 * I_NBI * (Eb - Te); P_i_endloss"
   ]
  },
  {
   "cell_type": "markdown",
   "id": "3e64f652",
   "metadata": {},
   "source": [
    "Injected NBI Power (MW): $P_{\\text{NBI}} = 10^{-3}I_{\\text{NBI}} E_b$"
   ]
  },
  {
   "cell_type": "code",
   "execution_count": 132,
   "id": "c3519d13",
   "metadata": {},
   "outputs": [
    {
     "data": {
      "text/latex": [
       "$\\displaystyle \\frac{794025359661286.0 \\pi B_{m} B_{p}^{3} L_{p} \\beta^{2} r_{b}^{2}}{Eb^{0.5} \\left(0.1335 Eb \\log{\\left(\\frac{Rp}{1 - \\beta} \\right)}^{0.4} + Eb\\right)^{2} \\log{\\left(Rp \\right)}}$"
      ],
      "text/plain": [
       "794025359661286.0*pi*B_m*B_p**3*L_p*beta**2*r_b**2/(Eb**0.5*(0.1335*Eb*log(Rp/(1 - beta))**0.4 + Eb)**2*log(Rp))"
      ]
     },
     "execution_count": 132,
     "metadata": {},
     "output_type": "execute_result"
    }
   ],
   "source": [
    "P_NBI = 10 ** -3 * I_NBI * Eb; P_NBI"
   ]
  },
  {
   "cell_type": "markdown",
   "id": "30c5c1cb",
   "metadata": {},
   "source": [
    "Injected ECH Power (MW): $P_{\\text{ECH}} = \\frac{P_{\\text{synch}}}{20} +P_{\\text{e,endloss}} - \\left(\\text{Electron heating from fast ions}\\right)$"
   ]
  },
  {
   "cell_type": "code",
   "execution_count": 135,
   "id": "a1298a74",
   "metadata": {},
   "outputs": [
    {
     "data": {
      "text/latex": [
       "$\\displaystyle - \\frac{0.00299053826145967 \\pi B_{m} B_{p}^{5} L_{p} Z_{eff}^{2} \\beta^{3} r_{b}^{2} \\left(\\log{\\left(0.089 Eb \\log{\\left(\\frac{Rp}{1 - \\beta} \\right)}^{0.4} \\right)} - 0.5 \\log{\\left(\\frac{B_{p}^{2} \\beta}{3.58377107825779 \\cdot 10^{-26} Eb \\log{\\left(\\frac{Rp}{1 - \\beta} \\right)}^{0.4} + 2.68447271779609 \\cdot 10^{-25} Eb} \\right)} + 24\\right)}{Eb^{0.5} \\mu \\left(Eb \\log{\\left(\\frac{Rp}{1 - \\beta} \\right)}^{0.4}\\right)^{1.5} \\cdot \\left(3.58377107825779 \\cdot 10^{-26} Eb \\log{\\left(\\frac{Rp}{1 - \\beta} \\right)}^{0.4} + 2.68447271779609 \\cdot 10^{-25} Eb\\right) \\left(0.1335 Eb \\log{\\left(\\frac{Rp}{1 - \\beta} \\right)}^{0.4} + Eb\\right)^{2} \\log{\\left(Rp \\right)}} + \\frac{2.67 \\cdot 10^{-25} \\pi B_{m} B_{p}^{3} Eb L_{p} \\beta r_{b}^{2} \\left(- 0.000174168297455969 Eb \\log{\\left(\\frac{Rp}{1 - \\beta} \\right)}^{0.4} + 1\\right) \\log{\\left(\\frac{Rp}{1 - \\beta} \\right)}^{0.4}}{3.58377107825779 \\cdot 10^{-26} Eb \\log{\\left(\\frac{Rp}{1 - \\beta} \\right)}^{0.4} + 2.68447271779609 \\cdot 10^{-25} Eb} + 0.089 Eb \\left(\\frac{5.55817751762901 \\cdot 10^{15} \\pi B_{m} B_{p}^{3} L_{p} \\beta^{2} r_{b}^{2}}{Eb^{1.5} \\left(0.1335 Eb \\log{\\left(\\frac{Rp}{1 - \\beta} \\right)}^{0.4} + Eb\\right)^{2} \\log{\\left(Rp \\right)}} + 0.007 I_{cooling}\\right) \\log{\\left(\\frac{Rp}{1 - \\beta} \\right)}^{0.4}$"
      ],
      "text/plain": [
       "-0.00299053826145967*pi*B_m*B_p**5*L_p*Z_eff**2*beta**3*r_b**2*(log(0.089*Eb*log(Rp/(1 - beta))**0.4) - 0.5*log(B_p**2*beta/(3.58377107825779e-26*Eb*log(Rp/(1 - beta))**0.4 + 2.68447271779609e-25*Eb)) + 24)/(Eb**0.5*mu*(Eb*log(Rp/(1 - beta))**0.4)**1.5*(3.58377107825779e-26*Eb*log(Rp/(1 - beta))**0.4 + 2.68447271779609e-25*Eb)*(0.1335*Eb*log(Rp/(1 - beta))**0.4 + Eb)**2*log(Rp)) + 2.67e-25*pi*B_m*B_p**3*Eb*L_p*beta*r_b**2*(-0.000174168297455969*Eb*log(Rp/(1 - beta))**0.4 + 1)*log(Rp/(1 - beta))**0.4/(3.58377107825779e-26*Eb*log(Rp/(1 - beta))**0.4 + 2.68447271779609e-25*Eb) + 0.089*Eb*(5.55817751762901e+15*pi*B_m*B_p**3*L_p*beta**2*r_b**2/(Eb**1.5*(0.1335*Eb*log(Rp/(1 - beta))**0.4 + Eb)**2*log(Rp)) + 0.007*I_cooling)*log(Rp/(1 - beta))**0.4"
      ]
     },
     "execution_count": 135,
     "metadata": {},
     "output_type": "execute_result"
    }
   ],
   "source": [
    "P_ECH = P_synch / 20 + P_e_endloss - P_e_heating_fastI; P_ECH"
   ]
  },
  {
   "cell_type": "markdown",
   "id": "ed4ff684",
   "metadata": {},
   "source": [
    "DT fusion reaction rate (#/s). Here we assume a 50-50 DT fuel mixture: $R_{\\text{x,plug,DT}}=V_p \\frac{n_{\\text{plug}}^2}{4} \\langle\\sigma v\\rangle_{DT}$"
   ]
  },
  {
   "cell_type": "code",
   "execution_count": 138,
   "id": "d9288c59",
   "metadata": {},
   "outputs": [
    {
     "data": {
      "text/latex": [
       "$\\displaystyle \\frac{3.46914154137452 \\cdot 10^{48} \\pi B_{m} B_{p}^{3} L_{p} \\beta^{2} r_{b}^{2} sigmav_{DT}}{\\left(0.1335 Eb \\log{\\left(\\frac{Rp}{1 - \\beta} \\right)}^{0.4} + Eb\\right)^{2}}$"
      ],
      "text/plain": [
       "3.46914154137452e+48*pi*B_m*B_p**3*L_p*beta**2*r_b**2*sigmav_DT/(0.1335*Eb*log(Rp/(1 - beta))**0.4 + Eb)**2"
      ]
     },
     "execution_count": 138,
     "metadata": {},
     "output_type": "execute_result"
    }
   ],
   "source": [
    "Rx_plug_DT = V_p * n_plug ** 2 / 4 * sigmav_DT; Rx_plug_DT"
   ]
  },
  {
   "cell_type": "markdown",
   "id": "92c524fa",
   "metadata": {},
   "source": [
    "DD fusion reaction rate (#/s). Here we assume a 50-50 DT fuel mixture: $R_{\\text{x,plug,DD}}=V_p n_{\\text{plug}}^2 \\langle\\sigma v\\rangle_{DD}$"
   ]
  },
  {
   "cell_type": "code",
   "execution_count": 139,
   "id": "2690582c",
   "metadata": {},
   "outputs": [
    {
     "data": {
      "text/latex": [
       "$\\displaystyle \\frac{1.38765661654981 \\cdot 10^{49} \\pi B_{m} B_{p}^{3} L_{p} \\beta^{2} r_{b}^{2} sigmav_{DD}}{\\left(0.1335 Eb \\log{\\left(\\frac{Rp}{1 - \\beta} \\right)}^{0.4} + Eb\\right)^{2}}$"
      ],
      "text/plain": [
       "1.38765661654981e+49*pi*B_m*B_p**3*L_p*beta**2*r_b**2*sigmav_DD/(0.1335*Eb*log(Rp/(1 - beta))**0.4 + Eb)**2"
      ]
     },
     "execution_count": 139,
     "metadata": {},
     "output_type": "execute_result"
    }
   ],
   "source": [
    "Rx_plug_DD = V_p * n_plug ** 2 * sigmav_DD; Rx_plug_DD"
   ]
  },
  {
   "cell_type": "markdown",
   "id": "68c132cb",
   "metadata": {},
   "source": [
    "Fusion power (MW): $P_{\\text{plug}}=17.6|e|R_{\\text{x,plug}}$ -- we're just focusing on DT for now. Including DD it'd be: $P_{\\text{plug}}=17.6|e|R_{\\text{x,plug,DT}} + \\frac{4.03+3.27}{2}|e|R_{\\text{x,plug,DD}}$"
   ]
  },
  {
   "cell_type": "code",
   "execution_count": 140,
   "id": "659a6acf",
   "metadata": {},
   "outputs": [
    {
     "data": {
      "text/latex": [
       "$\\displaystyle \\frac{9.78239243102705 \\cdot 10^{30} \\pi B_{m} B_{p}^{3} L_{p} \\beta^{2} r_{b}^{2} sigmav_{DT}}{\\left(0.1335 Eb \\log{\\left(\\frac{Rp}{1 - \\beta} \\right)}^{0.4} + Eb\\right)^{2}}$"
      ],
      "text/plain": [
       "9.78239243102705e+30*pi*B_m*B_p**3*L_p*beta**2*r_b**2*sigmav_DT/(0.1335*Eb*log(Rp/(1 - beta))**0.4 + Eb)**2"
      ]
     },
     "execution_count": 140,
     "metadata": {},
     "output_type": "execute_result"
    }
   ],
   "source": [
    "P_fus_plug = 17.6 * const.elementary_charge * Rx_plug_DT; P_fus_plug"
   ]
  },
  {
   "cell_type": "markdown",
   "id": "182fa6a9",
   "metadata": {},
   "source": [
    "Lawson Triple Product ($10^{20}$keV$\\cdot$s/m$^3$): $\\tau_{\\text{Fowler/Baldwin}} n_{20} T_i$"
   ]
  },
  {
   "cell_type": "code",
   "execution_count": 142,
   "id": "6f84c424",
   "metadata": {
    "scrolled": true
   },
   "outputs": [
    {
     "data": {
      "text/latex": [
       "$\\displaystyle 1.86666666666667 \\cdot 10^{-8} Eb^{2.5} \\log{\\left(Rp \\right)}$"
      ],
      "text/plain": [
       "1.86666666666667e-8*Eb**2.5*log(Rp)"
      ]
     },
     "execution_count": 142,
     "metadata": {},
     "output_type": "execute_result"
    }
   ],
   "source": [
    "triple_product = tau_Fowler_Baldwin * n_plug / 10 ** 20 * Ti; triple_product"
   ]
  },
  {
   "cell_type": "markdown",
   "id": "e899775f",
   "metadata": {},
   "source": [
    "Neutron Flux, DT only (MW/m$^2$): $\\frac{14}{17.6}\\frac{P_{\\text{plug}}}{4\\pi a_{\\text{wall}}^2}$"
   ]
  },
  {
   "cell_type": "code",
   "execution_count": 143,
   "id": "5eaecea8",
   "metadata": {},
   "outputs": [
    {
     "data": {
      "text/latex": [
       "$\\displaystyle \\frac{6.19227998559027 \\cdot 10^{29} \\pi B_{p}^{4} L_{p} \\beta^{2} sigmav_{DT}}{\\left(0.1335 Eb \\log{\\left(\\frac{Rp}{1 - \\beta} \\right)}^{0.4} + Eb\\right)^{2}}$"
      ],
      "text/plain": [
       "6.19227998559027e+29*pi*B_p**4*L_p*beta**2*sigmav_DT/(0.1335*Eb*log(Rp/(1 - beta))**0.4 + Eb)**2"
      ]
     },
     "execution_count": 143,
     "metadata": {},
     "output_type": "execute_result"
    }
   ],
   "source": [
    "neutron_flux = 14 / 17.6 * P_fus_plug / (4 * const.pi * a_plug ** 2); neutron_flux"
   ]
  },
  {
   "cell_type": "markdown",
   "id": "ebd9bb09",
   "metadata": {},
   "source": [
    "Burnup fraction, DT: $\\frac{R_{\\text{x,plug,DT}}}{dN/dt}$"
   ]
  },
  {
   "cell_type": "code",
   "execution_count": 144,
   "id": "a82a3574",
   "metadata": {},
   "outputs": [
    {
     "data": {
      "text/latex": [
       "$\\displaystyle 700000000000.0 Eb^{1.5} sigmav_{DT} \\log{\\left(Rp \\right)}$"
      ],
      "text/plain": [
       "700000000000.0*Eb**1.5*sigmav_DT*log(Rp)"
      ]
     },
     "execution_count": 144,
     "metadata": {},
     "output_type": "execute_result"
    }
   ],
   "source": [
    "frac_burnup = Rx_plug_DT / dN_dt; frac_burnup"
   ]
  },
  {
   "cell_type": "markdown",
   "id": "001ad16c",
   "metadata": {},
   "source": [
    "$Q_{\\text{plug}}$: $Q_{\\text{plug}} = \\frac{P_{\\text{plug}}}{P_{\\text{injected}}}$"
   ]
  },
  {
   "cell_type": "code",
   "execution_count": 146,
   "id": "b9eee494",
   "metadata": {},
   "outputs": [
    {
     "data": {
      "text/latex": [
       "$\\displaystyle 1.232 \\cdot 10^{16} Eb^{0.5} sigmav_{DT} \\log{\\left(Rp \\right)}$"
      ],
      "text/plain": [
       "1.232e+16*Eb**0.5*sigmav_DT*log(Rp)"
      ]
     },
     "execution_count": 146,
     "metadata": {},
     "output_type": "execute_result"
    }
   ],
   "source": [
    "Q_plug = P_fus_plug / P_NBI; Q_plug"
   ]
  },
  {
   "cell_type": "markdown",
   "id": "6f665db3",
   "metadata": {},
   "source": [
    "$\\alpha$ particle density ($10^{20}m^{-3}$): $n_{\\alpha} = \\frac{I_{\\text{NBI}} Q_{\\text{plug}} \\tau_{\\alpha} E_b}{16 V_p E_{\\alpha}}$"
   ]
  },
  {
   "cell_type": "code",
   "execution_count": 150,
   "id": "9c5f7076",
   "metadata": {},
   "outputs": [
    {
     "data": {
      "text/latex": [
       "$\\displaystyle \\frac{1.74685579125483 \\cdot 10^{32} B_{p}^{4} E_{b} \\beta^{2} sigmav_{DT} \\tau_{\\alpha}}{Eb^{1.0} \\left(0.1335 Eb \\log{\\left(\\frac{Rp}{1 - \\beta} \\right)}^{0.4} + Eb\\right)^{2}}$"
      ],
      "text/plain": [
       "1.74685579125483e+32*B_p**4*E_{b}*beta**2*sigmav_DT*tau_alpha/(Eb**1.0*(0.1335*Eb*log(Rp/(1 - beta))**0.4 + Eb)**2)"
      ]
     },
     "execution_count": 150,
     "metadata": {},
     "output_type": "execute_result"
    }
   ],
   "source": [
    "n_alpha = I_NBI * Q_plug * tau_alpha * E_b / (16 * V_p * E_alpha); n_alpha"
   ]
  },
  {
   "cell_type": "markdown",
   "id": "aa36bc52",
   "metadata": {},
   "source": [
    "$Z_{\\text{eff}}$: $Z_{\\text{eff}} = 1 +2n_{\\alpha}$"
   ]
  },
  {
   "cell_type": "code",
   "execution_count": 151,
   "id": "9597887b",
   "metadata": {},
   "outputs": [
    {
     "data": {
      "text/latex": [
       "$\\displaystyle \\frac{3.49371158250966 \\cdot 10^{32} B_{p}^{4} E_{b} \\beta^{2} sigmav_{DT} \\tau_{\\alpha}}{Eb^{1.0} \\left(0.1335 Eb \\log{\\left(\\frac{Rp}{1 - \\beta} \\right)}^{0.4} + Eb\\right)^{2}} + 1$"
      ],
      "text/plain": [
       "3.49371158250966e+32*B_p**4*E_{b}*beta**2*sigmav_DT*tau_alpha/(Eb**1.0*(0.1335*Eb*log(Rp/(1 - beta))**0.4 + Eb)**2) + 1"
      ]
     },
     "execution_count": 151,
     "metadata": {},
     "output_type": "execute_result"
    }
   ],
   "source": [
    "Z_eff = 1 + 2 * n_alpha; Z_eff"
   ]
  },
  {
   "cell_type": "code",
   "execution_count": 152,
   "id": "e98f8ccd",
   "metadata": {},
   "outputs": [
    {
     "data": {
      "text/plain": [
       "{Eb, Rp, sigmav_DT}"
      ]
     },
     "execution_count": 152,
     "metadata": {},
     "output_type": "execute_result"
    }
   ],
   "source": [
    "Q_plug.free_symbols"
   ]
  },
  {
   "cell_type": "code",
   "execution_count": null,
   "id": "dd6529d4",
   "metadata": {},
   "outputs": [],
   "source": []
  }
 ],
 "metadata": {
  "kernelspec": {
   "display_name": "Python 3 (ipykernel)",
   "language": "python",
   "name": "python3"
  },
  "language_info": {
   "codemirror_mode": {
    "name": "ipython",
    "version": 3
   },
   "file_extension": ".py",
   "mimetype": "text/x-python",
   "name": "python",
   "nbconvert_exporter": "python",
   "pygments_lexer": "ipython3",
   "version": "3.10.4"
  }
 },
 "nbformat": 4,
 "nbformat_minor": 5
}
