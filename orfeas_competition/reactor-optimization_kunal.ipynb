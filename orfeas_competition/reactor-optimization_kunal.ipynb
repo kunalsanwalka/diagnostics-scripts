{
 "cells": [
  {
   "cell_type": "markdown",
   "id": "cd5f0a76",
   "metadata": {},
   "source": [
    "Overleaf doc: https://www.overleaf.com/read/ysgbfhgmndrs"
   ]
  },
  {
   "cell_type": "markdown",
   "id": "21de2130",
   "metadata": {},
   "source": [
    "This notebook requires:\n",
    "- jaxlib (`pip install jaxlib`)\n",
    "- jax\n",
    "- sympy\n",
    "- scipy\n",
    "- sympy2jax (`pip install sympy2jax`) -- but sympy's built-in lambdify should be sufficient for our uses\n",
    "\n",
    "Not needed but in case we want to parse LaTeX:\n",
    "\n",
    "- antlr4 python runtime (`conda install -c conda-forge antlr-python-runtime`) — for sympy's LaTeX parsing"
   ]
  },
  {
   "cell_type": "code",
   "execution_count": 1,
   "id": "a00285a1",
   "metadata": {},
   "outputs": [],
   "source": [
    "import jax\n",
    "import jax.numpy as jnp\n",
    "import sympy\n",
    "# from sympy.parsing.latex import parse_latex\n",
    "# from sympy2jax import sympy2jax\n",
    "import matplotlib.pyplot as plt\n",
    "import scipy\n",
    "import scipy.constants as const"
   ]
  },
  {
   "cell_type": "code",
   "execution_count": 3,
   "id": "e4d9fbc9",
   "metadata": {},
   "outputs": [],
   "source": [
    "%matplotlib notebook"
   ]
  },
  {
   "cell_type": "markdown",
   "id": "352140fe",
   "metadata": {},
   "source": [
    "---"
   ]
  },
  {
   "cell_type": "markdown",
   "id": "7f58bd61",
   "metadata": {},
   "source": [
    "### jax testing"
   ]
  },
  {
   "cell_type": "code",
   "execution_count": 4,
   "id": "fedbdea2",
   "metadata": {},
   "outputs": [],
   "source": [
    "def func(x):\n",
    "    return jnp.sin(x) ** 2\n",
    "def pot(x):\n",
    "    return x ** 2"
   ]
  },
  {
   "cell_type": "code",
   "execution_count": 5,
   "id": "30c8cbf5",
   "metadata": {},
   "outputs": [],
   "source": [
    "func_grad = jax.grad(func)"
   ]
  },
  {
   "cell_type": "code",
   "execution_count": 6,
   "id": "cee3c72a",
   "metadata": {},
   "outputs": [
    {
     "data": {
      "application/javascript": [
       "/* Put everything inside the global mpl namespace */\n",
       "/* global mpl */\n",
       "window.mpl = {};\n",
       "\n",
       "mpl.get_websocket_type = function () {\n",
       "    if (typeof WebSocket !== 'undefined') {\n",
       "        return WebSocket;\n",
       "    } else if (typeof MozWebSocket !== 'undefined') {\n",
       "        return MozWebSocket;\n",
       "    } else {\n",
       "        alert(\n",
       "            'Your browser does not have WebSocket support. ' +\n",
       "                'Please try Chrome, Safari or Firefox ≥ 6. ' +\n",
       "                'Firefox 4 and 5 are also supported but you ' +\n",
       "                'have to enable WebSockets in about:config.'\n",
       "        );\n",
       "    }\n",
       "};\n",
       "\n",
       "mpl.figure = function (figure_id, websocket, ondownload, parent_element) {\n",
       "    this.id = figure_id;\n",
       "\n",
       "    this.ws = websocket;\n",
       "\n",
       "    this.supports_binary = this.ws.binaryType !== undefined;\n",
       "\n",
       "    if (!this.supports_binary) {\n",
       "        var warnings = document.getElementById('mpl-warnings');\n",
       "        if (warnings) {\n",
       "            warnings.style.display = 'block';\n",
       "            warnings.textContent =\n",
       "                'This browser does not support binary websocket messages. ' +\n",
       "                'Performance may be slow.';\n",
       "        }\n",
       "    }\n",
       "\n",
       "    this.imageObj = new Image();\n",
       "\n",
       "    this.context = undefined;\n",
       "    this.message = undefined;\n",
       "    this.canvas = undefined;\n",
       "    this.rubberband_canvas = undefined;\n",
       "    this.rubberband_context = undefined;\n",
       "    this.format_dropdown = undefined;\n",
       "\n",
       "    this.image_mode = 'full';\n",
       "\n",
       "    this.root = document.createElement('div');\n",
       "    this.root.setAttribute('style', 'display: inline-block');\n",
       "    this._root_extra_style(this.root);\n",
       "\n",
       "    parent_element.appendChild(this.root);\n",
       "\n",
       "    this._init_header(this);\n",
       "    this._init_canvas(this);\n",
       "    this._init_toolbar(this);\n",
       "\n",
       "    var fig = this;\n",
       "\n",
       "    this.waiting = false;\n",
       "\n",
       "    this.ws.onopen = function () {\n",
       "        fig.send_message('supports_binary', { value: fig.supports_binary });\n",
       "        fig.send_message('send_image_mode', {});\n",
       "        if (fig.ratio !== 1) {\n",
       "            fig.send_message('set_dpi_ratio', { dpi_ratio: fig.ratio });\n",
       "        }\n",
       "        fig.send_message('refresh', {});\n",
       "    };\n",
       "\n",
       "    this.imageObj.onload = function () {\n",
       "        if (fig.image_mode === 'full') {\n",
       "            // Full images could contain transparency (where diff images\n",
       "            // almost always do), so we need to clear the canvas so that\n",
       "            // there is no ghosting.\n",
       "            fig.context.clearRect(0, 0, fig.canvas.width, fig.canvas.height);\n",
       "        }\n",
       "        fig.context.drawImage(fig.imageObj, 0, 0);\n",
       "    };\n",
       "\n",
       "    this.imageObj.onunload = function () {\n",
       "        fig.ws.close();\n",
       "    };\n",
       "\n",
       "    this.ws.onmessage = this._make_on_message_function(this);\n",
       "\n",
       "    this.ondownload = ondownload;\n",
       "};\n",
       "\n",
       "mpl.figure.prototype._init_header = function () {\n",
       "    var titlebar = document.createElement('div');\n",
       "    titlebar.classList =\n",
       "        'ui-dialog-titlebar ui-widget-header ui-corner-all ui-helper-clearfix';\n",
       "    var titletext = document.createElement('div');\n",
       "    titletext.classList = 'ui-dialog-title';\n",
       "    titletext.setAttribute(\n",
       "        'style',\n",
       "        'width: 100%; text-align: center; padding: 3px;'\n",
       "    );\n",
       "    titlebar.appendChild(titletext);\n",
       "    this.root.appendChild(titlebar);\n",
       "    this.header = titletext;\n",
       "};\n",
       "\n",
       "mpl.figure.prototype._canvas_extra_style = function (_canvas_div) {};\n",
       "\n",
       "mpl.figure.prototype._root_extra_style = function (_canvas_div) {};\n",
       "\n",
       "mpl.figure.prototype._init_canvas = function () {\n",
       "    var fig = this;\n",
       "\n",
       "    var canvas_div = (this.canvas_div = document.createElement('div'));\n",
       "    canvas_div.setAttribute(\n",
       "        'style',\n",
       "        'border: 1px solid #ddd;' +\n",
       "            'box-sizing: content-box;' +\n",
       "            'clear: both;' +\n",
       "            'min-height: 1px;' +\n",
       "            'min-width: 1px;' +\n",
       "            'outline: 0;' +\n",
       "            'overflow: hidden;' +\n",
       "            'position: relative;' +\n",
       "            'resize: both;'\n",
       "    );\n",
       "\n",
       "    function on_keyboard_event_closure(name) {\n",
       "        return function (event) {\n",
       "            return fig.key_event(event, name);\n",
       "        };\n",
       "    }\n",
       "\n",
       "    canvas_div.addEventListener(\n",
       "        'keydown',\n",
       "        on_keyboard_event_closure('key_press')\n",
       "    );\n",
       "    canvas_div.addEventListener(\n",
       "        'keyup',\n",
       "        on_keyboard_event_closure('key_release')\n",
       "    );\n",
       "\n",
       "    this._canvas_extra_style(canvas_div);\n",
       "    this.root.appendChild(canvas_div);\n",
       "\n",
       "    var canvas = (this.canvas = document.createElement('canvas'));\n",
       "    canvas.classList.add('mpl-canvas');\n",
       "    canvas.setAttribute('style', 'box-sizing: content-box;');\n",
       "\n",
       "    this.context = canvas.getContext('2d');\n",
       "\n",
       "    var backingStore =\n",
       "        this.context.backingStorePixelRatio ||\n",
       "        this.context.webkitBackingStorePixelRatio ||\n",
       "        this.context.mozBackingStorePixelRatio ||\n",
       "        this.context.msBackingStorePixelRatio ||\n",
       "        this.context.oBackingStorePixelRatio ||\n",
       "        this.context.backingStorePixelRatio ||\n",
       "        1;\n",
       "\n",
       "    this.ratio = (window.devicePixelRatio || 1) / backingStore;\n",
       "\n",
       "    var rubberband_canvas = (this.rubberband_canvas = document.createElement(\n",
       "        'canvas'\n",
       "    ));\n",
       "    rubberband_canvas.setAttribute(\n",
       "        'style',\n",
       "        'box-sizing: content-box; position: absolute; left: 0; top: 0; z-index: 1;'\n",
       "    );\n",
       "\n",
       "    // Apply a ponyfill if ResizeObserver is not implemented by browser.\n",
       "    if (this.ResizeObserver === undefined) {\n",
       "        if (window.ResizeObserver !== undefined) {\n",
       "            this.ResizeObserver = window.ResizeObserver;\n",
       "        } else {\n",
       "            var obs = _JSXTOOLS_RESIZE_OBSERVER({});\n",
       "            this.ResizeObserver = obs.ResizeObserver;\n",
       "        }\n",
       "    }\n",
       "\n",
       "    this.resizeObserverInstance = new this.ResizeObserver(function (entries) {\n",
       "        var nentries = entries.length;\n",
       "        for (var i = 0; i < nentries; i++) {\n",
       "            var entry = entries[i];\n",
       "            var width, height;\n",
       "            if (entry.contentBoxSize) {\n",
       "                if (entry.contentBoxSize instanceof Array) {\n",
       "                    // Chrome 84 implements new version of spec.\n",
       "                    width = entry.contentBoxSize[0].inlineSize;\n",
       "                    height = entry.contentBoxSize[0].blockSize;\n",
       "                } else {\n",
       "                    // Firefox implements old version of spec.\n",
       "                    width = entry.contentBoxSize.inlineSize;\n",
       "                    height = entry.contentBoxSize.blockSize;\n",
       "                }\n",
       "            } else {\n",
       "                // Chrome <84 implements even older version of spec.\n",
       "                width = entry.contentRect.width;\n",
       "                height = entry.contentRect.height;\n",
       "            }\n",
       "\n",
       "            // Keep the size of the canvas and rubber band canvas in sync with\n",
       "            // the canvas container.\n",
       "            if (entry.devicePixelContentBoxSize) {\n",
       "                // Chrome 84 implements new version of spec.\n",
       "                canvas.setAttribute(\n",
       "                    'width',\n",
       "                    entry.devicePixelContentBoxSize[0].inlineSize\n",
       "                );\n",
       "                canvas.setAttribute(\n",
       "                    'height',\n",
       "                    entry.devicePixelContentBoxSize[0].blockSize\n",
       "                );\n",
       "            } else {\n",
       "                canvas.setAttribute('width', width * fig.ratio);\n",
       "                canvas.setAttribute('height', height * fig.ratio);\n",
       "            }\n",
       "            canvas.setAttribute(\n",
       "                'style',\n",
       "                'width: ' + width + 'px; height: ' + height + 'px;'\n",
       "            );\n",
       "\n",
       "            rubberband_canvas.setAttribute('width', width);\n",
       "            rubberband_canvas.setAttribute('height', height);\n",
       "\n",
       "            // And update the size in Python. We ignore the initial 0/0 size\n",
       "            // that occurs as the element is placed into the DOM, which should\n",
       "            // otherwise not happen due to the minimum size styling.\n",
       "            if (fig.ws.readyState == 1 && width != 0 && height != 0) {\n",
       "                fig.request_resize(width, height);\n",
       "            }\n",
       "        }\n",
       "    });\n",
       "    this.resizeObserverInstance.observe(canvas_div);\n",
       "\n",
       "    function on_mouse_event_closure(name) {\n",
       "        return function (event) {\n",
       "            return fig.mouse_event(event, name);\n",
       "        };\n",
       "    }\n",
       "\n",
       "    rubberband_canvas.addEventListener(\n",
       "        'mousedown',\n",
       "        on_mouse_event_closure('button_press')\n",
       "    );\n",
       "    rubberband_canvas.addEventListener(\n",
       "        'mouseup',\n",
       "        on_mouse_event_closure('button_release')\n",
       "    );\n",
       "    // Throttle sequential mouse events to 1 every 20ms.\n",
       "    rubberband_canvas.addEventListener(\n",
       "        'mousemove',\n",
       "        on_mouse_event_closure('motion_notify')\n",
       "    );\n",
       "\n",
       "    rubberband_canvas.addEventListener(\n",
       "        'mouseenter',\n",
       "        on_mouse_event_closure('figure_enter')\n",
       "    );\n",
       "    rubberband_canvas.addEventListener(\n",
       "        'mouseleave',\n",
       "        on_mouse_event_closure('figure_leave')\n",
       "    );\n",
       "\n",
       "    canvas_div.addEventListener('wheel', function (event) {\n",
       "        if (event.deltaY < 0) {\n",
       "            event.step = 1;\n",
       "        } else {\n",
       "            event.step = -1;\n",
       "        }\n",
       "        on_mouse_event_closure('scroll')(event);\n",
       "    });\n",
       "\n",
       "    canvas_div.appendChild(canvas);\n",
       "    canvas_div.appendChild(rubberband_canvas);\n",
       "\n",
       "    this.rubberband_context = rubberband_canvas.getContext('2d');\n",
       "    this.rubberband_context.strokeStyle = '#000000';\n",
       "\n",
       "    this._resize_canvas = function (width, height, forward) {\n",
       "        if (forward) {\n",
       "            canvas_div.style.width = width + 'px';\n",
       "            canvas_div.style.height = height + 'px';\n",
       "        }\n",
       "    };\n",
       "\n",
       "    // Disable right mouse context menu.\n",
       "    this.rubberband_canvas.addEventListener('contextmenu', function (_e) {\n",
       "        event.preventDefault();\n",
       "        return false;\n",
       "    });\n",
       "\n",
       "    function set_focus() {\n",
       "        canvas.focus();\n",
       "        canvas_div.focus();\n",
       "    }\n",
       "\n",
       "    window.setTimeout(set_focus, 100);\n",
       "};\n",
       "\n",
       "mpl.figure.prototype._init_toolbar = function () {\n",
       "    var fig = this;\n",
       "\n",
       "    var toolbar = document.createElement('div');\n",
       "    toolbar.classList = 'mpl-toolbar';\n",
       "    this.root.appendChild(toolbar);\n",
       "\n",
       "    function on_click_closure(name) {\n",
       "        return function (_event) {\n",
       "            return fig.toolbar_button_onclick(name);\n",
       "        };\n",
       "    }\n",
       "\n",
       "    function on_mouseover_closure(tooltip) {\n",
       "        return function (event) {\n",
       "            if (!event.currentTarget.disabled) {\n",
       "                return fig.toolbar_button_onmouseover(tooltip);\n",
       "            }\n",
       "        };\n",
       "    }\n",
       "\n",
       "    fig.buttons = {};\n",
       "    var buttonGroup = document.createElement('div');\n",
       "    buttonGroup.classList = 'mpl-button-group';\n",
       "    for (var toolbar_ind in mpl.toolbar_items) {\n",
       "        var name = mpl.toolbar_items[toolbar_ind][0];\n",
       "        var tooltip = mpl.toolbar_items[toolbar_ind][1];\n",
       "        var image = mpl.toolbar_items[toolbar_ind][2];\n",
       "        var method_name = mpl.toolbar_items[toolbar_ind][3];\n",
       "\n",
       "        if (!name) {\n",
       "            /* Instead of a spacer, we start a new button group. */\n",
       "            if (buttonGroup.hasChildNodes()) {\n",
       "                toolbar.appendChild(buttonGroup);\n",
       "            }\n",
       "            buttonGroup = document.createElement('div');\n",
       "            buttonGroup.classList = 'mpl-button-group';\n",
       "            continue;\n",
       "        }\n",
       "\n",
       "        var button = (fig.buttons[name] = document.createElement('button'));\n",
       "        button.classList = 'mpl-widget';\n",
       "        button.setAttribute('role', 'button');\n",
       "        button.setAttribute('aria-disabled', 'false');\n",
       "        button.addEventListener('click', on_click_closure(method_name));\n",
       "        button.addEventListener('mouseover', on_mouseover_closure(tooltip));\n",
       "\n",
       "        var icon_img = document.createElement('img');\n",
       "        icon_img.src = '_images/' + image + '.png';\n",
       "        icon_img.srcset = '_images/' + image + '_large.png 2x';\n",
       "        icon_img.alt = tooltip;\n",
       "        button.appendChild(icon_img);\n",
       "\n",
       "        buttonGroup.appendChild(button);\n",
       "    }\n",
       "\n",
       "    if (buttonGroup.hasChildNodes()) {\n",
       "        toolbar.appendChild(buttonGroup);\n",
       "    }\n",
       "\n",
       "    var fmt_picker = document.createElement('select');\n",
       "    fmt_picker.classList = 'mpl-widget';\n",
       "    toolbar.appendChild(fmt_picker);\n",
       "    this.format_dropdown = fmt_picker;\n",
       "\n",
       "    for (var ind in mpl.extensions) {\n",
       "        var fmt = mpl.extensions[ind];\n",
       "        var option = document.createElement('option');\n",
       "        option.selected = fmt === mpl.default_extension;\n",
       "        option.innerHTML = fmt;\n",
       "        fmt_picker.appendChild(option);\n",
       "    }\n",
       "\n",
       "    var status_bar = document.createElement('span');\n",
       "    status_bar.classList = 'mpl-message';\n",
       "    toolbar.appendChild(status_bar);\n",
       "    this.message = status_bar;\n",
       "};\n",
       "\n",
       "mpl.figure.prototype.request_resize = function (x_pixels, y_pixels) {\n",
       "    // Request matplotlib to resize the figure. Matplotlib will then trigger a resize in the client,\n",
       "    // which will in turn request a refresh of the image.\n",
       "    this.send_message('resize', { width: x_pixels, height: y_pixels });\n",
       "};\n",
       "\n",
       "mpl.figure.prototype.send_message = function (type, properties) {\n",
       "    properties['type'] = type;\n",
       "    properties['figure_id'] = this.id;\n",
       "    this.ws.send(JSON.stringify(properties));\n",
       "};\n",
       "\n",
       "mpl.figure.prototype.send_draw_message = function () {\n",
       "    if (!this.waiting) {\n",
       "        this.waiting = true;\n",
       "        this.ws.send(JSON.stringify({ type: 'draw', figure_id: this.id }));\n",
       "    }\n",
       "};\n",
       "\n",
       "mpl.figure.prototype.handle_save = function (fig, _msg) {\n",
       "    var format_dropdown = fig.format_dropdown;\n",
       "    var format = format_dropdown.options[format_dropdown.selectedIndex].value;\n",
       "    fig.ondownload(fig, format);\n",
       "};\n",
       "\n",
       "mpl.figure.prototype.handle_resize = function (fig, msg) {\n",
       "    var size = msg['size'];\n",
       "    if (size[0] !== fig.canvas.width || size[1] !== fig.canvas.height) {\n",
       "        fig._resize_canvas(size[0], size[1], msg['forward']);\n",
       "        fig.send_message('refresh', {});\n",
       "    }\n",
       "};\n",
       "\n",
       "mpl.figure.prototype.handle_rubberband = function (fig, msg) {\n",
       "    var x0 = msg['x0'] / fig.ratio;\n",
       "    var y0 = (fig.canvas.height - msg['y0']) / fig.ratio;\n",
       "    var x1 = msg['x1'] / fig.ratio;\n",
       "    var y1 = (fig.canvas.height - msg['y1']) / fig.ratio;\n",
       "    x0 = Math.floor(x0) + 0.5;\n",
       "    y0 = Math.floor(y0) + 0.5;\n",
       "    x1 = Math.floor(x1) + 0.5;\n",
       "    y1 = Math.floor(y1) + 0.5;\n",
       "    var min_x = Math.min(x0, x1);\n",
       "    var min_y = Math.min(y0, y1);\n",
       "    var width = Math.abs(x1 - x0);\n",
       "    var height = Math.abs(y1 - y0);\n",
       "\n",
       "    fig.rubberband_context.clearRect(\n",
       "        0,\n",
       "        0,\n",
       "        fig.canvas.width / fig.ratio,\n",
       "        fig.canvas.height / fig.ratio\n",
       "    );\n",
       "\n",
       "    fig.rubberband_context.strokeRect(min_x, min_y, width, height);\n",
       "};\n",
       "\n",
       "mpl.figure.prototype.handle_figure_label = function (fig, msg) {\n",
       "    // Updates the figure title.\n",
       "    fig.header.textContent = msg['label'];\n",
       "};\n",
       "\n",
       "mpl.figure.prototype.handle_cursor = function (fig, msg) {\n",
       "    var cursor = msg['cursor'];\n",
       "    switch (cursor) {\n",
       "        case 0:\n",
       "            cursor = 'pointer';\n",
       "            break;\n",
       "        case 1:\n",
       "            cursor = 'default';\n",
       "            break;\n",
       "        case 2:\n",
       "            cursor = 'crosshair';\n",
       "            break;\n",
       "        case 3:\n",
       "            cursor = 'move';\n",
       "            break;\n",
       "    }\n",
       "    fig.rubberband_canvas.style.cursor = cursor;\n",
       "};\n",
       "\n",
       "mpl.figure.prototype.handle_message = function (fig, msg) {\n",
       "    fig.message.textContent = msg['message'];\n",
       "};\n",
       "\n",
       "mpl.figure.prototype.handle_draw = function (fig, _msg) {\n",
       "    // Request the server to send over a new figure.\n",
       "    fig.send_draw_message();\n",
       "};\n",
       "\n",
       "mpl.figure.prototype.handle_image_mode = function (fig, msg) {\n",
       "    fig.image_mode = msg['mode'];\n",
       "};\n",
       "\n",
       "mpl.figure.prototype.handle_history_buttons = function (fig, msg) {\n",
       "    for (var key in msg) {\n",
       "        if (!(key in fig.buttons)) {\n",
       "            continue;\n",
       "        }\n",
       "        fig.buttons[key].disabled = !msg[key];\n",
       "        fig.buttons[key].setAttribute('aria-disabled', !msg[key]);\n",
       "    }\n",
       "};\n",
       "\n",
       "mpl.figure.prototype.handle_navigate_mode = function (fig, msg) {\n",
       "    if (msg['mode'] === 'PAN') {\n",
       "        fig.buttons['Pan'].classList.add('active');\n",
       "        fig.buttons['Zoom'].classList.remove('active');\n",
       "    } else if (msg['mode'] === 'ZOOM') {\n",
       "        fig.buttons['Pan'].classList.remove('active');\n",
       "        fig.buttons['Zoom'].classList.add('active');\n",
       "    } else {\n",
       "        fig.buttons['Pan'].classList.remove('active');\n",
       "        fig.buttons['Zoom'].classList.remove('active');\n",
       "    }\n",
       "};\n",
       "\n",
       "mpl.figure.prototype.updated_canvas_event = function () {\n",
       "    // Called whenever the canvas gets updated.\n",
       "    this.send_message('ack', {});\n",
       "};\n",
       "\n",
       "// A function to construct a web socket function for onmessage handling.\n",
       "// Called in the figure constructor.\n",
       "mpl.figure.prototype._make_on_message_function = function (fig) {\n",
       "    return function socket_on_message(evt) {\n",
       "        if (evt.data instanceof Blob) {\n",
       "            /* FIXME: We get \"Resource interpreted as Image but\n",
       "             * transferred with MIME type text/plain:\" errors on\n",
       "             * Chrome.  But how to set the MIME type?  It doesn't seem\n",
       "             * to be part of the websocket stream */\n",
       "            evt.data.type = 'image/png';\n",
       "\n",
       "            /* Free the memory for the previous frames */\n",
       "            if (fig.imageObj.src) {\n",
       "                (window.URL || window.webkitURL).revokeObjectURL(\n",
       "                    fig.imageObj.src\n",
       "                );\n",
       "            }\n",
       "\n",
       "            fig.imageObj.src = (window.URL || window.webkitURL).createObjectURL(\n",
       "                evt.data\n",
       "            );\n",
       "            fig.updated_canvas_event();\n",
       "            fig.waiting = false;\n",
       "            return;\n",
       "        } else if (\n",
       "            typeof evt.data === 'string' &&\n",
       "            evt.data.slice(0, 21) === 'data:image/png;base64'\n",
       "        ) {\n",
       "            fig.imageObj.src = evt.data;\n",
       "            fig.updated_canvas_event();\n",
       "            fig.waiting = false;\n",
       "            return;\n",
       "        }\n",
       "\n",
       "        var msg = JSON.parse(evt.data);\n",
       "        var msg_type = msg['type'];\n",
       "\n",
       "        // Call the  \"handle_{type}\" callback, which takes\n",
       "        // the figure and JSON message as its only arguments.\n",
       "        try {\n",
       "            var callback = fig['handle_' + msg_type];\n",
       "        } catch (e) {\n",
       "            console.log(\n",
       "                \"No handler for the '\" + msg_type + \"' message type: \",\n",
       "                msg\n",
       "            );\n",
       "            return;\n",
       "        }\n",
       "\n",
       "        if (callback) {\n",
       "            try {\n",
       "                // console.log(\"Handling '\" + msg_type + \"' message: \", msg);\n",
       "                callback(fig, msg);\n",
       "            } catch (e) {\n",
       "                console.log(\n",
       "                    \"Exception inside the 'handler_\" + msg_type + \"' callback:\",\n",
       "                    e,\n",
       "                    e.stack,\n",
       "                    msg\n",
       "                );\n",
       "            }\n",
       "        }\n",
       "    };\n",
       "};\n",
       "\n",
       "// from http://stackoverflow.com/questions/1114465/getting-mouse-location-in-canvas\n",
       "mpl.findpos = function (e) {\n",
       "    //this section is from http://www.quirksmode.org/js/events_properties.html\n",
       "    var targ;\n",
       "    if (!e) {\n",
       "        e = window.event;\n",
       "    }\n",
       "    if (e.target) {\n",
       "        targ = e.target;\n",
       "    } else if (e.srcElement) {\n",
       "        targ = e.srcElement;\n",
       "    }\n",
       "    if (targ.nodeType === 3) {\n",
       "        // defeat Safari bug\n",
       "        targ = targ.parentNode;\n",
       "    }\n",
       "\n",
       "    // pageX,Y are the mouse positions relative to the document\n",
       "    var boundingRect = targ.getBoundingClientRect();\n",
       "    var x = e.pageX - (boundingRect.left + document.body.scrollLeft);\n",
       "    var y = e.pageY - (boundingRect.top + document.body.scrollTop);\n",
       "\n",
       "    return { x: x, y: y };\n",
       "};\n",
       "\n",
       "/*\n",
       " * return a copy of an object with only non-object keys\n",
       " * we need this to avoid circular references\n",
       " * http://stackoverflow.com/a/24161582/3208463\n",
       " */\n",
       "function simpleKeys(original) {\n",
       "    return Object.keys(original).reduce(function (obj, key) {\n",
       "        if (typeof original[key] !== 'object') {\n",
       "            obj[key] = original[key];\n",
       "        }\n",
       "        return obj;\n",
       "    }, {});\n",
       "}\n",
       "\n",
       "mpl.figure.prototype.mouse_event = function (event, name) {\n",
       "    var canvas_pos = mpl.findpos(event);\n",
       "\n",
       "    if (name === 'button_press') {\n",
       "        this.canvas.focus();\n",
       "        this.canvas_div.focus();\n",
       "    }\n",
       "\n",
       "    var x = canvas_pos.x * this.ratio;\n",
       "    var y = canvas_pos.y * this.ratio;\n",
       "\n",
       "    this.send_message(name, {\n",
       "        x: x,\n",
       "        y: y,\n",
       "        button: event.button,\n",
       "        step: event.step,\n",
       "        guiEvent: simpleKeys(event),\n",
       "    });\n",
       "\n",
       "    /* This prevents the web browser from automatically changing to\n",
       "     * the text insertion cursor when the button is pressed.  We want\n",
       "     * to control all of the cursor setting manually through the\n",
       "     * 'cursor' event from matplotlib */\n",
       "    event.preventDefault();\n",
       "    return false;\n",
       "};\n",
       "\n",
       "mpl.figure.prototype._key_event_extra = function (_event, _name) {\n",
       "    // Handle any extra behaviour associated with a key event\n",
       "};\n",
       "\n",
       "mpl.figure.prototype.key_event = function (event, name) {\n",
       "    // Prevent repeat events\n",
       "    if (name === 'key_press') {\n",
       "        if (event.which === this._key) {\n",
       "            return;\n",
       "        } else {\n",
       "            this._key = event.which;\n",
       "        }\n",
       "    }\n",
       "    if (name === 'key_release') {\n",
       "        this._key = null;\n",
       "    }\n",
       "\n",
       "    var value = '';\n",
       "    if (event.ctrlKey && event.which !== 17) {\n",
       "        value += 'ctrl+';\n",
       "    }\n",
       "    if (event.altKey && event.which !== 18) {\n",
       "        value += 'alt+';\n",
       "    }\n",
       "    if (event.shiftKey && event.which !== 16) {\n",
       "        value += 'shift+';\n",
       "    }\n",
       "\n",
       "    value += 'k';\n",
       "    value += event.which.toString();\n",
       "\n",
       "    this._key_event_extra(event, name);\n",
       "\n",
       "    this.send_message(name, { key: value, guiEvent: simpleKeys(event) });\n",
       "    return false;\n",
       "};\n",
       "\n",
       "mpl.figure.prototype.toolbar_button_onclick = function (name) {\n",
       "    if (name === 'download') {\n",
       "        this.handle_save(this, null);\n",
       "    } else {\n",
       "        this.send_message('toolbar_button', { name: name });\n",
       "    }\n",
       "};\n",
       "\n",
       "mpl.figure.prototype.toolbar_button_onmouseover = function (tooltip) {\n",
       "    this.message.textContent = tooltip;\n",
       "};\n",
       "\n",
       "///////////////// REMAINING CONTENT GENERATED BY embed_js.py /////////////////\n",
       "// prettier-ignore\n",
       "var _JSXTOOLS_RESIZE_OBSERVER=function(A){var t,i=new WeakMap,n=new WeakMap,a=new WeakMap,r=new WeakMap,o=new Set;function s(e){if(!(this instanceof s))throw new TypeError(\"Constructor requires 'new' operator\");i.set(this,e)}function h(){throw new TypeError(\"Function is not a constructor\")}function c(e,t,i,n){e=0 in arguments?Number(arguments[0]):0,t=1 in arguments?Number(arguments[1]):0,i=2 in arguments?Number(arguments[2]):0,n=3 in arguments?Number(arguments[3]):0,this.right=(this.x=this.left=e)+(this.width=i),this.bottom=(this.y=this.top=t)+(this.height=n),Object.freeze(this)}function d(){t=requestAnimationFrame(d);var s=new WeakMap,p=new Set;o.forEach((function(t){r.get(t).forEach((function(i){var r=t instanceof window.SVGElement,o=a.get(t),d=r?0:parseFloat(o.paddingTop),f=r?0:parseFloat(o.paddingRight),l=r?0:parseFloat(o.paddingBottom),u=r?0:parseFloat(o.paddingLeft),g=r?0:parseFloat(o.borderTopWidth),m=r?0:parseFloat(o.borderRightWidth),w=r?0:parseFloat(o.borderBottomWidth),b=u+f,F=d+l,v=(r?0:parseFloat(o.borderLeftWidth))+m,W=g+w,y=r?0:t.offsetHeight-W-t.clientHeight,E=r?0:t.offsetWidth-v-t.clientWidth,R=b+v,z=F+W,M=r?t.width:parseFloat(o.width)-R-E,O=r?t.height:parseFloat(o.height)-z-y;if(n.has(t)){var k=n.get(t);if(k[0]===M&&k[1]===O)return}n.set(t,[M,O]);var S=Object.create(h.prototype);S.target=t,S.contentRect=new c(u,d,M,O),s.has(i)||(s.set(i,[]),p.add(i)),s.get(i).push(S)}))})),p.forEach((function(e){i.get(e).call(e,s.get(e),e)}))}return s.prototype.observe=function(i){if(i instanceof window.Element){r.has(i)||(r.set(i,new Set),o.add(i),a.set(i,window.getComputedStyle(i)));var n=r.get(i);n.has(this)||n.add(this),cancelAnimationFrame(t),t=requestAnimationFrame(d)}},s.prototype.unobserve=function(i){if(i instanceof window.Element&&r.has(i)){var n=r.get(i);n.has(this)&&(n.delete(this),n.size||(r.delete(i),o.delete(i))),n.size||r.delete(i),o.size||cancelAnimationFrame(t)}},A.DOMRectReadOnly=c,A.ResizeObserver=s,A.ResizeObserverEntry=h,A}; // eslint-disable-line\n",
       "mpl.toolbar_items = [[\"Home\", \"Reset original view\", \"fa fa-home icon-home\", \"home\"], [\"Back\", \"Back to previous view\", \"fa fa-arrow-left icon-arrow-left\", \"back\"], [\"Forward\", \"Forward to next view\", \"fa fa-arrow-right icon-arrow-right\", \"forward\"], [\"\", \"\", \"\", \"\"], [\"Pan\", \"Left button pans, Right button zooms\\nx/y fixes axis, CTRL fixes aspect\", \"fa fa-arrows icon-move\", \"pan\"], [\"Zoom\", \"Zoom to rectangle\\nx/y fixes axis, CTRL fixes aspect\", \"fa fa-square-o icon-check-empty\", \"zoom\"], [\"\", \"\", \"\", \"\"], [\"Download\", \"Download plot\", \"fa fa-floppy-o icon-save\", \"download\"]];\n",
       "\n",
       "mpl.extensions = [\"eps\", \"jpeg\", \"pdf\", \"png\", \"ps\", \"raw\", \"svg\", \"tif\"];\n",
       "\n",
       "mpl.default_extension = \"png\";/* global mpl */\n",
       "\n",
       "var comm_websocket_adapter = function (comm) {\n",
       "    // Create a \"websocket\"-like object which calls the given IPython comm\n",
       "    // object with the appropriate methods. Currently this is a non binary\n",
       "    // socket, so there is still some room for performance tuning.\n",
       "    var ws = {};\n",
       "\n",
       "    ws.close = function () {\n",
       "        comm.close();\n",
       "    };\n",
       "    ws.send = function (m) {\n",
       "        //console.log('sending', m);\n",
       "        comm.send(m);\n",
       "    };\n",
       "    // Register the callback with on_msg.\n",
       "    comm.on_msg(function (msg) {\n",
       "        //console.log('receiving', msg['content']['data'], msg);\n",
       "        // Pass the mpl event to the overridden (by mpl) onmessage function.\n",
       "        ws.onmessage(msg['content']['data']);\n",
       "    });\n",
       "    return ws;\n",
       "};\n",
       "\n",
       "mpl.mpl_figure_comm = function (comm, msg) {\n",
       "    // This is the function which gets called when the mpl process\n",
       "    // starts-up an IPython Comm through the \"matplotlib\" channel.\n",
       "\n",
       "    var id = msg.content.data.id;\n",
       "    // Get hold of the div created by the display call when the Comm\n",
       "    // socket was opened in Python.\n",
       "    var element = document.getElementById(id);\n",
       "    var ws_proxy = comm_websocket_adapter(comm);\n",
       "\n",
       "    function ondownload(figure, _format) {\n",
       "        window.open(figure.canvas.toDataURL());\n",
       "    }\n",
       "\n",
       "    var fig = new mpl.figure(id, ws_proxy, ondownload, element);\n",
       "\n",
       "    // Call onopen now - mpl needs it, as it is assuming we've passed it a real\n",
       "    // web socket which is closed, not our websocket->open comm proxy.\n",
       "    ws_proxy.onopen();\n",
       "\n",
       "    fig.parent_element = element;\n",
       "    fig.cell_info = mpl.find_output_cell(\"<div id='\" + id + \"'></div>\");\n",
       "    if (!fig.cell_info) {\n",
       "        console.error('Failed to find cell for figure', id, fig);\n",
       "        return;\n",
       "    }\n",
       "    fig.cell_info[0].output_area.element.on(\n",
       "        'cleared',\n",
       "        { fig: fig },\n",
       "        fig._remove_fig_handler\n",
       "    );\n",
       "};\n",
       "\n",
       "mpl.figure.prototype.handle_close = function (fig, msg) {\n",
       "    var width = fig.canvas.width / fig.ratio;\n",
       "    fig.cell_info[0].output_area.element.off(\n",
       "        'cleared',\n",
       "        fig._remove_fig_handler\n",
       "    );\n",
       "    fig.resizeObserverInstance.unobserve(fig.canvas_div);\n",
       "\n",
       "    // Update the output cell to use the data from the current canvas.\n",
       "    fig.push_to_output();\n",
       "    var dataURL = fig.canvas.toDataURL();\n",
       "    // Re-enable the keyboard manager in IPython - without this line, in FF,\n",
       "    // the notebook keyboard shortcuts fail.\n",
       "    IPython.keyboard_manager.enable();\n",
       "    fig.parent_element.innerHTML =\n",
       "        '<img src=\"' + dataURL + '\" width=\"' + width + '\">';\n",
       "    fig.close_ws(fig, msg);\n",
       "};\n",
       "\n",
       "mpl.figure.prototype.close_ws = function (fig, msg) {\n",
       "    fig.send_message('closing', msg);\n",
       "    // fig.ws.close()\n",
       "};\n",
       "\n",
       "mpl.figure.prototype.push_to_output = function (_remove_interactive) {\n",
       "    // Turn the data on the canvas into data in the output cell.\n",
       "    var width = this.canvas.width / this.ratio;\n",
       "    var dataURL = this.canvas.toDataURL();\n",
       "    this.cell_info[1]['text/html'] =\n",
       "        '<img src=\"' + dataURL + '\" width=\"' + width + '\">';\n",
       "};\n",
       "\n",
       "mpl.figure.prototype.updated_canvas_event = function () {\n",
       "    // Tell IPython that the notebook contents must change.\n",
       "    IPython.notebook.set_dirty(true);\n",
       "    this.send_message('ack', {});\n",
       "    var fig = this;\n",
       "    // Wait a second, then push the new image to the DOM so\n",
       "    // that it is saved nicely (might be nice to debounce this).\n",
       "    setTimeout(function () {\n",
       "        fig.push_to_output();\n",
       "    }, 1000);\n",
       "};\n",
       "\n",
       "mpl.figure.prototype._init_toolbar = function () {\n",
       "    var fig = this;\n",
       "\n",
       "    var toolbar = document.createElement('div');\n",
       "    toolbar.classList = 'btn-toolbar';\n",
       "    this.root.appendChild(toolbar);\n",
       "\n",
       "    function on_click_closure(name) {\n",
       "        return function (_event) {\n",
       "            return fig.toolbar_button_onclick(name);\n",
       "        };\n",
       "    }\n",
       "\n",
       "    function on_mouseover_closure(tooltip) {\n",
       "        return function (event) {\n",
       "            if (!event.currentTarget.disabled) {\n",
       "                return fig.toolbar_button_onmouseover(tooltip);\n",
       "            }\n",
       "        };\n",
       "    }\n",
       "\n",
       "    fig.buttons = {};\n",
       "    var buttonGroup = document.createElement('div');\n",
       "    buttonGroup.classList = 'btn-group';\n",
       "    var button;\n",
       "    for (var toolbar_ind in mpl.toolbar_items) {\n",
       "        var name = mpl.toolbar_items[toolbar_ind][0];\n",
       "        var tooltip = mpl.toolbar_items[toolbar_ind][1];\n",
       "        var image = mpl.toolbar_items[toolbar_ind][2];\n",
       "        var method_name = mpl.toolbar_items[toolbar_ind][3];\n",
       "\n",
       "        if (!name) {\n",
       "            /* Instead of a spacer, we start a new button group. */\n",
       "            if (buttonGroup.hasChildNodes()) {\n",
       "                toolbar.appendChild(buttonGroup);\n",
       "            }\n",
       "            buttonGroup = document.createElement('div');\n",
       "            buttonGroup.classList = 'btn-group';\n",
       "            continue;\n",
       "        }\n",
       "\n",
       "        button = fig.buttons[name] = document.createElement('button');\n",
       "        button.classList = 'btn btn-default';\n",
       "        button.href = '#';\n",
       "        button.title = name;\n",
       "        button.innerHTML = '<i class=\"fa ' + image + ' fa-lg\"></i>';\n",
       "        button.addEventListener('click', on_click_closure(method_name));\n",
       "        button.addEventListener('mouseover', on_mouseover_closure(tooltip));\n",
       "        buttonGroup.appendChild(button);\n",
       "    }\n",
       "\n",
       "    if (buttonGroup.hasChildNodes()) {\n",
       "        toolbar.appendChild(buttonGroup);\n",
       "    }\n",
       "\n",
       "    // Add the status bar.\n",
       "    var status_bar = document.createElement('span');\n",
       "    status_bar.classList = 'mpl-message pull-right';\n",
       "    toolbar.appendChild(status_bar);\n",
       "    this.message = status_bar;\n",
       "\n",
       "    // Add the close button to the window.\n",
       "    var buttongrp = document.createElement('div');\n",
       "    buttongrp.classList = 'btn-group inline pull-right';\n",
       "    button = document.createElement('button');\n",
       "    button.classList = 'btn btn-mini btn-primary';\n",
       "    button.href = '#';\n",
       "    button.title = 'Stop Interaction';\n",
       "    button.innerHTML = '<i class=\"fa fa-power-off icon-remove icon-large\"></i>';\n",
       "    button.addEventListener('click', function (_evt) {\n",
       "        fig.handle_close(fig, {});\n",
       "    });\n",
       "    button.addEventListener(\n",
       "        'mouseover',\n",
       "        on_mouseover_closure('Stop Interaction')\n",
       "    );\n",
       "    buttongrp.appendChild(button);\n",
       "    var titlebar = this.root.querySelector('.ui-dialog-titlebar');\n",
       "    titlebar.insertBefore(buttongrp, titlebar.firstChild);\n",
       "};\n",
       "\n",
       "mpl.figure.prototype._remove_fig_handler = function (event) {\n",
       "    var fig = event.data.fig;\n",
       "    if (event.target !== this) {\n",
       "        // Ignore bubbled events from children.\n",
       "        return;\n",
       "    }\n",
       "    fig.close_ws(fig, {});\n",
       "};\n",
       "\n",
       "mpl.figure.prototype._root_extra_style = function (el) {\n",
       "    el.style.boxSizing = 'content-box'; // override notebook setting of border-box.\n",
       "};\n",
       "\n",
       "mpl.figure.prototype._canvas_extra_style = function (el) {\n",
       "    // this is important to make the div 'focusable\n",
       "    el.setAttribute('tabindex', 0);\n",
       "    // reach out to IPython and tell the keyboard manager to turn it's self\n",
       "    // off when our div gets focus\n",
       "\n",
       "    // location in version 3\n",
       "    if (IPython.notebook.keyboard_manager) {\n",
       "        IPython.notebook.keyboard_manager.register_events(el);\n",
       "    } else {\n",
       "        // location in version 2\n",
       "        IPython.keyboard_manager.register_events(el);\n",
       "    }\n",
       "};\n",
       "\n",
       "mpl.figure.prototype._key_event_extra = function (event, _name) {\n",
       "    var manager = IPython.notebook.keyboard_manager;\n",
       "    if (!manager) {\n",
       "        manager = IPython.keyboard_manager;\n",
       "    }\n",
       "\n",
       "    // Check for shift+enter\n",
       "    if (event.shiftKey && event.which === 13) {\n",
       "        this.canvas_div.blur();\n",
       "        // select the cell after this one\n",
       "        var index = IPython.notebook.find_cell_index(this.cell_info[0]);\n",
       "        IPython.notebook.select(index + 1);\n",
       "    }\n",
       "};\n",
       "\n",
       "mpl.figure.prototype.handle_save = function (fig, _msg) {\n",
       "    fig.ondownload(fig, null);\n",
       "};\n",
       "\n",
       "mpl.find_output_cell = function (html_output) {\n",
       "    // Return the cell and output element which can be found *uniquely* in the notebook.\n",
       "    // Note - this is a bit hacky, but it is done because the \"notebook_saving.Notebook\"\n",
       "    // IPython event is triggered only after the cells have been serialised, which for\n",
       "    // our purposes (turning an active figure into a static one), is too late.\n",
       "    var cells = IPython.notebook.get_cells();\n",
       "    var ncells = cells.length;\n",
       "    for (var i = 0; i < ncells; i++) {\n",
       "        var cell = cells[i];\n",
       "        if (cell.cell_type === 'code') {\n",
       "            for (var j = 0; j < cell.output_area.outputs.length; j++) {\n",
       "                var data = cell.output_area.outputs[j];\n",
       "                if (data.data) {\n",
       "                    // IPython >= 3 moved mimebundle to data attribute of output\n",
       "                    data = data.data;\n",
       "                }\n",
       "                if (data['text/html'] === html_output) {\n",
       "                    return [cell, data, j];\n",
       "                }\n",
       "            }\n",
       "        }\n",
       "    }\n",
       "};\n",
       "\n",
       "// Register the function which deals with the matplotlib target/channel.\n",
       "// The kernel may be null if the page has been refreshed.\n",
       "if (IPython.notebook.kernel !== null) {\n",
       "    IPython.notebook.kernel.comm_manager.register_target(\n",
       "        'matplotlib',\n",
       "        mpl.mpl_figure_comm\n",
       "    );\n",
       "}\n"
      ],
      "text/plain": [
       "<IPython.core.display.Javascript object>"
      ]
     },
     "metadata": {},
     "output_type": "display_data"
    },
    {
     "data": {
      "text/html": [
       "<img src=\"data:image/png;base64,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\" width=\"640\">"
      ],
      "text/plain": [
       "<IPython.core.display.HTML object>"
      ]
     },
     "metadata": {},
     "output_type": "display_data"
    },
    {
     "name": "stderr",
     "output_type": "stream",
     "text": [
      "WARNING:absl:No GPU/TPU found, falling back to CPU. (Set TF_CPP_MIN_LOG_LEVEL=0 and rerun for more info.)\n"
     ]
    },
    {
     "data": {
      "text/plain": [
       "[<matplotlib.lines.Line2D at 0x286a39285b0>]"
      ]
     },
     "execution_count": 6,
     "metadata": {},
     "output_type": "execute_result"
    }
   ],
   "source": [
    "plt.figure()\n",
    "plt.plot(func(jnp.linspace(-5, 5, 100)))\n",
    "# Need jax.vmap to vectorize the function\n",
    "plt.plot(jax.vmap(func_grad)(jnp.linspace(-5, 5, 100)))"
   ]
  },
  {
   "cell_type": "markdown",
   "id": "44939440",
   "metadata": {},
   "source": [
    "---"
   ]
  },
  {
   "cell_type": "markdown",
   "id": "baf89e72",
   "metadata": {},
   "source": [
    "### sympy testing"
   ]
  },
  {
   "cell_type": "code",
   "execution_count": 3,
   "id": "52f27ee1",
   "metadata": {},
   "outputs": [],
   "source": [
    "E_b, R_p, beta = sympy.symbols('E_{b} R_{p} beta')"
   ]
  },
  {
   "cell_type": "code",
   "execution_count": 48,
   "id": "1168d10a",
   "metadata": {
    "scrolled": true
   },
   "outputs": [],
   "source": [
    "equation = parse_latex(r\"0.089 E_b \\log \\left(\\frac{R_p}{1-\\beta} \\right)^{0.4}\")"
   ]
  },
  {
   "cell_type": "code",
   "execution_count": 51,
   "id": "cbb5e57f",
   "metadata": {
    "scrolled": false
   },
   "outputs": [
    {
     "data": {
      "text/plain": [
       "([(0.089*(E_{b}*log(R_{p}/(1 - beta), 10)**0.4), ((0.089, 0.0), (1, 1), ()))],\n",
       " [E_{b}, log(R_{p}/(1 - beta), 10)**0.4])"
      ]
     },
     "execution_count": 51,
     "metadata": {},
     "output_type": "execute_result"
    }
   ],
   "source": [
    "equation.as_terms()"
   ]
  },
  {
   "cell_type": "code",
   "execution_count": 6,
   "id": "17a3b48b",
   "metadata": {
    "scrolled": true
   },
   "outputs": [
    {
     "data": {
      "text/plain": [
       "{E_{b}, R_{p}, beta}"
      ]
     },
     "execution_count": 6,
     "metadata": {},
     "output_type": "execute_result"
    }
   ],
   "source": [
    "equation.free_symbols"
   ]
  },
  {
   "cell_type": "code",
   "execution_count": 7,
   "id": "4c90d000",
   "metadata": {
    "scrolled": false
   },
   "outputs": [
    {
     "data": {
      "text/latex": [
       "$\\displaystyle 0.0768635061536114$"
      ],
      "text/plain": [
       "0.0768635061536114"
      ]
     },
     "execution_count": 7,
     "metadata": {},
     "output_type": "execute_result"
    }
   ],
   "source": [
    "equation.subs({'E_{b}': 1.0,\n",
    "               'R_{p}': 1.0,\n",
    "               'beta': 0.5})"
   ]
  },
  {
   "cell_type": "code",
   "execution_count": 36,
   "id": "f9a53f6f",
   "metadata": {},
   "outputs": [],
   "source": [
    "from sympy.abc import x\n",
    "from sympy import log"
   ]
  },
  {
   "cell_type": "code",
   "execution_count": 37,
   "id": "87bbc8c1",
   "metadata": {},
   "outputs": [],
   "source": [
    "# x = sympy.symbols('x')\n",
    "f = sympy.lambdify(x, log(x))"
   ]
  },
  {
   "cell_type": "code",
   "execution_count": 54,
   "id": "e2008b71",
   "metadata": {},
   "outputs": [],
   "source": [
    "expr = parse_latex(r\"\\log(x)\")"
   ]
  },
  {
   "cell_type": "code",
   "execution_count": 55,
   "id": "cbb8ee86",
   "metadata": {},
   "outputs": [
    {
     "data": {
      "text/plain": [
       "([(log(x, 10), ((1.0, 0.0), (1,), ()))], [log(x, 10)])"
      ]
     },
     "execution_count": 55,
     "metadata": {},
     "output_type": "execute_result"
    }
   ],
   "source": [
    "expr.as_terms()"
   ]
  },
  {
   "cell_type": "code",
   "execution_count": 57,
   "id": "d7bfc6cb",
   "metadata": {},
   "outputs": [],
   "source": [
    "f = sympy.lambdify(x, expr)"
   ]
  },
  {
   "cell_type": "code",
   "execution_count": 15,
   "id": "293a8d4d",
   "metadata": {},
   "outputs": [],
   "source": [
    "import math"
   ]
  },
  {
   "cell_type": "code",
   "execution_count": 24,
   "id": "909ed553",
   "metadata": {},
   "outputs": [],
   "source": [
    "f = sympy.lambdify((E_b, R_p, beta), equation, modules=[{'log': math.log}, jnp])"
   ]
  },
  {
   "cell_type": "code",
   "execution_count": 28,
   "id": "372e1084",
   "metadata": {},
   "outputs": [
    {
     "data": {
      "text/plain": [
       "DeviceArray([0.], dtype=float32)"
      ]
     },
     "execution_count": 28,
     "metadata": {},
     "output_type": "execute_result"
    }
   ],
   "source": [
    "f(jnp.ones(1), jnp.ones(1), jnp.zeros(1))"
   ]
  },
  {
   "cell_type": "code",
   "execution_count": 124,
   "id": "664b56d1",
   "metadata": {},
   "outputs": [],
   "source": [
    "p1, p2 = sympy.symbols(\"m p\")\n",
    "eq = parse_latex(r\"\\frac{m}{p}\")"
   ]
  },
  {
   "cell_type": "code",
   "execution_count": 125,
   "id": "da6c975c",
   "metadata": {},
   "outputs": [],
   "source": [
    "mod = sympy2jax.SymbolicModule(eq)"
   ]
  },
  {
   "cell_type": "code",
   "execution_count": 126,
   "id": "25458f2d",
   "metadata": {
    "collapsed": true
   },
   "outputs": [
    {
     "ename": "KeyError",
     "evalue": "'Missing input for symbol m'",
     "output_type": "error",
     "traceback": [
      "\u001b[0;31m---------------------------------------------------------------------------\u001b[0m",
      "\u001b[0;31mKeyError\u001b[0m                                  Traceback (most recent call last)",
      "File \u001b[0;32m~/opt/miniconda3/envs/python3/lib/python3.10/site-packages/sympy2jax/sympy_module.py:191\u001b[0m, in \u001b[0;36m_Func.__call__\u001b[0;34m(self, memodict)\u001b[0m\n\u001b[1;32m    190\u001b[0m \u001b[38;5;28;01mtry\u001b[39;00m:\n\u001b[0;32m--> 191\u001b[0m     arg_call \u001b[38;5;241m=\u001b[39m \u001b[43mmemodict\u001b[49m\u001b[43m[\u001b[49m\u001b[43marg\u001b[49m\u001b[43m]\u001b[49m\n\u001b[1;32m    192\u001b[0m \u001b[38;5;28;01mexcept\u001b[39;00m \u001b[38;5;167;01mKeyError\u001b[39;00m:\n",
      "\u001b[0;31mKeyError\u001b[0m: _Symbol(_name='m')",
      "\nDuring handling of the above exception, another exception occurred:\n",
      "\u001b[0;31mKeyError\u001b[0m                                  Traceback (most recent call last)",
      "File \u001b[0;32m~/opt/miniconda3/envs/python3/lib/python3.10/site-packages/sympy2jax/sympy_module.py:109\u001b[0m, in \u001b[0;36m_Symbol.__call__\u001b[0;34m(self, memodict)\u001b[0m\n\u001b[1;32m    108\u001b[0m \u001b[38;5;28;01mtry\u001b[39;00m:\n\u001b[0;32m--> 109\u001b[0m     \u001b[38;5;28;01mreturn\u001b[39;00m \u001b[43mmemodict\u001b[49m\u001b[43m[\u001b[49m\u001b[38;5;28;43mself\u001b[39;49m\u001b[38;5;241;43m.\u001b[39;49m\u001b[43m_name\u001b[49m\u001b[43m]\u001b[49m\n\u001b[1;32m    110\u001b[0m \u001b[38;5;28;01mexcept\u001b[39;00m \u001b[38;5;167;01mKeyError\u001b[39;00m \u001b[38;5;28;01mas\u001b[39;00m e:\n",
      "\u001b[0;31mKeyError\u001b[0m: 'm'",
      "\nThe above exception was the direct cause of the following exception:\n",
      "\u001b[0;31mKeyError\u001b[0m                                  Traceback (most recent call last)",
      "Input \u001b[0;32mIn [126]\u001b[0m, in \u001b[0;36m<cell line: 1>\u001b[0;34m()\u001b[0m\n\u001b[0;32m----> 1\u001b[0m \u001b[43mmod\u001b[49m\u001b[43m(\u001b[49m\u001b[43mp1\u001b[49m\u001b[38;5;241;43m=\u001b[39;49m\u001b[38;5;241;43m1.0\u001b[39;49m\u001b[43m,\u001b[49m\u001b[43m \u001b[49m\u001b[43mp2\u001b[49m\u001b[38;5;241;43m=\u001b[39;49m\u001b[38;5;241;43m0.5\u001b[39;49m\u001b[43m)\u001b[49m\n",
      "File \u001b[0;32m~/opt/miniconda3/envs/python3/lib/python3.10/site-packages/sympy2jax/sympy_module.py:271\u001b[0m, in \u001b[0;36mSymbolicModule.__call__\u001b[0;34m(self, **symbols)\u001b[0m\n\u001b[1;32m    269\u001b[0m \u001b[38;5;28;01mdef\u001b[39;00m \u001b[38;5;21m__call__\u001b[39m(\u001b[38;5;28mself\u001b[39m, \u001b[38;5;241m*\u001b[39m\u001b[38;5;241m*\u001b[39msymbols):\n\u001b[1;32m    270\u001b[0m     memodict \u001b[38;5;241m=\u001b[39m symbols\n\u001b[0;32m--> 271\u001b[0m     \u001b[38;5;28;01mreturn\u001b[39;00m \u001b[43mjax\u001b[49m\u001b[38;5;241;43m.\u001b[39;49m\u001b[43mtree_map\u001b[49m\u001b[43m(\u001b[49m\u001b[38;5;28;43;01mlambda\u001b[39;49;00m\u001b[43m \u001b[49m\u001b[43mn\u001b[49m\u001b[43m:\u001b[49m\u001b[43m \u001b[49m\u001b[43mn\u001b[49m\u001b[43m(\u001b[49m\u001b[43mmemodict\u001b[49m\u001b[43m)\u001b[49m\u001b[43m,\u001b[49m\u001b[43m \u001b[49m\u001b[38;5;28;43mself\u001b[39;49m\u001b[38;5;241;43m.\u001b[39;49m\u001b[43mnodes\u001b[49m\u001b[43m,\u001b[49m\u001b[43m \u001b[49m\u001b[43mis_leaf\u001b[49m\u001b[38;5;241;43m=\u001b[39;49m\u001b[43m_is_node\u001b[49m\u001b[43m)\u001b[49m\n",
      "File \u001b[0;32m~/opt/miniconda3/envs/python3/lib/python3.10/site-packages/jax/_src/tree_util.py:535\u001b[0m, in \u001b[0;36m_deprecate.<locals>.wrapped\u001b[0;34m(*args, **kwargs)\u001b[0m\n\u001b[1;32m    530\u001b[0m \u001b[38;5;129m@functools\u001b[39m\u001b[38;5;241m.\u001b[39mwraps(f)\n\u001b[1;32m    531\u001b[0m \u001b[38;5;28;01mdef\u001b[39;00m \u001b[38;5;21mwrapped\u001b[39m(\u001b[38;5;241m*\u001b[39margs, \u001b[38;5;241m*\u001b[39m\u001b[38;5;241m*\u001b[39mkwargs):\n\u001b[1;32m    532\u001b[0m   warnings\u001b[38;5;241m.\u001b[39mwarn(\u001b[38;5;124mf\u001b[39m\u001b[38;5;124m\"\u001b[39m\u001b[38;5;124mjax.\u001b[39m\u001b[38;5;132;01m{\u001b[39;00mf\u001b[38;5;241m.\u001b[39m\u001b[38;5;18m__name__\u001b[39m\u001b[38;5;132;01m}\u001b[39;00m\u001b[38;5;124m is deprecated, and will be removed in a future release. \u001b[39m\u001b[38;5;124m\"\u001b[39m\n\u001b[1;32m    533\u001b[0m                 \u001b[38;5;124mf\u001b[39m\u001b[38;5;124m\"\u001b[39m\u001b[38;5;124mUse jax.tree_util.\u001b[39m\u001b[38;5;132;01m{\u001b[39;00mf\u001b[38;5;241m.\u001b[39m\u001b[38;5;18m__name__\u001b[39m\u001b[38;5;132;01m}\u001b[39;00m\u001b[38;5;124m instead.\u001b[39m\u001b[38;5;124m\"\u001b[39m,\n\u001b[1;32m    534\u001b[0m                 category\u001b[38;5;241m=\u001b[39m\u001b[38;5;167;01mFutureWarning\u001b[39;00m, stacklevel\u001b[38;5;241m=\u001b[39m\u001b[38;5;241m2\u001b[39m)\n\u001b[0;32m--> 535\u001b[0m   \u001b[38;5;28;01mreturn\u001b[39;00m \u001b[43mf\u001b[49m\u001b[43m(\u001b[49m\u001b[38;5;241;43m*\u001b[39;49m\u001b[43margs\u001b[49m\u001b[43m,\u001b[49m\u001b[43m \u001b[49m\u001b[38;5;241;43m*\u001b[39;49m\u001b[38;5;241;43m*\u001b[39;49m\u001b[43mkwargs\u001b[49m\u001b[43m)\u001b[49m\n",
      "File \u001b[0;32m~/opt/miniconda3/envs/python3/lib/python3.10/site-packages/jax/_src/tree_util.py:201\u001b[0m, in \u001b[0;36mtree_map\u001b[0;34m(f, tree, is_leaf, *rest)\u001b[0m\n\u001b[1;32m    199\u001b[0m leaves, treedef \u001b[38;5;241m=\u001b[39m tree_flatten(tree, is_leaf)\n\u001b[1;32m    200\u001b[0m all_leaves \u001b[38;5;241m=\u001b[39m [leaves] \u001b[38;5;241m+\u001b[39m [treedef\u001b[38;5;241m.\u001b[39mflatten_up_to(r) \u001b[38;5;28;01mfor\u001b[39;00m r \u001b[38;5;129;01min\u001b[39;00m rest]\n\u001b[0;32m--> 201\u001b[0m \u001b[38;5;28;01mreturn\u001b[39;00m \u001b[43mtreedef\u001b[49m\u001b[38;5;241;43m.\u001b[39;49m\u001b[43munflatten\u001b[49m\u001b[43m(\u001b[49m\u001b[43mf\u001b[49m\u001b[43m(\u001b[49m\u001b[38;5;241;43m*\u001b[39;49m\u001b[43mxs\u001b[49m\u001b[43m)\u001b[49m\u001b[43m \u001b[49m\u001b[38;5;28;43;01mfor\u001b[39;49;00m\u001b[43m \u001b[49m\u001b[43mxs\u001b[49m\u001b[43m \u001b[49m\u001b[38;5;129;43;01min\u001b[39;49;00m\u001b[43m \u001b[49m\u001b[38;5;28;43mzip\u001b[39;49m\u001b[43m(\u001b[49m\u001b[38;5;241;43m*\u001b[39;49m\u001b[43mall_leaves\u001b[49m\u001b[43m)\u001b[49m\u001b[43m)\u001b[49m\n",
      "File \u001b[0;32m~/opt/miniconda3/envs/python3/lib/python3.10/site-packages/jax/_src/tree_util.py:201\u001b[0m, in \u001b[0;36m<genexpr>\u001b[0;34m(.0)\u001b[0m\n\u001b[1;32m    199\u001b[0m leaves, treedef \u001b[38;5;241m=\u001b[39m tree_flatten(tree, is_leaf)\n\u001b[1;32m    200\u001b[0m all_leaves \u001b[38;5;241m=\u001b[39m [leaves] \u001b[38;5;241m+\u001b[39m [treedef\u001b[38;5;241m.\u001b[39mflatten_up_to(r) \u001b[38;5;28;01mfor\u001b[39;00m r \u001b[38;5;129;01min\u001b[39;00m rest]\n\u001b[0;32m--> 201\u001b[0m \u001b[38;5;28;01mreturn\u001b[39;00m treedef\u001b[38;5;241m.\u001b[39munflatten(\u001b[43mf\u001b[49m\u001b[43m(\u001b[49m\u001b[38;5;241;43m*\u001b[39;49m\u001b[43mxs\u001b[49m\u001b[43m)\u001b[49m \u001b[38;5;28;01mfor\u001b[39;00m xs \u001b[38;5;129;01min\u001b[39;00m \u001b[38;5;28mzip\u001b[39m(\u001b[38;5;241m*\u001b[39mall_leaves))\n",
      "File \u001b[0;32m~/opt/miniconda3/envs/python3/lib/python3.10/site-packages/sympy2jax/sympy_module.py:271\u001b[0m, in \u001b[0;36mSymbolicModule.__call__.<locals>.<lambda>\u001b[0;34m(n)\u001b[0m\n\u001b[1;32m    269\u001b[0m \u001b[38;5;28;01mdef\u001b[39;00m \u001b[38;5;21m__call__\u001b[39m(\u001b[38;5;28mself\u001b[39m, \u001b[38;5;241m*\u001b[39m\u001b[38;5;241m*\u001b[39msymbols):\n\u001b[1;32m    270\u001b[0m     memodict \u001b[38;5;241m=\u001b[39m symbols\n\u001b[0;32m--> 271\u001b[0m     \u001b[38;5;28;01mreturn\u001b[39;00m jax\u001b[38;5;241m.\u001b[39mtree_map(\u001b[38;5;28;01mlambda\u001b[39;00m n: \u001b[43mn\u001b[49m\u001b[43m(\u001b[49m\u001b[43mmemodict\u001b[49m\u001b[43m)\u001b[49m, \u001b[38;5;28mself\u001b[39m\u001b[38;5;241m.\u001b[39mnodes, is_leaf\u001b[38;5;241m=\u001b[39m_is_node)\n",
      "File \u001b[0;32m~/opt/miniconda3/envs/python3/lib/python3.10/site-packages/sympy2jax/sympy_module.py:193\u001b[0m, in \u001b[0;36m_Func.__call__\u001b[0;34m(self, memodict)\u001b[0m\n\u001b[1;32m    191\u001b[0m     arg_call \u001b[38;5;241m=\u001b[39m memodict[arg]\n\u001b[1;32m    192\u001b[0m \u001b[38;5;28;01mexcept\u001b[39;00m \u001b[38;5;167;01mKeyError\u001b[39;00m:\n\u001b[0;32m--> 193\u001b[0m     arg_call \u001b[38;5;241m=\u001b[39m \u001b[43marg\u001b[49m\u001b[43m(\u001b[49m\u001b[43mmemodict\u001b[49m\u001b[43m)\u001b[49m\n\u001b[1;32m    194\u001b[0m     memodict[arg] \u001b[38;5;241m=\u001b[39m arg_call\n\u001b[1;32m    195\u001b[0m args\u001b[38;5;241m.\u001b[39mappend(arg_call)\n",
      "File \u001b[0;32m~/opt/miniconda3/envs/python3/lib/python3.10/site-packages/sympy2jax/sympy_module.py:111\u001b[0m, in \u001b[0;36m_Symbol.__call__\u001b[0;34m(self, memodict)\u001b[0m\n\u001b[1;32m    109\u001b[0m     \u001b[38;5;28;01mreturn\u001b[39;00m memodict[\u001b[38;5;28mself\u001b[39m\u001b[38;5;241m.\u001b[39m_name]\n\u001b[1;32m    110\u001b[0m \u001b[38;5;28;01mexcept\u001b[39;00m \u001b[38;5;167;01mKeyError\u001b[39;00m \u001b[38;5;28;01mas\u001b[39;00m e:\n\u001b[0;32m--> 111\u001b[0m     \u001b[38;5;28;01mraise\u001b[39;00m \u001b[38;5;167;01mKeyError\u001b[39;00m(\u001b[38;5;124mf\u001b[39m\u001b[38;5;124m\"\u001b[39m\u001b[38;5;124mMissing input for symbol \u001b[39m\u001b[38;5;132;01m{\u001b[39;00m\u001b[38;5;28mself\u001b[39m\u001b[38;5;241m.\u001b[39m_name\u001b[38;5;132;01m}\u001b[39;00m\u001b[38;5;124m\"\u001b[39m) \u001b[38;5;28;01mfrom\u001b[39;00m \u001b[38;5;21;01me\u001b[39;00m\n",
      "\u001b[0;31mKeyError\u001b[0m: 'Missing input for symbol m'"
     ]
    }
   ],
   "source": [
    "mod(p1=1.0, p2=0.5)"
   ]
  },
  {
   "cell_type": "code",
   "execution_count": 68,
   "id": "6a195ad2",
   "metadata": {},
   "outputs": [],
   "source": [
    "[a, b] = sympy.symbols('a_d b_d')"
   ]
  },
  {
   "cell_type": "code",
   "execution_count": 70,
   "id": "677a0930",
   "metadata": {},
   "outputs": [],
   "source": [
    "asdf = a/b"
   ]
  },
  {
   "cell_type": "markdown",
   "id": "7b9baa1f",
   "metadata": {},
   "source": [
    "# Fundamental parameters"
   ]
  },
  {
   "cell_type": "markdown",
   "id": "5458a16c",
   "metadata": {},
   "source": [
    "I'm filling out the parameters as I go along"
   ]
  },
  {
   "cell_type": "code",
   "execution_count": 147,
   "id": "0a710d67",
   "metadata": {},
   "outputs": [],
   "source": [
    "# Machine / engineering parameters\n",
    "[Eb,\n",
    " Rp,\n",
    " beta,\n",
    " B_m,\n",
    " B_p,\n",
    " r_b,\n",
    " L_p,\n",
    "] = sympy.symbols('Eb '\n",
    "                  'Rp '\n",
    "                  'beta '\n",
    "                  'B_m '\n",
    "                  'B_p '\n",
    "                  'r_b '\n",
    "                  'L_p ')\n",
    "\n",
    "# Physics parameters?\n",
    "[mu,\n",
    " E_i,\n",
    " Z_eff,\n",
    " I_cooling,\n",
    " sigmav_DT,\n",
    " sigmav_DD,\n",
    " tau_alpha\n",
    "] = sympy.symbols('mu '\n",
    "                  'E_i '\n",
    "                  'Z_eff '\n",
    "                  'I_cooling '\n",
    "                  'sigmav_DT '\n",
    "                  'sigmav_DD '\n",
    "                  'tau_alpha')"
   ]
  },
  {
   "cell_type": "markdown",
   "id": "973e1b19",
   "metadata": {},
   "source": [
    "# Constants"
   ]
  },
  {
   "cell_type": "code",
   "execution_count": 148,
   "id": "6c107196",
   "metadata": {},
   "outputs": [],
   "source": [
    "E_alpha = 3.5  # MeV"
   ]
  },
  {
   "cell_type": "markdown",
   "id": "b1d21492",
   "metadata": {},
   "source": [
    "# General formulae"
   ]
  },
  {
   "cell_type": "markdown",
   "id": "686a64d0",
   "metadata": {},
   "source": [
    "Ion temperature"
   ]
  },
  {
   "cell_type": "code",
   "execution_count": 90,
   "id": "2bf0d210",
   "metadata": {},
   "outputs": [],
   "source": [
    "Ti = 2/3 * Eb"
   ]
  },
  {
   "cell_type": "markdown",
   "id": "2974ad8b",
   "metadata": {},
   "source": [
    "# Derived quantities"
   ]
  },
  {
   "cell_type": "markdown",
   "id": "781897b3",
   "metadata": {},
   "source": [
    "Electron temperature \n",
    "$T_e = 0.089 E_b \\log \\left( R_p \\right)^{0.4} = 0.089 E_b \\log \\left(\\frac{R_p}{1-\\beta} \\right)^{0.4}$"
   ]
  },
  {
   "cell_type": "code",
   "execution_count": 80,
   "id": "b393f081",
   "metadata": {
    "scrolled": false
   },
   "outputs": [
    {
     "data": {
      "text/latex": [
       "$\\displaystyle 0.089 Eb \\log{\\left(\\frac{Rp}{1 - \\beta} \\right)}^{0.4}$"
      ],
      "text/plain": [
       "0.089*Eb*log(Rp/(1 - beta))**0.4"
      ]
     },
     "execution_count": 80,
     "metadata": {},
     "output_type": "execute_result"
    }
   ],
   "source": [
    "Te = 0.089 * Eb * (sympy.log(Rp / (1 - beta)) ** 0.4); Te"
   ]
  },
  {
   "cell_type": "markdown",
   "id": "6c4688a2",
   "metadata": {},
   "source": [
    "## End cells / plugs"
   ]
  },
  {
   "cell_type": "markdown",
   "id": "976dd724",
   "metadata": {},
   "source": [
    "Mirror ratio $R_{\\text{plug}} = \\frac{B_m}{B_p}$"
   ]
  },
  {
   "cell_type": "code",
   "execution_count": 81,
   "id": "01aad8f7",
   "metadata": {},
   "outputs": [
    {
     "data": {
      "text/latex": [
       "$\\displaystyle \\frac{B_{m}}{B_{p}}$"
      ],
      "text/plain": [
       "B_m/B_p"
      ]
     },
     "execution_count": 81,
     "metadata": {},
     "output_type": "execute_result"
    }
   ],
   "source": [
    "R_plug = B_m / B_p; R_plug"
   ]
  },
  {
   "cell_type": "markdown",
   "id": "57283501",
   "metadata": {},
   "source": [
    "Radius at midplane $a_{\\text{plug}} = r_b \\sqrt{\\frac{B_m}{B_p}} = r_b \\sqrt{R_{plug}}$"
   ]
  },
  {
   "cell_type": "code",
   "execution_count": 82,
   "id": "3e449660",
   "metadata": {},
   "outputs": [
    {
     "data": {
      "text/latex": [
       "$\\displaystyle r_{b} \\sqrt{\\frac{B_{m}}{B_{p}}}$"
      ],
      "text/plain": [
       "r_b*sqrt(B_m/B_p)"
      ]
     },
     "execution_count": 82,
     "metadata": {},
     "output_type": "execute_result"
    }
   ],
   "source": [
    "a_plug = r_b * sympy.sqrt(R_plug); a_plug"
   ]
  },
  {
   "cell_type": "markdown",
   "id": "51efbc2c",
   "metadata": {},
   "source": [
    "Volume $V_p = L_p \\pi a_p^2$"
   ]
  },
  {
   "cell_type": "code",
   "execution_count": 84,
   "id": "eef60532",
   "metadata": {},
   "outputs": [
    {
     "data": {
      "text/latex": [
       "$\\displaystyle \\frac{\\pi B_{m} L_{p} r_{b}^{2}}{B_{p}}$"
      ],
      "text/plain": [
       "pi*B_m*L_p*r_b**2/B_p"
      ]
     },
     "execution_count": 84,
     "metadata": {},
     "output_type": "execute_result"
    }
   ],
   "source": [
    "V_p = L_p * sympy.pi * a_plug ** 2; V_p"
   ]
  },
  {
   "cell_type": "markdown",
   "id": "25666877",
   "metadata": {},
   "source": [
    "Density at a given beta: $n_{\\text{plug}} = B_p^2 \\frac{\\beta_{\\text{limit}}}{2\\mu_0 |e|\\left(T_{\\text{ion}} + T_e \\right)}$"
   ]
  },
  {
   "cell_type": "code",
   "execution_count": 91,
   "id": "f69a3b18",
   "metadata": {},
   "outputs": [],
   "source": [
    "n_plug = B_p ** 2 * beta / (2 * const.mu_0 * const.e * (Ti + Te))"
   ]
  },
  {
   "cell_type": "markdown",
   "id": "8c0f4304",
   "metadata": {},
   "source": [
    "Total particle number: $N_{\\text{tot}} = V_p n_{\\text{plug}}$"
   ]
  },
  {
   "cell_type": "code",
   "execution_count": 92,
   "id": "b9da7c84",
   "metadata": {
    "scrolled": true
   },
   "outputs": [
    {
     "data": {
      "text/latex": [
       "$\\displaystyle \\frac{\\pi B_{m} B_{p} L_{p} \\beta r_{b}^{2}}{3.58377107825779 \\cdot 10^{-26} Eb \\log{\\left(\\frac{Rp}{1 - \\beta} \\right)}^{0.4} + 2.68447271779609 \\cdot 10^{-25} Eb}$"
      ],
      "text/plain": [
       "pi*B_m*B_p*L_p*beta*r_b**2/(3.58377107825779e-26*Eb*log(Rp/(1 - beta))**0.4 + 2.68447271779609e-25*Eb)"
      ]
     },
     "execution_count": 92,
     "metadata": {},
     "output_type": "execute_result"
    }
   ],
   "source": [
    "N_tot = V_p * n_plug; N_tot"
   ]
  },
  {
   "cell_type": "markdown",
   "id": "a89bc69b",
   "metadata": {},
   "source": [
    "**General formula:** Particle conefinement time $\\tau_{\\text{Fowler/Baldwin}} = 2.8 \\cdot 10^{12} \\frac{E_b^{3/2}}{n_e} \\log R_m$"
   ]
  },
  {
   "cell_type": "code",
   "execution_count": 94,
   "id": "f5b51ba9",
   "metadata": {},
   "outputs": [
    {
     "data": {
      "text/latex": [
       "$\\displaystyle \\frac{2800000000000.0 Eb^{1.5} \\cdot \\left(3.58377107825779 \\cdot 10^{-26} Eb \\log{\\left(\\frac{Rp}{1 - \\beta} \\right)}^{0.4} + 2.68447271779609 \\cdot 10^{-25} Eb\\right) \\log{\\left(Rp \\right)}}{B_{p}^{2} \\beta}$"
      ],
      "text/plain": [
       "2800000000000.0*Eb**1.5*(3.58377107825779e-26*Eb*log(Rp/(1 - beta))**0.4 + 2.68447271779609e-25*Eb)*log(Rp)/(B_p**2*beta)"
      ]
     },
     "execution_count": 94,
     "metadata": {},
     "output_type": "execute_result"
    }
   ],
   "source": [
    "tau_Fowler_Baldwin = 2.8 * 10 ** 12 * Eb ** (3/2) / n_plug * sympy.log(Rp); tau_Fowler_Baldwin"
   ]
  },
  {
   "cell_type": "markdown",
   "id": "1227eabe",
   "metadata": {},
   "source": [
    "Particles lost per second: $\\frac{dN}{dt} = \\frac{N_{\\text{tot}}}{\\tau_{\\text{Fowler/Baldwin}}}$"
   ]
  },
  {
   "cell_type": "code",
   "execution_count": 95,
   "id": "d7060fae",
   "metadata": {},
   "outputs": [
    {
     "data": {
      "text/latex": [
       "$\\displaystyle \\frac{3.57142857142857 \\cdot 10^{-13} \\pi B_{m} B_{p}^{3} L_{p} \\beta^{2} r_{b}^{2} \\cdot \\frac{1.38765661654981 \\cdot 10^{49}}{\\left(0.1335 Eb \\log{\\left(\\frac{Rp}{1 - \\beta} \\right)}^{0.4} + Eb\\right)^{2}}}{Eb^{1.5} \\log{\\left(Rp \\right)}}$"
      ],
      "text/plain": [
       "3.57142857142857e-13*pi*B_m*B_p**3*L_p*beta**2*r_b**2*(1.38765661654981e+49/(0.1335*Eb*log(Rp/(1 - beta))**0.4 + Eb)**2)/(Eb**1.5*log(Rp))"
      ]
     },
     "execution_count": 95,
     "metadata": {},
     "output_type": "execute_result"
    }
   ],
   "source": [
    "dN_dt = N_tot / tau_Fowler_Baldwin; dN_dt"
   ]
  },
  {
   "cell_type": "markdown",
   "id": "5f758ecd",
   "metadata": {},
   "source": [
    "**General formula:** Ion gyroradius at center of the plug: $\\rho_i = \\frac{m v_\\perp}{q B} = 3.22\\cdot 10^{-3} \\frac{\\sqrt{\\mu E_{\\text{ion}}}}{B_p}$"
   ]
  },
  {
   "cell_type": "code",
   "execution_count": 102,
   "id": "384e345e",
   "metadata": {},
   "outputs": [
    {
     "data": {
      "text/latex": [
       "$\\displaystyle \\frac{0.00322 \\sqrt{E_{i} \\mu}}{B_{p}}$"
      ],
      "text/plain": [
       "0.00322*sqrt(E_i*mu)/B_p"
      ]
     },
     "execution_count": 102,
     "metadata": {},
     "output_type": "execute_result"
    }
   ],
   "source": [
    "rho_i = 3.22 * 10 ** -3 * sympy.sqrt(mu * E_i) / B_p; rho_i"
   ]
  },
  {
   "cell_type": "markdown",
   "id": "fb09ae95",
   "metadata": {},
   "source": [
    "Number of gryoradii in the plasma radius: $N_{\\text{gyro}} = \\frac{a_p}{\\rho_i}$"
   ]
  },
  {
   "cell_type": "code",
   "execution_count": 103,
   "id": "3107df2a",
   "metadata": {},
   "outputs": [
    {
     "data": {
      "text/latex": [
       "$\\displaystyle \\frac{310.55900621118 B_{p} r_{b} \\sqrt{\\frac{B_{m}}{B_{p}}}}{\\sqrt{E_{i} \\mu}}$"
      ],
      "text/plain": [
       "310.55900621118*B_p*r_b*sqrt(B_m/B_p)/sqrt(E_i*mu)"
      ]
     },
     "execution_count": 103,
     "metadata": {},
     "output_type": "execute_result"
    }
   ],
   "source": [
    "N_gyro = a_plug / rho_i; N_gyro"
   ]
  },
  {
   "cell_type": "markdown",
   "id": "9f8028e9",
   "metadata": {},
   "source": [
    "NBI current (A): $I_{\\text{NBI}}=|e|\\frac{dN}{dt}$"
   ]
  },
  {
   "cell_type": "code",
   "execution_count": 104,
   "id": "31a01987",
   "metadata": {},
   "outputs": [
    {
     "data": {
      "text/latex": [
       "$\\displaystyle \\frac{7.94025359661286 \\cdot 10^{17} \\pi B_{m} B_{p}^{3} L_{p} \\beta^{2} r_{b}^{2}}{Eb^{1.5} \\left(0.1335 Eb \\log{\\left(\\frac{Rp}{1 - \\beta} \\right)}^{0.4} + Eb\\right)^{2} \\log{\\left(Rp \\right)}}$"
      ],
      "text/plain": [
       "7.94025359661286e+17*pi*B_m*B_p**3*L_p*beta**2*r_b**2/(Eb**1.5*(0.1335*Eb*log(Rp/(1 - beta))**0.4 + Eb)**2*log(Rp))"
      ]
     },
     "execution_count": 104,
     "metadata": {},
     "output_type": "execute_result"
    }
   ],
   "source": [
    "I_NBI = const.elementary_charge * dN_dt; I_NBI"
   ]
  },
  {
   "cell_type": "markdown",
   "id": "40c00c73",
   "metadata": {},
   "source": [
    "**General formula:** Coulomb logarithms: $\\lambda_{ei} = 24 - 0.5\\ln{n_e} + \\ln{T_e}$"
   ]
  },
  {
   "cell_type": "code",
   "execution_count": 105,
   "id": "48fb0141",
   "metadata": {},
   "outputs": [
    {
     "data": {
      "text/latex": [
       "$\\displaystyle \\log{\\left(0.089 Eb \\log{\\left(\\frac{Rp}{1 - \\beta} \\right)}^{0.4} \\right)} - 0.5 \\log{\\left(\\frac{B_{p}^{2} \\beta}{3.58377107825779 \\cdot 10^{-26} Eb \\log{\\left(\\frac{Rp}{1 - \\beta} \\right)}^{0.4} + 2.68447271779609 \\cdot 10^{-25} Eb} \\right)} + 24$"
      ],
      "text/plain": [
       "log(0.089*Eb*log(Rp/(1 - beta))**0.4) - 0.5*log(B_p**2*beta/(3.58377107825779e-26*Eb*log(Rp/(1 - beta))**0.4 + 2.68447271779609e-25*Eb)) + 24"
      ]
     },
     "execution_count": 105,
     "metadata": {},
     "output_type": "execute_result"
    }
   ],
   "source": [
    "lambda_ei = 24 - 0.5 * sympy.log(n_plug) + sympy.log(Te); lambda_ei"
   ]
  },
  {
   "cell_type": "markdown",
   "id": "c3b797cc",
   "metadata": {},
   "source": [
    "**General formula:** Slowing down times: $\\tau_{i,\\text{slow}} = 0.1 \\frac{\\mu T_e^{3/2}}{n_{20} Z^2 \\lambda_{ei}}$"
   ]
  },
  {
   "cell_type": "code",
   "execution_count": 122,
   "id": "fd791b67",
   "metadata": {},
   "outputs": [
    {
     "data": {
      "text/latex": [
       "$\\displaystyle \\frac{2.65512523245138 \\cdot 10^{17} \\mu \\left(Eb \\log{\\left(\\frac{Rp}{1 - \\beta} \\right)}^{0.4}\\right)^{1.5} \\cdot \\left(3.58377107825779 \\cdot 10^{-26} Eb \\log{\\left(\\frac{Rp}{1 - \\beta} \\right)}^{0.4} + 2.68447271779609 \\cdot 10^{-25} Eb\\right)}{B_{p}^{2} Z_{eff}^{2} \\beta \\left(\\log{\\left(0.089 Eb \\log{\\left(\\frac{Rp}{1 - \\beta} \\right)}^{0.4} \\right)} - 0.5 \\log{\\left(\\frac{B_{p}^{2} \\beta}{3.58377107825779 \\cdot 10^{-26} Eb \\log{\\left(\\frac{Rp}{1 - \\beta} \\right)}^{0.4} + 2.68447271779609 \\cdot 10^{-25} Eb} \\right)} + 24\\right)}$"
      ],
      "text/plain": [
       "2.65512523245138e+17*mu*(Eb*log(Rp/(1 - beta))**0.4)**1.5*(3.58377107825779e-26*Eb*log(Rp/(1 - beta))**0.4 + 2.68447271779609e-25*Eb)/(B_p**2*Z_eff**2*beta*(log(0.089*Eb*log(Rp/(1 - beta))**0.4) - 0.5*log(B_p**2*beta/(3.58377107825779e-26*Eb*log(Rp/(1 - beta))**0.4 + 2.68447271779609e-25*Eb)) + 24))"
      ]
     },
     "execution_count": 122,
     "metadata": {},
     "output_type": "execute_result"
    }
   ],
   "source": [
    "tau_i_slow = 0.1 * mu * Te ** (3/2) / (n_plug / 10 ** 20 * Z_eff ** 2 * lambda_ei); tau_i_slow"
   ]
  },
  {
   "cell_type": "markdown",
   "id": "20669179",
   "metadata": {},
   "source": [
    "Electron heating by fast ions (MW): $10^{-3}\\frac{I_{\\text{NBI}}E_b}{\\tau_{\\text{slow}}}$"
   ]
  },
  {
   "cell_type": "code",
   "execution_count": 133,
   "id": "2fc92fba",
   "metadata": {},
   "outputs": [
    {
     "data": {
      "text/latex": [
       "$\\displaystyle \\frac{0.00299053826145967 \\pi B_{m} B_{p}^{5} L_{p} Z_{eff}^{2} \\beta^{3} r_{b}^{2} \\left(\\log{\\left(0.089 Eb \\log{\\left(\\frac{Rp}{1 - \\beta} \\right)}^{0.4} \\right)} - 0.5 \\log{\\left(\\frac{B_{p}^{2} \\beta}{3.58377107825779 \\cdot 10^{-26} Eb \\log{\\left(\\frac{Rp}{1 - \\beta} \\right)}^{0.4} + 2.68447271779609 \\cdot 10^{-25} Eb} \\right)} + 24\\right)}{Eb^{0.5} \\mu \\left(Eb \\log{\\left(\\frac{Rp}{1 - \\beta} \\right)}^{0.4}\\right)^{1.5} \\cdot \\left(3.58377107825779 \\cdot 10^{-26} Eb \\log{\\left(\\frac{Rp}{1 - \\beta} \\right)}^{0.4} + 2.68447271779609 \\cdot 10^{-25} Eb\\right) \\left(0.1335 Eb \\log{\\left(\\frac{Rp}{1 - \\beta} \\right)}^{0.4} + Eb\\right)^{2} \\log{\\left(Rp \\right)}}$"
      ],
      "text/plain": [
       "0.00299053826145967*pi*B_m*B_p**5*L_p*Z_eff**2*beta**3*r_b**2*(log(0.089*Eb*log(Rp/(1 - beta))**0.4) - 0.5*log(B_p**2*beta/(3.58377107825779e-26*Eb*log(Rp/(1 - beta))**0.4 + 2.68447271779609e-25*Eb)) + 24)/(Eb**0.5*mu*(Eb*log(Rp/(1 - beta))**0.4)**1.5*(3.58377107825779e-26*Eb*log(Rp/(1 - beta))**0.4 + 2.68447271779609e-25*Eb)*(0.1335*Eb*log(Rp/(1 - beta))**0.4 + Eb)**2*log(Rp))"
      ]
     },
     "execution_count": 133,
     "metadata": {},
     "output_type": "execute_result"
    }
   ],
   "source": [
    "P_e_heating_fastI = 10 ** -3 * I_NBI * Eb / tau_i_slow; P_e_heating_fastI"
   ]
  },
  {
   "cell_type": "markdown",
   "id": "86999535",
   "metadata": {},
   "source": [
    "**General formula:** Lorentz factor: $\\gamma = \\sqrt{1 - \\frac{T_e}{m_e c^2}} = \\sqrt{1 - \\frac{T_e}{511 \\text{keV}}}$"
   ]
  },
  {
   "cell_type": "code",
   "execution_count": 124,
   "id": "6e809602",
   "metadata": {},
   "outputs": [
    {
     "data": {
      "text/latex": [
       "$\\displaystyle \\sqrt{- 0.000174168297455969 Eb \\log{\\left(\\frac{Rp}{1 - \\beta} \\right)}^{0.4} + 1}$"
      ],
      "text/plain": [
       "sqrt(-0.000174168297455969*Eb*log(Rp/(1 - beta))**0.4 + 1)"
      ]
     },
     "execution_count": 124,
     "metadata": {},
     "output_type": "execute_result"
    }
   ],
   "source": [
    "gamma = sympy.sqrt(1 - Te / 511); gamma"
   ]
  },
  {
   "cell_type": "markdown",
   "id": "d6a42023",
   "metadata": {},
   "source": [
    "Synchrotron radiation power loss (MW): $ P_{\\text{synch}} = 6\\cdot10^{-3} V_p n_{20} T_e \\gamma^2 B_p^2$"
   ]
  },
  {
   "cell_type": "code",
   "execution_count": 125,
   "id": "cf734f72",
   "metadata": {},
   "outputs": [
    {
     "data": {
      "text/latex": [
       "$\\displaystyle \\frac{5.34 \\cdot 10^{-24} \\pi B_{m} B_{p}^{3} Eb L_{p} \\beta r_{b}^{2} \\left(- 0.000174168297455969 Eb \\log{\\left(\\frac{Rp}{1 - \\beta} \\right)}^{0.4} + 1\\right) \\log{\\left(\\frac{Rp}{1 - \\beta} \\right)}^{0.4}}{3.58377107825779 \\cdot 10^{-26} Eb \\log{\\left(\\frac{Rp}{1 - \\beta} \\right)}^{0.4} + 2.68447271779609 \\cdot 10^{-25} Eb}$"
      ],
      "text/plain": [
       "5.34e-24*pi*B_m*B_p**3*Eb*L_p*beta*r_b**2*(-0.000174168297455969*Eb*log(Rp/(1 - beta))**0.4 + 1)*log(Rp/(1 - beta))**0.4/(3.58377107825779e-26*Eb*log(Rp/(1 - beta))**0.4 + 2.68447271779609e-25*Eb)"
      ]
     },
     "execution_count": 125,
     "metadata": {},
     "output_type": "execute_result"
    }
   ],
   "source": [
    "P_synch = 6 * 10 ** -3 * V_p * n_plug / 10 ** 20 * Te * gamma ** 2 * B_p ** 2; P_synch"
   ]
  },
  {
   "cell_type": "markdown",
   "id": "4ffabad8",
   "metadata": {},
   "source": [
    "Bremsstrahlung radiation power loss (MW): $P_{\\text{brem}} = 5.35\\cdot10^{-3} n_{20}^2 Z_{\\text{eff}}\\sqrt{T_e} V_p$"
   ]
  },
  {
   "cell_type": "code",
   "execution_count": 127,
   "id": "9ecbe7e6",
   "metadata": {},
   "outputs": [
    {
     "data": {
      "text/latex": [
       "$\\displaystyle \\frac{2214781.03558431 \\pi B_{m} B_{p}^{3} L_{p} Z_{eff} \\beta^{2} r_{b}^{2} \\sqrt{Eb \\log{\\left(\\frac{Rp}{1 - \\beta} \\right)}^{0.4}}}{\\left(0.1335 Eb \\log{\\left(\\frac{Rp}{1 - \\beta} \\right)}^{0.4} + Eb\\right)^{2}}$"
      ],
      "text/plain": [
       "2214781.03558431*pi*B_m*B_p**3*L_p*Z_eff*beta**2*r_b**2*sqrt(Eb*log(Rp/(1 - beta))**0.4)/(0.1335*Eb*log(Rp/(1 - beta))**0.4 + Eb)**2"
      ]
     },
     "execution_count": 127,
     "metadata": {},
     "output_type": "execute_result"
    }
   ],
   "source": [
    "P_brem = 5.35 * 10 ** -3 * (n_plug / 10 ** 20) ** 2 * Z_eff * sympy.sqrt(Te) * V_p; P_brem"
   ]
  },
  {
   "cell_type": "markdown",
   "id": "eb569c22",
   "metadata": {},
   "source": [
    "Power loss from escaping electrons (MW): $P_{\\text{e,endloss}} = 10^{-3}(I_{\\text{NBI}}+I_{\\text{cooling}})\\cdot 7 T_e$"
   ]
  },
  {
   "cell_type": "code",
   "execution_count": 129,
   "id": "0c55b4a7",
   "metadata": {},
   "outputs": [
    {
     "data": {
      "text/latex": [
       "$\\displaystyle 0.089 Eb \\left(\\frac{5.55817751762901 \\cdot 10^{15} \\pi B_{m} B_{p}^{3} L_{p} \\beta^{2} r_{b}^{2}}{Eb^{1.5} \\left(0.1335 Eb \\log{\\left(\\frac{Rp}{1 - \\beta} \\right)}^{0.4} + Eb\\right)^{2} \\log{\\left(Rp \\right)}} + 0.007 I_{cooling}\\right) \\log{\\left(\\frac{Rp}{1 - \\beta} \\right)}^{0.4}$"
      ],
      "text/plain": [
       "0.089*Eb*(5.55817751762901e+15*pi*B_m*B_p**3*L_p*beta**2*r_b**2/(Eb**1.5*(0.1335*Eb*log(Rp/(1 - beta))**0.4 + Eb)**2*log(Rp)) + 0.007*I_cooling)*log(Rp/(1 - beta))**0.4"
      ]
     },
     "execution_count": 129,
     "metadata": {},
     "output_type": "execute_result"
    }
   ],
   "source": [
    "P_e_endloss = 10 ** -3 * (I_NBI + I_cooling) * 7 * Te; P_e_endloss"
   ]
  },
  {
   "cell_type": "markdown",
   "id": "8ef6df7c",
   "metadata": {},
   "source": [
    "Power loss from escaping fast ions (MW): $P_{\\text{i,endloss}} = 10^{-3} I_{\\text{NBI}} \\left(E_b-T_e\\right)$"
   ]
  },
  {
   "cell_type": "code",
   "execution_count": 131,
   "id": "ad0b5f3b",
   "metadata": {},
   "outputs": [
    {
     "data": {
      "text/latex": [
       "$\\displaystyle \\frac{794025359661286.0 \\pi B_{m} B_{p}^{3} L_{p} \\beta^{2} r_{b}^{2} \\left(- 0.089 Eb \\log{\\left(\\frac{Rp}{1 - \\beta} \\right)}^{0.4} + Eb\\right)}{Eb^{1.5} \\left(0.1335 Eb \\log{\\left(\\frac{Rp}{1 - \\beta} \\right)}^{0.4} + Eb\\right)^{2} \\log{\\left(Rp \\right)}}$"
      ],
      "text/plain": [
       "794025359661286.0*pi*B_m*B_p**3*L_p*beta**2*r_b**2*(-0.089*Eb*log(Rp/(1 - beta))**0.4 + Eb)/(Eb**1.5*(0.1335*Eb*log(Rp/(1 - beta))**0.4 + Eb)**2*log(Rp))"
      ]
     },
     "execution_count": 131,
     "metadata": {},
     "output_type": "execute_result"
    }
   ],
   "source": [
    "P_i_endloss = 10 ** -3 * I_NBI * (Eb - Te); P_i_endloss"
   ]
  },
  {
   "cell_type": "markdown",
   "id": "3e64f652",
   "metadata": {},
   "source": [
    "Injected NBI Power (MW): $P_{\\text{NBI}} = 10^{-3}I_{\\text{NBI}} E_b$"
   ]
  },
  {
   "cell_type": "code",
   "execution_count": 132,
   "id": "c3519d13",
   "metadata": {},
   "outputs": [
    {
     "data": {
      "text/latex": [
       "$\\displaystyle \\frac{794025359661286.0 \\pi B_{m} B_{p}^{3} L_{p} \\beta^{2} r_{b}^{2}}{Eb^{0.5} \\left(0.1335 Eb \\log{\\left(\\frac{Rp}{1 - \\beta} \\right)}^{0.4} + Eb\\right)^{2} \\log{\\left(Rp \\right)}}$"
      ],
      "text/plain": [
       "794025359661286.0*pi*B_m*B_p**3*L_p*beta**2*r_b**2/(Eb**0.5*(0.1335*Eb*log(Rp/(1 - beta))**0.4 + Eb)**2*log(Rp))"
      ]
     },
     "execution_count": 132,
     "metadata": {},
     "output_type": "execute_result"
    }
   ],
   "source": [
    "P_NBI = 10 ** -3 * I_NBI * Eb; P_NBI"
   ]
  },
  {
   "cell_type": "markdown",
   "id": "30c5c1cb",
   "metadata": {},
   "source": [
    "Injected ECH Power (MW): $P_{\\text{ECH}} = \\frac{P_{\\text{synch}}}{20} +P_{\\text{e,endloss}} - \\left(\\text{Electron heating from fast ions}\\right)$"
   ]
  },
  {
   "cell_type": "code",
   "execution_count": 135,
   "id": "a1298a74",
   "metadata": {},
   "outputs": [
    {
     "data": {
      "text/latex": [
       "$\\displaystyle - \\frac{0.00299053826145967 \\pi B_{m} B_{p}^{5} L_{p} Z_{eff}^{2} \\beta^{3} r_{b}^{2} \\left(\\log{\\left(0.089 Eb \\log{\\left(\\frac{Rp}{1 - \\beta} \\right)}^{0.4} \\right)} - 0.5 \\log{\\left(\\frac{B_{p}^{2} \\beta}{3.58377107825779 \\cdot 10^{-26} Eb \\log{\\left(\\frac{Rp}{1 - \\beta} \\right)}^{0.4} + 2.68447271779609 \\cdot 10^{-25} Eb} \\right)} + 24\\right)}{Eb^{0.5} \\mu \\left(Eb \\log{\\left(\\frac{Rp}{1 - \\beta} \\right)}^{0.4}\\right)^{1.5} \\cdot \\left(3.58377107825779 \\cdot 10^{-26} Eb \\log{\\left(\\frac{Rp}{1 - \\beta} \\right)}^{0.4} + 2.68447271779609 \\cdot 10^{-25} Eb\\right) \\left(0.1335 Eb \\log{\\left(\\frac{Rp}{1 - \\beta} \\right)}^{0.4} + Eb\\right)^{2} \\log{\\left(Rp \\right)}} + \\frac{2.67 \\cdot 10^{-25} \\pi B_{m} B_{p}^{3} Eb L_{p} \\beta r_{b}^{2} \\left(- 0.000174168297455969 Eb \\log{\\left(\\frac{Rp}{1 - \\beta} \\right)}^{0.4} + 1\\right) \\log{\\left(\\frac{Rp}{1 - \\beta} \\right)}^{0.4}}{3.58377107825779 \\cdot 10^{-26} Eb \\log{\\left(\\frac{Rp}{1 - \\beta} \\right)}^{0.4} + 2.68447271779609 \\cdot 10^{-25} Eb} + 0.089 Eb \\left(\\frac{5.55817751762901 \\cdot 10^{15} \\pi B_{m} B_{p}^{3} L_{p} \\beta^{2} r_{b}^{2}}{Eb^{1.5} \\left(0.1335 Eb \\log{\\left(\\frac{Rp}{1 - \\beta} \\right)}^{0.4} + Eb\\right)^{2} \\log{\\left(Rp \\right)}} + 0.007 I_{cooling}\\right) \\log{\\left(\\frac{Rp}{1 - \\beta} \\right)}^{0.4}$"
      ],
      "text/plain": [
       "-0.00299053826145967*pi*B_m*B_p**5*L_p*Z_eff**2*beta**3*r_b**2*(log(0.089*Eb*log(Rp/(1 - beta))**0.4) - 0.5*log(B_p**2*beta/(3.58377107825779e-26*Eb*log(Rp/(1 - beta))**0.4 + 2.68447271779609e-25*Eb)) + 24)/(Eb**0.5*mu*(Eb*log(Rp/(1 - beta))**0.4)**1.5*(3.58377107825779e-26*Eb*log(Rp/(1 - beta))**0.4 + 2.68447271779609e-25*Eb)*(0.1335*Eb*log(Rp/(1 - beta))**0.4 + Eb)**2*log(Rp)) + 2.67e-25*pi*B_m*B_p**3*Eb*L_p*beta*r_b**2*(-0.000174168297455969*Eb*log(Rp/(1 - beta))**0.4 + 1)*log(Rp/(1 - beta))**0.4/(3.58377107825779e-26*Eb*log(Rp/(1 - beta))**0.4 + 2.68447271779609e-25*Eb) + 0.089*Eb*(5.55817751762901e+15*pi*B_m*B_p**3*L_p*beta**2*r_b**2/(Eb**1.5*(0.1335*Eb*log(Rp/(1 - beta))**0.4 + Eb)**2*log(Rp)) + 0.007*I_cooling)*log(Rp/(1 - beta))**0.4"
      ]
     },
     "execution_count": 135,
     "metadata": {},
     "output_type": "execute_result"
    }
   ],
   "source": [
    "P_ECH = P_synch / 20 + P_e_endloss - P_e_heating_fastI; P_ECH"
   ]
  },
  {
   "cell_type": "markdown",
   "id": "ed4ff684",
   "metadata": {},
   "source": [
    "DT fusion reaction rate (#/s). Here we assume a 50-50 DT fuel mixture: $R_{\\text{x,plug,DT}}=V_p \\frac{n_{\\text{plug}}^2}{4} \\langle\\sigma v\\rangle_{DT}$"
   ]
  },
  {
   "cell_type": "code",
   "execution_count": 138,
   "id": "d9288c59",
   "metadata": {},
   "outputs": [
    {
     "data": {
      "text/latex": [
       "$\\displaystyle \\frac{3.46914154137452 \\cdot 10^{48} \\pi B_{m} B_{p}^{3} L_{p} \\beta^{2} r_{b}^{2} sigmav_{DT}}{\\left(0.1335 Eb \\log{\\left(\\frac{Rp}{1 - \\beta} \\right)}^{0.4} + Eb\\right)^{2}}$"
      ],
      "text/plain": [
       "3.46914154137452e+48*pi*B_m*B_p**3*L_p*beta**2*r_b**2*sigmav_DT/(0.1335*Eb*log(Rp/(1 - beta))**0.4 + Eb)**2"
      ]
     },
     "execution_count": 138,
     "metadata": {},
     "output_type": "execute_result"
    }
   ],
   "source": [
    "Rx_plug_DT = V_p * n_plug ** 2 / 4 * sigmav_DT; Rx_plug_DT"
   ]
  },
  {
   "cell_type": "markdown",
   "id": "92c524fa",
   "metadata": {},
   "source": [
    "DD fusion reaction rate (#/s). Here we assume a 50-50 DT fuel mixture: $R_{\\text{x,plug,DD}}=V_p n_{\\text{plug}}^2 \\langle\\sigma v\\rangle_{DD}$"
   ]
  },
  {
   "cell_type": "code",
   "execution_count": 139,
   "id": "2690582c",
   "metadata": {},
   "outputs": [
    {
     "data": {
      "text/latex": [
       "$\\displaystyle \\frac{1.38765661654981 \\cdot 10^{49} \\pi B_{m} B_{p}^{3} L_{p} \\beta^{2} r_{b}^{2} sigmav_{DD}}{\\left(0.1335 Eb \\log{\\left(\\frac{Rp}{1 - \\beta} \\right)}^{0.4} + Eb\\right)^{2}}$"
      ],
      "text/plain": [
       "1.38765661654981e+49*pi*B_m*B_p**3*L_p*beta**2*r_b**2*sigmav_DD/(0.1335*Eb*log(Rp/(1 - beta))**0.4 + Eb)**2"
      ]
     },
     "execution_count": 139,
     "metadata": {},
     "output_type": "execute_result"
    }
   ],
   "source": [
    "Rx_plug_DD = V_p * n_plug ** 2 * sigmav_DD; Rx_plug_DD"
   ]
  },
  {
   "cell_type": "markdown",
   "id": "68c132cb",
   "metadata": {},
   "source": [
    "Fusion power (MW): $P_{\\text{plug}}=17.6|e|R_{\\text{x,plug}}$ -- we're just focusing on DT for now. Including DD it'd be: $P_{\\text{plug}}=17.6|e|R_{\\text{x,plug,DT}} + \\frac{4.03+3.27}{2}|e|R_{\\text{x,plug,DD}}$"
   ]
  },
  {
   "cell_type": "code",
   "execution_count": 140,
   "id": "659a6acf",
   "metadata": {},
   "outputs": [
    {
     "data": {
      "text/latex": [
       "$\\displaystyle \\frac{9.78239243102705 \\cdot 10^{30} \\pi B_{m} B_{p}^{3} L_{p} \\beta^{2} r_{b}^{2} sigmav_{DT}}{\\left(0.1335 Eb \\log{\\left(\\frac{Rp}{1 - \\beta} \\right)}^{0.4} + Eb\\right)^{2}}$"
      ],
      "text/plain": [
       "9.78239243102705e+30*pi*B_m*B_p**3*L_p*beta**2*r_b**2*sigmav_DT/(0.1335*Eb*log(Rp/(1 - beta))**0.4 + Eb)**2"
      ]
     },
     "execution_count": 140,
     "metadata": {},
     "output_type": "execute_result"
    }
   ],
   "source": [
    "P_fus_plug = 17.6 * const.elementary_charge * Rx_plug_DT; P_fus_plug"
   ]
  },
  {
   "cell_type": "markdown",
   "id": "182fa6a9",
   "metadata": {},
   "source": [
    "Lawson Triple Product ($10^{20}$keV$\\cdot$s/m$^3$): $\\tau_{\\text{Fowler/Baldwin}} n_{20} T_i$"
   ]
  },
  {
   "cell_type": "code",
   "execution_count": 142,
   "id": "6f84c424",
   "metadata": {
    "scrolled": true
   },
   "outputs": [
    {
     "data": {
      "text/latex": [
       "$\\displaystyle 1.86666666666667 \\cdot 10^{-8} Eb^{2.5} \\log{\\left(Rp \\right)}$"
      ],
      "text/plain": [
       "1.86666666666667e-8*Eb**2.5*log(Rp)"
      ]
     },
     "execution_count": 142,
     "metadata": {},
     "output_type": "execute_result"
    }
   ],
   "source": [
    "triple_product = tau_Fowler_Baldwin * n_plug / 10 ** 20 * Ti; triple_product"
   ]
  },
  {
   "cell_type": "markdown",
   "id": "e899775f",
   "metadata": {},
   "source": [
    "Neutron Flux, DT only (MW/m$^2$): $\\frac{14}{17.6}\\frac{P_{\\text{plug}}}{4\\pi a_{\\text{wall}}^2}$"
   ]
  },
  {
   "cell_type": "code",
   "execution_count": 143,
   "id": "5eaecea8",
   "metadata": {},
   "outputs": [
    {
     "data": {
      "text/latex": [
       "$\\displaystyle \\frac{6.19227998559027 \\cdot 10^{29} \\pi B_{p}^{4} L_{p} \\beta^{2} sigmav_{DT}}{\\left(0.1335 Eb \\log{\\left(\\frac{Rp}{1 - \\beta} \\right)}^{0.4} + Eb\\right)^{2}}$"
      ],
      "text/plain": [
       "6.19227998559027e+29*pi*B_p**4*L_p*beta**2*sigmav_DT/(0.1335*Eb*log(Rp/(1 - beta))**0.4 + Eb)**2"
      ]
     },
     "execution_count": 143,
     "metadata": {},
     "output_type": "execute_result"
    }
   ],
   "source": [
    "neutron_flux = 14 / 17.6 * P_fus_plug / (4 * const.pi * a_plug ** 2); neutron_flux"
   ]
  },
  {
   "cell_type": "markdown",
   "id": "ebd9bb09",
   "metadata": {},
   "source": [
    "Burnup fraction, DT: $\\frac{R_{\\text{x,plug,DT}}}{dN/dt}$"
   ]
  },
  {
   "cell_type": "code",
   "execution_count": 144,
   "id": "a82a3574",
   "metadata": {},
   "outputs": [
    {
     "data": {
      "text/latex": [
       "$\\displaystyle 700000000000.0 Eb^{1.5} sigmav_{DT} \\log{\\left(Rp \\right)}$"
      ],
      "text/plain": [
       "700000000000.0*Eb**1.5*sigmav_DT*log(Rp)"
      ]
     },
     "execution_count": 144,
     "metadata": {},
     "output_type": "execute_result"
    }
   ],
   "source": [
    "frac_burnup = Rx_plug_DT / dN_dt; frac_burnup"
   ]
  },
  {
   "cell_type": "markdown",
   "id": "001ad16c",
   "metadata": {},
   "source": [
    "$Q_{\\text{plug}}$: $Q_{\\text{plug}} = \\frac{P_{\\text{plug}}}{P_{\\text{injected}}}$"
   ]
  },
  {
   "cell_type": "code",
   "execution_count": 146,
   "id": "b9eee494",
   "metadata": {},
   "outputs": [
    {
     "data": {
      "text/latex": [
       "$\\displaystyle 1.232 \\cdot 10^{16} Eb^{0.5} sigmav_{DT} \\log{\\left(Rp \\right)}$"
      ],
      "text/plain": [
       "1.232e+16*Eb**0.5*sigmav_DT*log(Rp)"
      ]
     },
     "execution_count": 146,
     "metadata": {},
     "output_type": "execute_result"
    }
   ],
   "source": [
    "Q_plug = P_fus_plug / P_NBI; Q_plug"
   ]
  },
  {
   "cell_type": "markdown",
   "id": "6f665db3",
   "metadata": {},
   "source": [
    "$\\alpha$ particle density ($10^{20}m^{-3}$): $n_{\\alpha} = \\frac{I_{\\text{NBI}} Q_{\\text{plug}} \\tau_{\\alpha} E_b}{16 V_p E_{\\alpha}}$"
   ]
  },
  {
   "cell_type": "code",
   "execution_count": 150,
   "id": "9c5f7076",
   "metadata": {},
   "outputs": [
    {
     "data": {
      "text/latex": [
       "$\\displaystyle \\frac{1.74685579125483 \\cdot 10^{32} B_{p}^{4} E_{b} \\beta^{2} sigmav_{DT} \\tau_{\\alpha}}{Eb^{1.0} \\left(0.1335 Eb \\log{\\left(\\frac{Rp}{1 - \\beta} \\right)}^{0.4} + Eb\\right)^{2}}$"
      ],
      "text/plain": [
       "1.74685579125483e+32*B_p**4*E_{b}*beta**2*sigmav_DT*tau_alpha/(Eb**1.0*(0.1335*Eb*log(Rp/(1 - beta))**0.4 + Eb)**2)"
      ]
     },
     "execution_count": 150,
     "metadata": {},
     "output_type": "execute_result"
    }
   ],
   "source": [
    "n_alpha = I_NBI * Q_plug * tau_alpha * E_b / (16 * V_p * E_alpha); n_alpha"
   ]
  },
  {
   "cell_type": "markdown",
   "id": "aa36bc52",
   "metadata": {},
   "source": [
    "$Z_{\\text{eff}}$: $Z_{\\text{eff}} = 1 +2n_{\\alpha}$"
   ]
  },
  {
   "cell_type": "code",
   "execution_count": 151,
   "id": "9597887b",
   "metadata": {},
   "outputs": [
    {
     "data": {
      "text/latex": [
       "$\\displaystyle \\frac{3.49371158250966 \\cdot 10^{32} B_{p}^{4} E_{b} \\beta^{2} sigmav_{DT} \\tau_{\\alpha}}{Eb^{1.0} \\left(0.1335 Eb \\log{\\left(\\frac{Rp}{1 - \\beta} \\right)}^{0.4} + Eb\\right)^{2}} + 1$"
      ],
      "text/plain": [
       "3.49371158250966e+32*B_p**4*E_{b}*beta**2*sigmav_DT*tau_alpha/(Eb**1.0*(0.1335*Eb*log(Rp/(1 - beta))**0.4 + Eb)**2) + 1"
      ]
     },
     "execution_count": 151,
     "metadata": {},
     "output_type": "execute_result"
    }
   ],
   "source": [
    "Z_eff = 1 + 2 * n_alpha; Z_eff"
   ]
  },
  {
   "cell_type": "code",
   "execution_count": 152,
   "id": "e98f8ccd",
   "metadata": {},
   "outputs": [
    {
     "data": {
      "text/plain": [
       "{Eb, Rp, sigmav_DT}"
      ]
     },
     "execution_count": 152,
     "metadata": {},
     "output_type": "execute_result"
    }
   ],
   "source": [
    "Q_plug.free_symbols"
   ]
  },
  {
   "cell_type": "code",
   "execution_count": null,
   "id": "dd6529d4",
   "metadata": {},
   "outputs": [],
   "source": []
  }
 ],
 "metadata": {
  "kernelspec": {
   "display_name": "Python 3",
   "language": "python",
   "name": "python3"
  },
  "language_info": {
   "codemirror_mode": {
    "name": "ipython",
    "version": 3
   },
   "file_extension": ".py",
   "mimetype": "text/x-python",
   "name": "python",
   "nbconvert_exporter": "python",
   "pygments_lexer": "ipython3",
   "version": "3.8.8"
  }
 },
 "nbformat": 4,
 "nbformat_minor": 5
}
